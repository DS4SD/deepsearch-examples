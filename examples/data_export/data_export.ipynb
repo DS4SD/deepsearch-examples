{
 "cells": [
  {
   "attachments": {},
   "cell_type": "markdown",
   "id": "8ee29891",
   "metadata": {},
   "source": [
    "# Export your data\n",
    "\n",
    "In this example we demonstrate how you can export your data from a given project data\n",
    "index to JSON. To illustrate this, we first create a demo project and project data index.\n",
    "Using these resources, we then upload some documents for Deep Search to convert. This\n",
    "structured data is now easily exported to JSON.\n",
    "\n",
    "### Access required\n",
    "\n",
    "The content of this notebook requires access to Deep Search capabilities which are not\n",
    "available on the public access system.\n",
    "\n",
    "[Contact us](https://ds4sd.github.io/#unlimited-access) if you are interested in exploring\n",
    "this Deep Search capabilities."
   ]
  },
  {
   "attachments": {},
   "cell_type": "markdown",
   "id": "d9727409",
   "metadata": {},
   "source": [
    "### Authentication via stored credentials\n",
    "\n",
    "In this example, we initialize the Deep Search client from the credentials\n",
    "contained in the file `../../ds-auth.ext-v2.json`. This can be generated with\n",
    "\n",
    "```shell\n",
    "!deepsearch login --host https://deepsearch-ext-v2-535206b87b82b5365d9d6671fbc19165-0000.us-south.containers.appdomain.cloud/ --output ../../ds-auth.ext-v2.json\n",
    "```\n",
    "\n",
    "The extra `--host` argument is required in this example to target the limited access instance\n",
    "\n",
    "More details in the [docs](https://ds4sd.github.io/deepsearch-toolkit/getting_started/#authentication)."
   ]
  },
  {
   "attachments": {},
   "cell_type": "markdown",
   "id": "5d8e88b4",
   "metadata": {},
   "source": [
    "### Notebooks parameters\n",
    "\n",
    "The following block defines the parameters used to execute the notebook\n",
    "\n",
    "- `CONFIG_FILE`: location of the Deep Search configuration file\n",
    "- `PROJ_NAME`: the name for the project to create\n",
    "- `INDEX_NAME`: the name for the data index to create\n",
    "- `INPUT_FILES_FOLDER`: the files to upload\n",
    "- `CLEANUP`: if true, it will delete the resources at the end of the execution"
   ]
  },
  {
   "cell_type": "code",
   "execution_count": 1,
   "id": "13560ae0",
   "metadata": {},
   "outputs": [],
   "source": [
    "# Input parameters for the example flow\n",
    "from pathlib import Path\n",
    "import datetime\n",
    "CONFIG_FILE = Path(\"../../ds-auth.ext-v2.json\")\n",
    "\n",
    "timestamp = datetime.datetime.now()\n",
    "PROJ_NAME = f\"Example project of {timestamp.strftime('%Y%m%d')}\"\n",
    "INDEX_NAME = f\"Example docs upload {timestamp.strftime('%Y%m%d %H%M%S')}\"\n",
    "INPUT_FILES_FOLDER = Path(\"../../data/samples/\")\n",
    "\n",
    "CLEANUP = True"
   ]
  },
  {
   "attachments": {},
   "cell_type": "markdown",
   "id": "0531c9c4",
   "metadata": {},
   "source": [
    "### Import example dependencies"
   ]
  },
  {
   "cell_type": "code",
   "execution_count": 2,
   "id": "1ea3cd26",
   "metadata": {},
   "outputs": [],
   "source": [
    "# Import standard dependenices\n",
    "from copy import deepcopy\n",
    "from tqdm.notebook import tqdm\n",
    "import pandas as pd\n",
    "pd.set_option('display.max_colwidth', None)\n",
    "import json\n",
    "import tempfile\n",
    "\n",
    "# IPython utilities\n",
    "from IPython.display import display, Markdown\n",
    "\n",
    "# Import the deepsearch-toolkit\n",
    "import deepsearch as ds\n",
    "from deepsearch.cps.queries import DataQuery\n",
    "from deepsearch.cps.data_indices import utils as data_indices_utils\n"
   ]
  },
  {
   "attachments": {},
   "cell_type": "markdown",
   "id": "8f8be733",
   "metadata": {},
   "source": [
    "### Connect to Deep Search"
   ]
  },
  {
   "cell_type": "code",
   "execution_count": 3,
   "id": "fae4dee3",
   "metadata": {},
   "outputs": [],
   "source": [
    "# Initialize the Deep Search client from the config file\n",
    "config = ds.DeepSearchConfig.parse_file(CONFIG_FILE)\n",
    "client = ds.CpsApiClient(config)\n",
    "api = ds.CpsApi(client)"
   ]
  },
  {
   "attachments": {},
   "cell_type": "markdown",
   "id": "18957147",
   "metadata": {},
   "source": [
    "### Create data index and upload data"
   ]
  },
  {
   "cell_type": "code",
   "execution_count": 4,
   "id": "f5496626",
   "metadata": {},
   "outputs": [],
   "source": [
    "# Create example project\n",
    "proj = api.projects.create(name=PROJ_NAME)\n",
    "# Create a new data index in your project\n",
    "data_index = api.data_indices.create(proj_key=proj.key, name=INDEX_NAME)"
   ]
  },
  {
   "cell_type": "code",
   "execution_count": 5,
   "id": "530fd67a",
   "metadata": {},
   "outputs": [
    {
     "name": "stdout",
     "output_type": "stream",
     "text": [
      "Completed successfully\n"
     ]
    }
   ],
   "source": [
    "# Upload and convert documents\n",
    "data_indices_utils.upload_files(api=api, coords=data_index.source, local_file=INPUT_FILES_FOLDER)"
   ]
  },
  {
   "cell_type": "code",
   "execution_count": 6,
   "id": "bfe83b90",
   "metadata": {},
   "outputs": [
    {
     "data": {
      "text/markdown": [
       "The data is now available. You can query it programmatically (see next section) or access it via the Deep Search UI at <br />https://deepsearch-ext-v2-535206b87b82b5365d9d6671fbc19165-0000.us-south.containers.appdomain.cloud//projects/2fc4bda3f400dda2373418e38589dc5f283cac8a/data/project/af22219e0eaec35c6d6e26d336f25c00529e04b7/"
      ],
      "text/plain": [
       "<IPython.core.display.Markdown object>"
      ]
     },
     "metadata": {},
     "output_type": "display_data"
    }
   ],
   "source": [
    "display(Markdown(f\"The data is now available. You can query it programmatically (see next section) or access it via the Deep Search UI at <br />{api.client.config.host}/projects/{data_index.source.proj_key}/data/project/{data_index.source.index_key}/\"))"
   ]
  },
  {
   "attachments": {},
   "cell_type": "markdown",
   "id": "45ec4a93",
   "metadata": {},
   "source": [
    "### Download your data"
   ]
  },
  {
   "cell_type": "code",
   "execution_count": 7,
   "id": "a669e5a9",
   "metadata": {},
   "outputs": [
    {
     "data": {
      "application/vnd.jupyter.widget-view+json": {
       "model_id": "326f35b0520a402fad96418028e47b9c",
       "version_major": 2,
       "version_minor": 0
      },
      "text/plain": [
       "0it [00:00, ?it/s]"
      ]
     },
     "metadata": {},
     "output_type": "display_data"
    },
    {
     "name": "stdout",
     "output_type": "stream",
     "text": [
      "Finished fetching all data. Total is 2 records.\n",
      "Data downloaded in /var/folders/nv/nc34fsqx41d5nsp6bds_yw440000kp/T/tmpnkgflki3\n"
     ]
    }
   ],
   "source": [
    "# Run query\n",
    "query = DataQuery(search_query=\"*\", source=[\"*\"], coordinates=data_index.source)\n",
    "cursor = api.queries.run_paginated_query(query)\n",
    "\n",
    "# Using a temp dir for demo purposes; to persist instead, set output dir accordingly\n",
    "temp_dir = tempfile.TemporaryDirectory()\n",
    "output_dir = temp_dir.name\n",
    "\n",
    "# Iterate through query results\n",
    "all_results = []\n",
    "for result_page in tqdm(cursor):\n",
    "    for row in result_page.outputs[\"data_outputs\"]:\n",
    "\n",
    "        # Download JSON file\n",
    "        file_path = Path(output_dir) / f\"{row['_id']}.json\"\n",
    "        with open(file_path, \"w\") as outfile:\n",
    "            json.dump(row[\"_source\"], outfile, indent=2)\n",
    "\n",
    "        all_results.append({\n",
    "            \"Title\": row[\"_source\"][\"description\"][\"title\"],\n",
    "            \"Path\": file_path,\n",
    "        })\n",
    "\n",
    "print(f\"Finished fetching all data. Total is {len(all_results)} records.\")\n",
    "print(f\"Data downloaded in {output_dir}\")"
   ]
  },
  {
   "cell_type": "code",
   "execution_count": 8,
   "id": "e997bbae",
   "metadata": {},
   "outputs": [
    {
     "data": {
      "text/html": [
       "<div>\n",
       "<style scoped>\n",
       "    .dataframe tbody tr th:only-of-type {\n",
       "        vertical-align: middle;\n",
       "    }\n",
       "\n",
       "    .dataframe tbody tr th {\n",
       "        vertical-align: top;\n",
       "    }\n",
       "\n",
       "    .dataframe thead th {\n",
       "        text-align: right;\n",
       "    }\n",
       "</style>\n",
       "<table border=\"1\" class=\"dataframe\">\n",
       "  <thead>\n",
       "    <tr style=\"text-align: right;\">\n",
       "      <th></th>\n",
       "      <th>Title</th>\n",
       "      <th>Path</th>\n",
       "    </tr>\n",
       "  </thead>\n",
       "  <tbody>\n",
       "    <tr>\n",
       "      <th>0</th>\n",
       "      <td>DocLayNet: A Large Human-Annotated Dataset for Document-Layout Analysis</td>\n",
       "      <td>/var/folders/nv/nc34fsqx41d5nsp6bds_yw440000kp/T/tmpnkgflki3/5dfbd8c115a15fd3396b68409124cfee29fc8efac7b5c846634ff924e635e0dc.json</td>\n",
       "    </tr>\n",
       "    <tr>\n",
       "      <th>1</th>\n",
       "      <td>Delivering Document Conversion as a Cloud Service with High Throughput and Responsiveness</td>\n",
       "      <td>/var/folders/nv/nc34fsqx41d5nsp6bds_yw440000kp/T/tmpnkgflki3/6627d1b67955c51ff1aa8858de671bb5a62ad70c77e62e0ac57c153d0078b7ea.json</td>\n",
       "    </tr>\n",
       "  </tbody>\n",
       "</table>\n",
       "</div>"
      ],
      "text/plain": [
       "                                                                                       Title  \\\n",
       "0                    DocLayNet: A Large Human-Annotated Dataset for Document-Layout Analysis   \n",
       "1  Delivering Document Conversion as a Cloud Service with High Throughput and Responsiveness   \n",
       "\n",
       "                                                                                                                                 Path  \n",
       "0  /var/folders/nv/nc34fsqx41d5nsp6bds_yw440000kp/T/tmpnkgflki3/5dfbd8c115a15fd3396b68409124cfee29fc8efac7b5c846634ff924e635e0dc.json  \n",
       "1  /var/folders/nv/nc34fsqx41d5nsp6bds_yw440000kp/T/tmpnkgflki3/6627d1b67955c51ff1aa8858de671bb5a62ad70c77e62e0ac57c153d0078b7ea.json  "
      ]
     },
     "metadata": {},
     "output_type": "display_data"
    }
   ],
   "source": [
    "# Visualize the table with all results\n",
    "df = pd.json_normalize(all_results)\n",
    "display(df)"
   ]
  },
  {
   "cell_type": "code",
   "execution_count": 9,
   "id": "71737587",
   "metadata": {},
   "outputs": [
    {
     "name": "stdout",
     "output_type": "stream",
     "text": [
      "{\n",
      "  \"page-headers\": [\n",
      "    {\n",
      "      \"text\": \" KDD \\u201922, August 14-18, 2022, Washington, DC, USA Birgit Pfitzmann, Christoph Auer, Michele Dolfi, Ahmed S. Nassar, and Peter Staar\",\n",
      "      \"type\": \"page-header\",\n",
      "      \"prov\": [\n",
      "        {\n",
      "          \"bbox\": [\n",
      "            53.091064453125,\n",
      "            723.42395,\n",
      "            558.6610107421875,\n",
      "            731.77294921875\n",
      "          ],\n",
      "          \"page\": 2,\n",
      "          \"span\": [\n",
      "            0,\n",
      "            133\n",
      "          ]\n",
      "        }\n",
      "      ]\n"
     ]
    }
   ],
   "source": [
    "# Peek first lines of a downloaded file\n",
    "with open(df.iloc[0][\"Path\"]) as demo_file:\n",
    "    for i in range(20):\n",
    "        line = demo_file.readline()\n",
    "        print(line.rstrip())\n"
   ]
  },
  {
   "attachments": {},
   "cell_type": "markdown",
   "id": "b13b5f9e",
   "metadata": {},
   "source": [
    "### Cleanup\n",
    "Deleting all the resources created in the example—if cleanup option enabled."
   ]
  },
  {
   "cell_type": "code",
   "execution_count": 10,
   "id": "9a0b82b8",
   "metadata": {},
   "outputs": [
    {
     "name": "stdout",
     "output_type": "stream",
     "text": [
      "Project data deleted\n",
      "Project deleted\n"
     ]
    }
   ],
   "source": [
    "if CLEANUP:\n",
    "    # Delete data index\n",
    "    api.data_indices.delete(data_index.source)\n",
    "    print(\"Project data deleted\")\n",
    "\n",
    "    # Delete project\n",
    "    api.projects.remove(project=proj)\n",
    "    print(\"Project deleted\")"
   ]
  }
 ],
 "metadata": {
  "kernelspec": {
   "display_name": "Python 3 (ipykernel)",
   "language": "python",
   "name": "python3"
  },
  "language_info": {
   "codemirror_mode": {
    "name": "ipython",
    "version": 3
   },
   "file_extension": ".py",
   "mimetype": "text/x-python",
   "name": "python",
   "nbconvert_exporter": "python",
   "pygments_lexer": "ipython3",
   "version": "3.10.9"
  }
 },
 "nbformat": 4,
 "nbformat_minor": 5
}
