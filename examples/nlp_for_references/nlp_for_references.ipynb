{
 "cells": [
  {
   "cell_type": "markdown",
   "id": "37d96e78",
   "metadata": {},
   "source": [
    "# Document Reference parsing"
   ]
  },
  {
   "cell_type": "markdown",
   "id": "4edb626f",
   "metadata": {},
   "source": [
    "## Getting started\n"
   ]
  },
  {
   "cell_type": "markdown",
   "id": "a8f9c441",
   "metadata": {},
   "source": [
    "### Set notebook parameters"
   ]
  },
  {
   "cell_type": "code",
   "execution_count": null,
   "id": "b01a4fd1",
   "metadata": {},
   "outputs": [],
   "source": [
    "from dsnotebooks.settings import ProjectNotebookSettings\n",
    "\n",
    "# notebook settings auto-loaded from .env / env vars\n",
    "notebook_settings = ProjectNotebookSettings()\n",
    "\n",
    "PROFILE_NAME = notebook_settings.profile  # the profile to use\n",
    "PROJ_KEY = notebook_settings.proj_key     # the project to use\n",
    "\n",
    "# default project_key = 1234567890abcdefghijklmnopqrstvwyz123456"
   ]
  },
  {
   "cell_type": "markdown",
   "id": "239dc0f1",
   "metadata": {},
   "source": [
    "### Import example dependencies"
   ]
  },
  {
   "cell_type": "code",
   "execution_count": 24,
   "id": "502cdef8",
   "metadata": {
    "ExecuteTime": {
     "end_time": "2022-08-02T12:14:25.377422Z",
     "start_time": "2022-08-02T12:14:25.152485Z"
    }
   },
   "outputs": [],
   "source": [
    "import os\n",
    "import json\n",
    "\n",
    "import textwrap\n",
    "\n",
    "import pandas as pd\n",
    "\n",
    "import deepsearch as ds\n",
    "\n",
    "from pathlib import Path\n",
    "from zipfile import ZipFile\n",
    "\n",
    "from deepsearch.documents.core.export import export_to_markdown\n",
    "from IPython.display import display, Markdown, HTML, display_html\n",
    "\n",
    "from deepsearch_glm.utils.load_pretrained_models import load_pretrained_nlp_models\n",
    "\n",
    "from deepsearch_glm.nlp_utils import (\n",
    "    extract_references_from_doc,\n",
    "    init_nlp_model,\n",
    "    list_nlp_model_configs,\n",
    ")\n",
    "\n",
    "from deepsearch_glm.glm_utils import (\n",
    "    create_glm_config_from_docs,\n",
    "    create_glm_dir,\n",
    "    create_glm_from_docs,\n",
    "    expand_terms,\n",
    "    load_glm,\n",
    "    read_edges_in_dataframe,\n",
    "    read_nodes_in_dataframe,\n",
    "    show_query_result,\n",
    ")\n",
    "\n",
    "from tabulate import tabulate\n",
    "\n",
    "models = load_pretrained_nlp_models()"
   ]
  },
  {
   "cell_type": "markdown",
   "id": "e6e4dcda",
   "metadata": {},
   "source": [
    "### Connect to Deep Search"
   ]
  },
  {
   "cell_type": "code",
   "execution_count": 4,
   "id": "f44fbf08",
   "metadata": {},
   "outputs": [],
   "source": [
    "api = ds.CpsApi.from_env(profile_name=PROFILE_NAME)"
   ]
  },
  {
   "cell_type": "markdown",
   "id": "6f1200c5-1138-4491-bc33-3b2d5aabe949",
   "metadata": {},
   "source": [
    "## Convert Document"
   ]
  },
  {
   "cell_type": "code",
   "execution_count": 5,
   "id": "ec83eb0b",
   "metadata": {
    "ExecuteTime": {
     "end_time": "2022-08-02T12:14:49.216045Z",
     "start_time": "2022-08-02T12:14:25.380757Z"
    }
   },
   "outputs": [
    {
     "name": "stderr",
     "output_type": "stream",
     "text": [
      "Processing input:     : 100%|\u001b[38;2;15;98;254m██████████████████████████████\u001b[0m| 1/1 [00:00<00:00, 122.68it/s]\u001b[38;2;15;98;254m                                                                                                                                                    \u001b[0m\n",
      "Submitting input:     : 100%|\u001b[38;2;15;98;254m██████████████████████████████\u001b[0m| 1/1 [00:01<00:00,  1.53s/it]\u001b[38;2;15;98;254m                                                                                                                                                     \u001b[0m\n",
      "Converting input:     : 100%|\u001b[38;2;15;98;254m██████████████████████████████\u001b[0m| 1/1 [00:18<00:00, 18.45s/it]\u001b[38;2;15;98;254m                                                                                                                                                     \u001b[0m\n"
     ]
    },
    {
     "name": "stdout",
     "output_type": "stream",
     "text": [
      "{'Total documents': 1, 'Successfully converted documents': 1}\n"
     ]
    }
   ],
   "source": [
    "output_dir = Path(\"./converted_docs\")\n",
    "\n",
    "fname = \"2206.00785.pdf\"\n",
    "\n",
    "documents = ds.convert_documents(\n",
    "    api=api,\n",
    "    proj_key=PROJ_KEY,\n",
    "    source_path=f\"../../data/samples/{fname}\",\n",
    "    progress_bar=True\n",
    ")           \n",
    "documents.download_all(result_dir=output_dir)\n",
    "info = documents.generate_report(result_dir=output_dir)\n",
    "print(info) "
   ]
  },
  {
   "cell_type": "code",
   "execution_count": 6,
   "id": "382c4869-cca9-43fc-8052-c0ab7e9c175d",
   "metadata": {},
   "outputs": [
    {
     "name": "stdout",
     "output_type": "stream",
     "text": [
      "writing converted_docs/2206.00785.json\n",
      "writing converted_docs/2206.00785.md\n"
     ]
    }
   ],
   "source": [
    "# Iterare output files and visualize the output\n",
    "for output_file in output_dir.rglob(\"json*.zip\"):\n",
    "    with ZipFile(output_file) as archive:\n",
    "        all_files = archive.namelist()\n",
    "        for name in all_files:\n",
    "            if not name.endswith(\".json\"):\n",
    "                continue\n",
    "            \n",
    "            #basename = name.rstrip('.json')\n",
    "            doc_json = json.loads(archive.read(name))\n",
    "            \n",
    "            ofile = output_dir / name\n",
    "            print(f\"writing {ofile}\")\n",
    "            with ofile.open(\"w\") as fw:\n",
    "                fw.write(json.dumps(doc_json, indent=2))\n",
    "                \n",
    "            doc_md = export_to_markdown(doc_json)\n",
    "\n",
    "            ofile = output_dir / name.replace(\".json\", \".md\")\n",
    "            print(f\"writing {ofile}\")\n",
    "            with ofile.open(\"w\") as fw:\n",
    "                fw.write(doc_md)\n",
    "\n",
    "            "
   ]
  },
  {
   "cell_type": "code",
   "execution_count": 49,
   "id": "b19f7678-b650-484b-a994-150d0c4ec3a2",
   "metadata": {},
   "outputs": [],
   "source": [
    "# display last document\n",
    "# display(Markdown(doc_md))"
   ]
  },
  {
   "cell_type": "markdown",
   "id": "6784c8a9-4b96-4385-a04e-40ddbf6c613f",
   "metadata": {},
   "source": [
    "## Extract references from Documents"
   ]
  },
  {
   "cell_type": "code",
   "execution_count": 13,
   "id": "710cc200-e2ba-46f3-9ca0-efd2baab7ee1",
   "metadata": {},
   "outputs": [],
   "source": [
    "def resolve(path, doc):\n",
    "\n",
    "    if len(path)>1 and path[0]==\"#\":\n",
    "        return resolve(path[1:], doc)\n",
    "        \n",
    "    if len(path)==1 and isinstance(doc, dict):\n",
    "        return doc[path[0]]\n",
    "\n",
    "    elif len(path)==1 and isinstance(doc, list):\n",
    "        ind = int(path[0])\n",
    "        return doc[ind]\n",
    "    \n",
    "    elif len(path)>1 and isinstance(doc, dict):\n",
    "        return resolve(path[1:], doc[path[0]])\n",
    "\n",
    "    elif len(path)>1 and isinstance(doc, list):\n",
    "        ind = int(path[0])\n",
    "        return resolve(path[1:], doc[ind])\n",
    "\n",
    "    else:\n",
    "        return None\n",
    "    "
   ]
  },
  {
   "cell_type": "code",
   "execution_count": 28,
   "id": "ed3612b4-bbd2-42d0-ba2d-f8f994565380",
   "metadata": {},
   "outputs": [
    {
     "name": "stdout",
     "output_type": "stream",
     "text": [
      "[1] C. Gopal, C. L. Marshall, D. Vesset, N. Ward-Dutton, J. Hamel, R.\n",
      "Jyoti, P. Rutten, C. W. Olofson, J. Rydning, S. Rau, and J. Duke, 'IDC\n",
      "FutureScape: Worldwide future of intelligence 2022 predictions,'\n",
      "International Data Group, Inc., Needham, MA, Research Report\n",
      "US47913321, Oct. 2021. [Online]. Available:\n",
      "https://www.idc.com/getdoc.jsp?containerId=US47913321\n",
      "\n",
      "entities:\n",
      "               subtype                                               name\n",
      "167  reference-number                                                  1\n",
      "168           authors  C. Gopal, C. L. Marshall, D. Vesset, N. Ward-D...\n",
      "169             title  'IDC FutureScape: Worldwide future of intellig...\n",
      "170           journal  International Data Group, Inc., Needham, MA, R...\n",
      "171            volume                                           47913321\n",
      "172              date                                          Oct. 2021\n",
      "173              note                                Online]. Available:\n",
      "174               url  https://www.idc.com/getdoc.jsp?containerId=US4... \n",
      "\n",
      "\n",
      "[2] D. Vile, 'The road to becoming a data driven business,' Freeform\n",
      "Dynamics Ltd., New Milton, United Kingdom, Research Report US47913321,\n",
      "Nov. 2020. [Online]. Available: https://www.freeformdynamics.com/wp-\n",
      "content/uploads/2020/11/ 2020-The road to becoming a data driven\n",
      "business.pdf\n",
      "\n",
      "entities:\n",
      "               subtype                                               name\n",
      "175  reference-number                                                  2\n",
      "176           authors                                            D. Vile\n",
      "177             title     'The road to becoming a data driven business,'\n",
      "178           journal  Freeform Dynamics Ltd., New Milton, United Kin...\n",
      "179            volume                                           47913321\n",
      "180              date                                          Nov. 2020\n",
      "181              note                                Online]. Available:\n",
      "182               url  https://www.freeformdynamics.com/wp-content/up...\n",
      "183             title                           data driven business.pdf \n",
      "\n",
      "\n",
      "[3] M. Aslett and N. Patience, 'Data platforms market map 2021,' S&P\n",
      "Global Market Intelligence, Tech. Rep., Sep. 2021.\n",
      "\n",
      "entities:\n",
      "               subtype                                             name\n",
      "184  reference-number                                                3\n",
      "185           authors                        M. Aslett and N. Patience\n",
      "186             title                'Data platforms market map 2021,'\n",
      "187           journal  S&P Global Market Intelligence, Tech. Rep., Sep\n",
      "188              date                                             2021 \n",
      "\n",
      "\n",
      "[4] G. Aggarwal. (2021, Jan.) How the pandemic has accelerated cloud\n",
      "adoption. Forbes. Jersey City, NJ. [Online]. Available:\n",
      "https://www.forbes.com/sites/forbestechcouncil/2021/01/15/ how-the-\n",
      "pandemic-has-accelerated-cloud-adoption\n",
      "\n",
      "entities:\n",
      "               subtype                                               name\n",
      "189  reference-number                                                  4\n",
      "190           authors                                        G. Aggarwal\n",
      "191              date                                          2021, Jan\n",
      "192             title  How the pandemic has accelerated cloud adoptio...\n",
      "193              note                                         Available:\n",
      "194               url  https://www.forbes.com/sites/forbestechcouncil... \n",
      "\n",
      "\n",
      "[5] 'Enterprise survey series: DevOps and the cloud,' Evans Data\n",
      "Corporation, Santa Cruz, CA, Research Report, Aug. 2021. [Online].\n",
      "Available: https://evansdata.com/reports/viewRelease.php?reportID=45\n",
      "\n",
      "entities:\n",
      "               subtype                                               name\n",
      "195  reference-number                                                  5\n",
      "196             title  'Enterprise survey series: DevOps and the cloud,'\n",
      "197           journal  Evans Data Corporation, Santa Cruz, CA, Resear...\n",
      "198              date                                               2021\n",
      "199              note                                Online]. Available:\n",
      "200               url  https://evansdata.com/reports/viewRelease.php?... \n",
      "\n",
      "\n",
      "[6] J. Arundel and J. Domingus, Cloud Native DevOps with Kubernetes:\n",
      "Building, Deploying, and Scaling Modern Applications in the Cloud.\n",
      "Sebastopol, CA: O'Reilly Media, Apr. 2019.\n",
      "\n",
      "entities:\n",
      "               subtype                                               name\n",
      "201  reference-number                                                  6\n",
      "202           authors                         J. Arundel and J. Domingus\n",
      "203             title  Cloud Native DevOps with Kubernetes: Building,...\n",
      "204           journal                                  Reilly Media, Apr\n",
      "205              date                                               2019 \n",
      "\n",
      "\n"
     ]
    }
   ],
   "source": [
    "ifile = \"converted_docs/2206.00785.json\"\n",
    "\n",
    "with open(ifile) as fr:\n",
    "    doc = json.load(fr)\n",
    "\n",
    "model = init_nlp_model(\"language;reference\")\n",
    "res = model.apply_on_doc(doc)\n",
    "\n",
    "props = pd.DataFrame(res[\"properties\"][\"data\"], columns=res[\"properties\"][\"headers\"])\n",
    "insts = pd.DataFrame(res[\"instances\"][\"data\"], columns=res[\"instances\"][\"headers\"])\n",
    "\n",
    "refs = props[(props[\"label\"]==\"reference\") & (props[\"confidence\"]>0.8)]\n",
    "\n",
    "cnt = 0\n",
    "for i,ref in refs.iterrows():\n",
    "    #print(ref)\n",
    "\n",
    "    item = resolve(ref[\"subj_path\"].split(\"/\"), res)\n",
    "    print(\"\\n\".join(textwrap.wrap(item[\"text\"], 70)))\n",
    "\n",
    "    ents = insts[insts[\"subj_hash\"]==item[\"subj_hash\"]][[\"subtype\", \"name\"]]\n",
    "    print(\"\\nentities:\\n\", ents, \"\\n\\n\")\n",
    "\n",
    "    \n",
    "    cnt+=1\n",
    "    if cnt>5:\n",
    "        break\n"
   ]
  },
  {
   "cell_type": "code",
   "execution_count": null,
   "id": "01771757-70c3-44cb-824c-1fd9b716a99f",
   "metadata": {},
   "outputs": [],
   "source": []
  }
 ],
 "metadata": {
  "kernelspec": {
   "display_name": "Python 3 (ipykernel)",
   "language": "python",
   "name": "python3"
  },
  "language_info": {
   "codemirror_mode": {
    "name": "ipython",
    "version": 3
   },
   "file_extension": ".py",
   "mimetype": "text/x-python",
   "name": "python",
   "nbconvert_exporter": "python",
   "pygments_lexer": "ipython3",
   "version": "3.9.18"
  },
  "toc": {
   "base_numbering": 1,
   "nav_menu": {},
   "number_sections": true,
   "sideBar": true,
   "skip_h1_title": false,
   "title_cell": "Table of Contents",
   "title_sidebar": "Contents",
   "toc_cell": false,
   "toc_position": {},
   "toc_section_display": true,
   "toc_window_display": false
  },
  "vscode": {
   "interpreter": {
    "hash": "23663f76e1e243f0a6319b8ef58f504b6b45c83666dfefd3138ba8cf69ab01fa"
   }
  }
 },
 "nbformat": 4,
 "nbformat_minor": 5
}
