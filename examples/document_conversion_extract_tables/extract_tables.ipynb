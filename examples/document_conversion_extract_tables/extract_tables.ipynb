{
 "cells": [
  {
   "cell_type": "markdown",
   "id": "1a5e95e0",
   "metadata": {},
   "source": [
    "# Convert and extract tables\n",
    "\n",
    "\n",
    "In this example we will use the output of the converted document and extract the tables detected on each page.\n",
    "\n",
    "\n"
   ]
  },
  {
   "cell_type": "markdown",
   "id": "142d6129",
   "metadata": {},
   "source": [
    "### Set notebooks parameters"
   ]
  },
  {
   "cell_type": "code",
   "execution_count": null,
   "id": "efd12ce7",
   "metadata": {},
   "outputs": [],
   "source": [
    "from pathlib import Path\n",
    "from dsnotebooks.settings import ProjectNotebookSettings\n",
    "\n",
    "# notebook settings auto-loaded from .env / env vars\n",
    "notebook_settings = ProjectNotebookSettings()\n",
    "\n",
    "PROFILE_NAME = notebook_settings.profile  # the profile to use\n",
    "PROJ_KEY = notebook_settings.proj_key  # the project to use\n",
    "INPUT_FILE = Path(\"../../data/samples/2206.00785.pdf\")"
   ]
  },
  {
   "cell_type": "markdown",
   "id": "d12e55af",
   "metadata": {},
   "source": [
    "## Helper functions\n",
    "\n",
    "The following blocks define the helper functions used for the visualization of the output"
   ]
  },
  {
   "cell_type": "code",
   "execution_count": null,
   "id": "f34f9dc1",
   "metadata": {},
   "outputs": [],
   "source": [
    "# Import standard dependenices\n",
    "import json\n",
    "import tempfile\n",
    "from zipfile import ZipFile\n",
    "\n",
    "# IPython utilities\n",
    "from IPython.display import display, Markdown, HTML\n",
    "\n",
    "# Import the deepsearch-toolkit\n",
    "import deepsearch as ds"
   ]
  },
  {
   "cell_type": "code",
   "execution_count": null,
   "id": "246f6ac7",
   "metadata": {},
   "outputs": [],
   "source": [
    "def get_tablecell_span(cell, ix):\n",
    "    span = set([s[ix] for s in cell[\"spans\"]])\n",
    "    if len(span) == 0:\n",
    "        return 1, None, None\n",
    "    return len(span), min(span), max(span)\n",
    "\n",
    "\n",
    "def write_table(item):\n",
    "    \"\"\"\n",
    "    Convert the JSON table representation to HTML, including column and row spans.\n",
    "\n",
    "    Parameters\n",
    "    ----------\n",
    "    item :\n",
    "        JSON table\n",
    "    doc_cellsdata :\n",
    "        Cells document provided by the Deep Search conversion\n",
    "    ncols : int, Default=3\n",
    "        Number of columns in the display table.\n",
    "    \"\"\"\n",
    "\n",
    "    table = item\n",
    "    body = \"\"\n",
    "\n",
    "    nrows = table[\"#-rows\"]\n",
    "    ncols = table[\"#-cols\"]\n",
    "\n",
    "    body += \"<table>\\n\"\n",
    "    for i in range(nrows):\n",
    "        body += \"  <tr>\\n\"\n",
    "        for j in range(ncols):\n",
    "            cell = table[\"data\"][i][j]\n",
    "\n",
    "            rowspan, rowstart, rowend = get_tablecell_span(cell, 0)\n",
    "            colspan, colstart, colend = get_tablecell_span(cell, 1)\n",
    "\n",
    "            if rowstart is not None and rowstart != i:\n",
    "                continue\n",
    "            if colstart is not None and colstart != j:\n",
    "                continue\n",
    "\n",
    "            if rowstart is None:\n",
    "                rowstart = i\n",
    "            if colstart is None:\n",
    "                colstart = j\n",
    "\n",
    "            content = cell[\"text\"]\n",
    "            if content == \"\":\n",
    "                content = \"&nbsp;\"\n",
    "\n",
    "            label = cell[\"type\"]\n",
    "            label_class = \"body\"\n",
    "            if label in [\"row_header\", \"row_multi_header\", \"row_title\"]:\n",
    "                label_class = \"header\"\n",
    "            elif label in [\"col_header\", \"col_multi_header\"]:\n",
    "                label_class = \"header\"\n",
    "\n",
    "            celltag = \"th\" if label_class == \"header\" else \"td\"\n",
    "            style = 'style=\"text-align: center;\"' if label_class == \"header\" else \"\"\n",
    "\n",
    "            body += f'    <{celltag} rowstart=\"{rowstart}\" colstart=\"{colstart}\" rowspan=\"{rowspan}\" colspan=\"{colspan}\" {style}>{content}</{celltag}>\\n'\n",
    "\n",
    "        body += \"  </tr>\\n\"\n",
    "\n",
    "    body += \"</table>\"\n",
    "\n",
    "    return body"
   ]
  },
  {
   "cell_type": "code",
   "execution_count": null,
   "id": "2718becb",
   "metadata": {
    "scrolled": false
   },
   "outputs": [],
   "source": [
    "def visualize_document_tables(doc_jsondata):\n",
    "    \"\"\"\n",
    "    Visualize the tables idenfitied in the converted document.\n",
    "\n",
    "    Parameters\n",
    "    ----------\n",
    "    doc_jsondata :\n",
    "        Converted document\n",
    "    \"\"\"\n",
    "\n",
    "    page_counters = {}\n",
    "    # Iterate through all the tables identified in the converted document\n",
    "    for table in doc_jsondata.get(\"tables\", []):\n",
    "        prov = table[\"prov\"][0]\n",
    "        page = prov[\"page\"]\n",
    "        page_counters.setdefault(page, 0)\n",
    "        page_counters[page] += 1\n",
    "\n",
    "        output_html = write_table(table)\n",
    "        display(Markdown(f\"## Table {page_counters[page]} on page {page}\"))\n",
    "        display(HTML(output_html))"
   ]
  },
  {
   "cell_type": "markdown",
   "id": "499aad65",
   "metadata": {},
   "source": [
    "## Document conversion and visualization with Deep Search"
   ]
  },
  {
   "cell_type": "code",
   "execution_count": null,
   "id": "a8454a53",
   "metadata": {},
   "outputs": [],
   "source": [
    "api = ds.CpsApi.from_env(profile_name=PROFILE_NAME)"
   ]
  },
  {
   "cell_type": "code",
   "execution_count": null,
   "id": "5fc7d427",
   "metadata": {},
   "outputs": [],
   "source": [
    "# Launch the docucment conversion and download the results\n",
    "documents = ds.convert_documents(\n",
    "    api=api, proj_key=PROJ_KEY, source_path=INPUT_FILE, progress_bar=True\n",
    ")"
   ]
  },
  {
   "cell_type": "code",
   "execution_count": null,
   "id": "3ac07b8c",
   "metadata": {
    "scrolled": false
   },
   "outputs": [],
   "source": [
    "with tempfile.TemporaryDirectory() as output_dir:\n",
    "    documents.download_all(result_dir=output_dir, progress_bar=True)\n",
    "\n",
    "    # group output files and visualize the output\n",
    "    json_file = list(Path(output_dir).glob(\"*.json\"))[0]\n",
    "\n",
    "    with open(json_file) as f:\n",
    "        doc_jsondata = json.loads(f.read())\n",
    "        visualize_document_tables(doc_jsondata)\n"
   ]
  }
 ],
 "metadata": {
  "kernelspec": {
   "display_name": "venv",
   "language": "python",
   "name": "python3"
  },
  "language_info": {
   "codemirror_mode": {
    "name": "ipython",
    "version": 3
   },
   "file_extension": ".py",
   "mimetype": "text/x-python",
   "name": "python",
   "nbconvert_exporter": "python",
   "pygments_lexer": "ipython3",
   "version": "3.10.4"
  }
 },
 "nbformat": 4,
 "nbformat_minor": 5
}
