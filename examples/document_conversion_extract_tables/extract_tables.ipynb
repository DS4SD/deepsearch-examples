{
 "cells": [
  {
   "cell_type": "markdown",
   "id": "1a5e95e0",
   "metadata": {},
   "source": [
    "# Convert and extract tables\n",
    "\n",
    "\n",
    "In this example we will use the output of the converted document and extract the tables detected on each page.\n",
    "\n",
    "\n"
   ]
  },
  {
   "cell_type": "markdown",
   "id": "484b7340",
   "metadata": {},
   "source": [
    "### Authentication via stored credentials\n",
    "\n",
    "In this example, we initialize the Deep Search client from the credentials\n",
    "contained in the file `../../ds-auth.json`. This can be generated with\n",
    "\n",
    "```shell\n",
    "!deepsearch login --output ../../ds-auth.json\n",
    "```\n",
    "\n",
    "More details in the [docs](https://ds4sd.github.io/deepsearch-toolkit/getting_started/#authentication)."
   ]
  },
  {
   "cell_type": "markdown",
   "id": "142d6129",
   "metadata": {},
   "source": [
    "### Notebooks parameters\n",
    "\n",
    "The following block defines the parameters used to execute the notebook\n",
    "\n",
    "- `CONFIG_FILE`: location of the Deep Search configuration file\n",
    "- `INPUT_FILE`: the input PDF to converted and analyzed\n"
   ]
  },
  {
   "cell_type": "code",
   "execution_count": 1,
   "id": "efd12ce7",
   "metadata": {},
   "outputs": [],
   "source": [
    "# Input parameters for the example flow\n",
    "from pathlib import Path\n",
    "CONFIG_FILE = Path(\"../../ds-auth.json\")\n",
    "PROJ_KEY = \"1234567890abcdefghijklmnopqrstvwyz123456\"\n",
    "\n",
    "# INPUT_FILE = Path(\"../../data/samples/2206.01062.pdf\")\n",
    "INPUT_FILE = Path(\"../../data/samples/2206.00785.pdf\")\n"
   ]
  },
  {
   "cell_type": "markdown",
   "id": "d12e55af",
   "metadata": {},
   "source": [
    "## Helper functions\n",
    "\n",
    "The following blocks define the helper functions used for the visualization of the output"
   ]
  },
  {
   "cell_type": "code",
   "execution_count": 2,
   "id": "f34f9dc1",
   "metadata": {},
   "outputs": [],
   "source": [
    "# Import standard dependenices\n",
    "import json\n",
    "import tempfile\n",
    "import typing\n",
    "from zipfile import ZipFile\n",
    "\n",
    "# IPython utilities\n",
    "from IPython.display import display, Markdown, HTML, display_html\n",
    "\n",
    "# Import the deepsearch-toolkit\n",
    "import deepsearch as ds"
   ]
  },
  {
   "cell_type": "code",
   "execution_count": 3,
   "id": "246f6ac7",
   "metadata": {},
   "outputs": [],
   "source": [
    "def get_tablecell_span(cell, ix):\n",
    "    span = set([s[ix] for s in cell['spans']])\n",
    "    if len(span) == 0:\n",
    "        return 1, None, None\n",
    "    return len(span), min(span), max(span)\n",
    "\n",
    "\n",
    "\n",
    "def write_table(item):\n",
    "    \"\"\"\n",
    "    Convert the JSON table representation to HTML, including column and row spans.\n",
    "    \n",
    "    Parameters\n",
    "    ----------\n",
    "    item :\n",
    "        JSON table\n",
    "    doc_cellsdata :\n",
    "        Cells document provided by the Deep Search conversion\n",
    "    ncols : int, Default=3\n",
    "        Number of columns in the display table.\n",
    "    \"\"\"\n",
    "    \n",
    "    table = item\n",
    "    body = \"\"\n",
    "\n",
    "    nrows = table['#-rows']\n",
    "    ncols = table['#-cols']\n",
    "\n",
    "    body += \"<table>\\n\"\n",
    "    for i in range(nrows):\n",
    "        body += \"  <tr>\\n\"\n",
    "        for j in range(ncols):\n",
    "            cell = table['data'][i][j]\n",
    "\n",
    "            rowspan,rowstart,rowend = get_tablecell_span(cell, 0)\n",
    "            colspan,colstart,colend = get_tablecell_span(cell, 1)\n",
    "\n",
    "            if rowstart is not None and rowstart != i: continue\n",
    "            if colstart is not None and colstart != j: continue\n",
    "\n",
    "            if rowstart is None:\n",
    "                rowstart = i\n",
    "            if colstart is None:\n",
    "                colstart = j\n",
    "\n",
    "            content = cell['text']\n",
    "            if content == '':\n",
    "                content = '&nbsp;'\n",
    "\n",
    "            label = cell['type']\n",
    "            label_class = 'body'\n",
    "            if label in ['row_header', 'row_multi_header', 'row_title']:\n",
    "                label_class = 'header'\n",
    "            elif label in ['col_header', 'col_multi_header']:\n",
    "                label_class = 'header'\n",
    "            \n",
    "            \n",
    "            celltag = 'th' if label_class == 'header' else 'td'\n",
    "            style = 'style=\"text-align: center;\"' if label_class == 'header' else ''\n",
    "\n",
    "            body += f'    <{celltag} rowstart=\"{rowstart}\" colstart=\"{colstart}\" rowspan=\"{rowspan}\" colspan=\"{colspan}\" {style}>{content}</{celltag}>\\n'\n",
    "\n",
    "        body += \"  </tr>\\n\"\n",
    "\n",
    "    body += \"</table>\"\n",
    "\n",
    "    return body"
   ]
  },
  {
   "cell_type": "code",
   "execution_count": 4,
   "id": "2718becb",
   "metadata": {
    "scrolled": false
   },
   "outputs": [],
   "source": [
    "def visualize_document_tables(doc_jsondata):\n",
    "    \"\"\"\n",
    "    Visualize the tables idenfitied in the converted document.\n",
    "    \n",
    "    Parameters\n",
    "    ----------\n",
    "    doc_jsondata :\n",
    "        Converted document\n",
    "    \"\"\"\n",
    "\n",
    "    \n",
    "    page_counters = {}\n",
    "    # Iterate through all the tables identified in the converted document\n",
    "    for table in doc_jsondata.get(\"tables\", []):\n",
    "        prov = table[\"prov\"][0]\n",
    "        page = prov[\"page\"]\n",
    "        page_counters.setdefault(page, 0)\n",
    "        page_counters[page] += 1\n",
    "        \n",
    "        output_html = write_table(table)\n",
    "        display(Markdown(f\"## Table {page_counters[page]} on page {page}\"))\n",
    "        display(HTML(output_html))   \n"
   ]
  },
  {
   "cell_type": "markdown",
   "id": "499aad65",
   "metadata": {},
   "source": [
    "## Document conversion and visualization with Deep Search"
   ]
  },
  {
   "cell_type": "code",
   "execution_count": 5,
   "id": "a8454a53",
   "metadata": {},
   "outputs": [],
   "source": [
    "# Initialize the Deep Search client from the config file\n",
    "config = ds.DeepSearchConfig.parse_file(CONFIG_FILE)\n",
    "client = ds.CpsApiClient(config)\n",
    "api = ds.CpsApi(client)"
   ]
  },
  {
   "cell_type": "code",
   "execution_count": 6,
   "id": "5fc7d427",
   "metadata": {},
   "outputs": [
    {
     "name": "stderr",
     "output_type": "stream",
     "text": [
      "Processing input:     : 100%|\u001b[38;2;15;98;254m██████████████████████████████\u001b[0m| 1/1 [00:00<00:00, 127.04it/s]\u001b[38;2;15;98;254m                                                                    \u001b[0m\n",
      "Submitting input:     : 100%|\u001b[38;2;15;98;254m██████████████████████████████\u001b[0m| 1/1 [00:18<00:00, 18.31s/it]\u001b[38;2;15;98;254m                                                                     \u001b[0m\n",
      "Converting input:     : 100%|\u001b[38;2;15;98;254m██████████████████████████████\u001b[0m| 1/1 [00:32<00:00, 32.61s/it]\u001b[38;2;15;98;254m                                                                     \u001b[0m\n"
     ]
    }
   ],
   "source": [
    "# Launch the docucment conversion and download the results\n",
    "documents = ds.convert_documents(\n",
    "    api=api, proj_key=PROJ_KEY, source_path=INPUT_FILE, progress_bar=True\n",
    ")"
   ]
  },
  {
   "cell_type": "code",
   "execution_count": 7,
   "id": "3ac07b8c",
   "metadata": {
    "scrolled": false
   },
   "outputs": [
    {
     "name": "stderr",
     "output_type": "stream",
     "text": [
      "Downloading result:   : 100%|\u001b[38;2;15;98;254m██████████████████████████████\u001b[0m| 1/1 [00:02<00:00,  2.21s/it]\u001b[38;2;15;98;254m                                                                     \u001b[0m\n"
     ]
    },
    {
     "data": {
      "text/markdown": [
       "## Table 1 on page 7"
      ],
      "text/plain": [
       "<IPython.core.display.Markdown object>"
      ]
     },
     "metadata": {},
     "output_type": "display_data"
    },
    {
     "data": {
      "text/html": [
       "<table>\n",
       "  <tr>\n",
       "    <th rowstart=\"0\" colstart=\"0\" rowspan=\"1\" colspan=\"1\" style=\"text-align: center;\">&nbsp;</th>\n",
       "    <th rowstart=\"0\" colstart=\"1\" rowspan=\"1\" colspan=\"1\" style=\"text-align: center;\">&nbsp;</th>\n",
       "    <td rowstart=\"0\" colstart=\"2\" rowspan=\"1\" colspan=\"1\" >component </td>\n",
       "    <td rowstart=\"0\" colstart=\"3\" rowspan=\"1\" colspan=\"1\" >component </td>\n",
       "  </tr>\n",
       "  <tr>\n",
       "    <td rowstart=\"1\" colstart=\"0\" rowspan=\"1\" colspan=\"1\" >&nbsp;</td>\n",
       "    <td rowstart=\"1\" colstart=\"1\" rowspan=\"1\" colspan=\"1\" >&nbsp;</td>\n",
       "    <td rowstart=\"1\" colstart=\"2\" rowspan=\"1\" colspan=\"1\" >worker </td>\n",
       "    <td rowstart=\"1\" colstart=\"3\" rowspan=\"1\" colspan=\"1\" >ML model </td>\n",
       "  </tr>\n",
       "  <tr>\n",
       "    <td rowstart=\"2\" colstart=\"0\" rowspan=\"1\" colspan=\"1\" >&nbsp;</td>\n",
       "    <td rowstart=\"2\" colstart=\"1\" rowspan=\"1\" colspan=\"1\" >Memory </td>\n",
       "    <td rowstart=\"2\" colstart=\"2\" rowspan=\"1\" colspan=\"1\" >450 MB </td>\n",
       "    <td rowstart=\"2\" colstart=\"3\" rowspan=\"1\" colspan=\"1\" >500 MB </td>\n",
       "  </tr>\n",
       "  <tr>\n",
       "    <td rowstart=\"3\" colstart=\"0\" rowspan=\"1\" colspan=\"1\" >Profile A </td>\n",
       "    <td rowstart=\"3\" colstart=\"1\" rowspan=\"1\" colspan=\"1\" >CPU </td>\n",
       "    <td rowstart=\"3\" colstart=\"2\" rowspan=\"1\" colspan=\"1\" >0.4 cores </td>\n",
       "    <td rowstart=\"3\" colstart=\"3\" rowspan=\"1\" colspan=\"1\" >0.7 cores </td>\n",
       "  </tr>\n",
       "  <tr>\n",
       "    <td rowstart=\"4\" colstart=\"0\" rowspan=\"1\" colspan=\"1\" >&nbsp;</td>\n",
       "    <td rowstart=\"4\" colstart=\"1\" rowspan=\"1\" colspan=\"1\" >Replica ratio </td>\n",
       "    <td rowstart=\"4\" colstart=\"2\" rowspan=\"1\" colspan=\"1\" >1 </td>\n",
       "    <td rowstart=\"4\" colstart=\"3\" rowspan=\"1\" colspan=\"1\" >1 </td>\n",
       "  </tr>\n",
       "  <tr>\n",
       "    <td rowstart=\"5\" colstart=\"0\" rowspan=\"1\" colspan=\"1\" >&nbsp;</td>\n",
       "    <td rowstart=\"5\" colstart=\"1\" rowspan=\"1\" colspan=\"1\" >Memory </td>\n",
       "    <td rowstart=\"5\" colstart=\"2\" rowspan=\"1\" colspan=\"1\" >700 MB </td>\n",
       "    <td rowstart=\"5\" colstart=\"3\" rowspan=\"1\" colspan=\"1\" >500 MB </td>\n",
       "  </tr>\n",
       "  <tr>\n",
       "    <td rowstart=\"6\" colstart=\"0\" rowspan=\"1\" colspan=\"1\" >Profile B </td>\n",
       "    <td rowstart=\"6\" colstart=\"1\" rowspan=\"1\" colspan=\"1\" >CPU </td>\n",
       "    <td rowstart=\"6\" colstart=\"2\" rowspan=\"1\" colspan=\"1\" >1.2 cores </td>\n",
       "    <td rowstart=\"6\" colstart=\"3\" rowspan=\"1\" colspan=\"1\" >0.7 cores </td>\n",
       "  </tr>\n",
       "  <tr>\n",
       "    <td rowstart=\"7\" colstart=\"0\" rowspan=\"1\" colspan=\"1\" >&nbsp;</td>\n",
       "    <td rowstart=\"7\" colstart=\"1\" rowspan=\"1\" colspan=\"1\" >Replica ratio </td>\n",
       "    <td rowstart=\"7\" colstart=\"2\" rowspan=\"1\" colspan=\"1\" >1 </td>\n",
       "    <td rowstart=\"7\" colstart=\"3\" rowspan=\"1\" colspan=\"1\" >4 </td>\n",
       "  </tr>\n",
       "</table>"
      ],
      "text/plain": [
       "<IPython.core.display.HTML object>"
      ]
     },
     "metadata": {},
     "output_type": "display_data"
    },
    {
     "data": {
      "text/markdown": [
       "## Table 1 on page 9"
      ],
      "text/plain": [
       "<IPython.core.display.Markdown object>"
      ]
     },
     "metadata": {},
     "output_type": "display_data"
    },
    {
     "data": {
      "text/html": [
       "<table>\n",
       "  <tr>\n",
       "    <th rowstart=\"0\" colstart=\"0\" rowspan=\"1\" colspan=\"1\" style=\"text-align: center;\">&nbsp;</th>\n",
       "    <td rowstart=\"0\" colstart=\"1\" rowspan=\"1\" colspan=\"1\" >distribution scheme </td>\n",
       "    <td rowstart=\"0\" colstart=\"2\" rowspan=\"1\" colspan=\"1\" >distribution scheme </td>\n",
       "  </tr>\n",
       "  <tr>\n",
       "    <td rowstart=\"1\" colstart=\"0\" rowspan=\"1\" colspan=\"1\" >profile </td>\n",
       "    <td rowstart=\"1\" colstart=\"1\" rowspan=\"1\" colspan=\"1\" >system state </td>\n",
       "    <td rowstart=\"1\" colstart=\"2\" rowspan=\"1\" colspan=\"1\" >document-level page-level </td>\n",
       "  </tr>\n",
       "  <tr>\n",
       "    <td rowstart=\"2\" colstart=\"0\" rowspan=\"1\" colspan=\"1\" >A </td>\n",
       "    <td rowstart=\"2\" colstart=\"1\" rowspan=\"1\" colspan=\"1\" >idle 32.6 </td>\n",
       "    <td rowstart=\"2\" colstart=\"2\" rowspan=\"1\" colspan=\"1\" >± 1.1 26.3 ± 0.9 </td>\n",
       "  </tr>\n",
       "  <tr>\n",
       "    <td rowstart=\"3\" colstart=\"0\" rowspan=\"1\" colspan=\"1\" >&nbsp;</td>\n",
       "    <td rowstart=\"3\" colstart=\"1\" rowspan=\"1\" colspan=\"1\" >busy 114.9 ± 17.5 </td>\n",
       "    <td rowstart=\"3\" colstart=\"2\" rowspan=\"1\" colspan=\"1\" >248.1 ± 17.3 </td>\n",
       "  </tr>\n",
       "  <tr>\n",
       "    <td rowstart=\"4\" colstart=\"0\" rowspan=\"1\" colspan=\"1\" >&nbsp;</td>\n",
       "    <td rowstart=\"4\" colstart=\"1\" rowspan=\"1\" colspan=\"1\" >idle 32.6 </td>\n",
       "    <td rowstart=\"4\" colstart=\"2\" rowspan=\"1\" colspan=\"1\" >± 0.2 25.7 ± 0.7 </td>\n",
       "  </tr>\n",
       "  <tr>\n",
       "    <td rowstart=\"5\" colstart=\"0\" rowspan=\"1\" colspan=\"1\" >B </td>\n",
       "    <td rowstart=\"5\" colstart=\"1\" rowspan=\"1\" colspan=\"1\" >busy 109.6 ± 47.7 </td>\n",
       "    <td rowstart=\"5\" colstart=\"2\" rowspan=\"1\" colspan=\"1\" >220.4 ± 34.2 </td>\n",
       "  </tr>\n",
       "</table>"
      ],
      "text/plain": [
       "<IPython.core.display.HTML object>"
      ]
     },
     "metadata": {},
     "output_type": "display_data"
    }
   ],
   "source": [
    "output_dir = tempfile.mkdtemp() # TODO: switch to tempfile.TemporaryDirectory() and use `with`\n",
    "\n",
    "documents.download_all(result_dir=output_dir, progress_bar=True)\n",
    "\n",
    "for output_file in Path(output_dir).rglob(\"json*.zip\"):\n",
    "    with ZipFile(output_file) as archive:\n",
    "        all_files = archive.namelist()\n",
    "        for name in all_files:\n",
    "            if not name.endswith(\".json\"):\n",
    "                continue\n",
    "            \n",
    "            basename = name.rstrip('.json')\n",
    "            doc_jsondata = json.loads(archive.read(f\"{basename}.json\"))\n",
    "\n",
    "            visualize_document_tables(doc_jsondata)"
   ]
  }
 ],
 "metadata": {
  "kernelspec": {
   "display_name": "Python 3 (ipykernel)",
   "language": "python",
   "name": "python3"
  },
  "language_info": {
   "codemirror_mode": {
    "name": "ipython",
    "version": 3
   },
   "file_extension": ".py",
   "mimetype": "text/x-python",
   "name": "python",
   "nbconvert_exporter": "python",
   "pygments_lexer": "ipython3",
   "version": "3.10.8"
  },
  "vscode": {
   "interpreter": {
    "hash": "aee8b7b246df8f9039afb4144a1f6fd8d2ca17a180786b69acc140d282b71a49"
   }
  }
 },
 "nbformat": 4,
 "nbformat_minor": 5
}
