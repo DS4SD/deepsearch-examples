{
 "cells": [
  {
   "cell_type": "code",
   "execution_count": 1,
   "id": "502cdef8",
   "metadata": {
    "ExecuteTime": {
     "end_time": "2022-08-02T12:14:25.377422Z",
     "start_time": "2022-08-02T12:14:25.152485Z"
    }
   },
   "outputs": [],
   "source": [
    "import json\n",
    "from pathlib import Path\n",
    "import deepsearch as ds\n",
    "from deepsearch.documents.core.models import ConversionSettings, DefaultConversionModel, ProjectConversionModel, \\\n",
    "    OCRSettings"
   ]
  },
  {
   "cell_type": "markdown",
   "id": "37d96e78",
   "metadata": {},
   "source": [
    "# IBM Deep Search Document Conversion"
   ]
  },
  {
   "cell_type": "markdown",
   "id": "4edb626f",
   "metadata": {},
   "source": [
    "## Getting started\n",
    "\n",
    "The [Deep Search Toolkit](https://ds4sd.github.io/deepsearch-toolkit/) allows document conversion with the following few lines of code. It's that simple! For more info or step-by-step guide:\n",
    "- Visit https://ds4sd.github.io/deepsearch-toolkit/guide/convert_doc/\n",
    "- Follow this example notebook"
   ]
  },
  {
   "cell_type": "markdown",
   "id": "3ce0acf2",
   "metadata": {},
   "source": [
    "⚠️ Before running this notebook, generate the file `../../ds-auth.json` via\n",
    "```shell\n",
    "deepsearch login --output ../../ds-auth.json\n",
    "```\n",
    "More details in the [docs](https://ds4sd.github.io/deepsearch-toolkit/getting_started/#authentication)."
   ]
  },
  {
   "cell_type": "code",
   "execution_count": 2,
   "id": "ec83eb0b",
   "metadata": {
    "ExecuteTime": {
     "end_time": "2022-08-02T12:14:49.216045Z",
     "start_time": "2022-08-02T12:14:25.380757Z"
    }
   },
   "outputs": [
    {
     "name": "stderr",
     "output_type": "stream",
     "text": [
      "Processing input:     : 100%|\u001b[38;2;15;98;254m██████████████████████████████\u001b[0m| 1/1 [00:00<00:00, 51.03it/s]\u001b[38;2;15;98;254m                                                                                                    \u001b[0m\n",
      "Submitting input:     : 100%|\u001b[38;2;15;98;254m██████████████████████████████\u001b[0m| 1/1 [00:06<00:00,  6.26s/it]\u001b[38;2;15;98;254m                                                                                                    \u001b[0m\n",
      "Converting input:     : 100%|\u001b[38;2;15;98;254m██████████████████████████████\u001b[0m| 1/1 [00:33<00:00, 33.69s/it]\u001b[38;2;15;98;254m                                                                                                    \u001b[0m\n"
     ]
    },
    {
     "name": "stdout",
     "output_type": "stream",
     "text": [
      "{'Total documents': 1, 'Successfully converted documents': 1}\n"
     ]
    }
   ],
   "source": [
    "host = \"https://deepsearch-experience.res.ibm.com\"\n",
    "proj = \"1234567890abcdefghijklmnopqrstvwyz123456\"\n",
    "\n",
    "# This file can be generated via `deepsearch login --output ../../ds-auth.json`,\n",
    "# or see the example ../../ds-auth.json.example\n",
    "config_file = Path(\"../../ds-auth.json\")\n",
    "\n",
    "config = ds.DeepSearchConfig.parse_file(config_file)\n",
    "client = ds.CpsApiClient(config)\n",
    "api = ds.CpsApi(client)\n",
    "\n",
    "## Modify conversion pipeline\n",
    "cs = ConversionSettings.from_project(api, proj_key=proj)\n",
    "\n",
    "# OCR\n",
    "cs.ocr.enabled = True ## Enable or disable OCR\n",
    "# cs.ocr.merge_mode = \"prioritize-ocr\" # Pick how OCR cells are treated when mixed with programmatic content\n",
    "\n",
    "# backends = OCRSettings.get_backends(api) # list OCR backends\n",
    "cs.ocr.backend = \"alpine-ocr\" ## Pick OCR backend\n",
    "\n",
    "documents = ds.convert_documents(\n",
    "    api=api,\n",
    "    proj_key=proj,\n",
    "    source_path=\"../../data/samples/2206.01062.pdf\",\n",
    "    conversion_settings=cs,\n",
    "    progress_bar=True\n",
    ")           \n",
    "documents.download_all(result_dir=\"./converted_docs\")\n",
    "info = documents.generate_report(result_dir=\"./converted_docs\")\n",
    "print(info) "
   ]
  },
  {
   "cell_type": "markdown",
   "id": "b9a511c9",
   "metadata": {},
   "source": [
    "---"
   ]
  },
  {
   "cell_type": "code",
   "execution_count": null,
   "id": "463e7f6b",
   "metadata": {},
   "outputs": [],
   "source": []
  }
 ],
 "metadata": {
  "kernelspec": {
   "display_name": "Python 3 (ipykernel)",
   "language": "python",
   "name": "python3"
  },
  "language_info": {
   "codemirror_mode": {
    "name": "ipython",
    "version": 3
   },
   "file_extension": ".py",
   "mimetype": "text/x-python",
   "name": "python",
   "nbconvert_exporter": "python",
   "pygments_lexer": "ipython3",
   "version": "3.8.12"
  },
  "toc": {
   "base_numbering": 1,
   "nav_menu": {},
   "number_sections": true,
   "sideBar": true,
   "skip_h1_title": false,
   "title_cell": "Table of Contents",
   "title_sidebar": "Contents",
   "toc_cell": false,
   "toc_position": {},
   "toc_section_display": true,
   "toc_window_display": false
  },
  "vscode": {
   "interpreter": {
    "hash": "23663f76e1e243f0a6319b8ef58f504b6b45c83666dfefd3138ba8cf69ab01fa"
   }
  }
 },
 "nbformat": 4,
 "nbformat_minor": 5
}
