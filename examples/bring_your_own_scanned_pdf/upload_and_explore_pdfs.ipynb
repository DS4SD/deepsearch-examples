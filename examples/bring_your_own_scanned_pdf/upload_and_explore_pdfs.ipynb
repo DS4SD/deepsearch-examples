{
 "cells": [
  {
   "cell_type": "markdown",
   "id": "8ee29891",
   "metadata": {},
   "source": [
    "# Bring Your Own PDFs\n",
    "\n",
    "In this example we combine the document conversion capabilities of Deep Search with its data query capabilities.\n",
    "From the Deep Search Workspace, we create a new project data index which can host our own PDF documents.\n",
    "Once the upload is completed, we will be able to query the documents, similar to the public data which we\n",
    "explored in the [Data query quick start example](../data_query_quick_start/). \n",
    "\n",
    "\n",
    "### Access required\n",
    "\n",
    "The content of this notebook requires access to Deep Search capabilities which are not\n",
    "available on the public access system.\n",
    "\n",
    "[Contact us](https://ds4sd.github.io/#unlimited-access) if you are interested in exploring\n",
    "this Deep Search capabilities."
   ]
  },
  {
   "cell_type": "markdown",
   "id": "d9727409",
   "metadata": {},
   "source": [
    "### Authentication via stored credentials\n",
    "\n",
    "In this example, we initialize the Deep Search client from the credentials\n",
    "contained in the file `../../ds-auth.ext-v2.json`. This can be generated with\n",
    "\n",
    "```shell\n",
    "!deepsearch login --host https://deepsearch-ext-v2-535206b87b82b5365d9d6671fbc19165-0000.us-south.containers.appdomain.cloud/ --output ../../ds-auth.ext-v2.json\n",
    "```\n",
    "\n",
    "The extra `--host` argument is required in this example to target the limited access instance\n",
    "\n",
    "More details in the [docs](https://ds4sd.github.io/deepsearch-toolkit/getting_started/#authentication)."
   ]
  },
  {
   "cell_type": "markdown",
   "id": "5d8e88b4",
   "metadata": {},
   "source": [
    "### Notebooks parameters\n",
    "\n",
    "The following block defines the parameters used to execute the notebook\n",
    "\n",
    "- `CONFIG_FILE`: location of the Deep Search configuration file\n",
    "- `PROJ_NAME`: the name for the project to create\n",
    "- `INDEX_NAME`: the name for the data index to create\n",
    "- `INPUT_FILES_FOLDER`: the files to upload\n",
    "- `CLEANUP`: if true, it will delete the resources at the end of the execution"
   ]
  },
  {
   "cell_type": "code",
   "execution_count": 18,
   "id": "13560ae0",
   "metadata": {},
   "outputs": [],
   "source": [
    "# Input parameters for the example flow\n",
    "from pathlib import Path\n",
    "import datetime\n",
    "CONFIG_FILE = Path(\"../../ds-auth.ext-v2.json\")\n",
    "\n",
    "timestamp = datetime.datetime.now()\n",
    "PROJ_NAME = f\"Example project of {timestamp.strftime('%Y%m%d')}\"\n",
    "INDEX_NAME = f\"Example docs upload {timestamp.strftime('%Y%m%d %H%M%S')}\"\n",
    "INPUT_FILES_FOLDER = Path(\"../../data/samples/scanned_documents\")\n",
    "\n",
    "# Cleanup\n",
    "CLEANUP = True"
   ]
  },
  {
   "cell_type": "markdown",
   "id": "0531c9c4",
   "metadata": {},
   "source": [
    "### Import example dependencies"
   ]
  },
  {
   "cell_type": "code",
   "execution_count": 19,
   "id": "1ea3cd26",
   "metadata": {},
   "outputs": [],
   "source": [
    "# Import standard dependenices\n",
    "import datetime\n",
    "from copy import deepcopy\n",
    "from tqdm.notebook import tqdm\n",
    "import pandas as pd\n",
    "import tempfile\n",
    "import json\n",
    "\n",
    "# IPython utilities\n",
    "from IPython.display import display, Markdown, HTML, display_html\n",
    "\n",
    "# Import the deepsearch-toolkit\n",
    "import deepsearch as ds\n",
    "from deepsearch.cps.queries import DataQuery\n",
    "from deepsearch.cps.client.components.queries import RunQueryError\n",
    "from deepsearch.cps.data_indices import utils as data_indices_utils\n",
    "from deepsearch.documents.core.models import ConversionSettings\n"
   ]
  },
  {
   "cell_type": "markdown",
   "id": "8f8be733",
   "metadata": {},
   "source": [
    "### Connect to Deep Search"
   ]
  },
  {
   "cell_type": "code",
   "execution_count": 20,
   "id": "fae4dee3",
   "metadata": {},
   "outputs": [],
   "source": [
    "# Initialize the Deep Search client from the config file\n",
    "config = ds.DeepSearchConfig.parse_file(CONFIG_FILE)\n",
    "client = ds.CpsApiClient(config)\n",
    "api = ds.CpsApi(client)"
   ]
  },
  {
   "cell_type": "markdown",
   "id": "18957147",
   "metadata": {},
   "source": [
    "### Create data index and upload data"
   ]
  },
  {
   "cell_type": "code",
   "execution_count": 28,
   "id": "f5496626",
   "metadata": {},
   "outputs": [],
   "source": [
    "# Create example project\n",
    "proj = api.projects.create(name=PROJ_NAME)\n",
    "# Create a new data index in your project\n",
    "data_index = api.data_indices.create(proj_key=proj.key, name=INDEX_NAME)"
   ]
  },
  {
   "cell_type": "code",
   "execution_count": 29,
   "id": "530fd67a",
   "metadata": {},
   "outputs": [],
   "source": [
    "# Upload and convert documents\n",
    "#Define the OCR to be used\n",
    "conv_settings = ConversionSettings().from_project(api, proj_key=proj.key)\n",
    "conv_settings.ocr.enabled= True\n",
    "conv_settings.ocr.merge_mode= 'prioritize-ocr'\n",
    "conv_settings.ocr.backend= 'alpine-ocr'\n",
    "\n",
    "\n",
    "data_indices_utils.upload_files(api=api, coords=data_index.source, local_file=INPUT_FILES_FOLDER, conv_settings=conv_settings)"
   ]
  },
  {
   "cell_type": "code",
   "execution_count": 30,
   "id": "bfe83b90",
   "metadata": {},
   "outputs": [
    {
     "data": {
      "text/markdown": [
       "The data is now available. You can query it programmatically (see next section) or access it via the Deep Search UI at <br />https://cps.foc-deepsearch.zurich.ibm.com/projects/e6cd444006224102f0758e6666c09c8969dc94ab/data/project/8244be0d8f4e5e02e2c8db3ecab85a5bb5c418a7/"
      ],
      "text/plain": [
       "<IPython.core.display.Markdown object>"
      ]
     },
     "metadata": {},
     "output_type": "display_data"
    }
   ],
   "source": [
    "display(Markdown(f\"The data is now available. You can query it programmatically (see next section) or access it via the Deep Search UI at <br />{api.client.config.host}/projects/{data_index.source.proj_key}/data/project/{data_index.source.index_key}/\"))\n"
   ]
  },
  {
   "cell_type": "markdown",
   "id": "45ec4a93",
   "metadata": {},
   "source": [
    "### Download your data"
   ]
  },
  {
   "cell_type": "code",
   "execution_count": 31,
   "id": "a669e5a9",
   "metadata": {},
   "outputs": [
    {
     "data": {
      "application/vnd.jupyter.widget-view+json": {
       "model_id": "c5793cb814dd450eab77421f8f04eefe",
       "version_major": 2,
       "version_minor": 0
      },
      "text/plain": [
       "0it [00:00, ?it/s]"
      ]
     },
     "metadata": {},
     "output_type": "display_data"
    },
    {
     "name": "stdout",
     "output_type": "stream",
     "text": [
      "'title'\n",
      "Finished fetching all data. Total is 1 records.\n",
      "Data downloaded in /tmp/tmpt_7juiy8\n"
     ]
    }
   ],
   "source": [
    "# Run query\n",
    "query = DataQuery(search_query=\"*\", source=[\"*\"], coordinates=data_index.source)\n",
    "cursor = api.queries.run_paginated_query(query)\n",
    "\n",
    "# Using a temp dir for demo purposes; to persist instead, set output dir accordingly\n",
    "temp_dir = tempfile.TemporaryDirectory()\n",
    "output_dir = temp_dir.name\n",
    "\n",
    "# Iterate through query results\n",
    "all_results = []\n",
    "for result_page in tqdm(cursor):\n",
    "    for row in result_page.outputs[\"data_outputs\"]:\n",
    "\n",
    "        # Download JSON file\n",
    "        file_path = Path(output_dir) / f\"{row['_id']}.json\"\n",
    "        with open(file_path, \"w\") as outfile:\n",
    "            json.dump(row[\"_source\"], outfile, indent=2)\n",
    "        try:\n",
    "            all_results.append({\n",
    "                \"Title\": row[\"_source\"][\"description\"][\"title\"],\n",
    "                \"Path\": file_path,\n",
    "            })\n",
    "        except KeyError as e:\n",
    "            print(e)\n",
    "\n",
    "print(f\"Finished fetching all data. Total is {len(all_results)} records.\")\n",
    "print(f\"Data downloaded in {output_dir}\")"
   ]
  },
  {
   "cell_type": "code",
   "execution_count": 32,
   "id": "e997bbae",
   "metadata": {},
   "outputs": [
    {
     "data": {
      "text/html": [
       "<div>\n",
       "<style scoped>\n",
       "    .dataframe tbody tr th:only-of-type {\n",
       "        vertical-align: middle;\n",
       "    }\n",
       "\n",
       "    .dataframe tbody tr th {\n",
       "        vertical-align: top;\n",
       "    }\n",
       "\n",
       "    .dataframe thead th {\n",
       "        text-align: right;\n",
       "    }\n",
       "</style>\n",
       "<table border=\"1\" class=\"dataframe\">\n",
       "  <thead>\n",
       "    <tr style=\"text-align: right;\">\n",
       "      <th></th>\n",
       "      <th>Title</th>\n",
       "      <th>Path</th>\n",
       "    </tr>\n",
       "  </thead>\n",
       "  <tbody>\n",
       "    <tr>\n",
       "      <th>0</th>\n",
       "      <td>Missouri Public Water Systems BILL TO:</td>\n",
       "      <td>/tmp/tmpt_7juiy8/780668c60178a66e31394f81ad092...</td>\n",
       "    </tr>\n",
       "  </tbody>\n",
       "</table>\n",
       "</div>"
      ],
      "text/plain": [
       "                                    Title  \\\n",
       "0  Missouri Public Water Systems BILL TO:   \n",
       "\n",
       "                                                Path  \n",
       "0  /tmp/tmpt_7juiy8/780668c60178a66e31394f81ad092...  "
      ]
     },
     "metadata": {},
     "output_type": "display_data"
    }
   ],
   "source": [
    "# Visualize the table with all results\n",
    "df = pd.json_normalize(all_results)\n",
    "display(df)"
   ]
  },
  {
   "cell_type": "markdown",
   "id": "b13b5f9e",
   "metadata": {},
   "source": [
    "### Cleanup\n",
    "If enabled, we will delete all the resources created in the example"
   ]
  },
  {
   "cell_type": "code",
   "execution_count": 26,
   "id": "9a0b82b8",
   "metadata": {},
   "outputs": [
    {
     "name": "stdout",
     "output_type": "stream",
     "text": [
      "Project data deleted\n"
     ]
    }
   ],
   "source": [
    "# Delete data index\n",
    "if CLEANUP:\n",
    "    api.data_indices.delete(data_index.source)\n",
    "    print(\"Project data deleted\")"
   ]
  },
  {
   "cell_type": "code",
   "execution_count": 27,
   "id": "bb1aec5c",
   "metadata": {},
   "outputs": [
    {
     "name": "stdout",
     "output_type": "stream",
     "text": [
      "Project deleted\n"
     ]
    }
   ],
   "source": [
    "# Delete project\n",
    "if CLEANUP:\n",
    "    api.projects.remove(project=proj)\n",
    "    print(\"Project deleted\")"
   ]
  },
  {
   "cell_type": "code",
   "execution_count": null,
   "id": "1a611b03",
   "metadata": {},
   "outputs": [],
   "source": []
  }
 ],
 "metadata": {
  "kernelspec": {
   "display_name": "Python 3 (ipykernel)",
   "language": "python",
   "name": "python3"
  },
  "language_info": {
   "codemirror_mode": {
    "name": "ipython",
    "version": 3
   },
   "file_extension": ".py",
   "mimetype": "text/x-python",
   "name": "python",
   "nbconvert_exporter": "python",
   "pygments_lexer": "ipython3",
   "version": "3.9.16"
  }
 },
 "nbformat": 4,
 "nbformat_minor": 5
}
