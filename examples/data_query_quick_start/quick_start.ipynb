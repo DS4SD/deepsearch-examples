{
 "cells": [
  {
   "cell_type": "markdown",
   "id": "8ee29891",
   "metadata": {},
   "source": [
    "# Data queries - Quick start\n",
    "\n",
    "Deep Search parses and interprets large collections of documents quickly and concurrently.\n",
    "These collections are stored and indexed such that you can search and retrieve any document according to their contents.\n",
    "\n",
    "Depending if the user is querying public or private data, the commands will look a bit different.\n",
    "In this example we first showcase both:\n",
    "\n",
    "1. Query public data\n",
    "    1. [Inspect Deep Search data](#Inspect-Deep-Search-data)\n",
    "    2. [Search documents](#Search-documents)\n",
    "3. [Query private data](#Query-private-data)\n",
    "\n",
    "\n",
    "### Access required\n",
    "\n",
    "The content of this notebook requires access to Deep Search capabilities which are not\n",
    "available on the public access system.\n",
    "\n",
    "[Contact us](https://ds4sd.github.io) if you are interested in exploring\n",
    "these Deep Search capabilities."
   ]
  },
  {
   "cell_type": "markdown",
   "id": "5d8e88b4",
   "metadata": {},
   "source": [
    "### Set notebook parameters"
   ]
  },
  {
   "cell_type": "code",
   "execution_count": 1,
   "id": "13560ae0",
   "metadata": {
    "execution": {
     "iopub.execute_input": "2024-05-27T16:58:30.702563Z",
     "iopub.status.busy": "2024-05-27T16:58:30.702155Z",
     "iopub.status.idle": "2024-05-27T16:58:32.815522Z",
     "shell.execute_reply": "2024-05-27T16:58:32.814752Z",
     "shell.execute_reply.started": "2024-05-27T16:58:30.702532Z"
    }
   },
   "outputs": [],
   "source": [
    "from dsnotebooks.settings import CollOptionalNotebookSettings\n",
    "\n",
    "# notebook settings auto-loaded from .env / env vars\n",
    "notebook_settings = CollOptionalNotebookSettings()\n",
    "\n",
    "PROFILE_NAME = notebook_settings.profile  # the profile to use\n",
    "\n",
    "# The following settings are required only for running the private data part of this example\n",
    "PROJ_KEY = (\n",
    "    notebook_settings.proj_key\n",
    ")  # the project containing the private data to query\n",
    "INDEX_KEY = (\n",
    "    notebook_settings.index_key\n",
    ")  # the data collection containing the private data to query"
   ]
  },
  {
   "cell_type": "markdown",
   "id": "0531c9c4",
   "metadata": {},
   "source": [
    "### Import example dependencies"
   ]
  },
  {
   "cell_type": "code",
   "execution_count": 7,
   "id": "1ea3cd26",
   "metadata": {
    "execution": {
     "iopub.execute_input": "2024-05-27T16:58:32.816786Z",
     "iopub.status.busy": "2024-05-27T16:58:32.816408Z",
     "iopub.status.idle": "2024-05-27T16:58:34.102341Z",
     "shell.execute_reply": "2024-05-27T16:58:34.101592Z",
     "shell.execute_reply.started": "2024-05-27T16:58:32.816764Z"
    }
   },
   "outputs": [],
   "source": [
    "# Import standard dependenices\n",
    "from copy import deepcopy\n",
    "from datetime import datetime\n",
    "import pandas as pd\n",
    "from numerize.numerize import numerize\n",
    "from tqdm.notebook import tqdm\n",
    "import matplotlib.pyplot as plt\n",
    "\n",
    "%matplotlib inline\n",
    "\n",
    "# IPython utilities\n",
    "from IPython.display import display, HTML\n",
    "\n",
    "# Import the deepsearch-toolkit\n",
    "import deepsearch as ds\n",
    "from deepsearch.cps.client.components.elastic import (\n",
    "    ElasticDataCollectionSource,\n",
    ")  # For public collections\n",
    "from deepsearch.cps.client.components.data_indices import (\n",
    "    ElasticProjectDataCollectionSource,\n",
    ")  # For private collections\n",
    "from deepsearch.cps.queries import DataQuery"
   ]
  },
  {
   "cell_type": "markdown",
   "id": "8f8be733",
   "metadata": {},
   "source": [
    "### Connect to Deep Search"
   ]
  },
  {
   "cell_type": "code",
   "execution_count": 3,
   "id": "fae4dee3",
   "metadata": {
    "execution": {
     "iopub.execute_input": "2024-05-27T16:58:34.103786Z",
     "iopub.status.busy": "2024-05-27T16:58:34.103345Z",
     "iopub.status.idle": "2024-05-27T16:58:34.520849Z",
     "shell.execute_reply": "2024-05-27T16:58:34.519980Z",
     "shell.execute_reply.started": "2024-05-27T16:58:34.103761Z"
    }
   },
   "outputs": [],
   "source": [
    "api = ds.CpsApi.from_env(profile_name=PROFILE_NAME)"
   ]
  },
  {
   "cell_type": "markdown",
   "id": "496827ea",
   "metadata": {},
   "source": [
    "---\n",
    "\n",
    "## Inspect Deep Search data\n",
    "\n",
    "In this section we will inspect the different data collections on Deep Search and we will perform soma initial searches.\n",
    "\n",
    "Explanation of the columns\n",
    "- **Name**: The name of the data collection\n",
    "- **Type**: Type of content in the data collection (see below)\n",
    "- **Date**: Date of the last update on the data\n",
    "- **Num entries**: Number of entries in the data collection\n",
    "- **Coords**: Coordinates needed in the Deep Search Toolkit to query a specific data collection\n",
    "\n",
    "\n",
    "Type of data collections\n",
    "- **Document**: A collection of documents. These are either PDF documents already converted via the Deep Search document conversion, or data sources which can be mapped to the same format, e.g. the USPTO patents are obtained as sourced as XML\n",
    "- **Record**: A collection of DB records in a structure database. For example, the content of PubChem is made available in this format. "
   ]
  },
  {
   "cell_type": "code",
   "execution_count": 4,
   "id": "45beab94",
   "metadata": {
    "execution": {
     "iopub.execute_input": "2024-05-27T16:58:34.523584Z",
     "iopub.status.busy": "2024-05-27T16:58:34.522938Z",
     "iopub.status.idle": "2024-05-27T16:58:35.455009Z",
     "shell.execute_reply": "2024-05-27T16:58:35.453883Z",
     "shell.execute_reply.started": "2024-05-27T16:58:34.523550Z"
    }
   },
   "outputs": [],
   "source": [
    "# Fetch list of all data collections\n",
    "collections = api.elastic.list()\n",
    "collections.sort(key=lambda c: c.name.lower())"
   ]
  },
  {
   "cell_type": "code",
   "execution_count": 8,
   "id": "f915761b",
   "metadata": {
    "execution": {
     "iopub.execute_input": "2024-05-27T16:58:35.459159Z",
     "iopub.status.busy": "2024-05-27T16:58:35.457758Z",
     "iopub.status.idle": "2024-05-27T16:58:35.487512Z",
     "shell.execute_reply": "2024-05-27T16:58:35.486265Z",
     "shell.execute_reply.started": "2024-05-27T16:58:35.459008Z"
    }
   },
   "outputs": [
    {
     "data": {
      "text/html": [
       "<div>\n",
       "<style scoped>\n",
       "    .dataframe tbody tr th:only-of-type {\n",
       "        vertical-align: middle;\n",
       "    }\n",
       "\n",
       "    .dataframe tbody tr th {\n",
       "        vertical-align: top;\n",
       "    }\n",
       "\n",
       "    .dataframe thead th {\n",
       "        text-align: right;\n",
       "    }\n",
       "</style>\n",
       "<table border=\"1\" class=\"dataframe\">\n",
       "  <thead>\n",
       "    <tr style=\"text-align: right;\">\n",
       "      <th></th>\n",
       "      <th>Name</th>\n",
       "      <th>Type</th>\n",
       "      <th>Num entries</th>\n",
       "      <th>Date</th>\n",
       "      <th>Coords</th>\n",
       "    </tr>\n",
       "  </thead>\n",
       "  <tbody>\n",
       "    <tr>\n",
       "      <th>0</th>\n",
       "      <td>AAAI</td>\n",
       "      <td>Document</td>\n",
       "      <td>16.02K</td>\n",
       "      <td>2023-08-29</td>\n",
       "      <td>default/aaai</td>\n",
       "    </tr>\n",
       "    <tr>\n",
       "      <th>1</th>\n",
       "      <td>ACL Anthology</td>\n",
       "      <td>Document</td>\n",
       "      <td>55.28K</td>\n",
       "      <td>2023-08-22</td>\n",
       "      <td>default/acl</td>\n",
       "    </tr>\n",
       "    <tr>\n",
       "      <th>2</th>\n",
       "      <td>Annual Reports</td>\n",
       "      <td>Document</td>\n",
       "      <td>107.38K</td>\n",
       "      <td>2024-04-15</td>\n",
       "      <td>default/annual-report</td>\n",
       "    </tr>\n",
       "    <tr>\n",
       "      <th>3</th>\n",
       "      <td>arXiv abstracts</td>\n",
       "      <td>Document</td>\n",
       "      <td>2.48M</td>\n",
       "      <td>2024-05-22</td>\n",
       "      <td>default/arxiv-abstract</td>\n",
       "    </tr>\n",
       "    <tr>\n",
       "      <th>4</th>\n",
       "      <td>arXiv category taxonomy</td>\n",
       "      <td>Record</td>\n",
       "      <td>155</td>\n",
       "      <td>2024-05-22</td>\n",
       "      <td>default/arxiv-category</td>\n",
       "    </tr>\n",
       "    <tr>\n",
       "      <th>...</th>\n",
       "      <td>...</td>\n",
       "      <td>...</td>\n",
       "      <td>...</td>\n",
       "      <td>...</td>\n",
       "      <td>...</td>\n",
       "    </tr>\n",
       "    <tr>\n",
       "      <th>56</th>\n",
       "      <td>UMLS</td>\n",
       "      <td>Record</td>\n",
       "      <td>2.69M</td>\n",
       "      <td>2023-01-03</td>\n",
       "      <td>default/umls</td>\n",
       "    </tr>\n",
       "    <tr>\n",
       "      <th>57</th>\n",
       "      <td>UniProt</td>\n",
       "      <td>Record</td>\n",
       "      <td>567.48K</td>\n",
       "      <td>2023-01-03</td>\n",
       "      <td>default/uniprot</td>\n",
       "    </tr>\n",
       "    <tr>\n",
       "      <th>58</th>\n",
       "      <td>USPTO patents for NER</td>\n",
       "      <td>Document</td>\n",
       "      <td>2.64K</td>\n",
       "      <td>2023-03-20</td>\n",
       "      <td>default/uspto-for-ner</td>\n",
       "    </tr>\n",
       "    <tr>\n",
       "      <th>59</th>\n",
       "      <td>VHDL articles</td>\n",
       "      <td>Document</td>\n",
       "      <td>215</td>\n",
       "      <td>2024-04-23</td>\n",
       "      <td>default/vhdl</td>\n",
       "    </tr>\n",
       "    <tr>\n",
       "      <th>60</th>\n",
       "      <td>Wikipedia</td>\n",
       "      <td>Document</td>\n",
       "      <td>6.45M</td>\n",
       "      <td>2024-02-26</td>\n",
       "      <td>default/wikipedia</td>\n",
       "    </tr>\n",
       "  </tbody>\n",
       "</table>\n",
       "<p>61 rows × 5 columns</p>\n",
       "</div>"
      ],
      "text/plain": [
       "                       Name      Type Num entries        Date  \\\n",
       "0                      AAAI  Document      16.02K  2023-08-29   \n",
       "1             ACL Anthology  Document      55.28K  2023-08-22   \n",
       "2            Annual Reports  Document     107.38K  2024-04-15   \n",
       "3           arXiv abstracts  Document       2.48M  2024-05-22   \n",
       "4   arXiv category taxonomy    Record         155  2024-05-22   \n",
       "..                      ...       ...         ...         ...   \n",
       "56                     UMLS    Record       2.69M  2023-01-03   \n",
       "57                  UniProt    Record     567.48K  2023-01-03   \n",
       "58    USPTO patents for NER  Document       2.64K  2023-03-20   \n",
       "59            VHDL articles  Document         215  2024-04-23   \n",
       "60                Wikipedia  Document       6.45M  2024-02-26   \n",
       "\n",
       "                    Coords  \n",
       "0             default/aaai  \n",
       "1              default/acl  \n",
       "2    default/annual-report  \n",
       "3   default/arxiv-abstract  \n",
       "4   default/arxiv-category  \n",
       "..                     ...  \n",
       "56            default/umls  \n",
       "57         default/uniprot  \n",
       "58   default/uspto-for-ner  \n",
       "59            default/vhdl  \n",
       "60       default/wikipedia  \n",
       "\n",
       "[61 rows x 5 columns]"
      ]
     },
     "metadata": {},
     "output_type": "display_data"
    }
   ],
   "source": [
    "# Visualize summary table\n",
    "results = [\n",
    "    {\n",
    "        \"Name\": c.name,\n",
    "        \"Type\": c.metadata.type,\n",
    "        \"Num entries\": numerize(c.documents),\n",
    "        \"Date\": datetime.fromisoformat(c.metadata.created).strftime(\"%Y-%m-%d\"),\n",
    "        \"Coords\": f\"{c.source.elastic_id}/{c.source.index_key}\",\n",
    "    }\n",
    "    for c in collections\n",
    "]\n",
    "display(pd.DataFrame(results))"
   ]
  },
  {
   "cell_type": "markdown",
   "id": "e4470aaf",
   "metadata": {},
   "source": [
    "### Search among data collections\n",
    "\n",
    "In the following section we will count how many results we obtain in each data collection.\n",
    "\n",
    "⚠️ To just count, pass an empty list as `source` argument in the `DataQuery` class to avoid unnecessary data transfers."
   ]
  },
  {
   "cell_type": "code",
   "execution_count": 9,
   "id": "81df4c38",
   "metadata": {
    "execution": {
     "iopub.execute_input": "2024-05-27T16:58:35.489724Z",
     "iopub.status.busy": "2024-05-27T16:58:35.489353Z",
     "iopub.status.idle": "2024-05-27T16:58:41.935686Z",
     "shell.execute_reply": "2024-05-27T16:58:41.934388Z",
     "shell.execute_reply.started": "2024-05-27T16:58:35.489694Z"
    }
   },
   "outputs": [
    {
     "data": {
      "application/vnd.jupyter.widget-view+json": {
       "model_id": "c1eafade180c44bd8f392727d20b0ed5",
       "version_major": 2,
       "version_minor": 0
      },
      "text/plain": [
       "  0%|          | 0/61 [00:00<?, ?it/s]"
      ]
     },
     "metadata": {},
     "output_type": "display_data"
    },
    {
     "data": {
      "text/html": [
       "<div>\n",
       "<style scoped>\n",
       "    .dataframe tbody tr th:only-of-type {\n",
       "        vertical-align: middle;\n",
       "    }\n",
       "\n",
       "    .dataframe tbody tr th {\n",
       "        vertical-align: top;\n",
       "    }\n",
       "\n",
       "    .dataframe thead th {\n",
       "        text-align: right;\n",
       "    }\n",
       "</style>\n",
       "<table border=\"1\" class=\"dataframe\">\n",
       "  <thead>\n",
       "    <tr style=\"text-align: right;\">\n",
       "      <th></th>\n",
       "      <th>name</th>\n",
       "      <th>matches</th>\n",
       "    </tr>\n",
       "  </thead>\n",
       "  <tbody>\n",
       "    <tr>\n",
       "      <th>0</th>\n",
       "      <td>Patents from USPTO</td>\n",
       "      <td>11755</td>\n",
       "    </tr>\n",
       "    <tr>\n",
       "      <th>1</th>\n",
       "      <td>Semantic Scholar Academic Graph</td>\n",
       "      <td>11648</td>\n",
       "    </tr>\n",
       "    <tr>\n",
       "      <th>2</th>\n",
       "      <td>PubMed Central</td>\n",
       "      <td>6050</td>\n",
       "    </tr>\n",
       "    <tr>\n",
       "      <th>3</th>\n",
       "      <td>Patents from EPO</td>\n",
       "      <td>2929</td>\n",
       "    </tr>\n",
       "    <tr>\n",
       "      <th>4</th>\n",
       "      <td>arXiv full documents</td>\n",
       "      <td>2031</td>\n",
       "    </tr>\n",
       "    <tr>\n",
       "      <th>5</th>\n",
       "      <td>News</td>\n",
       "      <td>1478</td>\n",
       "    </tr>\n",
       "    <tr>\n",
       "      <th>6</th>\n",
       "      <td>PLOS</td>\n",
       "      <td>570</td>\n",
       "    </tr>\n",
       "    <tr>\n",
       "      <th>7</th>\n",
       "      <td>Wikipedia</td>\n",
       "      <td>477</td>\n",
       "    </tr>\n",
       "    <tr>\n",
       "      <th>8</th>\n",
       "      <td>BioRxiv</td>\n",
       "      <td>447</td>\n",
       "    </tr>\n",
       "    <tr>\n",
       "      <th>9</th>\n",
       "      <td>Patents from KIPO</td>\n",
       "      <td>212</td>\n",
       "    </tr>\n",
       "    <tr>\n",
       "      <th>10</th>\n",
       "      <td>Annual Reports</td>\n",
       "      <td>194</td>\n",
       "    </tr>\n",
       "    <tr>\n",
       "      <th>11</th>\n",
       "      <td>IEEE</td>\n",
       "      <td>187</td>\n",
       "    </tr>\n",
       "    <tr>\n",
       "      <th>12</th>\n",
       "      <td>Cord19</td>\n",
       "      <td>93</td>\n",
       "    </tr>\n",
       "    <tr>\n",
       "      <th>13</th>\n",
       "      <td>ChemRxiv</td>\n",
       "      <td>79</td>\n",
       "    </tr>\n",
       "    <tr>\n",
       "      <th>14</th>\n",
       "      <td>arXiv abstracts</td>\n",
       "      <td>75</td>\n",
       "    </tr>\n",
       "    <tr>\n",
       "      <th>15</th>\n",
       "      <td>PubMed Central (PDF)</td>\n",
       "      <td>70</td>\n",
       "    </tr>\n",
       "    <tr>\n",
       "      <th>16</th>\n",
       "      <td>DOAB</td>\n",
       "      <td>62</td>\n",
       "    </tr>\n",
       "    <tr>\n",
       "      <th>17</th>\n",
       "      <td>ESG Reports</td>\n",
       "      <td>33</td>\n",
       "    </tr>\n",
       "    <tr>\n",
       "      <th>18</th>\n",
       "      <td>Patents from JPO</td>\n",
       "      <td>31</td>\n",
       "    </tr>\n",
       "    <tr>\n",
       "      <th>19</th>\n",
       "      <td>SEC Edgar filings</td>\n",
       "      <td>26</td>\n",
       "    </tr>\n",
       "    <tr>\n",
       "      <th>20</th>\n",
       "      <td>MedRxiv</td>\n",
       "      <td>24</td>\n",
       "    </tr>\n",
       "    <tr>\n",
       "      <th>21</th>\n",
       "      <td>IBM Redbooks</td>\n",
       "      <td>20</td>\n",
       "    </tr>\n",
       "    <tr>\n",
       "      <th>22</th>\n",
       "      <td>USPTO patents for NER</td>\n",
       "      <td>17</td>\n",
       "    </tr>\n",
       "    <tr>\n",
       "      <th>23</th>\n",
       "      <td>engrXiv</td>\n",
       "      <td>12</td>\n",
       "    </tr>\n",
       "    <tr>\n",
       "      <th>24</th>\n",
       "      <td>ACL Anthology</td>\n",
       "      <td>9</td>\n",
       "    </tr>\n",
       "    <tr>\n",
       "      <th>25</th>\n",
       "      <td>IPCC</td>\n",
       "      <td>7</td>\n",
       "    </tr>\n",
       "    <tr>\n",
       "      <th>26</th>\n",
       "      <td>OpenCVF</td>\n",
       "      <td>6</td>\n",
       "    </tr>\n",
       "    <tr>\n",
       "      <th>27</th>\n",
       "      <td>AAAI</td>\n",
       "      <td>2</td>\n",
       "    </tr>\n",
       "    <tr>\n",
       "      <th>28</th>\n",
       "      <td>ClinicalTrials</td>\n",
       "      <td>1</td>\n",
       "    </tr>\n",
       "    <tr>\n",
       "      <th>29</th>\n",
       "      <td>OpenStax</td>\n",
       "      <td>1</td>\n",
       "    </tr>\n",
       "    <tr>\n",
       "      <th>30</th>\n",
       "      <td>Crossref</td>\n",
       "      <td>0</td>\n",
       "    </tr>\n",
       "    <tr>\n",
       "      <th>31</th>\n",
       "      <td>FDA Adverse Event Reporting System (FAERS)</td>\n",
       "      <td>0</td>\n",
       "    </tr>\n",
       "    <tr>\n",
       "      <th>32</th>\n",
       "      <td>HBCP Open Access Corpus</td>\n",
       "      <td>0</td>\n",
       "    </tr>\n",
       "    <tr>\n",
       "      <th>33</th>\n",
       "      <td>Material Components</td>\n",
       "      <td>0</td>\n",
       "    </tr>\n",
       "    <tr>\n",
       "      <th>34</th>\n",
       "      <td>NeurIPS</td>\n",
       "      <td>0</td>\n",
       "    </tr>\n",
       "    <tr>\n",
       "      <th>35</th>\n",
       "      <td>Patent SMILES</td>\n",
       "      <td>0</td>\n",
       "    </tr>\n",
       "    <tr>\n",
       "      <th>36</th>\n",
       "      <td>Patents from CNIPR</td>\n",
       "      <td>0</td>\n",
       "    </tr>\n",
       "    <tr>\n",
       "      <th>37</th>\n",
       "      <td>Red Hat</td>\n",
       "      <td>0</td>\n",
       "    </tr>\n",
       "    <tr>\n",
       "      <th>38</th>\n",
       "      <td>VHDL articles</td>\n",
       "      <td>0</td>\n",
       "    </tr>\n",
       "  </tbody>\n",
       "</table>\n",
       "</div>"
      ],
      "text/plain": [
       "                                          name  matches\n",
       "0                           Patents from USPTO    11755\n",
       "1              Semantic Scholar Academic Graph    11648\n",
       "2                               PubMed Central     6050\n",
       "3                             Patents from EPO     2929\n",
       "4                         arXiv full documents     2031\n",
       "5                                         News     1478\n",
       "6                                         PLOS      570\n",
       "7                                    Wikipedia      477\n",
       "8                                      BioRxiv      447\n",
       "9                            Patents from KIPO      212\n",
       "10                              Annual Reports      194\n",
       "11                                        IEEE      187\n",
       "12                                      Cord19       93\n",
       "13                                    ChemRxiv       79\n",
       "14                             arXiv abstracts       75\n",
       "15                        PubMed Central (PDF)       70\n",
       "16                                        DOAB       62\n",
       "17                                 ESG Reports       33\n",
       "18                            Patents from JPO       31\n",
       "19                           SEC Edgar filings       26\n",
       "20                                     MedRxiv       24\n",
       "21                                IBM Redbooks       20\n",
       "22                       USPTO patents for NER       17\n",
       "23                                     engrXiv       12\n",
       "24                               ACL Anthology        9\n",
       "25                                        IPCC        7\n",
       "26                                     OpenCVF        6\n",
       "27                                        AAAI        2\n",
       "28                              ClinicalTrials        1\n",
       "29                                    OpenStax        1\n",
       "30                                    Crossref        0\n",
       "31  FDA Adverse Event Reporting System (FAERS)        0\n",
       "32                     HBCP Open Access Corpus        0\n",
       "33                         Material Components        0\n",
       "34                                     NeurIPS        0\n",
       "35                               Patent SMILES        0\n",
       "36                          Patents from CNIPR        0\n",
       "37                                     Red Hat        0\n",
       "38                               VHDL articles        0"
      ]
     },
     "metadata": {},
     "output_type": "display_data"
    }
   ],
   "source": [
    "# Input query\n",
    "search_query = 'main-text.text:((\"power conversion efficiency\" OR PCE) AND organ*)'\n",
    "\n",
    "# Iterate through the data collections\n",
    "results = []\n",
    "for c in (pbar := tqdm(collections)):\n",
    "    pbar.set_description(f\"Querying {c.name}\")\n",
    "\n",
    "    # Search only on document collections\n",
    "    if c.metadata.type != \"Document\":\n",
    "        continue\n",
    "\n",
    "    # Execute the query\n",
    "    query = DataQuery(search_query, source=[], limit=0, coordinates=c.source)\n",
    "    query_results = api.queries.run(query)\n",
    "    results.append({\"name\": c.name, \"matches\": query_results.outputs[\"data_count\"]})\n",
    "\n",
    "# Sort and display results\n",
    "results.sort(reverse=True, key=lambda r: r[\"matches\"])\n",
    "display(pd.DataFrame(results))"
   ]
  },
  {
   "cell_type": "code",
   "execution_count": 10,
   "id": "115b4ee0",
   "metadata": {
    "execution": {
     "iopub.execute_input": "2024-05-27T16:58:41.938640Z",
     "iopub.status.busy": "2024-05-27T16:58:41.938179Z",
     "iopub.status.idle": "2024-05-27T16:58:42.522971Z",
     "shell.execute_reply": "2024-05-27T16:58:42.522024Z",
     "shell.execute_reply.started": "2024-05-27T16:58:41.938597Z"
    }
   },
   "outputs": [
    {
     "data": {
      "text/plain": [
       "<matplotlib.legend.Legend at 0x7efce5837040>"
      ]
     },
     "execution_count": 10,
     "metadata": {},
     "output_type": "execute_result"
    },
    {
     "data": {
      "image/png": "[encoded data removed]",
      "text/plain": [
       "<Figure size 640x480 with 1 Axes>"
      ]
     },
     "metadata": {},
     "output_type": "display_data"
    }
   ],
   "source": [
    "# Plot the distribution of results among data collections\n",
    "\n",
    "x = [r[\"name\"] for r in results]\n",
    "y = [r[\"matches\"] for r in results]\n",
    "plt.pie(y, labels=x, labeldistance=None)\n",
    "plt.legend(loc=\"upper center\", ncols=3, bbox_to_anchor=(0.5, 0))"
   ]
  },
  {
   "cell_type": "markdown",
   "id": "2493bee2",
   "metadata": {},
   "source": [
    "---\n",
    "\n",
    "## Search documents\n",
    "\n",
    "In this section we search for documents in the arXiv.org data collection matching the input query.\n",
    "For each matched document we return the title, authors as well as the link to the original document on arXix.org \n",
    "\n",
    "\n",
    "This example will demonstrate\n",
    "1. How to address a specific data collection\n",
    "2. How to choose which component of the documents should be returned\n",
    "3. How to iterate through the complete data collection by fetching `page_size=50` results at the time\n"
   ]
  },
  {
   "cell_type": "code",
   "execution_count": 8,
   "id": "28035763",
   "metadata": {
    "execution": {
     "iopub.execute_input": "2024-05-27T16:58:42.524589Z",
     "iopub.status.busy": "2024-05-27T16:58:42.524128Z",
     "iopub.status.idle": "2024-05-27T16:58:43.988301Z",
     "shell.execute_reply": "2024-05-27T16:58:43.987345Z",
     "shell.execute_reply.started": "2024-05-27T16:58:42.524563Z"
    }
   },
   "outputs": [
    {
     "data": {
      "application/vnd.jupyter.widget-view+json": {
       "model_id": "9652e493fccd45838311e1b4a66ade13",
       "version_major": 2,
       "version_minor": 0
      },
      "text/plain": [
       "  0%|          | 0/2 [00:00<?, ?it/s]"
      ]
     },
     "metadata": {},
     "output_type": "display_data"
    },
    {
     "name": "stdout",
     "output_type": "stream",
     "text": [
      "Finished fetching all data. Total is 70 records.\n"
     ]
    }
   ],
   "source": [
    "# Input query\n",
    "search_query = 'main-text.text:((\"power conversion efficiency\" OR PCE) AND organ*)'\n",
    "data_collection = ElasticDataCollectionSource(\n",
    "    elastic_id=\"default\", index_key=\"arxiv-abstract\"\n",
    ")\n",
    "page_size = 50\n",
    "\n",
    "# Prepare the data query\n",
    "query = DataQuery(\n",
    "    search_query,  # The search query to be executed\n",
    "    source=[\n",
    "        \"description.title\",\n",
    "        \"description.authors\",\n",
    "        \"identifiers\",\n",
    "    ],  # Which fields of documents we want to fetch\n",
    "    limit=page_size,  # The size of each request page\n",
    "    coordinates=data_collection,  # The data collection to be queries\n",
    ")\n",
    "\n",
    "\n",
    "# [Optional] Compute the number of total results matched. This can be used to monitor the pagination progress.\n",
    "count_query = deepcopy(query)\n",
    "count_query.paginated_task.parameters[\"limit\"] = 0\n",
    "count_results = api.queries.run(count_query)\n",
    "expected_total = count_results.outputs[\"data_count\"]\n",
    "expected_pages = (\n",
    "    expected_total + page_size - 1\n",
    ") // page_size  # this is simply a ceiling formula\n",
    "\n",
    "\n",
    "# Iterate through all results by fetching `page_size` results at the same time\n",
    "all_results = []\n",
    "cursor = api.queries.run_paginated_query(query)\n",
    "for result_page in tqdm(cursor, total=expected_pages):\n",
    "    # Iterate through the results of a single page, and add to the total list\n",
    "    for row in result_page.outputs[\"data_outputs\"]:\n",
    "        # Process custom identifiers links\n",
    "        links = {\"arxiv\": None, \"doi\": None}\n",
    "        identifiers = {\"arxiv\": None, \"doi\": None}\n",
    "        for ids in row[\"_source\"].get(\"identifiers\", []):\n",
    "            if ids[\"type\"] == \"arxivid\":\n",
    "                identifiers[\"arxiv\"] = ids[\"value\"]\n",
    "                links[\"arxiv\"] = f'https://arxiv.org/abs/{ids[\"value\"]}'\n",
    "            if ids[\"type\"] == \"doi\":\n",
    "                identifiers[\"doi\"] = ids[\"value\"]\n",
    "                links[\"doi\"] = f'https://doi.org/{ids[\"value\"]}'\n",
    "\n",
    "        # Add row to results table\n",
    "        all_results.append(\n",
    "            {\n",
    "                \"Title\": row[\"_source\"][\"description\"][\"title\"],\n",
    "                \"Authors\": \", \".join(\n",
    "                    [\n",
    "                        author[\"name\"]\n",
    "                        for author in row[\"_source\"][\"description\"][\"authors\"]\n",
    "                    ]\n",
    "                ),\n",
    "                \"arXiv\": identifiers[\"arxiv\"],\n",
    "                \"arXiv URL\": links[\"arxiv\"],\n",
    "                \"DOI\": identifiers[\"doi\"],\n",
    "                \"DOI URL\": links[\"doi\"],\n",
    "            }\n",
    "        )\n",
    "\n",
    "print(f\"Finished fetching all data. Total is {len(all_results)} records.\")"
   ]
  },
  {
   "cell_type": "code",
   "execution_count": 9,
   "id": "09817a25",
   "metadata": {
    "execution": {
     "iopub.execute_input": "2024-05-27T16:58:44.032379Z",
     "iopub.status.busy": "2024-05-27T16:58:43.989577Z",
     "iopub.status.idle": "2024-05-27T16:58:44.066456Z",
     "shell.execute_reply": "2024-05-27T16:58:44.064824Z",
     "shell.execute_reply.started": "2024-05-27T16:58:44.019826Z"
    },
    "scrolled": true
   },
   "outputs": [
    {
     "data": {
      "text/html": [
       "<table border=\"1\" class=\"dataframe\">\n",
       "  <thead>\n",
       "    <tr style=\"text-align: right;\">\n",
       "      <th></th>\n",
       "      <th>Title</th>\n",
       "      <th>Authors</th>\n",
       "      <th>arXiv</th>\n",
       "      <th>arXiv URL</th>\n",
       "      <th>DOI</th>\n",
       "      <th>DOI URL</th>\n",
       "    </tr>\n",
       "  </thead>\n",
       "  <tbody>\n",
       "    <tr>\n",
       "      <th>0</th>\n",
       "      <td>How Good Can 2D Excitonic Solar Cells Be?</td>\n",
       "      <td>Zekun Hu, Da Lin, Jason Lynch, Kevin Xu, Deep Jariwala</td>\n",
       "      <td>2302.04788</td>\n",
       "      <td><a href=\"https://arxiv.org/abs/2302.04788\" target=\"_blank\">https://arxiv.org/abs/2302.04788</a></td>\n",
       "      <td>None</td>\n",
       "      <td>None</td>\n",
       "    </tr>\n",
       "    <tr>\n",
       "      <th>1</th>\n",
       "      <td>The role of charge recombination to spin-triplet excitons in\\n  non-fullerene acceptor organic solar cells</td>\n",
       "      <td>Alexander J. Gillett, Alberto Privitera, Rishat Dilmurat, Akchheta Karki, Deping Qian, Anton Pershin, Giacomo Londi, William K. Myers, Jaewon Lee, Jun Yuan, Seo-Jin Ko, Moritz K. Riede, Feng Gao, Guillermo C. Bazan, Akshay Rao, Thuc-Quyen Nguyen, David Beljonne, Richard H. Friend</td>\n",
       "      <td>2010.10978</td>\n",
       "      <td><a href=\"https://arxiv.org/abs/2010.10978\" target=\"_blank\">https://arxiv.org/abs/2010.10978</a></td>\n",
       "      <td>10.1038/s41586-021-03840-5</td>\n",
       "      <td><a href=\"https://doi.org/10.1038/s41586-021-03840-5\" target=\"_blank\">https://doi.org/10.1038/s41586-021-03840-5</a></td>\n",
       "    </tr>\n",
       "    <tr>\n",
       "      <th>2</th>\n",
       "      <td>Design of Lead-Free Inorganic Halide Perovskites for Solar Cells via\\n  Cation-Transmutation</td>\n",
       "      <td>Xin-Gang Zhao, Ji-Hui Yang, Yuhao Fu, Dongwen Yang, Qiaoling Xu, Liping Yu, Su-Huai Wei, Lijun Zhang</td>\n",
       "      <td>1705.10014</td>\n",
       "      <td><a href=\"https://arxiv.org/abs/1705.10014\" target=\"_blank\">https://arxiv.org/abs/1705.10014</a></td>\n",
       "      <td>10.1021/jacs.6b09645</td>\n",
       "      <td><a href=\"https://doi.org/10.1021/jacs.6b09645\" target=\"_blank\">https://doi.org/10.1021/jacs.6b09645</a></td>\n",
       "    </tr>\n",
       "    <tr>\n",
       "      <th>3</th>\n",
       "      <td>On the Absence of Triplet Exciton Loss Pathways in Non-Fullerene\\n  Acceptor based Organic Solar Cells</td>\n",
       "      <td>Maria S. Kotova, Giacomo Londi, Johannes Junker, Stefanie Dietz, Alberto Privitera, Kristofer Tvingstedt, David Beljonne, Andreas Sperlich, Vladimir Dyakonov</td>\n",
       "      <td>2002.07531</td>\n",
       "      <td><a href=\"https://arxiv.org/abs/2002.07531\" target=\"_blank\">https://arxiv.org/abs/2002.07531</a></td>\n",
       "      <td>10.1039/D0MH00286K</td>\n",
       "      <td><a href=\"https://doi.org/10.1039/D0MH00286K\" target=\"_blank\">https://doi.org/10.1039/D0MH00286K</a></td>\n",
       "    </tr>\n",
       "    <tr>\n",
       "      <th>4</th>\n",
       "      <td>Correlated In-Situ Low-Frequency Noise and Impedance Spectroscopy Reveal\\n  Recombination Dynamics in Organic Solar Cells using Fullerene and\\n  Non-Fullerene Acceptors</td>\n",
       "      <td>Kyle A. Luck, Vinod K. Sangwan, Patrick E. Hartnett, Heather N. Arnold, Michael R. Wasielewski, Tobin J. Marks, Mark C. Hersam</td>\n",
       "      <td>1709.07133</td>\n",
       "      <td><a href=\"https://arxiv.org/abs/1709.07133\" target=\"_blank\">https://arxiv.org/abs/1709.07133</a></td>\n",
       "      <td>None</td>\n",
       "      <td>None</td>\n",
       "    </tr>\n",
       "  </tbody>\n",
       "</table>"
      ],
      "text/plain": [
       "<IPython.core.display.HTML object>"
      ]
     },
     "metadata": {},
     "output_type": "display_data"
    }
   ],
   "source": [
    "# Visualize the table with all results\n",
    "df = pd.json_normalize(all_results)\n",
    "display(HTML(df.head().to_html(render_links=True)))"
   ]
  },
  {
   "cell_type": "code",
   "execution_count": 10,
   "id": "e308f0a5",
   "metadata": {
    "execution": {
     "iopub.execute_input": "2024-05-27T16:58:44.080619Z",
     "iopub.status.busy": "2024-05-27T16:58:44.079956Z",
     "iopub.status.idle": "2024-05-27T16:58:44.620383Z",
     "shell.execute_reply": "2024-05-27T16:58:44.619743Z",
     "shell.execute_reply.started": "2024-05-27T16:58:44.080587Z"
    }
   },
   "outputs": [],
   "source": [
    "# Save the results to an Excel table\n",
    "df.to_excel(\"quick_start_results.xlsx\")"
   ]
  },
  {
   "cell_type": "markdown",
   "id": "fc5a4f51-85f5-4b6a-bea2-8b2c75bd4de5",
   "metadata": {},
   "source": [
    "---"
   ]
  },
  {
   "cell_type": "markdown",
   "id": "7dbe93ca-0e38-4d36-8cd2-3b421b750dda",
   "metadata": {},
   "source": [
    "## Query private data\n",
    "\n",
    "In this section we search for documents in the arXiv.org data collection matching the input query.\n",
    "For each matched document we return the filename and the document_hash identifier.\n"
   ]
  },
  {
   "cell_type": "code",
   "execution_count": 11,
   "id": "e88416cd-b5aa-4d9c-af96-e362f74e2e01",
   "metadata": {
    "execution": {
     "iopub.execute_input": "2024-05-27T16:58:44.622081Z",
     "iopub.status.busy": "2024-05-27T16:58:44.621684Z",
     "iopub.status.idle": "2024-05-27T16:58:44.627090Z",
     "shell.execute_reply": "2024-05-27T16:58:44.625453Z",
     "shell.execute_reply.started": "2024-05-27T16:58:44.622055Z"
    }
   },
   "outputs": [],
   "source": [
    "if PROJ_KEY is None or INDEX_KEY is None:\n",
    "    raise RuntimeError(\n",
    "        \"Private data query requires `PROJ_KEY` and `INDEX_KEY` to be defined at the beginning of the notebook.\"\n",
    "    )"
   ]
  },
  {
   "cell_type": "code",
   "execution_count": 12,
   "id": "b084d46c-2dc7-44c7-955a-c712608d72d9",
   "metadata": {
    "execution": {
     "iopub.execute_input": "2024-05-27T16:58:44.629744Z",
     "iopub.status.busy": "2024-05-27T16:58:44.629193Z",
     "iopub.status.idle": "2024-05-27T16:58:45.447855Z",
     "shell.execute_reply": "2024-05-27T16:58:45.446858Z",
     "shell.execute_reply.started": "2024-05-27T16:58:44.629703Z"
    }
   },
   "outputs": [
    {
     "data": {
      "application/vnd.jupyter.widget-view+json": {
       "model_id": "f3f93a56ed674b9faae62e7fc12ab327",
       "version_major": 2,
       "version_minor": 0
      },
      "text/plain": [
       "  0%|          | 0/1 [00:00<?, ?it/s]"
      ]
     },
     "metadata": {},
     "output_type": "display_data"
    },
    {
     "name": "stdout",
     "output_type": "stream",
     "text": [
      "Finished fetching all data. Total is 1 records.\n"
     ]
    }
   ],
   "source": [
    "# Input query\n",
    "search_query = 'main-text.text:\"neural nlp\"'\n",
    "data_collection = ElasticProjectDataCollectionSource(\n",
    "    proj_key=PROJ_KEY, index_key=INDEX_KEY\n",
    ")\n",
    "page_size = 50\n",
    "\n",
    "# Prepare the data query\n",
    "query = DataQuery(\n",
    "    search_query,  # The search query to be executed\n",
    "    source=[\n",
    "        \"file-info.document-hash\",\n",
    "        \"file-info.filename\",\n",
    "    ],  # Which fields of documents we want to fetch\n",
    "    limit=page_size,  # The size of each request page\n",
    "    coordinates=data_collection,  # The data collection to be queries\n",
    ")\n",
    "\n",
    "\n",
    "# [Optional] Compute the number of total results matched. This can be used to monitor the pagination progress.\n",
    "count_query = deepcopy(query)\n",
    "count_query.paginated_task.parameters[\"limit\"] = 0\n",
    "count_results = api.queries.run(count_query)\n",
    "expected_total = count_results.outputs[\"data_count\"]\n",
    "expected_pages = (\n",
    "    expected_total + page_size - 1\n",
    ") // page_size  # this is simply a ceiling formula\n",
    "\n",
    "\n",
    "# Iterate through all results by fetching `page_size` results at the same time\n",
    "all_results = []\n",
    "cursor = api.queries.run_paginated_query(query)\n",
    "for result_page in tqdm(cursor, total=expected_pages):\n",
    "    # Iterate through the results of a single page, and add to the total list\n",
    "    for row in result_page.outputs[\"data_outputs\"]:\n",
    "\n",
    "        # Add row to results table\n",
    "        all_results.append(\n",
    "            {\n",
    "                \"Filename\": row[\"_source\"][\"file-info\"][\"filename\"],\n",
    "                \"Document hash\": row[\"_source\"][\"file-info\"][\"document-hash\"],\n",
    "            }\n",
    "        )\n",
    "\n",
    "print(f\"Finished fetching all data. Total is {len(all_results)} records.\")"
   ]
  },
  {
   "cell_type": "code",
   "execution_count": 13,
   "id": "aa0c0b64-ef6e-4c74-aac1-8b30c3020119",
   "metadata": {
    "execution": {
     "iopub.execute_input": "2024-05-27T16:58:45.449620Z",
     "iopub.status.busy": "2024-05-27T16:58:45.449172Z",
     "iopub.status.idle": "2024-05-27T16:58:45.464521Z",
     "shell.execute_reply": "2024-05-27T16:58:45.460456Z",
     "shell.execute_reply.started": "2024-05-27T16:58:45.449590Z"
    }
   },
   "outputs": [
    {
     "data": {
      "text/html": [
       "<table border=\"1\" class=\"dataframe\">\n",
       "  <thead>\n",
       "    <tr style=\"text-align: right;\">\n",
       "      <th></th>\n",
       "      <th>Filename</th>\n",
       "      <th>Document hash</th>\n",
       "    </tr>\n",
       "  </thead>\n",
       "  <tbody>\n",
       "    <tr>\n",
       "      <th>0</th>\n",
       "      <td>natural-language-processing.pdf</td>\n",
       "      <td>000f892ddcc67f165797a96e94f44fb9e0697c7912a383072cea77e56011a9c3</td>\n",
       "    </tr>\n",
       "  </tbody>\n",
       "</table>"
      ],
      "text/plain": [
       "<IPython.core.display.HTML object>"
      ]
     },
     "metadata": {},
     "output_type": "display_data"
    }
   ],
   "source": [
    "# Visualize the table with all results\n",
    "df = pd.json_normalize(all_results)\n",
    "display(HTML(df.head().to_html(render_links=True)))"
   ]
  },
  {
   "cell_type": "code",
   "execution_count": null,
   "id": "f9a491fe-5efa-45ff-8089-d9cc3d32ba5f",
   "metadata": {},
   "outputs": [],
   "source": []
  }
 ],
 "metadata": {
  "kernelspec": {
   "display_name": "venv",
   "language": "python",
   "name": "python3"
  },
  "language_info": {
   "codemirror_mode": {
    "name": "ipython",
    "version": 3
   },
   "file_extension": ".py",
   "mimetype": "text/x-python",
   "name": "python",
   "nbconvert_exporter": "python",
   "pygments_lexer": "ipython3",
   "version": "3.10.4"
  }
 },
 "nbformat": 4,
 "nbformat_minor": 5
}
