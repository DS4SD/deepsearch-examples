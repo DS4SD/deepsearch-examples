{
 "cells": [
  {
   "cell_type": "markdown",
   "id": "8ee29891",
   "metadata": {},
   "source": [
    "# Manage index item attachments\n",
    "\n",
    "This example explores how index item attachments can be managed.\n",
    "\n",
    "Specifically, it considers a case of using a project data index of type \"Generic\", however\n",
    "note that any type of project data index can be used just as well.\n",
    "\n",
    "### Access required\n",
    "\n",
    "The content of this notebook requires access to Deep Search capabilities which are not\n",
    "available on the public access system.\n",
    "\n",
    "[Contact us](https://ds4sd.github.io) if you are interested in exploring\n",
    "these Deep Search capabilities."
   ]
  },
  {
   "cell_type": "markdown",
   "id": "149355cc",
   "metadata": {},
   "source": [
    "### Set notebooks parameters"
   ]
  },
  {
   "cell_type": "code",
   "execution_count": null,
   "id": "4755b294",
   "metadata": {},
   "outputs": [],
   "source": [
    "from dsnotebooks.settings import ProjectNotebookSettings\n",
    "import tempfile\n",
    "\n",
    "# notebook settings auto-loaded from .env / env vars\n",
    "notebook_settings = ProjectNotebookSettings()\n",
    "\n",
    "PROFILE_NAME = notebook_settings.profile  # profile to use\n",
    "PROJ_KEY = notebook_settings.proj_key  # project to use\n",
    "INDEX_NAME = notebook_settings.new_idx_name  # index to create\n",
    "CLEANUP = notebook_settings.cleanup  # whether to clean up\n",
    "ATTACHMENT_KEY = \"usr_attachments\"  # format must be: \"usr_<snake_case>\"\n",
    "FILES_TO_ATTACH = [\n",
    "    \"../../data/samples/2206.00785.pdf\",\n",
    "    \"../../data/samples/2206.01062.pdf\",\n",
    "]\n",
    "TMP_DIR = tempfile.TemporaryDirectory()\n",
    "\n",
    "WAIT_S = 3"
   ]
  },
  {
   "cell_type": "markdown",
   "id": "8f7cec2b",
   "metadata": {},
   "source": [
    "### Import example dependencies"
   ]
  },
  {
   "cell_type": "code",
   "execution_count": null,
   "id": "df33c2b4",
   "metadata": {},
   "outputs": [],
   "source": [
    "import hashlib\n",
    "import json\n",
    "import random\n",
    "import time\n",
    "from pathlib import Path\n",
    "\n",
    "import pandas as pd\n",
    "from IPython.display import display, HTML\n",
    "from slugify import slugify\n",
    "\n",
    "import deepsearch as ds\n",
    "from deepsearch.cps.queries import DataQuery"
   ]
  },
  {
   "cell_type": "markdown",
   "id": "65d9e24f",
   "metadata": {},
   "source": [
    "### Define helper functions"
   ]
  },
  {
   "cell_type": "code",
   "execution_count": null,
   "id": "a29d6888",
   "metadata": {},
   "outputs": [],
   "source": [
    "def find_index_item(\n",
    "    api, coordinates, search_query=\"*\", source=None, page_size=50, pred=None\n",
    "):\n",
    "    \"\"\"Find first index item that satisfies the criteria\"\"\"\n",
    "    source_to_use = [\"_id\", \"_name\", \"_s3_data\"] if source is None else source\n",
    "    query = DataQuery(\n",
    "        search_query=search_query,\n",
    "        source=source_to_use,\n",
    "        limit=page_size,\n",
    "        coordinates=coordinates,\n",
    "    )\n",
    "    cursor = api.queries.run_paginated_query(query)\n",
    "    for result_page in cursor:\n",
    "        for item in result_page.outputs[\"data_outputs\"]:\n",
    "            if pred is None or pred(item):\n",
    "                return item\n",
    "    return None\n",
    "\n",
    "\n",
    "def list_item_attachments(api, coordinates, index_item_id, attch_key):\n",
    "    pred = lambda x: x[\"_id\"] == index_item_id\n",
    "    item = find_index_item(api, coordinates, pred=pred)\n",
    "    return item[\"_source\"][\"_s3_data\"][attch_key]"
   ]
  },
  {
   "cell_type": "markdown",
   "id": "8f8be733",
   "metadata": {},
   "source": [
    "### Connect to Deep Search"
   ]
  },
  {
   "cell_type": "code",
   "execution_count": null,
   "id": "fae4dee3",
   "metadata": {},
   "outputs": [],
   "source": [
    "api = ds.CpsApi.from_env(profile_name=PROFILE_NAME)"
   ]
  },
  {
   "cell_type": "markdown",
   "id": "49f45cf8",
   "metadata": {},
   "source": [
    "### Create project data index"
   ]
  },
  {
   "cell_type": "code",
   "execution_count": null,
   "id": "7f4b1a9c",
   "metadata": {},
   "outputs": [],
   "source": [
    "print(f\"{INDEX_NAME=}\")\n",
    "data_index = api.data_indices.create(proj_key=PROJ_KEY, name=INDEX_NAME, type=\"Generic\")\n",
    "index_key = data_index.source.index_key\n",
    "print(f\"{index_key=}\")"
   ]
  },
  {
   "cell_type": "markdown",
   "id": "297aabe1",
   "metadata": {},
   "source": [
    "### Prepare data to upload to index"
   ]
  },
  {
   "cell_type": "code",
   "execution_count": null,
   "id": "abfe5cdd",
   "metadata": {},
   "outputs": [],
   "source": [
    "headers = [f\"FIELD {i}\" for i in range(6)]\n",
    "table = [headers]\n",
    "set1 = [\"a\", \"b\", \"c\", \"d\", \"e\", \"1\", \"2\", \"3\", \"4\"]\n",
    "for _ in range(4):\n",
    "    row = []\n",
    "    for _ in range(len(table[0])):\n",
    "        row.append(\"\".join(random.sample(set1, 4)))\n",
    "    table.append(row)"
   ]
  },
  {
   "cell_type": "code",
   "execution_count": null,
   "id": "9d2e2c6e",
   "metadata": {},
   "outputs": [],
   "source": [
    "df_raw = pd.DataFrame(table[1:], columns=table[0])\n",
    "display(df_raw)"
   ]
  },
  {
   "cell_type": "code",
   "execution_count": null,
   "id": "4a04a823",
   "metadata": {},
   "outputs": [],
   "source": [
    "df = df_raw.copy()\n",
    "for col_name in df_raw.columns:\n",
    "    new_name = slugify(col_name, separator=\"_\")\n",
    "    print(f\"{col_name} --> {new_name}\")\n",
    "    df.rename(columns={col_name: new_name}, inplace=True)\n",
    "display(df)"
   ]
  },
  {
   "cell_type": "markdown",
   "id": "549ba2e5",
   "metadata": {},
   "source": [
    "### Upload data to index"
   ]
  },
  {
   "cell_type": "code",
   "execution_count": null,
   "id": "9d3776ca",
   "metadata": {},
   "outputs": [],
   "source": [
    "# convert DataFrame to records, and add extra metadata needed for the Deep Search upload\n",
    "file_data = df.to_dict(orient=\"records\")\n",
    "for i, row in enumerate(file_data):\n",
    "    row.pop(\"file-info\", None)\n",
    "    m = hashlib.sha1()\n",
    "    m.update(json.dumps(row, sort_keys=True).encode())\n",
    "    h = m.hexdigest()\n",
    "    row[\"_name\"] = f\"row-{i:06d}-{h[:5]}\"\n",
    "    row[\"file-info\"] = {\"document-hash\": h}"
   ]
  },
  {
   "cell_type": "code",
   "execution_count": null,
   "id": "8634b32b",
   "metadata": {},
   "outputs": [],
   "source": [
    "# upload data to index\n",
    "input_dir = Path(TMP_DIR.name)\n",
    "input_filename = input_dir / \"upload.json\"\n",
    "json.dump(file_data, input_filename.open(\"w\"))\n",
    "\n",
    "task = api.data_indices.upload(coords=data_index.source, source=input_filename)\n",
    "api.tasks.wait_for(PROJ_KEY, task.task_id)"
   ]
  },
  {
   "cell_type": "code",
   "execution_count": null,
   "id": "37762cf1-36c6-460b-91fc-c62745d21fe8",
   "metadata": {},
   "outputs": [],
   "source": [
    "time.sleep(WAIT_S)  # allow recent changes to become visible to search"
   ]
  },
  {
   "cell_type": "markdown",
   "id": "d38ef6d1",
   "metadata": {},
   "source": [
    "### Add attachments to an index item"
   ]
  },
  {
   "cell_type": "code",
   "execution_count": null,
   "id": "9b1241fb",
   "metadata": {},
   "outputs": [],
   "source": [
    "# define item where to attach\n",
    "item_name = row[\"_name\"]  # last item iterated used as example\n",
    "print(f\"{item_name=}\")\n",
    "pred = lambda x: x[\"_source\"][\"_name\"] == item_name\n",
    "index_item = find_index_item(api, data_index.source, pred=pred)\n",
    "idx_item_id = index_item[\"_id\"]\n",
    "print(f\"{idx_item_id=}\")"
   ]
  },
  {
   "cell_type": "code",
   "execution_count": null,
   "id": "bbaa6309",
   "metadata": {},
   "outputs": [],
   "source": [
    "# add attachment to index item\n",
    "indices = api.data_indices.list(proj_key=PROJ_KEY)\n",
    "index = next((x for x in indices if x.source.index_key == index_key), None)\n",
    "for file_to_attach in FILES_TO_ATTACH:\n",
    "    index.add_item_attachment(\n",
    "        api=api,\n",
    "        index_item_id=idx_item_id,\n",
    "        attachment_path=file_to_attach,\n",
    "        attachment_key=ATTACHMENT_KEY,\n",
    "    )\n",
    "    print(f'File \"{file_to_attach}\" attached.')"
   ]
  },
  {
   "cell_type": "code",
   "execution_count": null,
   "id": "94681884",
   "metadata": {},
   "outputs": [],
   "source": [
    "time.sleep(WAIT_S)  # allow recent changes to become visible to search"
   ]
  },
  {
   "cell_type": "markdown",
   "id": "a1a50bbd",
   "metadata": {},
   "source": [
    "### List item attachments"
   ]
  },
  {
   "cell_type": "code",
   "execution_count": null,
   "id": "02651f49",
   "metadata": {},
   "outputs": [],
   "source": [
    "# get item attachments data under given key\n",
    "attch_list = list_item_attachments(\n",
    "    api=api,\n",
    "    coordinates=data_index.source,\n",
    "    index_item_id=idx_item_id,\n",
    "    attch_key=ATTACHMENT_KEY,\n",
    ")"
   ]
  },
  {
   "cell_type": "code",
   "execution_count": null,
   "id": "3a1c695a",
   "metadata": {},
   "outputs": [],
   "source": [
    "# browse attachments\n",
    "for attachment in attch_list:\n",
    "    filename = Path(attachment[\"path\"]).name\n",
    "    download_url = attachment[\"url\"]\n",
    "    display(HTML(f'&#128073; Download <a href=\"{download_url}\">{filename}</a>'))\n",
    "    print()"
   ]
  },
  {
   "cell_type": "markdown",
   "id": "3d9b74d6",
   "metadata": {},
   "source": [
    "> Note that attachment filenames are slugified."
   ]
  },
  {
   "cell_type": "markdown",
   "id": "a68d0150",
   "metadata": {},
   "source": [
    "### Cleanup"
   ]
  },
  {
   "cell_type": "code",
   "execution_count": null,
   "id": "63a434f0",
   "metadata": {},
   "outputs": [],
   "source": [
    "if CLEANUP:\n",
    "    api.data_indices.delete(data_index.source)\n",
    "    print(\"Data index deleted\")\n",
    "    TMP_DIR.cleanup()\n",
    "    print(\"Temporary directory deleted\")"
   ]
  }
 ],
 "metadata": {
  "kernelspec": {
   "display_name": "venv",
   "language": "python",
   "name": "python3"
  },
  "language_info": {
   "codemirror_mode": {
    "name": "ipython",
    "version": 3
   },
   "file_extension": ".py",
   "mimetype": "text/x-python",
   "name": "python",
   "nbconvert_exporter": "python",
   "pygments_lexer": "ipython3",
   "version": "3.10.4"
  }
 },
 "nbformat": 4,
 "nbformat_minor": 5
}
