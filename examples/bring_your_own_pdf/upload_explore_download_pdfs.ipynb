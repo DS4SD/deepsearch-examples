{
 "cells": [
  {
   "cell_type": "markdown",
   "id": "8ee29891",
   "metadata": {},
   "source": [
    "# Bring Your Own PDFs\n",
    "\n",
    "In this example we combine the document conversion capabilities of Deep Search with its data query capabilities.\n",
    "From the Deep Search Workspace, we create a new project data index which can host our own PDF documents.\n",
    "Once the upload is completed, we will be able to query the documents, similar to the public data which we\n",
    "explored in the [Data query quick start example](../data_query_quick_start/). \n",
    "In the last steps of the example, we additionally export the converted documents as JSON files.\n",
    "\n",
    "\n",
    "Sections\n",
    "1. [Create data index and upload data](#Create-data-index-and-upload-data)\n",
    "2. [Query your data](#Query-your-data)\n",
    "3. [Download your data](#Download-your-data)\n",
    "4. Custom upload settings\n",
    "    1. [Enable OCR](#Enable-OCR)\n",
    "    2. [Enable raw PDF cells](#Enable-raw-PDF-cells)\n",
    "\n",
    "\n",
    "### Access required\n",
    "\n",
    "The content of this notebook requires access to Deep Search capabilities which are not\n",
    "available on the public access system.\n",
    "\n",
    "[Contact us](https://ds4sd.github.io) if you are interested in exploring\n",
    "these Deep Search capabilities."
   ]
  },
  {
   "cell_type": "markdown",
   "id": "8dc9a9f1",
   "metadata": {},
   "source": [
    "### Set notebook parameters"
   ]
  },
  {
   "cell_type": "code",
   "execution_count": null,
   "id": "13560ae0",
   "metadata": {
    "execution": {
     "iopub.execute_input": "2024-05-27T10:46:40.803078Z",
     "iopub.status.busy": "2024-05-27T10:46:40.802251Z",
     "iopub.status.idle": "2024-05-27T10:46:43.090868Z",
     "shell.execute_reply": "2024-05-27T10:46:43.090020Z",
     "shell.execute_reply.started": "2024-05-27T10:46:40.803044Z"
    }
   },
   "outputs": [],
   "source": [
    "from dsnotebooks.settings import ProjectNotebookSettings\n",
    "from pathlib import Path\n",
    "\n",
    "# notebook settings auto-loaded from .env / env vars\n",
    "notebook_settings = ProjectNotebookSettings()\n",
    "\n",
    "PROFILE_NAME = notebook_settings.profile  # profile to use\n",
    "PROJ_KEY = notebook_settings.proj_key  # project to use\n",
    "INDEX_NAME = notebook_settings.new_idx_name  # index to create\n",
    "CLEANUP = notebook_settings.cleanup  # whether to clean up\n",
    "INPUT_FILES_FOLDER = Path(\"../../data/samples/\")\n",
    "INPUT_OCR_FILE = Path(\"../../data/scanned-samples/2206.00785-7.png\")\n",
    "\n",
    "############\n",
    "_GARBAGE_COLLECTOR = (\n",
    "    []\n",
    ")  # list of resources to clean up at the end of the execution (if CLEANUP=True)\n",
    "\n",
    "print(f\"The example will be executed on the Deep Search instance {PROFILE_NAME}\")"
   ]
  },
  {
   "cell_type": "markdown",
   "id": "0531c9c4",
   "metadata": {},
   "source": [
    "### Import example dependencies"
   ]
  },
  {
   "cell_type": "code",
   "execution_count": null,
   "id": "1ea3cd26",
   "metadata": {
    "execution": {
     "iopub.execute_input": "2024-05-27T10:46:43.092408Z",
     "iopub.status.busy": "2024-05-27T10:46:43.091887Z",
     "iopub.status.idle": "2024-05-27T10:46:43.806261Z",
     "shell.execute_reply": "2024-05-27T10:46:43.805255Z",
     "shell.execute_reply.started": "2024-05-27T10:46:43.092381Z"
    }
   },
   "outputs": [],
   "source": [
    "# Import standard dependenices\n",
    "from copy import deepcopy\n",
    "import json\n",
    "from tqdm.notebook import tqdm\n",
    "import pandas as pd\n",
    "import tempfile\n",
    "\n",
    "# IPython utilities\n",
    "from IPython.display import display, Markdown, HTML\n",
    "\n",
    "# Import the deepsearch-toolkit\n",
    "import deepsearch as ds\n",
    "from deepsearch.documents.core.export import export_to_markdown\n",
    "from deepsearch.cps.queries import DataQuery\n",
    "from deepsearch.cps.data_indices import utils as data_indices_utils"
   ]
  },
  {
   "cell_type": "markdown",
   "id": "8f8be733",
   "metadata": {},
   "source": [
    "### Connect to Deep Search"
   ]
  },
  {
   "cell_type": "code",
   "execution_count": null,
   "id": "fae4dee3",
   "metadata": {
    "execution": {
     "iopub.execute_input": "2024-05-27T10:46:43.811749Z",
     "iopub.status.busy": "2024-05-27T10:46:43.810806Z",
     "iopub.status.idle": "2024-05-27T10:46:44.335265Z",
     "shell.execute_reply": "2024-05-27T10:46:44.334519Z",
     "shell.execute_reply.started": "2024-05-27T10:46:43.811713Z"
    }
   },
   "outputs": [],
   "source": [
    "api = ds.CpsApi.from_env(profile_name=PROFILE_NAME)"
   ]
  },
  {
   "cell_type": "markdown",
   "id": "70fe44f7-89f8-45ec-b6a7-8367d171a1ba",
   "metadata": {},
   "source": [
    "---"
   ]
  },
  {
   "cell_type": "markdown",
   "id": "18957147",
   "metadata": {},
   "source": [
    "### Create data index and upload data"
   ]
  },
  {
   "cell_type": "code",
   "execution_count": null,
   "id": "f5496626",
   "metadata": {
    "execution": {
     "iopub.execute_input": "2024-05-27T10:46:44.336782Z",
     "iopub.status.busy": "2024-05-27T10:46:44.336292Z",
     "iopub.status.idle": "2024-05-27T10:46:46.230863Z",
     "shell.execute_reply": "2024-05-27T10:46:46.229796Z",
     "shell.execute_reply.started": "2024-05-27T10:46:44.336753Z"
    }
   },
   "outputs": [],
   "source": [
    "# Create a new data index in your project\n",
    "data_index = api.data_indices.create(proj_key=PROJ_KEY, name=INDEX_NAME)\n",
    "_GARBAGE_COLLECTOR.append(data_index)\n",
    "index_key = data_index.source.index_key"
   ]
  },
  {
   "cell_type": "code",
   "execution_count": null,
   "id": "530fd67a",
   "metadata": {
    "execution": {
     "iopub.execute_input": "2024-05-27T10:46:46.232454Z",
     "iopub.status.busy": "2024-05-27T10:46:46.232000Z",
     "iopub.status.idle": "2024-05-27T10:47:47.618951Z",
     "shell.execute_reply": "2024-05-27T10:47:47.618065Z",
     "shell.execute_reply.started": "2024-05-27T10:46:46.232420Z"
    }
   },
   "outputs": [],
   "source": [
    "# Upload and convert documents\n",
    "data_indices_utils.upload_files(\n",
    "    api=api, coords=data_index.source, local_file=INPUT_FILES_FOLDER\n",
    ")"
   ]
  },
  {
   "cell_type": "code",
   "execution_count": null,
   "id": "bfe83b90",
   "metadata": {
    "execution": {
     "iopub.execute_input": "2024-05-27T10:47:47.620964Z",
     "iopub.status.busy": "2024-05-27T10:47:47.620402Z",
     "iopub.status.idle": "2024-05-27T10:47:47.632258Z",
     "shell.execute_reply": "2024-05-27T10:47:47.631093Z",
     "shell.execute_reply.started": "2024-05-27T10:47:47.620933Z"
    }
   },
   "outputs": [],
   "source": [
    "display(\n",
    "    Markdown(\n",
    "        f\"The data is now available. You can query it programmatically (see next section) or access it via the Deep Search UI at <br />{api.client.config.host}/projects/{PROJ_KEY}/library/private/{index_key}\"\n",
    "    )\n",
    ")"
   ]
  },
  {
   "cell_type": "markdown",
   "id": "d650fffc-566e-46b8-b04b-07a58ff20847",
   "metadata": {},
   "source": [
    "---"
   ]
  },
  {
   "cell_type": "markdown",
   "id": "45ec4a93",
   "metadata": {},
   "source": [
    "### Query your data"
   ]
  },
  {
   "cell_type": "code",
   "execution_count": null,
   "id": "6a9a31ab",
   "metadata": {
    "execution": {
     "iopub.execute_input": "2024-05-27T10:47:47.634245Z",
     "iopub.status.busy": "2024-05-27T10:47:47.633751Z",
     "iopub.status.idle": "2024-05-27T10:47:48.848024Z",
     "shell.execute_reply": "2024-05-27T10:47:48.847147Z",
     "shell.execute_reply.started": "2024-05-27T10:47:47.634215Z"
    }
   },
   "outputs": [],
   "source": [
    "# Count the documents in the data index\n",
    "query = DataQuery(\"*\", source=[\"\"], limit=0, coordinates=data_index.source)\n",
    "query_results = api.queries.run(query)\n",
    "num_results = query_results.outputs[\"data_count\"]\n",
    "print(f\"The data index contains {num_results} entries.\")"
   ]
  },
  {
   "cell_type": "code",
   "execution_count": null,
   "id": "a669e5a9",
   "metadata": {
    "execution": {
     "iopub.execute_input": "2024-05-27T10:47:48.849757Z",
     "iopub.status.busy": "2024-05-27T10:47:48.849158Z",
     "iopub.status.idle": "2024-05-27T10:47:50.722773Z",
     "shell.execute_reply": "2024-05-27T10:47:50.721734Z",
     "shell.execute_reply.started": "2024-05-27T10:47:48.849722Z"
    }
   },
   "outputs": [],
   "source": [
    "# Find documents matching query\n",
    "search_query = \"speedup\"\n",
    "query = DataQuery(\n",
    "    search_query,\n",
    "    source=[\"file-info.filename\", \"description.title\", \"description.authors\"],\n",
    "    coordinates=data_index.source,\n",
    ")\n",
    "query_results = api.queries.run(query)\n",
    "\n",
    "all_results = []\n",
    "cursor = api.queries.run_paginated_query(query)\n",
    "for result_page in tqdm(cursor):\n",
    "    # Iterate through the results of a single page, and add to the total list\n",
    "    for row in result_page.outputs[\"data_outputs\"]:\n",
    "        print()\n",
    "        metadata = row[\"_source\"].get(\n",
    "            \"description\", {}\n",
    "        )  # setting default, in case no title and authors are detected\n",
    "        # Add row to results table\n",
    "        all_results.append(\n",
    "            {\n",
    "                \"Filename\": row[\"_source\"][\"file-info\"][\"filename\"],\n",
    "                \"Title\": metadata.get(\"title\", \"\"),\n",
    "                \"Authors\": \", \".join(\n",
    "                    [author[\"name\"] for author in metadata.get(\"authors\", [])]\n",
    "                ),\n",
    "            }\n",
    "        )\n",
    "\n",
    "num_results = len(all_results)\n",
    "print(f\"Finished fetching all data. Total is {num_results} records.\")"
   ]
  },
  {
   "cell_type": "code",
   "execution_count": null,
   "id": "e997bbae",
   "metadata": {
    "execution": {
     "iopub.execute_input": "2024-05-27T10:47:50.724461Z",
     "iopub.status.busy": "2024-05-27T10:47:50.724035Z",
     "iopub.status.idle": "2024-05-27T10:47:50.738077Z",
     "shell.execute_reply": "2024-05-27T10:47:50.737245Z",
     "shell.execute_reply.started": "2024-05-27T10:47:50.724431Z"
    }
   },
   "outputs": [],
   "source": [
    "# Visualize the table with all results\n",
    "df = pd.json_normalize(all_results)\n",
    "display(\n",
    "    Markdown(f\"#### Results\\nDocuments matching the search query '{search_query}':\")\n",
    ")\n",
    "display(HTML(df.head().to_html(render_links=True)))"
   ]
  },
  {
   "cell_type": "markdown",
   "id": "d66c0c18-54ea-4279-a1c2-c9ff6a9493d5",
   "metadata": {},
   "source": [
    "---"
   ]
  },
  {
   "cell_type": "markdown",
   "id": "2ee15caf-37c2-4985-883b-27bea5cb9229",
   "metadata": {},
   "source": [
    "### Download your data"
   ]
  },
  {
   "cell_type": "code",
   "execution_count": null,
   "id": "b7addff1-b857-463a-b82c-02ed9dd5ef5f",
   "metadata": {
    "execution": {
     "iopub.execute_input": "2024-05-27T10:47:50.739861Z",
     "iopub.status.busy": "2024-05-27T10:47:50.739531Z",
     "iopub.status.idle": "2024-05-27T10:47:52.447541Z",
     "shell.execute_reply": "2024-05-27T10:47:52.446707Z",
     "shell.execute_reply.started": "2024-05-27T10:47:50.739834Z"
    }
   },
   "outputs": [],
   "source": [
    "# Run query\n",
    "query = DataQuery(search_query=\"*\", source=[\"*\"], coordinates=data_index.source)\n",
    "cursor = api.queries.run_paginated_query(query)\n",
    "\n",
    "# Using a temp dir for demo purposes; to persist instead, set output dir accordingly\n",
    "temp_dir = tempfile.TemporaryDirectory()\n",
    "output_dir = temp_dir.name\n",
    "\n",
    "# Iterate through query results\n",
    "all_results = []\n",
    "for result_page in tqdm(cursor):\n",
    "    for row in result_page.outputs[\"data_outputs\"]:\n",
    "        print(row)\n",
    "        metadata = row[\"_source\"].get(\n",
    "            \"description\", {}\n",
    "        )  # setting default, in case no title and authors are detected\n",
    "\n",
    "        # Download JSON file\n",
    "        file_path_json = Path(output_dir) / f\"{row['_id']}.json\"\n",
    "        with open(file_path_json, \"w\") as outfile:\n",
    "            json.dump(row[\"_source\"], outfile, indent=2)\n",
    "\n",
    "        # Export JSON to Markdown\n",
    "        file_path_md = Path(output_dir) / f\"{row['_id']}.md\"\n",
    "        with open(file_path_md, \"w\") as outfile:\n",
    "            outfile.write(export_to_markdown(row[\"_source\"]))\n",
    "\n",
    "        all_results.append(\n",
    "            {\n",
    "                \"Filename\": row[\"_source\"][\"file-info\"][\"filename\"],\n",
    "                \"Title\": metadata.get(\"title\", \"\"),\n",
    "                \"JSON Path\": file_path_json,\n",
    "                \"Markdown Path\": file_path_md,\n",
    "            }\n",
    "        )\n",
    "\n",
    "print(f\"Finished fetching all data. Total is {len(all_results)} records.\")\n",
    "print(f\"Data downloaded in {output_dir}\")\n",
    "\n",
    "# Visualize a table listing document titles and locations\n",
    "df = pd.json_normalize(all_results)\n",
    "display(df)"
   ]
  },
  {
   "cell_type": "code",
   "execution_count": null,
   "id": "fee869dd-6f23-4999-b262-b034d2161deb",
   "metadata": {
    "execution": {
     "iopub.execute_input": "2024-05-27T10:47:52.449246Z",
     "iopub.status.busy": "2024-05-27T10:47:52.448798Z",
     "iopub.status.idle": "2024-05-27T10:47:52.470073Z",
     "shell.execute_reply": "2024-05-27T10:47:52.468763Z",
     "shell.execute_reply.started": "2024-05-27T10:47:52.449214Z"
    }
   },
   "outputs": [],
   "source": [
    "# Peek first lines of a downloaded file\n",
    "with open(df.iloc[0][\"Markdown Path\"]) as demo_file:\n",
    "    content = \"\"\n",
    "    for _ in range(20):\n",
    "        line = demo_file.readline()\n",
    "        content += line\n",
    "\n",
    "    display(Markdown(\"## Markdown content\"))\n",
    "    display(Markdown(content))\n",
    "\n",
    "with open(df.iloc[0][\"JSON Path\"]) as demo_file:\n",
    "    content = \"\"\n",
    "    for _ in range(20):\n",
    "        line = demo_file.readline()\n",
    "        content += line\n",
    "    display(Markdown(\"## JSON content\"))\n",
    "    display(Markdown(f\"<code>{content}</code>\"))"
   ]
  },
  {
   "cell_type": "markdown",
   "id": "9f968b98-0346-49d8-a3ac-fbbadd35b104",
   "metadata": {},
   "source": [
    "---"
   ]
  },
  {
   "cell_type": "markdown",
   "id": "4f92b2b1-101d-4e01-b482-e5d97586248e",
   "metadata": {},
   "source": [
    "## Enable OCR\n",
    "\n",
    "This section is using the `ConversionSettings` object to enable OCR when converting PDF documents.\n",
    "\n",
    "Refer to the [OCR settings documentation](https://ds4sd.github.io/deepsearch-toolkit/guide/convert_doc/#modify-ocr-settings) for more details. \n"
   ]
  },
  {
   "cell_type": "code",
   "execution_count": null,
   "id": "58c15840-b342-44e8-b654-32b3e35f3991",
   "metadata": {
    "execution": {
     "iopub.execute_input": "2024-05-27T10:47:52.479311Z",
     "iopub.status.busy": "2024-05-27T10:47:52.478701Z",
     "iopub.status.idle": "2024-05-27T10:47:52.484591Z",
     "shell.execute_reply": "2024-05-27T10:47:52.483243Z",
     "shell.execute_reply.started": "2024-05-27T10:47:52.479274Z"
    }
   },
   "outputs": [],
   "source": [
    "from deepsearch.documents.core.models import ConversionSettings"
   ]
  },
  {
   "cell_type": "code",
   "execution_count": null,
   "id": "d477507f-bcbe-45b5-9557-dd0e3109c81c",
   "metadata": {
    "execution": {
     "iopub.execute_input": "2024-05-27T10:47:52.488533Z",
     "iopub.status.busy": "2024-05-27T10:47:52.487580Z",
     "iopub.status.idle": "2024-05-27T10:47:53.904759Z",
     "shell.execute_reply": "2024-05-27T10:47:53.903917Z",
     "shell.execute_reply.started": "2024-05-27T10:47:52.488483Z"
    }
   },
   "outputs": [],
   "source": [
    "# Create a new data index to process with OCR\n",
    "data_index = api.data_indices.create(proj_key=PROJ_KEY, name=INDEX_NAME + \"-ocr\")\n",
    "_GARBAGE_COLLECTOR.append(data_index)"
   ]
  },
  {
   "cell_type": "code",
   "execution_count": null,
   "id": "57ac3ecb-f411-4dd2-936e-4e73825da323",
   "metadata": {
    "execution": {
     "iopub.execute_input": "2024-05-27T10:47:53.906948Z",
     "iopub.status.busy": "2024-05-27T10:47:53.906165Z",
     "iopub.status.idle": "2024-05-27T10:48:42.217491Z",
     "shell.execute_reply": "2024-05-27T10:48:42.216788Z",
     "shell.execute_reply.started": "2024-05-27T10:47:53.906917Z"
    }
   },
   "outputs": [],
   "source": [
    "# Load conversion settings and enable OCR\n",
    "cs = ConversionSettings.from_project(api, proj_key=PROJ_KEY)\n",
    "cs.ocr.enabled = True  # Enable or disable OCR\n",
    "\n",
    "# Upload and convert documents with custom conversion settings\n",
    "data_indices_utils.upload_files(\n",
    "    api=api, coords=data_index.source, local_file=INPUT_OCR_FILE, conv_settings=cs\n",
    ")\n",
    "\n",
    "# Display message\n",
    "display(\n",
    "    Markdown(\n",
    "        f\"#### Results\\nThe data is now available. This file will now display the text from the scanned pages. Access it via the Deep Search UI at <br />{api.client.config.host}/projects/{data_index.source.proj_key}/library/private/{data_index.source.index_key}\"\n",
    "    )\n",
    ")"
   ]
  },
  {
   "cell_type": "markdown",
   "id": "46950043-2687-4fc9-ab20-43bcc88d246d",
   "metadata": {},
   "source": [
    "---"
   ]
  },
  {
   "cell_type": "markdown",
   "id": "17cf77e1-125b-442a-812b-fdfc2b5eb259",
   "metadata": {},
   "source": [
    "## Enable raw PDF cells\n",
    "\n",
    "The document conversion pipeline is producing a JSON file corresponsing to the PDF documents, where all document components have been grouped, classified and further inspected (e.g. table structure) for a simple usage.\n",
    "\n",
    "However, in some use cases it is convenient to rely on the raw text cells contained in the PDF document.\n",
    "This an auxiliary file that Deep Search is making available on demand.\n",
    "To following section is demonstrating how this is enabled.\n"
   ]
  },
  {
   "cell_type": "code",
   "execution_count": null,
   "id": "16655fea-becc-4236-9ad3-ac1e7ba13c46",
   "metadata": {
    "execution": {
     "iopub.execute_input": "2024-05-27T10:48:42.219795Z",
     "iopub.status.busy": "2024-05-27T10:48:42.219135Z",
     "iopub.status.idle": "2024-05-27T10:48:42.227066Z",
     "shell.execute_reply": "2024-05-27T10:48:42.223426Z",
     "shell.execute_reply.started": "2024-05-27T10:48:42.219745Z"
    }
   },
   "outputs": [],
   "source": [
    "from deepsearch.documents.core.models import TargetSettings"
   ]
  },
  {
   "cell_type": "code",
   "execution_count": null,
   "id": "4c3c8d9a-b06c-4966-98ee-335be9b659aa",
   "metadata": {
    "execution": {
     "iopub.execute_input": "2024-05-27T10:48:42.236320Z",
     "iopub.status.busy": "2024-05-27T10:48:42.234796Z",
     "iopub.status.idle": "2024-05-27T10:48:43.223126Z",
     "shell.execute_reply": "2024-05-27T10:48:43.222336Z",
     "shell.execute_reply.started": "2024-05-27T10:48:42.236267Z"
    }
   },
   "outputs": [],
   "source": [
    "# Create a new data index to process with OCR\n",
    "data_index = api.data_indices.create(proj_key=PROJ_KEY, name=INDEX_NAME + \"-raw\")\n",
    "_GARBAGE_COLLECTOR.append(data_index)"
   ]
  },
  {
   "cell_type": "code",
   "execution_count": null,
   "id": "d5060e1e-f8da-4948-8d34-56ed86f5ddb3",
   "metadata": {
    "execution": {
     "iopub.execute_input": "2024-05-27T10:48:43.224502Z",
     "iopub.status.busy": "2024-05-27T10:48:43.224100Z",
     "iopub.status.idle": "2024-05-27T10:49:37.944415Z",
     "shell.execute_reply": "2024-05-27T10:49:37.943677Z",
     "shell.execute_reply.started": "2024-05-27T10:48:43.224475Z"
    }
   },
   "outputs": [],
   "source": [
    "# Set custom target settings with raw pdf cells enabled\n",
    "tsettings = TargetSettings(add_raw_pages=True)\n",
    "\n",
    "# Upload and convert documents with custom conversion settings\n",
    "data_indices_utils.upload_files(\n",
    "    api=api,\n",
    "    coords=data_index.source,\n",
    "    local_file=INPUT_FILES_FOLDER,\n",
    "    target_settings=tsettings,\n",
    ")"
   ]
  },
  {
   "cell_type": "code",
   "execution_count": null,
   "id": "8d6dc87a-1501-4564-9914-f2787a85508b",
   "metadata": {
    "execution": {
     "iopub.execute_input": "2024-05-27T10:49:37.946123Z",
     "iopub.status.busy": "2024-05-27T10:49:37.945824Z",
     "iopub.status.idle": "2024-05-27T10:49:40.025489Z",
     "shell.execute_reply": "2024-05-27T10:49:40.024293Z",
     "shell.execute_reply.started": "2024-05-27T10:49:37.946098Z"
    }
   },
   "outputs": [],
   "source": [
    "# Run query\n",
    "query = DataQuery(\n",
    "    search_query=\"*\",\n",
    "    source=[\"file-info.filename\", \"_s3_data.raw-pages\"],\n",
    "    coordinates=data_index.source,\n",
    ")\n",
    "cursor = api.queries.run_paginated_query(query)\n",
    "\n",
    "# Iterate through query results\n",
    "all_results = []\n",
    "for result_page in cursor:\n",
    "    for row in result_page.outputs[\"data_outputs\"]:\n",
    "        filename = row[\"_source\"][\"file-info\"][\"filename\"]\n",
    "        for raw_page in row[\"_source\"][\"_s3_data\"][\"raw-pages\"]:\n",
    "\n",
    "            all_results.append(\n",
    "                {\n",
    "                    \"Filename\": filename,\n",
    "                    \"Page\": raw_page[\"page\"],\n",
    "                    \"RAW file\": f\"<a target='_blank' href='{raw_page['url']}'>Link</a>\",\n",
    "                }\n",
    "            )\n",
    "\n",
    "print(f\"Finished fetching all data. Total is {len(all_results)} records.\")\n",
    "print(f\"Data downloaded in {output_dir}\")\n",
    "display(\n",
    "    Markdown(\n",
    "        \"#### Results\\nHere is the list of the files uploaded and the urls where to download the raw pdf cells details.\"\n",
    "    )\n",
    ")\n",
    "\n",
    "# Visualize a table listing document titles and locations\n",
    "df = pd.json_normalize(all_results)\n",
    "display(HTML(df.to_html(render_links=True, escape=False)))"
   ]
  },
  {
   "cell_type": "markdown",
   "id": "b13b5f9e",
   "metadata": {},
   "source": [
    "### Cleanup\n",
    "If enabled, we will delete all the resources created in the example"
   ]
  },
  {
   "cell_type": "code",
   "execution_count": null,
   "id": "9a0b82b8",
   "metadata": {
    "execution": {
     "iopub.execute_input": "2024-05-27T10:49:40.028168Z",
     "iopub.status.busy": "2024-05-27T10:49:40.027334Z",
     "iopub.status.idle": "2024-05-27T10:49:47.131402Z",
     "shell.execute_reply": "2024-05-27T10:49:47.129835Z",
     "shell.execute_reply.started": "2024-05-27T10:49:40.028110Z"
    }
   },
   "outputs": [],
   "source": [
    "# Delete data index\n",
    "if CLEANUP:\n",
    "    for data_index in _GARBAGE_COLLECTOR:\n",
    "        api.data_indices.delete(data_index.source)\n",
    "        print(f\"Data index {data_index.name} deleted\")"
   ]
  },
  {
   "cell_type": "code",
   "execution_count": null,
   "id": "41e3df80-1073-437e-a890-36801453898d",
   "metadata": {},
   "outputs": [],
   "source": []
  }
 ],
 "metadata": {
  "kernelspec": {
   "display_name": "venv",
   "language": "python",
   "name": "python3"
  },
  "language_info": {
   "codemirror_mode": {
    "name": "ipython",
    "version": 3
   },
   "file_extension": ".py",
   "mimetype": "text/x-python",
   "name": "python",
   "nbconvert_exporter": "python",
   "pygments_lexer": "ipython3",
   "version": "3.10.4"
  }
 },
 "nbformat": 4,
 "nbformat_minor": 5
}
