{
 "cells": [
  {
   "cell_type": "markdown",
   "id": "8ee29891",
   "metadata": {},
   "source": [
    "# Bring Your Own PDFs\n",
    "\n",
    "In this example we combine the document conversion capabilities of Deep Search with its data query capabilities.\n",
    "From the Deep Search Workspace, we create a new project data index which can host our own PDF documents.\n",
    "Once the upload is completed, we will be able to query the documents, similar to the public data which we\n",
    "explored in the [Data query quick start example](../data_query_quick_start/). \n",
    "In the last steps of the example, we additionally export the converted documents as JSON files.\n",
    "\n",
    "\n",
    "Sections\n",
    "1. [Create data index and upload data](#Create-data-index-and-upload-data)\n",
    "2. [Query your data](#Query-your-data)\n",
    "3. [Download your data](#Download-your-data)\n",
    "\n",
    "\n",
    "### Access required\n",
    "\n",
    "The content of this notebook requires access to Deep Search capabilities which are not\n",
    "available on the public access system.\n",
    "\n",
    "[Contact us](https://ds4sd.github.io) if you are interested in exploring\n",
    "these Deep Search capabilities."
   ]
  },
  {
   "cell_type": "markdown",
   "id": "8dc9a9f1",
   "metadata": {},
   "source": [
    "### Set notebook parameters"
   ]
  },
  {
   "cell_type": "code",
   "execution_count": 1,
   "id": "13560ae0",
   "metadata": {},
   "outputs": [],
   "source": [
    "from dsnotebooks.settings import ProjectNotebookSettings\n",
    "from pathlib import Path\n",
    "\n",
    "# notebook settings auto-loaded from .env / env vars\n",
    "notebook_settings = ProjectNotebookSettings()\n",
    "\n",
    "PROFILE_NAME = notebook_settings.profile     # profile to use\n",
    "PROJ_KEY = notebook_settings.proj_key        # project to use\n",
    "INDEX_NAME = notebook_settings.new_idx_name  # index to create\n",
    "CLEANUP = notebook_settings.cleanup          # whether to clean up\n",
    "INPUT_FILES_FOLDER = Path(\"../../data/samples/\")"
   ]
  },
  {
   "cell_type": "markdown",
   "id": "0531c9c4",
   "metadata": {},
   "source": [
    "### Import example dependencies"
   ]
  },
  {
   "cell_type": "code",
   "execution_count": 2,
   "id": "1ea3cd26",
   "metadata": {},
   "outputs": [],
   "source": [
    "# Import standard dependenices\n",
    "from copy import deepcopy\n",
    "import json\n",
    "from tqdm.notebook import tqdm\n",
    "import pandas as pd\n",
    "import tempfile\n",
    "\n",
    "# IPython utilities\n",
    "from IPython.display import display, Markdown, HTML\n",
    "\n",
    "# Import the deepsearch-toolkit\n",
    "import deepsearch as ds\n",
    "from deepsearch.cps.queries import DataQuery\n",
    "from deepsearch.cps.data_indices import utils as data_indices_utils"
   ]
  },
  {
   "cell_type": "markdown",
   "id": "8f8be733",
   "metadata": {},
   "source": [
    "### Connect to Deep Search"
   ]
  },
  {
   "cell_type": "code",
   "execution_count": 3,
   "id": "fae4dee3",
   "metadata": {},
   "outputs": [],
   "source": [
    "api = ds.CpsApi.from_env(profile_name=PROFILE_NAME)"
   ]
  },
  {
   "cell_type": "markdown",
   "id": "70fe44f7-89f8-45ec-b6a7-8367d171a1ba",
   "metadata": {},
   "source": [
    "---"
   ]
  },
  {
   "cell_type": "markdown",
   "id": "18957147",
   "metadata": {},
   "source": [
    "### Create data index and upload data"
   ]
  },
  {
   "cell_type": "code",
   "execution_count": 4,
   "id": "f5496626",
   "metadata": {},
   "outputs": [],
   "source": [
    "# Create a new data index in your project\n",
    "data_index = api.data_indices.create(proj_key=PROJ_KEY, name=INDEX_NAME)\n",
    "index_key = data_index.source.index_key"
   ]
  },
  {
   "cell_type": "code",
   "execution_count": 5,
   "id": "530fd67a",
   "metadata": {},
   "outputs": [],
   "source": [
    "# Upload and convert documents\n",
    "data_indices_utils.upload_files(api=api, coords=data_index.source, local_file=INPUT_FILES_FOLDER)"
   ]
  },
  {
   "cell_type": "code",
   "execution_count": 6,
   "id": "bfe83b90",
   "metadata": {},
   "outputs": [
    {
     "data": {
      "text/markdown": [
       "The data is now available. You can query it programmatically (see next section) or access it via the Deep Search UI at <br />https://sds.app.accelerate.science//projects/b09ae7561a01dc7c4b0fd21a43bfd93d140766d1/library/private/39beea807fb74f8a13e644800b8ba9c76b3c2913"
      ],
      "text/plain": [
       "<IPython.core.display.Markdown object>"
      ]
     },
     "metadata": {},
     "output_type": "display_data"
    }
   ],
   "source": [
    "display(Markdown(f\"The data is now available. You can query it programmatically (see next section) or access it via the Deep Search UI at <br />{api.client.config.host}/projects/{PROJ_KEY}/library/private/{index_key}\"))"
   ]
  },
  {
   "cell_type": "markdown",
   "id": "d650fffc-566e-46b8-b04b-07a58ff20847",
   "metadata": {},
   "source": [
    "---"
   ]
  },
  {
   "cell_type": "markdown",
   "id": "45ec4a93",
   "metadata": {},
   "source": [
    "### Query your data"
   ]
  },
  {
   "cell_type": "code",
   "execution_count": 7,
   "id": "6a9a31ab",
   "metadata": {},
   "outputs": [
    {
     "name": "stdout",
     "output_type": "stream",
     "text": [
      "The data index contains 2 entries.\n"
     ]
    }
   ],
   "source": [
    "# Count the documents in the data index\n",
    "query = DataQuery(\"*\", source=[\"\"], limit=0, coordinates=data_index.source)\n",
    "query_results = api.queries.run(query)\n",
    "num_results = query_results.outputs['data_count']\n",
    "print(f\"The data index contains {num_results} entries.\")"
   ]
  },
  {
   "cell_type": "code",
   "execution_count": 8,
   "id": "a669e5a9",
   "metadata": {},
   "outputs": [
    {
     "data": {
      "application/vnd.jupyter.widget-view+json": {
       "model_id": "307534e09dce4936afb5d26d594b9469",
       "version_major": 2,
       "version_minor": 0
      },
      "text/plain": [
       "0it [00:00, ?it/s]"
      ]
     },
     "metadata": {},
     "output_type": "display_data"
    },
    {
     "name": "stdout",
     "output_type": "stream",
     "text": [
      "\n",
      "Finished fetching all data. Total is 1 records.\n"
     ]
    }
   ],
   "source": [
    "# Find documents matching query\n",
    "search_query = \"speedup\"\n",
    "query = DataQuery(search_query, source=[\"description.title\", \"description.authors\"], coordinates=data_index.source)\n",
    "query_results = api.queries.run(query)\n",
    "\n",
    "all_results = []\n",
    "cursor = api.queries.run_paginated_query(query)\n",
    "for result_page in tqdm(cursor):\n",
    "    # Iterate through the results of a single page, and add to the total list\n",
    "    for row in result_page.outputs[\"data_outputs\"]:  \n",
    "        print()\n",
    "        # Add row to results table\n",
    "        all_results.append({\n",
    "            \"Title\": row[\"_source\"][\"description\"][\"title\"],\n",
    "            \"Authors\": \", \".join([author[\"name\"] for author in row[\"_source\"][\"description\"].get(\"authors\", [])]),\n",
    "        })    \n",
    "\n",
    "num_results = len(all_results)\n",
    "print(f'Finished fetching all data. Total is {num_results} records.')"
   ]
  },
  {
   "cell_type": "code",
   "execution_count": 9,
   "id": "e997bbae",
   "metadata": {},
   "outputs": [
    {
     "data": {
      "text/html": [
       "<table border=\"1\" class=\"dataframe\">\n",
       "  <thead>\n",
       "    <tr style=\"text-align: right;\">\n",
       "      <th></th>\n",
       "      <th>Title</th>\n",
       "      <th>Authors</th>\n",
       "    </tr>\n",
       "  </thead>\n",
       "  <tbody>\n",
       "    <tr>\n",
       "      <th>0</th>\n",
       "      <td>Delivering Document Conversion as a Cloud Service with High Throughput and Responsiveness</td>\n",
       "      <td></td>\n",
       "    </tr>\n",
       "  </tbody>\n",
       "</table>"
      ],
      "text/plain": [
       "<IPython.core.display.HTML object>"
      ]
     },
     "metadata": {},
     "output_type": "display_data"
    }
   ],
   "source": [
    "# Visualize the table with all results\n",
    "df = pd.json_normalize(all_results)\n",
    "display(HTML(df.head().to_html(render_links=True)))"
   ]
  },
  {
   "cell_type": "markdown",
   "id": "d66c0c18-54ea-4279-a1c2-c9ff6a9493d5",
   "metadata": {},
   "source": [
    "---"
   ]
  },
  {
   "cell_type": "markdown",
   "id": "2ee15caf-37c2-4985-883b-27bea5cb9229",
   "metadata": {},
   "source": [
    "### Download your data"
   ]
  },
  {
   "cell_type": "code",
   "execution_count": 10,
   "id": "b7addff1-b857-463a-b82c-02ed9dd5ef5f",
   "metadata": {},
   "outputs": [
    {
     "data": {
      "application/vnd.jupyter.widget-view+json": {
       "model_id": "4f37d7ecab5c4439b9b138b585440b9d",
       "version_major": 2,
       "version_minor": 0
      },
      "text/plain": [
       "0it [00:00, ?it/s]"
      ]
     },
     "metadata": {},
     "output_type": "display_data"
    },
    {
     "name": "stdout",
     "output_type": "stream",
     "text": [
      "Finished fetching all data. Total is 2 records.\n",
      "Data downloaded in /var/folders/32/5m4rnj816kl4pxl4vm97_wbh0000kp/T/tmptptgrng1\n"
     ]
    },
    {
     "data": {
      "text/html": [
       "<div>\n",
       "<style scoped>\n",
       "    .dataframe tbody tr th:only-of-type {\n",
       "        vertical-align: middle;\n",
       "    }\n",
       "\n",
       "    .dataframe tbody tr th {\n",
       "        vertical-align: top;\n",
       "    }\n",
       "\n",
       "    .dataframe thead th {\n",
       "        text-align: right;\n",
       "    }\n",
       "</style>\n",
       "<table border=\"1\" class=\"dataframe\">\n",
       "  <thead>\n",
       "    <tr style=\"text-align: right;\">\n",
       "      <th></th>\n",
       "      <th>Title</th>\n",
       "      <th>Path</th>\n",
       "    </tr>\n",
       "  </thead>\n",
       "  <tbody>\n",
       "    <tr>\n",
       "      <th>0</th>\n",
       "      <td>DocLayNet: A Large Human-Annotated Dataset for...</td>\n",
       "      <td>/var/folders/32/5m4rnj816kl4pxl4vm97_wbh0000kp...</td>\n",
       "    </tr>\n",
       "    <tr>\n",
       "      <th>1</th>\n",
       "      <td>Delivering Document Conversion as a Cloud Serv...</td>\n",
       "      <td>/var/folders/32/5m4rnj816kl4pxl4vm97_wbh0000kp...</td>\n",
       "    </tr>\n",
       "  </tbody>\n",
       "</table>\n",
       "</div>"
      ],
      "text/plain": [
       "                                               Title  \\\n",
       "0  DocLayNet: A Large Human-Annotated Dataset for...   \n",
       "1  Delivering Document Conversion as a Cloud Serv...   \n",
       "\n",
       "                                                Path  \n",
       "0  /var/folders/32/5m4rnj816kl4pxl4vm97_wbh0000kp...  \n",
       "1  /var/folders/32/5m4rnj816kl4pxl4vm97_wbh0000kp...  "
      ]
     },
     "metadata": {},
     "output_type": "display_data"
    }
   ],
   "source": [
    "# Run query\n",
    "query = DataQuery(search_query=\"*\", source=[\"*\"], coordinates=data_index.source)\n",
    "cursor = api.queries.run_paginated_query(query)\n",
    "\n",
    "# Using a temp dir for demo purposes; to persist instead, set output dir accordingly\n",
    "temp_dir = tempfile.TemporaryDirectory()\n",
    "output_dir = temp_dir.name\n",
    "\n",
    "# Iterate through query results\n",
    "all_results = []\n",
    "for result_page in tqdm(cursor):\n",
    "    for row in result_page.outputs[\"data_outputs\"]:\n",
    "\n",
    "        # Download JSON file\n",
    "        file_path = Path(output_dir) / f\"{row['_id']}.json\"\n",
    "        with open(file_path, \"w\") as outfile:\n",
    "            json.dump(row[\"_source\"], outfile, indent=2)\n",
    "\n",
    "        all_results.append({\n",
    "            \"Title\": row[\"_source\"][\"description\"][\"title\"],\n",
    "            \"Path\": file_path,\n",
    "        })\n",
    "\n",
    "print(f\"Finished fetching all data. Total is {len(all_results)} records.\")\n",
    "print(f\"Data downloaded in {output_dir}\")\n",
    "\n",
    "# Visualize a table listing document titles and locations\n",
    "df = pd.json_normalize(all_results)\n",
    "display(df)"
   ]
  },
  {
   "cell_type": "code",
   "execution_count": 11,
   "id": "fee869dd-6f23-4999-b262-b034d2161deb",
   "metadata": {},
   "outputs": [
    {
     "name": "stdout",
     "output_type": "stream",
     "text": [
      "{\n",
      "  \"page-headers\": [\n",
      "    {\n",
      "      \"text\": \" KDD \\u201922, August 14-18, 2022, Washington, DC, USA Birgit Pfitzmann, Christoph Auer, Michele Dolfi, Ahmed S. Nassar, and Peter Staar\",\n",
      "      \"type\": \"page-header\",\n",
      "      \"prov\": [\n",
      "        {\n",
      "          \"bbox\": [\n",
      "            53.798,\n",
      "            723.42395,\n",
      "            560.646240234375,\n",
      "            733.2630004882812\n",
      "          ],\n",
      "          \"page\": 2,\n",
      "          \"span\": [\n",
      "            0,\n",
      "            133\n",
      "          ]\n",
      "        }\n",
      "      ]\n"
     ]
    }
   ],
   "source": [
    "# Peek first lines of a downloaded file\n",
    "with open(df.iloc[0][\"Path\"]) as demo_file:\n",
    "    for i in range(20):\n",
    "        line = demo_file.readline()\n",
    "        print(line.rstrip())"
   ]
  },
  {
   "cell_type": "markdown",
   "id": "b13b5f9e",
   "metadata": {},
   "source": [
    "### Cleanup\n",
    "If enabled, we will delete all the resources created in the example"
   ]
  },
  {
   "cell_type": "code",
   "execution_count": 12,
   "id": "9a0b82b8",
   "metadata": {},
   "outputs": [
    {
     "name": "stdout",
     "output_type": "stream",
     "text": [
      "Data index deleted\n"
     ]
    }
   ],
   "source": [
    "# Delete data index\n",
    "if CLEANUP:\n",
    "    api.data_indices.delete(data_index.source)\n",
    "    print(\"Data index deleted\")"
   ]
  }
 ],
 "metadata": {
  "kernelspec": {
   "display_name": "Python 3 (ipykernel)",
   "language": "python",
   "name": "python3"
  },
  "language_info": {
   "codemirror_mode": {
    "name": "ipython",
    "version": 3
   },
   "file_extension": ".py",
   "mimetype": "text/x-python",
   "name": "python",
   "nbconvert_exporter": "python",
   "pygments_lexer": "ipython3",
   "version": "3.10.12"
  }
 },
 "nbformat": 4,
 "nbformat_minor": 5
}
