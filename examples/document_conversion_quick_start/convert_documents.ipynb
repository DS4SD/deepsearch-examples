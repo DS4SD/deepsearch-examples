{
 "cells": [
  {
   "cell_type": "markdown",
   "id": "37d96e78",
   "metadata": {},
   "source": [
    "# Document Conversion - Quick start"
   ]
  },
  {
   "cell_type": "markdown",
   "id": "4edb626f",
   "metadata": {},
   "source": [
    "## Getting started\n",
    "\n",
    "The [Deep Search Toolkit](https://ds4sd.github.io/deepsearch-toolkit/) allows document conversion with the following few lines of code. It's that simple! For more info or step-by-step guide:\n",
    "- Visit https://ds4sd.github.io/deepsearch-toolkit/guide/convert_doc/\n",
    "- Follow this example notebook"
   ]
  },
  {
   "cell_type": "markdown",
   "id": "a8f9c441",
   "metadata": {},
   "source": [
    "### Set notebook parameters"
   ]
  },
  {
   "cell_type": "code",
   "execution_count": 4,
   "id": "b01a4fd1",
   "metadata": {},
   "outputs": [],
   "source": [
    "from dsnotebooks.settings import ProjectNotebookSettings\n",
    "\n",
    "# notebook settings auto-loaded from .env / env vars\n",
    "notebook_settings = ProjectNotebookSettings()\n",
    "\n",
    "PROFILE_NAME = notebook_settings.profile  # the profile to use\n",
    "PROJ_KEY = notebook_settings.proj_key  # the project to use\n",
    "\n",
    "# default project_key = 1234567890abcdefghijklmnopqrstvwyz123456"
   ]
  },
  {
   "cell_type": "markdown",
   "id": "239dc0f1",
   "metadata": {},
   "source": [
    "### Import example dependencies"
   ]
  },
  {
   "cell_type": "code",
   "execution_count": 5,
   "id": "502cdef8",
   "metadata": {
    "ExecuteTime": {
     "end_time": "2022-08-02T12:14:25.377422Z",
     "start_time": "2022-08-02T12:14:25.152485Z"
    }
   },
   "outputs": [],
   "source": [
    "import deepsearch as ds\n",
    "import json\n",
    "\n",
    "from pathlib import Path\n",
    "from zipfile import ZipFile\n",
    "\n",
    "from deepsearch.documents.core.export import export_to_markdown\n",
    "from IPython.display import display, Markdown, HTML, display_html"
   ]
  },
  {
   "cell_type": "markdown",
   "id": "e6e4dcda",
   "metadata": {},
   "source": [
    "### Connect to Deep Search"
   ]
  },
  {
   "cell_type": "code",
   "execution_count": 6,
   "id": "f44fbf08",
   "metadata": {},
   "outputs": [],
   "source": [
    "api = ds.CpsApi.from_env(profile_name=PROFILE_NAME)"
   ]
  },
  {
   "cell_type": "code",
   "execution_count": null,
   "id": "ec83eb0b",
   "metadata": {
    "ExecuteTime": {
     "end_time": "2022-08-02T12:14:49.216045Z",
     "start_time": "2022-08-02T12:14:25.380757Z"
    }
   },
   "outputs": [],
   "source": [
    "output_dir = Path(\"./converted_docs\")\n",
    "\n",
    "documents = ds.convert_documents(\n",
    "    api=api,\n",
    "    proj_key=PROJ_KEY,\n",
    "    source_path=\"../../data/samples/2206.01062.pdf\",\n",
    "    progress_bar=True,\n",
    ")\n",
    "documents.download_all(result_dir=output_dir)\n",
    "info = documents.generate_report(result_dir=output_dir)\n",
    "print(info)"
   ]
  },
  {
   "cell_type": "code",
   "execution_count": null,
   "id": "382c4869-cca9-43fc-8052-c0ab7e9c175d",
   "metadata": {},
   "outputs": [],
   "source": [
    "# Iterare output files and visualize the output\n",
    "for output_file in output_dir.rglob(\"json*.zip\"):\n",
    "    with ZipFile(output_file) as archive:\n",
    "        all_files = archive.namelist()\n",
    "        for name in all_files:\n",
    "            if not name.endswith(\".json\"):\n",
    "                continue\n",
    "\n",
    "            basename = name.rstrip(\".json\")\n",
    "            doc_json = json.loads(archive.read(f\"{basename}.json\"))\n",
    "            doc_md = export_to_markdown(doc_json)\n",
    "\n",
    "            ofile = output_dir / f\"{basename}.md\"\n",
    "            with ofile.open(\"w\") as fw:\n",
    "                fw.write(doc_md)\n",
    "\n",
    "            print(f\"writing {ofile}\")"
   ]
  },
  {
   "cell_type": "code",
   "execution_count": null,
   "id": "b19f7678-b650-484b-a994-150d0c4ec3a2",
   "metadata": {},
   "outputs": [],
   "source": [
    "# display last document\n",
    "# display(Markdown(doc_md))"
   ]
  },
  {
   "cell_type": "markdown",
   "id": "b9a511c9",
   "metadata": {},
   "source": [
    "---"
   ]
  },
  {
   "cell_type": "markdown",
   "id": "dc89b26a",
   "metadata": {},
   "source": [
    "**There's more!**\n",
    "\n",
    "The Deep Search Toolkit provides utility functions which can convert documents from different type of inputs.\n",
    "\n",
    "- From a single url\n",
    "- From a list of urls. In this case, the toolkit will launch a batch processing with all tasks.\n",
    "- From a local PDF file\n",
    "- From a local zip archive containing PDF files.\n",
    "- From a local folder containing PDF files. In this case, the toolkit is packaging the files into batches and creates multiple zip archives.\n"
   ]
  },
  {
   "cell_type": "markdown",
   "id": "2de29920",
   "metadata": {},
   "source": [
    "---"
   ]
  },
  {
   "cell_type": "markdown",
   "id": "b2e16562",
   "metadata": {},
   "source": [
    "## Let's explore document conversion"
   ]
  },
  {
   "cell_type": "markdown",
   "id": "5f09bbd4",
   "metadata": {},
   "source": [
    "### Single URL"
   ]
  },
  {
   "cell_type": "code",
   "execution_count": null,
   "id": "c61d9bdb",
   "metadata": {
    "ExecuteTime": {
     "end_time": "2022-08-02T12:15:15.467370Z",
     "start_time": "2022-08-02T12:14:49.599429Z"
    },
    "scrolled": true
   },
   "outputs": [],
   "source": [
    "documents = ds.convert_documents(\n",
    "    api=api,\n",
    "    proj_key=PROJ_KEY,\n",
    "    urls=\"https://arxiv.org/pdf/2206.00785.pdf\",\n",
    "    progress_bar=True,\n",
    ")"
   ]
  },
  {
   "cell_type": "code",
   "execution_count": null,
   "id": "3c68c2f5",
   "metadata": {
    "ExecuteTime": {
     "end_time": "2022-08-02T12:15:16.228391Z",
     "start_time": "2022-08-02T12:15:15.469912Z"
    }
   },
   "outputs": [],
   "source": [
    "# let's check what happened.\n",
    "# we generate a csv report about the conversion task and store it locally\n",
    "result_dir = \"./converted_docs/\"\n",
    "info = documents.generate_report(result_dir=result_dir)\n",
    "print(info)"
   ]
  },
  {
   "cell_type": "markdown",
   "id": "4ba0c201",
   "metadata": {},
   "source": [
    "The saved report may help in debugging and analysing the conversion task"
   ]
  },
  {
   "cell_type": "code",
   "execution_count": null,
   "id": "2dc1847e",
   "metadata": {
    "ExecuteTime": {
     "end_time": "2022-08-02T12:15:18.994738Z",
     "start_time": "2022-08-02T12:15:16.230716Z"
    }
   },
   "outputs": [],
   "source": [
    "# let's download all the converted documents:\n",
    "documents.download_all(result_dir=result_dir, progress_bar=True)"
   ]
  },
  {
   "cell_type": "code",
   "execution_count": null,
   "id": "39538b8a",
   "metadata": {
    "ExecuteTime": {
     "end_time": "2022-08-02T12:15:19.006923Z",
     "start_time": "2022-08-02T12:15:18.997725Z"
    }
   },
   "outputs": [],
   "source": [
    "# the documents object stores some additional info like:\n",
    "documents.statuses, documents.task_ids"
   ]
  },
  {
   "cell_type": "markdown",
   "id": "ba59d7a3",
   "metadata": {},
   "source": [
    "### Multiple URLs"
   ]
  },
  {
   "cell_type": "code",
   "execution_count": null,
   "id": "f7c6202f",
   "metadata": {
    "ExecuteTime": {
     "end_time": "2022-08-02T12:15:19.022652Z",
     "start_time": "2022-08-02T12:15:19.009295Z"
    }
   },
   "outputs": [],
   "source": [
    "# let's create a list of urls we want to convert:\n",
    "urls = [\"https://arxiv.org/pdf/2206.00785.pdf\", \"https://arxiv.org/pdf/2206.01062.pdf\"]"
   ]
  },
  {
   "cell_type": "code",
   "execution_count": null,
   "id": "7126c7b1",
   "metadata": {
    "ExecuteTime": {
     "end_time": "2022-08-02T12:16:22.641187Z",
     "start_time": "2022-08-02T12:15:19.026607Z"
    }
   },
   "outputs": [],
   "source": [
    "# Process multiple urls\n",
    "documents = ds.convert_documents(\n",
    "    api=api, proj_key=PROJ_KEY, urls=urls, progress_bar=True\n",
    ")"
   ]
  },
  {
   "cell_type": "code",
   "execution_count": null,
   "id": "e630e1e3",
   "metadata": {
    "ExecuteTime": {
     "end_time": "2022-08-02T12:16:28.414101Z",
     "start_time": "2022-08-02T12:16:22.643995Z"
    }
   },
   "outputs": [],
   "source": [
    "# as before we can use the documents object to download all jsons. We can also iterate over them individually.\n",
    "for doc in documents:\n",
    "    doc.download(result_dir=result_dir, progress_bar=True)"
   ]
  },
  {
   "cell_type": "markdown",
   "id": "414c27ed",
   "metadata": {},
   "source": [
    "### Process local file"
   ]
  },
  {
   "cell_type": "code",
   "execution_count": null,
   "id": "72a81849",
   "metadata": {
    "ExecuteTime": {
     "end_time": "2022-08-02T12:16:52.762555Z",
     "start_time": "2022-08-02T12:16:28.416926Z"
    }
   },
   "outputs": [],
   "source": [
    "documents = ds.convert_documents(\n",
    "    api=api,\n",
    "    proj_key=PROJ_KEY,\n",
    "    source_path=\"../../data/samples/2206.01062.pdf\",\n",
    "    progress_bar=True,\n",
    ")"
   ]
  },
  {
   "cell_type": "markdown",
   "id": "78d66ba9",
   "metadata": {},
   "source": [
    "## Process folder of files"
   ]
  },
  {
   "cell_type": "code",
   "execution_count": null,
   "id": "7dc33e5d",
   "metadata": {
    "ExecuteTime": {
     "end_time": "2022-08-02T12:17:14.637505Z",
     "start_time": "2022-08-02T12:16:52.764337Z"
    }
   },
   "outputs": [],
   "source": [
    "documents = ds.convert_documents(\n",
    "    api=api, proj_key=PROJ_KEY, source_path=\"../../data/samples\", progress_bar=True\n",
    ")"
   ]
  },
  {
   "cell_type": "code",
   "execution_count": null,
   "id": "03d11356",
   "metadata": {
    "ExecuteTime": {
     "end_time": "2022-08-02T12:17:15.703537Z",
     "start_time": "2022-08-02T12:17:14.639699Z"
    }
   },
   "outputs": [],
   "source": [
    "info = documents.generate_report(result_dir)\n",
    "print(info)"
   ]
  },
  {
   "cell_type": "code",
   "execution_count": null,
   "id": "192ea2e7",
   "metadata": {
    "ExecuteTime": {
     "end_time": "2022-08-02T12:17:19.794439Z",
     "start_time": "2022-08-02T12:17:15.705771Z"
    }
   },
   "outputs": [],
   "source": [
    "# let's download all the converted documents:\n",
    "documents.download_all(result_dir=result_dir, progress_bar=True)"
   ]
  },
  {
   "cell_type": "markdown",
   "id": "3038f106",
   "metadata": {},
   "source": [
    "---"
   ]
  },
  {
   "cell_type": "markdown",
   "id": "2aef55c2",
   "metadata": {},
   "source": [
    "## What's next?\n",
    "\n",
    "Explore other examples which demonstrate possible use cases of the document conversion\n",
    "\n",
    "- Visualize the text bounding boxes\n",
    "- Extract figures\n",
    "- Convert document to epub for your e-reader\n"
   ]
  },
  {
   "cell_type": "code",
   "execution_count": null,
   "id": "e7ee484c-a6f5-49c0-84ef-f6f333c45c18",
   "metadata": {},
   "outputs": [],
   "source": []
  }
 ],
 "metadata": {
  "kernelspec": {
   "display_name": "Python 3 (ipykernel)",
   "language": "python",
   "name": "python3"
  },
  "language_info": {
   "codemirror_mode": {
    "name": "ipython",
    "version": 3
   },
   "file_extension": ".py",
   "mimetype": "text/x-python",
   "name": "python",
   "nbconvert_exporter": "python",
   "pygments_lexer": "ipython3",
   "version": "3.9.18"
  },
  "toc": {
   "base_numbering": 1,
   "nav_menu": {},
   "number_sections": true,
   "sideBar": true,
   "skip_h1_title": false,
   "title_cell": "Table of Contents",
   "title_sidebar": "Contents",
   "toc_cell": false,
   "toc_position": {},
   "toc_section_display": true,
   "toc_window_display": false
  },
  "vscode": {
   "interpreter": {
    "hash": "23663f76e1e243f0a6319b8ef58f504b6b45c83666dfefd3138ba8cf69ab01fa"
   }
  }
 },
 "nbformat": 4,
 "nbformat_minor": 5
}
