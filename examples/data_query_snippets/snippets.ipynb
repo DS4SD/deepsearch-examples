{
 "cells": [
  {
   "cell_type": "markdown",
   "metadata": {},
   "source": [
    "# Data queries - Highlighted snippets and aggregations\n",
    "\n",
    "When running search queries on large collections, you may be interested in retrieving only\n",
    "certain details of the query matches, instead of downloading the full documents in the result set.\n",
    "For instance, you may want to retrieve snippets from some fields where the matches occur or \n",
    "you may be interested in just aggregated values from the matched documents. In this example,\n",
    "we show several search capabilities supported by Deep Search to make some data anaytics\n",
    "use cases more efficient.\n",
    "\n",
    "### Access required\n",
    "\n",
    "The content of this notebook requires access to Deep Search capabilities which are not\n",
    "available on the public access system.\n",
    "\n",
    "[Contact us](https://ds4sd.github.io) if you are interested in exploring\n",
    "these Deep Search capabilities."
   ]
  },
  {
   "cell_type": "markdown",
   "metadata": {},
   "source": [
    "### Set notebooks parameters"
   ]
  },
  {
   "cell_type": "code",
   "execution_count": 1,
   "metadata": {},
   "outputs": [],
   "source": [
    "from dsnotebooks.settings import NotebookSettings\n",
    "\n",
    "# notebook settings auto-loaded from .env / env vars\n",
    "notebook_settings = NotebookSettings()\n",
    "\n",
    "PROFILE_NAME = notebook_settings.profile  # the profile to use"
   ]
  },
  {
   "cell_type": "markdown",
   "metadata": {},
   "source": [
    "### Import example dependencies"
   ]
  },
  {
   "cell_type": "code",
   "execution_count": 2,
   "metadata": {},
   "outputs": [],
   "source": [
    "# Import standard dependencies\n",
    "import pandas as pd\n",
    "from numerize.numerize import numerize\n",
    "from tqdm import tqdm\n",
    "\n",
    "# Import the deepsearch-toolkit\n",
    "import deepsearch as ds\n",
    "from deepsearch.cps.client.components.elastic import ElasticDataCollectionSource\n",
    "from deepsearch.cps.queries import DataQuery"
   ]
  },
  {
   "cell_type": "markdown",
   "metadata": {},
   "source": [
    "### Connect to Deep Search"
   ]
  },
  {
   "cell_type": "code",
   "execution_count": 3,
   "metadata": {},
   "outputs": [],
   "source": [
    "api = ds.CpsApi.from_env(profile_name=PROFILE_NAME)"
   ]
  },
  {
   "cell_type": "markdown",
   "metadata": {},
   "source": [
    "---\n",
    "\n",
    "## Get highlighted snippets\n",
    "\n",
    "In this section we will run some queries and get highlighted snippets from the matches, using documents from the Climate & Sustainability domain.\n",
    "\n",
    "- [List data collections from the Climate & Sustainability domain](#List-data-collections-from-the-Climate-&-Sustainability-domain)\n",
    "- [Search IPCC reports on climate change mitigation](#Search-IPCC-reports-on-climate-change-mitigation)\n",
    "- [Get snippets from matched documents](#Get-snippets-from-matched-documents)\n",
    "- [Configure the highlightning options](#Configure-the-highlightning-options)"
   ]
  },
  {
   "cell_type": "markdown",
   "metadata": {},
   "source": [
    "### List data collections from the _Climate & Sustainability_ domain\n",
    "\n",
    "The Deep Search platform offers access to collections from several domains, like _Climate & Sustainability_. We will list these collections, which may be of type _Document_ (text reports, mainly unstructured) or _Record_ (databases). In particular, we will focus on IPCC reports, published by [The Intergovernmental Panel on Climate Change (IPCC)](https://www.ipcc.ch), the United Nations body for assessing the science related to climate change."
   ]
  },
  {
   "cell_type": "code",
   "execution_count": 4,
   "metadata": {},
   "outputs": [],
   "source": [
    "# Fetch list of all data collections\n",
    "collections = api.elastic.list(domain=\"Climate & Sustainability\")\n",
    "collections.sort(key=lambda c: c.name.lower())"
   ]
  },
  {
   "cell_type": "code",
   "execution_count": 5,
   "metadata": {},
   "outputs": [
    {
     "data": {
      "text/html": [
       "<div>\n",
       "<style scoped>\n",
       "    .dataframe tbody tr th:only-of-type {\n",
       "        vertical-align: middle;\n",
       "    }\n",
       "\n",
       "    .dataframe tbody tr th {\n",
       "        vertical-align: top;\n",
       "    }\n",
       "\n",
       "    .dataframe thead th {\n",
       "        text-align: right;\n",
       "    }\n",
       "</style>\n",
       "<table border=\"1\" class=\"dataframe\">\n",
       "  <thead>\n",
       "    <tr style=\"text-align: right;\">\n",
       "      <th></th>\n",
       "      <th>Name</th>\n",
       "      <th>Type</th>\n",
       "      <th>Num entries</th>\n",
       "      <th>Date</th>\n",
       "      <th>Coords</th>\n",
       "    </tr>\n",
       "  </thead>\n",
       "  <tbody>\n",
       "    <tr>\n",
       "      <th>0</th>\n",
       "      <td>IPCC</td>\n",
       "      <td>Document</td>\n",
       "      <td>819</td>\n",
       "      <td>2023-06-15</td>\n",
       "      <td>default/ipcc</td>\n",
       "    </tr>\n",
       "  </tbody>\n",
       "</table>\n",
       "</div>"
      ],
      "text/plain": [
       "   Name      Type Num entries        Date        Coords\n",
       "0  IPCC  Document         819  2023-06-15  default/ipcc"
      ]
     },
     "metadata": {},
     "output_type": "display_data"
    }
   ],
   "source": [
    "# Visualize summary table\n",
    "results = [\n",
    "    {\n",
    "        \"Name\": c.name,\n",
    "        \"Type\": c.metadata.type,\n",
    "        \"Num entries\": numerize(c.documents),\n",
    "        \"Date\": c.metadata.created.strftime(\"%Y-%m-%d\"),\n",
    "        \"Coords\": f\"{c.source.elastic_id}/{c.source.index_key}\",\n",
    "    }\n",
    "    for c in collections\n",
    "]\n",
    "display(pd.DataFrame(results))"
   ]
  },
  {
   "cell_type": "markdown",
   "metadata": {},
   "source": [
    "### Search IPCC reports on climate change mitigation\n",
    "\n",
    "As a first example, we search for IPCC reports that may address the topic of climate change mitigation, using a keyword search query. Since we are only interested in identifying those reports, we request a short list of metadata fields from the matched reports and we can thus avoid unnecessary data transfers.\n",
    "The results are displayed on a table with the columns title, publication year, and number of pages."
   ]
  },
  {
   "cell_type": "code",
   "execution_count": 6,
   "metadata": {},
   "outputs": [
    {
     "name": "stderr",
     "output_type": "stream",
     "text": [
      "0it [00:00, ?it/s]"
     ]
    },
    {
     "name": "stderr",
     "output_type": "stream",
     "text": [
      "11it [00:14,  1.29s/it]"
     ]
    },
    {
     "name": "stdout",
     "output_type": "stream",
     "text": [
      "Finished fetching all data. Total is 422 records.\n"
     ]
    },
    {
     "name": "stderr",
     "output_type": "stream",
     "text": [
      "\n"
     ]
    }
   ],
   "source": [
    "# Run a proximity query using some keywords with maximum edit distance 5\n",
    "search_query = \"\\\"climate change mitigation\\\"~5\"\n",
    "\n",
    "data_collection = ElasticDataCollectionSource(elastic_id=\"default\", index_key=\"ipcc\")\n",
    "page_size = 50\n",
    "\n",
    "# Prepare the data query\n",
    "query = DataQuery(\n",
    "    search_query, # The search query to be executed\n",
    "    source=[\"description.title\", \"description.publication_date\", \"file-info.#-pages\"], # Fields to fetch\n",
    "    limit=page_size, # The size of each request page\n",
    "    coordinates=data_collection # The data collection to be queried\n",
    ")\n",
    "\n",
    "# Iterate through all results by fetching `page_size` results at the same time\n",
    "all_results = []\n",
    "cursor = api.queries.run_paginated_query(query)\n",
    "for result_page in tqdm(cursor):\n",
    "    all_results.extend(result_page.outputs[\"data_outputs\"])\n",
    "\n",
    "print(f\"Finished fetching all data. Total is {len(all_results)} records.\")"
   ]
  },
  {
   "cell_type": "code",
   "execution_count": 7,
   "metadata": {},
   "outputs": [
    {
     "data": {
      "text/html": [
       "<style type=\"text/css\">\n",
       "#T_b4f57 th {\n",
       "  text-align: left;\n",
       "}\n",
       "#T_b4f57_row0_col0, #T_b4f57_row1_col0, #T_b4f57_row2_col0, #T_b4f57_row3_col0, #T_b4f57_row4_col0, #T_b4f57_row5_col0, #T_b4f57_row6_col0, #T_b4f57_row7_col0, #T_b4f57_row8_col0, #T_b4f57_row9_col0 {\n",
       "  text-align: left;\n",
       "}\n",
       "</style>\n",
       "<table id=\"T_b4f57\">\n",
       "  <thead>\n",
       "    <tr>\n",
       "      <th class=\"blank level0\" >&nbsp;</th>\n",
       "      <th id=\"T_b4f57_level0_col0\" class=\"col_heading level0 col0\" >Title</th>\n",
       "      <th id=\"T_b4f57_level0_col1\" class=\"col_heading level0 col1\" >Publication Year</th>\n",
       "      <th id=\"T_b4f57_level0_col2\" class=\"col_heading level0 col2\" >Number of Pages</th>\n",
       "    </tr>\n",
       "  </thead>\n",
       "  <tbody>\n",
       "    <tr>\n",
       "      <th id=\"T_b4f57_level0_row0\" class=\"row_heading level0 row0\" >0</th>\n",
       "      <td id=\"T_b4f57_row0_col0\" class=\"data row0 col0\" >AR4 Climate Change 2007: Impacts, Adaptation, and Vulnerability (ar4-wg2-chapter20-1)</td>\n",
       "      <td id=\"T_b4f57_row0_col1\" class=\"data row0 col1\" >2007</td>\n",
       "      <td id=\"T_b4f57_row0_col2\" class=\"data row0 col2\" >32</td>\n",
       "    </tr>\n",
       "    <tr>\n",
       "      <th id=\"T_b4f57_level0_row1\" class=\"row_heading level0 row1\" >1</th>\n",
       "      <td id=\"T_b4f57_row1_col0\" class=\"data row1 col0\" >AR4 Climate Change 2007: Mitigation of Climate Change (ar4_wg3_errata_spmts_en)</td>\n",
       "      <td id=\"T_b4f57_row1_col1\" class=\"data row1 col1\" >2007</td>\n",
       "      <td id=\"T_b4f57_row1_col2\" class=\"data row1 col2\" >1</td>\n",
       "    </tr>\n",
       "    <tr>\n",
       "      <th id=\"T_b4f57_level0_row2\" class=\"row_heading level0 row2\" >2</th>\n",
       "      <td id=\"T_b4f57_row2_col0\" class=\"data row2 col0\" >AR5 Synthesis Report: Climate Change 2014 (AR5_SYR_Glossary_ru)</td>\n",
       "      <td id=\"T_b4f57_row2_col1\" class=\"data row2 col1\" >2014</td>\n",
       "      <td id=\"T_b4f57_row2_col2\" class=\"data row2 col2\" >18</td>\n",
       "    </tr>\n",
       "    <tr>\n",
       "      <th id=\"T_b4f57_level0_row3\" class=\"row_heading level0 row3\" >3</th>\n",
       "      <td id=\"T_b4f57_row3_col0\" class=\"data row3 col0\" >AR4 Climate Change 2007: Mitigation of Climate Change (ar4-wg3-chapter1-1)</td>\n",
       "      <td id=\"T_b4f57_row3_col1\" class=\"data row3 col1\" >2007</td>\n",
       "      <td id=\"T_b4f57_row3_col2\" class=\"data row3 col2\" >22</td>\n",
       "    </tr>\n",
       "    <tr>\n",
       "      <th id=\"T_b4f57_level0_row4\" class=\"row_heading level0 row4\" >4</th>\n",
       "      <td id=\"T_b4f57_row4_col0\" class=\"data row4 col0\" >AR5 Climate Change 2014: Mitigation of Climate Change (ipcc_wg3_ar5_annex-ii)</td>\n",
       "      <td id=\"T_b4f57_row4_col1\" class=\"data row4 col1\" >2014</td>\n",
       "      <td id=\"T_b4f57_row4_col2\" class=\"data row4 col2\" >48</td>\n",
       "    </tr>\n",
       "    <tr>\n",
       "      <th id=\"T_b4f57_level0_row5\" class=\"row_heading level0 row5\" >5</th>\n",
       "      <td id=\"T_b4f57_row5_col0\" class=\"data row5 col0\" >TAR Climate Change 2001: Impacts, Adaptation, and Vulnerability (wg2TARchap13)</td>\n",
       "      <td id=\"T_b4f57_row5_col1\" class=\"data row5 col1\" >2001</td>\n",
       "      <td id=\"T_b4f57_row5_col2\" class=\"data row5 col2\" >52</td>\n",
       "    </tr>\n",
       "    <tr>\n",
       "      <th id=\"T_b4f57_level0_row6\" class=\"row_heading level0 row6\" >6</th>\n",
       "      <td id=\"T_b4f57_row6_col0\" class=\"data row6 col0\" >AR6 Climate Change 2022: Mitigation of Climate Change (IPCC_AR6_WGIII_Chapter04_SM)</td>\n",
       "      <td id=\"T_b4f57_row6_col1\" class=\"data row6 col1\" >2022</td>\n",
       "      <td id=\"T_b4f57_row6_col2\" class=\"data row6 col2\" >8</td>\n",
       "    </tr>\n",
       "    <tr>\n",
       "      <th id=\"T_b4f57_level0_row7\" class=\"row_heading level0 row7\" >7</th>\n",
       "      <td id=\"T_b4f57_row7_col0\" class=\"data row7 col0\" >AR5 Climate Change 2014: Mitigation of Climate Change (WGIIIAR5_SPM_TS_Volume_ru-1)</td>\n",
       "      <td id=\"T_b4f57_row7_col1\" class=\"data row7 col1\" >2014</td>\n",
       "      <td id=\"T_b4f57_row7_col2\" class=\"data row7 col2\" >188</td>\n",
       "    </tr>\n",
       "    <tr>\n",
       "      <th id=\"T_b4f57_level0_row8\" class=\"row_heading level0 row8\" >8</th>\n",
       "      <td id=\"T_b4f57_row8_col0\" class=\"data row8 col0\" >AR5 Climate Change 2013: The Physical Science Basis (WG1AR5_FactSheet)</td>\n",
       "      <td id=\"T_b4f57_row8_col1\" class=\"data row8 col1\" >2013</td>\n",
       "      <td id=\"T_b4f57_row8_col2\" class=\"data row8 col2\" >2</td>\n",
       "    </tr>\n",
       "    <tr>\n",
       "      <th id=\"T_b4f57_level0_row9\" class=\"row_heading level0 row9\" >9</th>\n",
       "      <td id=\"T_b4f57_row9_col0\" class=\"data row9 col0\" >AR4 Climate Change 2007: Mitigation of Climate Change (ar4-wg3-chapter4-1)</td>\n",
       "      <td id=\"T_b4f57_row9_col1\" class=\"data row9 col1\" >2007</td>\n",
       "      <td id=\"T_b4f57_row9_col2\" class=\"data row9 col2\" >72</td>\n",
       "    </tr>\n",
       "  </tbody>\n",
       "</table>\n"
      ],
      "text/plain": [
       "<pandas.io.formats.style.Styler at 0x112d62230>"
      ]
     },
     "execution_count": 7,
     "metadata": {},
     "output_type": "execute_result"
    }
   ],
   "source": [
    "# Visualize summary table\n",
    "df = pd.json_normalize(all_results).loc[\n",
    "    :,[\"_source.description.title\", \"_source.description.publication_date\", \"_source.file-info.#-pages\"]]\n",
    "df.columns = [\"Title\", \"Publication Date\", \"Number of Pages\"]\n",
    "df[\"Publication Year\"] = df[\"Publication Date\"].str[:4]\n",
    "\n",
    "df.loc[:,[\"Title\", \"Publication Year\", \"Number of Pages\"]].head(10).style.set_properties(\n",
    "    subset=[\"Title\"], **{\"text-align\": \"left\"}).set_table_styles([dict(selector=\"th\", props=[(\"text-align\", \"left\")])])"
   ]
  },
  {
   "cell_type": "markdown",
   "metadata": {},
   "source": [
    "### Get snippets from matched documents\n",
    "\n",
    "If we are doing an exploratory analysis, we may not want to fetch the entire report for each of the matches. We could be interested in identifying the context in the document that created the match. For this purpose, we can request Deep Search to return highlighted snippets.\n",
    "Let's narrow down the scope and look for any text in IPCC reports addressing the topic of carbon sequestration to mitigate climate change."
   ]
  },
  {
   "cell_type": "code",
   "execution_count": 8,
   "metadata": {},
   "outputs": [
    {
     "name": "stdout",
     "output_type": "stream",
     "text": [
      "Finished fetching all data. Total is 45 records.\n"
     ]
    }
   ],
   "source": [
    "# Prepare the data query\n",
    "search_query = \"\\\"climate change carbon sequestration\\\"~10\"\n",
    "\n",
    "highlight = {\"fields\": {\"*\": {}}}\n",
    "\n",
    "query = DataQuery(\n",
    "    search_query,\n",
    "    source=[\"file-info.filename\"], # Fetch only the report file name\n",
    "    limit=page_size, # Fetch maximum `page_size` reports\n",
    "    highlight=highlight,\n",
    "    coordinates=data_collection\n",
    ")\n",
    "\n",
    "all_results = []\n",
    "result = api.queries.run(query)\n",
    "all_results = result.outputs[\"data_outputs\"]\n",
    "\n",
    "print(f\"Finished fetching all data. Total is {len(all_results)} records.\")"
   ]
  },
  {
   "cell_type": "code",
   "execution_count": 9,
   "metadata": {},
   "outputs": [
    {
     "data": {
      "text/html": [
       "<style type=\"text/css\">\n",
       "#T_d9518 th {\n",
       "  text-align: left;\n",
       "}\n",
       "#T_d9518_row0_col0, #T_d9518_row0_col1, #T_d9518_row0_col2, #T_d9518_row1_col0, #T_d9518_row1_col1, #T_d9518_row1_col2, #T_d9518_row2_col0, #T_d9518_row2_col1, #T_d9518_row2_col2, #T_d9518_row3_col0, #T_d9518_row3_col1, #T_d9518_row3_col2, #T_d9518_row4_col0, #T_d9518_row4_col1, #T_d9518_row4_col2, #T_d9518_row5_col0, #T_d9518_row5_col1, #T_d9518_row5_col2, #T_d9518_row6_col0, #T_d9518_row6_col1, #T_d9518_row6_col2, #T_d9518_row7_col0, #T_d9518_row7_col1, #T_d9518_row7_col2, #T_d9518_row8_col0, #T_d9518_row8_col1, #T_d9518_row8_col2, #T_d9518_row9_col0, #T_d9518_row9_col1, #T_d9518_row9_col2 {\n",
       "  text-align: left;\n",
       "}\n",
       "</style>\n",
       "<table id=\"T_d9518\">\n",
       "  <thead>\n",
       "    <tr>\n",
       "      <th class=\"blank level0\" >&nbsp;</th>\n",
       "      <th id=\"T_d9518_level0_col0\" class=\"col_heading level0 col0\" >Report</th>\n",
       "      <th id=\"T_d9518_level0_col1\" class=\"col_heading level0 col1\" >Field</th>\n",
       "      <th id=\"T_d9518_level0_col2\" class=\"col_heading level0 col2\" >Snippet</th>\n",
       "    </tr>\n",
       "  </thead>\n",
       "  <tbody>\n",
       "    <tr>\n",
       "      <th id=\"T_d9518_level0_row0\" class=\"row_heading level0 row0\" >0</th>\n",
       "      <td id=\"T_d9518_row0_col0\" class=\"data row0 col0\" >WGIIAR5-Chap24_OLSM.pdf</td>\n",
       "      <td id=\"T_d9518_row0_col1\" class=\"data row0 col1\" >main-text.text</td>\n",
       "      <td id=\"T_d9518_row0_col2\" class=\"data row0 col2\" >He, 2006: <em>Climate</em> <em>change</em> impacts on agriculture and soil <em>carbon</em> <em>sequestration</em> potential in the Huang-Hai</td>\n",
       "    </tr>\n",
       "    <tr>\n",
       "      <th id=\"T_d9518_level0_row1\" class=\"row_heading level0 row1\" >1</th>\n",
       "      <td id=\"T_d9518_row1_col0\" class=\"data row1 col0\" >IPCC_AR6_WGII_Chapter14.pdf</td>\n",
       "      <td id=\"T_d9518_row1_col1\" class=\"data row1 col1\" >main-text.text</td>\n",
       "      <td id=\"T_d9518_row1_col2\" class=\"data row1 col2\" >., 2017: Agroforestry: a sustainable environmental practice for <em>carbon</em> <em>sequestration</em> under the <em>climate</em></td>\n",
       "    </tr>\n",
       "    <tr>\n",
       "      <th id=\"T_d9518_level0_row2\" class=\"row_heading level0 row2\" >2</th>\n",
       "      <td id=\"T_d9518_row2_col0\" class=\"data row2 col0\" >IPCC_AR6_WGII_Chapter14.pdf</td>\n",
       "      <td id=\"T_d9518_row2_col1\" class=\"data row2 col1\" >main-text.text</td>\n",
       "      <td id=\"T_d9518_row2_col2\" class=\"data row2 col2\" ><em>change</em> scenarios-a review.</td>\n",
       "    </tr>\n",
       "    <tr>\n",
       "      <th id=\"T_d9518_level0_row3\" class=\"row_heading level0 row3\" >3</th>\n",
       "      <td id=\"T_d9518_row3_col0\" class=\"data row3 col0\" >The-Regional-Impact.pdf</td>\n",
       "      <td id=\"T_d9518_row3_col1\" class=\"data row3 col1\" >main-text.text</td>\n",
       "      <td id=\"T_d9518_row3_col2\" class=\"data row3 col2\" >A ccording to Batjes and Sombroek (1997), however, the effect of <em>climate</em> <em>change</em> on <em>carbon</em> <em>sequestration</em></td>\n",
       "    </tr>\n",
       "    <tr>\n",
       "      <th id=\"T_d9518_level0_row4\" class=\"row_heading level0 row4\" >4</th>\n",
       "      <td id=\"T_d9518_row4_col0\" class=\"data row4 col0\" >Chapter-2-Bioenergy-1.pdf</td>\n",
       "      <td id=\"T_d9518_row4_col1\" class=\"data row4 col1\" >main-text.text</td>\n",
       "      <td id=\"T_d9518_row4_col2\" class=\"data row4 col2\" >Temporary <em>carbon</em> <em>sequestration</em> cannot prevent <em>climate</em> <em>change</em>.</td>\n",
       "    </tr>\n",
       "    <tr>\n",
       "      <th id=\"T_d9518_level0_row5\" class=\"row_heading level0 row5\" >5</th>\n",
       "      <td id=\"T_d9518_row5_col0\" class=\"data row5 col0\" >Chapter-2-Bioenergy-1.pdf</td>\n",
       "      <td id=\"T_d9518_row5_col1\" class=\"data row5 col1\" >main-text.text</td>\n",
       "      <td id=\"T_d9518_row5_col2\" class=\"data row5 col2\" >Soil <em>carbon</em> <em>sequestration</em> impacts on global <em>climate</em> <em>change</em> and food security.</td>\n",
       "    </tr>\n",
       "    <tr>\n",
       "      <th id=\"T_d9518_level0_row6\" class=\"row_heading level0 row6\" >6</th>\n",
       "      <td id=\"T_d9518_row6_col0\" class=\"data row6 col0\" >Chapter-2-Bioenergy-1.pdf</td>\n",
       "      <td id=\"T_d9518_row6_col1\" class=\"data row6 col1\" >main-text.text</td>\n",
       "      <td id=\"T_d9518_row6_col2\" class=\"data row6 col2\" >Quantifying the effectiveness of <em>climate</em> <em>change</em> mitigation through forest plantations and <em>carbon</em> <em>sequestration</em></td>\n",
       "    </tr>\n",
       "    <tr>\n",
       "      <th id=\"T_d9518_level0_row7\" class=\"row_heading level0 row7\" >7</th>\n",
       "      <td id=\"T_d9518_row7_col0\" class=\"data row7 col0\" >IPCC_AR6_WGII_CCP2.pdf</td>\n",
       "      <td id=\"T_d9518_row7_col1\" class=\"data row7 col1\" >main-text.text</td>\n",
       "      <td id=\"T_d9518_row7_col2\" class=\"data row7 col2\" >., 2020b), <em>climate</em> <em>change</em> mitigation (through <em>carbon</em> <em>sequestration</em>; Macreadie et al., 2017; Rovai et</td>\n",
       "    </tr>\n",
       "    <tr>\n",
       "      <th id=\"T_d9518_level0_row8\" class=\"row_heading level0 row8\" >8</th>\n",
       "      <td id=\"T_d9518_row8_col0\" class=\"data row8 col0\" >IPCC_AR6_WGII_CCP2.pdf</td>\n",
       "      <td id=\"T_d9518_row8_col1\" class=\"data row8 col1\" >main-text.text</td>\n",
       "      <td id=\"T_d9518_row8_col2\" class=\"data row8 col2\" >., 2020: <em>Carbon</em> <em>sequestration</em> and storage in Norwegian Arctic coastal wetlands: impacts of <em>climate</em> <em>change</em></td>\n",
       "    </tr>\n",
       "    <tr>\n",
       "      <th id=\"T_d9518_level0_row9\" class=\"row_heading level0 row9\" >9</th>\n",
       "      <td id=\"T_d9518_row9_col0\" class=\"data row9 col0\" >IPCC_AR6_WGIII_Chapter_06.pdf</td>\n",
       "      <td id=\"T_d9518_row9_col1\" class=\"data row9 col1\" >tables.data.text</td>\n",
       "      <td id=\"T_d9518_row9_col2\" class=\"data row9 col2\" >Lee, 2016: Optimal bioenergy power generation for <em>climate</em> <em>change</em>  mitigation  with  or  without  <em>carbon</em></td>\n",
       "    </tr>\n",
       "  </tbody>\n",
       "</table>\n"
      ],
      "text/plain": [
       "<pandas.io.formats.style.Styler at 0x133264b50>"
      ]
     },
     "execution_count": 9,
     "metadata": {},
     "output_type": "execute_result"
    }
   ],
   "source": [
    "# Format and visualize the first 10 snippets\n",
    "def format_highlight_results(ds_results):\n",
    "    results_table = []\n",
    "    \n",
    "    for row in all_results:\n",
    "        for field in row.get(\"highlight\", {}).keys():\n",
    "            for snippet in row[\"highlight\"][field]:\n",
    "                result = {\n",
    "                    \"Report\": row[\"_source\"][\"file-info\"][\"filename\"],\n",
    "                    \"Field\": field,\n",
    "                    \"Snippet\": snippet\n",
    "                }\n",
    "                results_table.append(result)\n",
    "                \n",
    "    return pd.DataFrame(results_table)\n",
    "\n",
    "df = format_highlight_results(all_results)\n",
    "df_style = df.head(10).style.set_table_styles([dict(selector=\"th\", props=[(\"text-align\", \"left\")])])\n",
    "df_style.set_properties(**{\"text-align\": \"left\"})"
   ]
  },
  {
   "cell_type": "markdown",
   "metadata": {},
   "source": [
    "### Configure the highlightning options\n",
    "\n",
    "By passing options to the `DataQuery` object, we can configure the highlighted snippets for different analytics scenarios and to improve the presentations of results. You can find more details in [Elasticsearch Highlightning]( https://www.elastic.co/guide/en/elasticsearch/reference/7.11/highlighting.html) documentation."
   ]
  },
  {
   "cell_type": "markdown",
   "metadata": {},
   "source": [
    "#### Set the highlighted fields and fragments\n",
    "\n",
    "We can fetch snippets from given fields only, like paragraphs. You need to specifify the full path of the text field."
   ]
  },
  {
   "cell_type": "code",
   "execution_count": 10,
   "metadata": {},
   "outputs": [
    {
     "data": {
      "text/html": [
       "<style type=\"text/css\">\n",
       "#T_1a0af th {\n",
       "  text-align: left;\n",
       "}\n",
       "#T_1a0af_row0_col0, #T_1a0af_row0_col1, #T_1a0af_row0_col2, #T_1a0af_row1_col0, #T_1a0af_row1_col1, #T_1a0af_row1_col2, #T_1a0af_row2_col0, #T_1a0af_row2_col1, #T_1a0af_row2_col2, #T_1a0af_row3_col0, #T_1a0af_row3_col1, #T_1a0af_row3_col2, #T_1a0af_row4_col0, #T_1a0af_row4_col1, #T_1a0af_row4_col2, #T_1a0af_row5_col0, #T_1a0af_row5_col1, #T_1a0af_row5_col2, #T_1a0af_row6_col0, #T_1a0af_row6_col1, #T_1a0af_row6_col2, #T_1a0af_row7_col0, #T_1a0af_row7_col1, #T_1a0af_row7_col2, #T_1a0af_row8_col0, #T_1a0af_row8_col1, #T_1a0af_row8_col2, #T_1a0af_row9_col0, #T_1a0af_row9_col1, #T_1a0af_row9_col2 {\n",
       "  text-align: left;\n",
       "}\n",
       "</style>\n",
       "<table id=\"T_1a0af\">\n",
       "  <thead>\n",
       "    <tr>\n",
       "      <th class=\"blank level0\" >&nbsp;</th>\n",
       "      <th id=\"T_1a0af_level0_col0\" class=\"col_heading level0 col0\" >Report</th>\n",
       "      <th id=\"T_1a0af_level0_col1\" class=\"col_heading level0 col1\" >Field</th>\n",
       "      <th id=\"T_1a0af_level0_col2\" class=\"col_heading level0 col2\" >Snippet</th>\n",
       "    </tr>\n",
       "  </thead>\n",
       "  <tbody>\n",
       "    <tr>\n",
       "      <th id=\"T_1a0af_level0_row0\" class=\"row_heading level0 row0\" >0</th>\n",
       "      <td id=\"T_1a0af_row0_col0\" class=\"data row0 col0\" >WGIIAR5-Chap24_OLSM.pdf</td>\n",
       "      <td id=\"T_1a0af_row0_col1\" class=\"data row0 col1\" >main-text.text</td>\n",
       "      <td id=\"T_1a0af_row0_col2\" class=\"data row0 col2\" >He, 2006: <em>Climate</em> <em>change</em> impacts on agriculture and soil <em>carbon</em> <em>sequestration</em> potential in the Huang-Hai</td>\n",
       "    </tr>\n",
       "    <tr>\n",
       "      <th id=\"T_1a0af_level0_row1\" class=\"row_heading level0 row1\" >1</th>\n",
       "      <td id=\"T_1a0af_row1_col0\" class=\"data row1 col0\" >IPCC_AR6_WGII_Chapter14.pdf</td>\n",
       "      <td id=\"T_1a0af_row1_col1\" class=\"data row1 col1\" >main-text.text</td>\n",
       "      <td id=\"T_1a0af_row1_col2\" class=\"data row1 col2\" >., 2017: Agroforestry: a sustainable environmental practice for <em>carbon</em> <em>sequestration</em> under the <em>climate</em></td>\n",
       "    </tr>\n",
       "    <tr>\n",
       "      <th id=\"T_1a0af_level0_row2\" class=\"row_heading level0 row2\" >2</th>\n",
       "      <td id=\"T_1a0af_row2_col0\" class=\"data row2 col0\" >IPCC_AR6_WGII_Chapter14.pdf</td>\n",
       "      <td id=\"T_1a0af_row2_col1\" class=\"data row2 col1\" >main-text.text</td>\n",
       "      <td id=\"T_1a0af_row2_col2\" class=\"data row2 col2\" ><em>change</em> scenarios-a review.</td>\n",
       "    </tr>\n",
       "    <tr>\n",
       "      <th id=\"T_1a0af_level0_row3\" class=\"row_heading level0 row3\" >3</th>\n",
       "      <td id=\"T_1a0af_row3_col0\" class=\"data row3 col0\" >The-Regional-Impact.pdf</td>\n",
       "      <td id=\"T_1a0af_row3_col1\" class=\"data row3 col1\" >main-text.text</td>\n",
       "      <td id=\"T_1a0af_row3_col2\" class=\"data row3 col2\" >A ccording to Batjes and Sombroek (1997), however, the effect of <em>climate</em> <em>change</em> on <em>carbon</em> <em>sequestration</em></td>\n",
       "    </tr>\n",
       "    <tr>\n",
       "      <th id=\"T_1a0af_level0_row4\" class=\"row_heading level0 row4\" >4</th>\n",
       "      <td id=\"T_1a0af_row4_col0\" class=\"data row4 col0\" >Chapter-2-Bioenergy-1.pdf</td>\n",
       "      <td id=\"T_1a0af_row4_col1\" class=\"data row4 col1\" >main-text.text</td>\n",
       "      <td id=\"T_1a0af_row4_col2\" class=\"data row4 col2\" >Temporary <em>carbon</em> <em>sequestration</em> cannot prevent <em>climate</em> <em>change</em>.</td>\n",
       "    </tr>\n",
       "    <tr>\n",
       "      <th id=\"T_1a0af_level0_row5\" class=\"row_heading level0 row5\" >5</th>\n",
       "      <td id=\"T_1a0af_row5_col0\" class=\"data row5 col0\" >Chapter-2-Bioenergy-1.pdf</td>\n",
       "      <td id=\"T_1a0af_row5_col1\" class=\"data row5 col1\" >main-text.text</td>\n",
       "      <td id=\"T_1a0af_row5_col2\" class=\"data row5 col2\" >Soil <em>carbon</em> <em>sequestration</em> impacts on global <em>climate</em> <em>change</em> and food security.</td>\n",
       "    </tr>\n",
       "    <tr>\n",
       "      <th id=\"T_1a0af_level0_row6\" class=\"row_heading level0 row6\" >6</th>\n",
       "      <td id=\"T_1a0af_row6_col0\" class=\"data row6 col0\" >Chapter-2-Bioenergy-1.pdf</td>\n",
       "      <td id=\"T_1a0af_row6_col1\" class=\"data row6 col1\" >main-text.text</td>\n",
       "      <td id=\"T_1a0af_row6_col2\" class=\"data row6 col2\" >Quantifying the effectiveness of <em>climate</em> <em>change</em> mitigation through forest plantations and <em>carbon</em> <em>sequestration</em></td>\n",
       "    </tr>\n",
       "    <tr>\n",
       "      <th id=\"T_1a0af_level0_row7\" class=\"row_heading level0 row7\" >7</th>\n",
       "      <td id=\"T_1a0af_row7_col0\" class=\"data row7 col0\" >IPCC_AR6_WGII_CCP2.pdf</td>\n",
       "      <td id=\"T_1a0af_row7_col1\" class=\"data row7 col1\" >main-text.text</td>\n",
       "      <td id=\"T_1a0af_row7_col2\" class=\"data row7 col2\" >., 2020b), <em>climate</em> <em>change</em> mitigation (through <em>carbon</em> <em>sequestration</em>; Macreadie et al., 2017; Rovai et</td>\n",
       "    </tr>\n",
       "    <tr>\n",
       "      <th id=\"T_1a0af_level0_row8\" class=\"row_heading level0 row8\" >8</th>\n",
       "      <td id=\"T_1a0af_row8_col0\" class=\"data row8 col0\" >IPCC_AR6_WGII_CCP2.pdf</td>\n",
       "      <td id=\"T_1a0af_row8_col1\" class=\"data row8 col1\" >main-text.text</td>\n",
       "      <td id=\"T_1a0af_row8_col2\" class=\"data row8 col2\" >., 2020: <em>Carbon</em> <em>sequestration</em> and storage in Norwegian Arctic coastal wetlands: impacts of <em>climate</em> <em>change</em></td>\n",
       "    </tr>\n",
       "    <tr>\n",
       "      <th id=\"T_1a0af_level0_row9\" class=\"row_heading level0 row9\" >9</th>\n",
       "      <td id=\"T_1a0af_row9_col0\" class=\"data row9 col0\" >WGIIAR5-Chap6_FINAL.pdf</td>\n",
       "      <td id=\"T_1a0af_row9_col1\" class=\"data row9 col1\" >main-text.text</td>\n",
       "      <td id=\"T_1a0af_row9_col2\" class=\"data row9 col2\" >Figure 6-4 | A schematic representation of the ocean's biological pump, which will be influenced by <em>climate</em></td>\n",
       "    </tr>\n",
       "  </tbody>\n",
       "</table>\n"
      ],
      "text/plain": [
       "<pandas.io.formats.style.Styler at 0x134647cd0>"
      ]
     },
     "execution_count": 10,
     "metadata": {},
     "output_type": "execute_result"
    }
   ],
   "source": [
    "highlight[\"fields\"] = {\"main-text.text\": {}}\n",
    "query = DataQuery(\n",
    "    search_query, source=[\"file-info.filename\"], limit=page_size, highlight=highlight, coordinates=data_collection)\n",
    "\n",
    "all_results = api.queries.run(query).outputs[\"data_outputs\"]\n",
    "format_highlight_results(all_results).head(10).style.use(df_style.export())"
   ]
  },
  {
   "cell_type": "markdown",
   "metadata": {},
   "source": [
    "#### Increase the fragment size\n",
    "\n",
    "The default highlightning algorithm is the Lucene Unified Highlighter. It will split sentences bigger than the default fragment size (100 characters). You can increase the fragment size or set it to 0 to never split any sentence."
   ]
  },
  {
   "cell_type": "code",
   "execution_count": 11,
   "metadata": {},
   "outputs": [
    {
     "data": {
      "text/html": [
       "<style type=\"text/css\">\n",
       "#T_0120c th {\n",
       "  text-align: left;\n",
       "}\n",
       "#T_0120c_row0_col0, #T_0120c_row0_col1, #T_0120c_row0_col2, #T_0120c_row1_col0, #T_0120c_row1_col1, #T_0120c_row1_col2, #T_0120c_row2_col0, #T_0120c_row2_col1, #T_0120c_row2_col2, #T_0120c_row3_col0, #T_0120c_row3_col1, #T_0120c_row3_col2, #T_0120c_row4_col0, #T_0120c_row4_col1, #T_0120c_row4_col2, #T_0120c_row5_col0, #T_0120c_row5_col1, #T_0120c_row5_col2, #T_0120c_row6_col0, #T_0120c_row6_col1, #T_0120c_row6_col2, #T_0120c_row7_col0, #T_0120c_row7_col1, #T_0120c_row7_col2, #T_0120c_row8_col0, #T_0120c_row8_col1, #T_0120c_row8_col2, #T_0120c_row9_col0, #T_0120c_row9_col1, #T_0120c_row9_col2 {\n",
       "  text-align: left;\n",
       "}\n",
       "</style>\n",
       "<table id=\"T_0120c\">\n",
       "  <thead>\n",
       "    <tr>\n",
       "      <th class=\"blank level0\" >&nbsp;</th>\n",
       "      <th id=\"T_0120c_level0_col0\" class=\"col_heading level0 col0\" >Report</th>\n",
       "      <th id=\"T_0120c_level0_col1\" class=\"col_heading level0 col1\" >Field</th>\n",
       "      <th id=\"T_0120c_level0_col2\" class=\"col_heading level0 col2\" >Snippet</th>\n",
       "    </tr>\n",
       "  </thead>\n",
       "  <tbody>\n",
       "    <tr>\n",
       "      <th id=\"T_0120c_level0_row0\" class=\"row_heading level0 row0\" >0</th>\n",
       "      <td id=\"T_0120c_row0_col0\" class=\"data row0 col0\" >WGIIAR5-Chap24_OLSM.pdf</td>\n",
       "      <td id=\"T_0120c_row0_col1\" class=\"data row0 col1\" >main-text.text</td>\n",
       "      <td id=\"T_0120c_row0_col2\" class=\"data row0 col2\" >He, 2006: <em>Climate</em> <em>change</em> impacts on agriculture and soil <em>carbon</em> <em>sequestration</em> potential in the Huang-Hai Plain of China.</td>\n",
       "    </tr>\n",
       "    <tr>\n",
       "      <th id=\"T_0120c_level0_row1\" class=\"row_heading level0 row1\" >1</th>\n",
       "      <td id=\"T_0120c_row1_col0\" class=\"data row1 col0\" >IPCC_AR6_WGII_Chapter14.pdf</td>\n",
       "      <td id=\"T_0120c_row1_col1\" class=\"data row1 col1\" >main-text.text</td>\n",
       "      <td id=\"T_0120c_row1_col2\" class=\"data row1 col2\" >., 2017: Agroforestry: a sustainable environmental practice for <em>carbon</em> <em>sequestration</em> under the <em>climate</em> <em>change</em> scenarios-a review.</td>\n",
       "    </tr>\n",
       "    <tr>\n",
       "      <th id=\"T_0120c_level0_row2\" class=\"row_heading level0 row2\" >2</th>\n",
       "      <td id=\"T_0120c_row2_col0\" class=\"data row2 col0\" >The-Regional-Impact.pdf</td>\n",
       "      <td id=\"T_0120c_row2_col1\" class=\"data row2 col1\" >main-text.text</td>\n",
       "      <td id=\"T_0120c_row2_col2\" class=\"data row2 col2\" >A ccording to Batjes and Sombroek (1997), however, the effect of <em>climate</em> <em>change</em> on <em>carbon</em> <em>sequestration</em> in tropical soils can be very complex; it depends on air tem ­ perature, CO2 concentration, seasonal rainfall distribution, nitrogen deposition, and fires.</td>\n",
       "    </tr>\n",
       "    <tr>\n",
       "      <th id=\"T_0120c_level0_row3\" class=\"row_heading level0 row3\" >3</th>\n",
       "      <td id=\"T_0120c_row3_col0\" class=\"data row3 col0\" >Chapter-2-Bioenergy-1.pdf</td>\n",
       "      <td id=\"T_0120c_row3_col1\" class=\"data row3 col1\" >main-text.text</td>\n",
       "      <td id=\"T_0120c_row3_col2\" class=\"data row3 col2\" >Temporary <em>carbon</em> <em>sequestration</em> cannot prevent <em>climate</em> <em>change</em>.</td>\n",
       "    </tr>\n",
       "    <tr>\n",
       "      <th id=\"T_0120c_level0_row4\" class=\"row_heading level0 row4\" >4</th>\n",
       "      <td id=\"T_0120c_row4_col0\" class=\"data row4 col0\" >Chapter-2-Bioenergy-1.pdf</td>\n",
       "      <td id=\"T_0120c_row4_col1\" class=\"data row4 col1\" >main-text.text</td>\n",
       "      <td id=\"T_0120c_row4_col2\" class=\"data row4 col2\" >Soil <em>carbon</em> <em>sequestration</em> impacts on global <em>climate</em> <em>change</em> and food security.</td>\n",
       "    </tr>\n",
       "    <tr>\n",
       "      <th id=\"T_0120c_level0_row5\" class=\"row_heading level0 row5\" >5</th>\n",
       "      <td id=\"T_0120c_row5_col0\" class=\"data row5 col0\" >Chapter-2-Bioenergy-1.pdf</td>\n",
       "      <td id=\"T_0120c_row5_col1\" class=\"data row5 col1\" >main-text.text</td>\n",
       "      <td id=\"T_0120c_row5_col2\" class=\"data row5 col2\" >Quantifying the effectiveness of <em>climate</em> <em>change</em> mitigation through forest plantations and <em>carbon</em> <em>sequestration</em> with an integrated land-use model.</td>\n",
       "    </tr>\n",
       "    <tr>\n",
       "      <th id=\"T_0120c_level0_row6\" class=\"row_heading level0 row6\" >6</th>\n",
       "      <td id=\"T_0120c_row6_col0\" class=\"data row6 col0\" >IPCC_AR6_WGII_CCP2.pdf</td>\n",
       "      <td id=\"T_0120c_row6_col1\" class=\"data row6 col1\" >main-text.text</td>\n",
       "      <td id=\"T_0120c_row6_col2\" class=\"data row6 col2\" >., 2020b), <em>climate</em> <em>change</em> mitigation (through <em>carbon</em> <em>sequestration</em>; Macreadie et al., 2017; Rovai et al., 2018; Ward, 2020), water quality regulation (nutrient, pollutant and sediment retention and cycling; Wilson et al., 2018; Zhao et al., 2018) and recreation and tourism (Pueyo-Ros et al., 2018).</td>\n",
       "    </tr>\n",
       "    <tr>\n",
       "      <th id=\"T_0120c_level0_row7\" class=\"row_heading level0 row7\" >7</th>\n",
       "      <td id=\"T_0120c_row7_col0\" class=\"data row7 col0\" >IPCC_AR6_WGII_CCP2.pdf</td>\n",
       "      <td id=\"T_0120c_row7_col1\" class=\"data row7 col1\" >main-text.text</td>\n",
       "      <td id=\"T_0120c_row7_col2\" class=\"data row7 col2\" >., 2020: <em>Carbon</em> <em>sequestration</em> and storage in Norwegian Arctic coastal wetlands: impacts of <em>climate</em> <em>change</em>.</td>\n",
       "    </tr>\n",
       "    <tr>\n",
       "      <th id=\"T_0120c_level0_row8\" class=\"row_heading level0 row8\" >8</th>\n",
       "      <td id=\"T_0120c_row8_col0\" class=\"data row8 col0\" >WGIIAR5-Chap6_FINAL.pdf</td>\n",
       "      <td id=\"T_0120c_row8_col1\" class=\"data row8 col1\" >main-text.text</td>\n",
       "      <td id=\"T_0120c_row8_col2\" class=\"data row8 col2\" >Figure 6-4 | A schematic representation of the ocean's biological pump, which will be influenced by <em>climate</em> <em>change</em> and is a conduit for <em>carbon</em> <em>sequestration</em>.</td>\n",
       "    </tr>\n",
       "    <tr>\n",
       "      <th id=\"T_0120c_level0_row9\" class=\"row_heading level0 row9\" >9</th>\n",
       "      <td id=\"T_0120c_row9_col0\" class=\"data row9 col0\" >WGIIAR5-Chap24_FINAL.pdf</td>\n",
       "      <td id=\"T_0120c_row9_col1\" class=\"data row9 col1\" >main-text.text</td>\n",
       "      <td id=\"T_0120c_row9_col2\" class=\"data row9 col2\" >He, 2006: <em>Climate</em> <em>change</em> impacts on agriculture and soil <em>carbon</em> <em>sequestration</em> potential in the Huang-Hai Plain of China.</td>\n",
       "    </tr>\n",
       "  </tbody>\n",
       "</table>\n"
      ],
      "text/plain": [
       "<pandas.io.formats.style.Styler at 0x133264d00>"
      ]
     },
     "execution_count": 11,
     "metadata": {},
     "output_type": "execute_result"
    }
   ],
   "source": [
    "highlight[\"fragment_size\"] = 0\n",
    "\n",
    "query = DataQuery(\n",
    "    search_query, source=[\"file-info.filename\"], limit=page_size, highlight=highlight, coordinates=data_collection)\n",
    "\n",
    "all_results = api.queries.run(query).outputs[\"data_outputs\"]\n",
    "format_highlight_results(all_results).head(10).style.use(df_style.export())"
   ]
  },
  {
   "cell_type": "markdown",
   "metadata": {},
   "source": [
    "#### Configure the highlighting tags\n",
    "\n",
    "By default, highlighted text is wrapped with the `<em>` and `</em>` tags. You can configure other styles using `pre_tags` in combination witn `post_tags`."
   ]
  },
  {
   "cell_type": "code",
   "execution_count": 12,
   "metadata": {},
   "outputs": [
    {
     "data": {
      "text/html": [
       "<style type=\"text/css\">\n",
       "#T_3cb56 th {\n",
       "  text-align: left;\n",
       "}\n",
       "#T_3cb56_row0_col0, #T_3cb56_row0_col1, #T_3cb56_row0_col2, #T_3cb56_row1_col0, #T_3cb56_row1_col1, #T_3cb56_row1_col2, #T_3cb56_row2_col0, #T_3cb56_row2_col1, #T_3cb56_row2_col2, #T_3cb56_row3_col0, #T_3cb56_row3_col1, #T_3cb56_row3_col2, #T_3cb56_row4_col0, #T_3cb56_row4_col1, #T_3cb56_row4_col2, #T_3cb56_row5_col0, #T_3cb56_row5_col1, #T_3cb56_row5_col2, #T_3cb56_row6_col0, #T_3cb56_row6_col1, #T_3cb56_row6_col2, #T_3cb56_row7_col0, #T_3cb56_row7_col1, #T_3cb56_row7_col2, #T_3cb56_row8_col0, #T_3cb56_row8_col1, #T_3cb56_row8_col2, #T_3cb56_row9_col0, #T_3cb56_row9_col1, #T_3cb56_row9_col2 {\n",
       "  text-align: left;\n",
       "}\n",
       "</style>\n",
       "<table id=\"T_3cb56\">\n",
       "  <thead>\n",
       "    <tr>\n",
       "      <th class=\"blank level0\" >&nbsp;</th>\n",
       "      <th id=\"T_3cb56_level0_col0\" class=\"col_heading level0 col0\" >Report</th>\n",
       "      <th id=\"T_3cb56_level0_col1\" class=\"col_heading level0 col1\" >Field</th>\n",
       "      <th id=\"T_3cb56_level0_col2\" class=\"col_heading level0 col2\" >Snippet</th>\n",
       "    </tr>\n",
       "  </thead>\n",
       "  <tbody>\n",
       "    <tr>\n",
       "      <th id=\"T_3cb56_level0_row0\" class=\"row_heading level0 row0\" >0</th>\n",
       "      <td id=\"T_3cb56_row0_col0\" class=\"data row0 col0\" >WGIIAR5-Chap24_OLSM.pdf</td>\n",
       "      <td id=\"T_3cb56_row0_col1\" class=\"data row0 col1\" >main-text.text</td>\n",
       "      <td id=\"T_3cb56_row0_col2\" class=\"data row0 col2\" >He, 2006: <span style='font-weight: bold; background-color: #FFFF00'>Climate</span> <span style='font-weight: bold; background-color: #FFFF00'>change</span> impacts on agriculture and soil <span style='font-weight: bold; background-color: #FFFF00'>carbon</span> <span style='font-weight: bold; background-color: #FFFF00'>sequestration</span> potential in the Huang-Hai Plain of China.</td>\n",
       "    </tr>\n",
       "    <tr>\n",
       "      <th id=\"T_3cb56_level0_row1\" class=\"row_heading level0 row1\" >1</th>\n",
       "      <td id=\"T_3cb56_row1_col0\" class=\"data row1 col0\" >IPCC_AR6_WGII_Chapter14.pdf</td>\n",
       "      <td id=\"T_3cb56_row1_col1\" class=\"data row1 col1\" >main-text.text</td>\n",
       "      <td id=\"T_3cb56_row1_col2\" class=\"data row1 col2\" >., 2017: Agroforestry: a sustainable environmental practice for <span style='font-weight: bold; background-color: #FFFF00'>carbon</span> <span style='font-weight: bold; background-color: #FFFF00'>sequestration</span> under the <span style='font-weight: bold; background-color: #FFFF00'>climate</span> <span style='font-weight: bold; background-color: #FFFF00'>change</span> scenarios-a review.</td>\n",
       "    </tr>\n",
       "    <tr>\n",
       "      <th id=\"T_3cb56_level0_row2\" class=\"row_heading level0 row2\" >2</th>\n",
       "      <td id=\"T_3cb56_row2_col0\" class=\"data row2 col0\" >The-Regional-Impact.pdf</td>\n",
       "      <td id=\"T_3cb56_row2_col1\" class=\"data row2 col1\" >main-text.text</td>\n",
       "      <td id=\"T_3cb56_row2_col2\" class=\"data row2 col2\" >A ccording to Batjes and Sombroek (1997), however, the effect of <span style='font-weight: bold; background-color: #FFFF00'>climate</span> <span style='font-weight: bold; background-color: #FFFF00'>change</span> on <span style='font-weight: bold; background-color: #FFFF00'>carbon</span> <span style='font-weight: bold; background-color: #FFFF00'>sequestration</span> in tropical soils can be very complex; it depends on air tem ­ perature, CO2 concentration, seasonal rainfall distribution, nitrogen deposition, and fires.</td>\n",
       "    </tr>\n",
       "    <tr>\n",
       "      <th id=\"T_3cb56_level0_row3\" class=\"row_heading level0 row3\" >3</th>\n",
       "      <td id=\"T_3cb56_row3_col0\" class=\"data row3 col0\" >Chapter-2-Bioenergy-1.pdf</td>\n",
       "      <td id=\"T_3cb56_row3_col1\" class=\"data row3 col1\" >main-text.text</td>\n",
       "      <td id=\"T_3cb56_row3_col2\" class=\"data row3 col2\" >Temporary <span style='font-weight: bold; background-color: #FFFF00'>carbon</span> <span style='font-weight: bold; background-color: #FFFF00'>sequestration</span> cannot prevent <span style='font-weight: bold; background-color: #FFFF00'>climate</span> <span style='font-weight: bold; background-color: #FFFF00'>change</span>.</td>\n",
       "    </tr>\n",
       "    <tr>\n",
       "      <th id=\"T_3cb56_level0_row4\" class=\"row_heading level0 row4\" >4</th>\n",
       "      <td id=\"T_3cb56_row4_col0\" class=\"data row4 col0\" >Chapter-2-Bioenergy-1.pdf</td>\n",
       "      <td id=\"T_3cb56_row4_col1\" class=\"data row4 col1\" >main-text.text</td>\n",
       "      <td id=\"T_3cb56_row4_col2\" class=\"data row4 col2\" >Soil <span style='font-weight: bold; background-color: #FFFF00'>carbon</span> <span style='font-weight: bold; background-color: #FFFF00'>sequestration</span> impacts on global <span style='font-weight: bold; background-color: #FFFF00'>climate</span> <span style='font-weight: bold; background-color: #FFFF00'>change</span> and food security.</td>\n",
       "    </tr>\n",
       "    <tr>\n",
       "      <th id=\"T_3cb56_level0_row5\" class=\"row_heading level0 row5\" >5</th>\n",
       "      <td id=\"T_3cb56_row5_col0\" class=\"data row5 col0\" >Chapter-2-Bioenergy-1.pdf</td>\n",
       "      <td id=\"T_3cb56_row5_col1\" class=\"data row5 col1\" >main-text.text</td>\n",
       "      <td id=\"T_3cb56_row5_col2\" class=\"data row5 col2\" >Quantifying the effectiveness of <span style='font-weight: bold; background-color: #FFFF00'>climate</span> <span style='font-weight: bold; background-color: #FFFF00'>change</span> mitigation through forest plantations and <span style='font-weight: bold; background-color: #FFFF00'>carbon</span> <span style='font-weight: bold; background-color: #FFFF00'>sequestration</span> with an integrated land-use model.</td>\n",
       "    </tr>\n",
       "    <tr>\n",
       "      <th id=\"T_3cb56_level0_row6\" class=\"row_heading level0 row6\" >6</th>\n",
       "      <td id=\"T_3cb56_row6_col0\" class=\"data row6 col0\" >IPCC_AR6_WGII_CCP2.pdf</td>\n",
       "      <td id=\"T_3cb56_row6_col1\" class=\"data row6 col1\" >main-text.text</td>\n",
       "      <td id=\"T_3cb56_row6_col2\" class=\"data row6 col2\" >., 2020b), <span style='font-weight: bold; background-color: #FFFF00'>climate</span> <span style='font-weight: bold; background-color: #FFFF00'>change</span> mitigation (through <span style='font-weight: bold; background-color: #FFFF00'>carbon</span> <span style='font-weight: bold; background-color: #FFFF00'>sequestration</span>; Macreadie et al., 2017; Rovai et al., 2018; Ward, 2020), water quality regulation (nutrient, pollutant and sediment retention and cycling; Wilson et al., 2018; Zhao et al., 2018) and recreation and tourism (Pueyo-Ros et al., 2018).</td>\n",
       "    </tr>\n",
       "    <tr>\n",
       "      <th id=\"T_3cb56_level0_row7\" class=\"row_heading level0 row7\" >7</th>\n",
       "      <td id=\"T_3cb56_row7_col0\" class=\"data row7 col0\" >IPCC_AR6_WGII_CCP2.pdf</td>\n",
       "      <td id=\"T_3cb56_row7_col1\" class=\"data row7 col1\" >main-text.text</td>\n",
       "      <td id=\"T_3cb56_row7_col2\" class=\"data row7 col2\" >., 2020: <span style='font-weight: bold; background-color: #FFFF00'>Carbon</span> <span style='font-weight: bold; background-color: #FFFF00'>sequestration</span> and storage in Norwegian Arctic coastal wetlands: impacts of <span style='font-weight: bold; background-color: #FFFF00'>climate</span> <span style='font-weight: bold; background-color: #FFFF00'>change</span>.</td>\n",
       "    </tr>\n",
       "    <tr>\n",
       "      <th id=\"T_3cb56_level0_row8\" class=\"row_heading level0 row8\" >8</th>\n",
       "      <td id=\"T_3cb56_row8_col0\" class=\"data row8 col0\" >WGIIAR5-Chap6_FINAL.pdf</td>\n",
       "      <td id=\"T_3cb56_row8_col1\" class=\"data row8 col1\" >main-text.text</td>\n",
       "      <td id=\"T_3cb56_row8_col2\" class=\"data row8 col2\" >Figure 6-4 | A schematic representation of the ocean's biological pump, which will be influenced by <span style='font-weight: bold; background-color: #FFFF00'>climate</span> <span style='font-weight: bold; background-color: #FFFF00'>change</span> and is a conduit for <span style='font-weight: bold; background-color: #FFFF00'>carbon</span> <span style='font-weight: bold; background-color: #FFFF00'>sequestration</span>.</td>\n",
       "    </tr>\n",
       "    <tr>\n",
       "      <th id=\"T_3cb56_level0_row9\" class=\"row_heading level0 row9\" >9</th>\n",
       "      <td id=\"T_3cb56_row9_col0\" class=\"data row9 col0\" >WGIIAR5-Chap24_FINAL.pdf</td>\n",
       "      <td id=\"T_3cb56_row9_col1\" class=\"data row9 col1\" >main-text.text</td>\n",
       "      <td id=\"T_3cb56_row9_col2\" class=\"data row9 col2\" >He, 2006: <span style='font-weight: bold; background-color: #FFFF00'>Climate</span> <span style='font-weight: bold; background-color: #FFFF00'>change</span> impacts on agriculture and soil <span style='font-weight: bold; background-color: #FFFF00'>carbon</span> <span style='font-weight: bold; background-color: #FFFF00'>sequestration</span> potential in the Huang-Hai Plain of China.</td>\n",
       "    </tr>\n",
       "  </tbody>\n",
       "</table>\n"
      ],
      "text/plain": [
       "<pandas.io.formats.style.Styler at 0x134647af0>"
      ]
     },
     "execution_count": 12,
     "metadata": {},
     "output_type": "execute_result"
    }
   ],
   "source": [
    "highlight[\"pre_tags\"] = [\"<span style='font-weight: bold; background-color: #FFFF00'>\"]\n",
    "highlight[\"post_tags\"] = [\"</span>\"]\n",
    "\n",
    "query = DataQuery(\n",
    "    search_query, source=[\"file-info.filename\"], limit=page_size, highlight=highlight, coordinates=data_collection)\n",
    "\n",
    "all_results = api.queries.run(query).outputs[\"data_outputs\"]\n",
    "format_highlight_results(all_results).head(10).style.use(df_style.export())"
   ]
  },
  {
   "cell_type": "markdown",
   "metadata": {},
   "source": [
    "#### Set the order and the number of fragments to retrieve\n",
    "\n",
    "The default number of fragments to return is 5 per document. You can configure this number with the option `number_of_fragments`. If set to 0, the entire field content is highlighted and returned, which may be useful in metdata fields when fragments are not needed.\n",
    "\n",
    "In the next example, we search for documents addressing _climate change_ _mitigation_ in _cities_. We set a global fragment size of 150 characters and we request up to 7 snippets from paragraphs. Additionally, we accept highlightning on the title without fragmentation.\n",
    "\n",
    "Since there may be many matches, we order the snippets by matched field (according to the order set in `fields`) and then by relevance, instead of showing them by order of appearance in the text (with `\"order\": \"score\"`). Note that the documents also need to be sorted by relevance, since Deep Search returns them sorted by their unique identifier by default (field `file-info.document-hash`)."
   ]
  },
  {
   "cell_type": "code",
   "execution_count": 13,
   "metadata": {},
   "outputs": [
    {
     "data": {
      "text/html": [
       "<style type=\"text/css\">\n",
       "#T_a1ed7 th {\n",
       "  text-align: left;\n",
       "}\n",
       "#T_a1ed7_row0_col0, #T_a1ed7_row0_col1, #T_a1ed7_row0_col2, #T_a1ed7_row1_col0, #T_a1ed7_row1_col1, #T_a1ed7_row1_col2, #T_a1ed7_row2_col0, #T_a1ed7_row2_col1, #T_a1ed7_row2_col2, #T_a1ed7_row3_col0, #T_a1ed7_row3_col1, #T_a1ed7_row3_col2, #T_a1ed7_row4_col0, #T_a1ed7_row4_col1, #T_a1ed7_row4_col2, #T_a1ed7_row5_col0, #T_a1ed7_row5_col1, #T_a1ed7_row5_col2, #T_a1ed7_row6_col0, #T_a1ed7_row6_col1, #T_a1ed7_row6_col2, #T_a1ed7_row7_col0, #T_a1ed7_row7_col1, #T_a1ed7_row7_col2, #T_a1ed7_row8_col0, #T_a1ed7_row8_col1, #T_a1ed7_row8_col2, #T_a1ed7_row9_col0, #T_a1ed7_row9_col1, #T_a1ed7_row9_col2 {\n",
       "  text-align: left;\n",
       "}\n",
       "</style>\n",
       "<table id=\"T_a1ed7\">\n",
       "  <thead>\n",
       "    <tr>\n",
       "      <th class=\"blank level0\" >&nbsp;</th>\n",
       "      <th id=\"T_a1ed7_level0_col0\" class=\"col_heading level0 col0\" >Report</th>\n",
       "      <th id=\"T_a1ed7_level0_col1\" class=\"col_heading level0 col1\" >Field</th>\n",
       "      <th id=\"T_a1ed7_level0_col2\" class=\"col_heading level0 col2\" >Snippet</th>\n",
       "    </tr>\n",
       "  </thead>\n",
       "  <tbody>\n",
       "    <tr>\n",
       "      <th id=\"T_a1ed7_level0_row0\" class=\"row_heading level0 row0\" >0</th>\n",
       "      <td id=\"T_a1ed7_row0_col0\" class=\"data row0 col0\" >ipcc_sar_wg_III_full_report.pdf</td>\n",
       "      <td id=\"T_a1ed7_row0_col1\" class=\"data row0 col1\" >description.title</td>\n",
       "      <td id=\"T_a1ed7_row0_col2\" class=\"data row0 col2\" >SAR <em>Climate</em> <em>Change</em> 1995: Economic and Social Dimensions of <em>Climate</em> <em>Change</em> (ipcc_sar_wg_III_full_report)</td>\n",
       "    </tr>\n",
       "    <tr>\n",
       "      <th id=\"T_a1ed7_level0_row1\" class=\"row_heading level0 row1\" >1</th>\n",
       "      <td id=\"T_a1ed7_row1_col0\" class=\"data row1 col0\" >ipcc_sar_wg_III_full_report.pdf</td>\n",
       "      <td id=\"T_a1ed7_row1_col1\" class=\"data row1 col1\" >main-text.text</td>\n",
       "      <td id=\"T_a1ed7_row1_col2\" class=\"data row1 col2\" >EPA (1989) has exam› ined the impact of <em>climate</em> <em>change</em> on <em>urban</em> infrastructure costs.</td>\n",
       "    </tr>\n",
       "    <tr>\n",
       "      <th id=\"T_a1ed7_level0_row2\" class=\"row_heading level0 row2\" >2</th>\n",
       "      <td id=\"T_a1ed7_row2_col0\" class=\"data row2 col0\" >ipcc_sar_wg_III_full_report.pdf</td>\n",
       "      <td id=\"T_a1ed7_row2_col1\" class=\"data row2 col1\" >main-text.text</td>\n",
       "      <td id=\"T_a1ed7_row2_col2\" class=\"data row2 col2\" ><em>change</em>, social costs of <em>climate</em> <em>change</em>, response op› tions, conceptual issues related to estimating <em>mitigation</em> costs, review of <em>mitigation</em> cost studies</td>\n",
       "    </tr>\n",
       "    <tr>\n",
       "      <th id=\"T_a1ed7_level0_row3\" class=\"row_heading level0 row3\" >3</th>\n",
       "      <td id=\"T_a1ed7_row3_col0\" class=\"data row3 col0\" >ipcc_sar_wg_III_full_report.pdf</td>\n",
       "      <td id=\"T_a1ed7_row3_col1\" class=\"data row3 col1\" >main-text.text</td>\n",
       "      <td id=\"T_a1ed7_row3_col2\" class=\"data row3 col2\" ><em>change</em> <em>mitigation</em>.</td>\n",
       "    </tr>\n",
       "    <tr>\n",
       "      <th id=\"T_a1ed7_level0_row4\" class=\"row_heading level0 row4\" >4</th>\n",
       "      <td id=\"T_a1ed7_row4_col0\" class=\"data row4 col0\" >ipcc_sar_wg_III_full_report.pdf</td>\n",
       "      <td id=\"T_a1ed7_row4_col1\" class=\"data row4 col1\" >main-text.text</td>\n",
       "      <td id=\"T_a1ed7_row4_col2\" class=\"data row4 col2\" >Pines, eds.. pp. 9-31, Addison-Wesley, Redwood <em>City</em>.</td>\n",
       "    </tr>\n",
       "    <tr>\n",
       "      <th id=\"T_a1ed7_level0_row5\" class=\"row_heading level0 row5\" >5</th>\n",
       "      <td id=\"T_a1ed7_row5_col0\" class=\"data row5 col0\" >ipcc_sar_wg_III_full_report.pdf</td>\n",
       "      <td id=\"T_a1ed7_row5_col1\" class=\"data row5 col1\" >main-text.text</td>\n",
       "      <td id=\"T_a1ed7_row5_col2\" class=\"data row5 col2\" >In Integrative assessment of <em>mitigation</em> impacts and adaptation to <em>climate</em> <em>change</em>.</td>\n",
       "    </tr>\n",
       "    <tr>\n",
       "      <th id=\"T_a1ed7_level0_row6\" class=\"row_heading level0 row6\" >6</th>\n",
       "      <td id=\"T_a1ed7_row6_col0\" class=\"data row6 col0\" >ipcc_sar_wg_III_full_report.pdf</td>\n",
       "      <td id=\"T_a1ed7_row6_col1\" class=\"data row6 col1\" >main-text.text</td>\n",
       "      <td id=\"T_a1ed7_row6_col2\" class=\"data row6 col2\" >Titus, J.G.. 1992: The cost of <em>climate</em> <em>change</em> to the United States. In Global <em>climate</em> <em>change</em>: Implications challenges and <em>mitigation</em> measures. S.K.</td>\n",
       "    </tr>\n",
       "    <tr>\n",
       "      <th id=\"T_a1ed7_level0_row7\" class=\"row_heading level0 row7\" >7</th>\n",
       "      <td id=\"T_a1ed7_row7_col0\" class=\"data row7 col0\" >ipcc_sar_wg_III_full_report.pdf</td>\n",
       "      <td id=\"T_a1ed7_row7_col1\" class=\"data row7 col1\" >main-text.text</td>\n",
       "      <td id=\"T_a1ed7_row7_col2\" class=\"data row7 col2\" ><em>change</em> <em>mitigation</em> and adaptation;</td>\n",
       "    </tr>\n",
       "    <tr>\n",
       "      <th id=\"T_a1ed7_level0_row8\" class=\"row_heading level0 row8\" >8</th>\n",
       "      <td id=\"T_a1ed7_row8_col0\" class=\"data row8 col0\" >p44_decisions.pdf</td>\n",
       "      <td id=\"T_a1ed7_row8_col1\" class=\"data row8 col1\" >main-text.text</td>\n",
       "      <td id=\"T_a1ed7_row8_col2\" class=\"data row8 col2\" >In: <em>Climate</em> <em>Change</em> 2014: <em>Mitigation</em> of <em>Climate</em> <em>Change</em>.</td>\n",
       "    </tr>\n",
       "    <tr>\n",
       "      <th id=\"T_a1ed7_level0_row9\" class=\"row_heading level0 row9\" >9</th>\n",
       "      <td id=\"T_a1ed7_row9_col0\" class=\"data row9 col0\" >p44_decisions.pdf</td>\n",
       "      <td id=\"T_a1ed7_row9_col1\" class=\"data row9 col1\" >main-text.text</td>\n",
       "      <td id=\"T_a1ed7_row9_col2\" class=\"data row9 col2\" >arrangements, across regions and <em>urban</em> contexts to address <em>urban</em> <em>climate</em> <em>change</em> <em>mitigation</em> and adaptation would be useful.</td>\n",
       "    </tr>\n",
       "  </tbody>\n",
       "</table>\n"
      ],
      "text/plain": [
       "<pandas.io.formats.style.Styler at 0x1332640d0>"
      ]
     },
     "execution_count": 13,
     "metadata": {},
     "output_type": "execute_result"
    }
   ],
   "source": [
    "search_query = \"\\\"climate change\\\" AND mitigation AND (city cities urban)\"\n",
    "\n",
    "highlight = {\n",
    "    \"order\": \"score\",\n",
    "    \"fragment_size\": 150,\n",
    "    \"fields\": {\n",
    "        \"description.title\": {\"number_of_fragments\": 0},\n",
    "        \"main-text.text\": {\"number_of_fragments\": 7}\n",
    "    }\n",
    "}\n",
    "\n",
    "query = DataQuery(\n",
    "    search_query,\n",
    "    source=[\"file-info.filename\"],\n",
    "    sort=[{\"_score\": \"desc\", \"file-info.document-hash\": \"asc\"}],\n",
    "    limit=page_size, highlight=highlight, coordinates=data_collection)\n",
    "\n",
    "all_results = api.queries.run(query).outputs[\"data_outputs\"]\n",
    "format_highlight_results(all_results).head(10).style.use(df_style.export())"
   ]
  },
  {
   "cell_type": "markdown",
   "metadata": {},
   "source": [
    "---\n",
    "\n",
    "## Aggregate search results\n",
    "\n",
    "In this section, we show some examples to compute aggregations on a query result set without retrieving the content of all documents. For the following examples, we use the climate-related reports from the _IPCC_ public collections, like in section [Get highlighted snippets](#Get-highlighted-snippets). Refer to [Elasticsearch Aggregations](https://www.elastic.co/guide/en/elasticsearch/reference/7.11/search-aggregations.html) documentation for more details.\n",
    "\n",
    "- [Metric and bucket aggregations](#Metric-and-bucket-aggregations)\n",
    "- [Date histograms](#Date-histograms)\n",
    "- [Aggregations on arrays](#Aggregations-on-arrays)\n"
   ]
  },
  {
   "cell_type": "markdown",
   "metadata": {},
   "source": [
    "### Metric and bucket aggregations\n",
    "\n",
    "Aggregations let you retrieve summarized data from a collection, instead of fetching the documents and analyze them locally. In Deep Search they are supported through the field `aggregations` in the `DataQuery` object."
   ]
  },
  {
   "cell_type": "markdown",
   "metadata": {},
   "source": [
    "As an example of metric aggregation, we can count the number of distinct languages in the IPCC collection. This information is stored in the field `description.languages` in Deep Search.\n",
    "Since we are not interested in the contents of the reports, we can configure the query to retrieve no data, by settinng `source` to `False`."
   ]
  },
  {
   "cell_type": "code",
   "execution_count": 14,
   "metadata": {},
   "outputs": [
    {
     "name": "stdout",
     "output_type": "stream",
     "text": [
      "We found 26 distinct languages\n"
     ]
    }
   ],
   "source": [
    "aggs = {\n",
    "    \"language_count\": {\n",
    "        \"cardinality\": {\n",
    "            \"field\": \"description.languages\"\n",
    "        }\n",
    "    }\n",
    "}\n",
    "\n",
    "query = DataQuery(\n",
    "    search_query = \"*:*\", # Match-all query\n",
    "    source=[],  # No document data will be returned\n",
    "    limit=0,\n",
    "    aggregations=aggs,\n",
    "    coordinates=data_collection\n",
    ")\n",
    "\n",
    "summary = api.queries.run(query).outputs[\"data_aggs\"]\n",
    "\n",
    "print(f\"We found {summary['language_count']['value']} distinct languages\")"
   ]
  },
  {
   "cell_type": "markdown",
   "metadata": {},
   "source": [
    "To count the number of reports by language, we can leverage the `terms` bucket aggregation.\n",
    "By default, the aggregation query will return the top 10 terms, ordered by the number of documents. This can be changed using the parameters `size` and `order`.\n",
    "\n",
    "In this example, we set `size` bigger than the number of languages that we found in the previous query to ensure that we retrieve all the terms. The results will be returned by the term name (the language code). Since English is by far the most frequent language, we can exclude this term to focus on the others."
   ]
  },
  {
   "cell_type": "code",
   "execution_count": 15,
   "metadata": {},
   "outputs": [
    {
     "data": {
      "text/plain": [
       "<Axes: title={'center': 'Number of non-English reports by language'}, xlabel='Language', ylabel='Number of reports'>"
      ]
     },
     "execution_count": 15,
     "metadata": {},
     "output_type": "execute_result"
    },
    {
     "data": {
      "image/png": "[encoded data removed]",
      "text/plain": [
       "<Figure size 1500x500 with 1 Axes>"
      ]
     },
     "metadata": {},
     "output_type": "display_data"
    }
   ],
   "source": [
    "aggs = {\n",
    "    \"languages\": {\n",
    "        \"terms\": {\n",
    "            \"field\": \"description.languages\",\n",
    "            \"order\": {\"_key\": \"asc\"},\n",
    "            \"size\": 50,\n",
    "            \"exclude\": \"en\"\n",
    "        }\n",
    "    }\n",
    "}\n",
    "\n",
    "query = DataQuery(search_query = \"*:*\", source=[], limit=0, aggregations=aggs, coordinates=data_collection)\n",
    "summary = api.queries.run(query).outputs[\"data_aggs\"]\n",
    "\n",
    "df = pd.json_normalize(summary[\"languages\"][\"buckets\"])\n",
    "df.plot.bar(y=\"doc_count\", x=\"key\", figsize=(15, 5), xlabel=\"Language\", ylabel=\"Number of reports\", rot=0, legend=False, title=\"Number of non-English reports by language\")"
   ]
  },
  {
   "cell_type": "markdown",
   "metadata": {},
   "source": [
    "### Date histograms\n",
    "\n",
    "Bucket aggregations can also be used to build date histograms. In this example, we calculate an histogram of the report publication date, by year."
   ]
  },
  {
   "cell_type": "code",
   "execution_count": 16,
   "metadata": {},
   "outputs": [
    {
     "data": {
      "text/plain": [
       "<Axes: title={'center': 'Number of IPCC reports by year'}, xlabel='Publication year', ylabel='Number of reports'>"
      ]
     },
     "execution_count": 16,
     "metadata": {},
     "output_type": "execute_result"
    },
    {
     "data": {
      "image/png": "[encoded data removed]",
      "text/plain": [
       "<Figure size 1500x500 with 1 Axes>"
      ]
     },
     "metadata": {},
     "output_type": "display_data"
    }
   ],
   "source": [
    "aggs = {\n",
    "    \"by_year\": {\n",
    "        \"date_histogram\": {\n",
    "            \"field\": \"description.publication_date\",\n",
    "                \"calendar_interval\": \"year\",\n",
    "                \"format\": \"yyyy\",\n",
    "                \"min_doc_count\": 0\n",
    "        }\n",
    "    }\n",
    "}\n",
    "\n",
    "query = DataQuery(search_query = search_query, source=[], limit=0, aggregations=aggs, coordinates=data_collection)\n",
    "summary = api.queries.run(query).outputs[\"data_aggs\"]\n",
    "\n",
    "df = pd.json_normalize(summary[\"by_year\"][\"buckets\"])\n",
    "df.plot.bar(y=\"doc_count\", x=\"key_as_string\", figsize=(15, 5), xlabel=\"Publication year\", ylabel=\"Number of reports\", legend=False, title=\"Number of IPCC reports by year\")\n"
   ]
  },
  {
   "cell_type": "markdown",
   "metadata": {},
   "source": [
    "### Aggregations on arrays\n",
    "\n",
    "You can also use scripts within aggregations to access more complex metrics from reports.\n",
    "In this example, we count the number of tables that contain _net-zero emissions_ text in their cells."
   ]
  },
  {
   "cell_type": "code",
   "execution_count": 17,
   "metadata": {},
   "outputs": [
    {
     "name": "stdout",
     "output_type": "stream",
     "text": [
      "We found 2300 tables containing 'net-zero emissions'.\n"
     ]
    }
   ],
   "source": [
    "search_query = \"tables.data.text:\\\"net-zero emissions\\\"\"\n",
    "\n",
    "aggs = {\n",
    "    \"num_tables\": {\n",
    "        \"sum\": {\n",
    "            \"script\": {\n",
    "                \"source\": \"doc['tables.#-cols'].length\",\n",
    "                \"lang\": \"painless\"\n",
    "            }\n",
    "        }\n",
    "    } \n",
    "}\n",
    "\n",
    "query = DataQuery(search_query = search_query, source=[], limit=0, aggregations=aggs, coordinates=data_collection)\n",
    "summary = api.queries.run(query).outputs[\"data_aggs\"]\n",
    "\n",
    "print(f\"We found {int(summary['num_tables']['value'])} tables containing 'net-zero emissions'.\")"
   ]
  }
 ],
 "metadata": {
  "kernelspec": {
   "display_name": "Python 3 (ipykernel)",
   "language": "python",
   "name": "python3"
  },
  "language_info": {
   "codemirror_mode": {
    "name": "ipython",
    "version": 3
   },
   "file_extension": ".py",
   "mimetype": "text/x-python",
   "name": "python",
   "nbconvert_exporter": "python",
   "pygments_lexer": "ipython3",
   "version": "3.10.12"
  }
 },
 "nbformat": 4,
 "nbformat_minor": 1
}
