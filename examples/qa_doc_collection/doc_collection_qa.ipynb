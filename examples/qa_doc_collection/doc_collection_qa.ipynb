{
    "cells": [
        {
            "cell_type": "markdown",
            "id": "99f717ef-4cba-4300-b258-0b1c248cb873",
            "metadata": {},
            "source": [
                "# RAG and Semantic Retrieval on a Document Collection\n",
                "\n",
                "Deep Search allows users to interact with the documents using conversational AI, i.e. you interact with a virtual assistant which answer your questions using the information in the corpus.\n",
                "\n",
                "In this example we demonstrate how achive the same interaction programmatically.\n",
                "\n",
                "### Access required\n",
                "\n",
                "The content of this notebook requires access to Deep Search capabilities which are not\n",
                "available on the public access system.\n",
                "\n",
                "[Contact us](https://ds4sd.github.io) if you are interested in exploring\n",
                "these Deep Search capabilities.\n",
                "\n",
                "\n",
                "### GenAI Integration required\n",
                "\n",
                "When interacting with the virtual assistant, Deep Search requires a connection to a Generative AI API. Currently, we support connections to [watsonx.ai](https://www.ibm.com/products/watsonx-ai) or the IBM-internal GenAI platform BAM.\n",
                "\n",
                "Deep Search allows custom GenAI configurations for each project.\n",
                "In the following example you will require to work in a project which has such GenAI capabilities activated."
            ]
        },
        {
            "cell_type": "markdown",
            "id": "256aef50-71a1-4278-9b22-17cb99a6566e",
            "metadata": {},
            "source": [
                "### Set notebook parameters\n"
            ]
        },
        {
            "cell_type": "code",
            "execution_count": null,
            "id": "5b244bdd-1b52-41ff-b63e-9a203570d210",
            "metadata": {},
            "outputs": [],
            "source": [
                "from dsnotebooks.settings import CollQANotebookSettings\n",
                "\n",
                "# notebooks settings auto-loaded from .env / env vars\n",
                "notebook_settings = CollQANotebookSettings()\n",
                "\n",
                "PROFILE_NAME = notebook_settings.profile      # the profile to use\n",
                "PROJ_KEY = notebook_settings.proj_key         # the project to use\n",
                "INDEX_KEY = notebook_settings.sem_on_idx_key  # the collection to use\n",
                "\n",
                "RETR_K = notebook_settings.retr_k\n",
                "TEXT_WEIGHT = notebook_settings.text_weight\n",
                "RERANK = notebook_settings.rerank"
            ]
        },
        {
            "cell_type": "markdown",
            "id": "a5269060-bb5f-4fe3-9b64-547202db6714",
            "metadata": {},
            "source": [
                "### Import example dependencies"
            ]
        },
        {
            "cell_type": "code",
            "execution_count": null,
            "id": "5d236ea0-db1c-4171-8e11-cdd0bad69d66",
            "metadata": {},
            "outputs": [],
            "source": [
                "# Import standard dependenices\n",
                "import pandas as pd\n",
                "import rich\n",
                "\n",
                "# IPython utilities\n",
                "from IPython.display import display, Markdown\n",
                "\n",
                "# Import the deepsearch-toolkit\n",
                "from deepsearch.cps.client.api import CpsApi\n",
                "from deepsearch.cps.client.components.elastic import ElasticProjectDataCollectionSource\n",
                "from deepsearch.cps.queries import DataQuery, CorpusRAGQuery, CorpusSemanticQuery\n",
                "from deepsearch.cps.queries.results import RAGResult, SearchResult, SearchResultItem\n"
            ]
        },
        {
            "cell_type": "markdown",
            "id": "293c249b-6018-46f2-b4d8-795f994d4729",
            "metadata": {},
            "source": [
                "### Connect to Deep Search"
            ]
        },
        {
            "cell_type": "code",
            "execution_count": null,
            "id": "9c108432-a285-4c7b-a996-008ac3ff3d7a",
            "metadata": {},
            "outputs": [],
            "source": [
                "api = CpsApi.from_env(profile_name=PROFILE_NAME)"
            ]
        },
        {
            "cell_type": "markdown",
            "metadata": {},
            "source": [
                "### Utils"
            ]
        },
        {
            "cell_type": "code",
            "execution_count": null,
            "metadata": {},
            "outputs": [],
            "source": [
                "def render_provenance_url(\n",
                "        api: CpsApi,\n",
                "        coords: ElasticProjectDataCollectionSource,\n",
                "        retr_item: SearchResultItem,\n",
                "):\n",
                "    ## compute URL to the document in the Deep Search UI\n",
                "    item_index = int(retr_item.path_in_doc[retr_item.path_in_doc.rfind(\".\")+1:])\n",
                "    doc_url = api.documents.generate_url(\n",
                "        document_hash=retr_item.doc_hash,\n",
                "        data_source=coords,\n",
                "        item_index=item_index,\n",
                "    )\n",
                "    display(Markdown(f\"The provenance of the answer can be inspected on the [source document]({doc_url}).\"))"
            ]
        },
        {
            "cell_type": "markdown",
            "id": "38cde869-46d1-4833-8eb3-2381b5e5fb68",
            "metadata": {},
            "source": [
                "---"
            ]
        },
        {
            "cell_type": "markdown",
            "metadata": {},
            "source": [
                "Prepare the collection coordinates:"
            ]
        },
        {
            "cell_type": "code",
            "execution_count": null,
            "metadata": {},
            "outputs": [],
            "source": [
                "coll_coords = ElasticProjectDataCollectionSource(\n",
                "    proj_key=PROJ_KEY,\n",
                "    index_key=INDEX_KEY,\n",
                ")"
            ]
        },
        {
            "cell_type": "markdown",
            "metadata": {},
            "source": [
                "We are using a small collection, so we can just list its documents to get an idea of its contents (for more details on querying, check the [Data Query Quick Start](https://github.com/DS4SD/deepsearch-examples/tree/main/examples/data_query_quick_start))."
            ]
        },
        {
            "cell_type": "code",
            "execution_count": null,
            "id": "2b38875e-f39c-4dd5-9d42-3ffca5d0bdac",
            "metadata": {},
            "outputs": [],
            "source": [
                "# Prepare the data query\n",
                "query = DataQuery(\n",
                "    search_query=\"*\",  # The search query to be executed\n",
                "    source=[           # Which fields of documents we want to fetch\n",
                "            \"file-info.document-hash\",\n",
                "            \"file-info.filename\",\n",
                "            # \"description.title\",\n",
                "    ],\n",
                "    coordinates=coll_coords,  # The data collection to be queries\n",
                ")\n",
                "\n",
                "# Query Deep Search for the documents matching the query\n",
                "results = []\n",
                "query_results = api.queries.run(query)\n",
                "for row in query_results.outputs[\"data_outputs\"]:\n",
                "        # Add row to results table\n",
                "        results.append({\n",
                "            \"Filename\": row[\"_source\"][\"file-info\"][\"filename\"],\n",
                "            \"DocHash\": row[\"_source\"][\"file-info\"][\"document-hash\"],\n",
                "            # \"Title\": row[\"_source\"].get(\"description\", {}).get(\"title\"),\n",
                "        })\n",
                "\n",
                "print(f'Finished fetching all data. Total is {len(results)} records.')\n",
                "\n",
                "# Visualize the table with all results\n",
                "df = pd.json_normalize(results)\n",
                "display(df)"
            ]
        },
        {
            "cell_type": "markdown",
            "metadata": {},
            "source": [
                "## Ingestion"
            ]
        },
        {
            "cell_type": "markdown",
            "metadata": {},
            "source": [
                "In the cell below we show how to semantically index your collection (skip if collection already semantically indexed):"
            ]
        },
        {
            "cell_type": "code",
            "execution_count": null,
            "metadata": {},
            "outputs": [],
            "source": [
                "# from deepsearch.cps.client.components.documents import SemIngestPrivateDataCollectionSource\n",
                "\n",
                "# # launch the ingestion of the collection for DocumentQA\n",
                "# task = api.documents.semantic_ingest(\n",
                "#     project=PROJ_KEY,\n",
                "#     data_source=SemIngestPrivateDataCollectionSource(\n",
                "#         source=coll_coords,\n",
                "#     ),\n",
                "# )\n",
                "\n",
                "# # wait for the ingestion task to finish\n",
                "# api.tasks.wait_for(task.proj_key, task.task_id)"
            ]
        },
        {
            "cell_type": "markdown",
            "metadata": {},
            "source": [
                "## RAG"
            ]
        },
        {
            "cell_type": "code",
            "execution_count": null,
            "id": "ee573e76-98ea-43ce-a2ba-a81f64b3adf3",
            "metadata": {},
            "outputs": [],
            "source": [
                "question = \"Where is the IBM lab in Zurich?\"\n",
                "\n",
                "# submit natural-language query on collection\n",
                "question_query = CorpusRAGQuery(\n",
                "    question=question,\n",
                "    project=PROJ_KEY,\n",
                "    index_key=INDEX_KEY,\n",
                ")\n",
                "api_output = api.queries.run(question_query)\n",
                "rag_result = RAGResult.from_api_output(api_output)\n",
                "\n",
                "rich.print(rag_result)\n"
            ]
        },
        {
            "cell_type": "markdown",
            "metadata": {},
            "source": [
                "Additionally, we can generate a provenance URL to the document in the Deep Search UI:"
            ]
        },
        {
            "cell_type": "code",
            "execution_count": null,
            "metadata": {},
            "outputs": [],
            "source": [
                "render_provenance_url(api=api, coords=coll_coords, retr_item=rag_result.answers[0].grounding.items[0])"
            ]
        },
        {
            "cell_type": "markdown",
            "metadata": {},
            "source": [
                "Let us try out a different question on our document corpus.\n",
                "Here we also illustrate some further parameters the user can optionally set:\n",
                "- `retr_k`: number of items to retrieve\n",
                "- `text_weight`: weight of lexical search (`0.0`: fully semantic search, `1.0`: fully lexical search, anything in-between: hybrid search)\n",
                "- `rerank`: whether to rerank the retrieval results"
            ]
        },
        {
            "cell_type": "code",
            "execution_count": null,
            "id": "89d95a17-1569-4c90-a983-8ca437b7569d",
            "metadata": {},
            "outputs": [],
            "source": [
                "question = \"Who coined the term 'machine learning'?\"\n",
                "\n",
                "# submit natural-language query on collection\n",
                "question_query = CorpusRAGQuery(\n",
                "    question=question,\n",
                "    project=PROJ_KEY,\n",
                "    index_key=INDEX_KEY,\n",
                "\n",
                "    # optional params:\n",
                "    retr_k=RETR_K,\n",
                "    text_weight=TEXT_WEIGHT,\n",
                "    rerank=RERANK,\n",
                ")\n",
                "api_output = api.queries.run(question_query)\n",
                "rag_result = RAGResult.from_api_output(api_output)\n",
                "\n",
                "rich.print(rag_result)"
            ]
        },
        {
            "cell_type": "markdown",
            "metadata": {},
            "source": [
                "As seen by the returned `doc_hash`, this answer came from a different document than the previous one."
            ]
        },
        {
            "cell_type": "code",
            "execution_count": null,
            "metadata": {},
            "outputs": [],
            "source": [
                "render_provenance_url(api=api, coords=coll_coords, retr_item=rag_result.answers[0].grounding.items[0])"
            ]
        },
        {
            "cell_type": "markdown",
            "metadata": {},
            "source": [
                "## Semantic retrieval\n",
                "\n",
                "Besides RAG, which includes natural language generation, a user may only be interested in\n",
                "the semantic retrieval part.\n",
                "\n",
                "This can be obtained very similarly to RAG, as shown below:"
            ]
        },
        {
            "cell_type": "code",
            "execution_count": null,
            "metadata": {},
            "outputs": [],
            "source": [
                "question = \"Where is the IBM lab in Zurich?\"\n",
                "\n",
                "# submit natural-language query on collection\n",
                "question_query = CorpusSemanticQuery(\n",
                "    question=question,\n",
                "    project=PROJ_KEY,\n",
                "    index_key=INDEX_KEY,\n",
                "\n",
                "    # optional params:\n",
                "    retr_k=RETR_K,\n",
                "    # text_weight=TEXT_WEIGHT,\n",
                "    # rerank=RERANK,\n",
                ")\n",
                "api_output = api.queries.run(question_query)\n",
                "search_result = SearchResult.from_api_output(api_output)\n",
                "\n",
                "rich.print(search_result)"
            ]
        },
        {
            "cell_type": "code",
            "execution_count": null,
            "metadata": {},
            "outputs": [],
            "source": []
        }
    ],
    "metadata": {
        "kernelspec": {
            "display_name": "Python 3 (ipykernel)",
            "language": "python",
            "name": "python3"
        },
        "language_info": {
            "codemirror_mode": {
                "name": "ipython",
                "version": 3
            },
            "file_extension": ".py",
            "mimetype": "text/x-python",
            "name": "python",
            "nbconvert_exporter": "python",
            "pygments_lexer": "ipython3",
            "version": "3.10.4"
        }
    },
    "nbformat": 4,
    "nbformat_minor": 5
}
