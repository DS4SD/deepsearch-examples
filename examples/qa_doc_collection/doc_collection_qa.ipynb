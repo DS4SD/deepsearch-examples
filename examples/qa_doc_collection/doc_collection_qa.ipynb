{
    "cells": [
        {
            "cell_type": "markdown",
            "id": "99f717ef-4cba-4300-b258-0b1c248cb873",
            "metadata": {},
            "source": [
                "# RAG and Semantic Retrieval on a Document Collection\n",
                "\n",
                "Deep Search allows users to interact with the documents using conversational AI, i.e. you interact with a virtual assistant which answer your questions using the information in the corpus.\n",
                "\n",
                "In this example we demonstrate how achive the same interaction programmatically.\n",
                "\n",
                "### Access required\n",
                "\n",
                "The content of this notebook requires access to Deep Search capabilities which are not\n",
                "available on the public access system.\n",
                "\n",
                "[Contact us](https://ds4sd.github.io) if you are interested in exploring\n",
                "these Deep Search capabilities.\n",
                "\n",
                "\n",
                "### GenAI Integration required\n",
                "\n",
                "When interacting with the virtual assistant, Deep Search requires a connection to a Generative AI API. Currently, we support connections to [watsonx.ai](https://www.ibm.com/products/watsonx-ai) or the IBM-internal GenAI platform BAM.\n",
                "\n",
                "Deep Search allows custom GenAI configurations for each project.\n",
                "In the following example you will require to work in a project which has such GenAI capabilities activated."
            ]
        },
        {
            "cell_type": "markdown",
            "id": "256aef50-71a1-4278-9b22-17cb99a6566e",
            "metadata": {},
            "source": [
                "### Set notebook parameters\n"
            ]
        },
        {
            "cell_type": "code",
            "execution_count": 1,
            "id": "5b244bdd-1b52-41ff-b63e-9a203570d210",
            "metadata": {},
            "outputs": [],
            "source": [
                "from dsnotebooks.settings import CollQANotebookSettings\n",
                "\n",
                "# notebooks settings auto-loaded from .env / env vars\n",
                "notebook_settings = CollQANotebookSettings()\n",
                "\n",
                "PROFILE_NAME = notebook_settings.profile      # the profile to use\n",
                "PROJ_KEY = notebook_settings.proj_key         # the project to use\n",
                "INDEX_KEY = notebook_settings.sem_on_idx_key  # the collection to use"
            ]
        },
        {
            "cell_type": "markdown",
            "id": "a5269060-bb5f-4fe3-9b64-547202db6714",
            "metadata": {},
            "source": [
                "### Import example dependencies"
            ]
        },
        {
            "cell_type": "code",
            "execution_count": 2,
            "id": "5d236ea0-db1c-4171-8e11-cdd0bad69d66",
            "metadata": {},
            "outputs": [],
            "source": [
                "# Import standard dependenices\n",
                "import pandas as pd\n",
                "import rich\n",
                "\n",
                "# IPython utilities\n",
                "from IPython.display import display, Markdown\n",
                "\n",
                "# Import the deepsearch-toolkit\n",
                "from deepsearch.cps.client.api import CpsApi\n",
                "from deepsearch.cps.client.components.elastic import ElasticProjectDataCollectionSource\n",
                "from deepsearch.cps.queries import DataQuery, CorpusRAGQuery, CorpusSemanticQuery\n"
            ]
        },
        {
            "cell_type": "markdown",
            "id": "293c249b-6018-46f2-b4d8-795f994d4729",
            "metadata": {},
            "source": [
                "### Connect to Deep Search"
            ]
        },
        {
            "cell_type": "code",
            "execution_count": 3,
            "id": "9c108432-a285-4c7b-a996-008ac3ff3d7a",
            "metadata": {},
            "outputs": [],
            "source": [
                "api = CpsApi.from_env(profile_name=PROFILE_NAME)\n"
            ]
        },
        {
            "cell_type": "markdown",
            "metadata": {},
            "source": [
                "### Utils"
            ]
        },
        {
            "cell_type": "code",
            "execution_count": 4,
            "metadata": {},
            "outputs": [],
            "source": [
                "from deepsearch.cps.client.components.queries import RunQueryResult\n",
                "\n",
                "def render_provenance_url(\n",
                "        api: CpsApi,\n",
                "        coords: ElasticProjectDataCollectionSource,\n",
                "        qa_res: RunQueryResult,\n",
                "):\n",
                "    ## compute URL to the document in the Deep Search UI\n",
                "    doc_url = api.documents.generate_url(\n",
                "        document_hash=qa_res.outputs[\"provenance\"][0][\"doc_hash\"],\n",
                "        data_source=coords,\n",
                "        item_index=qa_res.outputs[\"provenance\"][0][\"pos_in_doc\"],\n",
                "    )\n",
                "    display(Markdown(f\"The provenance of the answer can be inspected on the [source document]({doc_url}).\"))\n"
            ]
        },
        {
            "cell_type": "markdown",
            "id": "38cde869-46d1-4833-8eb3-2381b5e5fb68",
            "metadata": {},
            "source": [
                "---"
            ]
        },
        {
            "cell_type": "markdown",
            "metadata": {},
            "source": [
                "Prepare the collection coordinates:"
            ]
        },
        {
            "cell_type": "code",
            "execution_count": 5,
            "metadata": {},
            "outputs": [],
            "source": [
                "coll_coords = ElasticProjectDataCollectionSource(\n",
                "    proj_key=PROJ_KEY,\n",
                "    index_key=INDEX_KEY,\n",
                ")"
            ]
        },
        {
            "cell_type": "markdown",
            "metadata": {},
            "source": [
                "We are using a small collection, so we can just list its documents to get an idea of its contents (for more details on querying, check the [Data Query Quick Start](https://github.com/DS4SD/deepsearch-examples/tree/main/examples/data_query_quick_start))."
            ]
        },
        {
            "cell_type": "code",
            "execution_count": 6,
            "id": "2b38875e-f39c-4dd5-9d42-3ffca5d0bdac",
            "metadata": {},
            "outputs": [
                {
                    "name": "stdout",
                    "output_type": "stream",
                    "text": [
                        "Finished fetching all data. Total is 10 records.\n"
                    ]
                },
                {
                    "data": {
                        "text/html": [
                            "<div>\n",
                            "<style scoped>\n",
                            "    .dataframe tbody tr th:only-of-type {\n",
                            "        vertical-align: middle;\n",
                            "    }\n",
                            "\n",
                            "    .dataframe tbody tr th {\n",
                            "        vertical-align: top;\n",
                            "    }\n",
                            "\n",
                            "    .dataframe thead th {\n",
                            "        text-align: right;\n",
                            "    }\n",
                            "</style>\n",
                            "<table border=\"1\" class=\"dataframe\">\n",
                            "  <thead>\n",
                            "    <tr style=\"text-align: right;\">\n",
                            "      <th></th>\n",
                            "      <th>Filename</th>\n",
                            "      <th>DocHash</th>\n",
                            "    </tr>\n",
                            "  </thead>\n",
                            "  <tbody>\n",
                            "    <tr>\n",
                            "      <th>0</th>\n",
                            "      <td>natural-language-processing.pdf</td>\n",
                            "      <td>000f892ddcc67f165797a96e94f44fb9e0697c7912a383...</td>\n",
                            "    </tr>\n",
                            "    <tr>\n",
                            "      <th>1</th>\n",
                            "      <td>ibm-z.pdf</td>\n",
                            "      <td>07e56eb5a10f725fccad9386d126b7b05bec1fa71b9b3d...</td>\n",
                            "    </tr>\n",
                            "    <tr>\n",
                            "      <th>2</th>\n",
                            "      <td>ibm.pdf</td>\n",
                            "      <td>234bc5cf2c860d49574b0ff7191c354b7bbc11472a0997...</td>\n",
                            "    </tr>\n",
                            "    <tr>\n",
                            "      <th>3</th>\n",
                            "      <td>ibm-the-great-mind-challenge.pdf</td>\n",
                            "      <td>335120a57b418655196e3315b562a2f9e89cedeaef9318...</td>\n",
                            "    </tr>\n",
                            "    <tr>\n",
                            "      <th>4</th>\n",
                            "      <td>turing-award.pdf</td>\n",
                            "      <td>8a7c91a269abc3063df9f4e19f7961ddb8e2393fa0f272...</td>\n",
                            "    </tr>\n",
                            "    <tr>\n",
                            "      <th>5</th>\n",
                            "      <td>ibm-research.pdf</td>\n",
                            "      <td>b30bc667a324ae111d025526563b674a8d3fd869bc07c8...</td>\n",
                            "    </tr>\n",
                            "    <tr>\n",
                            "      <th>6</th>\n",
                            "      <td>artificial-intelligence.pdf</td>\n",
                            "      <td>b60a87c1d62a59d517f2fd6f2d3ea1a96c58b651332a8b...</td>\n",
                            "    </tr>\n",
                            "    <tr>\n",
                            "      <th>7</th>\n",
                            "      <td>machine-learning.pdf</td>\n",
                            "      <td>e470e7b42a92c8e5f25094362361947b9203e0074c2223...</td>\n",
                            "    </tr>\n",
                            "    <tr>\n",
                            "      <th>8</th>\n",
                            "      <td>deep-blue-chess-computer.pdf</td>\n",
                            "      <td>fa7ce2f66a7a5e061813d36348425f81d9e7ebc23454d8...</td>\n",
                            "    </tr>\n",
                            "    <tr>\n",
                            "      <th>9</th>\n",
                            "      <td>red-hat.pdf</td>\n",
                            "      <td>fb53bb607f2e9642d7fe044585d1dcdb052c57febe1b87...</td>\n",
                            "    </tr>\n",
                            "  </tbody>\n",
                            "</table>\n",
                            "</div>"
                        ],
                        "text/plain": [
                            "                           Filename  \\\n",
                            "0   natural-language-processing.pdf   \n",
                            "1                         ibm-z.pdf   \n",
                            "2                           ibm.pdf   \n",
                            "3  ibm-the-great-mind-challenge.pdf   \n",
                            "4                  turing-award.pdf   \n",
                            "5                  ibm-research.pdf   \n",
                            "6       artificial-intelligence.pdf   \n",
                            "7              machine-learning.pdf   \n",
                            "8      deep-blue-chess-computer.pdf   \n",
                            "9                       red-hat.pdf   \n",
                            "\n",
                            "                                             DocHash  \n",
                            "0  000f892ddcc67f165797a96e94f44fb9e0697c7912a383...  \n",
                            "1  07e56eb5a10f725fccad9386d126b7b05bec1fa71b9b3d...  \n",
                            "2  234bc5cf2c860d49574b0ff7191c354b7bbc11472a0997...  \n",
                            "3  335120a57b418655196e3315b562a2f9e89cedeaef9318...  \n",
                            "4  8a7c91a269abc3063df9f4e19f7961ddb8e2393fa0f272...  \n",
                            "5  b30bc667a324ae111d025526563b674a8d3fd869bc07c8...  \n",
                            "6  b60a87c1d62a59d517f2fd6f2d3ea1a96c58b651332a8b...  \n",
                            "7  e470e7b42a92c8e5f25094362361947b9203e0074c2223...  \n",
                            "8  fa7ce2f66a7a5e061813d36348425f81d9e7ebc23454d8...  \n",
                            "9  fb53bb607f2e9642d7fe044585d1dcdb052c57febe1b87...  "
                        ]
                    },
                    "metadata": {},
                    "output_type": "display_data"
                }
            ],
            "source": [
                "# Prepare the data query\n",
                "query = DataQuery(\n",
                "    search_query=\"*\",  # The search query to be executed\n",
                "    source=[           # Which fields of documents we want to fetch\n",
                "            \"file-info.document-hash\",\n",
                "            \"file-info.filename\",\n",
                "            # \"description.title\",\n",
                "    ],\n",
                "    coordinates=coll_coords,  # The data collection to be queries\n",
                ")\n",
                "\n",
                "# Query Deep Search for the documents matching the query\n",
                "results = []\n",
                "query_results = api.queries.run(query)\n",
                "for row in query_results.outputs[\"data_outputs\"]:\n",
                "        # Add row to results table\n",
                "        results.append({\n",
                "            \"Filename\": row[\"_source\"][\"file-info\"][\"filename\"],\n",
                "            \"DocHash\": row[\"_source\"][\"file-info\"][\"document-hash\"],\n",
                "            # \"Title\": row[\"_source\"].get(\"description\", {}).get(\"title\"),\n",
                "        })\n",
                "\n",
                "print(f'Finished fetching all data. Total is {len(results)} records.')\n",
                "\n",
                "# Visualize the table with all results\n",
                "df = pd.json_normalize(results)\n",
                "display(df)"
            ]
        },
        {
            "cell_type": "markdown",
            "metadata": {},
            "source": [
                "## Ingestion"
            ]
        },
        {
            "cell_type": "markdown",
            "metadata": {},
            "source": [
                "In the cell below we show how to semantically index your collection (skip if collection already semantically indexed):"
            ]
        },
        {
            "cell_type": "code",
            "execution_count": 7,
            "metadata": {},
            "outputs": [
                {
                    "data": {
                        "text/plain": [
                            "{'ing_out': {}}"
                        ]
                    },
                    "execution_count": 7,
                    "metadata": {},
                    "output_type": "execute_result"
                }
            ],
            "source": [
                "from deepsearch.cps.client.components.documents import SemIngestPrivateDataCollectionSource\n",
                "\n",
                "# launch the ingestion of the collection for DocumentQA\n",
                "task = api.documents.semantic_ingest(\n",
                "    project=PROJ_KEY,\n",
                "    data_source=SemIngestPrivateDataCollectionSource(\n",
                "        source=coll_coords,\n",
                "    ),\n",
                ")\n",
                "\n",
                "# wait for the ingestion task to finish\n",
                "api.tasks.wait_for(task.proj_key, task.task_id)"
            ]
        },
        {
            "cell_type": "markdown",
            "metadata": {},
            "source": [
                "## RAG"
            ]
        },
        {
            "cell_type": "code",
            "execution_count": 8,
            "id": "ee573e76-98ea-43ce-a2ba-a81f64b3adf3",
            "metadata": {},
            "outputs": [
                {
                    "data": {
                        "text/html": [
                            "<pre style=\"white-space:pre;overflow-x:auto;line-height:normal;font-family:Menlo,'DejaVu Sans Mono',consolas,'Courier New',monospace\"><span style=\"color: #800080; text-decoration-color: #800080; font-weight: bold\">RunQueryResult</span><span style=\"font-weight: bold\">(</span>\n",
                            "    <span style=\"color: #808000; text-decoration-color: #808000\">outputs</span>=<span style=\"font-weight: bold\">{</span>\n",
                            "        <span style=\"color: #008000; text-decoration-color: #008000\">'answer'</span>: <span style=\"color: #008000; text-decoration-color: #008000\">'It is located in Rüschlikon, Zürich, Switzerland.'</span>,\n",
                            "        <span style=\"color: #008000; text-decoration-color: #008000\">'provenance'</span>: <span style=\"font-weight: bold\">[</span>\n",
                            "            <span style=\"font-weight: bold\">{</span>\n",
                            "                <span style=\"color: #008000; text-decoration-color: #008000\">'doc_hash'</span>: <span style=\"color: #008000; text-decoration-color: #008000\">'b30bc667a324ae111d025526563b674a8d3fd869bc07c8fd204aa95b05d41f0c'</span>,\n",
                            "                <span style=\"color: #008000; text-decoration-color: #008000\">'pos_in_doc'</span>: <span style=\"color: #008080; text-decoration-color: #008080; font-weight: bold\">70</span>,\n",
                            "                <span style=\"color: #008000; text-decoration-color: #008000\">'passage'</span>: <span style=\"color: #008000; text-decoration-color: #008000\">'IBM Research-Zurich (previously called IBM Zurich Research Laboratory, ZRL) is the </span>\n",
                            "<span style=\"color: #008000; text-decoration-color: #008000\">European branch of IBM Research. It was opened in 1956 and is located in Rüschlikon, near Zurich, Switzerland.'</span>,\n",
                            "                <span style=\"color: #008000; text-decoration-color: #008000\">'source_is_text'</span>: <span style=\"color: #00ff00; text-decoration-color: #00ff00; font-style: italic\">True</span>\n",
                            "            <span style=\"font-weight: bold\">}</span>\n",
                            "        <span style=\"font-weight: bold\">]</span>\n",
                            "    <span style=\"font-weight: bold\">}</span>,\n",
                            "    <span style=\"color: #808000; text-decoration-color: #808000\">next_pages</span>=<span style=\"font-weight: bold\">{}</span>,\n",
                            "    <span style=\"color: #808000; text-decoration-color: #808000\">timings</span>=<span style=\"color: #800080; text-decoration-color: #800080; font-weight: bold\">QueryTimings</span><span style=\"font-weight: bold\">(</span>\n",
                            "        <span style=\"color: #808000; text-decoration-color: #808000\">overall</span>=<span style=\"color: #008080; text-decoration-color: #008080; font-weight: bold\">0.5410456960089505</span>,\n",
                            "        <span style=\"color: #808000; text-decoration-color: #808000\">tasks</span>=<span style=\"font-weight: bold\">{</span><span style=\"color: #008000; text-decoration-color: #008000\">'QA'</span>: <span style=\"color: #800080; text-decoration-color: #800080; font-weight: bold\">TaskTimings</span><span style=\"font-weight: bold\">(</span><span style=\"color: #808000; text-decoration-color: #808000\">overall</span>=<span style=\"color: #008080; text-decoration-color: #008080; font-weight: bold\">0.5406028027646244</span>, <span style=\"color: #808000; text-decoration-color: #808000\">details</span>=<span style=\"font-weight: bold\">{})}</span>\n",
                            "    <span style=\"font-weight: bold\">)</span>\n",
                            "<span style=\"font-weight: bold\">)</span>\n",
                            "</pre>\n"
                        ],
                        "text/plain": [
                            "\u001b[1;35mRunQueryResult\u001b[0m\u001b[1m(\u001b[0m\n",
                            "    \u001b[33moutputs\u001b[0m=\u001b[1m{\u001b[0m\n",
                            "        \u001b[32m'answer'\u001b[0m: \u001b[32m'It is located in Rüschlikon, Zürich, Switzerland.'\u001b[0m,\n",
                            "        \u001b[32m'provenance'\u001b[0m: \u001b[1m[\u001b[0m\n",
                            "            \u001b[1m{\u001b[0m\n",
                            "                \u001b[32m'doc_hash'\u001b[0m: \u001b[32m'b30bc667a324ae111d025526563b674a8d3fd869bc07c8fd204aa95b05d41f0c'\u001b[0m,\n",
                            "                \u001b[32m'pos_in_doc'\u001b[0m: \u001b[1;36m70\u001b[0m,\n",
                            "                \u001b[32m'passage'\u001b[0m: \u001b[32m'IBM Research-Zurich \u001b[0m\u001b[32m(\u001b[0m\u001b[32mpreviously called IBM Zurich Research Laboratory, ZRL\u001b[0m\u001b[32m)\u001b[0m\u001b[32m is the \u001b[0m\n",
                            "\u001b[32mEuropean branch of IBM Research. It was opened in 1956 and is located in Rüschlikon, near Zurich, Switzerland.'\u001b[0m,\n",
                            "                \u001b[32m'source_is_text'\u001b[0m: \u001b[3;92mTrue\u001b[0m\n",
                            "            \u001b[1m}\u001b[0m\n",
                            "        \u001b[1m]\u001b[0m\n",
                            "    \u001b[1m}\u001b[0m,\n",
                            "    \u001b[33mnext_pages\u001b[0m=\u001b[1m{\u001b[0m\u001b[1m}\u001b[0m,\n",
                            "    \u001b[33mtimings\u001b[0m=\u001b[1;35mQueryTimings\u001b[0m\u001b[1m(\u001b[0m\n",
                            "        \u001b[33moverall\u001b[0m=\u001b[1;36m0\u001b[0m\u001b[1;36m.5410456960089505\u001b[0m,\n",
                            "        \u001b[33mtasks\u001b[0m=\u001b[1m{\u001b[0m\u001b[32m'QA'\u001b[0m: \u001b[1;35mTaskTimings\u001b[0m\u001b[1m(\u001b[0m\u001b[33moverall\u001b[0m=\u001b[1;36m0\u001b[0m\u001b[1;36m.5406028027646244\u001b[0m, \u001b[33mdetails\u001b[0m=\u001b[1m{\u001b[0m\u001b[1m}\u001b[0m\u001b[1m)\u001b[0m\u001b[1m}\u001b[0m\n",
                            "    \u001b[1m)\u001b[0m\n",
                            "\u001b[1m)\u001b[0m\n"
                        ]
                    },
                    "metadata": {},
                    "output_type": "display_data"
                }
            ],
            "source": [
                "question = \"Where is the IBM lab in Zurich?\"\n",
                "\n",
                "# submit natural-language query on collection\n",
                "question_query = CorpusRAGQuery(\n",
                "    question=question,\n",
                "    project=PROJ_KEY,\n",
                "    index_key=INDEX_KEY,\n",
                ")\n",
                "question_results = api.queries.run(question_query)\n",
                "\n",
                "rich.print(question_results)"
            ]
        },
        {
            "cell_type": "markdown",
            "metadata": {},
            "source": [
                "Additionally, we can generate a provenance URL to the document in the Deep Search UI:"
            ]
        },
        {
            "cell_type": "code",
            "execution_count": 9,
            "metadata": {},
            "outputs": [
                {
                    "data": {
                        "text/markdown": [
                            "The provenance of the answer can be inspected on the [source document](https://sds.app.accelerate.science/projects/b09ae7561a01dc7c4b0fd21a43bfd93d140766d1/library/private/6b70072911ad2794a3844dd44d1705a5ba37ca0b?search=JTdCJTIycHJpdmF0ZUNvbGxlY3Rpb24lMjIlM0ElMjI2YjcwMDcyOTExYWQyNzk0YTM4NDRkZDQ0ZDE3MDVhNWJhMzdjYTBiJTIyJTJDJTIydHlwZSUyMiUzQSUyMkRvY3VtZW50JTIyJTJDJTIyZXhwcmVzc2lvbiUyMiUzQSUyMmZpbGUtaW5mby5kb2N1bWVudC1oYXNoJTNBJTIwJTVDJTIyYjMwYmM2NjdhMzI0YWUxMTFkMDI1NTI2NTYzYjY3NGE4ZDNmZDg2OWJjMDdjOGZkMjA0YWE5NWIwNWQ0MWYwYyU1QyUyMiUyMiUyQyUyMmZpbHRlcnMlMjIlM0ElNUIlNUQlMkMlMjJzZWxlY3QlMjIlM0ElNUIlMjJfbmFtZSUyMiUyQyUyMmRlc2NyaXB0aW9uLmNvbGxlY3Rpb24lMjIlMkMlMjJwcm92JTIyJTJDJTIyZGVzY3JpcHRpb24udGl0bGUlMjIlMkMlMjJkZXNjcmlwdGlvbi5wdWJsaWNhdGlvbl9kYXRlJTIyJTJDJTIyZGVzY3JpcHRpb24udXJsX3JlZnMlMjIlNUQlMkMlMjJpdGVtSW5kZXglMjIlM0EwJTJDJTIycGFnZVNpemUlMjIlM0ExMCUyQyUyMnNlYXJjaEFmdGVySGlzdG9yeSUyMiUzQSU1QiU1RCUyQyUyMnZpZXdUeXBlJTIyJTNBJTIyc25pcHBldHMlMjIlMkMlMjJyZWNvcmRTZWxlY3Rpb24lMjIlM0ElN0IlMjJyZWNvcmQlMjIlM0ElN0IlMjJpZCUyMiUzQSUyMmIzMGJjNjY3YTMyNGFlMTExZDAyNTUyNjU2M2I2NzRhOGQzZmQ4NjliYzA3YzhmZDIwNGFhOTViMDVkNDFmMGMlMjIlN0QlMkMlMjJpdGVtSW5kZXglMjIlM0E3MCU3RCU3RA%3D%3D)."
                        ],
                        "text/plain": [
                            "<IPython.core.display.Markdown object>"
                        ]
                    },
                    "metadata": {},
                    "output_type": "display_data"
                }
            ],
            "source": [
                "render_provenance_url(api=api, coords=coll_coords, qa_res=question_results)\n"
            ]
        },
        {
            "cell_type": "markdown",
            "metadata": {},
            "source": [
                "Let us try out a different question on our document corpus:"
            ]
        },
        {
            "cell_type": "code",
            "execution_count": 10,
            "id": "89d95a17-1569-4c90-a983-8ca437b7569d",
            "metadata": {},
            "outputs": [
                {
                    "data": {
                        "text/html": [
                            "<pre style=\"white-space:pre;overflow-x:auto;line-height:normal;font-family:Menlo,'DejaVu Sans Mono',consolas,'Courier New',monospace\"><span style=\"color: #800080; text-decoration-color: #800080; font-weight: bold\">RunQueryResult</span><span style=\"font-weight: bold\">(</span>\n",
                            "    <span style=\"color: #808000; text-decoration-color: #808000\">outputs</span>=<span style=\"font-weight: bold\">{</span>\n",
                            "        <span style=\"color: #008000; text-decoration-color: #008000\">'answer'</span>: <span style=\"color: #008000; text-decoration-color: #008000\">'Arthur Samuel, an IBM employee.'</span>,\n",
                            "        <span style=\"color: #008000; text-decoration-color: #008000\">'provenance'</span>: <span style=\"font-weight: bold\">[</span>\n",
                            "            <span style=\"font-weight: bold\">{</span>\n",
                            "                <span style=\"color: #008000; text-decoration-color: #008000\">'doc_hash'</span>: <span style=\"color: #008000; text-decoration-color: #008000\">'e470e7b42a92c8e5f25094362361947b9203e0074c2223505b4921940ec075a1'</span>,\n",
                            "                <span style=\"color: #008000; text-decoration-color: #008000\">'pos_in_doc'</span>: <span style=\"color: #008080; text-decoration-color: #008080; font-weight: bold\">6</span>,\n",
                            "                <span style=\"color: #008000; text-decoration-color: #008000\">'passage'</span>: <span style=\"color: #008000; text-decoration-color: #008000\">'The term machine learning was coined in 1959 by Arthur Samuel, an IBM employee and </span>\n",
                            "<span style=\"color: #008000; text-decoration-color: #008000\">pioneer in the field of computer gaming and artificial intelligence. $^{[10][11]}$ The synonym self-teaching </span>\n",
                            "<span style=\"color: #008000; text-decoration-color: #008000\">computers was also used in this time period. [12][13]'</span>,\n",
                            "                <span style=\"color: #008000; text-decoration-color: #008000\">'source_is_text'</span>: <span style=\"color: #00ff00; text-decoration-color: #00ff00; font-style: italic\">True</span>\n",
                            "            <span style=\"font-weight: bold\">}</span>\n",
                            "        <span style=\"font-weight: bold\">]</span>\n",
                            "    <span style=\"font-weight: bold\">}</span>,\n",
                            "    <span style=\"color: #808000; text-decoration-color: #808000\">next_pages</span>=<span style=\"font-weight: bold\">{}</span>,\n",
                            "    <span style=\"color: #808000; text-decoration-color: #808000\">timings</span>=<span style=\"color: #800080; text-decoration-color: #800080; font-weight: bold\">QueryTimings</span><span style=\"font-weight: bold\">(</span>\n",
                            "        <span style=\"color: #808000; text-decoration-color: #808000\">overall</span>=<span style=\"color: #008080; text-decoration-color: #008080; font-weight: bold\">0.4130447516217828</span>,\n",
                            "        <span style=\"color: #808000; text-decoration-color: #808000\">tasks</span>=<span style=\"font-weight: bold\">{</span><span style=\"color: #008000; text-decoration-color: #008000\">'QA'</span>: <span style=\"color: #800080; text-decoration-color: #800080; font-weight: bold\">TaskTimings</span><span style=\"font-weight: bold\">(</span><span style=\"color: #808000; text-decoration-color: #808000\">overall</span>=<span style=\"color: #008080; text-decoration-color: #008080; font-weight: bold\">0.4126739138737321</span>, <span style=\"color: #808000; text-decoration-color: #808000\">details</span>=<span style=\"font-weight: bold\">{})}</span>\n",
                            "    <span style=\"font-weight: bold\">)</span>\n",
                            "<span style=\"font-weight: bold\">)</span>\n",
                            "</pre>\n"
                        ],
                        "text/plain": [
                            "\u001b[1;35mRunQueryResult\u001b[0m\u001b[1m(\u001b[0m\n",
                            "    \u001b[33moutputs\u001b[0m=\u001b[1m{\u001b[0m\n",
                            "        \u001b[32m'answer'\u001b[0m: \u001b[32m'Arthur Samuel, an IBM employee.'\u001b[0m,\n",
                            "        \u001b[32m'provenance'\u001b[0m: \u001b[1m[\u001b[0m\n",
                            "            \u001b[1m{\u001b[0m\n",
                            "                \u001b[32m'doc_hash'\u001b[0m: \u001b[32m'e470e7b42a92c8e5f25094362361947b9203e0074c2223505b4921940ec075a1'\u001b[0m,\n",
                            "                \u001b[32m'pos_in_doc'\u001b[0m: \u001b[1;36m6\u001b[0m,\n",
                            "                \u001b[32m'passage'\u001b[0m: \u001b[32m'The term machine learning was coined in 1959 by Arthur Samuel, an IBM employee and \u001b[0m\n",
                            "\u001b[32mpioneer in the field of computer gaming and artificial intelligence. $^\u001b[0m\u001b[32m{\u001b[0m\u001b[32m[\u001b[0m\u001b[32m10\u001b[0m\u001b[32m]\u001b[0m\u001b[32m[\u001b[0m\u001b[32m11\u001b[0m\u001b[32m]\u001b[0m\u001b[32m}\u001b[0m\u001b[32m$ The synonym self-teaching \u001b[0m\n",
                            "\u001b[32mcomputers was also used in this time period. \u001b[0m\u001b[32m[\u001b[0m\u001b[32m12\u001b[0m\u001b[32m]\u001b[0m\u001b[32m[\u001b[0m\u001b[32m13\u001b[0m\u001b[32m]\u001b[0m\u001b[32m'\u001b[0m,\n",
                            "                \u001b[32m'source_is_text'\u001b[0m: \u001b[3;92mTrue\u001b[0m\n",
                            "            \u001b[1m}\u001b[0m\n",
                            "        \u001b[1m]\u001b[0m\n",
                            "    \u001b[1m}\u001b[0m,\n",
                            "    \u001b[33mnext_pages\u001b[0m=\u001b[1m{\u001b[0m\u001b[1m}\u001b[0m,\n",
                            "    \u001b[33mtimings\u001b[0m=\u001b[1;35mQueryTimings\u001b[0m\u001b[1m(\u001b[0m\n",
                            "        \u001b[33moverall\u001b[0m=\u001b[1;36m0\u001b[0m\u001b[1;36m.4130447516217828\u001b[0m,\n",
                            "        \u001b[33mtasks\u001b[0m=\u001b[1m{\u001b[0m\u001b[32m'QA'\u001b[0m: \u001b[1;35mTaskTimings\u001b[0m\u001b[1m(\u001b[0m\u001b[33moverall\u001b[0m=\u001b[1;36m0\u001b[0m\u001b[1;36m.4126739138737321\u001b[0m, \u001b[33mdetails\u001b[0m=\u001b[1m{\u001b[0m\u001b[1m}\u001b[0m\u001b[1m)\u001b[0m\u001b[1m}\u001b[0m\n",
                            "    \u001b[1m)\u001b[0m\n",
                            "\u001b[1m)\u001b[0m\n"
                        ]
                    },
                    "metadata": {},
                    "output_type": "display_data"
                }
            ],
            "source": [
                "question = \"Who came up with the term 'machine learning'?\"\n",
                "\n",
                "# submit natural-language query on collection\n",
                "question_query = CorpusRAGQuery(\n",
                "    question=question,\n",
                "    project=PROJ_KEY,\n",
                "    index_key=INDEX_KEY,\n",
                ")\n",
                "question_results = api.queries.run(question_query)\n",
                "\n",
                "rich.print(question_results)"
            ]
        },
        {
            "cell_type": "markdown",
            "metadata": {},
            "source": [
                "As seen by the returned `doc_hash`, this answer came from a different document than the previous one."
            ]
        },
        {
            "cell_type": "code",
            "execution_count": 11,
            "metadata": {},
            "outputs": [
                {
                    "data": {
                        "text/markdown": [
                            "The provenance of the answer can be inspected on the [source document](https://sds.app.accelerate.science/projects/b09ae7561a01dc7c4b0fd21a43bfd93d140766d1/library/private/6b70072911ad2794a3844dd44d1705a5ba37ca0b?search=JTdCJTIycHJpdmF0ZUNvbGxlY3Rpb24lMjIlM0ElMjI2YjcwMDcyOTExYWQyNzk0YTM4NDRkZDQ0ZDE3MDVhNWJhMzdjYTBiJTIyJTJDJTIydHlwZSUyMiUzQSUyMkRvY3VtZW50JTIyJTJDJTIyZXhwcmVzc2lvbiUyMiUzQSUyMmZpbGUtaW5mby5kb2N1bWVudC1oYXNoJTNBJTIwJTVDJTIyZTQ3MGU3YjQyYTkyYzhlNWYyNTA5NDM2MjM2MTk0N2I5MjAzZTAwNzRjMjIyMzUwNWI0OTIxOTQwZWMwNzVhMSU1QyUyMiUyMiUyQyUyMmZpbHRlcnMlMjIlM0ElNUIlNUQlMkMlMjJzZWxlY3QlMjIlM0ElNUIlMjJfbmFtZSUyMiUyQyUyMmRlc2NyaXB0aW9uLmNvbGxlY3Rpb24lMjIlMkMlMjJwcm92JTIyJTJDJTIyZGVzY3JpcHRpb24udGl0bGUlMjIlMkMlMjJkZXNjcmlwdGlvbi5wdWJsaWNhdGlvbl9kYXRlJTIyJTJDJTIyZGVzY3JpcHRpb24udXJsX3JlZnMlMjIlNUQlMkMlMjJpdGVtSW5kZXglMjIlM0EwJTJDJTIycGFnZVNpemUlMjIlM0ExMCUyQyUyMnNlYXJjaEFmdGVySGlzdG9yeSUyMiUzQSU1QiU1RCUyQyUyMnZpZXdUeXBlJTIyJTNBJTIyc25pcHBldHMlMjIlMkMlMjJyZWNvcmRTZWxlY3Rpb24lMjIlM0ElN0IlMjJyZWNvcmQlMjIlM0ElN0IlMjJpZCUyMiUzQSUyMmU0NzBlN2I0MmE5MmM4ZTVmMjUwOTQzNjIzNjE5NDdiOTIwM2UwMDc0YzIyMjM1MDViNDkyMTk0MGVjMDc1YTElMjIlN0QlMkMlMjJpdGVtSW5kZXglMjIlM0E2JTdEJTdE)."
                        ],
                        "text/plain": [
                            "<IPython.core.display.Markdown object>"
                        ]
                    },
                    "metadata": {},
                    "output_type": "display_data"
                }
            ],
            "source": [
                "render_provenance_url(api=api, coords=coll_coords, qa_res=question_results)\n"
            ]
        },
        {
            "cell_type": "markdown",
            "metadata": {},
            "source": [
                "## Semantic retrieval\n",
                "\n",
                "Besides RAG, which includes natural language generation, a user may only be interested in\n",
                "the semantic retrieval part.\n",
                "\n",
                "This can be obtained very similarly to RAG, as shown below:"
            ]
        },
        {
            "cell_type": "code",
            "execution_count": 12,
            "metadata": {},
            "outputs": [
                {
                    "data": {
                        "text/html": [
                            "<pre style=\"white-space:pre;overflow-x:auto;line-height:normal;font-family:Menlo,'DejaVu Sans Mono',consolas,'Courier New',monospace\"><span style=\"color: #800080; text-decoration-color: #800080; font-weight: bold\">RunQueryResult</span><span style=\"font-weight: bold\">(</span>\n",
                            "    <span style=\"color: #808000; text-decoration-color: #808000\">outputs</span>=<span style=\"font-weight: bold\">{</span>\n",
                            "        <span style=\"color: #008000; text-decoration-color: #008000\">'contexts'</span>: <span style=\"font-weight: bold\">[</span>\n",
                            "            <span style=\"font-weight: bold\">{</span>\n",
                            "                <span style=\"color: #008000; text-decoration-color: #008000\">'doc_hash'</span>: <span style=\"color: #008000; text-decoration-color: #008000\">'b30bc667a324ae111d025526563b674a8d3fd869bc07c8fd204aa95b05d41f0c'</span>,\n",
                            "                <span style=\"color: #008000; text-decoration-color: #008000\">'pos_in_doc'</span>: <span style=\"color: #008080; text-decoration-color: #008080; font-weight: bold\">70</span>,\n",
                            "                <span style=\"color: #008000; text-decoration-color: #008000\">'passage'</span>: <span style=\"color: #008000; text-decoration-color: #008000\">'IBM Research-Zurich (previously called IBM Zurich Research Laboratory, ZRL) is the </span>\n",
                            "<span style=\"color: #008000; text-decoration-color: #008000\">European branch of IBM Research. It was opened in 1956 and is located in Rüschlikon, near Zurich, Switzerland.'</span>,\n",
                            "                <span style=\"color: #008000; text-decoration-color: #008000\">'source_is_text'</span>: <span style=\"color: #00ff00; text-decoration-color: #00ff00; font-style: italic\">True</span>\n",
                            "            <span style=\"font-weight: bold\">}</span>,\n",
                            "            <span style=\"font-weight: bold\">{</span>\n",
                            "                <span style=\"color: #008000; text-decoration-color: #008000\">'doc_hash'</span>: <span style=\"color: #008000; text-decoration-color: #008000\">'b30bc667a324ae111d025526563b674a8d3fd869bc07c8fd204aa95b05d41f0c'</span>,\n",
                            "                <span style=\"color: #008000; text-decoration-color: #008000\">'pos_in_doc'</span>: <span style=\"color: #008080; text-decoration-color: #008080; font-weight: bold\">71</span>,\n",
                            "                <span style=\"color: #008000; text-decoration-color: #008000\">'passage'</span>: <span style=\"color: #008000; text-decoration-color: #008000\">'In 1956, IBM opened their first European research laboratory in Adliswil, Switzerland, </span>\n",
                            "<span style=\"color: #008000; text-decoration-color: #008000\">near Zurich. The lab moved to its own campus in neighboring Rüschlikon in 1962. The Zurich lab is staffed by a </span>\n",
                            "<span style=\"color: #008000; text-decoration-color: #008000\">multicultural and interdisciplinary team of a few hundred permanent research staff members, graduate students and </span>\n",
                            "<span style=\"color: #008000; text-decoration-color: #008000\">post-doctoral fellows, representing about 45 nationalities. Collocated with the lab is a Client Center (formerly </span>\n",
                            "<span style=\"color: #008000; text-decoration-color: #008000\">the Industry Solutions Lab), an executive briefing facility demonstrating technology prototypes and solutions.'</span>,\n",
                            "                <span style=\"color: #008000; text-decoration-color: #008000\">'source_is_text'</span>: <span style=\"color: #00ff00; text-decoration-color: #00ff00; font-style: italic\">True</span>\n",
                            "            <span style=\"font-weight: bold\">}</span>,\n",
                            "            <span style=\"font-weight: bold\">{</span>\n",
                            "                <span style=\"color: #008000; text-decoration-color: #008000\">'doc_hash'</span>: <span style=\"color: #008000; text-decoration-color: #008000\">'b30bc667a324ae111d025526563b674a8d3fd869bc07c8fd204aa95b05d41f0c'</span>,\n",
                            "                <span style=\"color: #008000; text-decoration-color: #008000\">'pos_in_doc'</span>: <span style=\"color: #008080; text-decoration-color: #008080; font-weight: bold\">75</span>,\n",
                            "                <span style=\"color: #008000; text-decoration-color: #008000\">'passage'</span>: <span style=\"color: #008000; text-decoration-color: #008000\">'On 17 May 2011, IBM and the Swiss Federal Institute of Technology (ETH) Zurich opened </span>\n",
                            "<span style=\"color: #008000; text-decoration-color: #008000\">the Binnig and Rohrer Nanotechnology Center, which is located on the same campus in Rüschlikon. [58]'</span>,\n",
                            "                <span style=\"color: #008000; text-decoration-color: #008000\">'source_is_text'</span>: <span style=\"color: #00ff00; text-decoration-color: #00ff00; font-style: italic\">True</span>\n",
                            "            <span style=\"font-weight: bold\">}</span>,\n",
                            "            <span style=\"font-weight: bold\">{</span>\n",
                            "                <span style=\"color: #008000; text-decoration-color: #008000\">'doc_hash'</span>: <span style=\"color: #008000; text-decoration-color: #008000\">'b30bc667a324ae111d025526563b674a8d3fd869bc07c8fd204aa95b05d41f0c'</span>,\n",
                            "                <span style=\"color: #008000; text-decoration-color: #008000\">'pos_in_doc'</span>: <span style=\"color: #008080; text-decoration-color: #008080; font-weight: bold\">22</span>,\n",
                            "                <span style=\"color: #008000; text-decoration-color: #008000\">'passage'</span>: <span style=\"color: #008000; text-decoration-color: #008000\">'Cambridge-IBM Research and MIT-IBM Watson AI Lab (Cambridge, US)'</span>,\n",
                            "                <span style=\"color: #008000; text-decoration-color: #008000\">'source_is_text'</span>: <span style=\"color: #00ff00; text-decoration-color: #00ff00; font-style: italic\">True</span>\n",
                            "            <span style=\"font-weight: bold\">}</span>,\n",
                            "            <span style=\"font-weight: bold\">{</span>\n",
                            "                <span style=\"color: #008000; text-decoration-color: #008000\">'doc_hash'</span>: <span style=\"color: #008000; text-decoration-color: #008000\">'b30bc667a324ae111d025526563b674a8d3fd869bc07c8fd204aa95b05d41f0c'</span>,\n",
                            "                <span style=\"color: #008000; text-decoration-color: #008000\">'pos_in_doc'</span>: <span style=\"color: #008080; text-decoration-color: #008080; font-weight: bold\">29</span>,\n",
                            "                <span style=\"color: #008000; text-decoration-color: #008000\">'passage'</span>: <span style=\"color: #008000; text-decoration-color: #008000\">'IBM Thomas J. Watson Research Center (Yorktown Heights and Albany)'</span>,\n",
                            "                <span style=\"color: #008000; text-decoration-color: #008000\">'source_is_text'</span>: <span style=\"color: #00ff00; text-decoration-color: #00ff00; font-style: italic\">True</span>\n",
                            "            <span style=\"font-weight: bold\">}</span>,\n",
                            "            <span style=\"font-weight: bold\">{</span>\n",
                            "                <span style=\"color: #008000; text-decoration-color: #008000\">'doc_hash'</span>: <span style=\"color: #008000; text-decoration-color: #008000\">'b30bc667a324ae111d025526563b674a8d3fd869bc07c8fd204aa95b05d41f0c'</span>,\n",
                            "                <span style=\"color: #008000; text-decoration-color: #008000\">'pos_in_doc'</span>: <span style=\"color: #008080; text-decoration-color: #008080; font-weight: bold\">74</span>,\n",
                            "                <span style=\"color: #008000; text-decoration-color: #008000\">'passage'</span>: <span style=\"color: #008000; text-decoration-color: #008000\">'The research projects pursued at the IBM Zurich lab are organized into four scientific </span>\n",
                            "<span style=\"color: #008000; text-decoration-color: #008000\">and technical departments: Science &amp; Technology, Cloud and AI Systems Research, Cognitive Computing &amp; Industry </span>\n",
                            "<span style=\"color: #008000; text-decoration-color: #008000\">Solutions and Security Research. The lab is currently managed by Alessandro Curioni.'</span>,\n",
                            "                <span style=\"color: #008000; text-decoration-color: #008000\">'source_is_text'</span>: <span style=\"color: #00ff00; text-decoration-color: #00ff00; font-style: italic\">True</span>\n",
                            "            <span style=\"font-weight: bold\">}</span>,\n",
                            "            <span style=\"font-weight: bold\">{</span>\n",
                            "                <span style=\"color: #008000; text-decoration-color: #008000\">'doc_hash'</span>: <span style=\"color: #008000; text-decoration-color: #008000\">'b30bc667a324ae111d025526563b674a8d3fd869bc07c8fd204aa95b05d41f0c'</span>,\n",
                            "                <span style=\"color: #008000; text-decoration-color: #008000\">'pos_in_doc'</span>: <span style=\"color: #008080; text-decoration-color: #008080; font-weight: bold\">62</span>,\n",
                            "                <span style=\"color: #008000; text-decoration-color: #008000\">'passage'</span>: <span style=\"color: #008000; text-decoration-color: #008000\">\"IBM Research-Haifa, previously known as the Haifa Research Lab (HRL) was founded as a </span>\n",
                            "<span style=\"color: #008000; text-decoration-color: #008000\">small scientific center in 1972. $^{[55]}$ Since then, it has grown into a major lab that leads the development of </span>\n",
                            "<span style=\"color: #008000; text-decoration-color: #008000\">innovative technologies and solutions for the IBM corporation. The lab's offices are situated in three locations </span>\n",
                            "<span style=\"color: #008000; text-decoration-color: #008000\">across Israel: Haifa, Tel Aviv, and Beer Sheva.\"</span>,\n",
                            "                <span style=\"color: #008000; text-decoration-color: #008000\">'source_is_text'</span>: <span style=\"color: #00ff00; text-decoration-color: #00ff00; font-style: italic\">True</span>\n",
                            "            <span style=\"font-weight: bold\">}</span>,\n",
                            "            <span style=\"font-weight: bold\">{</span>\n",
                            "                <span style=\"color: #008000; text-decoration-color: #008000\">'doc_hash'</span>: <span style=\"color: #008000; text-decoration-color: #008000\">'b30bc667a324ae111d025526563b674a8d3fd869bc07c8fd204aa95b05d41f0c'</span>,\n",
                            "                <span style=\"color: #008000; text-decoration-color: #008000\">'pos_in_doc'</span>: <span style=\"color: #008080; text-decoration-color: #008080; font-weight: bold\">30</span>,\n",
                            "                <span style=\"color: #008000; text-decoration-color: #008000\">'passage'</span>: <span style=\"color: #008000; text-decoration-color: #008000\">'Historic research centers for IBM also include IBM La Gaude (Nice), the Cambridge </span>\n",
                            "<span style=\"color: #008000; text-decoration-color: #008000\">Scientific Center, the IBM New York Scientific Center, 330 North Wabash (Chicago), IBM Austin Research Laboratory, </span>\n",
                            "<span style=\"color: #008000; text-decoration-color: #008000\">and IBM Laboratory Vienna. [33]'</span>,\n",
                            "                <span style=\"color: #008000; text-decoration-color: #008000\">'source_is_text'</span>: <span style=\"color: #00ff00; text-decoration-color: #00ff00; font-style: italic\">True</span>\n",
                            "            <span style=\"font-weight: bold\">}</span>,\n",
                            "            <span style=\"font-weight: bold\">{</span>\n",
                            "                <span style=\"color: #008000; text-decoration-color: #008000\">'doc_hash'</span>: <span style=\"color: #008000; text-decoration-color: #008000\">'b30bc667a324ae111d025526563b674a8d3fd869bc07c8fd204aa95b05d41f0c'</span>,\n",
                            "                <span style=\"color: #008000; text-decoration-color: #008000\">'pos_in_doc'</span>: <span style=\"color: #008080; text-decoration-color: #008080; font-weight: bold\">17</span>,\n",
                            "                <span style=\"color: #008000; text-decoration-color: #008000\">'passage'</span>: <span style=\"color: #008000; text-decoration-color: #008000\">'IBM currently has 19 research facilities spread across 12 laboratories on six </span>\n",
                            "<span style=\"color: #008000; text-decoration-color: #008000\">continents: [32]'</span>,\n",
                            "                <span style=\"color: #008000; text-decoration-color: #008000\">'source_is_text'</span>: <span style=\"color: #00ff00; text-decoration-color: #00ff00; font-style: italic\">True</span>\n",
                            "            <span style=\"font-weight: bold\">}</span>,\n",
                            "            <span style=\"font-weight: bold\">{</span>\n",
                            "                <span style=\"color: #008000; text-decoration-color: #008000\">'doc_hash'</span>: <span style=\"color: #008000; text-decoration-color: #008000\">'b30bc667a324ae111d025526563b674a8d3fd869bc07c8fd204aa95b05d41f0c'</span>,\n",
                            "                <span style=\"color: #008000; text-decoration-color: #008000\">'pos_in_doc'</span>: <span style=\"color: #008080; text-decoration-color: #008080; font-weight: bold\">79</span>,\n",
                            "                <span style=\"color: #008000; text-decoration-color: #008000\">'passage'</span>: <span style=\"color: #008000; text-decoration-color: #008000\">\"1. 'Labs and locations ' (https://research.ibm.com/labs/). IBM Research. Archived </span>\n",
                            "<span style=\"color: #008000; text-decoration-color: #008000\">(https://web.archiv e.org/web/20221221032216/https://research.ibm.com/labs/) from the original on 21 December\"</span>,\n",
                            "                <span style=\"color: #008000; text-decoration-color: #008000\">'source_is_text'</span>: <span style=\"color: #00ff00; text-decoration-color: #00ff00; font-style: italic\">True</span>\n",
                            "            <span style=\"font-weight: bold\">}</span>\n",
                            "        <span style=\"font-weight: bold\">]</span>\n",
                            "    <span style=\"font-weight: bold\">}</span>,\n",
                            "    <span style=\"color: #808000; text-decoration-color: #808000\">next_pages</span>=<span style=\"font-weight: bold\">{}</span>,\n",
                            "    <span style=\"color: #808000; text-decoration-color: #808000\">timings</span>=<span style=\"color: #800080; text-decoration-color: #800080; font-weight: bold\">QueryTimings</span><span style=\"font-weight: bold\">(</span>\n",
                            "        <span style=\"color: #808000; text-decoration-color: #808000\">overall</span>=<span style=\"color: #008080; text-decoration-color: #008080; font-weight: bold\">0.07676050905138254</span>,\n",
                            "        <span style=\"color: #808000; text-decoration-color: #808000\">tasks</span>=<span style=\"font-weight: bold\">{</span><span style=\"color: #008000; text-decoration-color: #008000\">'QA'</span>: <span style=\"color: #800080; text-decoration-color: #800080; font-weight: bold\">TaskTimings</span><span style=\"font-weight: bold\">(</span><span style=\"color: #808000; text-decoration-color: #808000\">overall</span>=<span style=\"color: #008080; text-decoration-color: #008080; font-weight: bold\">0.07637353474274278</span>, <span style=\"color: #808000; text-decoration-color: #808000\">details</span>=<span style=\"font-weight: bold\">{})}</span>\n",
                            "    <span style=\"font-weight: bold\">)</span>\n",
                            "<span style=\"font-weight: bold\">)</span>\n",
                            "</pre>\n"
                        ],
                        "text/plain": [
                            "\u001b[1;35mRunQueryResult\u001b[0m\u001b[1m(\u001b[0m\n",
                            "    \u001b[33moutputs\u001b[0m=\u001b[1m{\u001b[0m\n",
                            "        \u001b[32m'contexts'\u001b[0m: \u001b[1m[\u001b[0m\n",
                            "            \u001b[1m{\u001b[0m\n",
                            "                \u001b[32m'doc_hash'\u001b[0m: \u001b[32m'b30bc667a324ae111d025526563b674a8d3fd869bc07c8fd204aa95b05d41f0c'\u001b[0m,\n",
                            "                \u001b[32m'pos_in_doc'\u001b[0m: \u001b[1;36m70\u001b[0m,\n",
                            "                \u001b[32m'passage'\u001b[0m: \u001b[32m'IBM Research-Zurich \u001b[0m\u001b[32m(\u001b[0m\u001b[32mpreviously called IBM Zurich Research Laboratory, ZRL\u001b[0m\u001b[32m)\u001b[0m\u001b[32m is the \u001b[0m\n",
                            "\u001b[32mEuropean branch of IBM Research. It was opened in 1956 and is located in Rüschlikon, near Zurich, Switzerland.'\u001b[0m,\n",
                            "                \u001b[32m'source_is_text'\u001b[0m: \u001b[3;92mTrue\u001b[0m\n",
                            "            \u001b[1m}\u001b[0m,\n",
                            "            \u001b[1m{\u001b[0m\n",
                            "                \u001b[32m'doc_hash'\u001b[0m: \u001b[32m'b30bc667a324ae111d025526563b674a8d3fd869bc07c8fd204aa95b05d41f0c'\u001b[0m,\n",
                            "                \u001b[32m'pos_in_doc'\u001b[0m: \u001b[1;36m71\u001b[0m,\n",
                            "                \u001b[32m'passage'\u001b[0m: \u001b[32m'In 1956, IBM opened their first European research laboratory in Adliswil, Switzerland, \u001b[0m\n",
                            "\u001b[32mnear Zurich. The lab moved to its own campus in neighboring Rüschlikon in 1962. The Zurich lab is staffed by a \u001b[0m\n",
                            "\u001b[32mmulticultural and interdisciplinary team of a few hundred permanent research staff members, graduate students and \u001b[0m\n",
                            "\u001b[32mpost-doctoral fellows, representing about 45 nationalities. Collocated with the lab is a Client Center \u001b[0m\u001b[32m(\u001b[0m\u001b[32mformerly \u001b[0m\n",
                            "\u001b[32mthe Industry Solutions Lab\u001b[0m\u001b[32m)\u001b[0m\u001b[32m, an executive briefing facility demonstrating technology prototypes and solutions.'\u001b[0m,\n",
                            "                \u001b[32m'source_is_text'\u001b[0m: \u001b[3;92mTrue\u001b[0m\n",
                            "            \u001b[1m}\u001b[0m,\n",
                            "            \u001b[1m{\u001b[0m\n",
                            "                \u001b[32m'doc_hash'\u001b[0m: \u001b[32m'b30bc667a324ae111d025526563b674a8d3fd869bc07c8fd204aa95b05d41f0c'\u001b[0m,\n",
                            "                \u001b[32m'pos_in_doc'\u001b[0m: \u001b[1;36m75\u001b[0m,\n",
                            "                \u001b[32m'passage'\u001b[0m: \u001b[32m'On 17 May 2011, IBM and the Swiss Federal Institute of Technology \u001b[0m\u001b[32m(\u001b[0m\u001b[32mETH\u001b[0m\u001b[32m)\u001b[0m\u001b[32m Zurich opened \u001b[0m\n",
                            "\u001b[32mthe Binnig and Rohrer Nanotechnology Center, which is located on the same campus in Rüschlikon. \u001b[0m\u001b[32m[\u001b[0m\u001b[32m58\u001b[0m\u001b[32m]\u001b[0m\u001b[32m'\u001b[0m,\n",
                            "                \u001b[32m'source_is_text'\u001b[0m: \u001b[3;92mTrue\u001b[0m\n",
                            "            \u001b[1m}\u001b[0m,\n",
                            "            \u001b[1m{\u001b[0m\n",
                            "                \u001b[32m'doc_hash'\u001b[0m: \u001b[32m'b30bc667a324ae111d025526563b674a8d3fd869bc07c8fd204aa95b05d41f0c'\u001b[0m,\n",
                            "                \u001b[32m'pos_in_doc'\u001b[0m: \u001b[1;36m22\u001b[0m,\n",
                            "                \u001b[32m'passage'\u001b[0m: \u001b[32m'Cambridge-IBM Research and MIT-IBM Watson AI Lab \u001b[0m\u001b[32m(\u001b[0m\u001b[32mCambridge, US\u001b[0m\u001b[32m)\u001b[0m\u001b[32m'\u001b[0m,\n",
                            "                \u001b[32m'source_is_text'\u001b[0m: \u001b[3;92mTrue\u001b[0m\n",
                            "            \u001b[1m}\u001b[0m,\n",
                            "            \u001b[1m{\u001b[0m\n",
                            "                \u001b[32m'doc_hash'\u001b[0m: \u001b[32m'b30bc667a324ae111d025526563b674a8d3fd869bc07c8fd204aa95b05d41f0c'\u001b[0m,\n",
                            "                \u001b[32m'pos_in_doc'\u001b[0m: \u001b[1;36m29\u001b[0m,\n",
                            "                \u001b[32m'passage'\u001b[0m: \u001b[32m'IBM Thomas J. Watson Research Center \u001b[0m\u001b[32m(\u001b[0m\u001b[32mYorktown Heights and Albany\u001b[0m\u001b[32m)\u001b[0m\u001b[32m'\u001b[0m,\n",
                            "                \u001b[32m'source_is_text'\u001b[0m: \u001b[3;92mTrue\u001b[0m\n",
                            "            \u001b[1m}\u001b[0m,\n",
                            "            \u001b[1m{\u001b[0m\n",
                            "                \u001b[32m'doc_hash'\u001b[0m: \u001b[32m'b30bc667a324ae111d025526563b674a8d3fd869bc07c8fd204aa95b05d41f0c'\u001b[0m,\n",
                            "                \u001b[32m'pos_in_doc'\u001b[0m: \u001b[1;36m74\u001b[0m,\n",
                            "                \u001b[32m'passage'\u001b[0m: \u001b[32m'The research projects pursued at the IBM Zurich lab are organized into four scientific \u001b[0m\n",
                            "\u001b[32mand technical departments: Science & Technology, Cloud and AI Systems Research, Cognitive Computing & Industry \u001b[0m\n",
                            "\u001b[32mSolutions and Security Research. The lab is currently managed by Alessandro Curioni.'\u001b[0m,\n",
                            "                \u001b[32m'source_is_text'\u001b[0m: \u001b[3;92mTrue\u001b[0m\n",
                            "            \u001b[1m}\u001b[0m,\n",
                            "            \u001b[1m{\u001b[0m\n",
                            "                \u001b[32m'doc_hash'\u001b[0m: \u001b[32m'b30bc667a324ae111d025526563b674a8d3fd869bc07c8fd204aa95b05d41f0c'\u001b[0m,\n",
                            "                \u001b[32m'pos_in_doc'\u001b[0m: \u001b[1;36m62\u001b[0m,\n",
                            "                \u001b[32m'passage'\u001b[0m: \u001b[32m\"IBM Research-Haifa, previously known as the Haifa Research Lab \u001b[0m\u001b[32m(\u001b[0m\u001b[32mHRL\u001b[0m\u001b[32m)\u001b[0m\u001b[32m was founded as a \u001b[0m\n",
                            "\u001b[32msmall scientific center in 1972. $^\u001b[0m\u001b[32m{\u001b[0m\u001b[32m[\u001b[0m\u001b[32m55\u001b[0m\u001b[32m]\u001b[0m\u001b[32m}\u001b[0m\u001b[32m$ Since then, it has grown into a major lab that leads the development of \u001b[0m\n",
                            "\u001b[32minnovative technologies and solutions for the IBM corporation. The lab's offices are situated in three locations \u001b[0m\n",
                            "\u001b[32macross Israel: Haifa, Tel Aviv, and Beer Sheva.\"\u001b[0m,\n",
                            "                \u001b[32m'source_is_text'\u001b[0m: \u001b[3;92mTrue\u001b[0m\n",
                            "            \u001b[1m}\u001b[0m,\n",
                            "            \u001b[1m{\u001b[0m\n",
                            "                \u001b[32m'doc_hash'\u001b[0m: \u001b[32m'b30bc667a324ae111d025526563b674a8d3fd869bc07c8fd204aa95b05d41f0c'\u001b[0m,\n",
                            "                \u001b[32m'pos_in_doc'\u001b[0m: \u001b[1;36m30\u001b[0m,\n",
                            "                \u001b[32m'passage'\u001b[0m: \u001b[32m'Historic research centers for IBM also include IBM La Gaude \u001b[0m\u001b[32m(\u001b[0m\u001b[32mNice\u001b[0m\u001b[32m)\u001b[0m\u001b[32m, the Cambridge \u001b[0m\n",
                            "\u001b[32mScientific Center, the IBM New York Scientific Center, 330 North Wabash \u001b[0m\u001b[32m(\u001b[0m\u001b[32mChicago\u001b[0m\u001b[32m)\u001b[0m\u001b[32m, IBM Austin Research Laboratory, \u001b[0m\n",
                            "\u001b[32mand IBM Laboratory Vienna. \u001b[0m\u001b[32m[\u001b[0m\u001b[32m33\u001b[0m\u001b[32m]\u001b[0m\u001b[32m'\u001b[0m,\n",
                            "                \u001b[32m'source_is_text'\u001b[0m: \u001b[3;92mTrue\u001b[0m\n",
                            "            \u001b[1m}\u001b[0m,\n",
                            "            \u001b[1m{\u001b[0m\n",
                            "                \u001b[32m'doc_hash'\u001b[0m: \u001b[32m'b30bc667a324ae111d025526563b674a8d3fd869bc07c8fd204aa95b05d41f0c'\u001b[0m,\n",
                            "                \u001b[32m'pos_in_doc'\u001b[0m: \u001b[1;36m17\u001b[0m,\n",
                            "                \u001b[32m'passage'\u001b[0m: \u001b[32m'IBM currently has 19 research facilities spread across 12 laboratories on six \u001b[0m\n",
                            "\u001b[32mcontinents: \u001b[0m\u001b[32m[\u001b[0m\u001b[32m32\u001b[0m\u001b[32m]\u001b[0m\u001b[32m'\u001b[0m,\n",
                            "                \u001b[32m'source_is_text'\u001b[0m: \u001b[3;92mTrue\u001b[0m\n",
                            "            \u001b[1m}\u001b[0m,\n",
                            "            \u001b[1m{\u001b[0m\n",
                            "                \u001b[32m'doc_hash'\u001b[0m: \u001b[32m'b30bc667a324ae111d025526563b674a8d3fd869bc07c8fd204aa95b05d41f0c'\u001b[0m,\n",
                            "                \u001b[32m'pos_in_doc'\u001b[0m: \u001b[1;36m79\u001b[0m,\n",
                            "                \u001b[32m'passage'\u001b[0m: \u001b[32m\"1. 'Labs and locations ' \u001b[0m\u001b[32m(\u001b[0m\u001b[32mhttps://research.ibm.com/labs/\u001b[0m\u001b[32m)\u001b[0m\u001b[32m. IBM Research. Archived \u001b[0m\n",
                            "\u001b[32m(\u001b[0m\u001b[32mhttps://web.archiv e.org/web/20221221032216/https://research.ibm.com/labs/\u001b[0m\u001b[32m)\u001b[0m\u001b[32m from the original on 21 December\"\u001b[0m,\n",
                            "                \u001b[32m'source_is_text'\u001b[0m: \u001b[3;92mTrue\u001b[0m\n",
                            "            \u001b[1m}\u001b[0m\n",
                            "        \u001b[1m]\u001b[0m\n",
                            "    \u001b[1m}\u001b[0m,\n",
                            "    \u001b[33mnext_pages\u001b[0m=\u001b[1m{\u001b[0m\u001b[1m}\u001b[0m,\n",
                            "    \u001b[33mtimings\u001b[0m=\u001b[1;35mQueryTimings\u001b[0m\u001b[1m(\u001b[0m\n",
                            "        \u001b[33moverall\u001b[0m=\u001b[1;36m0\u001b[0m\u001b[1;36m.07676050905138254\u001b[0m,\n",
                            "        \u001b[33mtasks\u001b[0m=\u001b[1m{\u001b[0m\u001b[32m'QA'\u001b[0m: \u001b[1;35mTaskTimings\u001b[0m\u001b[1m(\u001b[0m\u001b[33moverall\u001b[0m=\u001b[1;36m0\u001b[0m\u001b[1;36m.07637353474274278\u001b[0m, \u001b[33mdetails\u001b[0m=\u001b[1m{\u001b[0m\u001b[1m}\u001b[0m\u001b[1m)\u001b[0m\u001b[1m}\u001b[0m\n",
                            "    \u001b[1m)\u001b[0m\n",
                            "\u001b[1m)\u001b[0m\n"
                        ]
                    },
                    "metadata": {},
                    "output_type": "display_data"
                }
            ],
            "source": [
                "question = \"Where is the IBM lab in Zurich?\"\n",
                "\n",
                "# submit natural-language query on collection\n",
                "question_query = CorpusSemanticQuery(\n",
                "    question=question,\n",
                "    project=PROJ_KEY,\n",
                "    index_key=INDEX_KEY,\n",
                ")\n",
                "question_results = api.queries.run(question_query)\n",
                "\n",
                "rich.print(question_results)\n"
            ]
        }
    ],
    "metadata": {
        "kernelspec": {
            "display_name": "Python 3 (ipykernel)",
            "language": "python",
            "name": "python3"
        },
        "language_info": {
            "codemirror_mode": {
                "name": "ipython",
                "version": 3
            },
            "file_extension": ".py",
            "mimetype": "text/x-python",
            "name": "python",
            "nbconvert_exporter": "python",
            "pygments_lexer": "ipython3",
            "version": "3.10.4"
        }
    },
    "nbformat": 4,
    "nbformat_minor": 5
}
