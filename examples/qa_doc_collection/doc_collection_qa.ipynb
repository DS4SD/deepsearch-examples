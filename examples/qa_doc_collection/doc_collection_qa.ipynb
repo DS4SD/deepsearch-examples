{
    "cells": [
        {
            "cell_type": "markdown",
            "id": "99f717ef-4cba-4300-b258-0b1c248cb873",
            "metadata": {},
            "source": [
                "# RAG and Semantic Retrieval on a Document Collection\n",
                "\n",
                "Deep Search allows users to interact with the documents using conversational AI, i.e. you interact with a virtual assistant which answer your questions using the information in the corpus.\n",
                "\n",
                "In this example we demonstrate how achive the same interaction programmatically.\n",
                "\n",
                "### Access required\n",
                "\n",
                "The content of this notebook requires access to Deep Search capabilities which are not\n",
                "available on the public access system.\n",
                "\n",
                "[Contact us](https://ds4sd.github.io) if you are interested in exploring\n",
                "these Deep Search capabilities.\n",
                "\n",
                "\n",
                "### GenAI Integration required\n",
                "\n",
                "When interacting with the virtual assistant, Deep Search requires a connection to a Generative AI API. Currently, we support connections to [watsonx.ai](https://www.ibm.com/products/watsonx-ai) or the IBM-internal GenAI platform BAM.\n",
                "\n",
                "Deep Search allows custom GenAI configurations for each project.\n",
                "In the following example you will require to work in a project which has such GenAI capabilities activated."
            ]
        },
        {
            "cell_type": "markdown",
            "id": "256aef50-71a1-4278-9b22-17cb99a6566e",
            "metadata": {},
            "source": [
                "### Set notebook parameters\n"
            ]
        },
        {
            "cell_type": "code",
            "execution_count": 1,
            "id": "5b244bdd-1b52-41ff-b63e-9a203570d210",
            "metadata": {},
            "outputs": [],
            "source": [
                "from dsnotebooks.settings import CollQANotebookSettings\n",
                "\n",
                "# notebooks settings auto-loaded from .env / env vars\n",
                "notebook_settings = CollQANotebookSettings()\n",
                "\n",
                "PROFILE_NAME = notebook_settings.profile      # the profile to use\n",
                "PROJ_KEY = notebook_settings.proj_key         # the project to use\n",
                "INDEX_KEY = notebook_settings.sem_on_idx_key  # the collection to use\n",
                "\n",
                "SKIP_INGESTED_DOCS = notebook_settings.skip_ingested_docs  # whether to skip any already semantically ingested docs\n",
                "\n",
                "RETR_K = notebook_settings.retr_k             # the number of search results to retrieve\n",
                "TEXT_WEIGHT = notebook_settings.text_weight   # the weight of lexical search (0.0: semantic-only, 1.0: lexical-only, anything in between: hybrid search)\n",
                "RERANK = notebook_settings.rerank             # whether to rerank the search results\n",
                "RAISE = notebook_settings.raise_on_rag_err    # whether RAG errors should raise an exception or be reflected in response fields"
            ]
        },
        {
            "cell_type": "markdown",
            "id": "a5269060-bb5f-4fe3-9b64-547202db6714",
            "metadata": {},
            "source": [
                "### Import example dependencies"
            ]
        },
        {
            "cell_type": "code",
            "execution_count": 2,
            "id": "5d236ea0-db1c-4171-8e11-cdd0bad69d66",
            "metadata": {},
            "outputs": [],
            "source": [
                "# Import standard dependenices\n",
                "import pandas as pd\n",
                "import rich\n",
                "\n",
                "# IPython utilities\n",
                "from IPython.display import display, Markdown\n",
                "\n",
                "# Import the deepsearch-toolkit\n",
                "from deepsearch.cps.client.api import CpsApi\n",
                "from deepsearch.cps.client.components.elastic import ElasticProjectDataCollectionSource\n",
                "from deepsearch.cps.queries import DataQuery, CorpusRAGQuery, CorpusSemanticQuery\n",
                "from deepsearch.cps.queries.results import RAGResult, SearchResult, SearchResultItem\n"
            ]
        },
        {
            "cell_type": "markdown",
            "id": "293c249b-6018-46f2-b4d8-795f994d4729",
            "metadata": {},
            "source": [
                "### Connect to Deep Search"
            ]
        },
        {
            "cell_type": "code",
            "execution_count": 3,
            "id": "9c108432-a285-4c7b-a996-008ac3ff3d7a",
            "metadata": {},
            "outputs": [],
            "source": [
                "api = CpsApi.from_env(profile_name=PROFILE_NAME)"
            ]
        },
        {
            "cell_type": "markdown",
            "metadata": {},
            "source": [
                "### Utils"
            ]
        },
        {
            "cell_type": "code",
            "execution_count": 4,
            "metadata": {},
            "outputs": [],
            "source": [
                "def render_provenance_url(\n",
                "        api: CpsApi,\n",
                "        coords: ElasticProjectDataCollectionSource,\n",
                "        retr_item: SearchResultItem,\n",
                "):\n",
                "    ## compute URL to the document in the Deep Search UI\n",
                "    item_index = int(retr_item.path_in_doc[retr_item.path_in_doc.rfind(\".\")+1:])\n",
                "    doc_url = api.documents.generate_url(\n",
                "        document_hash=retr_item.doc_hash,\n",
                "        data_source=coords,\n",
                "        item_index=item_index,\n",
                "    )\n",
                "    display(Markdown(f\"The provenance of the answer can be inspected on the [source document]({doc_url}).\"))"
            ]
        },
        {
            "cell_type": "markdown",
            "id": "38cde869-46d1-4833-8eb3-2381b5e5fb68",
            "metadata": {},
            "source": [
                "---"
            ]
        },
        {
            "cell_type": "markdown",
            "metadata": {},
            "source": [
                "Prepare the collection coordinates:"
            ]
        },
        {
            "cell_type": "code",
            "execution_count": 5,
            "metadata": {},
            "outputs": [],
            "source": [
                "coll_coords = ElasticProjectDataCollectionSource(\n",
                "    proj_key=PROJ_KEY,\n",
                "    index_key=INDEX_KEY,\n",
                ")"
            ]
        },
        {
            "cell_type": "markdown",
            "metadata": {},
            "source": [
                "We are using a small collection, so we can just list its documents to get an idea of its contents (for more details on querying, check the [Data Query Quick Start](https://github.com/DS4SD/deepsearch-examples/tree/main/examples/data_query_quick_start))."
            ]
        },
        {
            "cell_type": "code",
            "execution_count": 6,
            "id": "2b38875e-f39c-4dd5-9d42-3ffca5d0bdac",
            "metadata": {},
            "outputs": [
                {
                    "name": "stdout",
                    "output_type": "stream",
                    "text": [
                        "Finished fetching all data. Total is 10 records.\n"
                    ]
                },
                {
                    "data": {
                        "text/html": [
                            "<div>\n",
                            "<style scoped>\n",
                            "    .dataframe tbody tr th:only-of-type {\n",
                            "        vertical-align: middle;\n",
                            "    }\n",
                            "\n",
                            "    .dataframe tbody tr th {\n",
                            "        vertical-align: top;\n",
                            "    }\n",
                            "\n",
                            "    .dataframe thead th {\n",
                            "        text-align: right;\n",
                            "    }\n",
                            "</style>\n",
                            "<table border=\"1\" class=\"dataframe\">\n",
                            "  <thead>\n",
                            "    <tr style=\"text-align: right;\">\n",
                            "      <th></th>\n",
                            "      <th>Filename</th>\n",
                            "      <th>DocHash</th>\n",
                            "    </tr>\n",
                            "  </thead>\n",
                            "  <tbody>\n",
                            "    <tr>\n",
                            "      <th>0</th>\n",
                            "      <td>natural-language-processing.pdf</td>\n",
                            "      <td>000f892ddcc67f165797a96e94f44fb9e0697c7912a383...</td>\n",
                            "    </tr>\n",
                            "    <tr>\n",
                            "      <th>1</th>\n",
                            "      <td>ibm-z.pdf</td>\n",
                            "      <td>07e56eb5a10f725fccad9386d126b7b05bec1fa71b9b3d...</td>\n",
                            "    </tr>\n",
                            "    <tr>\n",
                            "      <th>2</th>\n",
                            "      <td>ibm.pdf</td>\n",
                            "      <td>234bc5cf2c860d49574b0ff7191c354b7bbc11472a0997...</td>\n",
                            "    </tr>\n",
                            "    <tr>\n",
                            "      <th>3</th>\n",
                            "      <td>ibm-the-great-mind-challenge.pdf</td>\n",
                            "      <td>335120a57b418655196e3315b562a2f9e89cedeaef9318...</td>\n",
                            "    </tr>\n",
                            "    <tr>\n",
                            "      <th>4</th>\n",
                            "      <td>turing-award.pdf</td>\n",
                            "      <td>8a7c91a269abc3063df9f4e19f7961ddb8e2393fa0f272...</td>\n",
                            "    </tr>\n",
                            "    <tr>\n",
                            "      <th>5</th>\n",
                            "      <td>ibm-research.pdf</td>\n",
                            "      <td>b30bc667a324ae111d025526563b674a8d3fd869bc07c8...</td>\n",
                            "    </tr>\n",
                            "    <tr>\n",
                            "      <th>6</th>\n",
                            "      <td>artificial-intelligence.pdf</td>\n",
                            "      <td>b60a87c1d62a59d517f2fd6f2d3ea1a96c58b651332a8b...</td>\n",
                            "    </tr>\n",
                            "    <tr>\n",
                            "      <th>7</th>\n",
                            "      <td>machine-learning.pdf</td>\n",
                            "      <td>e470e7b42a92c8e5f25094362361947b9203e0074c2223...</td>\n",
                            "    </tr>\n",
                            "    <tr>\n",
                            "      <th>8</th>\n",
                            "      <td>deep-blue-chess-computer.pdf</td>\n",
                            "      <td>fa7ce2f66a7a5e061813d36348425f81d9e7ebc23454d8...</td>\n",
                            "    </tr>\n",
                            "    <tr>\n",
                            "      <th>9</th>\n",
                            "      <td>red-hat.pdf</td>\n",
                            "      <td>fb53bb607f2e9642d7fe044585d1dcdb052c57febe1b87...</td>\n",
                            "    </tr>\n",
                            "  </tbody>\n",
                            "</table>\n",
                            "</div>"
                        ],
                        "text/plain": [
                            "                           Filename  \\\n",
                            "0   natural-language-processing.pdf   \n",
                            "1                         ibm-z.pdf   \n",
                            "2                           ibm.pdf   \n",
                            "3  ibm-the-great-mind-challenge.pdf   \n",
                            "4                  turing-award.pdf   \n",
                            "5                  ibm-research.pdf   \n",
                            "6       artificial-intelligence.pdf   \n",
                            "7              machine-learning.pdf   \n",
                            "8      deep-blue-chess-computer.pdf   \n",
                            "9                       red-hat.pdf   \n",
                            "\n",
                            "                                             DocHash  \n",
                            "0  000f892ddcc67f165797a96e94f44fb9e0697c7912a383...  \n",
                            "1  07e56eb5a10f725fccad9386d126b7b05bec1fa71b9b3d...  \n",
                            "2  234bc5cf2c860d49574b0ff7191c354b7bbc11472a0997...  \n",
                            "3  335120a57b418655196e3315b562a2f9e89cedeaef9318...  \n",
                            "4  8a7c91a269abc3063df9f4e19f7961ddb8e2393fa0f272...  \n",
                            "5  b30bc667a324ae111d025526563b674a8d3fd869bc07c8...  \n",
                            "6  b60a87c1d62a59d517f2fd6f2d3ea1a96c58b651332a8b...  \n",
                            "7  e470e7b42a92c8e5f25094362361947b9203e0074c2223...  \n",
                            "8  fa7ce2f66a7a5e061813d36348425f81d9e7ebc23454d8...  \n",
                            "9  fb53bb607f2e9642d7fe044585d1dcdb052c57febe1b87...  "
                        ]
                    },
                    "metadata": {},
                    "output_type": "display_data"
                }
            ],
            "source": [
                "# Prepare the data query\n",
                "query = DataQuery(\n",
                "    search_query=\"*\",  # The search query to be executed\n",
                "    source=[           # Which fields of documents we want to fetch\n",
                "            \"file-info.document-hash\",\n",
                "            \"file-info.filename\",\n",
                "            # \"description.title\",\n",
                "    ],\n",
                "    coordinates=coll_coords,  # The data collection to be queries\n",
                ")\n",
                "\n",
                "# Query Deep Search for the documents matching the query\n",
                "results = []\n",
                "query_results = api.queries.run(query)\n",
                "for row in query_results.outputs[\"data_outputs\"]:\n",
                "        # Add row to results table\n",
                "        results.append({\n",
                "            \"Filename\": row[\"_source\"][\"file-info\"][\"filename\"],\n",
                "            \"DocHash\": row[\"_source\"][\"file-info\"][\"document-hash\"],\n",
                "            # \"Title\": row[\"_source\"].get(\"description\", {}).get(\"title\"),\n",
                "        })\n",
                "\n",
                "print(f'Finished fetching all data. Total is {len(results)} records.')\n",
                "\n",
                "# Visualize the table with all results\n",
                "df = pd.json_normalize(results)\n",
                "display(df)"
            ]
        },
        {
            "cell_type": "markdown",
            "metadata": {},
            "source": [
                "## Ingestion"
            ]
        },
        {
            "cell_type": "markdown",
            "metadata": {},
            "source": [
                "In the cell below we show how to semantically index your collection (indexing of already indexed docs is controlled via param `skip_ingested_docs`):"
            ]
        },
        {
            "cell_type": "code",
            "execution_count": 7,
            "metadata": {},
            "outputs": [
                {
                    "data": {
                        "text/plain": [
                            "{'ing_out': {}}"
                        ]
                    },
                    "execution_count": 7,
                    "metadata": {},
                    "output_type": "execute_result"
                }
            ],
            "source": [
                "from deepsearch.cps.client.components.documents import SemIngestPrivateDataCollectionSource\n",
                "\n",
                "# launch the ingestion of the collection for DocumentQA\n",
                "task = api.documents.semantic_ingest(\n",
                "    project=PROJ_KEY,\n",
                "    data_source=SemIngestPrivateDataCollectionSource(\n",
                "        source=coll_coords,\n",
                "    ),\n",
                "    skip_ingested_docs=SKIP_INGESTED_DOCS,\n",
                ")\n",
                "\n",
                "# wait for the ingestion task to finish\n",
                "api.tasks.wait_for(task.proj_key, task.task_id)"
            ]
        },
        {
            "cell_type": "markdown",
            "metadata": {},
            "source": [
                "## RAG"
            ]
        },
        {
            "cell_type": "code",
            "execution_count": 8,
            "id": "ee573e76-98ea-43ce-a2ba-a81f64b3adf3",
            "metadata": {},
            "outputs": [
                {
                    "data": {
                        "text/html": [
                            "<pre style=\"white-space:pre;overflow-x:auto;line-height:normal;font-family:Menlo,'DejaVu Sans Mono',consolas,'Courier New',monospace\"><span style=\"color: #800080; text-decoration-color: #800080; font-weight: bold\">RAGResult</span><span style=\"font-weight: bold\">(</span>\n",
                            "    <span style=\"color: #808000; text-decoration-color: #808000\">answers</span>=<span style=\"font-weight: bold\">[</span>\n",
                            "        <span style=\"color: #800080; text-decoration-color: #800080; font-weight: bold\">RAGAnswerItem</span><span style=\"font-weight: bold\">(</span>\n",
                            "            <span style=\"color: #808000; text-decoration-color: #808000\">answer</span>=<span style=\"color: #008000; text-decoration-color: #008000\">'The IBM lab in Zurich is located in Rüschlikon, Switzerland.'</span>,\n",
                            "            <span style=\"color: #808000; text-decoration-color: #808000\">grounding</span>=<span style=\"color: #800080; text-decoration-color: #800080; font-weight: bold\">RAGGroundingInfo</span><span style=\"font-weight: bold\">(</span>\n",
                            "                <span style=\"color: #808000; text-decoration-color: #808000\">items</span>=<span style=\"font-weight: bold\">[</span>\n",
                            "                    <span style=\"color: #800080; text-decoration-color: #800080; font-weight: bold\">SearchResultItem</span><span style=\"font-weight: bold\">(</span>\n",
                            "                        <span style=\"color: #808000; text-decoration-color: #808000\">doc_hash</span>=<span style=\"color: #008000; text-decoration-color: #008000\">'b30bc667a324ae111d025526563b674a8d3fd869bc07c8fd204aa95b05d41f0c'</span>,\n",
                            "                        <span style=\"color: #808000; text-decoration-color: #808000\">path_in_doc</span>=<span style=\"color: #008000; text-decoration-color: #008000\">'main-text.70'</span>,\n",
                            "                        <span style=\"color: #808000; text-decoration-color: #808000\">passage</span>=<span style=\"color: #008000; text-decoration-color: #008000\">'Switzerland\\nIBM Research-Zurich (previously called IBM Zurich Research </span>\n",
                            "<span style=\"color: #008000; text-decoration-color: #008000\">Laboratory, ZRL) is the European branch of IBM Research. It was opened in 1956 and is located in Rüschlikon, near </span>\n",
                            "<span style=\"color: #008000; text-decoration-color: #008000\">Zurich, Switzerland.'</span>,\n",
                            "                        <span style=\"color: #808000; text-decoration-color: #808000\">source_is_text</span>=<span style=\"color: #00ff00; text-decoration-color: #00ff00; font-style: italic\">True</span>\n",
                            "                    <span style=\"font-weight: bold\">)</span>\n",
                            "                <span style=\"font-weight: bold\">]</span>\n",
                            "            <span style=\"font-weight: bold\">)</span>\n",
                            "        <span style=\"font-weight: bold\">)</span>\n",
                            "    <span style=\"font-weight: bold\">]</span>,\n",
                            "    <span style=\"color: #808000; text-decoration-color: #808000\">search_result_items</span>=<span style=\"font-weight: bold\">[</span>\n",
                            "        <span style=\"color: #800080; text-decoration-color: #800080; font-weight: bold\">SearchResultItem</span><span style=\"font-weight: bold\">(</span>\n",
                            "            <span style=\"color: #808000; text-decoration-color: #808000\">doc_hash</span>=<span style=\"color: #008000; text-decoration-color: #008000\">'b30bc667a324ae111d025526563b674a8d3fd869bc07c8fd204aa95b05d41f0c'</span>,\n",
                            "            <span style=\"color: #808000; text-decoration-color: #808000\">path_in_doc</span>=<span style=\"color: #008000; text-decoration-color: #008000\">'main-text.70'</span>,\n",
                            "            <span style=\"color: #808000; text-decoration-color: #808000\">passage</span>=<span style=\"color: #008000; text-decoration-color: #008000\">'Switzerland\\nIBM Research-Zurich (previously called IBM Zurich Research Laboratory, ZRL) is </span>\n",
                            "<span style=\"color: #008000; text-decoration-color: #008000\">the European branch of IBM Research. It was opened in 1956 and is located in Rüschlikon, near Zurich, </span>\n",
                            "<span style=\"color: #008000; text-decoration-color: #008000\">Switzerland.'</span>,\n",
                            "            <span style=\"color: #808000; text-decoration-color: #808000\">source_is_text</span>=<span style=\"color: #00ff00; text-decoration-color: #00ff00; font-style: italic\">True</span>\n",
                            "        <span style=\"font-weight: bold\">)</span>,\n",
                            "        <span style=\"color: #800080; text-decoration-color: #800080; font-weight: bold\">SearchResultItem</span><span style=\"font-weight: bold\">(</span>\n",
                            "            <span style=\"color: #808000; text-decoration-color: #808000\">doc_hash</span>=<span style=\"color: #008000; text-decoration-color: #008000\">'b30bc667a324ae111d025526563b674a8d3fd869bc07c8fd204aa95b05d41f0c'</span>,\n",
                            "            <span style=\"color: #808000; text-decoration-color: #808000\">path_in_doc</span>=<span style=\"color: #008000; text-decoration-color: #008000\">'main-text.71'</span>,\n",
                            "            <span style=\"color: #808000; text-decoration-color: #808000\">passage</span>=<span style=\"color: #008000; text-decoration-color: #008000\">'Switzerland\\nIn 1956, IBM opened their first European research laboratory in Adliswil, </span>\n",
                            "<span style=\"color: #008000; text-decoration-color: #008000\">Switzerland, near Zurich. The lab moved to its own campus in neighboring Rüschlikon in 1962. The Zurich lab is </span>\n",
                            "<span style=\"color: #008000; text-decoration-color: #008000\">staffed by a multicultural and interdisciplinary team of a few hundred permanent research staff members, graduate </span>\n",
                            "<span style=\"color: #008000; text-decoration-color: #008000\">students and post-doctoral fellows, representing about 45 nationalities. Collocated with the lab is a Client Center</span>\n",
                            "<span style=\"color: #008000; text-decoration-color: #008000\">(formerly the Industry Solutions Lab), an executive briefing facility demonstrating technology prototypes and </span>\n",
                            "<span style=\"color: #008000; text-decoration-color: #008000\">solutions.'</span>,\n",
                            "            <span style=\"color: #808000; text-decoration-color: #808000\">source_is_text</span>=<span style=\"color: #00ff00; text-decoration-color: #00ff00; font-style: italic\">True</span>\n",
                            "        <span style=\"font-weight: bold\">)</span>,\n",
                            "        <span style=\"color: #800080; text-decoration-color: #800080; font-weight: bold\">SearchResultItem</span><span style=\"font-weight: bold\">(</span>\n",
                            "            <span style=\"color: #808000; text-decoration-color: #808000\">doc_hash</span>=<span style=\"color: #008000; text-decoration-color: #008000\">'b30bc667a324ae111d025526563b674a8d3fd869bc07c8fd204aa95b05d41f0c'</span>,\n",
                            "            <span style=\"color: #808000; text-decoration-color: #808000\">path_in_doc</span>=<span style=\"color: #008000; text-decoration-color: #008000\">'main-text.74'</span>,\n",
                            "            <span style=\"color: #808000; text-decoration-color: #808000\">passage</span>=<span style=\"color: #008000; text-decoration-color: #008000\">'Switzerland\\nThe research projects pursued at the IBM Zurich lab are organized into four </span>\n",
                            "<span style=\"color: #008000; text-decoration-color: #008000\">scientific and technical departments: Science &amp; Technology, Cloud and AI Systems Research, Cognitive Computing &amp; </span>\n",
                            "<span style=\"color: #008000; text-decoration-color: #008000\">Industry Solutions and Security Research. The lab is currently managed by Alessandro Curioni.'</span>,\n",
                            "            <span style=\"color: #808000; text-decoration-color: #808000\">source_is_text</span>=<span style=\"color: #00ff00; text-decoration-color: #00ff00; font-style: italic\">True</span>\n",
                            "        <span style=\"font-weight: bold\">)</span>\n",
                            "    <span style=\"font-weight: bold\">]</span>\n",
                            "<span style=\"font-weight: bold\">)</span>\n",
                            "</pre>\n"
                        ],
                        "text/plain": [
                            "\u001b[1;35mRAGResult\u001b[0m\u001b[1m(\u001b[0m\n",
                            "    \u001b[33manswers\u001b[0m=\u001b[1m[\u001b[0m\n",
                            "        \u001b[1;35mRAGAnswerItem\u001b[0m\u001b[1m(\u001b[0m\n",
                            "            \u001b[33manswer\u001b[0m=\u001b[32m'The IBM lab in Zurich is located in Rüschlikon, Switzerland.'\u001b[0m,\n",
                            "            \u001b[33mgrounding\u001b[0m=\u001b[1;35mRAGGroundingInfo\u001b[0m\u001b[1m(\u001b[0m\n",
                            "                \u001b[33mitems\u001b[0m=\u001b[1m[\u001b[0m\n",
                            "                    \u001b[1;35mSearchResultItem\u001b[0m\u001b[1m(\u001b[0m\n",
                            "                        \u001b[33mdoc_hash\u001b[0m=\u001b[32m'b30bc667a324ae111d025526563b674a8d3fd869bc07c8fd204aa95b05d41f0c'\u001b[0m,\n",
                            "                        \u001b[33mpath_in_doc\u001b[0m=\u001b[32m'main-text.70'\u001b[0m,\n",
                            "                        \u001b[33mpassage\u001b[0m=\u001b[32m'Switzerland\\nIBM Research-Zurich \u001b[0m\u001b[32m(\u001b[0m\u001b[32mpreviously called IBM Zurich Research \u001b[0m\n",
                            "\u001b[32mLaboratory, ZRL\u001b[0m\u001b[32m)\u001b[0m\u001b[32m is the European branch of IBM Research. It was opened in 1956 and is located in Rüschlikon, near \u001b[0m\n",
                            "\u001b[32mZurich, Switzerland.'\u001b[0m,\n",
                            "                        \u001b[33msource_is_text\u001b[0m=\u001b[3;92mTrue\u001b[0m\n",
                            "                    \u001b[1m)\u001b[0m\n",
                            "                \u001b[1m]\u001b[0m\n",
                            "            \u001b[1m)\u001b[0m\n",
                            "        \u001b[1m)\u001b[0m\n",
                            "    \u001b[1m]\u001b[0m,\n",
                            "    \u001b[33msearch_result_items\u001b[0m=\u001b[1m[\u001b[0m\n",
                            "        \u001b[1;35mSearchResultItem\u001b[0m\u001b[1m(\u001b[0m\n",
                            "            \u001b[33mdoc_hash\u001b[0m=\u001b[32m'b30bc667a324ae111d025526563b674a8d3fd869bc07c8fd204aa95b05d41f0c'\u001b[0m,\n",
                            "            \u001b[33mpath_in_doc\u001b[0m=\u001b[32m'main-text.70'\u001b[0m,\n",
                            "            \u001b[33mpassage\u001b[0m=\u001b[32m'Switzerland\\nIBM Research-Zurich \u001b[0m\u001b[32m(\u001b[0m\u001b[32mpreviously called IBM Zurich Research Laboratory, ZRL\u001b[0m\u001b[32m)\u001b[0m\u001b[32m is \u001b[0m\n",
                            "\u001b[32mthe European branch of IBM Research. It was opened in 1956 and is located in Rüschlikon, near Zurich, \u001b[0m\n",
                            "\u001b[32mSwitzerland.'\u001b[0m,\n",
                            "            \u001b[33msource_is_text\u001b[0m=\u001b[3;92mTrue\u001b[0m\n",
                            "        \u001b[1m)\u001b[0m,\n",
                            "        \u001b[1;35mSearchResultItem\u001b[0m\u001b[1m(\u001b[0m\n",
                            "            \u001b[33mdoc_hash\u001b[0m=\u001b[32m'b30bc667a324ae111d025526563b674a8d3fd869bc07c8fd204aa95b05d41f0c'\u001b[0m,\n",
                            "            \u001b[33mpath_in_doc\u001b[0m=\u001b[32m'main-text.71'\u001b[0m,\n",
                            "            \u001b[33mpassage\u001b[0m=\u001b[32m'Switzerland\\nIn 1956, IBM opened their first European research laboratory in Adliswil, \u001b[0m\n",
                            "\u001b[32mSwitzerland, near Zurich. The lab moved to its own campus in neighboring Rüschlikon in 1962. The Zurich lab is \u001b[0m\n",
                            "\u001b[32mstaffed by a multicultural and interdisciplinary team of a few hundred permanent research staff members, graduate \u001b[0m\n",
                            "\u001b[32mstudents and post-doctoral fellows, representing about 45 nationalities. Collocated with the lab is a Client Center\u001b[0m\n",
                            "\u001b[32m(\u001b[0m\u001b[32mformerly the Industry Solutions Lab\u001b[0m\u001b[32m)\u001b[0m\u001b[32m, an executive briefing facility demonstrating technology prototypes and \u001b[0m\n",
                            "\u001b[32msolutions.'\u001b[0m,\n",
                            "            \u001b[33msource_is_text\u001b[0m=\u001b[3;92mTrue\u001b[0m\n",
                            "        \u001b[1m)\u001b[0m,\n",
                            "        \u001b[1;35mSearchResultItem\u001b[0m\u001b[1m(\u001b[0m\n",
                            "            \u001b[33mdoc_hash\u001b[0m=\u001b[32m'b30bc667a324ae111d025526563b674a8d3fd869bc07c8fd204aa95b05d41f0c'\u001b[0m,\n",
                            "            \u001b[33mpath_in_doc\u001b[0m=\u001b[32m'main-text.74'\u001b[0m,\n",
                            "            \u001b[33mpassage\u001b[0m=\u001b[32m'Switzerland\\nThe research projects pursued at the IBM Zurich lab are organized into four \u001b[0m\n",
                            "\u001b[32mscientific and technical departments: Science & Technology, Cloud and AI Systems Research, Cognitive Computing & \u001b[0m\n",
                            "\u001b[32mIndustry Solutions and Security Research. The lab is currently managed by Alessandro Curioni.'\u001b[0m,\n",
                            "            \u001b[33msource_is_text\u001b[0m=\u001b[3;92mTrue\u001b[0m\n",
                            "        \u001b[1m)\u001b[0m\n",
                            "    \u001b[1m]\u001b[0m\n",
                            "\u001b[1m)\u001b[0m\n"
                        ]
                    },
                    "metadata": {},
                    "output_type": "display_data"
                }
            ],
            "source": [
                "question = \"Where is the IBM lab in Zurich?\"\n",
                "\n",
                "# submit natural-language query on collection\n",
                "question_query = CorpusRAGQuery(\n",
                "    question=question,\n",
                "    project=PROJ_KEY,\n",
                "    index_key=INDEX_KEY,\n",
                "\n",
                "    ## optional retrieval params\n",
                "    retr_k=RETR_K,\n",
                "    # text_weight=TEXT_WEIGHT,\n",
                "    # rerank=RERANK,\n",
                "\n",
                "    ## optional generation params\n",
                "    # model_id=\"ibm-mistralai/mixtral-8x7b-instruct-v01-q\",\n",
                "    # gen_params={\"random_seed\": 42, \"max_new_tokens\": 1024},\n",
                "    # prompt_template=\"Answer the query based on the context.\\n\\nContext: {{ context }}\\n\\nQuery: {{ query }}\",\n",
                ")\n",
                "api_output = api.queries.run(question_query)\n",
                "rag_result = RAGResult.from_api_output(api_output, raise_on_error=RAISE)\n",
                "\n",
                "rich.print(rag_result)\n"
            ]
        },
        {
            "cell_type": "markdown",
            "metadata": {},
            "source": [
                "Additionally, we can generate a provenance URL to the document in the Deep Search UI:"
            ]
        },
        {
            "cell_type": "code",
            "execution_count": 9,
            "metadata": {},
            "outputs": [
                {
                    "data": {
                        "text/markdown": [
                            "The provenance of the answer can be inspected on the [source document](https://sds.app.accelerate.science/projects/b09ae7561a01dc7c4b0fd21a43bfd93d140766d1/library/private/6b70072911ad2794a3844dd44d1705a5ba37ca0b?search=JTdCJTIycHJpdmF0ZUNvbGxlY3Rpb24lMjIlM0ElMjI2YjcwMDcyOTExYWQyNzk0YTM4NDRkZDQ0ZDE3MDVhNWJhMzdjYTBiJTIyJTJDJTIydHlwZSUyMiUzQSUyMkRvY3VtZW50JTIyJTJDJTIyZXhwcmVzc2lvbiUyMiUzQSUyMmZpbGUtaW5mby5kb2N1bWVudC1oYXNoJTNBJTIwJTVDJTIyYjMwYmM2NjdhMzI0YWUxMTFkMDI1NTI2NTYzYjY3NGE4ZDNmZDg2OWJjMDdjOGZkMjA0YWE5NWIwNWQ0MWYwYyU1QyUyMiUyMiUyQyUyMmZpbHRlcnMlMjIlM0ElNUIlNUQlMkMlMjJzZWxlY3QlMjIlM0ElNUIlMjJfbmFtZSUyMiUyQyUyMmRlc2NyaXB0aW9uLmNvbGxlY3Rpb24lMjIlMkMlMjJwcm92JTIyJTJDJTIyZGVzY3JpcHRpb24udGl0bGUlMjIlMkMlMjJkZXNjcmlwdGlvbi5wdWJsaWNhdGlvbl9kYXRlJTIyJTJDJTIyZGVzY3JpcHRpb24udXJsX3JlZnMlMjIlNUQlMkMlMjJpdGVtSW5kZXglMjIlM0EwJTJDJTIycGFnZVNpemUlMjIlM0ExMCUyQyUyMnNlYXJjaEFmdGVySGlzdG9yeSUyMiUzQSU1QiU1RCUyQyUyMnZpZXdUeXBlJTIyJTNBJTIyc25pcHBldHMlMjIlMkMlMjJyZWNvcmRTZWxlY3Rpb24lMjIlM0ElN0IlMjJyZWNvcmQlMjIlM0ElN0IlMjJpZCUyMiUzQSUyMmIzMGJjNjY3YTMyNGFlMTExZDAyNTUyNjU2M2I2NzRhOGQzZmQ4NjliYzA3YzhmZDIwNGFhOTViMDVkNDFmMGMlMjIlN0QlMkMlMjJpdGVtSW5kZXglMjIlM0E3MCU3RCU3RA%3D%3D)."
                        ],
                        "text/plain": [
                            "<IPython.core.display.Markdown object>"
                        ]
                    },
                    "metadata": {},
                    "output_type": "display_data"
                }
            ],
            "source": [
                "render_provenance_url(api=api, coords=coll_coords, retr_item=rag_result.answers[0].grounding.items[0])"
            ]
        },
        {
            "cell_type": "markdown",
            "metadata": {},
            "source": [
                "Let us try out a different question on our document corpus.\n",
                "Here we also illustrate some further parameters the user can optionally set:\n",
                "- `retr_k`: number of items to retrieve\n",
                "- `text_weight`: weight of lexical search (`0.0`: fully semantic search, `1.0`: fully lexical search, anything in-between: hybrid search)\n",
                "- `rerank`: whether to rerank the retrieval results"
            ]
        },
        {
            "cell_type": "code",
            "execution_count": 10,
            "id": "89d95a17-1569-4c90-a983-8ca437b7569d",
            "metadata": {},
            "outputs": [
                {
                    "data": {
                        "text/html": [
                            "<pre style=\"white-space:pre;overflow-x:auto;line-height:normal;font-family:Menlo,'DejaVu Sans Mono',consolas,'Courier New',monospace\"><span style=\"color: #800080; text-decoration-color: #800080; font-weight: bold\">RAGResult</span><span style=\"font-weight: bold\">(</span>\n",
                            "    <span style=\"color: #808000; text-decoration-color: #808000\">answers</span>=<span style=\"font-weight: bold\">[</span>\n",
                            "        <span style=\"color: #800080; text-decoration-color: #800080; font-weight: bold\">RAGAnswerItem</span><span style=\"font-weight: bold\">(</span>\n",
                            "            <span style=\"color: #808000; text-decoration-color: #808000\">answer</span>=<span style=\"color: #008000; text-decoration-color: #008000\">'The term machine learning was coined in 1959 by Arthur Samuel, an IBM employee and pioneer in </span>\n",
                            "<span style=\"color: #008000; text-decoration-color: #008000\">the field of computer gaming and artificial intelligence.'</span>,\n",
                            "            <span style=\"color: #808000; text-decoration-color: #808000\">grounding</span>=<span style=\"color: #800080; text-decoration-color: #800080; font-weight: bold\">RAGGroundingInfo</span><span style=\"font-weight: bold\">(</span>\n",
                            "                <span style=\"color: #808000; text-decoration-color: #808000\">items</span>=<span style=\"font-weight: bold\">[</span>\n",
                            "                    <span style=\"color: #800080; text-decoration-color: #800080; font-weight: bold\">SearchResultItem</span><span style=\"font-weight: bold\">(</span>\n",
                            "                        <span style=\"color: #808000; text-decoration-color: #808000\">doc_hash</span>=<span style=\"color: #008000; text-decoration-color: #008000\">'e470e7b42a92c8e5f25094362361947b9203e0074c2223505b4921940ec075a1'</span>,\n",
                            "                        <span style=\"color: #808000; text-decoration-color: #808000\">path_in_doc</span>=<span style=\"color: #008000; text-decoration-color: #008000\">'main-text.6'</span>,\n",
                            "                        <span style=\"color: #808000; text-decoration-color: #808000\">passage</span>=<span style=\"color: #008000; text-decoration-color: #008000\">'History and relationships to other fields\\nThe term machine learning was coined in</span>\n",
                            "<span style=\"color: #008000; text-decoration-color: #008000\">1959 by Arthur Samuel, an IBM employee and pioneer in the field of computer gaming and artificial intelligence. </span>\n",
                            "<span style=\"color: #008000; text-decoration-color: #008000\">$^{[10][11]}$ The synonym self-teaching computers was also used in this time period. [12][13]'</span>,\n",
                            "                        <span style=\"color: #808000; text-decoration-color: #808000\">source_is_text</span>=<span style=\"color: #00ff00; text-decoration-color: #00ff00; font-style: italic\">True</span>\n",
                            "                    <span style=\"font-weight: bold\">)</span>\n",
                            "                <span style=\"font-weight: bold\">]</span>\n",
                            "            <span style=\"font-weight: bold\">)</span>\n",
                            "        <span style=\"font-weight: bold\">)</span>\n",
                            "    <span style=\"font-weight: bold\">]</span>,\n",
                            "    <span style=\"color: #808000; text-decoration-color: #808000\">search_result_items</span>=<span style=\"font-weight: bold\">[</span>\n",
                            "        <span style=\"color: #800080; text-decoration-color: #800080; font-weight: bold\">SearchResultItem</span><span style=\"font-weight: bold\">(</span>\n",
                            "            <span style=\"color: #808000; text-decoration-color: #808000\">doc_hash</span>=<span style=\"color: #008000; text-decoration-color: #008000\">'e470e7b42a92c8e5f25094362361947b9203e0074c2223505b4921940ec075a1'</span>,\n",
                            "            <span style=\"color: #808000; text-decoration-color: #808000\">path_in_doc</span>=<span style=\"color: #008000; text-decoration-color: #008000\">'main-text.6'</span>,\n",
                            "            <span style=\"color: #808000; text-decoration-color: #808000\">passage</span>=<span style=\"color: #008000; text-decoration-color: #008000\">'History and relationships to other fields\\nThe term machine learning was coined in 1959 by </span>\n",
                            "<span style=\"color: #008000; text-decoration-color: #008000\">Arthur Samuel, an IBM employee and pioneer in the field of computer gaming and artificial intelligence. </span>\n",
                            "<span style=\"color: #008000; text-decoration-color: #008000\">$^{[10][11]}$ The synonym self-teaching computers was also used in this time period. [12][13]'</span>,\n",
                            "            <span style=\"color: #808000; text-decoration-color: #808000\">source_is_text</span>=<span style=\"color: #00ff00; text-decoration-color: #00ff00; font-style: italic\">True</span>\n",
                            "        <span style=\"font-weight: bold\">)</span>,\n",
                            "        <span style=\"color: #800080; text-decoration-color: #800080; font-weight: bold\">SearchResultItem</span><span style=\"font-weight: bold\">(</span>\n",
                            "            <span style=\"color: #808000; text-decoration-color: #808000\">doc_hash</span>=<span style=\"color: #008000; text-decoration-color: #008000\">'b60a87c1d62a59d517f2fd6f2d3ea1a96c58b651332a8b3e32366e945d1050be'</span>,\n",
                            "            <span style=\"color: #808000; text-decoration-color: #808000\">path_in_doc</span>=<span style=\"color: #008000; text-decoration-color: #008000\">'main-text.24'</span>,\n",
                            "            <span style=\"color: #808000; text-decoration-color: #808000\">passage</span>=<span style=\"color: #008000; text-decoration-color: #008000\">'Learning\\nMachine learning is the study of programs that can improve their performance on a </span>\n",
                            "<span style=\"color: #008000; text-decoration-color: #008000\">given task automatically. $^{[39]}$ It has been a part of AI from the beginning.[e]'</span>,\n",
                            "            <span style=\"color: #808000; text-decoration-color: #808000\">source_is_text</span>=<span style=\"color: #00ff00; text-decoration-color: #00ff00; font-style: italic\">True</span>\n",
                            "        <span style=\"font-weight: bold\">)</span>,\n",
                            "        <span style=\"color: #800080; text-decoration-color: #800080; font-weight: bold\">SearchResultItem</span><span style=\"font-weight: bold\">(</span>\n",
                            "            <span style=\"color: #808000; text-decoration-color: #808000\">doc_hash</span>=<span style=\"color: #008000; text-decoration-color: #008000\">'e470e7b42a92c8e5f25094362361947b9203e0074c2223505b4921940ec075a1'</span>,\n",
                            "            <span style=\"color: #808000; text-decoration-color: #808000\">path_in_doc</span>=<span style=\"color: #008000; text-decoration-color: #008000\">'main-text.15'</span>,\n",
                            "            <span style=\"color: #808000; text-decoration-color: #808000\">passage</span>=<span style=\"color: #008000; text-decoration-color: #008000\">'Artificial intelligence\\nMachine learning (ML), reorganized and recognized as its own field, </span>\n",
                            "<span style=\"color: #008000; text-decoration-color: #008000\">started to flourish in the 1990s. The field changed its goal from achieving artificial intelligence to tackling </span>\n",
                            "<span style=\"color: #008000; text-decoration-color: #008000\">solvable problems of a practical nature. It shifted focus away from the symbolic approaches it had inherited from </span>\n",
                            "<span style=\"color: #008000; text-decoration-color: #008000\">AI, and toward methods and models borrowed from statistics, fuzzy logic, and probability theory. [24]'</span>,\n",
                            "            <span style=\"color: #808000; text-decoration-color: #808000\">source_is_text</span>=<span style=\"color: #00ff00; text-decoration-color: #00ff00; font-style: italic\">True</span>\n",
                            "        <span style=\"font-weight: bold\">)</span>\n",
                            "    <span style=\"font-weight: bold\">]</span>\n",
                            "<span style=\"font-weight: bold\">)</span>\n",
                            "</pre>\n"
                        ],
                        "text/plain": [
                            "\u001b[1;35mRAGResult\u001b[0m\u001b[1m(\u001b[0m\n",
                            "    \u001b[33manswers\u001b[0m=\u001b[1m[\u001b[0m\n",
                            "        \u001b[1;35mRAGAnswerItem\u001b[0m\u001b[1m(\u001b[0m\n",
                            "            \u001b[33manswer\u001b[0m=\u001b[32m'The term machine learning was coined in 1959 by Arthur Samuel, an IBM employee and pioneer in \u001b[0m\n",
                            "\u001b[32mthe field of computer gaming and artificial intelligence.'\u001b[0m,\n",
                            "            \u001b[33mgrounding\u001b[0m=\u001b[1;35mRAGGroundingInfo\u001b[0m\u001b[1m(\u001b[0m\n",
                            "                \u001b[33mitems\u001b[0m=\u001b[1m[\u001b[0m\n",
                            "                    \u001b[1;35mSearchResultItem\u001b[0m\u001b[1m(\u001b[0m\n",
                            "                        \u001b[33mdoc_hash\u001b[0m=\u001b[32m'e470e7b42a92c8e5f25094362361947b9203e0074c2223505b4921940ec075a1'\u001b[0m,\n",
                            "                        \u001b[33mpath_in_doc\u001b[0m=\u001b[32m'main-text.6'\u001b[0m,\n",
                            "                        \u001b[33mpassage\u001b[0m=\u001b[32m'History and relationships to other fields\\nThe term machine learning was coined in\u001b[0m\n",
                            "\u001b[32m1959 by Arthur Samuel, an IBM employee and pioneer in the field of computer gaming and artificial intelligence. \u001b[0m\n",
                            "\u001b[32m$^\u001b[0m\u001b[32m{\u001b[0m\u001b[32m[\u001b[0m\u001b[32m10\u001b[0m\u001b[32m]\u001b[0m\u001b[32m[\u001b[0m\u001b[32m11\u001b[0m\u001b[32m]\u001b[0m\u001b[32m}\u001b[0m\u001b[32m$ The synonym self-teaching computers was also used in this time period. \u001b[0m\u001b[32m[\u001b[0m\u001b[32m12\u001b[0m\u001b[32m]\u001b[0m\u001b[32m[\u001b[0m\u001b[32m13\u001b[0m\u001b[32m]\u001b[0m\u001b[32m'\u001b[0m,\n",
                            "                        \u001b[33msource_is_text\u001b[0m=\u001b[3;92mTrue\u001b[0m\n",
                            "                    \u001b[1m)\u001b[0m\n",
                            "                \u001b[1m]\u001b[0m\n",
                            "            \u001b[1m)\u001b[0m\n",
                            "        \u001b[1m)\u001b[0m\n",
                            "    \u001b[1m]\u001b[0m,\n",
                            "    \u001b[33msearch_result_items\u001b[0m=\u001b[1m[\u001b[0m\n",
                            "        \u001b[1;35mSearchResultItem\u001b[0m\u001b[1m(\u001b[0m\n",
                            "            \u001b[33mdoc_hash\u001b[0m=\u001b[32m'e470e7b42a92c8e5f25094362361947b9203e0074c2223505b4921940ec075a1'\u001b[0m,\n",
                            "            \u001b[33mpath_in_doc\u001b[0m=\u001b[32m'main-text.6'\u001b[0m,\n",
                            "            \u001b[33mpassage\u001b[0m=\u001b[32m'History and relationships to other fields\\nThe term machine learning was coined in 1959 by \u001b[0m\n",
                            "\u001b[32mArthur Samuel, an IBM employee and pioneer in the field of computer gaming and artificial intelligence. \u001b[0m\n",
                            "\u001b[32m$^\u001b[0m\u001b[32m{\u001b[0m\u001b[32m[\u001b[0m\u001b[32m10\u001b[0m\u001b[32m]\u001b[0m\u001b[32m[\u001b[0m\u001b[32m11\u001b[0m\u001b[32m]\u001b[0m\u001b[32m}\u001b[0m\u001b[32m$ The synonym self-teaching computers was also used in this time period. \u001b[0m\u001b[32m[\u001b[0m\u001b[32m12\u001b[0m\u001b[32m]\u001b[0m\u001b[32m[\u001b[0m\u001b[32m13\u001b[0m\u001b[32m]\u001b[0m\u001b[32m'\u001b[0m,\n",
                            "            \u001b[33msource_is_text\u001b[0m=\u001b[3;92mTrue\u001b[0m\n",
                            "        \u001b[1m)\u001b[0m,\n",
                            "        \u001b[1;35mSearchResultItem\u001b[0m\u001b[1m(\u001b[0m\n",
                            "            \u001b[33mdoc_hash\u001b[0m=\u001b[32m'b60a87c1d62a59d517f2fd6f2d3ea1a96c58b651332a8b3e32366e945d1050be'\u001b[0m,\n",
                            "            \u001b[33mpath_in_doc\u001b[0m=\u001b[32m'main-text.24'\u001b[0m,\n",
                            "            \u001b[33mpassage\u001b[0m=\u001b[32m'Learning\\nMachine learning is the study of programs that can improve their performance on a \u001b[0m\n",
                            "\u001b[32mgiven task automatically. $^\u001b[0m\u001b[32m{\u001b[0m\u001b[32m[\u001b[0m\u001b[32m39\u001b[0m\u001b[32m]\u001b[0m\u001b[32m}\u001b[0m\u001b[32m$ It has been a part of AI from the beginning.\u001b[0m\u001b[32m[\u001b[0m\u001b[32me\u001b[0m\u001b[32m]\u001b[0m\u001b[32m'\u001b[0m,\n",
                            "            \u001b[33msource_is_text\u001b[0m=\u001b[3;92mTrue\u001b[0m\n",
                            "        \u001b[1m)\u001b[0m,\n",
                            "        \u001b[1;35mSearchResultItem\u001b[0m\u001b[1m(\u001b[0m\n",
                            "            \u001b[33mdoc_hash\u001b[0m=\u001b[32m'e470e7b42a92c8e5f25094362361947b9203e0074c2223505b4921940ec075a1'\u001b[0m,\n",
                            "            \u001b[33mpath_in_doc\u001b[0m=\u001b[32m'main-text.15'\u001b[0m,\n",
                            "            \u001b[33mpassage\u001b[0m=\u001b[32m'Artificial intelligence\\nMachine learning \u001b[0m\u001b[32m(\u001b[0m\u001b[32mML\u001b[0m\u001b[32m)\u001b[0m\u001b[32m, reorganized and recognized as its own field, \u001b[0m\n",
                            "\u001b[32mstarted to flourish in the 1990s. The field changed its goal from achieving artificial intelligence to tackling \u001b[0m\n",
                            "\u001b[32msolvable problems of a practical nature. It shifted focus away from the symbolic approaches it had inherited from \u001b[0m\n",
                            "\u001b[32mAI, and toward methods and models borrowed from statistics, fuzzy logic, and probability theory. \u001b[0m\u001b[32m[\u001b[0m\u001b[32m24\u001b[0m\u001b[32m]\u001b[0m\u001b[32m'\u001b[0m,\n",
                            "            \u001b[33msource_is_text\u001b[0m=\u001b[3;92mTrue\u001b[0m\n",
                            "        \u001b[1m)\u001b[0m\n",
                            "    \u001b[1m]\u001b[0m\n",
                            "\u001b[1m)\u001b[0m\n"
                        ]
                    },
                    "metadata": {},
                    "output_type": "display_data"
                }
            ],
            "source": [
                "question = \"Who came up with the term 'machine learning'?\"\n",
                "\n",
                "# submit natural-language query on collection\n",
                "question_query = CorpusRAGQuery(\n",
                "    question=question,\n",
                "    project=PROJ_KEY,\n",
                "    index_key=INDEX_KEY,\n",
                "\n",
                "    ## optional retrieval params\n",
                "    retr_k=RETR_K,\n",
                "    # text_weight=TEXT_WEIGHT,\n",
                "    # rerank=RERANK,\n",
                "\n",
                "    ## optional generation params\n",
                "    # model_id=\"ibm-mistralai/mixtral-8x7b-instruct-v01-q\",\n",
                "    # gen_params={\"random_seed\": 42, \"max_new_tokens\": 1024},\n",
                "    # prompt_template=\"Answer the query based on the context.\\n\\nContext: {{ context }}\\n\\nQuery: {{ query }}\",\n",
                ")\n",
                "api_output = api.queries.run(question_query)\n",
                "rag_result = RAGResult.from_api_output(api_output, raise_on_error=RAISE)\n",
                "\n",
                "rich.print(rag_result)"
            ]
        },
        {
            "cell_type": "markdown",
            "metadata": {},
            "source": [
                "As seen by the returned `doc_hash`, this answer came from a different document than the previous one."
            ]
        },
        {
            "cell_type": "code",
            "execution_count": 11,
            "metadata": {},
            "outputs": [
                {
                    "data": {
                        "text/markdown": [
                            "The provenance of the answer can be inspected on the [source document](https://sds.app.accelerate.science/projects/b09ae7561a01dc7c4b0fd21a43bfd93d140766d1/library/private/6b70072911ad2794a3844dd44d1705a5ba37ca0b?search=JTdCJTIycHJpdmF0ZUNvbGxlY3Rpb24lMjIlM0ElMjI2YjcwMDcyOTExYWQyNzk0YTM4NDRkZDQ0ZDE3MDVhNWJhMzdjYTBiJTIyJTJDJTIydHlwZSUyMiUzQSUyMkRvY3VtZW50JTIyJTJDJTIyZXhwcmVzc2lvbiUyMiUzQSUyMmZpbGUtaW5mby5kb2N1bWVudC1oYXNoJTNBJTIwJTVDJTIyZTQ3MGU3YjQyYTkyYzhlNWYyNTA5NDM2MjM2MTk0N2I5MjAzZTAwNzRjMjIyMzUwNWI0OTIxOTQwZWMwNzVhMSU1QyUyMiUyMiUyQyUyMmZpbHRlcnMlMjIlM0ElNUIlNUQlMkMlMjJzZWxlY3QlMjIlM0ElNUIlMjJfbmFtZSUyMiUyQyUyMmRlc2NyaXB0aW9uLmNvbGxlY3Rpb24lMjIlMkMlMjJwcm92JTIyJTJDJTIyZGVzY3JpcHRpb24udGl0bGUlMjIlMkMlMjJkZXNjcmlwdGlvbi5wdWJsaWNhdGlvbl9kYXRlJTIyJTJDJTIyZGVzY3JpcHRpb24udXJsX3JlZnMlMjIlNUQlMkMlMjJpdGVtSW5kZXglMjIlM0EwJTJDJTIycGFnZVNpemUlMjIlM0ExMCUyQyUyMnNlYXJjaEFmdGVySGlzdG9yeSUyMiUzQSU1QiU1RCUyQyUyMnZpZXdUeXBlJTIyJTNBJTIyc25pcHBldHMlMjIlMkMlMjJyZWNvcmRTZWxlY3Rpb24lMjIlM0ElN0IlMjJyZWNvcmQlMjIlM0ElN0IlMjJpZCUyMiUzQSUyMmU0NzBlN2I0MmE5MmM4ZTVmMjUwOTQzNjIzNjE5NDdiOTIwM2UwMDc0YzIyMjM1MDViNDkyMTk0MGVjMDc1YTElMjIlN0QlMkMlMjJpdGVtSW5kZXglMjIlM0E2JTdEJTdE)."
                        ],
                        "text/plain": [
                            "<IPython.core.display.Markdown object>"
                        ]
                    },
                    "metadata": {},
                    "output_type": "display_data"
                }
            ],
            "source": [
                "render_provenance_url(api=api, coords=coll_coords, retr_item=rag_result.answers[0].grounding.items[0])"
            ]
        },
        {
            "cell_type": "markdown",
            "metadata": {},
            "source": [
                "## Semantic retrieval\n",
                "\n",
                "Besides RAG, which includes natural language generation, a user may only be interested in\n",
                "the semantic retrieval part.\n",
                "\n",
                "This can be obtained very similarly to RAG, as shown below:"
            ]
        },
        {
            "cell_type": "code",
            "execution_count": 12,
            "metadata": {},
            "outputs": [
                {
                    "data": {
                        "text/html": [
                            "<pre style=\"white-space:pre;overflow-x:auto;line-height:normal;font-family:Menlo,'DejaVu Sans Mono',consolas,'Courier New',monospace\"><span style=\"color: #800080; text-decoration-color: #800080; font-weight: bold\">SearchResult</span><span style=\"font-weight: bold\">(</span>\n",
                            "    <span style=\"color: #808000; text-decoration-color: #808000\">search_result_items</span>=<span style=\"font-weight: bold\">[</span>\n",
                            "        <span style=\"color: #800080; text-decoration-color: #800080; font-weight: bold\">SearchResultItem</span><span style=\"font-weight: bold\">(</span>\n",
                            "            <span style=\"color: #808000; text-decoration-color: #808000\">doc_hash</span>=<span style=\"color: #008000; text-decoration-color: #008000\">'b30bc667a324ae111d025526563b674a8d3fd869bc07c8fd204aa95b05d41f0c'</span>,\n",
                            "            <span style=\"color: #808000; text-decoration-color: #808000\">path_in_doc</span>=<span style=\"color: #008000; text-decoration-color: #008000\">'main-text.70'</span>,\n",
                            "            <span style=\"color: #808000; text-decoration-color: #808000\">passage</span>=<span style=\"color: #008000; text-decoration-color: #008000\">'Switzerland\\nIBM Research-Zurich (previously called IBM Zurich Research Laboratory, ZRL) is </span>\n",
                            "<span style=\"color: #008000; text-decoration-color: #008000\">the European branch of IBM Research. It was opened in 1956 and is located in Rüschlikon, near Zurich, </span>\n",
                            "<span style=\"color: #008000; text-decoration-color: #008000\">Switzerland.'</span>,\n",
                            "            <span style=\"color: #808000; text-decoration-color: #808000\">source_is_text</span>=<span style=\"color: #00ff00; text-decoration-color: #00ff00; font-style: italic\">True</span>\n",
                            "        <span style=\"font-weight: bold\">)</span>,\n",
                            "        <span style=\"color: #800080; text-decoration-color: #800080; font-weight: bold\">SearchResultItem</span><span style=\"font-weight: bold\">(</span>\n",
                            "            <span style=\"color: #808000; text-decoration-color: #808000\">doc_hash</span>=<span style=\"color: #008000; text-decoration-color: #008000\">'b30bc667a324ae111d025526563b674a8d3fd869bc07c8fd204aa95b05d41f0c'</span>,\n",
                            "            <span style=\"color: #808000; text-decoration-color: #808000\">path_in_doc</span>=<span style=\"color: #008000; text-decoration-color: #008000\">'main-text.71'</span>,\n",
                            "            <span style=\"color: #808000; text-decoration-color: #808000\">passage</span>=<span style=\"color: #008000; text-decoration-color: #008000\">'Switzerland\\nIn 1956, IBM opened their first European research laboratory in Adliswil, </span>\n",
                            "<span style=\"color: #008000; text-decoration-color: #008000\">Switzerland, near Zurich. The lab moved to its own campus in neighboring Rüschlikon in 1962. The Zurich lab is </span>\n",
                            "<span style=\"color: #008000; text-decoration-color: #008000\">staffed by a multicultural and interdisciplinary team of a few hundred permanent research staff members, graduate </span>\n",
                            "<span style=\"color: #008000; text-decoration-color: #008000\">students and post-doctoral fellows, representing about 45 nationalities. Collocated with the lab is a Client Center</span>\n",
                            "<span style=\"color: #008000; text-decoration-color: #008000\">(formerly the Industry Solutions Lab), an executive briefing facility demonstrating technology prototypes and </span>\n",
                            "<span style=\"color: #008000; text-decoration-color: #008000\">solutions.'</span>,\n",
                            "            <span style=\"color: #808000; text-decoration-color: #808000\">source_is_text</span>=<span style=\"color: #00ff00; text-decoration-color: #00ff00; font-style: italic\">True</span>\n",
                            "        <span style=\"font-weight: bold\">)</span>,\n",
                            "        <span style=\"color: #800080; text-decoration-color: #800080; font-weight: bold\">SearchResultItem</span><span style=\"font-weight: bold\">(</span>\n",
                            "            <span style=\"color: #808000; text-decoration-color: #808000\">doc_hash</span>=<span style=\"color: #008000; text-decoration-color: #008000\">'b30bc667a324ae111d025526563b674a8d3fd869bc07c8fd204aa95b05d41f0c'</span>,\n",
                            "            <span style=\"color: #808000; text-decoration-color: #808000\">path_in_doc</span>=<span style=\"color: #008000; text-decoration-color: #008000\">'main-text.74'</span>,\n",
                            "            <span style=\"color: #808000; text-decoration-color: #808000\">passage</span>=<span style=\"color: #008000; text-decoration-color: #008000\">'Switzerland\\nThe research projects pursued at the IBM Zurich lab are organized into four </span>\n",
                            "<span style=\"color: #008000; text-decoration-color: #008000\">scientific and technical departments: Science &amp; Technology, Cloud and AI Systems Research, Cognitive Computing &amp; </span>\n",
                            "<span style=\"color: #008000; text-decoration-color: #008000\">Industry Solutions and Security Research. The lab is currently managed by Alessandro Curioni.'</span>,\n",
                            "            <span style=\"color: #808000; text-decoration-color: #808000\">source_is_text</span>=<span style=\"color: #00ff00; text-decoration-color: #00ff00; font-style: italic\">True</span>\n",
                            "        <span style=\"font-weight: bold\">)</span>\n",
                            "    <span style=\"font-weight: bold\">]</span>\n",
                            "<span style=\"font-weight: bold\">)</span>\n",
                            "</pre>\n"
                        ],
                        "text/plain": [
                            "\u001b[1;35mSearchResult\u001b[0m\u001b[1m(\u001b[0m\n",
                            "    \u001b[33msearch_result_items\u001b[0m=\u001b[1m[\u001b[0m\n",
                            "        \u001b[1;35mSearchResultItem\u001b[0m\u001b[1m(\u001b[0m\n",
                            "            \u001b[33mdoc_hash\u001b[0m=\u001b[32m'b30bc667a324ae111d025526563b674a8d3fd869bc07c8fd204aa95b05d41f0c'\u001b[0m,\n",
                            "            \u001b[33mpath_in_doc\u001b[0m=\u001b[32m'main-text.70'\u001b[0m,\n",
                            "            \u001b[33mpassage\u001b[0m=\u001b[32m'Switzerland\\nIBM Research-Zurich \u001b[0m\u001b[32m(\u001b[0m\u001b[32mpreviously called IBM Zurich Research Laboratory, ZRL\u001b[0m\u001b[32m)\u001b[0m\u001b[32m is \u001b[0m\n",
                            "\u001b[32mthe European branch of IBM Research. It was opened in 1956 and is located in Rüschlikon, near Zurich, \u001b[0m\n",
                            "\u001b[32mSwitzerland.'\u001b[0m,\n",
                            "            \u001b[33msource_is_text\u001b[0m=\u001b[3;92mTrue\u001b[0m\n",
                            "        \u001b[1m)\u001b[0m,\n",
                            "        \u001b[1;35mSearchResultItem\u001b[0m\u001b[1m(\u001b[0m\n",
                            "            \u001b[33mdoc_hash\u001b[0m=\u001b[32m'b30bc667a324ae111d025526563b674a8d3fd869bc07c8fd204aa95b05d41f0c'\u001b[0m,\n",
                            "            \u001b[33mpath_in_doc\u001b[0m=\u001b[32m'main-text.71'\u001b[0m,\n",
                            "            \u001b[33mpassage\u001b[0m=\u001b[32m'Switzerland\\nIn 1956, IBM opened their first European research laboratory in Adliswil, \u001b[0m\n",
                            "\u001b[32mSwitzerland, near Zurich. The lab moved to its own campus in neighboring Rüschlikon in 1962. The Zurich lab is \u001b[0m\n",
                            "\u001b[32mstaffed by a multicultural and interdisciplinary team of a few hundred permanent research staff members, graduate \u001b[0m\n",
                            "\u001b[32mstudents and post-doctoral fellows, representing about 45 nationalities. Collocated with the lab is a Client Center\u001b[0m\n",
                            "\u001b[32m(\u001b[0m\u001b[32mformerly the Industry Solutions Lab\u001b[0m\u001b[32m)\u001b[0m\u001b[32m, an executive briefing facility demonstrating technology prototypes and \u001b[0m\n",
                            "\u001b[32msolutions.'\u001b[0m,\n",
                            "            \u001b[33msource_is_text\u001b[0m=\u001b[3;92mTrue\u001b[0m\n",
                            "        \u001b[1m)\u001b[0m,\n",
                            "        \u001b[1;35mSearchResultItem\u001b[0m\u001b[1m(\u001b[0m\n",
                            "            \u001b[33mdoc_hash\u001b[0m=\u001b[32m'b30bc667a324ae111d025526563b674a8d3fd869bc07c8fd204aa95b05d41f0c'\u001b[0m,\n",
                            "            \u001b[33mpath_in_doc\u001b[0m=\u001b[32m'main-text.74'\u001b[0m,\n",
                            "            \u001b[33mpassage\u001b[0m=\u001b[32m'Switzerland\\nThe research projects pursued at the IBM Zurich lab are organized into four \u001b[0m\n",
                            "\u001b[32mscientific and technical departments: Science & Technology, Cloud and AI Systems Research, Cognitive Computing & \u001b[0m\n",
                            "\u001b[32mIndustry Solutions and Security Research. The lab is currently managed by Alessandro Curioni.'\u001b[0m,\n",
                            "            \u001b[33msource_is_text\u001b[0m=\u001b[3;92mTrue\u001b[0m\n",
                            "        \u001b[1m)\u001b[0m\n",
                            "    \u001b[1m]\u001b[0m\n",
                            "\u001b[1m)\u001b[0m\n"
                        ]
                    },
                    "metadata": {},
                    "output_type": "display_data"
                }
            ],
            "source": [
                "question = \"Where is the IBM lab in Zurich?\"\n",
                "\n",
                "# submit natural-language query on collection\n",
                "question_query = CorpusSemanticQuery(\n",
                "    question=question,\n",
                "    project=PROJ_KEY,\n",
                "    index_key=INDEX_KEY,\n",
                "\n",
                "    ## optional params\n",
                "    retr_k=RETR_K,\n",
                "    # text_weight=TEXT_WEIGHT,\n",
                "    # rerank=RERANK,\n",
                ")\n",
                "api_output = api.queries.run(question_query)\n",
                "search_result = SearchResult.from_api_output(api_output, raise_on_error=RAISE)\n",
                "\n",
                "rich.print(search_result)"
            ]
        },
        {
            "cell_type": "code",
            "execution_count": null,
            "metadata": {},
            "outputs": [],
            "source": []
        }
    ],
    "metadata": {
        "kernelspec": {
            "display_name": "Python 3 (ipykernel)",
            "language": "python",
            "name": "python3"
        },
        "language_info": {
            "codemirror_mode": {
                "name": "ipython",
                "version": 3
            },
            "file_extension": ".py",
            "mimetype": "text/x-python",
            "name": "python",
            "nbconvert_exporter": "python",
            "pygments_lexer": "ipython3",
            "version": "3.10.4"
        }
    },
    "nbformat": 4,
    "nbformat_minor": 5
}
