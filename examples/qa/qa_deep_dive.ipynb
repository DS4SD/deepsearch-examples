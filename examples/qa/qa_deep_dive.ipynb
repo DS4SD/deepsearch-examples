{
 "cells": [
  {
   "cell_type": "markdown",
   "id": "99f717ef-4cba-4300-b258-0b1c248cb873",
   "metadata": {},
   "source": [
    "# QA Deep Dive\n",
    "\n",
    "In this QA Deep Dive notebook, we take a closer look at semantic ingestion, RAG, and retrieval, presenting the various customization options, and providing hints to help you make the most out of your QA application.\n",
    "\n",
    "For getting started with basic QA usage, check out [QA Quick Start](./qa_quick_start.ipynb).\n",
    "\n",
    "### Access required\n",
    "\n",
    "The content of this notebook requires access to Deep Search capabilities which are not\n",
    "available on the public access system.\n",
    "\n",
    "[Contact us](https://ds4sd.github.io) if you are interested in exploring\n",
    "these Deep Search capabilities.\n",
    "\n",
    "\n",
    "### GenAI Integration required\n",
    "\n",
    "When interacting with the virtual assistant, Deep Search requires a connection to a Generative AI API. Currently, we support connections to [watsonx.ai](https://www.ibm.com/products/watsonx-ai) or the IBM-internal GenAI platform BAM.\n",
    "\n",
    "Deep Search allows custom GenAI configurations for each project.\n",
    "In the following example you will require to work in a project which has such GenAI capabilities activated."
   ]
  },
  {
   "cell_type": "markdown",
   "id": "256aef50-71a1-4278-9b22-17cb99a6566e",
   "metadata": {},
   "source": [
    "### Set notebook parameters\n"
   ]
  },
  {
   "cell_type": "code",
   "execution_count": 1,
   "id": "5b244bdd-1b52-41ff-b63e-9a203570d210",
   "metadata": {},
   "outputs": [],
   "source": [
    "import os\n",
    "from dotenv import load_dotenv\n",
    "from pydantic import TypeAdapter\n",
    "\n",
    "load_dotenv()\n",
    "\n",
    "PROFILE_NAME = os.environ.get(\"DS_NB_PROFILE\")  # profile to use; defaults to active one\n",
    "PROJ_KEY = os.environ[\"DS_NB_PROJ_KEY\"]  # project to use\n",
    "INDEX_KEY = os.environ[\"DS_NB_QA_IDX_KEY\"]\n",
    "DOC_HASH = os.environ.get(\"DS_NB_QA_DOC_HASH\")  # set only when targeting a specific doc\n",
    "QUESTION = os.environ[\"DS_NB_QUESTION\"]\n",
    "\n",
    "# whether to ingest incrementally:\n",
    "SKIP_INGESTED_DOCS = TypeAdapter(bool).validate_python(\n",
    "    os.environ.get(\"DS_NB_SKIP_INGESTED_DOCS\", True)\n",
    ")\n",
    "RETR_K = os.environ.get(\"DS_NB_RETR_K\", 3)  # number of search results to retrieve\n",
    "GEN_TIMEOUT = os.environ.get(\"DS_NB_GEN_TIMEOUT\", 10)  # generation timeout in seconds"
   ]
  },
  {
   "cell_type": "markdown",
   "id": "a5269060-bb5f-4fe3-9b64-547202db6714",
   "metadata": {},
   "source": [
    "### Import example dependencies"
   ]
  },
  {
   "cell_type": "code",
   "execution_count": 2,
   "id": "5d236ea0-db1c-4171-8e11-cdd0bad69d66",
   "metadata": {},
   "outputs": [],
   "source": [
    "import rich\n",
    "from typing import Union\n",
    "from IPython.display import display, Markdown\n",
    "from deepsearch.cps.client.api import CpsApi\n",
    "from deepsearch.cps.client.components.documents import create_private_data_source\n",
    "from deepsearch.cps.client.components.elastic import (\n",
    "    ElasticDataCollectionSource,\n",
    "    ElasticProjectDataCollectionSource,\n",
    ")\n",
    "from deepsearch.cps.queries import RAGQuery, SemanticQuery\n",
    "from deepsearch.cps.queries.results import RAGResult, SearchResult, SearchResultItem"
   ]
  },
  {
   "cell_type": "markdown",
   "id": "77c2dac3",
   "metadata": {},
   "source": [
    "### Connect to Deep Search"
   ]
  },
  {
   "cell_type": "code",
   "execution_count": 3,
   "id": "9c108432-a285-4c7b-a996-008ac3ff3d7a",
   "metadata": {},
   "outputs": [],
   "source": [
    "api = CpsApi.from_env(profile_name=PROFILE_NAME)"
   ]
  },
  {
   "cell_type": "markdown",
   "id": "7ef952e7",
   "metadata": {},
   "source": [
    "### Notebook utils"
   ]
  },
  {
   "cell_type": "code",
   "execution_count": 4,
   "id": "aaf88811",
   "metadata": {},
   "outputs": [],
   "source": [
    "def render_provenance_url(\n",
    "    api: CpsApi,\n",
    "    coords: Union[ElasticDataCollectionSource, ElasticProjectDataCollectionSource],\n",
    "    retr_item: SearchResultItem,\n",
    "):\n",
    "    ## compute URL to the document in the Deep Search UI\n",
    "    item_index = int(retr_item.main_path[retr_item.main_path.rfind(\".\") + 1 :])\n",
    "    doc_url = api.documents.generate_url(\n",
    "        document_hash=retr_item.doc_hash,\n",
    "        data_source=coords,\n",
    "        item_index=item_index,\n",
    "    )\n",
    "    display(\n",
    "        Markdown(\n",
    "            f\"The provenance of the answer can be inspected on the [source document]({doc_url}).\"\n",
    "        )\n",
    "    )"
   ]
  },
  {
   "cell_type": "markdown",
   "id": "bd011dd3",
   "metadata": {},
   "source": [
    "### Prepare data source\n",
    "\n",
    "All semantic operations, i.e. ingestion, RAG, and retrieval, require a *data source* for defining the docs to operate on.\n",
    "\n",
    "The cell below shows how to configure a *private* data source, i.e. for operating on a whole private collection or a given doc within one.\n",
    "- set `document_hash` only when targeting a specific doc; when targeting the whole private collection instead, omit it or set it to `None`\n",
    "- to use a *public* data source instead, switch to the commented code on the bottom of the cell"
   ]
  },
  {
   "cell_type": "code",
   "execution_count": 5,
   "id": "152766b0",
   "metadata": {},
   "outputs": [],
   "source": [
    "# configuring a private data source:\n",
    "data_source = create_private_data_source(\n",
    "    proj_key=PROJ_KEY,\n",
    "    index_key=INDEX_KEY,\n",
    "    document_hash=DOC_HASH,\n",
    ")\n",
    "\n",
    "# # configuring a public data source:\n",
    "# from deepsearch.cps.client.components.documents import create_public_data_source\n",
    "# data_source = create_public_data_source(\n",
    "#     elastic_id=\"default\",\n",
    "#     index_key=INDEX_KEY,\n",
    "#     document_hash=DOC_HASH,\n",
    "# )"
   ]
  },
  {
   "cell_type": "markdown",
   "id": "35bbc30e",
   "metadata": {},
   "source": [
    "### Ingestion\n",
    "\n",
    "If your data source has not yet been semantically indexed, you can ingest it into the vector DB as shown below. Otherwise you can skip this step.\n",
    "\n",
    "Ingestion of already indexed docs is controlled via param `skip_ingested_docs`. \n",
    "\n",
    "Particularly when indexing whole collections, note that the larger the data source, the longer the ingestion duration."
   ]
  },
  {
   "cell_type": "code",
   "execution_count": 6,
   "id": "a4dcad49",
   "metadata": {},
   "outputs": [
    {
     "name": "stderr",
     "output_type": "stream",
     "text": [
      "/Users/pva/work/github.com/DS4SD/deepsearch-examples/.venv/lib/python3.10/site-packages/pydantic/main.py:347: UserWarning: Pydantic serializer warnings:\n",
      "  Expected `list[str]` but got `_LiteralGenericAlias` - serialized value may not be as expected\n",
      "  return self.__pydantic_serializer__.to_python(\n"
     ]
    },
    {
     "data": {
      "text/plain": [
       "{'ing_out': {}}"
      ]
     },
     "execution_count": 6,
     "metadata": {},
     "output_type": "execute_result"
    }
   ],
   "source": [
    "task = api.documents.semantic_ingest(\n",
    "    project=PROJ_KEY,\n",
    "    data_source=data_source,\n",
    "    skip_ingested_docs=SKIP_INGESTED_DOCS,\n",
    ")\n",
    "\n",
    "# wait for the ingestion task to finish\n",
    "api.tasks.wait_for(PROJ_KEY, task.task_id)"
   ]
  },
  {
   "cell_type": "markdown",
   "id": "e796c83c",
   "metadata": {},
   "source": [
    "### RAG\n",
    "\n",
    "Besides the standard RAG usage shown in [QA Quick Start](./qa_quick_start.ipynb), `RAGQuery` has numerous additional parameters for customizing aspects of retrieval, generation, and overall RAG pipeline:\n"
   ]
  },
  {
   "cell_type": "code",
   "execution_count": 7,
   "id": "5da78ce5",
   "metadata": {},
   "outputs": [
    {
     "name": "stdout",
     "output_type": "stream",
     "text": [
      "Help on function RAGQuery in module deepsearch.cps.queries:\n",
      "\n",
      "RAGQuery(question: str, *, project: Union[str, deepsearch.cps.client.components.projects.Project], data_source: Union[deepsearch.cps.client.components.documents.PrivateDataDocumentSource, deepsearch.cps.client.components.documents.PrivateDataCollectionSource, deepsearch.cps.client.components.documents.PublicDataDocumentSource], retr_k: int = 10, rerank: bool = False, text_weight: typing.Annotated[float, FieldInfo(default=PydanticUndefined, ge=0.0, le=1.0, multiple_of=0.1, extra={'strict': True})] = 0.1, model_id: Optional[str] = None, prompt_template: Optional[str] = None, gen_params: Optional[Dict[str, Any]] = None, gen_ctx_extr_method: Literal['window', 'page'] = 'window', gen_ctx_window_size: int = 5000, gen_ctx_window_lead_weight: float = 0.5, return_prompt: bool = False, gen_timeout: Optional[float] = None) -> deepsearch.cps.client.queries.query.Query\n",
      "    Create a RAG query\n",
      "    \n",
      "    Args:\n",
      "        question (str): the natural-language query\n",
      "        project (Union[str, Project]): project to use\n",
      "        data_source (DataSource): the data source to query\n",
      "        retr_k (int, optional): num of items to retrieve; defaults to 10\n",
      "        rerank (bool, optional): whether to rerank retrieval results; defaults to False\n",
      "        text_weight (ConstrainedWeight, optional): lexical weight for hybrid search; allowed values: {0.0, 0.1, 0.2, ..., 1.0}; defaults to 0.1\n",
      "        model_id (str, optional): the LLM to use for generation; defaults to None, i.e. determined by system\n",
      "        prompt_template (str, optional): the prompt template to use; defaults to None, i.e. determined by system\n",
      "        gen_params (dict, optional): the generation params to send to the Gen AI platforms; defaults to None, i.e. determined by system\n",
      "        gen_ctx_extr_method (Literal[\"window\", \"page\"], optional): method for gen context extraction from document; defaults to \"window\"\n",
      "        gen_ctx_window_size (int, optional): (relevant only if gen_ctx_extr_method==\"window\") max chars to use for extracted gen context (actual extraction quantized on doc item level); defaults to 5000\n",
      "        gen_ctx_window_lead_weight (float, optional): (relevant only if gen_ctx_extr_method==\"window\") weight of leading text for distributing remaining window size after extracting the `main_path`; defaults to 0.5 (centered around `main_path`)\n",
      "        return_prompt (bool, optional): whether to return the instantiated prompt; defaults to False\n",
      "        gen_timeout (float, optional): timeout for LLM generation; defaults to None, i.e. determined by system\n",
      "\n"
     ]
    }
   ],
   "source": [
    "help(RAGQuery)"
   ]
  },
  {
   "cell_type": "markdown",
   "id": "b835f6e6",
   "metadata": {},
   "source": [
    "For instance, below we set the `return_prompt` parameter to get the actual instantiated prompt."
   ]
  },
  {
   "cell_type": "code",
   "execution_count": 8,
   "id": "f4db6844",
   "metadata": {},
   "outputs": [
    {
     "data": {
      "text/html": [
       "<pre style=\"white-space:pre;overflow-x:auto;line-height:normal;font-family:Menlo,'DejaVu Sans Mono',consolas,'Courier New',monospace\">Where was the first European IBM lab located?\n",
       "</pre>\n"
      ],
      "text/plain": [
       "Where was the first European IBM lab located?\n"
      ]
     },
     "metadata": {},
     "output_type": "display_data"
    },
    {
     "data": {
      "text/html": [
       "<pre style=\"white-space:pre;overflow-x:auto;line-height:normal;font-family:Menlo,'DejaVu Sans Mono',consolas,'Courier New',monospace\"><span style=\"color: #800080; text-decoration-color: #800080; font-weight: bold\">RAGResult</span><span style=\"font-weight: bold\">(</span>\n",
       "    <span style=\"color: #808000; text-decoration-color: #808000\">answers</span>=<span style=\"font-weight: bold\">[</span>\n",
       "        <span style=\"color: #800080; text-decoration-color: #800080; font-weight: bold\">RAGAnswerItem</span><span style=\"font-weight: bold\">(</span>\n",
       "            <span style=\"color: #808000; text-decoration-color: #808000\">answer</span>=<span style=\"color: #008000; text-decoration-color: #008000\">'The first European IBM lab was located in Adliswil, Switzerland, near Zurich.'</span>,\n",
       "            <span style=\"color: #808000; text-decoration-color: #808000\">grounding</span>=<span style=\"color: #800080; text-decoration-color: #800080; font-weight: bold\">RAGGroundingInfo</span><span style=\"font-weight: bold\">(</span>\n",
       "                <span style=\"color: #808000; text-decoration-color: #808000\">retr_items</span>=<span style=\"font-weight: bold\">[</span>\n",
       "                    <span style=\"color: #800080; text-decoration-color: #800080; font-weight: bold\">SearchResultItem</span><span style=\"font-weight: bold\">(</span>\n",
       "                        <span style=\"color: #808000; text-decoration-color: #808000\">doc_hash</span>=<span style=\"color: #008000; text-decoration-color: #008000\">'b30bc667a324ae111d025526563b674a8d3fd869bc07c8fd204aa95b05d41f0c'</span>,\n",
       "                        <span style=\"color: #808000; text-decoration-color: #808000\">chunk</span>=<span style=\"color: #008000; text-decoration-color: #008000\">'Switzerland\\nIn 1956, IBM opened their first European research laboratory in </span>\n",
       "<span style=\"color: #008000; text-decoration-color: #008000\">Adliswil, Switzerland, near Zurich. The lab moved to its own campus in neighboring Rüschlikon in 1962. The Zurich </span>\n",
       "<span style=\"color: #008000; text-decoration-color: #008000\">lab is staffed by a multicultural and interdisciplinary team of a few hundred permanent research staff members, </span>\n",
       "<span style=\"color: #008000; text-decoration-color: #008000\">graduate students and post-doctoral fellows, representing about 45 nationalities. Collocated with the lab is a </span>\n",
       "<span style=\"color: #008000; text-decoration-color: #008000\">Client Center (formerly the Industry Solutions Lab), an executive briefing facility demonstrating technology </span>\n",
       "<span style=\"color: #008000; text-decoration-color: #008000\">prototypes and solutions.'</span>,\n",
       "                        <span style=\"color: #808000; text-decoration-color: #808000\">main_path</span>=<span style=\"color: #008000; text-decoration-color: #008000\">'main-text.71'</span>,\n",
       "                        <span style=\"color: #808000; text-decoration-color: #808000\">path_group</span>=<span style=\"font-weight: bold\">[</span><span style=\"color: #008000; text-decoration-color: #008000\">'main-text.69'</span>, <span style=\"color: #008000; text-decoration-color: #008000\">'main-text.71'</span><span style=\"font-weight: bold\">]</span>,\n",
       "                        <span style=\"color: #808000; text-decoration-color: #808000\">source_is_text</span>=<span style=\"color: #00ff00; text-decoration-color: #00ff00; font-style: italic\">True</span>\n",
       "                    <span style=\"font-weight: bold\">)</span>\n",
       "                <span style=\"font-weight: bold\">]</span>,\n",
       "                <span style=\"color: #808000; text-decoration-color: #808000\">gen_ctx_paths</span>=<span style=\"font-weight: bold\">[</span>\n",
       "                    <span style=\"color: #008000; text-decoration-color: #008000\">'main-text.60'</span>,\n",
       "                    <span style=\"color: #008000; text-decoration-color: #008000\">'main-text.61'</span>,\n",
       "                    <span style=\"color: #008000; text-decoration-color: #008000\">'main-text.62'</span>,\n",
       "                    <span style=\"color: #008000; text-decoration-color: #008000\">'main-text.63'</span>,\n",
       "                    <span style=\"color: #008000; text-decoration-color: #008000\">'main-text.64'</span>,\n",
       "                    <span style=\"color: #008000; text-decoration-color: #008000\">'main-text.65'</span>,\n",
       "                    <span style=\"color: #008000; text-decoration-color: #008000\">'main-text.66'</span>,\n",
       "                    <span style=\"color: #008000; text-decoration-color: #008000\">'main-text.67'</span>,\n",
       "                    <span style=\"color: #008000; text-decoration-color: #008000\">'main-text.68'</span>,\n",
       "                    <span style=\"color: #008000; text-decoration-color: #008000\">'main-text.69'</span>,\n",
       "                    <span style=\"color: #008000; text-decoration-color: #008000\">'main-text.70'</span>,\n",
       "                    <span style=\"color: #008000; text-decoration-color: #008000\">'main-text.71'</span>,\n",
       "                    <span style=\"color: #008000; text-decoration-color: #008000\">'main-text.72'</span>,\n",
       "                    <span style=\"color: #008000; text-decoration-color: #008000\">'main-text.73'</span>,\n",
       "                    <span style=\"color: #008000; text-decoration-color: #008000\">'main-text.74'</span>,\n",
       "                    <span style=\"color: #008000; text-decoration-color: #008000\">'main-text.75'</span>,\n",
       "                    <span style=\"color: #008000; text-decoration-color: #008000\">'main-text.76'</span>,\n",
       "                    <span style=\"color: #008000; text-decoration-color: #008000\">'main-text.77'</span>,\n",
       "                    <span style=\"color: #008000; text-decoration-color: #008000\">'main-text.78'</span>\n",
       "                <span style=\"font-weight: bold\">]</span>\n",
       "            <span style=\"font-weight: bold\">)</span>,\n",
       "            <span style=\"color: #808000; text-decoration-color: #808000\">prompt</span>=<span style=\"color: #008000; text-decoration-color: #008000\">\"Context information is below.\\n---------------------\\nIn 1987, IBM Japan Science Prize was </span>\n",
       "<span style=\"color: #008000; text-decoration-color: #008000\">created to recognize researchers, who are not over 45 years old, working at Japanese universities or public </span>\n",
       "<span style=\"color: #008000; text-decoration-color: #008000\">research institutes. It is awarded in physics, chemistry, computer science, and electronics. [54]\\n\\n## </span>\n",
       "<span style=\"color: #008000; text-decoration-color: #008000\">Israel\\n\\nIBM Research-Haifa, previously known as the Haifa Research Lab (HRL) was founded as a small scientific </span>\n",
       "<span style=\"color: #008000; text-decoration-color: #008000\">center in 1972. $^{[55]}$ Since then, it has grown into a major lab that leads the development of innovative </span>\n",
       "<span style=\"color: #008000; text-decoration-color: #008000\">technologies and solutions for the IBM corporation. The lab's offices are situated in three locations across </span>\n",
       "<span style=\"color: #008000; text-decoration-color: #008000\">Israel: Haifa, Tel Aviv, and Beer Sheva.\\n\\nIBM Research-Haifa employs researchers in a range of areas. Research </span>\n",
       "<span style=\"color: #008000; text-decoration-color: #008000\">projects are being executed today in areas such as artificial intelligence, hybrid cloud, quantum computing, </span>\n",
       "<span style=\"color: #008000; text-decoration-color: #008000\">blockchain, IoT, quality, cybersecurity, and industry domains such as healthcare.\\n\\nAya Soffer is IBM Vice </span>\n",
       "<span style=\"color: #008000; text-decoration-color: #008000\">President of AI Technology and serves as the Director of the IBM Research Lab in Haifa, Israel.\\n\\n## History\\n\\nIn</span>\n",
       "<span style=\"color: #008000; text-decoration-color: #008000\">its 30th year, the IBM Haifa Research Lab in Israel moved to a new home on the University of Haifa campus.\\n\\nThe </span>\n",
       "<span style=\"color: #008000; text-decoration-color: #008000\">researchers at the Lab are involved in special projects with academic institutions across Israel, the United </span>\n",
       "<span style=\"color: #008000; text-decoration-color: #008000\">States, and Europe, and actively participate in numerous consortiums as part of the EU Horizon 2020 programme. </span>\n",
       "<span style=\"color: #008000; text-decoration-color: #008000\">Today in 2020, the Lab describes itself as having the highest number of employees in Israel's hi-tech industry who </span>\n",
       "<span style=\"color: #008000; text-decoration-color: #008000\">hold advanced degrees in science, electrical engineering, mathematics, or related fields. Researchers participate </span>\n",
       "<span style=\"color: #008000; text-decoration-color: #008000\">in international conferences and are published in professional publications.\\n\\nIn 2014, IBM Research announced the</span>\n",
       "<span style=\"color: #008000; text-decoration-color: #008000\">Cybersecurity Center of Excellence (CCoE) in Beer Sheva in collaboration with Ben-Gurion University of the </span>\n",
       "<span style=\"color: #008000; text-decoration-color: #008000\">Negev.\\n\\n## Switzerland\\n\\nIBM Research-Zurich (previously called IBM Zurich Research Laboratory, ZRL) is the </span>\n",
       "<span style=\"color: #008000; text-decoration-color: #008000\">European branch of IBM Research. It was opened in 1956 and is located in Rüschlikon, near Zurich, </span>\n",
       "<span style=\"color: #008000; text-decoration-color: #008000\">Switzerland.\\n\\nIn 1956, IBM opened their first European research laboratory in Adliswil, Switzerland, near Zurich.</span>\n",
       "<span style=\"color: #008000; text-decoration-color: #008000\">The lab moved to its own campus in neighboring Rüschlikon in 1962. The Zurich lab is staffed by a multicultural and</span>\n",
       "<span style=\"color: #008000; text-decoration-color: #008000\">interdisciplinary team of a few hundred permanent research staff members, graduate students and post-doctoral </span>\n",
       "<span style=\"color: #008000; text-decoration-color: #008000\">fellows, representing about 45 nationalities. Collocated with the lab is a Client Center (formerly the Industry </span>\n",
       "<span style=\"color: #008000; text-decoration-color: #008000\">Solutions Lab), an executive briefing facility demonstrating technology prototypes and solutions.\\n\\nThe Zurich lab</span>\n",
       "<span style=\"color: #008000; text-decoration-color: #008000\">is world-renowned for its scientific achievements-most notably Nobel Prizes in physics in 1986 and 1987 for the </span>\n",
       "<span style=\"color: #008000; text-decoration-color: #008000\">invention of the scanning tunneling microscope $^{[56]}$ and the discovery of high-temperature superconductivity, </span>\n",
       "<span style=\"color: #008000; text-decoration-color: #008000\">[57] respectively. Other key inventions include trellis modulation, which revolutionized data transmission over </span>\n",
       "<span style=\"color: #008000; text-decoration-color: #008000\">telephone lines; Token Ring, which became a standard for local area networks and a highly successful IBM product; </span>\n",
       "<span style=\"color: #008000; text-decoration-color: #008000\">the Secure Electronic Transaction (SET) standard used for highly secure payments; and the Java Card OpenPlatform </span>\n",
       "<span style=\"color: #008000; text-decoration-color: #008000\">(JCOP), a smart card operating system. Most recently the lab was involved in the development of SuperMUC, a </span>\n",
       "<span style=\"color: #008000; text-decoration-color: #008000\">supercomputer that is cooled using hot water.\\n\\nThe Zurich lab focus areas are future chip technologies; </span>\n",
       "<span style=\"color: #008000; text-decoration-color: #008000\">nanotechnology; data storage; quantum computing, brain-inspired computing; security and privacy; risk and </span>\n",
       "<span style=\"color: #008000; text-decoration-color: #008000\">compliance; business optimization and transformation; server systems. The Zurich laboratory is involved in many </span>\n",
       "<span style=\"color: #008000; text-decoration-color: #008000\">joint projects with universities throughout Europe, in research programs established by the European Union and the </span>\n",
       "<span style=\"color: #008000; text-decoration-color: #008000\">Swiss government, and in cooperation agreements with research institutes of industrial partners. One of the lab's </span>\n",
       "<span style=\"color: #008000; text-decoration-color: #008000\">most high-profile projects is called DOME, which is based on developing an IT roadmap for the Square Kilometer </span>\n",
       "<span style=\"color: #008000; text-decoration-color: #008000\">Array.\\n\\nThe research projects pursued at the IBM Zurich lab are organized into four scientific and technical </span>\n",
       "<span style=\"color: #008000; text-decoration-color: #008000\">departments: Science &amp; Technology, Cloud and AI Systems Research, Cognitive Computing &amp; Industry Solutions and </span>\n",
       "<span style=\"color: #008000; text-decoration-color: #008000\">Security Research. The lab is currently managed by Alessandro Curioni.\\n\\nOn 17 May 2011, IBM and the Swiss Federal</span>\n",
       "<span style=\"color: #008000; text-decoration-color: #008000\">Institute of Technology (ETH) Zurich opened the Binnig and Rohrer Nanotechnology Center, which is located on the </span>\n",
       "<span style=\"color: #008000; text-decoration-color: #008000\">same campus in Rüschlikon. [58]\\n\\n## Publications\\n\\nIBM Journal of Research and Development </span>\n",
       "<span style=\"color: #008000; text-decoration-color: #008000\">(https://research.ibm.com/publications?search=eyJ0e </span>\n",
       "<span style=\"color: #008000; text-decoration-color: #008000\">XBlIjoic291cmNlIiwidmFsdWUiOnsiaWQiOiIxOTk3MSIsInRleHQiOiJJQk0gSi4gUmVzLiBEZXYifX 0)\\n\\n## </span>\n",
       "<span style=\"color: #008000; text-decoration-color: #008000\">References\\n---------------------\\nGiven the context information and not prior knowledge, answer the query.\\nQuery:</span>\n",
       "<span style=\"color: #008000; text-decoration-color: #008000\">Where was the first European IBM lab located?\\nAnswer:\\n\"</span>\n",
       "        <span style=\"font-weight: bold\">)</span>\n",
       "    <span style=\"font-weight: bold\">]</span>,\n",
       "    <span style=\"color: #808000; text-decoration-color: #808000\">search_result_items</span>=<span style=\"font-weight: bold\">[</span>\n",
       "        <span style=\"color: #800080; text-decoration-color: #800080; font-weight: bold\">SearchResultItem</span><span style=\"font-weight: bold\">(</span>\n",
       "            <span style=\"color: #808000; text-decoration-color: #808000\">doc_hash</span>=<span style=\"color: #008000; text-decoration-color: #008000\">'b30bc667a324ae111d025526563b674a8d3fd869bc07c8fd204aa95b05d41f0c'</span>,\n",
       "            <span style=\"color: #808000; text-decoration-color: #808000\">chunk</span>=<span style=\"color: #008000; text-decoration-color: #008000\">'Switzerland\\nIn 1956, IBM opened their first European research laboratory in Adliswil, </span>\n",
       "<span style=\"color: #008000; text-decoration-color: #008000\">Switzerland, near Zurich. The lab moved to its own campus in neighboring Rüschlikon in 1962. The Zurich lab is </span>\n",
       "<span style=\"color: #008000; text-decoration-color: #008000\">staffed by a multicultural and interdisciplinary team of a few hundred permanent research staff members, graduate </span>\n",
       "<span style=\"color: #008000; text-decoration-color: #008000\">students and post-doctoral fellows, representing about 45 nationalities. Collocated with the lab is a Client Center</span>\n",
       "<span style=\"color: #008000; text-decoration-color: #008000\">(formerly the Industry Solutions Lab), an executive briefing facility demonstrating technology prototypes and </span>\n",
       "<span style=\"color: #008000; text-decoration-color: #008000\">solutions.'</span>,\n",
       "            <span style=\"color: #808000; text-decoration-color: #808000\">main_path</span>=<span style=\"color: #008000; text-decoration-color: #008000\">'main-text.71'</span>,\n",
       "            <span style=\"color: #808000; text-decoration-color: #808000\">path_group</span>=<span style=\"font-weight: bold\">[</span><span style=\"color: #008000; text-decoration-color: #008000\">'main-text.69'</span>, <span style=\"color: #008000; text-decoration-color: #008000\">'main-text.71'</span><span style=\"font-weight: bold\">]</span>,\n",
       "            <span style=\"color: #808000; text-decoration-color: #808000\">source_is_text</span>=<span style=\"color: #00ff00; text-decoration-color: #00ff00; font-style: italic\">True</span>\n",
       "        <span style=\"font-weight: bold\">)</span>,\n",
       "        <span style=\"color: #800080; text-decoration-color: #800080; font-weight: bold\">SearchResultItem</span><span style=\"font-weight: bold\">(</span>\n",
       "            <span style=\"color: #808000; text-decoration-color: #808000\">doc_hash</span>=<span style=\"color: #008000; text-decoration-color: #008000\">'b30bc667a324ae111d025526563b674a8d3fd869bc07c8fd204aa95b05d41f0c'</span>,\n",
       "            <span style=\"color: #808000; text-decoration-color: #808000\">chunk</span>=<span style=\"color: #008000; text-decoration-color: #008000\">'Switzerland\\nIBM Research-Zurich (previously called IBM Zurich Research Laboratory, ZRL) is the </span>\n",
       "<span style=\"color: #008000; text-decoration-color: #008000\">European branch of IBM Research. It was opened in 1956 and is located in Rüschlikon, near Zurich, Switzerland.'</span>,\n",
       "            <span style=\"color: #808000; text-decoration-color: #808000\">main_path</span>=<span style=\"color: #008000; text-decoration-color: #008000\">'main-text.70'</span>,\n",
       "            <span style=\"color: #808000; text-decoration-color: #808000\">path_group</span>=<span style=\"font-weight: bold\">[</span><span style=\"color: #008000; text-decoration-color: #008000\">'main-text.69'</span>, <span style=\"color: #008000; text-decoration-color: #008000\">'main-text.70'</span><span style=\"font-weight: bold\">]</span>,\n",
       "            <span style=\"color: #808000; text-decoration-color: #808000\">source_is_text</span>=<span style=\"color: #00ff00; text-decoration-color: #00ff00; font-style: italic\">True</span>\n",
       "        <span style=\"font-weight: bold\">)</span>,\n",
       "        <span style=\"color: #800080; text-decoration-color: #800080; font-weight: bold\">SearchResultItem</span><span style=\"font-weight: bold\">(</span>\n",
       "            <span style=\"color: #808000; text-decoration-color: #808000\">doc_hash</span>=<span style=\"color: #008000; text-decoration-color: #008000\">'b30bc667a324ae111d025526563b674a8d3fd869bc07c8fd204aa95b05d41f0c'</span>,\n",
       "            <span style=\"color: #808000; text-decoration-color: #808000\">chunk</span>=<span style=\"color: #008000; text-decoration-color: #008000\">\"History\\nThe roots of today's IBM Research began with the 1945 opening of the Watson Scientific </span>\n",
       "<span style=\"color: #008000; text-decoration-color: #008000\">Computing Laboratory at Columbia University. $^{[4]}$ This was the first IBM laboratory devoted to pure science and</span>\n",
       "<span style=\"color: #008000; text-decoration-color: #008000\">later expanded into additional IBM Research locations in Westchester County, New York, starting in the 1950s, </span>\n",
       "<span style=\"color: #008000; text-decoration-color: #008000\">$^{[5][6]}$ including the Thomas J. Watson Research Center in 1961. [5][6]\"</span>,\n",
       "            <span style=\"color: #808000; text-decoration-color: #808000\">main_path</span>=<span style=\"color: #008000; text-decoration-color: #008000\">'main-text.8'</span>,\n",
       "            <span style=\"color: #808000; text-decoration-color: #808000\">path_group</span>=<span style=\"font-weight: bold\">[</span><span style=\"color: #008000; text-decoration-color: #008000\">'main-text.7'</span>, <span style=\"color: #008000; text-decoration-color: #008000\">'main-text.8'</span><span style=\"font-weight: bold\">]</span>,\n",
       "            <span style=\"color: #808000; text-decoration-color: #808000\">source_is_text</span>=<span style=\"color: #00ff00; text-decoration-color: #00ff00; font-style: italic\">True</span>\n",
       "        <span style=\"font-weight: bold\">)</span>\n",
       "    <span style=\"font-weight: bold\">]</span>\n",
       "<span style=\"font-weight: bold\">)</span>\n",
       "</pre>\n"
      ],
      "text/plain": [
       "\u001b[1;35mRAGResult\u001b[0m\u001b[1m(\u001b[0m\n",
       "    \u001b[33manswers\u001b[0m=\u001b[1m[\u001b[0m\n",
       "        \u001b[1;35mRAGAnswerItem\u001b[0m\u001b[1m(\u001b[0m\n",
       "            \u001b[33manswer\u001b[0m=\u001b[32m'The first European IBM lab was located in Adliswil, Switzerland, near Zurich.'\u001b[0m,\n",
       "            \u001b[33mgrounding\u001b[0m=\u001b[1;35mRAGGroundingInfo\u001b[0m\u001b[1m(\u001b[0m\n",
       "                \u001b[33mretr_items\u001b[0m=\u001b[1m[\u001b[0m\n",
       "                    \u001b[1;35mSearchResultItem\u001b[0m\u001b[1m(\u001b[0m\n",
       "                        \u001b[33mdoc_hash\u001b[0m=\u001b[32m'b30bc667a324ae111d025526563b674a8d3fd869bc07c8fd204aa95b05d41f0c'\u001b[0m,\n",
       "                        \u001b[33mchunk\u001b[0m=\u001b[32m'Switzerland\\nIn 1956, IBM opened their first European research laboratory in \u001b[0m\n",
       "\u001b[32mAdliswil, Switzerland, near Zurich. The lab moved to its own campus in neighboring Rüschlikon in 1962. The Zurich \u001b[0m\n",
       "\u001b[32mlab is staffed by a multicultural and interdisciplinary team of a few hundred permanent research staff members, \u001b[0m\n",
       "\u001b[32mgraduate students and post-doctoral fellows, representing about 45 nationalities. Collocated with the lab is a \u001b[0m\n",
       "\u001b[32mClient Center \u001b[0m\u001b[32m(\u001b[0m\u001b[32mformerly the Industry Solutions Lab\u001b[0m\u001b[32m)\u001b[0m\u001b[32m, an executive briefing facility demonstrating technology \u001b[0m\n",
       "\u001b[32mprototypes and solutions.'\u001b[0m,\n",
       "                        \u001b[33mmain_path\u001b[0m=\u001b[32m'main-text.71'\u001b[0m,\n",
       "                        \u001b[33mpath_group\u001b[0m=\u001b[1m[\u001b[0m\u001b[32m'main-text.69'\u001b[0m, \u001b[32m'main-text.71'\u001b[0m\u001b[1m]\u001b[0m,\n",
       "                        \u001b[33msource_is_text\u001b[0m=\u001b[3;92mTrue\u001b[0m\n",
       "                    \u001b[1m)\u001b[0m\n",
       "                \u001b[1m]\u001b[0m,\n",
       "                \u001b[33mgen_ctx_paths\u001b[0m=\u001b[1m[\u001b[0m\n",
       "                    \u001b[32m'main-text.60'\u001b[0m,\n",
       "                    \u001b[32m'main-text.61'\u001b[0m,\n",
       "                    \u001b[32m'main-text.62'\u001b[0m,\n",
       "                    \u001b[32m'main-text.63'\u001b[0m,\n",
       "                    \u001b[32m'main-text.64'\u001b[0m,\n",
       "                    \u001b[32m'main-text.65'\u001b[0m,\n",
       "                    \u001b[32m'main-text.66'\u001b[0m,\n",
       "                    \u001b[32m'main-text.67'\u001b[0m,\n",
       "                    \u001b[32m'main-text.68'\u001b[0m,\n",
       "                    \u001b[32m'main-text.69'\u001b[0m,\n",
       "                    \u001b[32m'main-text.70'\u001b[0m,\n",
       "                    \u001b[32m'main-text.71'\u001b[0m,\n",
       "                    \u001b[32m'main-text.72'\u001b[0m,\n",
       "                    \u001b[32m'main-text.73'\u001b[0m,\n",
       "                    \u001b[32m'main-text.74'\u001b[0m,\n",
       "                    \u001b[32m'main-text.75'\u001b[0m,\n",
       "                    \u001b[32m'main-text.76'\u001b[0m,\n",
       "                    \u001b[32m'main-text.77'\u001b[0m,\n",
       "                    \u001b[32m'main-text.78'\u001b[0m\n",
       "                \u001b[1m]\u001b[0m\n",
       "            \u001b[1m)\u001b[0m,\n",
       "            \u001b[33mprompt\u001b[0m=\u001b[32m\"Context\u001b[0m\u001b[32m information is below.\\n---------------------\\nIn 1987, IBM Japan Science Prize was \u001b[0m\n",
       "\u001b[32mcreated to recognize researchers, who are not over 45 years old, working at Japanese universities or public \u001b[0m\n",
       "\u001b[32mresearch institutes. It is awarded in physics, chemistry, computer science, and electronics. \u001b[0m\u001b[32m[\u001b[0m\u001b[32m54\u001b[0m\u001b[32m]\u001b[0m\u001b[32m\\n\\n## \u001b[0m\n",
       "\u001b[32mIsrael\\n\\nIBM Research-Haifa, previously known as the Haifa Research Lab \u001b[0m\u001b[32m(\u001b[0m\u001b[32mHRL\u001b[0m\u001b[32m)\u001b[0m\u001b[32m was founded as a small scientific \u001b[0m\n",
       "\u001b[32mcenter in 1972. $^\u001b[0m\u001b[32m{\u001b[0m\u001b[32m[\u001b[0m\u001b[32m55\u001b[0m\u001b[32m]\u001b[0m\u001b[32m}\u001b[0m\u001b[32m$ Since then, it has grown into a major lab that leads the development of innovative \u001b[0m\n",
       "\u001b[32mtechnologies and solutions for the IBM corporation. The lab's offices are situated in three locations across \u001b[0m\n",
       "\u001b[32mIsrael: Haifa, Tel Aviv, and Beer Sheva.\\n\\nIBM Research-Haifa employs researchers in a range of areas. Research \u001b[0m\n",
       "\u001b[32mprojects are being executed today in areas such as artificial intelligence, hybrid cloud, quantum computing, \u001b[0m\n",
       "\u001b[32mblockchain, IoT, quality, cybersecurity, and industry domains such as healthcare.\\n\\nAya Soffer is IBM Vice \u001b[0m\n",
       "\u001b[32mPresident of AI Technology and serves as the Director of the IBM Research Lab in Haifa, Israel.\\n\\n## History\\n\\nIn\u001b[0m\n",
       "\u001b[32mits 30th year, the IBM Haifa Research Lab in Israel moved to a new home on the University of Haifa campus.\\n\\nThe \u001b[0m\n",
       "\u001b[32mresearchers at the Lab are involved in special projects with academic institutions across Israel, the United \u001b[0m\n",
       "\u001b[32mStates, and Europe, and actively participate in numerous consortiums as part of the EU Horizon 2020 programme. \u001b[0m\n",
       "\u001b[32mToday in 2020, the Lab describes itself as having the highest number of employees in Israel's hi-tech industry who \u001b[0m\n",
       "\u001b[32mhold advanced degrees in science, electrical engineering, mathematics, or related fields. Researchers participate \u001b[0m\n",
       "\u001b[32min international conferences and are published in professional publications.\\n\\nIn 2014, IBM Research announced the\u001b[0m\n",
       "\u001b[32mCybersecurity Center of Excellence \u001b[0m\u001b[32m(\u001b[0m\u001b[32mCCoE\u001b[0m\u001b[32m)\u001b[0m\u001b[32m in Beer Sheva in collaboration with Ben-Gurion University of the \u001b[0m\n",
       "\u001b[32mNegev.\\n\\n## Switzerland\\n\\nIBM Research-Zurich \u001b[0m\u001b[32m(\u001b[0m\u001b[32mpreviously called IBM Zurich Research Laboratory, ZRL\u001b[0m\u001b[32m)\u001b[0m\u001b[32m is the \u001b[0m\n",
       "\u001b[32mEuropean branch of IBM Research. It was opened in 1956 and is located in Rüschlikon, near Zurich, \u001b[0m\n",
       "\u001b[32mSwitzerland.\\n\\nIn 1956, IBM opened their first European research laboratory in Adliswil, Switzerland, near Zurich.\u001b[0m\n",
       "\u001b[32mThe lab moved to its own campus in neighboring Rüschlikon in 1962. The Zurich lab is staffed by a multicultural and\u001b[0m\n",
       "\u001b[32minterdisciplinary team of a few hundred permanent research staff members, graduate students and post-doctoral \u001b[0m\n",
       "\u001b[32mfellows, representing about 45 nationalities. Collocated with the lab is a Client Center \u001b[0m\u001b[32m(\u001b[0m\u001b[32mformerly the Industry \u001b[0m\n",
       "\u001b[32mSolutions Lab\u001b[0m\u001b[32m)\u001b[0m\u001b[32m, an executive briefing facility demonstrating technology prototypes and solutions.\\n\\nThe Zurich lab\u001b[0m\n",
       "\u001b[32mis world-renowned for its scientific achievements-most notably Nobel Prizes in physics in 1986 and 1987 for the \u001b[0m\n",
       "\u001b[32minvention of the scanning tunneling microscope $^\u001b[0m\u001b[32m{\u001b[0m\u001b[32m[\u001b[0m\u001b[32m56\u001b[0m\u001b[32m]\u001b[0m\u001b[32m}\u001b[0m\u001b[32m$ and the discovery of high-temperature superconductivity, \u001b[0m\n",
       "\u001b[32m[\u001b[0m\u001b[32m57\u001b[0m\u001b[32m]\u001b[0m\u001b[32m respectively. Other key inventions include trellis modulation, which revolutionized data transmission over \u001b[0m\n",
       "\u001b[32mtelephone lines; Token Ring, which became a standard for local area networks and a highly successful IBM product; \u001b[0m\n",
       "\u001b[32mthe Secure Electronic Transaction \u001b[0m\u001b[32m(\u001b[0m\u001b[32mSET\u001b[0m\u001b[32m)\u001b[0m\u001b[32m standard used for highly secure payments; and the Java Card OpenPlatform \u001b[0m\n",
       "\u001b[32m(\u001b[0m\u001b[32mJCOP\u001b[0m\u001b[32m)\u001b[0m\u001b[32m, a smart card operating system. Most recently the lab was involved in the development of SuperMUC, a \u001b[0m\n",
       "\u001b[32msupercomputer that is cooled using hot water.\\n\\nThe Zurich lab focus areas are future chip technologies; \u001b[0m\n",
       "\u001b[32mnanotechnology; data storage; quantum computing, brain-inspired computing; security and privacy; risk and \u001b[0m\n",
       "\u001b[32mcompliance; business optimization and transformation; server systems. The Zurich laboratory is involved in many \u001b[0m\n",
       "\u001b[32mjoint projects with universities throughout Europe, in research programs established by the European Union and the \u001b[0m\n",
       "\u001b[32mSwiss government, and in cooperation agreements with research institutes of industrial partners. One of the lab's \u001b[0m\n",
       "\u001b[32mmost high-profile projects is called DOME, which is based on developing an IT roadmap for the Square Kilometer \u001b[0m\n",
       "\u001b[32mArray.\\n\\nThe research projects pursued at the IBM Zurich lab are organized into four scientific and technical \u001b[0m\n",
       "\u001b[32mdepartments: Science & Technology, Cloud and AI Systems Research, Cognitive Computing & Industry Solutions and \u001b[0m\n",
       "\u001b[32mSecurity Research. The lab is currently managed by Alessandro Curioni.\\n\\nOn 17 May 2011, IBM and the Swiss Federal\u001b[0m\n",
       "\u001b[32mInstitute of Technology \u001b[0m\u001b[32m(\u001b[0m\u001b[32mETH\u001b[0m\u001b[32m)\u001b[0m\u001b[32m Zurich opened the Binnig and Rohrer Nanotechnology Center, which is located on the \u001b[0m\n",
       "\u001b[32msame campus in Rüschlikon. \u001b[0m\u001b[32m[\u001b[0m\u001b[32m58\u001b[0m\u001b[32m]\u001b[0m\u001b[32m\\n\\n## Publications\\n\\nIBM Journal of Research and Development \u001b[0m\n",
       "\u001b[32m(\u001b[0m\u001b[32mhttps://research.ibm.com/publications?\u001b[0m\u001b[32msearch\u001b[0m\u001b[32m=\u001b[0m\u001b[32meyJ0e\u001b[0m\u001b[32m \u001b[0m\n",
       "\u001b[32mXBlIjoic291cmNlIiwidmFsdWUiOnsiaWQiOiIxOTk3MSIsInRleHQiOiJJQk0gSi4gUmVzLiBEZXYifX 0\u001b[0m\u001b[32m)\u001b[0m\u001b[32m\\n\\n## \u001b[0m\n",
       "\u001b[32mReferences\\n---------------------\\nGiven the context information and not prior knowledge, answer the query.\\nQuery:\u001b[0m\n",
       "\u001b[32mWhere was the first European IBM lab located?\\nAnswer:\\n\"\u001b[0m\n",
       "        \u001b[1m)\u001b[0m\n",
       "    \u001b[1m]\u001b[0m,\n",
       "    \u001b[33msearch_result_items\u001b[0m=\u001b[1m[\u001b[0m\n",
       "        \u001b[1;35mSearchResultItem\u001b[0m\u001b[1m(\u001b[0m\n",
       "            \u001b[33mdoc_hash\u001b[0m=\u001b[32m'b30bc667a324ae111d025526563b674a8d3fd869bc07c8fd204aa95b05d41f0c'\u001b[0m,\n",
       "            \u001b[33mchunk\u001b[0m=\u001b[32m'Switzerland\\nIn 1956, IBM opened their first European research laboratory in Adliswil, \u001b[0m\n",
       "\u001b[32mSwitzerland, near Zurich. The lab moved to its own campus in neighboring Rüschlikon in 1962. The Zurich lab is \u001b[0m\n",
       "\u001b[32mstaffed by a multicultural and interdisciplinary team of a few hundred permanent research staff members, graduate \u001b[0m\n",
       "\u001b[32mstudents and post-doctoral fellows, representing about 45 nationalities. Collocated with the lab is a Client Center\u001b[0m\n",
       "\u001b[32m(\u001b[0m\u001b[32mformerly the Industry Solutions Lab\u001b[0m\u001b[32m)\u001b[0m\u001b[32m, an executive briefing facility demonstrating technology prototypes and \u001b[0m\n",
       "\u001b[32msolutions.'\u001b[0m,\n",
       "            \u001b[33mmain_path\u001b[0m=\u001b[32m'main-text.71'\u001b[0m,\n",
       "            \u001b[33mpath_group\u001b[0m=\u001b[1m[\u001b[0m\u001b[32m'main-text.69'\u001b[0m, \u001b[32m'main-text.71'\u001b[0m\u001b[1m]\u001b[0m,\n",
       "            \u001b[33msource_is_text\u001b[0m=\u001b[3;92mTrue\u001b[0m\n",
       "        \u001b[1m)\u001b[0m,\n",
       "        \u001b[1;35mSearchResultItem\u001b[0m\u001b[1m(\u001b[0m\n",
       "            \u001b[33mdoc_hash\u001b[0m=\u001b[32m'b30bc667a324ae111d025526563b674a8d3fd869bc07c8fd204aa95b05d41f0c'\u001b[0m,\n",
       "            \u001b[33mchunk\u001b[0m=\u001b[32m'Switzerland\\nIBM Research-Zurich \u001b[0m\u001b[32m(\u001b[0m\u001b[32mpreviously called IBM Zurich Research Laboratory, ZRL\u001b[0m\u001b[32m)\u001b[0m\u001b[32m is the \u001b[0m\n",
       "\u001b[32mEuropean branch of IBM Research. It was opened in 1956 and is located in Rüschlikon, near Zurich, Switzerland.'\u001b[0m,\n",
       "            \u001b[33mmain_path\u001b[0m=\u001b[32m'main-text.70'\u001b[0m,\n",
       "            \u001b[33mpath_group\u001b[0m=\u001b[1m[\u001b[0m\u001b[32m'main-text.69'\u001b[0m, \u001b[32m'main-text.70'\u001b[0m\u001b[1m]\u001b[0m,\n",
       "            \u001b[33msource_is_text\u001b[0m=\u001b[3;92mTrue\u001b[0m\n",
       "        \u001b[1m)\u001b[0m,\n",
       "        \u001b[1;35mSearchResultItem\u001b[0m\u001b[1m(\u001b[0m\n",
       "            \u001b[33mdoc_hash\u001b[0m=\u001b[32m'b30bc667a324ae111d025526563b674a8d3fd869bc07c8fd204aa95b05d41f0c'\u001b[0m,\n",
       "            \u001b[33mchunk\u001b[0m=\u001b[32m\"History\u001b[0m\u001b[32m\\nThe roots of today's IBM Research began with the 1945 opening of the Watson Scientific \u001b[0m\n",
       "\u001b[32mComputing Laboratory at Columbia University. $^\u001b[0m\u001b[32m{\u001b[0m\u001b[32m[\u001b[0m\u001b[32m4\u001b[0m\u001b[32m]\u001b[0m\u001b[32m}\u001b[0m\u001b[32m$ This was the first IBM laboratory devoted to pure science and\u001b[0m\n",
       "\u001b[32mlater expanded into additional IBM Research locations in Westchester County, New York, starting in the 1950s, \u001b[0m\n",
       "\u001b[32m$^\u001b[0m\u001b[32m{\u001b[0m\u001b[32m[\u001b[0m\u001b[32m5\u001b[0m\u001b[32m]\u001b[0m\u001b[32m[\u001b[0m\u001b[32m6\u001b[0m\u001b[32m]\u001b[0m\u001b[32m}\u001b[0m\u001b[32m$ including the Thomas J. Watson Research Center in 1961. \u001b[0m\u001b[32m[\u001b[0m\u001b[32m5\u001b[0m\u001b[32m]\u001b[0m\u001b[32m[\u001b[0m\u001b[32m6\u001b[0m\u001b[32m]\u001b[0m\u001b[32m\"\u001b[0m,\n",
       "            \u001b[33mmain_path\u001b[0m=\u001b[32m'main-text.8'\u001b[0m,\n",
       "            \u001b[33mpath_group\u001b[0m=\u001b[1m[\u001b[0m\u001b[32m'main-text.7'\u001b[0m, \u001b[32m'main-text.8'\u001b[0m\u001b[1m]\u001b[0m,\n",
       "            \u001b[33msource_is_text\u001b[0m=\u001b[3;92mTrue\u001b[0m\n",
       "        \u001b[1m)\u001b[0m\n",
       "    \u001b[1m]\u001b[0m\n",
       "\u001b[1m)\u001b[0m\n"
      ]
     },
     "metadata": {},
     "output_type": "display_data"
    }
   ],
   "source": [
    "question_query = RAGQuery(\n",
    "    question=QUESTION,\n",
    "    project=PROJ_KEY,\n",
    "    data_source=data_source,\n",
    "    retr_k=RETR_K,\n",
    "    return_prompt=True,\n",
    "    gen_timeout=GEN_TIMEOUT,\n",
    ")\n",
    "api_output = api.queries.run(question_query)\n",
    "rag_result = RAGResult.from_api_output(api_output)\n",
    "\n",
    "rich.print(QUESTION)\n",
    "rich.print(rag_result)"
   ]
  },
  {
   "cell_type": "markdown",
   "id": "066b7945",
   "metadata": {},
   "source": [
    "Additionally, we can generate a provenance URL to the document in the Deep Search UI:"
   ]
  },
  {
   "cell_type": "code",
   "execution_count": 9,
   "id": "18a7ede6",
   "metadata": {},
   "outputs": [
    {
     "data": {
      "text/markdown": [
       "The provenance of the answer can be inspected on the [source document](https://sds.app.accelerate.science/projects/b09ae7561a01dc7c4b0fd21a43bfd93d140766d1/library/private/6b70072911ad2794a3844dd44d1705a5ba37ca0b?search=JTdCJTIycHJpdmF0ZUNvbGxlY3Rpb24lMjIlM0ElMjI2YjcwMDcyOTExYWQyNzk0YTM4NDRkZDQ0ZDE3MDVhNWJhMzdjYTBiJTIyJTJDJTIydHlwZSUyMiUzQSUyMkRvY3VtZW50JTIyJTJDJTIyZXhwcmVzc2lvbiUyMiUzQSUyMmZpbGUtaW5mby5kb2N1bWVudC1oYXNoJTNBJTIwJTVDJTIyYjMwYmM2NjdhMzI0YWUxMTFkMDI1NTI2NTYzYjY3NGE4ZDNmZDg2OWJjMDdjOGZkMjA0YWE5NWIwNWQ0MWYwYyU1QyUyMiUyMiUyQyUyMmZpbHRlcnMlMjIlM0ElNUIlNUQlMkMlMjJzZWxlY3QlMjIlM0ElNUIlMjJfbmFtZSUyMiUyQyUyMmRlc2NyaXB0aW9uLmNvbGxlY3Rpb24lMjIlMkMlMjJwcm92JTIyJTJDJTIyZGVzY3JpcHRpb24udGl0bGUlMjIlMkMlMjJkZXNjcmlwdGlvbi5wdWJsaWNhdGlvbl9kYXRlJTIyJTJDJTIyZGVzY3JpcHRpb24udXJsX3JlZnMlMjIlNUQlMkMlMjJpdGVtSW5kZXglMjIlM0EwJTJDJTIycGFnZVNpemUlMjIlM0ExMCUyQyUyMnNlYXJjaEFmdGVySGlzdG9yeSUyMiUzQSU1QiU1RCUyQyUyMnZpZXdUeXBlJTIyJTNBJTIyc25pcHBldHMlMjIlMkMlMjJyZWNvcmRTZWxlY3Rpb24lMjIlM0ElN0IlMjJyZWNvcmQlMjIlM0ElN0IlMjJpZCUyMiUzQSUyMmIzMGJjNjY3YTMyNGFlMTExZDAyNTUyNjU2M2I2NzRhOGQzZmQ4NjliYzA3YzhmZDIwNGFhOTViMDVkNDFmMGMlMjIlN0QlMkMlMjJpdGVtSW5kZXglMjIlM0E3MSU3RCU3RA%3D%3D)."
      ],
      "text/plain": [
       "<IPython.core.display.Markdown object>"
      ]
     },
     "metadata": {},
     "output_type": "display_data"
    }
   ],
   "source": [
    "render_provenance_url(\n",
    "    api=api,\n",
    "    coords=data_source.source,\n",
    "    retr_item=rag_result.answers[0].grounding.retr_items[0],\n",
    ")"
   ]
  },
  {
   "cell_type": "markdown",
   "id": "b0f98608",
   "metadata": {},
   "source": [
    "As shown below, we can also inspect the timing information of the query execution, including the time spent on each step of the pipeline:"
   ]
  },
  {
   "cell_type": "code",
   "execution_count": 10,
   "id": "99fa6498",
   "metadata": {},
   "outputs": [
    {
     "data": {
      "text/html": [
       "<pre style=\"white-space:pre;overflow-x:auto;line-height:normal;font-family:Menlo,'DejaVu Sans Mono',consolas,'Courier New',monospace\"><span style=\"color: #800080; text-decoration-color: #800080; font-weight: bold\">QueryTimings</span><span style=\"font-weight: bold\">(</span>\n",
       "    <span style=\"color: #808000; text-decoration-color: #808000\">overall</span>=<span style=\"color: #008080; text-decoration-color: #008080; font-weight: bold\">1.606383173726499</span>,\n",
       "    <span style=\"color: #808000; text-decoration-color: #808000\">tasks</span>=<span style=\"font-weight: bold\">{</span>\n",
       "        <span style=\"color: #008000; text-decoration-color: #008000\">'QA'</span>: <span style=\"color: #800080; text-decoration-color: #800080; font-weight: bold\">TaskTimings</span><span style=\"font-weight: bold\">(</span>\n",
       "            <span style=\"color: #808000; text-decoration-color: #808000\">overall</span>=<span style=\"color: #008080; text-decoration-color: #008080; font-weight: bold\">1.6060180617496371</span>,\n",
       "            <span style=\"color: #808000; text-decoration-color: #808000\">details</span>=<span style=\"font-weight: bold\">{</span>\n",
       "                <span style=\"color: #008000; text-decoration-color: #008000\">'pipeline'</span>: <span style=\"color: #008080; text-decoration-color: #008080; font-weight: bold\">1.115321146324277</span>,\n",
       "                <span style=\"color: #008000; text-decoration-color: #008000\">'encode'</span>: <span style=\"color: #008080; text-decoration-color: #008080; font-weight: bold\">0.028653355315327644</span>,\n",
       "                <span style=\"color: #008000; text-decoration-color: #008000\">'search'</span>: <span style=\"color: #008080; text-decoration-color: #008080; font-weight: bold\">0.02463858388364315</span>,\n",
       "                <span style=\"color: #008000; text-decoration-color: #008000\">'rerank'</span>: <span style=\"color: #008080; text-decoration-color: #008080; font-weight: bold\">0.0</span>,\n",
       "                <span style=\"color: #008000; text-decoration-color: #008000\">'generate'</span>: <span style=\"color: #008080; text-decoration-color: #008080; font-weight: bold\">1.0093672648072243</span>\n",
       "            <span style=\"font-weight: bold\">}</span>\n",
       "        <span style=\"font-weight: bold\">)</span>\n",
       "    <span style=\"font-weight: bold\">}</span>\n",
       "<span style=\"font-weight: bold\">)</span>\n",
       "</pre>\n"
      ],
      "text/plain": [
       "\u001b[1;35mQueryTimings\u001b[0m\u001b[1m(\u001b[0m\n",
       "    \u001b[33moverall\u001b[0m=\u001b[1;36m1\u001b[0m\u001b[1;36m.606383173726499\u001b[0m,\n",
       "    \u001b[33mtasks\u001b[0m=\u001b[1m{\u001b[0m\n",
       "        \u001b[32m'QA'\u001b[0m: \u001b[1;35mTaskTimings\u001b[0m\u001b[1m(\u001b[0m\n",
       "            \u001b[33moverall\u001b[0m=\u001b[1;36m1\u001b[0m\u001b[1;36m.6060180617496371\u001b[0m,\n",
       "            \u001b[33mdetails\u001b[0m=\u001b[1m{\u001b[0m\n",
       "                \u001b[32m'pipeline'\u001b[0m: \u001b[1;36m1.115321146324277\u001b[0m,\n",
       "                \u001b[32m'encode'\u001b[0m: \u001b[1;36m0.028653355315327644\u001b[0m,\n",
       "                \u001b[32m'search'\u001b[0m: \u001b[1;36m0.02463858388364315\u001b[0m,\n",
       "                \u001b[32m'rerank'\u001b[0m: \u001b[1;36m0.0\u001b[0m,\n",
       "                \u001b[32m'generate'\u001b[0m: \u001b[1;36m1.0093672648072243\u001b[0m\n",
       "            \u001b[1m}\u001b[0m\n",
       "        \u001b[1m)\u001b[0m\n",
       "    \u001b[1m}\u001b[0m\n",
       "\u001b[1m)\u001b[0m\n"
      ]
     },
     "metadata": {},
     "output_type": "display_data"
    }
   ],
   "source": [
    "rich.print(api_output.timings)"
   ]
  },
  {
   "cell_type": "markdown",
   "id": "61e1cca5",
   "metadata": {},
   "source": [
    "### Semantic retrieval\n",
    "\n",
    "Besides the standard semantic retrieval usage shown in [QA Quick Start](./qa_quick_start.ipynb), `SemanticQuery` has numerous additional parameters:"
   ]
  },
  {
   "cell_type": "code",
   "execution_count": 11,
   "id": "1598dbe8",
   "metadata": {},
   "outputs": [
    {
     "name": "stdout",
     "output_type": "stream",
     "text": [
      "Help on function SemanticQuery in module deepsearch.cps.queries:\n",
      "\n",
      "SemanticQuery(question: str, *, project: Union[str, deepsearch.cps.client.components.projects.Project], data_source: Union[deepsearch.cps.client.components.documents.PrivateDataDocumentSource, deepsearch.cps.client.components.documents.PrivateDataCollectionSource, deepsearch.cps.client.components.documents.PublicDataDocumentSource], retr_k: int = 10, rerank: bool = False, text_weight: typing.Annotated[float, FieldInfo(default=PydanticUndefined, ge=0.0, le=1.0, multiple_of=0.1, extra={'strict': True})] = 0.1) -> deepsearch.cps.client.queries.query.Query\n",
      "    Create a semantic retrieval query\n",
      "    \n",
      "    Args:\n",
      "        question (str): the natural-language query\n",
      "        document_hash (str): hash of target document\n",
      "        project (Union[str, Project]): project to use\n",
      "        data_source (DataSource): the data source to query\n",
      "        retr_k (int, optional): num of items to retrieve; defaults to 10\n",
      "        rerank (bool, optional): whether to rerank retrieval results; defaults to False\n",
      "        text_weight (ConstrainedWeight, optional): lexical weight for hybrid search; allowed values: {0.0, 0.1, 0.2, ..., 1.0}; defaults to 0.1\n",
      "\n"
     ]
    }
   ],
   "source": [
    "help(SemanticQuery)"
   ]
  },
  {
   "cell_type": "markdown",
   "id": "e8c2e781",
   "metadata": {},
   "source": [
    "For instance, below we set:\n",
    "- `rerank` to `True` to rerank the retrieved chunks, and\n",
    "- `text_weight` to `0.8` to favor the lexical component of hybrid search"
   ]
  },
  {
   "cell_type": "code",
   "execution_count": 12,
   "id": "22953ad3",
   "metadata": {},
   "outputs": [
    {
     "data": {
      "text/html": [
       "<pre style=\"white-space:pre;overflow-x:auto;line-height:normal;font-family:Menlo,'DejaVu Sans Mono',consolas,'Courier New',monospace\">Where was the first European IBM lab located?\n",
       "</pre>\n"
      ],
      "text/plain": [
       "Where was the first European IBM lab located?\n"
      ]
     },
     "metadata": {},
     "output_type": "display_data"
    },
    {
     "data": {
      "text/html": [
       "<pre style=\"white-space:pre;overflow-x:auto;line-height:normal;font-family:Menlo,'DejaVu Sans Mono',consolas,'Courier New',monospace\"><span style=\"color: #800080; text-decoration-color: #800080; font-weight: bold\">SearchResult</span><span style=\"font-weight: bold\">(</span>\n",
       "    <span style=\"color: #808000; text-decoration-color: #808000\">search_result_items</span>=<span style=\"font-weight: bold\">[</span>\n",
       "        <span style=\"color: #800080; text-decoration-color: #800080; font-weight: bold\">SearchResultItem</span><span style=\"font-weight: bold\">(</span>\n",
       "            <span style=\"color: #808000; text-decoration-color: #808000\">doc_hash</span>=<span style=\"color: #008000; text-decoration-color: #008000\">'b30bc667a324ae111d025526563b674a8d3fd869bc07c8fd204aa95b05d41f0c'</span>,\n",
       "            <span style=\"color: #808000; text-decoration-color: #808000\">chunk</span>=<span style=\"color: #008000; text-decoration-color: #008000\">\"History\\nThe roots of today's IBM Research began with the 1945 opening of the Watson Scientific </span>\n",
       "<span style=\"color: #008000; text-decoration-color: #008000\">Computing Laboratory at Columbia University. $^{[4]}$ This was the first IBM laboratory devoted to pure science and</span>\n",
       "<span style=\"color: #008000; text-decoration-color: #008000\">later expanded into additional IBM Research locations in Westchester County, New York, starting in the 1950s, </span>\n",
       "<span style=\"color: #008000; text-decoration-color: #008000\">$^{[5][6]}$ including the Thomas J. Watson Research Center in 1961. [5][6]\"</span>,\n",
       "            <span style=\"color: #808000; text-decoration-color: #808000\">main_path</span>=<span style=\"color: #008000; text-decoration-color: #008000\">'main-text.8'</span>,\n",
       "            <span style=\"color: #808000; text-decoration-color: #808000\">path_group</span>=<span style=\"font-weight: bold\">[</span><span style=\"color: #008000; text-decoration-color: #008000\">'main-text.7'</span>, <span style=\"color: #008000; text-decoration-color: #008000\">'main-text.8'</span><span style=\"font-weight: bold\">]</span>,\n",
       "            <span style=\"color: #808000; text-decoration-color: #808000\">source_is_text</span>=<span style=\"color: #00ff00; text-decoration-color: #00ff00; font-style: italic\">True</span>\n",
       "        <span style=\"font-weight: bold\">)</span>,\n",
       "        <span style=\"color: #800080; text-decoration-color: #800080; font-weight: bold\">SearchResultItem</span><span style=\"font-weight: bold\">(</span>\n",
       "            <span style=\"color: #808000; text-decoration-color: #808000\">doc_hash</span>=<span style=\"color: #008000; text-decoration-color: #008000\">'b30bc667a324ae111d025526563b674a8d3fd869bc07c8fd204aa95b05d41f0c'</span>,\n",
       "            <span style=\"color: #808000; text-decoration-color: #808000\">chunk</span>=<span style=\"color: #008000; text-decoration-color: #008000\">'Switzerland\\nIn 1956, IBM opened their first European research laboratory in Adliswil, </span>\n",
       "<span style=\"color: #008000; text-decoration-color: #008000\">Switzerland, near Zurich. The lab moved to its own campus in neighboring Rüschlikon in 1962. The Zurich lab is </span>\n",
       "<span style=\"color: #008000; text-decoration-color: #008000\">staffed by a multicultural and interdisciplinary team of a few hundred permanent research staff members, graduate </span>\n",
       "<span style=\"color: #008000; text-decoration-color: #008000\">students and post-doctoral fellows, representing about 45 nationalities. Collocated with the lab is a Client Center</span>\n",
       "<span style=\"color: #008000; text-decoration-color: #008000\">(formerly the Industry Solutions Lab), an executive briefing facility demonstrating technology prototypes and </span>\n",
       "<span style=\"color: #008000; text-decoration-color: #008000\">solutions.'</span>,\n",
       "            <span style=\"color: #808000; text-decoration-color: #808000\">main_path</span>=<span style=\"color: #008000; text-decoration-color: #008000\">'main-text.71'</span>,\n",
       "            <span style=\"color: #808000; text-decoration-color: #808000\">path_group</span>=<span style=\"font-weight: bold\">[</span><span style=\"color: #008000; text-decoration-color: #008000\">'main-text.69'</span>, <span style=\"color: #008000; text-decoration-color: #008000\">'main-text.71'</span><span style=\"font-weight: bold\">]</span>,\n",
       "            <span style=\"color: #808000; text-decoration-color: #808000\">source_is_text</span>=<span style=\"color: #00ff00; text-decoration-color: #00ff00; font-style: italic\">True</span>\n",
       "        <span style=\"font-weight: bold\">)</span>,\n",
       "        <span style=\"color: #800080; text-decoration-color: #800080; font-weight: bold\">SearchResultItem</span><span style=\"font-weight: bold\">(</span>\n",
       "            <span style=\"color: #808000; text-decoration-color: #808000\">doc_hash</span>=<span style=\"color: #008000; text-decoration-color: #008000\">'b30bc667a324ae111d025526563b674a8d3fd869bc07c8fd204aa95b05d41f0c'</span>,\n",
       "            <span style=\"color: #808000; text-decoration-color: #808000\">chunk</span>=<span style=\"color: #008000; text-decoration-color: #008000\">'Switzerland\\nIBM Research-Zurich (previously called IBM Zurich Research Laboratory, ZRL) is the </span>\n",
       "<span style=\"color: #008000; text-decoration-color: #008000\">European branch of IBM Research. It was opened in 1956 and is located in Rüschlikon, near Zurich, Switzerland.'</span>,\n",
       "            <span style=\"color: #808000; text-decoration-color: #808000\">main_path</span>=<span style=\"color: #008000; text-decoration-color: #008000\">'main-text.70'</span>,\n",
       "            <span style=\"color: #808000; text-decoration-color: #808000\">path_group</span>=<span style=\"font-weight: bold\">[</span><span style=\"color: #008000; text-decoration-color: #008000\">'main-text.69'</span>, <span style=\"color: #008000; text-decoration-color: #008000\">'main-text.70'</span><span style=\"font-weight: bold\">]</span>,\n",
       "            <span style=\"color: #808000; text-decoration-color: #808000\">source_is_text</span>=<span style=\"color: #00ff00; text-decoration-color: #00ff00; font-style: italic\">True</span>\n",
       "        <span style=\"font-weight: bold\">)</span>\n",
       "    <span style=\"font-weight: bold\">]</span>\n",
       "<span style=\"font-weight: bold\">)</span>\n",
       "</pre>\n"
      ],
      "text/plain": [
       "\u001b[1;35mSearchResult\u001b[0m\u001b[1m(\u001b[0m\n",
       "    \u001b[33msearch_result_items\u001b[0m=\u001b[1m[\u001b[0m\n",
       "        \u001b[1;35mSearchResultItem\u001b[0m\u001b[1m(\u001b[0m\n",
       "            \u001b[33mdoc_hash\u001b[0m=\u001b[32m'b30bc667a324ae111d025526563b674a8d3fd869bc07c8fd204aa95b05d41f0c'\u001b[0m,\n",
       "            \u001b[33mchunk\u001b[0m=\u001b[32m\"History\u001b[0m\u001b[32m\\nThe roots of today's IBM Research began with the 1945 opening of the Watson Scientific \u001b[0m\n",
       "\u001b[32mComputing Laboratory at Columbia University. $^\u001b[0m\u001b[32m{\u001b[0m\u001b[32m[\u001b[0m\u001b[32m4\u001b[0m\u001b[32m]\u001b[0m\u001b[32m}\u001b[0m\u001b[32m$ This was the first IBM laboratory devoted to pure science and\u001b[0m\n",
       "\u001b[32mlater expanded into additional IBM Research locations in Westchester County, New York, starting in the 1950s, \u001b[0m\n",
       "\u001b[32m$^\u001b[0m\u001b[32m{\u001b[0m\u001b[32m[\u001b[0m\u001b[32m5\u001b[0m\u001b[32m]\u001b[0m\u001b[32m[\u001b[0m\u001b[32m6\u001b[0m\u001b[32m]\u001b[0m\u001b[32m}\u001b[0m\u001b[32m$ including the Thomas J. Watson Research Center in 1961. \u001b[0m\u001b[32m[\u001b[0m\u001b[32m5\u001b[0m\u001b[32m]\u001b[0m\u001b[32m[\u001b[0m\u001b[32m6\u001b[0m\u001b[32m]\u001b[0m\u001b[32m\"\u001b[0m,\n",
       "            \u001b[33mmain_path\u001b[0m=\u001b[32m'main-text.8'\u001b[0m,\n",
       "            \u001b[33mpath_group\u001b[0m=\u001b[1m[\u001b[0m\u001b[32m'main-text.7'\u001b[0m, \u001b[32m'main-text.8'\u001b[0m\u001b[1m]\u001b[0m,\n",
       "            \u001b[33msource_is_text\u001b[0m=\u001b[3;92mTrue\u001b[0m\n",
       "        \u001b[1m)\u001b[0m,\n",
       "        \u001b[1;35mSearchResultItem\u001b[0m\u001b[1m(\u001b[0m\n",
       "            \u001b[33mdoc_hash\u001b[0m=\u001b[32m'b30bc667a324ae111d025526563b674a8d3fd869bc07c8fd204aa95b05d41f0c'\u001b[0m,\n",
       "            \u001b[33mchunk\u001b[0m=\u001b[32m'Switzerland\\nIn 1956, IBM opened their first European research laboratory in Adliswil, \u001b[0m\n",
       "\u001b[32mSwitzerland, near Zurich. The lab moved to its own campus in neighboring Rüschlikon in 1962. The Zurich lab is \u001b[0m\n",
       "\u001b[32mstaffed by a multicultural and interdisciplinary team of a few hundred permanent research staff members, graduate \u001b[0m\n",
       "\u001b[32mstudents and post-doctoral fellows, representing about 45 nationalities. Collocated with the lab is a Client Center\u001b[0m\n",
       "\u001b[32m(\u001b[0m\u001b[32mformerly the Industry Solutions Lab\u001b[0m\u001b[32m)\u001b[0m\u001b[32m, an executive briefing facility demonstrating technology prototypes and \u001b[0m\n",
       "\u001b[32msolutions.'\u001b[0m,\n",
       "            \u001b[33mmain_path\u001b[0m=\u001b[32m'main-text.71'\u001b[0m,\n",
       "            \u001b[33mpath_group\u001b[0m=\u001b[1m[\u001b[0m\u001b[32m'main-text.69'\u001b[0m, \u001b[32m'main-text.71'\u001b[0m\u001b[1m]\u001b[0m,\n",
       "            \u001b[33msource_is_text\u001b[0m=\u001b[3;92mTrue\u001b[0m\n",
       "        \u001b[1m)\u001b[0m,\n",
       "        \u001b[1;35mSearchResultItem\u001b[0m\u001b[1m(\u001b[0m\n",
       "            \u001b[33mdoc_hash\u001b[0m=\u001b[32m'b30bc667a324ae111d025526563b674a8d3fd869bc07c8fd204aa95b05d41f0c'\u001b[0m,\n",
       "            \u001b[33mchunk\u001b[0m=\u001b[32m'Switzerland\\nIBM Research-Zurich \u001b[0m\u001b[32m(\u001b[0m\u001b[32mpreviously called IBM Zurich Research Laboratory, ZRL\u001b[0m\u001b[32m)\u001b[0m\u001b[32m is the \u001b[0m\n",
       "\u001b[32mEuropean branch of IBM Research. It was opened in 1956 and is located in Rüschlikon, near Zurich, Switzerland.'\u001b[0m,\n",
       "            \u001b[33mmain_path\u001b[0m=\u001b[32m'main-text.70'\u001b[0m,\n",
       "            \u001b[33mpath_group\u001b[0m=\u001b[1m[\u001b[0m\u001b[32m'main-text.69'\u001b[0m, \u001b[32m'main-text.70'\u001b[0m\u001b[1m]\u001b[0m,\n",
       "            \u001b[33msource_is_text\u001b[0m=\u001b[3;92mTrue\u001b[0m\n",
       "        \u001b[1m)\u001b[0m\n",
       "    \u001b[1m]\u001b[0m\n",
       "\u001b[1m)\u001b[0m\n"
      ]
     },
     "metadata": {},
     "output_type": "display_data"
    }
   ],
   "source": [
    "# submit natural-language query on document\n",
    "question_query = SemanticQuery(\n",
    "    question=QUESTION,\n",
    "    project=PROJ_KEY,\n",
    "    data_source=data_source,\n",
    "    retr_k=RETR_K,\n",
    "    rerank=True,\n",
    "    text_weight=0.8,\n",
    ")\n",
    "api_output = api.queries.run(question_query)\n",
    "rag_result = SearchResult.from_api_output(api_output)\n",
    "\n",
    "rich.print(QUESTION)\n",
    "rich.print(rag_result)"
   ]
  },
  {
   "cell_type": "markdown",
   "id": "8c383a49",
   "metadata": {},
   "source": [
    "Again here, we can see the time spent on each step of the pipeline:"
   ]
  },
  {
   "cell_type": "code",
   "execution_count": 13,
   "id": "4b6ce608",
   "metadata": {},
   "outputs": [
    {
     "data": {
      "text/html": [
       "<pre style=\"white-space:pre;overflow-x:auto;line-height:normal;font-family:Menlo,'DejaVu Sans Mono',consolas,'Courier New',monospace\"><span style=\"color: #800080; text-decoration-color: #800080; font-weight: bold\">QueryTimings</span><span style=\"font-weight: bold\">(</span>\n",
       "    <span style=\"color: #808000; text-decoration-color: #808000\">overall</span>=<span style=\"color: #008080; text-decoration-color: #008080; font-weight: bold\">1.1053222483024001</span>,\n",
       "    <span style=\"color: #808000; text-decoration-color: #808000\">tasks</span>=<span style=\"font-weight: bold\">{</span>\n",
       "        <span style=\"color: #008000; text-decoration-color: #008000\">'QA'</span>: <span style=\"color: #800080; text-decoration-color: #800080; font-weight: bold\">TaskTimings</span><span style=\"font-weight: bold\">(</span>\n",
       "            <span style=\"color: #808000; text-decoration-color: #808000\">overall</span>=<span style=\"color: #008080; text-decoration-color: #008080; font-weight: bold\">1.1050042947754264</span>,\n",
       "            <span style=\"color: #808000; text-decoration-color: #808000\">details</span>=<span style=\"font-weight: bold\">{</span>\n",
       "                <span style=\"color: #008000; text-decoration-color: #008000\">'pipeline'</span>: <span style=\"color: #008080; text-decoration-color: #008080; font-weight: bold\">0.6090765688568354</span>,\n",
       "                <span style=\"color: #008000; text-decoration-color: #008000\">'encode'</span>: <span style=\"color: #008080; text-decoration-color: #008080; font-weight: bold\">0.026338623836636543</span>,\n",
       "                <span style=\"color: #008000; text-decoration-color: #008000\">'search'</span>: <span style=\"color: #008080; text-decoration-color: #008080; font-weight: bold\">0.025418167933821678</span>,\n",
       "                <span style=\"color: #008000; text-decoration-color: #008000\">'rerank'</span>: <span style=\"color: #008080; text-decoration-color: #008080; font-weight: bold\">0.5562568940222263</span>\n",
       "            <span style=\"font-weight: bold\">}</span>\n",
       "        <span style=\"font-weight: bold\">)</span>\n",
       "    <span style=\"font-weight: bold\">}</span>\n",
       "<span style=\"font-weight: bold\">)</span>\n",
       "</pre>\n"
      ],
      "text/plain": [
       "\u001b[1;35mQueryTimings\u001b[0m\u001b[1m(\u001b[0m\n",
       "    \u001b[33moverall\u001b[0m=\u001b[1;36m1\u001b[0m\u001b[1;36m.1053222483024001\u001b[0m,\n",
       "    \u001b[33mtasks\u001b[0m=\u001b[1m{\u001b[0m\n",
       "        \u001b[32m'QA'\u001b[0m: \u001b[1;35mTaskTimings\u001b[0m\u001b[1m(\u001b[0m\n",
       "            \u001b[33moverall\u001b[0m=\u001b[1;36m1\u001b[0m\u001b[1;36m.1050042947754264\u001b[0m,\n",
       "            \u001b[33mdetails\u001b[0m=\u001b[1m{\u001b[0m\n",
       "                \u001b[32m'pipeline'\u001b[0m: \u001b[1;36m0.6090765688568354\u001b[0m,\n",
       "                \u001b[32m'encode'\u001b[0m: \u001b[1;36m0.026338623836636543\u001b[0m,\n",
       "                \u001b[32m'search'\u001b[0m: \u001b[1;36m0.025418167933821678\u001b[0m,\n",
       "                \u001b[32m'rerank'\u001b[0m: \u001b[1;36m0.5562568940222263\u001b[0m\n",
       "            \u001b[1m}\u001b[0m\n",
       "        \u001b[1m)\u001b[0m\n",
       "    \u001b[1m}\u001b[0m\n",
       "\u001b[1m)\u001b[0m\n"
      ]
     },
     "metadata": {},
     "output_type": "display_data"
    }
   ],
   "source": [
    "rich.print(api_output.timings)"
   ]
  }
 ],
 "metadata": {
  "kernelspec": {
   "display_name": "Python 3 (ipykernel)",
   "language": "python",
   "name": "python3"
  },
  "language_info": {
   "codemirror_mode": {
    "name": "ipython",
    "version": 3
   },
   "file_extension": ".py",
   "mimetype": "text/x-python",
   "name": "python",
   "nbconvert_exporter": "python",
   "pygments_lexer": "ipython3",
   "version": "3.10.4"
  }
 },
 "nbformat": 4,
 "nbformat_minor": 5
}
