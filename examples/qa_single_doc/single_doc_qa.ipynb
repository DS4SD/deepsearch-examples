{
 "cells": [
  {
   "cell_type": "markdown",
   "id": "99f717ef-4cba-4300-b258-0b1c248cb873",
   "metadata": {},
   "source": [
    "# RAG and Semantic Retrieval on a Single Document\n",
    "\n",
    "Deep Search allows users to interact with the documents using conversational AI, i.e. you interact with a virtual assistant which answer your questions using the information in the document.\n",
    "\n",
    "In this example we demonstrate how achive the same interaction programmatically.\n",
    "\n",
    "### Access required\n",
    "\n",
    "The content of this notebook requires access to Deep Search capabilities which are not\n",
    "available on the public access system.\n",
    "\n",
    "[Contact us](https://ds4sd.github.io) if you are interested in exploring\n",
    "these Deep Search capabilities.\n",
    "\n",
    "\n",
    "### GenAI Integration required\n",
    "\n",
    "When interacting with the virtual assistant, Deep Search requires a connection to a Generative AI API. Currently, we support connections to [watsonx.ai](https://www.ibm.com/products/watsonx-ai) or the IBM-internal GenAI platform BAM.\n",
    "\n",
    "Deep Search allows custom GenAI configurations for each project.\n",
    "In the following example you will require to work in a project which has such GenAI capabilities activated."
   ]
  },
  {
   "cell_type": "markdown",
   "id": "256aef50-71a1-4278-9b22-17cb99a6566e",
   "metadata": {},
   "source": [
    "### Set notebook parameters\n"
   ]
  },
  {
   "cell_type": "code",
   "execution_count": 1,
   "id": "5b244bdd-1b52-41ff-b63e-9a203570d210",
   "metadata": {},
   "outputs": [],
   "source": [
    "from dsnotebooks.settings import DocQANotebookSettings\n",
    "\n",
    "# notebooks settings auto-loaded from .env / env vars\n",
    "notebook_settings = DocQANotebookSettings()\n",
    "\n",
    "PROFILE_NAME = notebook_settings.profile     # the profile to use\n",
    "PROJ_KEY = notebook_settings.proj_key        # the project to use\n",
    "\n",
    "# index and doc for doc QA from semantically indexed collection\n",
    "SEM_ON_IDX_KEY = notebook_settings.sem_on_idx_key\n",
    "SEM_ON_IDX_DOC_HASH = notebook_settings.sem_on_idx_doc_hash\n",
    "\n",
    "# index and doc for doc QA from not semantically indexed collection\n",
    "SEM_OFF_IDX_KEY = notebook_settings.sem_off_idx_key\n",
    "SEM_OFF_IDX_DOC_HASH = notebook_settings.sem_off_idx_doc_hash\n",
    "\n",
    "RETR_K = notebook_settings.retr_k            # the number of search results to retrieve\n",
    "TEXT_WEIGHT = notebook_settings.text_weight  # the weight of lexical search (0.0: semantic-only, 1.0: lexical-only, anything in between: hybrid search)\n",
    "RERANK = notebook_settings.rerank            # whether to rerank the search results"
   ]
  },
  {
   "cell_type": "markdown",
   "id": "a5269060-bb5f-4fe3-9b64-547202db6714",
   "metadata": {},
   "source": [
    "### Import example dependencies"
   ]
  },
  {
   "cell_type": "code",
   "execution_count": 2,
   "id": "5d236ea0-db1c-4171-8e11-cdd0bad69d66",
   "metadata": {},
   "outputs": [],
   "source": [
    "# Import standard dependenices\n",
    "import rich\n",
    "\n",
    "# IPython utilities\n",
    "from IPython.display import display, Markdown\n",
    "\n",
    "# Import the deepsearch-toolkit\n",
    "from deepsearch.cps.client.api import CpsApi\n",
    "from deepsearch.cps.client.components.elastic import ElasticProjectDataCollectionSource\n",
    "from deepsearch.cps.queries import DocumentRAGQuery, DocumentSemanticQuery\n",
    "from deepsearch.cps.queries.results import RAGResult, SearchResult, SearchResultItem\n"
   ]
  },
  {
   "cell_type": "markdown",
   "id": "293c249b-6018-46f2-b4d8-795f994d4729",
   "metadata": {},
   "source": [
    "### Connect to Deep Search"
   ]
  },
  {
   "cell_type": "code",
   "execution_count": 3,
   "id": "9c108432-a285-4c7b-a996-008ac3ff3d7a",
   "metadata": {},
   "outputs": [],
   "source": [
    "api = CpsApi.from_env(profile_name=PROFILE_NAME)\n"
   ]
  },
  {
   "cell_type": "markdown",
   "metadata": {},
   "source": [
    "### Utils"
   ]
  },
  {
   "cell_type": "code",
   "execution_count": 4,
   "metadata": {},
   "outputs": [],
   "source": [
    "def render_provenance_url(\n",
    "        api: CpsApi,\n",
    "        coords: ElasticProjectDataCollectionSource,\n",
    "        retr_item: SearchResultItem,\n",
    "):\n",
    "    ## compute URL to the document in the Deep Search UI\n",
    "    item_index = int(retr_item.path_in_doc[retr_item.path_in_doc.rfind(\".\")+1:])\n",
    "    doc_url = api.documents.generate_url(\n",
    "        document_hash=retr_item.doc_hash,\n",
    "        data_source=coords,\n",
    "        item_index=item_index,\n",
    "    )\n",
    "    display(Markdown(f\"The provenance of the answer can be inspected on the [source document]({doc_url}).\"))"
   ]
  },
  {
   "cell_type": "markdown",
   "id": "38cde869-46d1-4833-8eb3-2381b5e5fb68",
   "metadata": {},
   "source": [
    "---"
   ]
  },
  {
   "cell_type": "markdown",
   "metadata": {},
   "source": [
    "## QA on document within semantically indexed collection"
   ]
  },
  {
   "cell_type": "markdown",
   "metadata": {},
   "source": [
    "### RAG"
   ]
  },
  {
   "cell_type": "markdown",
   "metadata": {},
   "source": [
    "If the document is part of a semantically indexed collection (see [Document Collection QA](https://github.com/DS4SD/deepsearch-examples/tree/main/examples/qa_doc_collection) for details),\n",
    "we can directly do RAG on it as shown below:"
   ]
  },
  {
   "cell_type": "code",
   "execution_count": 5,
   "metadata": {},
   "outputs": [
    {
     "data": {
      "text/html": [
       "<pre style=\"white-space:pre;overflow-x:auto;line-height:normal;font-family:Menlo,'DejaVu Sans Mono',consolas,'Courier New',monospace\"><span style=\"color: #800080; text-decoration-color: #800080; font-weight: bold\">RAGResult</span><span style=\"font-weight: bold\">(</span>\n",
       "    <span style=\"color: #808000; text-decoration-color: #808000\">answers</span>=<span style=\"font-weight: bold\">[</span>\n",
       "        <span style=\"color: #800080; text-decoration-color: #800080; font-weight: bold\">RAGAnswerItem</span><span style=\"font-weight: bold\">(</span>\n",
       "            <span style=\"color: #808000; text-decoration-color: #808000\">answer</span>=<span style=\"color: #008000; text-decoration-color: #008000\">'Adliswil, Switzerland'</span>,\n",
       "            <span style=\"color: #808000; text-decoration-color: #808000\">grounding</span>=<span style=\"color: #800080; text-decoration-color: #800080; font-weight: bold\">RAGGroundingInfo</span><span style=\"font-weight: bold\">(</span>\n",
       "                <span style=\"color: #808000; text-decoration-color: #808000\">items</span>=<span style=\"font-weight: bold\">[</span>\n",
       "                    <span style=\"color: #800080; text-decoration-color: #800080; font-weight: bold\">SearchResultItem</span><span style=\"font-weight: bold\">(</span>\n",
       "                        <span style=\"color: #808000; text-decoration-color: #808000\">doc_hash</span>=<span style=\"color: #008000; text-decoration-color: #008000\">'b30bc667a324ae111d025526563b674a8d3fd869bc07c8fd204aa95b05d41f0c'</span>,\n",
       "                        <span style=\"color: #808000; text-decoration-color: #808000\">path_in_doc</span>=<span style=\"color: #008000; text-decoration-color: #008000\">'main-text.71'</span>,\n",
       "                        <span style=\"color: #808000; text-decoration-color: #808000\">passage</span>=<span style=\"color: #008000; text-decoration-color: #008000\">'In 1956, IBM opened their first European research laboratory in Adliswil, </span>\n",
       "<span style=\"color: #008000; text-decoration-color: #008000\">Switzerland, near Zurich. The lab moved to its own campus in neighboring Rüschlikon in 1962. The Zurich lab is </span>\n",
       "<span style=\"color: #008000; text-decoration-color: #008000\">staffed by a multicultural and interdisciplinary team of a few hundred permanent research staff members, graduate </span>\n",
       "<span style=\"color: #008000; text-decoration-color: #008000\">students and post-doctoral fellows, representing about 45 nationalities. Collocated with the lab is a Client Center</span>\n",
       "<span style=\"color: #008000; text-decoration-color: #008000\">(formerly the Industry Solutions Lab), an executive briefing facility demonstrating technology prototypes and </span>\n",
       "<span style=\"color: #008000; text-decoration-color: #008000\">solutions.'</span>,\n",
       "                        <span style=\"color: #808000; text-decoration-color: #808000\">source_is_text</span>=<span style=\"color: #00ff00; text-decoration-color: #00ff00; font-style: italic\">True</span>\n",
       "                    <span style=\"font-weight: bold\">)</span>\n",
       "                <span style=\"font-weight: bold\">]</span>\n",
       "            <span style=\"font-weight: bold\">)</span>\n",
       "        <span style=\"font-weight: bold\">)</span>\n",
       "    <span style=\"font-weight: bold\">]</span>,\n",
       "    <span style=\"color: #808000; text-decoration-color: #808000\">search_result_items</span>=<span style=\"font-weight: bold\">[</span>\n",
       "        <span style=\"color: #800080; text-decoration-color: #800080; font-weight: bold\">SearchResultItem</span><span style=\"font-weight: bold\">(</span>\n",
       "            <span style=\"color: #808000; text-decoration-color: #808000\">doc_hash</span>=<span style=\"color: #008000; text-decoration-color: #008000\">'b30bc667a324ae111d025526563b674a8d3fd869bc07c8fd204aa95b05d41f0c'</span>,\n",
       "            <span style=\"color: #808000; text-decoration-color: #808000\">path_in_doc</span>=<span style=\"color: #008000; text-decoration-color: #008000\">'main-text.71'</span>,\n",
       "            <span style=\"color: #808000; text-decoration-color: #808000\">passage</span>=<span style=\"color: #008000; text-decoration-color: #008000\">'In 1956, IBM opened their first European research laboratory in Adliswil, Switzerland, near </span>\n",
       "<span style=\"color: #008000; text-decoration-color: #008000\">Zurich. The lab moved to its own campus in neighboring Rüschlikon in 1962. The Zurich lab is staffed by a </span>\n",
       "<span style=\"color: #008000; text-decoration-color: #008000\">multicultural and interdisciplinary team of a few hundred permanent research staff members, graduate students and </span>\n",
       "<span style=\"color: #008000; text-decoration-color: #008000\">post-doctoral fellows, representing about 45 nationalities. Collocated with the lab is a Client Center (formerly </span>\n",
       "<span style=\"color: #008000; text-decoration-color: #008000\">the Industry Solutions Lab), an executive briefing facility demonstrating technology prototypes and solutions.'</span>,\n",
       "            <span style=\"color: #808000; text-decoration-color: #808000\">source_is_text</span>=<span style=\"color: #00ff00; text-decoration-color: #00ff00; font-style: italic\">True</span>\n",
       "        <span style=\"font-weight: bold\">)</span>,\n",
       "        <span style=\"color: #800080; text-decoration-color: #800080; font-weight: bold\">SearchResultItem</span><span style=\"font-weight: bold\">(</span>\n",
       "            <span style=\"color: #808000; text-decoration-color: #808000\">doc_hash</span>=<span style=\"color: #008000; text-decoration-color: #008000\">'b30bc667a324ae111d025526563b674a8d3fd869bc07c8fd204aa95b05d41f0c'</span>,\n",
       "            <span style=\"color: #808000; text-decoration-color: #808000\">path_in_doc</span>=<span style=\"color: #008000; text-decoration-color: #008000\">'main-text.70'</span>,\n",
       "            <span style=\"color: #808000; text-decoration-color: #808000\">passage</span>=<span style=\"color: #008000; text-decoration-color: #008000\">'IBM Research-Zurich (previously called IBM Zurich Research Laboratory, ZRL) is the European </span>\n",
       "<span style=\"color: #008000; text-decoration-color: #008000\">branch of IBM Research. It was opened in 1956 and is located in Rüschlikon, near Zurich, Switzerland.'</span>,\n",
       "            <span style=\"color: #808000; text-decoration-color: #808000\">source_is_text</span>=<span style=\"color: #00ff00; text-decoration-color: #00ff00; font-style: italic\">True</span>\n",
       "        <span style=\"font-weight: bold\">)</span>,\n",
       "        <span style=\"color: #800080; text-decoration-color: #800080; font-weight: bold\">SearchResultItem</span><span style=\"font-weight: bold\">(</span>\n",
       "            <span style=\"color: #808000; text-decoration-color: #808000\">doc_hash</span>=<span style=\"color: #008000; text-decoration-color: #008000\">'b30bc667a324ae111d025526563b674a8d3fd869bc07c8fd204aa95b05d41f0c'</span>,\n",
       "            <span style=\"color: #808000; text-decoration-color: #808000\">path_in_doc</span>=<span style=\"color: #008000; text-decoration-color: #008000\">'main-text.8'</span>,\n",
       "            <span style=\"color: #808000; text-decoration-color: #808000\">passage</span>=<span style=\"color: #008000; text-decoration-color: #008000\">\"The roots of today's IBM Research began with the 1945 opening of the Watson Scientific </span>\n",
       "<span style=\"color: #008000; text-decoration-color: #008000\">Computing Laboratory at Columbia University. $^{[4]}$ This was the first IBM laboratory devoted to pure science and</span>\n",
       "<span style=\"color: #008000; text-decoration-color: #008000\">later expanded into additional IBM Research locations in Westchester County, New York, starting in the 1950s, </span>\n",
       "<span style=\"color: #008000; text-decoration-color: #008000\">$^{[5][6]}$ including the Thomas J. Watson Research Center in 1961. [5][6]\"</span>,\n",
       "            <span style=\"color: #808000; text-decoration-color: #808000\">source_is_text</span>=<span style=\"color: #00ff00; text-decoration-color: #00ff00; font-style: italic\">True</span>\n",
       "        <span style=\"font-weight: bold\">)</span>,\n",
       "        <span style=\"color: #800080; text-decoration-color: #800080; font-weight: bold\">SearchResultItem</span><span style=\"font-weight: bold\">(</span>\n",
       "            <span style=\"color: #808000; text-decoration-color: #808000\">doc_hash</span>=<span style=\"color: #008000; text-decoration-color: #008000\">'b30bc667a324ae111d025526563b674a8d3fd869bc07c8fd204aa95b05d41f0c'</span>,\n",
       "            <span style=\"color: #808000; text-decoration-color: #808000\">path_in_doc</span>=<span style=\"color: #008000; text-decoration-color: #008000\">'main-text.22'</span>,\n",
       "            <span style=\"color: #808000; text-decoration-color: #808000\">passage</span>=<span style=\"color: #008000; text-decoration-color: #008000\">'Cambridge-IBM Research and MIT-IBM Watson AI Lab (Cambridge, US)'</span>,\n",
       "            <span style=\"color: #808000; text-decoration-color: #808000\">source_is_text</span>=<span style=\"color: #00ff00; text-decoration-color: #00ff00; font-style: italic\">True</span>\n",
       "        <span style=\"font-weight: bold\">)</span>,\n",
       "        <span style=\"color: #800080; text-decoration-color: #800080; font-weight: bold\">SearchResultItem</span><span style=\"font-weight: bold\">(</span>\n",
       "            <span style=\"color: #808000; text-decoration-color: #808000\">doc_hash</span>=<span style=\"color: #008000; text-decoration-color: #008000\">'b30bc667a324ae111d025526563b674a8d3fd869bc07c8fd204aa95b05d41f0c'</span>,\n",
       "            <span style=\"color: #808000; text-decoration-color: #808000\">path_in_doc</span>=<span style=\"color: #008000; text-decoration-color: #008000\">'main-text.62'</span>,\n",
       "            <span style=\"color: #808000; text-decoration-color: #808000\">passage</span>=<span style=\"color: #008000; text-decoration-color: #008000\">\"IBM Research-Haifa, previously known as the Haifa Research Lab (HRL) was founded as a small </span>\n",
       "<span style=\"color: #008000; text-decoration-color: #008000\">scientific center in 1972. $^{[55]}$ Since then, it has grown into a major lab that leads the development of </span>\n",
       "<span style=\"color: #008000; text-decoration-color: #008000\">innovative technologies and solutions for the IBM corporation. The lab's offices are situated in three locations </span>\n",
       "<span style=\"color: #008000; text-decoration-color: #008000\">across Israel: Haifa, Tel Aviv, and Beer Sheva.\"</span>,\n",
       "            <span style=\"color: #808000; text-decoration-color: #808000\">source_is_text</span>=<span style=\"color: #00ff00; text-decoration-color: #00ff00; font-style: italic\">True</span>\n",
       "        <span style=\"font-weight: bold\">)</span>,\n",
       "        <span style=\"color: #800080; text-decoration-color: #800080; font-weight: bold\">SearchResultItem</span><span style=\"font-weight: bold\">(</span>\n",
       "            <span style=\"color: #808000; text-decoration-color: #808000\">doc_hash</span>=<span style=\"color: #008000; text-decoration-color: #008000\">'b30bc667a324ae111d025526563b674a8d3fd869bc07c8fd204aa95b05d41f0c'</span>,\n",
       "            <span style=\"color: #808000; text-decoration-color: #808000\">path_in_doc</span>=<span style=\"color: #008000; text-decoration-color: #008000\">'main-text.79'</span>,\n",
       "            <span style=\"color: #808000; text-decoration-color: #808000\">passage</span>=<span style=\"color: #008000; text-decoration-color: #008000\">\"1. 'Labs and locations ' (https://research.ibm.com/labs/). IBM Research. Archived </span>\n",
       "<span style=\"color: #008000; text-decoration-color: #008000\">(https://web.archiv e.org/web/20221221032216/https://research.ibm.com/labs/) from the original on 21 December\"</span>,\n",
       "            <span style=\"color: #808000; text-decoration-color: #808000\">source_is_text</span>=<span style=\"color: #00ff00; text-decoration-color: #00ff00; font-style: italic\">True</span>\n",
       "        <span style=\"font-weight: bold\">)</span>,\n",
       "        <span style=\"color: #800080; text-decoration-color: #800080; font-weight: bold\">SearchResultItem</span><span style=\"font-weight: bold\">(</span>\n",
       "            <span style=\"color: #808000; text-decoration-color: #808000\">doc_hash</span>=<span style=\"color: #008000; text-decoration-color: #008000\">'b30bc667a324ae111d025526563b674a8d3fd869bc07c8fd204aa95b05d41f0c'</span>,\n",
       "            <span style=\"color: #808000; text-decoration-color: #808000\">path_in_doc</span>=<span style=\"color: #008000; text-decoration-color: #008000\">'main-text.30'</span>,\n",
       "            <span style=\"color: #808000; text-decoration-color: #808000\">passage</span>=<span style=\"color: #008000; text-decoration-color: #008000\">'Historic research centers for IBM also include IBM La Gaude (Nice), the Cambridge Scientific </span>\n",
       "<span style=\"color: #008000; text-decoration-color: #008000\">Center, the IBM New York Scientific Center, 330 North Wabash (Chicago), IBM Austin Research Laboratory, and IBM </span>\n",
       "<span style=\"color: #008000; text-decoration-color: #008000\">Laboratory Vienna. [33]'</span>,\n",
       "            <span style=\"color: #808000; text-decoration-color: #808000\">source_is_text</span>=<span style=\"color: #00ff00; text-decoration-color: #00ff00; font-style: italic\">True</span>\n",
       "        <span style=\"font-weight: bold\">)</span>,\n",
       "        <span style=\"color: #800080; text-decoration-color: #800080; font-weight: bold\">SearchResultItem</span><span style=\"font-weight: bold\">(</span>\n",
       "            <span style=\"color: #808000; text-decoration-color: #808000\">doc_hash</span>=<span style=\"color: #008000; text-decoration-color: #008000\">'b30bc667a324ae111d025526563b674a8d3fd869bc07c8fd204aa95b05d41f0c'</span>,\n",
       "            <span style=\"color: #808000; text-decoration-color: #808000\">path_in_doc</span>=<span style=\"color: #008000; text-decoration-color: #008000\">'main-text.36'</span>,\n",
       "            <span style=\"color: #808000; text-decoration-color: #808000\">passage</span>=<span style=\"color: #008000; text-decoration-color: #008000\">'IBM opened its first West Coast research center, the San Jose Research Laboratory in 1952, </span>\n",
       "<span style=\"color: #008000; text-decoration-color: #008000\">managed by Reynold B. Johnson. Among its first developments was the IBM 350, the first commercial moving head hard </span>\n",
       "<span style=\"color: #008000; text-decoration-color: #008000\">disk drive. Launched in 1956, this saw use in the IBM 305 RAMAC computer system. Subdivisions'</span>,\n",
       "            <span style=\"color: #808000; text-decoration-color: #808000\">source_is_text</span>=<span style=\"color: #00ff00; text-decoration-color: #00ff00; font-style: italic\">True</span>\n",
       "        <span style=\"font-weight: bold\">)</span>,\n",
       "        <span style=\"color: #800080; text-decoration-color: #800080; font-weight: bold\">SearchResultItem</span><span style=\"font-weight: bold\">(</span>\n",
       "            <span style=\"color: #808000; text-decoration-color: #808000\">doc_hash</span>=<span style=\"color: #008000; text-decoration-color: #008000\">'b30bc667a324ae111d025526563b674a8d3fd869bc07c8fd204aa95b05d41f0c'</span>,\n",
       "            <span style=\"color: #808000; text-decoration-color: #808000\">path_in_doc</span>=<span style=\"color: #008000; text-decoration-color: #008000\">'main-text.29'</span>,\n",
       "            <span style=\"color: #808000; text-decoration-color: #808000\">passage</span>=<span style=\"color: #008000; text-decoration-color: #008000\">'IBM Thomas J. Watson Research Center (Yorktown Heights and Albany)'</span>,\n",
       "            <span style=\"color: #808000; text-decoration-color: #808000\">source_is_text</span>=<span style=\"color: #00ff00; text-decoration-color: #00ff00; font-style: italic\">True</span>\n",
       "        <span style=\"font-weight: bold\">)</span>,\n",
       "        <span style=\"color: #800080; text-decoration-color: #800080; font-weight: bold\">SearchResultItem</span><span style=\"font-weight: bold\">(</span>\n",
       "            <span style=\"color: #808000; text-decoration-color: #808000\">doc_hash</span>=<span style=\"color: #008000; text-decoration-color: #008000\">'b30bc667a324ae111d025526563b674a8d3fd869bc07c8fd204aa95b05d41f0c'</span>,\n",
       "            <span style=\"color: #808000; text-decoration-color: #808000\">path_in_doc</span>=<span style=\"color: #008000; text-decoration-color: #008000\">'main-text.75'</span>,\n",
       "            <span style=\"color: #808000; text-decoration-color: #808000\">passage</span>=<span style=\"color: #008000; text-decoration-color: #008000\">'On 17 May 2011, IBM and the Swiss Federal Institute of Technology (ETH) Zurich opened the </span>\n",
       "<span style=\"color: #008000; text-decoration-color: #008000\">Binnig and Rohrer Nanotechnology Center, which is located on the same campus in Rüschlikon. [58]'</span>,\n",
       "            <span style=\"color: #808000; text-decoration-color: #808000\">source_is_text</span>=<span style=\"color: #00ff00; text-decoration-color: #00ff00; font-style: italic\">True</span>\n",
       "        <span style=\"font-weight: bold\">)</span>\n",
       "    <span style=\"font-weight: bold\">]</span>\n",
       "<span style=\"font-weight: bold\">)</span>\n",
       "</pre>\n"
      ],
      "text/plain": [
       "\u001b[1;35mRAGResult\u001b[0m\u001b[1m(\u001b[0m\n",
       "    \u001b[33manswers\u001b[0m=\u001b[1m[\u001b[0m\n",
       "        \u001b[1;35mRAGAnswerItem\u001b[0m\u001b[1m(\u001b[0m\n",
       "            \u001b[33manswer\u001b[0m=\u001b[32m'Adliswil, Switzerland'\u001b[0m,\n",
       "            \u001b[33mgrounding\u001b[0m=\u001b[1;35mRAGGroundingInfo\u001b[0m\u001b[1m(\u001b[0m\n",
       "                \u001b[33mitems\u001b[0m=\u001b[1m[\u001b[0m\n",
       "                    \u001b[1;35mSearchResultItem\u001b[0m\u001b[1m(\u001b[0m\n",
       "                        \u001b[33mdoc_hash\u001b[0m=\u001b[32m'b30bc667a324ae111d025526563b674a8d3fd869bc07c8fd204aa95b05d41f0c'\u001b[0m,\n",
       "                        \u001b[33mpath_in_doc\u001b[0m=\u001b[32m'main-text.71'\u001b[0m,\n",
       "                        \u001b[33mpassage\u001b[0m=\u001b[32m'In 1956, IBM opened their first European research laboratory in Adliswil, \u001b[0m\n",
       "\u001b[32mSwitzerland, near Zurich. The lab moved to its own campus in neighboring Rüschlikon in 1962. The Zurich lab is \u001b[0m\n",
       "\u001b[32mstaffed by a multicultural and interdisciplinary team of a few hundred permanent research staff members, graduate \u001b[0m\n",
       "\u001b[32mstudents and post-doctoral fellows, representing about 45 nationalities. Collocated with the lab is a Client Center\u001b[0m\n",
       "\u001b[32m(\u001b[0m\u001b[32mformerly the Industry Solutions Lab\u001b[0m\u001b[32m)\u001b[0m\u001b[32m, an executive briefing facility demonstrating technology prototypes and \u001b[0m\n",
       "\u001b[32msolutions.'\u001b[0m,\n",
       "                        \u001b[33msource_is_text\u001b[0m=\u001b[3;92mTrue\u001b[0m\n",
       "                    \u001b[1m)\u001b[0m\n",
       "                \u001b[1m]\u001b[0m\n",
       "            \u001b[1m)\u001b[0m\n",
       "        \u001b[1m)\u001b[0m\n",
       "    \u001b[1m]\u001b[0m,\n",
       "    \u001b[33msearch_result_items\u001b[0m=\u001b[1m[\u001b[0m\n",
       "        \u001b[1;35mSearchResultItem\u001b[0m\u001b[1m(\u001b[0m\n",
       "            \u001b[33mdoc_hash\u001b[0m=\u001b[32m'b30bc667a324ae111d025526563b674a8d3fd869bc07c8fd204aa95b05d41f0c'\u001b[0m,\n",
       "            \u001b[33mpath_in_doc\u001b[0m=\u001b[32m'main-text.71'\u001b[0m,\n",
       "            \u001b[33mpassage\u001b[0m=\u001b[32m'In 1956, IBM opened their first European research laboratory in Adliswil, Switzerland, near \u001b[0m\n",
       "\u001b[32mZurich. The lab moved to its own campus in neighboring Rüschlikon in 1962. The Zurich lab is staffed by a \u001b[0m\n",
       "\u001b[32mmulticultural and interdisciplinary team of a few hundred permanent research staff members, graduate students and \u001b[0m\n",
       "\u001b[32mpost-doctoral fellows, representing about 45 nationalities. Collocated with the lab is a Client Center \u001b[0m\u001b[32m(\u001b[0m\u001b[32mformerly \u001b[0m\n",
       "\u001b[32mthe Industry Solutions Lab\u001b[0m\u001b[32m)\u001b[0m\u001b[32m, an executive briefing facility demonstrating technology prototypes and solutions.'\u001b[0m,\n",
       "            \u001b[33msource_is_text\u001b[0m=\u001b[3;92mTrue\u001b[0m\n",
       "        \u001b[1m)\u001b[0m,\n",
       "        \u001b[1;35mSearchResultItem\u001b[0m\u001b[1m(\u001b[0m\n",
       "            \u001b[33mdoc_hash\u001b[0m=\u001b[32m'b30bc667a324ae111d025526563b674a8d3fd869bc07c8fd204aa95b05d41f0c'\u001b[0m,\n",
       "            \u001b[33mpath_in_doc\u001b[0m=\u001b[32m'main-text.70'\u001b[0m,\n",
       "            \u001b[33mpassage\u001b[0m=\u001b[32m'IBM Research-Zurich \u001b[0m\u001b[32m(\u001b[0m\u001b[32mpreviously called IBM Zurich Research Laboratory, ZRL\u001b[0m\u001b[32m)\u001b[0m\u001b[32m is the European \u001b[0m\n",
       "\u001b[32mbranch of IBM Research. It was opened in 1956 and is located in Rüschlikon, near Zurich, Switzerland.'\u001b[0m,\n",
       "            \u001b[33msource_is_text\u001b[0m=\u001b[3;92mTrue\u001b[0m\n",
       "        \u001b[1m)\u001b[0m,\n",
       "        \u001b[1;35mSearchResultItem\u001b[0m\u001b[1m(\u001b[0m\n",
       "            \u001b[33mdoc_hash\u001b[0m=\u001b[32m'b30bc667a324ae111d025526563b674a8d3fd869bc07c8fd204aa95b05d41f0c'\u001b[0m,\n",
       "            \u001b[33mpath_in_doc\u001b[0m=\u001b[32m'main-text.8'\u001b[0m,\n",
       "            \u001b[33mpassage\u001b[0m=\u001b[32m\"The\u001b[0m\u001b[32m roots of today's IBM Research began with the 1945 opening of the Watson Scientific \u001b[0m\n",
       "\u001b[32mComputing Laboratory at Columbia University. $^\u001b[0m\u001b[32m{\u001b[0m\u001b[32m[\u001b[0m\u001b[32m4\u001b[0m\u001b[32m]\u001b[0m\u001b[32m}\u001b[0m\u001b[32m$ This was the first IBM laboratory devoted to pure science and\u001b[0m\n",
       "\u001b[32mlater expanded into additional IBM Research locations in Westchester County, New York, starting in the 1950s, \u001b[0m\n",
       "\u001b[32m$^\u001b[0m\u001b[32m{\u001b[0m\u001b[32m[\u001b[0m\u001b[32m5\u001b[0m\u001b[32m]\u001b[0m\u001b[32m[\u001b[0m\u001b[32m6\u001b[0m\u001b[32m]\u001b[0m\u001b[32m}\u001b[0m\u001b[32m$ including the Thomas J. Watson Research Center in 1961. \u001b[0m\u001b[32m[\u001b[0m\u001b[32m5\u001b[0m\u001b[32m]\u001b[0m\u001b[32m[\u001b[0m\u001b[32m6\u001b[0m\u001b[32m]\u001b[0m\u001b[32m\"\u001b[0m,\n",
       "            \u001b[33msource_is_text\u001b[0m=\u001b[3;92mTrue\u001b[0m\n",
       "        \u001b[1m)\u001b[0m,\n",
       "        \u001b[1;35mSearchResultItem\u001b[0m\u001b[1m(\u001b[0m\n",
       "            \u001b[33mdoc_hash\u001b[0m=\u001b[32m'b30bc667a324ae111d025526563b674a8d3fd869bc07c8fd204aa95b05d41f0c'\u001b[0m,\n",
       "            \u001b[33mpath_in_doc\u001b[0m=\u001b[32m'main-text.22'\u001b[0m,\n",
       "            \u001b[33mpassage\u001b[0m=\u001b[32m'Cambridge-IBM Research and MIT-IBM Watson AI Lab \u001b[0m\u001b[32m(\u001b[0m\u001b[32mCambridge, US\u001b[0m\u001b[32m)\u001b[0m\u001b[32m'\u001b[0m,\n",
       "            \u001b[33msource_is_text\u001b[0m=\u001b[3;92mTrue\u001b[0m\n",
       "        \u001b[1m)\u001b[0m,\n",
       "        \u001b[1;35mSearchResultItem\u001b[0m\u001b[1m(\u001b[0m\n",
       "            \u001b[33mdoc_hash\u001b[0m=\u001b[32m'b30bc667a324ae111d025526563b674a8d3fd869bc07c8fd204aa95b05d41f0c'\u001b[0m,\n",
       "            \u001b[33mpath_in_doc\u001b[0m=\u001b[32m'main-text.62'\u001b[0m,\n",
       "            \u001b[33mpassage\u001b[0m=\u001b[32m\"IBM\u001b[0m\u001b[32m Research-Haifa, previously known as the Haifa Research Lab \u001b[0m\u001b[32m(\u001b[0m\u001b[32mHRL\u001b[0m\u001b[32m)\u001b[0m\u001b[32m was founded as a small \u001b[0m\n",
       "\u001b[32mscientific center in 1972. $^\u001b[0m\u001b[32m{\u001b[0m\u001b[32m[\u001b[0m\u001b[32m55\u001b[0m\u001b[32m]\u001b[0m\u001b[32m}\u001b[0m\u001b[32m$ Since then, it has grown into a major lab that leads the development of \u001b[0m\n",
       "\u001b[32minnovative technologies and solutions for the IBM corporation. The lab's offices are situated in three locations \u001b[0m\n",
       "\u001b[32macross Israel: Haifa, Tel Aviv, and Beer Sheva.\"\u001b[0m,\n",
       "            \u001b[33msource_is_text\u001b[0m=\u001b[3;92mTrue\u001b[0m\n",
       "        \u001b[1m)\u001b[0m,\n",
       "        \u001b[1;35mSearchResultItem\u001b[0m\u001b[1m(\u001b[0m\n",
       "            \u001b[33mdoc_hash\u001b[0m=\u001b[32m'b30bc667a324ae111d025526563b674a8d3fd869bc07c8fd204aa95b05d41f0c'\u001b[0m,\n",
       "            \u001b[33mpath_in_doc\u001b[0m=\u001b[32m'main-text.79'\u001b[0m,\n",
       "            \u001b[33mpassage\u001b[0m=\u001b[32m\"1\u001b[0m\u001b[32m. 'Labs and locations ' \u001b[0m\u001b[32m(\u001b[0m\u001b[32mhttps://research.ibm.com/labs/\u001b[0m\u001b[32m)\u001b[0m\u001b[32m. IBM Research. Archived \u001b[0m\n",
       "\u001b[32m(\u001b[0m\u001b[32mhttps://web.archiv e.org/web/20221221032216/https://research.ibm.com/labs/\u001b[0m\u001b[32m)\u001b[0m\u001b[32m from the original on 21 December\"\u001b[0m,\n",
       "            \u001b[33msource_is_text\u001b[0m=\u001b[3;92mTrue\u001b[0m\n",
       "        \u001b[1m)\u001b[0m,\n",
       "        \u001b[1;35mSearchResultItem\u001b[0m\u001b[1m(\u001b[0m\n",
       "            \u001b[33mdoc_hash\u001b[0m=\u001b[32m'b30bc667a324ae111d025526563b674a8d3fd869bc07c8fd204aa95b05d41f0c'\u001b[0m,\n",
       "            \u001b[33mpath_in_doc\u001b[0m=\u001b[32m'main-text.30'\u001b[0m,\n",
       "            \u001b[33mpassage\u001b[0m=\u001b[32m'Historic research centers for IBM also include IBM La Gaude \u001b[0m\u001b[32m(\u001b[0m\u001b[32mNice\u001b[0m\u001b[32m)\u001b[0m\u001b[32m, the Cambridge Scientific \u001b[0m\n",
       "\u001b[32mCenter, the IBM New York Scientific Center, 330 North Wabash \u001b[0m\u001b[32m(\u001b[0m\u001b[32mChicago\u001b[0m\u001b[32m)\u001b[0m\u001b[32m, IBM Austin Research Laboratory, and IBM \u001b[0m\n",
       "\u001b[32mLaboratory Vienna. \u001b[0m\u001b[32m[\u001b[0m\u001b[32m33\u001b[0m\u001b[32m]\u001b[0m\u001b[32m'\u001b[0m,\n",
       "            \u001b[33msource_is_text\u001b[0m=\u001b[3;92mTrue\u001b[0m\n",
       "        \u001b[1m)\u001b[0m,\n",
       "        \u001b[1;35mSearchResultItem\u001b[0m\u001b[1m(\u001b[0m\n",
       "            \u001b[33mdoc_hash\u001b[0m=\u001b[32m'b30bc667a324ae111d025526563b674a8d3fd869bc07c8fd204aa95b05d41f0c'\u001b[0m,\n",
       "            \u001b[33mpath_in_doc\u001b[0m=\u001b[32m'main-text.36'\u001b[0m,\n",
       "            \u001b[33mpassage\u001b[0m=\u001b[32m'IBM opened its first West Coast research center, the San Jose Research Laboratory in 1952, \u001b[0m\n",
       "\u001b[32mmanaged by Reynold B. Johnson. Among its first developments was the IBM 350, the first commercial moving head hard \u001b[0m\n",
       "\u001b[32mdisk drive. Launched in 1956, this saw use in the IBM 305 RAMAC computer system. Subdivisions'\u001b[0m,\n",
       "            \u001b[33msource_is_text\u001b[0m=\u001b[3;92mTrue\u001b[0m\n",
       "        \u001b[1m)\u001b[0m,\n",
       "        \u001b[1;35mSearchResultItem\u001b[0m\u001b[1m(\u001b[0m\n",
       "            \u001b[33mdoc_hash\u001b[0m=\u001b[32m'b30bc667a324ae111d025526563b674a8d3fd869bc07c8fd204aa95b05d41f0c'\u001b[0m,\n",
       "            \u001b[33mpath_in_doc\u001b[0m=\u001b[32m'main-text.29'\u001b[0m,\n",
       "            \u001b[33mpassage\u001b[0m=\u001b[32m'IBM Thomas J. Watson Research Center \u001b[0m\u001b[32m(\u001b[0m\u001b[32mYorktown Heights and Albany\u001b[0m\u001b[32m)\u001b[0m\u001b[32m'\u001b[0m,\n",
       "            \u001b[33msource_is_text\u001b[0m=\u001b[3;92mTrue\u001b[0m\n",
       "        \u001b[1m)\u001b[0m,\n",
       "        \u001b[1;35mSearchResultItem\u001b[0m\u001b[1m(\u001b[0m\n",
       "            \u001b[33mdoc_hash\u001b[0m=\u001b[32m'b30bc667a324ae111d025526563b674a8d3fd869bc07c8fd204aa95b05d41f0c'\u001b[0m,\n",
       "            \u001b[33mpath_in_doc\u001b[0m=\u001b[32m'main-text.75'\u001b[0m,\n",
       "            \u001b[33mpassage\u001b[0m=\u001b[32m'On 17 May 2011, IBM and the Swiss Federal Institute of Technology \u001b[0m\u001b[32m(\u001b[0m\u001b[32mETH\u001b[0m\u001b[32m)\u001b[0m\u001b[32m Zurich opened the \u001b[0m\n",
       "\u001b[32mBinnig and Rohrer Nanotechnology Center, which is located on the same campus in Rüschlikon. \u001b[0m\u001b[32m[\u001b[0m\u001b[32m58\u001b[0m\u001b[32m]\u001b[0m\u001b[32m'\u001b[0m,\n",
       "            \u001b[33msource_is_text\u001b[0m=\u001b[3;92mTrue\u001b[0m\n",
       "        \u001b[1m)\u001b[0m\n",
       "    \u001b[1m]\u001b[0m\n",
       "\u001b[1m)\u001b[0m\n"
      ]
     },
     "metadata": {},
     "output_type": "display_data"
    }
   ],
   "source": [
    "question = \"Where was the first European IBM lab located?\"\n",
    "\n",
    "# submit natural-language query on document\n",
    "question_query = DocumentRAGQuery(\n",
    "    question=question,\n",
    "    project=PROJ_KEY,\n",
    "    index_key=SEM_ON_IDX_KEY,\n",
    "    document_hash=SEM_ON_IDX_DOC_HASH,\n",
    ")\n",
    "api_output = api.queries.run(question_query)\n",
    "rag_result = RAGResult.from_api_output(api_output)\n",
    "\n",
    "rich.print(rag_result)\n"
   ]
  },
  {
   "cell_type": "markdown",
   "metadata": {},
   "source": [
    "Additionally, we can generate a provenance URL to the document in the Deep Search UI:"
   ]
  },
  {
   "cell_type": "code",
   "execution_count": 6,
   "metadata": {},
   "outputs": [
    {
     "data": {
      "text/markdown": [
       "The provenance of the answer can be inspected on the [source document](https://sds.app.accelerate.science/projects/b09ae7561a01dc7c4b0fd21a43bfd93d140766d1/library/private/6b70072911ad2794a3844dd44d1705a5ba37ca0b?search=JTdCJTIycHJpdmF0ZUNvbGxlY3Rpb24lMjIlM0ElMjI2YjcwMDcyOTExYWQyNzk0YTM4NDRkZDQ0ZDE3MDVhNWJhMzdjYTBiJTIyJTJDJTIydHlwZSUyMiUzQSUyMkRvY3VtZW50JTIyJTJDJTIyZXhwcmVzc2lvbiUyMiUzQSUyMmZpbGUtaW5mby5kb2N1bWVudC1oYXNoJTNBJTIwJTVDJTIyYjMwYmM2NjdhMzI0YWUxMTFkMDI1NTI2NTYzYjY3NGE4ZDNmZDg2OWJjMDdjOGZkMjA0YWE5NWIwNWQ0MWYwYyU1QyUyMiUyMiUyQyUyMmZpbHRlcnMlMjIlM0ElNUIlNUQlMkMlMjJzZWxlY3QlMjIlM0ElNUIlMjJfbmFtZSUyMiUyQyUyMmRlc2NyaXB0aW9uLmNvbGxlY3Rpb24lMjIlMkMlMjJwcm92JTIyJTJDJTIyZGVzY3JpcHRpb24udGl0bGUlMjIlMkMlMjJkZXNjcmlwdGlvbi5wdWJsaWNhdGlvbl9kYXRlJTIyJTJDJTIyZGVzY3JpcHRpb24udXJsX3JlZnMlMjIlNUQlMkMlMjJpdGVtSW5kZXglMjIlM0EwJTJDJTIycGFnZVNpemUlMjIlM0ExMCUyQyUyMnNlYXJjaEFmdGVySGlzdG9yeSUyMiUzQSU1QiU1RCUyQyUyMnZpZXdUeXBlJTIyJTNBJTIyc25pcHBldHMlMjIlMkMlMjJyZWNvcmRTZWxlY3Rpb24lMjIlM0ElN0IlMjJyZWNvcmQlMjIlM0ElN0IlMjJpZCUyMiUzQSUyMmIzMGJjNjY3YTMyNGFlMTExZDAyNTUyNjU2M2I2NzRhOGQzZmQ4NjliYzA3YzhmZDIwNGFhOTViMDVkNDFmMGMlMjIlN0QlMkMlMjJpdGVtSW5kZXglMjIlM0E3MSU3RCU3RA%3D%3D)."
      ],
      "text/plain": [
       "<IPython.core.display.Markdown object>"
      ]
     },
     "metadata": {},
     "output_type": "display_data"
    }
   ],
   "source": [
    "coords = ElasticProjectDataCollectionSource(\n",
    "    proj_key=PROJ_KEY,\n",
    "    index_key=SEM_ON_IDX_KEY,\n",
    ")\n",
    "render_provenance_url(api=api, coords=coords, retr_item=rag_result.answers[0].grounding.items[0])"
   ]
  },
  {
   "cell_type": "markdown",
   "metadata": {},
   "source": [
    "Let us try out a different question on our document.\n",
    "Here we also illustrate some further parameters the user can optionally set:\n",
    "- `retr_k`: number of items to retrieve\n",
    "- `text_weight`: weight of lexical search (`0.0`: fully semantic search, `1.0`: fully lexical search, anything in-between: hybrid search)\n",
    "- `rerank`: whether to rerank the retrieval results"
   ]
  },
  {
   "cell_type": "code",
   "execution_count": 7,
   "metadata": {},
   "outputs": [
    {
     "data": {
      "text/html": [
       "<pre style=\"white-space:pre;overflow-x:auto;line-height:normal;font-family:Menlo,'DejaVu Sans Mono',consolas,'Courier New',monospace\"><span style=\"color: #800080; text-decoration-color: #800080; font-weight: bold\">RAGResult</span><span style=\"font-weight: bold\">(</span>\n",
       "    <span style=\"color: #808000; text-decoration-color: #808000\">answers</span>=<span style=\"font-weight: bold\">[</span>\n",
       "        <span style=\"color: #800080; text-decoration-color: #800080; font-weight: bold\">RAGAnswerItem</span><span style=\"font-weight: bold\">(</span>\n",
       "            <span style=\"color: #808000; text-decoration-color: #808000\">answer</span>=<span style=\"color: #008000; text-decoration-color: #008000\">'IBM has 12 research labs.'</span>,\n",
       "            <span style=\"color: #808000; text-decoration-color: #808000\">grounding</span>=<span style=\"color: #800080; text-decoration-color: #800080; font-weight: bold\">RAGGroundingInfo</span><span style=\"font-weight: bold\">(</span>\n",
       "                <span style=\"color: #808000; text-decoration-color: #808000\">items</span>=<span style=\"font-weight: bold\">[</span>\n",
       "                    <span style=\"color: #800080; text-decoration-color: #800080; font-weight: bold\">SearchResultItem</span><span style=\"font-weight: bold\">(</span>\n",
       "                        <span style=\"color: #808000; text-decoration-color: #808000\">doc_hash</span>=<span style=\"color: #008000; text-decoration-color: #008000\">'b30bc667a324ae111d025526563b674a8d3fd869bc07c8fd204aa95b05d41f0c'</span>,\n",
       "                        <span style=\"color: #808000; text-decoration-color: #808000\">path_in_doc</span>=<span style=\"color: #008000; text-decoration-color: #008000\">'main-text.17'</span>,\n",
       "                        <span style=\"color: #808000; text-decoration-color: #808000\">passage</span>=<span style=\"color: #008000; text-decoration-color: #008000\">'IBM currently has 19 research facilities spread across 12 laboratories on six </span>\n",
       "<span style=\"color: #008000; text-decoration-color: #008000\">continents: [32]'</span>,\n",
       "                        <span style=\"color: #808000; text-decoration-color: #808000\">source_is_text</span>=<span style=\"color: #00ff00; text-decoration-color: #00ff00; font-style: italic\">True</span>\n",
       "                    <span style=\"font-weight: bold\">)</span>\n",
       "                <span style=\"font-weight: bold\">]</span>\n",
       "            <span style=\"font-weight: bold\">)</span>\n",
       "        <span style=\"font-weight: bold\">)</span>\n",
       "    <span style=\"font-weight: bold\">]</span>,\n",
       "    <span style=\"color: #808000; text-decoration-color: #808000\">search_result_items</span>=<span style=\"font-weight: bold\">[</span>\n",
       "        <span style=\"color: #800080; text-decoration-color: #800080; font-weight: bold\">SearchResultItem</span><span style=\"font-weight: bold\">(</span>\n",
       "            <span style=\"color: #808000; text-decoration-color: #808000\">doc_hash</span>=<span style=\"color: #008000; text-decoration-color: #008000\">'b30bc667a324ae111d025526563b674a8d3fd869bc07c8fd204aa95b05d41f0c'</span>,\n",
       "            <span style=\"color: #808000; text-decoration-color: #808000\">path_in_doc</span>=<span style=\"color: #008000; text-decoration-color: #008000\">'main-text.17'</span>,\n",
       "            <span style=\"color: #808000; text-decoration-color: #808000\">passage</span>=<span style=\"color: #008000; text-decoration-color: #008000\">'IBM currently has 19 research facilities spread across 12 laboratories on six continents: </span>\n",
       "<span style=\"color: #008000; text-decoration-color: #008000\">[32]'</span>,\n",
       "            <span style=\"color: #808000; text-decoration-color: #808000\">source_is_text</span>=<span style=\"color: #00ff00; text-decoration-color: #00ff00; font-style: italic\">True</span>\n",
       "        <span style=\"font-weight: bold\">)</span>,\n",
       "        <span style=\"color: #800080; text-decoration-color: #800080; font-weight: bold\">SearchResultItem</span><span style=\"font-weight: bold\">(</span>\n",
       "            <span style=\"color: #808000; text-decoration-color: #808000\">doc_hash</span>=<span style=\"color: #008000; text-decoration-color: #008000\">'b30bc667a324ae111d025526563b674a8d3fd869bc07c8fd204aa95b05d41f0c'</span>,\n",
       "            <span style=\"color: #808000; text-decoration-color: #808000\">path_in_doc</span>=<span style=\"color: #008000; text-decoration-color: #008000\">'main-text.79'</span>,\n",
       "            <span style=\"color: #808000; text-decoration-color: #808000\">passage</span>=<span style=\"color: #008000; text-decoration-color: #008000\">\"1. 'Labs and locations ' (https://research.ibm.com/labs/). IBM Research. Archived </span>\n",
       "<span style=\"color: #008000; text-decoration-color: #008000\">(https://web.archiv e.org/web/20221221032216/https://research.ibm.com/labs/) from the original on 21 December\"</span>,\n",
       "            <span style=\"color: #808000; text-decoration-color: #808000\">source_is_text</span>=<span style=\"color: #00ff00; text-decoration-color: #00ff00; font-style: italic\">True</span>\n",
       "        <span style=\"font-weight: bold\">)</span>,\n",
       "        <span style=\"color: #800080; text-decoration-color: #800080; font-weight: bold\">SearchResultItem</span><span style=\"font-weight: bold\">(</span>\n",
       "            <span style=\"color: #808000; text-decoration-color: #808000\">doc_hash</span>=<span style=\"color: #008000; text-decoration-color: #008000\">'b30bc667a324ae111d025526563b674a8d3fd869bc07c8fd204aa95b05d41f0c'</span>,\n",
       "            <span style=\"color: #808000; text-decoration-color: #808000\">path_in_doc</span>=<span style=\"color: #008000; text-decoration-color: #008000\">'main-text.3'</span>,\n",
       "            <span style=\"color: #808000; text-decoration-color: #808000\">passage</span>=<span style=\"color: #008000; text-decoration-color: #008000\">'IBM Research is the research and development division for IBM, an American multinational </span>\n",
       "<span style=\"color: #008000; text-decoration-color: #008000\">information technology company headquartered in Armonk, New York, with operations in over 170 countries. IBM </span>\n",
       "<span style=\"color: #008000; text-decoration-color: #008000\">Research is the largest industrial research organization in the world and has twelve labs on six continents. [1]'</span>,\n",
       "            <span style=\"color: #808000; text-decoration-color: #808000\">source_is_text</span>=<span style=\"color: #00ff00; text-decoration-color: #00ff00; font-style: italic\">True</span>\n",
       "        <span style=\"font-weight: bold\">)</span>\n",
       "    <span style=\"font-weight: bold\">]</span>\n",
       "<span style=\"font-weight: bold\">)</span>\n",
       "</pre>\n"
      ],
      "text/plain": [
       "\u001b[1;35mRAGResult\u001b[0m\u001b[1m(\u001b[0m\n",
       "    \u001b[33manswers\u001b[0m=\u001b[1m[\u001b[0m\n",
       "        \u001b[1;35mRAGAnswerItem\u001b[0m\u001b[1m(\u001b[0m\n",
       "            \u001b[33manswer\u001b[0m=\u001b[32m'IBM has 12 research labs.'\u001b[0m,\n",
       "            \u001b[33mgrounding\u001b[0m=\u001b[1;35mRAGGroundingInfo\u001b[0m\u001b[1m(\u001b[0m\n",
       "                \u001b[33mitems\u001b[0m=\u001b[1m[\u001b[0m\n",
       "                    \u001b[1;35mSearchResultItem\u001b[0m\u001b[1m(\u001b[0m\n",
       "                        \u001b[33mdoc_hash\u001b[0m=\u001b[32m'b30bc667a324ae111d025526563b674a8d3fd869bc07c8fd204aa95b05d41f0c'\u001b[0m,\n",
       "                        \u001b[33mpath_in_doc\u001b[0m=\u001b[32m'main-text.17'\u001b[0m,\n",
       "                        \u001b[33mpassage\u001b[0m=\u001b[32m'IBM currently has 19 research facilities spread across 12 laboratories on six \u001b[0m\n",
       "\u001b[32mcontinents: \u001b[0m\u001b[32m[\u001b[0m\u001b[32m32\u001b[0m\u001b[32m]\u001b[0m\u001b[32m'\u001b[0m,\n",
       "                        \u001b[33msource_is_text\u001b[0m=\u001b[3;92mTrue\u001b[0m\n",
       "                    \u001b[1m)\u001b[0m\n",
       "                \u001b[1m]\u001b[0m\n",
       "            \u001b[1m)\u001b[0m\n",
       "        \u001b[1m)\u001b[0m\n",
       "    \u001b[1m]\u001b[0m,\n",
       "    \u001b[33msearch_result_items\u001b[0m=\u001b[1m[\u001b[0m\n",
       "        \u001b[1;35mSearchResultItem\u001b[0m\u001b[1m(\u001b[0m\n",
       "            \u001b[33mdoc_hash\u001b[0m=\u001b[32m'b30bc667a324ae111d025526563b674a8d3fd869bc07c8fd204aa95b05d41f0c'\u001b[0m,\n",
       "            \u001b[33mpath_in_doc\u001b[0m=\u001b[32m'main-text.17'\u001b[0m,\n",
       "            \u001b[33mpassage\u001b[0m=\u001b[32m'IBM currently has 19 research facilities spread across 12 laboratories on six continents: \u001b[0m\n",
       "\u001b[32m[\u001b[0m\u001b[32m32\u001b[0m\u001b[32m]\u001b[0m\u001b[32m'\u001b[0m,\n",
       "            \u001b[33msource_is_text\u001b[0m=\u001b[3;92mTrue\u001b[0m\n",
       "        \u001b[1m)\u001b[0m,\n",
       "        \u001b[1;35mSearchResultItem\u001b[0m\u001b[1m(\u001b[0m\n",
       "            \u001b[33mdoc_hash\u001b[0m=\u001b[32m'b30bc667a324ae111d025526563b674a8d3fd869bc07c8fd204aa95b05d41f0c'\u001b[0m,\n",
       "            \u001b[33mpath_in_doc\u001b[0m=\u001b[32m'main-text.79'\u001b[0m,\n",
       "            \u001b[33mpassage\u001b[0m=\u001b[32m\"1\u001b[0m\u001b[32m. 'Labs and locations ' \u001b[0m\u001b[32m(\u001b[0m\u001b[32mhttps://research.ibm.com/labs/\u001b[0m\u001b[32m)\u001b[0m\u001b[32m. IBM Research. Archived \u001b[0m\n",
       "\u001b[32m(\u001b[0m\u001b[32mhttps://web.archiv e.org/web/20221221032216/https://research.ibm.com/labs/\u001b[0m\u001b[32m)\u001b[0m\u001b[32m from the original on 21 December\"\u001b[0m,\n",
       "            \u001b[33msource_is_text\u001b[0m=\u001b[3;92mTrue\u001b[0m\n",
       "        \u001b[1m)\u001b[0m,\n",
       "        \u001b[1;35mSearchResultItem\u001b[0m\u001b[1m(\u001b[0m\n",
       "            \u001b[33mdoc_hash\u001b[0m=\u001b[32m'b30bc667a324ae111d025526563b674a8d3fd869bc07c8fd204aa95b05d41f0c'\u001b[0m,\n",
       "            \u001b[33mpath_in_doc\u001b[0m=\u001b[32m'main-text.3'\u001b[0m,\n",
       "            \u001b[33mpassage\u001b[0m=\u001b[32m'IBM Research is the research and development division for IBM, an American multinational \u001b[0m\n",
       "\u001b[32minformation technology company headquartered in Armonk, New York, with operations in over 170 countries. IBM \u001b[0m\n",
       "\u001b[32mResearch is the largest industrial research organization in the world and has twelve labs on six continents. \u001b[0m\u001b[32m[\u001b[0m\u001b[32m1\u001b[0m\u001b[32m]\u001b[0m\u001b[32m'\u001b[0m,\n",
       "            \u001b[33msource_is_text\u001b[0m=\u001b[3;92mTrue\u001b[0m\n",
       "        \u001b[1m)\u001b[0m\n",
       "    \u001b[1m]\u001b[0m\n",
       "\u001b[1m)\u001b[0m\n"
      ]
     },
     "metadata": {},
     "output_type": "display_data"
    }
   ],
   "source": [
    "question = \"How many research labs does IBM have?\"\n",
    "\n",
    "# submit natural-language query on document\n",
    "question_query = DocumentRAGQuery(\n",
    "    question=question,\n",
    "    project=PROJ_KEY,\n",
    "    index_key=SEM_ON_IDX_KEY,\n",
    "    document_hash=SEM_ON_IDX_DOC_HASH,\n",
    "\n",
    "    # optional params:\n",
    "    retr_k=RETR_K,\n",
    "    # text_weight=TEXT_WEIGHT,\n",
    "    # rerank=RERANK,\n",
    ")\n",
    "api_output = api.queries.run(question_query)\n",
    "rag_result = RAGResult.from_api_output(api_output)\n",
    "\n",
    "rich.print(rag_result)"
   ]
  },
  {
   "cell_type": "code",
   "execution_count": 8,
   "metadata": {},
   "outputs": [
    {
     "data": {
      "text/markdown": [
       "The provenance of the answer can be inspected on the [source document](https://sds.app.accelerate.science/projects/b09ae7561a01dc7c4b0fd21a43bfd93d140766d1/library/private/6b70072911ad2794a3844dd44d1705a5ba37ca0b?search=JTdCJTIycHJpdmF0ZUNvbGxlY3Rpb24lMjIlM0ElMjI2YjcwMDcyOTExYWQyNzk0YTM4NDRkZDQ0ZDE3MDVhNWJhMzdjYTBiJTIyJTJDJTIydHlwZSUyMiUzQSUyMkRvY3VtZW50JTIyJTJDJTIyZXhwcmVzc2lvbiUyMiUzQSUyMmZpbGUtaW5mby5kb2N1bWVudC1oYXNoJTNBJTIwJTVDJTIyYjMwYmM2NjdhMzI0YWUxMTFkMDI1NTI2NTYzYjY3NGE4ZDNmZDg2OWJjMDdjOGZkMjA0YWE5NWIwNWQ0MWYwYyU1QyUyMiUyMiUyQyUyMmZpbHRlcnMlMjIlM0ElNUIlNUQlMkMlMjJzZWxlY3QlMjIlM0ElNUIlMjJfbmFtZSUyMiUyQyUyMmRlc2NyaXB0aW9uLmNvbGxlY3Rpb24lMjIlMkMlMjJwcm92JTIyJTJDJTIyZGVzY3JpcHRpb24udGl0bGUlMjIlMkMlMjJkZXNjcmlwdGlvbi5wdWJsaWNhdGlvbl9kYXRlJTIyJTJDJTIyZGVzY3JpcHRpb24udXJsX3JlZnMlMjIlNUQlMkMlMjJpdGVtSW5kZXglMjIlM0EwJTJDJTIycGFnZVNpemUlMjIlM0ExMCUyQyUyMnNlYXJjaEFmdGVySGlzdG9yeSUyMiUzQSU1QiU1RCUyQyUyMnZpZXdUeXBlJTIyJTNBJTIyc25pcHBldHMlMjIlMkMlMjJyZWNvcmRTZWxlY3Rpb24lMjIlM0ElN0IlMjJyZWNvcmQlMjIlM0ElN0IlMjJpZCUyMiUzQSUyMmIzMGJjNjY3YTMyNGFlMTExZDAyNTUyNjU2M2I2NzRhOGQzZmQ4NjliYzA3YzhmZDIwNGFhOTViMDVkNDFmMGMlMjIlN0QlMkMlMjJpdGVtSW5kZXglMjIlM0ExNyU3RCU3RA%3D%3D)."
      ],
      "text/plain": [
       "<IPython.core.display.Markdown object>"
      ]
     },
     "metadata": {},
     "output_type": "display_data"
    }
   ],
   "source": [
    "render_provenance_url(api=api, coords=coords, retr_item=rag_result.answers[0].grounding.items[0])"
   ]
  },
  {
   "cell_type": "markdown",
   "metadata": {},
   "source": [
    "### Semantic retrieval\n",
    "\n",
    "Besides RAG, which includes natural language generation, a user may only be interested in\n",
    "the semantic retrieval part.\n",
    "\n",
    "This can be obtained very similarly to RAG, as shown below:"
   ]
  },
  {
   "cell_type": "code",
   "execution_count": 9,
   "metadata": {},
   "outputs": [
    {
     "data": {
      "text/html": [
       "<pre style=\"white-space:pre;overflow-x:auto;line-height:normal;font-family:Menlo,'DejaVu Sans Mono',consolas,'Courier New',monospace\"><span style=\"color: #800080; text-decoration-color: #800080; font-weight: bold\">SearchResult</span><span style=\"font-weight: bold\">(</span>\n",
       "    <span style=\"color: #808000; text-decoration-color: #808000\">search_result_items</span>=<span style=\"font-weight: bold\">[</span>\n",
       "        <span style=\"color: #800080; text-decoration-color: #800080; font-weight: bold\">SearchResultItem</span><span style=\"font-weight: bold\">(</span>\n",
       "            <span style=\"color: #808000; text-decoration-color: #808000\">doc_hash</span>=<span style=\"color: #008000; text-decoration-color: #008000\">'b30bc667a324ae111d025526563b674a8d3fd869bc07c8fd204aa95b05d41f0c'</span>,\n",
       "            <span style=\"color: #808000; text-decoration-color: #808000\">path_in_doc</span>=<span style=\"color: #008000; text-decoration-color: #008000\">'main-text.71'</span>,\n",
       "            <span style=\"color: #808000; text-decoration-color: #808000\">passage</span>=<span style=\"color: #008000; text-decoration-color: #008000\">'In 1956, IBM opened their first European research laboratory in Adliswil, Switzerland, near </span>\n",
       "<span style=\"color: #008000; text-decoration-color: #008000\">Zurich. The lab moved to its own campus in neighboring Rüschlikon in 1962. The Zurich lab is staffed by a </span>\n",
       "<span style=\"color: #008000; text-decoration-color: #008000\">multicultural and interdisciplinary team of a few hundred permanent research staff members, graduate students and </span>\n",
       "<span style=\"color: #008000; text-decoration-color: #008000\">post-doctoral fellows, representing about 45 nationalities. Collocated with the lab is a Client Center (formerly </span>\n",
       "<span style=\"color: #008000; text-decoration-color: #008000\">the Industry Solutions Lab), an executive briefing facility demonstrating technology prototypes and solutions.'</span>,\n",
       "            <span style=\"color: #808000; text-decoration-color: #808000\">source_is_text</span>=<span style=\"color: #00ff00; text-decoration-color: #00ff00; font-style: italic\">True</span>\n",
       "        <span style=\"font-weight: bold\">)</span>,\n",
       "        <span style=\"color: #800080; text-decoration-color: #800080; font-weight: bold\">SearchResultItem</span><span style=\"font-weight: bold\">(</span>\n",
       "            <span style=\"color: #808000; text-decoration-color: #808000\">doc_hash</span>=<span style=\"color: #008000; text-decoration-color: #008000\">'b30bc667a324ae111d025526563b674a8d3fd869bc07c8fd204aa95b05d41f0c'</span>,\n",
       "            <span style=\"color: #808000; text-decoration-color: #808000\">path_in_doc</span>=<span style=\"color: #008000; text-decoration-color: #008000\">'main-text.8'</span>,\n",
       "            <span style=\"color: #808000; text-decoration-color: #808000\">passage</span>=<span style=\"color: #008000; text-decoration-color: #008000\">\"The roots of today's IBM Research began with the 1945 opening of the Watson Scientific </span>\n",
       "<span style=\"color: #008000; text-decoration-color: #008000\">Computing Laboratory at Columbia University. $^{[4]}$ This was the first IBM laboratory devoted to pure science and</span>\n",
       "<span style=\"color: #008000; text-decoration-color: #008000\">later expanded into additional IBM Research locations in Westchester County, New York, starting in the 1950s, </span>\n",
       "<span style=\"color: #008000; text-decoration-color: #008000\">$^{[5][6]}$ including the Thomas J. Watson Research Center in 1961. [5][6]\"</span>,\n",
       "            <span style=\"color: #808000; text-decoration-color: #808000\">source_is_text</span>=<span style=\"color: #00ff00; text-decoration-color: #00ff00; font-style: italic\">True</span>\n",
       "        <span style=\"font-weight: bold\">)</span>,\n",
       "        <span style=\"color: #800080; text-decoration-color: #800080; font-weight: bold\">SearchResultItem</span><span style=\"font-weight: bold\">(</span>\n",
       "            <span style=\"color: #808000; text-decoration-color: #808000\">doc_hash</span>=<span style=\"color: #008000; text-decoration-color: #008000\">'b30bc667a324ae111d025526563b674a8d3fd869bc07c8fd204aa95b05d41f0c'</span>,\n",
       "            <span style=\"color: #808000; text-decoration-color: #808000\">path_in_doc</span>=<span style=\"color: #008000; text-decoration-color: #008000\">'main-text.70'</span>,\n",
       "            <span style=\"color: #808000; text-decoration-color: #808000\">passage</span>=<span style=\"color: #008000; text-decoration-color: #008000\">'IBM Research-Zurich (previously called IBM Zurich Research Laboratory, ZRL) is the European </span>\n",
       "<span style=\"color: #008000; text-decoration-color: #008000\">branch of IBM Research. It was opened in 1956 and is located in Rüschlikon, near Zurich, Switzerland.'</span>,\n",
       "            <span style=\"color: #808000; text-decoration-color: #808000\">source_is_text</span>=<span style=\"color: #00ff00; text-decoration-color: #00ff00; font-style: italic\">True</span>\n",
       "        <span style=\"font-weight: bold\">)</span>\n",
       "    <span style=\"font-weight: bold\">]</span>\n",
       "<span style=\"font-weight: bold\">)</span>\n",
       "</pre>\n"
      ],
      "text/plain": [
       "\u001b[1;35mSearchResult\u001b[0m\u001b[1m(\u001b[0m\n",
       "    \u001b[33msearch_result_items\u001b[0m=\u001b[1m[\u001b[0m\n",
       "        \u001b[1;35mSearchResultItem\u001b[0m\u001b[1m(\u001b[0m\n",
       "            \u001b[33mdoc_hash\u001b[0m=\u001b[32m'b30bc667a324ae111d025526563b674a8d3fd869bc07c8fd204aa95b05d41f0c'\u001b[0m,\n",
       "            \u001b[33mpath_in_doc\u001b[0m=\u001b[32m'main-text.71'\u001b[0m,\n",
       "            \u001b[33mpassage\u001b[0m=\u001b[32m'In 1956, IBM opened their first European research laboratory in Adliswil, Switzerland, near \u001b[0m\n",
       "\u001b[32mZurich. The lab moved to its own campus in neighboring Rüschlikon in 1962. The Zurich lab is staffed by a \u001b[0m\n",
       "\u001b[32mmulticultural and interdisciplinary team of a few hundred permanent research staff members, graduate students and \u001b[0m\n",
       "\u001b[32mpost-doctoral fellows, representing about 45 nationalities. Collocated with the lab is a Client Center \u001b[0m\u001b[32m(\u001b[0m\u001b[32mformerly \u001b[0m\n",
       "\u001b[32mthe Industry Solutions Lab\u001b[0m\u001b[32m)\u001b[0m\u001b[32m, an executive briefing facility demonstrating technology prototypes and solutions.'\u001b[0m,\n",
       "            \u001b[33msource_is_text\u001b[0m=\u001b[3;92mTrue\u001b[0m\n",
       "        \u001b[1m)\u001b[0m,\n",
       "        \u001b[1;35mSearchResultItem\u001b[0m\u001b[1m(\u001b[0m\n",
       "            \u001b[33mdoc_hash\u001b[0m=\u001b[32m'b30bc667a324ae111d025526563b674a8d3fd869bc07c8fd204aa95b05d41f0c'\u001b[0m,\n",
       "            \u001b[33mpath_in_doc\u001b[0m=\u001b[32m'main-text.8'\u001b[0m,\n",
       "            \u001b[33mpassage\u001b[0m=\u001b[32m\"The\u001b[0m\u001b[32m roots of today's IBM Research began with the 1945 opening of the Watson Scientific \u001b[0m\n",
       "\u001b[32mComputing Laboratory at Columbia University. $^\u001b[0m\u001b[32m{\u001b[0m\u001b[32m[\u001b[0m\u001b[32m4\u001b[0m\u001b[32m]\u001b[0m\u001b[32m}\u001b[0m\u001b[32m$ This was the first IBM laboratory devoted to pure science and\u001b[0m\n",
       "\u001b[32mlater expanded into additional IBM Research locations in Westchester County, New York, starting in the 1950s, \u001b[0m\n",
       "\u001b[32m$^\u001b[0m\u001b[32m{\u001b[0m\u001b[32m[\u001b[0m\u001b[32m5\u001b[0m\u001b[32m]\u001b[0m\u001b[32m[\u001b[0m\u001b[32m6\u001b[0m\u001b[32m]\u001b[0m\u001b[32m}\u001b[0m\u001b[32m$ including the Thomas J. Watson Research Center in 1961. \u001b[0m\u001b[32m[\u001b[0m\u001b[32m5\u001b[0m\u001b[32m]\u001b[0m\u001b[32m[\u001b[0m\u001b[32m6\u001b[0m\u001b[32m]\u001b[0m\u001b[32m\"\u001b[0m,\n",
       "            \u001b[33msource_is_text\u001b[0m=\u001b[3;92mTrue\u001b[0m\n",
       "        \u001b[1m)\u001b[0m,\n",
       "        \u001b[1;35mSearchResultItem\u001b[0m\u001b[1m(\u001b[0m\n",
       "            \u001b[33mdoc_hash\u001b[0m=\u001b[32m'b30bc667a324ae111d025526563b674a8d3fd869bc07c8fd204aa95b05d41f0c'\u001b[0m,\n",
       "            \u001b[33mpath_in_doc\u001b[0m=\u001b[32m'main-text.70'\u001b[0m,\n",
       "            \u001b[33mpassage\u001b[0m=\u001b[32m'IBM Research-Zurich \u001b[0m\u001b[32m(\u001b[0m\u001b[32mpreviously called IBM Zurich Research Laboratory, ZRL\u001b[0m\u001b[32m)\u001b[0m\u001b[32m is the European \u001b[0m\n",
       "\u001b[32mbranch of IBM Research. It was opened in 1956 and is located in Rüschlikon, near Zurich, Switzerland.'\u001b[0m,\n",
       "            \u001b[33msource_is_text\u001b[0m=\u001b[3;92mTrue\u001b[0m\n",
       "        \u001b[1m)\u001b[0m\n",
       "    \u001b[1m]\u001b[0m\n",
       "\u001b[1m)\u001b[0m\n"
      ]
     },
     "metadata": {},
     "output_type": "display_data"
    }
   ],
   "source": [
    "question = \"Where was the first European IBM lab located?\"\n",
    "\n",
    "# submit natural-language query on document\n",
    "question_query = DocumentSemanticQuery(\n",
    "    question=question,\n",
    "    project=PROJ_KEY,\n",
    "    index_key=SEM_ON_IDX_KEY,\n",
    "    document_hash=SEM_ON_IDX_DOC_HASH,\n",
    "\n",
    "    # optional params:\n",
    "    retr_k=RETR_K,\n",
    "    # text_weight=TEXT_WEIGHT,\n",
    "    # rerank=RERANK,\n",
    ")\n",
    "api_output = api.queries.run(question_query)\n",
    "rag_result = SearchResult.from_api_output(api_output)\n",
    "\n",
    "rich.print(rag_result)"
   ]
  },
  {
   "cell_type": "markdown",
   "metadata": {},
   "source": [
    "## RAG on document not in semantically indexed collection"
   ]
  },
  {
   "cell_type": "markdown",
   "metadata": {},
   "source": [
    "### Ingestion"
   ]
  },
  {
   "cell_type": "markdown",
   "metadata": {},
   "source": [
    "In the cell below we show how to semantically index a single document:"
   ]
  },
  {
   "cell_type": "code",
   "execution_count": 10,
   "metadata": {},
   "outputs": [
    {
     "data": {
      "text/plain": [
       "{'ing_out': {}}"
      ]
     },
     "execution_count": 10,
     "metadata": {},
     "output_type": "execute_result"
    }
   ],
   "source": [
    "from deepsearch.cps.client.components.documents import SemIngestPrivateDataDocumentSource\n",
    "\n",
    "# prepare collection coordinates\n",
    "coords = ElasticProjectDataCollectionSource(\n",
    "    proj_key=PROJ_KEY,\n",
    "    index_key=SEM_OFF_IDX_KEY,\n",
    ")\n",
    "\n",
    "# launch the ingestion of the document for DocumentQA\n",
    "task = api.documents.semantic_ingest(\n",
    "    project=PROJ_KEY,\n",
    "    data_source=SemIngestPrivateDataDocumentSource(\n",
    "        source=coords,\n",
    "        document_hash=SEM_OFF_IDX_DOC_HASH,\n",
    "\n",
    "        # optional params:\n",
    "        retr_k=RETR_K,\n",
    "        # text_weight=TEXT_WEIGHT,\n",
    "        # rerank=RERANK,\n",
    "    ),\n",
    ")\n",
    "\n",
    "# wait for the ingestion task to finish\n",
    "api.tasks.wait_for(task.proj_key, task.task_id)"
   ]
  },
  {
   "cell_type": "markdown",
   "metadata": {},
   "source": [
    "Once the document has been semantically ingested, we can run both RAG and semantic retrieval queries against it, as shown below."
   ]
  },
  {
   "cell_type": "markdown",
   "metadata": {},
   "source": [
    "### RAG"
   ]
  },
  {
   "cell_type": "code",
   "execution_count": 11,
   "metadata": {},
   "outputs": [
    {
     "data": {
      "text/html": [
       "<pre style=\"white-space:pre;overflow-x:auto;line-height:normal;font-family:Menlo,'DejaVu Sans Mono',consolas,'Courier New',monospace\"><span style=\"color: #800080; text-decoration-color: #800080; font-weight: bold\">RAGResult</span><span style=\"font-weight: bold\">(</span>\n",
       "    <span style=\"color: #808000; text-decoration-color: #808000\">answers</span>=<span style=\"font-weight: bold\">[</span>\n",
       "        <span style=\"color: #800080; text-decoration-color: #800080; font-weight: bold\">RAGAnswerItem</span><span style=\"font-weight: bold\">(</span>\n",
       "            <span style=\"color: #808000; text-decoration-color: #808000\">answer</span>=<span style=\"color: #008000; text-decoration-color: #008000\">'Magnavox'</span>,\n",
       "            <span style=\"color: #808000; text-decoration-color: #808000\">grounding</span>=<span style=\"color: #800080; text-decoration-color: #800080; font-weight: bold\">RAGGroundingInfo</span><span style=\"font-weight: bold\">(</span>\n",
       "                <span style=\"color: #808000; text-decoration-color: #808000\">items</span>=<span style=\"font-weight: bold\">[</span>\n",
       "                    <span style=\"color: #800080; text-decoration-color: #800080; font-weight: bold\">SearchResultItem</span><span style=\"font-weight: bold\">(</span>\n",
       "                        <span style=\"color: #808000; text-decoration-color: #808000\">doc_hash</span>=<span style=\"color: #008000; text-decoration-color: #008000\">'029210df929c78e70d74e6f141a46d8326905ce58562f2081819c80c3921d5a3'</span>,\n",
       "                        <span style=\"color: #808000; text-decoration-color: #808000\">path_in_doc</span>=<span style=\"color: #008000; text-decoration-color: #008000\">'main-text.1'</span>,\n",
       "                        <span style=\"color: #808000; text-decoration-color: #808000\">passage</span>=<span style=\"color: #008000; text-decoration-color: #008000\">\"Magnavox (Latin for 'great voice ', stylized as MAGNAVOX) is an American </span>\n",
       "<span style=\"color: #008000; text-decoration-color: #008000\">electronics company that since 1975 has been a subsidiary of the Dutch electronics corporation Philips. [1] The </span>\n",
       "<span style=\"color: #008000; text-decoration-color: #008000\">predecessor to Magnavox was founded in 1911 by Edwin Pridham and Peter L. Jensen, coinventors of the moving-coil </span>\n",
       "<span style=\"color: #008000; text-decoration-color: #008000\">loudspeaker at their lab in Napa, California, under United States Patent number 1,105,924 for telephone receivers. </span>\n",
       "<span style=\"color: #008000; text-decoration-color: #008000\">$^{[2]}$ Six decades later, Magnavox produced the Odyssey, the world's first home video game console.\"</span>,\n",
       "                        <span style=\"color: #808000; text-decoration-color: #808000\">source_is_text</span>=<span style=\"color: #00ff00; text-decoration-color: #00ff00; font-style: italic\">True</span>\n",
       "                    <span style=\"font-weight: bold\">)</span>\n",
       "                <span style=\"font-weight: bold\">]</span>\n",
       "            <span style=\"font-weight: bold\">)</span>\n",
       "        <span style=\"font-weight: bold\">)</span>\n",
       "    <span style=\"font-weight: bold\">]</span>,\n",
       "    <span style=\"color: #808000; text-decoration-color: #808000\">search_result_items</span>=<span style=\"font-weight: bold\">[</span>\n",
       "        <span style=\"color: #800080; text-decoration-color: #800080; font-weight: bold\">SearchResultItem</span><span style=\"font-weight: bold\">(</span>\n",
       "            <span style=\"color: #808000; text-decoration-color: #808000\">doc_hash</span>=<span style=\"color: #008000; text-decoration-color: #008000\">'029210df929c78e70d74e6f141a46d8326905ce58562f2081819c80c3921d5a3'</span>,\n",
       "            <span style=\"color: #808000; text-decoration-color: #808000\">path_in_doc</span>=<span style=\"color: #008000; text-decoration-color: #008000\">'main-text.1'</span>,\n",
       "            <span style=\"color: #808000; text-decoration-color: #808000\">passage</span>=<span style=\"color: #008000; text-decoration-color: #008000\">\"Magnavox (Latin for 'great voice ', stylized as MAGNAVOX) is an American electronics company </span>\n",
       "<span style=\"color: #008000; text-decoration-color: #008000\">that since 1975 has been a subsidiary of the Dutch electronics corporation Philips. [1] The predecessor to Magnavox</span>\n",
       "<span style=\"color: #008000; text-decoration-color: #008000\">was founded in 1911 by Edwin Pridham and Peter L. Jensen, coinventors of the moving-coil loudspeaker at their lab </span>\n",
       "<span style=\"color: #008000; text-decoration-color: #008000\">in Napa, California, under United States Patent number 1,105,924 for telephone receivers. $^{[2]}$ Six decades </span>\n",
       "<span style=\"color: #008000; text-decoration-color: #008000\">later, Magnavox produced the Odyssey, the world's first home video game console.\"</span>,\n",
       "            <span style=\"color: #808000; text-decoration-color: #808000\">source_is_text</span>=<span style=\"color: #00ff00; text-decoration-color: #00ff00; font-style: italic\">True</span>\n",
       "        <span style=\"font-weight: bold\">)</span>,\n",
       "        <span style=\"color: #800080; text-decoration-color: #800080; font-weight: bold\">SearchResultItem</span><span style=\"font-weight: bold\">(</span>\n",
       "            <span style=\"color: #808000; text-decoration-color: #808000\">doc_hash</span>=<span style=\"color: #008000; text-decoration-color: #008000\">'029210df929c78e70d74e6f141a46d8326905ce58562f2081819c80c3921d5a3'</span>,\n",
       "            <span style=\"color: #808000; text-decoration-color: #808000\">path_in_doc</span>=<span style=\"color: #008000; text-decoration-color: #008000\">'main-text.9'</span>,\n",
       "            <span style=\"color: #808000; text-decoration-color: #808000\">passage</span>=<span style=\"color: #008000; text-decoration-color: #008000\">'In 1972 Magnavox introduced the Odyssey, the first video game console. $^{[10]}$ In 1975, the </span>\n",
       "<span style=\"color: #008000; text-decoration-color: #008000\">Magnavox Company was acquired by Philips of the Netherlands to ensure nationwide distribution for their VLP (later </span>\n",
       "<span style=\"color: #008000; text-decoration-color: #008000\">renamed LaserVision) Videodisc technology, and all Philips consumer electronics in the US under the Norelco name </span>\n",
       "<span style=\"color: #008000; text-decoration-color: #008000\">began rebranding them under the Magnavox name; $^{[11]}$ Philips acquired the similar-sounding company Philco in </span>\n",
       "<span style=\"color: #008000; text-decoration-color: #008000\">1981, and Philips was able to freely use the Philips name, alternating with the Magnavox name for some electronics,</span>\n",
       "<span style=\"color: #008000; text-decoration-color: #008000\">with the personal care business continuing to use the Norelco name.'</span>,\n",
       "            <span style=\"color: #808000; text-decoration-color: #808000\">source_is_text</span>=<span style=\"color: #00ff00; text-decoration-color: #00ff00; font-style: italic\">True</span>\n",
       "        <span style=\"font-weight: bold\">)</span>,\n",
       "        <span style=\"color: #800080; text-decoration-color: #800080; font-weight: bold\">SearchResultItem</span><span style=\"font-weight: bold\">(</span>\n",
       "            <span style=\"color: #808000; text-decoration-color: #808000\">doc_hash</span>=<span style=\"color: #008000; text-decoration-color: #008000\">'029210df929c78e70d74e6f141a46d8326905ce58562f2081819c80c3921d5a3'</span>,\n",
       "            <span style=\"color: #808000; text-decoration-color: #808000\">path_in_doc</span>=<span style=\"color: #008000; text-decoration-color: #008000\">'main-text.6'</span>,\n",
       "            <span style=\"color: #808000; text-decoration-color: #808000\">passage</span>=<span style=\"color: #008000; text-decoration-color: #008000\">'Industry, Subsidiary = Consumer electronics. Founded, Subsidiary = 1917 Napa, California, </span>\n",
       "<span style=\"color: #008000; text-decoration-color: #008000\">U.S.. Founder, Subsidiary = Edwin Pridham Peter L. Jensen. Headquarters, Subsidiary = Knoxville, Tennessee, U.S.. </span>\n",
       "<span style=\"color: #008000; text-decoration-color: #008000\">Products, Subsidiary = Odyssey and its successors TVs Speakers Blu-ray and DVD. Parent, Subsidiary = Batteries </span>\n",
       "<span style=\"color: #008000; text-decoration-color: #008000\">Philips'</span>,\n",
       "            <span style=\"color: #808000; text-decoration-color: #808000\">source_is_text</span>=<span style=\"color: #ff0000; text-decoration-color: #ff0000; font-style: italic\">False</span>\n",
       "        <span style=\"font-weight: bold\">)</span>\n",
       "    <span style=\"font-weight: bold\">]</span>\n",
       "<span style=\"font-weight: bold\">)</span>\n",
       "</pre>\n"
      ],
      "text/plain": [
       "\u001b[1;35mRAGResult\u001b[0m\u001b[1m(\u001b[0m\n",
       "    \u001b[33manswers\u001b[0m=\u001b[1m[\u001b[0m\n",
       "        \u001b[1;35mRAGAnswerItem\u001b[0m\u001b[1m(\u001b[0m\n",
       "            \u001b[33manswer\u001b[0m=\u001b[32m'Magnavox'\u001b[0m,\n",
       "            \u001b[33mgrounding\u001b[0m=\u001b[1;35mRAGGroundingInfo\u001b[0m\u001b[1m(\u001b[0m\n",
       "                \u001b[33mitems\u001b[0m=\u001b[1m[\u001b[0m\n",
       "                    \u001b[1;35mSearchResultItem\u001b[0m\u001b[1m(\u001b[0m\n",
       "                        \u001b[33mdoc_hash\u001b[0m=\u001b[32m'029210df929c78e70d74e6f141a46d8326905ce58562f2081819c80c3921d5a3'\u001b[0m,\n",
       "                        \u001b[33mpath_in_doc\u001b[0m=\u001b[32m'main-text.1'\u001b[0m,\n",
       "                        \u001b[33mpassage\u001b[0m=\u001b[32m\"Magnavox\u001b[0m\u001b[32m \u001b[0m\u001b[32m(\u001b[0m\u001b[32mLatin for 'great voice ', stylized as MAGNAVOX\u001b[0m\u001b[32m)\u001b[0m\u001b[32m is an American \u001b[0m\n",
       "\u001b[32melectronics company that since 1975 has been a subsidiary of the Dutch electronics corporation Philips. \u001b[0m\u001b[32m[\u001b[0m\u001b[32m1\u001b[0m\u001b[32m]\u001b[0m\u001b[32m The \u001b[0m\n",
       "\u001b[32mpredecessor to Magnavox was founded in 1911 by Edwin Pridham and Peter L. Jensen, coinventors of the moving-coil \u001b[0m\n",
       "\u001b[32mloudspeaker at their lab in Napa, California, under United States Patent number 1,105,924 for telephone receivers. \u001b[0m\n",
       "\u001b[32m$^\u001b[0m\u001b[32m{\u001b[0m\u001b[32m[\u001b[0m\u001b[32m2\u001b[0m\u001b[32m]\u001b[0m\u001b[32m}\u001b[0m\u001b[32m$ Six decades later, Magnavox produced the Odyssey, the world's first home video game console.\"\u001b[0m,\n",
       "                        \u001b[33msource_is_text\u001b[0m=\u001b[3;92mTrue\u001b[0m\n",
       "                    \u001b[1m)\u001b[0m\n",
       "                \u001b[1m]\u001b[0m\n",
       "            \u001b[1m)\u001b[0m\n",
       "        \u001b[1m)\u001b[0m\n",
       "    \u001b[1m]\u001b[0m,\n",
       "    \u001b[33msearch_result_items\u001b[0m=\u001b[1m[\u001b[0m\n",
       "        \u001b[1;35mSearchResultItem\u001b[0m\u001b[1m(\u001b[0m\n",
       "            \u001b[33mdoc_hash\u001b[0m=\u001b[32m'029210df929c78e70d74e6f141a46d8326905ce58562f2081819c80c3921d5a3'\u001b[0m,\n",
       "            \u001b[33mpath_in_doc\u001b[0m=\u001b[32m'main-text.1'\u001b[0m,\n",
       "            \u001b[33mpassage\u001b[0m=\u001b[32m\"Magnavox\u001b[0m\u001b[32m \u001b[0m\u001b[32m(\u001b[0m\u001b[32mLatin for 'great voice ', stylized as MAGNAVOX\u001b[0m\u001b[32m)\u001b[0m\u001b[32m is an American electronics company \u001b[0m\n",
       "\u001b[32mthat since 1975 has been a subsidiary of the Dutch electronics corporation Philips. \u001b[0m\u001b[32m[\u001b[0m\u001b[32m1\u001b[0m\u001b[32m]\u001b[0m\u001b[32m The predecessor to Magnavox\u001b[0m\n",
       "\u001b[32mwas founded in 1911 by Edwin Pridham and Peter L. Jensen, coinventors of the moving-coil loudspeaker at their lab \u001b[0m\n",
       "\u001b[32min Napa, California, under United States Patent number 1,105,924 for telephone receivers. $^\u001b[0m\u001b[32m{\u001b[0m\u001b[32m[\u001b[0m\u001b[32m2\u001b[0m\u001b[32m]\u001b[0m\u001b[32m}\u001b[0m\u001b[32m$ Six decades \u001b[0m\n",
       "\u001b[32mlater, Magnavox produced the Odyssey, the world's first home video game console.\"\u001b[0m,\n",
       "            \u001b[33msource_is_text\u001b[0m=\u001b[3;92mTrue\u001b[0m\n",
       "        \u001b[1m)\u001b[0m,\n",
       "        \u001b[1;35mSearchResultItem\u001b[0m\u001b[1m(\u001b[0m\n",
       "            \u001b[33mdoc_hash\u001b[0m=\u001b[32m'029210df929c78e70d74e6f141a46d8326905ce58562f2081819c80c3921d5a3'\u001b[0m,\n",
       "            \u001b[33mpath_in_doc\u001b[0m=\u001b[32m'main-text.9'\u001b[0m,\n",
       "            \u001b[33mpassage\u001b[0m=\u001b[32m'In 1972 Magnavox introduced the Odyssey, the first video game console. $^\u001b[0m\u001b[32m{\u001b[0m\u001b[32m[\u001b[0m\u001b[32m10\u001b[0m\u001b[32m]\u001b[0m\u001b[32m}\u001b[0m\u001b[32m$ In 1975, the \u001b[0m\n",
       "\u001b[32mMagnavox Company was acquired by Philips of the Netherlands to ensure nationwide distribution for their VLP \u001b[0m\u001b[32m(\u001b[0m\u001b[32mlater \u001b[0m\n",
       "\u001b[32mrenamed LaserVision\u001b[0m\u001b[32m)\u001b[0m\u001b[32m Videodisc technology, and all Philips consumer electronics in the US under the Norelco name \u001b[0m\n",
       "\u001b[32mbegan rebranding them under the Magnavox name; $^\u001b[0m\u001b[32m{\u001b[0m\u001b[32m[\u001b[0m\u001b[32m11\u001b[0m\u001b[32m]\u001b[0m\u001b[32m}\u001b[0m\u001b[32m$ Philips acquired the similar-sounding company Philco in \u001b[0m\n",
       "\u001b[32m1981, and Philips was able to freely use the Philips name, alternating with the Magnavox name for some electronics,\u001b[0m\n",
       "\u001b[32mwith the personal care business continuing to use the Norelco name.'\u001b[0m,\n",
       "            \u001b[33msource_is_text\u001b[0m=\u001b[3;92mTrue\u001b[0m\n",
       "        \u001b[1m)\u001b[0m,\n",
       "        \u001b[1;35mSearchResultItem\u001b[0m\u001b[1m(\u001b[0m\n",
       "            \u001b[33mdoc_hash\u001b[0m=\u001b[32m'029210df929c78e70d74e6f141a46d8326905ce58562f2081819c80c3921d5a3'\u001b[0m,\n",
       "            \u001b[33mpath_in_doc\u001b[0m=\u001b[32m'main-text.6'\u001b[0m,\n",
       "            \u001b[33mpassage\u001b[0m=\u001b[32m'Industry, Subsidiary = Consumer electronics. Founded, Subsidiary = 1917 Napa, California, \u001b[0m\n",
       "\u001b[32mU.S.. Founder, Subsidiary = Edwin Pridham Peter L. Jensen. Headquarters, Subsidiary = Knoxville, Tennessee, U.S.. \u001b[0m\n",
       "\u001b[32mProducts, Subsidiary = Odyssey and its successors TVs Speakers Blu-ray and DVD. Parent, Subsidiary = Batteries \u001b[0m\n",
       "\u001b[32mPhilips'\u001b[0m,\n",
       "            \u001b[33msource_is_text\u001b[0m=\u001b[3;91mFalse\u001b[0m\n",
       "        \u001b[1m)\u001b[0m\n",
       "    \u001b[1m]\u001b[0m\n",
       "\u001b[1m)\u001b[0m\n"
      ]
     },
     "metadata": {},
     "output_type": "display_data"
    }
   ],
   "source": [
    "question = \"Which company created the first game console?\"\n",
    "\n",
    "# submit natural-language query on document\n",
    "question_query = DocumentRAGQuery(\n",
    "    question=question,\n",
    "    project=PROJ_KEY,\n",
    "    document_hash=SEM_OFF_IDX_DOC_HASH,\n",
    "\n",
    "    # optional params:\n",
    "    retr_k=RETR_K,\n",
    "    # text_weight=TEXT_WEIGHT,\n",
    "    rerank=RERANK,\n",
    ")\n",
    "api_output = api.queries.run(question_query)\n",
    "rag_result = RAGResult.from_api_output(api_output)\n",
    "\n",
    "rich.print(rag_result)\n"
   ]
  },
  {
   "cell_type": "code",
   "execution_count": 12,
   "metadata": {},
   "outputs": [
    {
     "data": {
      "text/markdown": [
       "The provenance of the answer can be inspected on the [source document](https://sds.app.accelerate.science/projects/b09ae7561a01dc7c4b0fd21a43bfd93d140766d1/library/private/b4edbe66a8b8fe2ebed7e20d4d7b9335c48b45b0?search=JTdCJTIycHJpdmF0ZUNvbGxlY3Rpb24lMjIlM0ElMjJiNGVkYmU2NmE4YjhmZTJlYmVkN2UyMGQ0ZDdiOTMzNWM0OGI0NWIwJTIyJTJDJTIydHlwZSUyMiUzQSUyMkRvY3VtZW50JTIyJTJDJTIyZXhwcmVzc2lvbiUyMiUzQSUyMmZpbGUtaW5mby5kb2N1bWVudC1oYXNoJTNBJTIwJTVDJTIyMDI5MjEwZGY5MjljNzhlNzBkNzRlNmYxNDFhNDZkODMyNjkwNWNlNTg1NjJmMjA4MTgxOWM4MGMzOTIxZDVhMyU1QyUyMiUyMiUyQyUyMmZpbHRlcnMlMjIlM0ElNUIlNUQlMkMlMjJzZWxlY3QlMjIlM0ElNUIlMjJfbmFtZSUyMiUyQyUyMmRlc2NyaXB0aW9uLmNvbGxlY3Rpb24lMjIlMkMlMjJwcm92JTIyJTJDJTIyZGVzY3JpcHRpb24udGl0bGUlMjIlMkMlMjJkZXNjcmlwdGlvbi5wdWJsaWNhdGlvbl9kYXRlJTIyJTJDJTIyZGVzY3JpcHRpb24udXJsX3JlZnMlMjIlNUQlMkMlMjJpdGVtSW5kZXglMjIlM0EwJTJDJTIycGFnZVNpemUlMjIlM0ExMCUyQyUyMnNlYXJjaEFmdGVySGlzdG9yeSUyMiUzQSU1QiU1RCUyQyUyMnZpZXdUeXBlJTIyJTNBJTIyc25pcHBldHMlMjIlMkMlMjJyZWNvcmRTZWxlY3Rpb24lMjIlM0ElN0IlMjJyZWNvcmQlMjIlM0ElN0IlMjJpZCUyMiUzQSUyMjAyOTIxMGRmOTI5Yzc4ZTcwZDc0ZTZmMTQxYTQ2ZDgzMjY5MDVjZTU4NTYyZjIwODE4MTljODBjMzkyMWQ1YTMlMjIlN0QlMkMlMjJpdGVtSW5kZXglMjIlM0ExJTdEJTdE)."
      ],
      "text/plain": [
       "<IPython.core.display.Markdown object>"
      ]
     },
     "metadata": {},
     "output_type": "display_data"
    }
   ],
   "source": [
    "render_provenance_url(api=api, coords=coords, retr_item=rag_result.answers[0].grounding.items[0])"
   ]
  },
  {
   "cell_type": "markdown",
   "metadata": {},
   "source": [
    "### Semantic retrieval"
   ]
  },
  {
   "cell_type": "code",
   "execution_count": 13,
   "metadata": {},
   "outputs": [
    {
     "data": {
      "text/html": [
       "<pre style=\"white-space:pre;overflow-x:auto;line-height:normal;font-family:Menlo,'DejaVu Sans Mono',consolas,'Courier New',monospace\"><span style=\"color: #800080; text-decoration-color: #800080; font-weight: bold\">SearchResult</span><span style=\"font-weight: bold\">(</span>\n",
       "    <span style=\"color: #808000; text-decoration-color: #808000\">search_result_items</span>=<span style=\"font-weight: bold\">[</span>\n",
       "        <span style=\"color: #800080; text-decoration-color: #800080; font-weight: bold\">SearchResultItem</span><span style=\"font-weight: bold\">(</span>\n",
       "            <span style=\"color: #808000; text-decoration-color: #808000\">doc_hash</span>=<span style=\"color: #008000; text-decoration-color: #008000\">'029210df929c78e70d74e6f141a46d8326905ce58562f2081819c80c3921d5a3'</span>,\n",
       "            <span style=\"color: #808000; text-decoration-color: #808000\">path_in_doc</span>=<span style=\"color: #008000; text-decoration-color: #008000\">'main-text.1'</span>,\n",
       "            <span style=\"color: #808000; text-decoration-color: #808000\">passage</span>=<span style=\"color: #008000; text-decoration-color: #008000\">\"Magnavox (Latin for 'great voice ', stylized as MAGNAVOX) is an American electronics company </span>\n",
       "<span style=\"color: #008000; text-decoration-color: #008000\">that since 1975 has been a subsidiary of the Dutch electronics corporation Philips. [1] The predecessor to Magnavox</span>\n",
       "<span style=\"color: #008000; text-decoration-color: #008000\">was founded in 1911 by Edwin Pridham and Peter L. Jensen, coinventors of the moving-coil loudspeaker at their lab </span>\n",
       "<span style=\"color: #008000; text-decoration-color: #008000\">in Napa, California, under United States Patent number 1,105,924 for telephone receivers. $^{[2]}$ Six decades </span>\n",
       "<span style=\"color: #008000; text-decoration-color: #008000\">later, Magnavox produced the Odyssey, the world's first home video game console.\"</span>,\n",
       "            <span style=\"color: #808000; text-decoration-color: #808000\">source_is_text</span>=<span style=\"color: #00ff00; text-decoration-color: #00ff00; font-style: italic\">True</span>\n",
       "        <span style=\"font-weight: bold\">)</span>,\n",
       "        <span style=\"color: #800080; text-decoration-color: #800080; font-weight: bold\">SearchResultItem</span><span style=\"font-weight: bold\">(</span>\n",
       "            <span style=\"color: #808000; text-decoration-color: #808000\">doc_hash</span>=<span style=\"color: #008000; text-decoration-color: #008000\">'029210df929c78e70d74e6f141a46d8326905ce58562f2081819c80c3921d5a3'</span>,\n",
       "            <span style=\"color: #808000; text-decoration-color: #808000\">path_in_doc</span>=<span style=\"color: #008000; text-decoration-color: #008000\">'main-text.9'</span>,\n",
       "            <span style=\"color: #808000; text-decoration-color: #808000\">passage</span>=<span style=\"color: #008000; text-decoration-color: #008000\">'In 1972 Magnavox introduced the Odyssey, the first video game console. $^{[10]}$ In 1975, the </span>\n",
       "<span style=\"color: #008000; text-decoration-color: #008000\">Magnavox Company was acquired by Philips of the Netherlands to ensure nationwide distribution for their VLP (later </span>\n",
       "<span style=\"color: #008000; text-decoration-color: #008000\">renamed LaserVision) Videodisc technology, and all Philips consumer electronics in the US under the Norelco name </span>\n",
       "<span style=\"color: #008000; text-decoration-color: #008000\">began rebranding them under the Magnavox name; $^{[11]}$ Philips acquired the similar-sounding company Philco in </span>\n",
       "<span style=\"color: #008000; text-decoration-color: #008000\">1981, and Philips was able to freely use the Philips name, alternating with the Magnavox name for some electronics,</span>\n",
       "<span style=\"color: #008000; text-decoration-color: #008000\">with the personal care business continuing to use the Norelco name.'</span>,\n",
       "            <span style=\"color: #808000; text-decoration-color: #808000\">source_is_text</span>=<span style=\"color: #00ff00; text-decoration-color: #00ff00; font-style: italic\">True</span>\n",
       "        <span style=\"font-weight: bold\">)</span>,\n",
       "        <span style=\"color: #800080; text-decoration-color: #800080; font-weight: bold\">SearchResultItem</span><span style=\"font-weight: bold\">(</span>\n",
       "            <span style=\"color: #808000; text-decoration-color: #808000\">doc_hash</span>=<span style=\"color: #008000; text-decoration-color: #008000\">'029210df929c78e70d74e6f141a46d8326905ce58562f2081819c80c3921d5a3'</span>,\n",
       "            <span style=\"color: #808000; text-decoration-color: #808000\">path_in_doc</span>=<span style=\"color: #008000; text-decoration-color: #008000\">'main-text.6'</span>,\n",
       "            <span style=\"color: #808000; text-decoration-color: #808000\">passage</span>=<span style=\"color: #008000; text-decoration-color: #008000\">'Industry, Subsidiary = Consumer electronics. Founded, Subsidiary = 1917 Napa, California, </span>\n",
       "<span style=\"color: #008000; text-decoration-color: #008000\">U.S.. Founder, Subsidiary = Edwin Pridham Peter L. Jensen. Headquarters, Subsidiary = Knoxville, Tennessee, U.S.. </span>\n",
       "<span style=\"color: #008000; text-decoration-color: #008000\">Products, Subsidiary = Odyssey and its successors TVs Speakers Blu-ray and DVD. Parent, Subsidiary = Batteries </span>\n",
       "<span style=\"color: #008000; text-decoration-color: #008000\">Philips'</span>,\n",
       "            <span style=\"color: #808000; text-decoration-color: #808000\">source_is_text</span>=<span style=\"color: #ff0000; text-decoration-color: #ff0000; font-style: italic\">False</span>\n",
       "        <span style=\"font-weight: bold\">)</span>\n",
       "    <span style=\"font-weight: bold\">]</span>\n",
       "<span style=\"font-weight: bold\">)</span>\n",
       "</pre>\n"
      ],
      "text/plain": [
       "\u001b[1;35mSearchResult\u001b[0m\u001b[1m(\u001b[0m\n",
       "    \u001b[33msearch_result_items\u001b[0m=\u001b[1m[\u001b[0m\n",
       "        \u001b[1;35mSearchResultItem\u001b[0m\u001b[1m(\u001b[0m\n",
       "            \u001b[33mdoc_hash\u001b[0m=\u001b[32m'029210df929c78e70d74e6f141a46d8326905ce58562f2081819c80c3921d5a3'\u001b[0m,\n",
       "            \u001b[33mpath_in_doc\u001b[0m=\u001b[32m'main-text.1'\u001b[0m,\n",
       "            \u001b[33mpassage\u001b[0m=\u001b[32m\"Magnavox\u001b[0m\u001b[32m \u001b[0m\u001b[32m(\u001b[0m\u001b[32mLatin for 'great voice ', stylized as MAGNAVOX\u001b[0m\u001b[32m)\u001b[0m\u001b[32m is an American electronics company \u001b[0m\n",
       "\u001b[32mthat since 1975 has been a subsidiary of the Dutch electronics corporation Philips. \u001b[0m\u001b[32m[\u001b[0m\u001b[32m1\u001b[0m\u001b[32m]\u001b[0m\u001b[32m The predecessor to Magnavox\u001b[0m\n",
       "\u001b[32mwas founded in 1911 by Edwin Pridham and Peter L. Jensen, coinventors of the moving-coil loudspeaker at their lab \u001b[0m\n",
       "\u001b[32min Napa, California, under United States Patent number 1,105,924 for telephone receivers. $^\u001b[0m\u001b[32m{\u001b[0m\u001b[32m[\u001b[0m\u001b[32m2\u001b[0m\u001b[32m]\u001b[0m\u001b[32m}\u001b[0m\u001b[32m$ Six decades \u001b[0m\n",
       "\u001b[32mlater, Magnavox produced the Odyssey, the world's first home video game console.\"\u001b[0m,\n",
       "            \u001b[33msource_is_text\u001b[0m=\u001b[3;92mTrue\u001b[0m\n",
       "        \u001b[1m)\u001b[0m,\n",
       "        \u001b[1;35mSearchResultItem\u001b[0m\u001b[1m(\u001b[0m\n",
       "            \u001b[33mdoc_hash\u001b[0m=\u001b[32m'029210df929c78e70d74e6f141a46d8326905ce58562f2081819c80c3921d5a3'\u001b[0m,\n",
       "            \u001b[33mpath_in_doc\u001b[0m=\u001b[32m'main-text.9'\u001b[0m,\n",
       "            \u001b[33mpassage\u001b[0m=\u001b[32m'In 1972 Magnavox introduced the Odyssey, the first video game console. $^\u001b[0m\u001b[32m{\u001b[0m\u001b[32m[\u001b[0m\u001b[32m10\u001b[0m\u001b[32m]\u001b[0m\u001b[32m}\u001b[0m\u001b[32m$ In 1975, the \u001b[0m\n",
       "\u001b[32mMagnavox Company was acquired by Philips of the Netherlands to ensure nationwide distribution for their VLP \u001b[0m\u001b[32m(\u001b[0m\u001b[32mlater \u001b[0m\n",
       "\u001b[32mrenamed LaserVision\u001b[0m\u001b[32m)\u001b[0m\u001b[32m Videodisc technology, and all Philips consumer electronics in the US under the Norelco name \u001b[0m\n",
       "\u001b[32mbegan rebranding them under the Magnavox name; $^\u001b[0m\u001b[32m{\u001b[0m\u001b[32m[\u001b[0m\u001b[32m11\u001b[0m\u001b[32m]\u001b[0m\u001b[32m}\u001b[0m\u001b[32m$ Philips acquired the similar-sounding company Philco in \u001b[0m\n",
       "\u001b[32m1981, and Philips was able to freely use the Philips name, alternating with the Magnavox name for some electronics,\u001b[0m\n",
       "\u001b[32mwith the personal care business continuing to use the Norelco name.'\u001b[0m,\n",
       "            \u001b[33msource_is_text\u001b[0m=\u001b[3;92mTrue\u001b[0m\n",
       "        \u001b[1m)\u001b[0m,\n",
       "        \u001b[1;35mSearchResultItem\u001b[0m\u001b[1m(\u001b[0m\n",
       "            \u001b[33mdoc_hash\u001b[0m=\u001b[32m'029210df929c78e70d74e6f141a46d8326905ce58562f2081819c80c3921d5a3'\u001b[0m,\n",
       "            \u001b[33mpath_in_doc\u001b[0m=\u001b[32m'main-text.6'\u001b[0m,\n",
       "            \u001b[33mpassage\u001b[0m=\u001b[32m'Industry, Subsidiary = Consumer electronics. Founded, Subsidiary = 1917 Napa, California, \u001b[0m\n",
       "\u001b[32mU.S.. Founder, Subsidiary = Edwin Pridham Peter L. Jensen. Headquarters, Subsidiary = Knoxville, Tennessee, U.S.. \u001b[0m\n",
       "\u001b[32mProducts, Subsidiary = Odyssey and its successors TVs Speakers Blu-ray and DVD. Parent, Subsidiary = Batteries \u001b[0m\n",
       "\u001b[32mPhilips'\u001b[0m,\n",
       "            \u001b[33msource_is_text\u001b[0m=\u001b[3;91mFalse\u001b[0m\n",
       "        \u001b[1m)\u001b[0m\n",
       "    \u001b[1m]\u001b[0m\n",
       "\u001b[1m)\u001b[0m\n"
      ]
     },
     "metadata": {},
     "output_type": "display_data"
    }
   ],
   "source": [
    "question = \"Which company created the first game console?\"\n",
    "\n",
    "# submit natural-language query on document\n",
    "question_query = DocumentSemanticQuery(\n",
    "    question=question,\n",
    "    project=PROJ_KEY,\n",
    "    document_hash=SEM_OFF_IDX_DOC_HASH,\n",
    "\n",
    "    # optional params:\n",
    "    retr_k=RETR_K,\n",
    "    # text_weight=TEXT_WEIGHT,\n",
    "    rerank=RERANK,\n",
    ")\n",
    "api_output = api.queries.run(question_query)\n",
    "rag_result = SearchResult.from_api_output(api_output)\n",
    "\n",
    "rich.print(rag_result)"
   ]
  },
  {
   "cell_type": "code",
   "execution_count": null,
   "metadata": {},
   "outputs": [],
   "source": []
  }
 ],
 "metadata": {
  "kernelspec": {
   "display_name": "Python 3 (ipykernel)",
   "language": "python",
   "name": "python3"
  },
  "language_info": {
   "codemirror_mode": {
    "name": "ipython",
    "version": 3
   },
   "file_extension": ".py",
   "mimetype": "text/x-python",
   "name": "python",
   "nbconvert_exporter": "python",
   "pygments_lexer": "ipython3",
   "version": "3.10.4"
  }
 },
 "nbformat": 4,
 "nbformat_minor": 5
}
