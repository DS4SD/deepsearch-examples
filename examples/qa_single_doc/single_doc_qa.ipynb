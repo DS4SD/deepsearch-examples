{
 "cells": [
  {
   "cell_type": "markdown",
   "id": "99f717ef-4cba-4300-b258-0b1c248cb873",
   "metadata": {},
   "source": [
    "# RAG and Semantic Retrieval on a Single Document\n",
    "\n",
    "Deep Search allows users to interact with the documents using conversational AI, i.e. you interact with a virtual assistant which answer your questions using the information in the document.\n",
    "\n",
    "In this example we demonstrate how achive the same interaction programmatically.\n",
    "\n",
    "### Access required\n",
    "\n",
    "The content of this notebook requires access to Deep Search capabilities which are not\n",
    "available on the public access system.\n",
    "\n",
    "[Contact us](https://ds4sd.github.io) if you are interested in exploring\n",
    "these Deep Search capabilities.\n",
    "\n",
    "\n",
    "### GenAI Integration required\n",
    "\n",
    "When interacting with the virtual assistant, Deep Search requires a connection to a Generative AI API. Currently, we support connections to [watsonx.ai](https://www.ibm.com/products/watsonx-ai) or the IBM-internal GenAI platform BAM.\n",
    "\n",
    "Deep Search allows custom GenAI configurations for each project.\n",
    "In the following example you will require to work in a project which has such GenAI capabilities activated."
   ]
  },
  {
   "cell_type": "markdown",
   "id": "256aef50-71a1-4278-9b22-17cb99a6566e",
   "metadata": {},
   "source": [
    "### Set notebook parameters\n"
   ]
  },
  {
   "cell_type": "code",
   "execution_count": 1,
   "id": "5b244bdd-1b52-41ff-b63e-9a203570d210",
   "metadata": {},
   "outputs": [],
   "source": [
    "from dsnotebooks.settings import DocQANotebookSettings\n",
    "\n",
    "# notebooks settings auto-loaded from .env / env vars\n",
    "notebook_settings = DocQANotebookSettings()\n",
    "\n",
    "PROFILE_NAME = notebook_settings.profile  # the profile to use\n",
    "PROJ_KEY = notebook_settings.proj_key     # the project to use\n",
    "\n",
    "# index and doc for doc QA from semantically indexed collection\n",
    "SEM_ON_IDX_KEY = notebook_settings.sem_on_idx_key\n",
    "SEM_ON_IDX_DOC_HASH = notebook_settings.sem_on_idx_doc_hash\n",
    "\n",
    "# index and doc for doc QA from not semantically indexed collection\n",
    "SEM_OFF_IDX_KEY = notebook_settings.sem_off_idx_key\n",
    "SEM_OFF_IDX_DOC_HASH = notebook_settings.sem_off_idx_doc_hash"
   ]
  },
  {
   "cell_type": "markdown",
   "id": "a5269060-bb5f-4fe3-9b64-547202db6714",
   "metadata": {},
   "source": [
    "### Import example dependencies"
   ]
  },
  {
   "cell_type": "code",
   "execution_count": 2,
   "id": "5d236ea0-db1c-4171-8e11-cdd0bad69d66",
   "metadata": {},
   "outputs": [],
   "source": [
    "# Import standard dependenices\n",
    "import rich\n",
    "\n",
    "# IPython utilities\n",
    "from IPython.display import display, Markdown\n",
    "\n",
    "# Import the deepsearch-toolkit\n",
    "from deepsearch.cps.client.api import CpsApi\n",
    "from deepsearch.cps.client.components.elastic import ElasticProjectDataCollectionSource\n",
    "from deepsearch.cps.queries import DocumentRAGQuery, DocumentSemanticQuery\n"
   ]
  },
  {
   "cell_type": "markdown",
   "id": "293c249b-6018-46f2-b4d8-795f994d4729",
   "metadata": {},
   "source": [
    "### Connect to Deep Search"
   ]
  },
  {
   "cell_type": "code",
   "execution_count": 3,
   "id": "9c108432-a285-4c7b-a996-008ac3ff3d7a",
   "metadata": {},
   "outputs": [],
   "source": [
    "api = CpsApi.from_env(profile_name=PROFILE_NAME)\n"
   ]
  },
  {
   "cell_type": "markdown",
   "metadata": {},
   "source": [
    "### Utils"
   ]
  },
  {
   "cell_type": "code",
   "execution_count": 4,
   "metadata": {},
   "outputs": [],
   "source": [
    "from deepsearch.cps.client.components.queries import RunQueryResult\n",
    "\n",
    "def render_provenance_url(\n",
    "        api: CpsApi,\n",
    "        coords: ElasticProjectDataCollectionSource,\n",
    "        qa_res: RunQueryResult,\n",
    "):\n",
    "    ## compute URL to the document in the Deep Search UI\n",
    "    doc_url = api.documents.generate_url(\n",
    "        document_hash=qa_res.outputs[\"provenance\"][0][\"doc_hash\"],\n",
    "        data_source=coords,\n",
    "        item_index=qa_res.outputs[\"provenance\"][0][\"pos_in_doc\"],\n",
    "    )\n",
    "    display(Markdown(f\"The provenance of the answer can be inspected on the [source document]({doc_url}).\"))\n"
   ]
  },
  {
   "cell_type": "markdown",
   "id": "38cde869-46d1-4833-8eb3-2381b5e5fb68",
   "metadata": {},
   "source": [
    "---"
   ]
  },
  {
   "cell_type": "markdown",
   "metadata": {},
   "source": [
    "## QA on document within semantically indexed collection"
   ]
  },
  {
   "cell_type": "markdown",
   "metadata": {},
   "source": [
    "### RAG"
   ]
  },
  {
   "cell_type": "markdown",
   "metadata": {},
   "source": [
    "If the document is part of a semantically indexed collection (see [Document Collection QA](https://github.com/DS4SD/deepsearch-examples/tree/main/examples/qa_doc_collection) for details),\n",
    "we can directly do RAG on it as shown below:"
   ]
  },
  {
   "cell_type": "code",
   "execution_count": 5,
   "metadata": {},
   "outputs": [
    {
     "data": {
      "text/html": [
       "<pre style=\"white-space:pre;overflow-x:auto;line-height:normal;font-family:Menlo,'DejaVu Sans Mono',consolas,'Courier New',monospace\"><span style=\"color: #800080; text-decoration-color: #800080; font-weight: bold\">RunQueryResult</span><span style=\"font-weight: bold\">(</span>\n",
       "    <span style=\"color: #808000; text-decoration-color: #808000\">outputs</span>=<span style=\"font-weight: bold\">{</span>\n",
       "        <span style=\"color: #008000; text-decoration-color: #008000\">'answer'</span>: <span style=\"color: #008000; text-decoration-color: #008000\">'Adliswil, Switzerland'</span>,\n",
       "        <span style=\"color: #008000; text-decoration-color: #008000\">'provenance'</span>: <span style=\"font-weight: bold\">[</span>\n",
       "            <span style=\"font-weight: bold\">{</span>\n",
       "                <span style=\"color: #008000; text-decoration-color: #008000\">'doc_hash'</span>: <span style=\"color: #008000; text-decoration-color: #008000\">'b30bc667a324ae111d025526563b674a8d3fd869bc07c8fd204aa95b05d41f0c'</span>,\n",
       "                <span style=\"color: #008000; text-decoration-color: #008000\">'pos_in_doc'</span>: <span style=\"color: #008080; text-decoration-color: #008080; font-weight: bold\">71</span>,\n",
       "                <span style=\"color: #008000; text-decoration-color: #008000\">'passage'</span>: <span style=\"color: #008000; text-decoration-color: #008000\">'In 1956, IBM opened their first European research laboratory in Adliswil, Switzerland, </span>\n",
       "<span style=\"color: #008000; text-decoration-color: #008000\">near Zurich. The lab moved to its own campus in neighboring Rüschlikon in 1962. The Zurich lab is staffed by a </span>\n",
       "<span style=\"color: #008000; text-decoration-color: #008000\">multicultural and interdisciplinary team of a few hundred permanent research staff members, graduate students and </span>\n",
       "<span style=\"color: #008000; text-decoration-color: #008000\">post-doctoral fellows, representing about 45 nationalities. Collocated with the lab is a Client Center (formerly </span>\n",
       "<span style=\"color: #008000; text-decoration-color: #008000\">the Industry Solutions Lab), an executive briefing facility demonstrating technology prototypes and solutions.'</span>,\n",
       "                <span style=\"color: #008000; text-decoration-color: #008000\">'source_is_text'</span>: <span style=\"color: #00ff00; text-decoration-color: #00ff00; font-style: italic\">True</span>\n",
       "            <span style=\"font-weight: bold\">}</span>\n",
       "        <span style=\"font-weight: bold\">]</span>\n",
       "    <span style=\"font-weight: bold\">}</span>,\n",
       "    <span style=\"color: #808000; text-decoration-color: #808000\">next_pages</span>=<span style=\"font-weight: bold\">{}</span>,\n",
       "    <span style=\"color: #808000; text-decoration-color: #808000\">timings</span>=<span style=\"color: #800080; text-decoration-color: #800080; font-weight: bold\">QueryTimings</span><span style=\"font-weight: bold\">(</span>\n",
       "        <span style=\"color: #808000; text-decoration-color: #808000\">overall</span>=<span style=\"color: #008080; text-decoration-color: #008080; font-weight: bold\">0.8152741128578782</span>,\n",
       "        <span style=\"color: #808000; text-decoration-color: #808000\">tasks</span>=<span style=\"font-weight: bold\">{</span><span style=\"color: #008000; text-decoration-color: #008000\">'QA'</span>: <span style=\"color: #800080; text-decoration-color: #800080; font-weight: bold\">TaskTimings</span><span style=\"font-weight: bold\">(</span><span style=\"color: #808000; text-decoration-color: #808000\">overall</span>=<span style=\"color: #008080; text-decoration-color: #008080; font-weight: bold\">0.8148494646884501</span>, <span style=\"color: #808000; text-decoration-color: #808000\">details</span>=<span style=\"font-weight: bold\">{})}</span>\n",
       "    <span style=\"font-weight: bold\">)</span>\n",
       "<span style=\"font-weight: bold\">)</span>\n",
       "</pre>\n"
      ],
      "text/plain": [
       "\u001b[1;35mRunQueryResult\u001b[0m\u001b[1m(\u001b[0m\n",
       "    \u001b[33moutputs\u001b[0m=\u001b[1m{\u001b[0m\n",
       "        \u001b[32m'answer'\u001b[0m: \u001b[32m'Adliswil, Switzerland'\u001b[0m,\n",
       "        \u001b[32m'provenance'\u001b[0m: \u001b[1m[\u001b[0m\n",
       "            \u001b[1m{\u001b[0m\n",
       "                \u001b[32m'doc_hash'\u001b[0m: \u001b[32m'b30bc667a324ae111d025526563b674a8d3fd869bc07c8fd204aa95b05d41f0c'\u001b[0m,\n",
       "                \u001b[32m'pos_in_doc'\u001b[0m: \u001b[1;36m71\u001b[0m,\n",
       "                \u001b[32m'passage'\u001b[0m: \u001b[32m'In 1956, IBM opened their first European research laboratory in Adliswil, Switzerland, \u001b[0m\n",
       "\u001b[32mnear Zurich. The lab moved to its own campus in neighboring Rüschlikon in 1962. The Zurich lab is staffed by a \u001b[0m\n",
       "\u001b[32mmulticultural and interdisciplinary team of a few hundred permanent research staff members, graduate students and \u001b[0m\n",
       "\u001b[32mpost-doctoral fellows, representing about 45 nationalities. Collocated with the lab is a Client Center \u001b[0m\u001b[32m(\u001b[0m\u001b[32mformerly \u001b[0m\n",
       "\u001b[32mthe Industry Solutions Lab\u001b[0m\u001b[32m)\u001b[0m\u001b[32m, an executive briefing facility demonstrating technology prototypes and solutions.'\u001b[0m,\n",
       "                \u001b[32m'source_is_text'\u001b[0m: \u001b[3;92mTrue\u001b[0m\n",
       "            \u001b[1m}\u001b[0m\n",
       "        \u001b[1m]\u001b[0m\n",
       "    \u001b[1m}\u001b[0m,\n",
       "    \u001b[33mnext_pages\u001b[0m=\u001b[1m{\u001b[0m\u001b[1m}\u001b[0m,\n",
       "    \u001b[33mtimings\u001b[0m=\u001b[1;35mQueryTimings\u001b[0m\u001b[1m(\u001b[0m\n",
       "        \u001b[33moverall\u001b[0m=\u001b[1;36m0\u001b[0m\u001b[1;36m.8152741128578782\u001b[0m,\n",
       "        \u001b[33mtasks\u001b[0m=\u001b[1m{\u001b[0m\u001b[32m'QA'\u001b[0m: \u001b[1;35mTaskTimings\u001b[0m\u001b[1m(\u001b[0m\u001b[33moverall\u001b[0m=\u001b[1;36m0\u001b[0m\u001b[1;36m.8148494646884501\u001b[0m, \u001b[33mdetails\u001b[0m=\u001b[1m{\u001b[0m\u001b[1m}\u001b[0m\u001b[1m)\u001b[0m\u001b[1m}\u001b[0m\n",
       "    \u001b[1m)\u001b[0m\n",
       "\u001b[1m)\u001b[0m\n"
      ]
     },
     "metadata": {},
     "output_type": "display_data"
    }
   ],
   "source": [
    "question = \"Where was the first European IBM lab located?\"\n",
    "\n",
    "# submit natural-language query on document\n",
    "question_query = DocumentRAGQuery(\n",
    "    question=question,\n",
    "    project=PROJ_KEY,\n",
    "    index_key=SEM_ON_IDX_KEY,\n",
    "    document_hash=SEM_ON_IDX_DOC_HASH,\n",
    ")\n",
    "question_results = api.queries.run(question_query)\n",
    "\n",
    "rich.print(question_results)\n"
   ]
  },
  {
   "cell_type": "markdown",
   "metadata": {},
   "source": [
    "Additionally, we can generate a provenance URL to the document in the Deep Search UI:"
   ]
  },
  {
   "cell_type": "code",
   "execution_count": 6,
   "metadata": {},
   "outputs": [
    {
     "data": {
      "text/markdown": [
       "The provenance of the answer can be inspected on the [source document](https://sds.app.accelerate.science/projects/b09ae7561a01dc7c4b0fd21a43bfd93d140766d1/library/private/6b70072911ad2794a3844dd44d1705a5ba37ca0b?search=JTdCJTIycHJpdmF0ZUNvbGxlY3Rpb24lMjIlM0ElMjI2YjcwMDcyOTExYWQyNzk0YTM4NDRkZDQ0ZDE3MDVhNWJhMzdjYTBiJTIyJTJDJTIydHlwZSUyMiUzQSUyMkRvY3VtZW50JTIyJTJDJTIyZXhwcmVzc2lvbiUyMiUzQSUyMmZpbGUtaW5mby5kb2N1bWVudC1oYXNoJTNBJTIwJTVDJTIyYjMwYmM2NjdhMzI0YWUxMTFkMDI1NTI2NTYzYjY3NGE4ZDNmZDg2OWJjMDdjOGZkMjA0YWE5NWIwNWQ0MWYwYyU1QyUyMiUyMiUyQyUyMmZpbHRlcnMlMjIlM0ElNUIlNUQlMkMlMjJzZWxlY3QlMjIlM0ElNUIlMjJfbmFtZSUyMiUyQyUyMmRlc2NyaXB0aW9uLmNvbGxlY3Rpb24lMjIlMkMlMjJwcm92JTIyJTJDJTIyZGVzY3JpcHRpb24udGl0bGUlMjIlMkMlMjJkZXNjcmlwdGlvbi5wdWJsaWNhdGlvbl9kYXRlJTIyJTJDJTIyZGVzY3JpcHRpb24udXJsX3JlZnMlMjIlNUQlMkMlMjJpdGVtSW5kZXglMjIlM0EwJTJDJTIycGFnZVNpemUlMjIlM0ExMCUyQyUyMnNlYXJjaEFmdGVySGlzdG9yeSUyMiUzQSU1QiU1RCUyQyUyMnZpZXdUeXBlJTIyJTNBJTIyc25pcHBldHMlMjIlMkMlMjJyZWNvcmRTZWxlY3Rpb24lMjIlM0ElN0IlMjJyZWNvcmQlMjIlM0ElN0IlMjJpZCUyMiUzQSUyMmIzMGJjNjY3YTMyNGFlMTExZDAyNTUyNjU2M2I2NzRhOGQzZmQ4NjliYzA3YzhmZDIwNGFhOTViMDVkNDFmMGMlMjIlN0QlMkMlMjJpdGVtSW5kZXglMjIlM0E3MSU3RCU3RA%3D%3D)."
      ],
      "text/plain": [
       "<IPython.core.display.Markdown object>"
      ]
     },
     "metadata": {},
     "output_type": "display_data"
    }
   ],
   "source": [
    "coords = ElasticProjectDataCollectionSource(\n",
    "    proj_key=PROJ_KEY,\n",
    "    index_key=SEM_ON_IDX_KEY,\n",
    ")\n",
    "render_provenance_url(api=api, coords=coords, qa_res=question_results)"
   ]
  },
  {
   "cell_type": "markdown",
   "metadata": {},
   "source": [
    "### Semantic retrieval\n",
    "\n",
    "Besides RAG, which includes natural language generation, a user may only be interested in\n",
    "the semantic retrieval part.\n",
    "\n",
    "This can be obtained very similarly to RAG, as shown below:"
   ]
  },
  {
   "cell_type": "code",
   "execution_count": 7,
   "metadata": {},
   "outputs": [
    {
     "data": {
      "text/html": [
       "<pre style=\"white-space:pre;overflow-x:auto;line-height:normal;font-family:Menlo,'DejaVu Sans Mono',consolas,'Courier New',monospace\"><span style=\"color: #800080; text-decoration-color: #800080; font-weight: bold\">RunQueryResult</span><span style=\"font-weight: bold\">(</span>\n",
       "    <span style=\"color: #808000; text-decoration-color: #808000\">outputs</span>=<span style=\"font-weight: bold\">{</span>\n",
       "        <span style=\"color: #008000; text-decoration-color: #008000\">'contexts'</span>: <span style=\"font-weight: bold\">[</span>\n",
       "            <span style=\"font-weight: bold\">{</span>\n",
       "                <span style=\"color: #008000; text-decoration-color: #008000\">'doc_hash'</span>: <span style=\"color: #008000; text-decoration-color: #008000\">'b30bc667a324ae111d025526563b674a8d3fd869bc07c8fd204aa95b05d41f0c'</span>,\n",
       "                <span style=\"color: #008000; text-decoration-color: #008000\">'pos_in_doc'</span>: <span style=\"color: #008080; text-decoration-color: #008080; font-weight: bold\">71</span>,\n",
       "                <span style=\"color: #008000; text-decoration-color: #008000\">'passage'</span>: <span style=\"color: #008000; text-decoration-color: #008000\">'In 1956, IBM opened their first European research laboratory in Adliswil, Switzerland, </span>\n",
       "<span style=\"color: #008000; text-decoration-color: #008000\">near Zurich. The lab moved to its own campus in neighboring Rüschlikon in 1962. The Zurich lab is staffed by a </span>\n",
       "<span style=\"color: #008000; text-decoration-color: #008000\">multicultural and interdisciplinary team of a few hundred permanent research staff members, graduate students and </span>\n",
       "<span style=\"color: #008000; text-decoration-color: #008000\">post-doctoral fellows, representing about 45 nationalities. Collocated with the lab is a Client Center (formerly </span>\n",
       "<span style=\"color: #008000; text-decoration-color: #008000\">the Industry Solutions Lab), an executive briefing facility demonstrating technology prototypes and solutions.'</span>,\n",
       "                <span style=\"color: #008000; text-decoration-color: #008000\">'source_is_text'</span>: <span style=\"color: #00ff00; text-decoration-color: #00ff00; font-style: italic\">True</span>\n",
       "            <span style=\"font-weight: bold\">}</span>,\n",
       "            <span style=\"font-weight: bold\">{</span>\n",
       "                <span style=\"color: #008000; text-decoration-color: #008000\">'doc_hash'</span>: <span style=\"color: #008000; text-decoration-color: #008000\">'b30bc667a324ae111d025526563b674a8d3fd869bc07c8fd204aa95b05d41f0c'</span>,\n",
       "                <span style=\"color: #008000; text-decoration-color: #008000\">'pos_in_doc'</span>: <span style=\"color: #008080; text-decoration-color: #008080; font-weight: bold\">8</span>,\n",
       "                <span style=\"color: #008000; text-decoration-color: #008000\">'passage'</span>: <span style=\"color: #008000; text-decoration-color: #008000\">\"The roots of today's IBM Research began with the 1945 opening of the Watson Scientific </span>\n",
       "<span style=\"color: #008000; text-decoration-color: #008000\">Computing Laboratory at Columbia University. $^{[4]}$ This was the first IBM laboratory devoted to pure science and</span>\n",
       "<span style=\"color: #008000; text-decoration-color: #008000\">later expanded into additional IBM Research locations in Westchester County, New York, starting in the 1950s, </span>\n",
       "<span style=\"color: #008000; text-decoration-color: #008000\">$^{[5][6]}$ including the Thomas J. Watson Research Center in 1961. [5][6]\"</span>,\n",
       "                <span style=\"color: #008000; text-decoration-color: #008000\">'source_is_text'</span>: <span style=\"color: #00ff00; text-decoration-color: #00ff00; font-style: italic\">True</span>\n",
       "            <span style=\"font-weight: bold\">}</span>,\n",
       "            <span style=\"font-weight: bold\">{</span>\n",
       "                <span style=\"color: #008000; text-decoration-color: #008000\">'doc_hash'</span>: <span style=\"color: #008000; text-decoration-color: #008000\">'b30bc667a324ae111d025526563b674a8d3fd869bc07c8fd204aa95b05d41f0c'</span>,\n",
       "                <span style=\"color: #008000; text-decoration-color: #008000\">'pos_in_doc'</span>: <span style=\"color: #008080; text-decoration-color: #008080; font-weight: bold\">70</span>,\n",
       "                <span style=\"color: #008000; text-decoration-color: #008000\">'passage'</span>: <span style=\"color: #008000; text-decoration-color: #008000\">'IBM Research-Zurich (previously called IBM Zurich Research Laboratory, ZRL) is the </span>\n",
       "<span style=\"color: #008000; text-decoration-color: #008000\">European branch of IBM Research. It was opened in 1956 and is located in Rüschlikon, near Zurich, Switzerland.'</span>,\n",
       "                <span style=\"color: #008000; text-decoration-color: #008000\">'source_is_text'</span>: <span style=\"color: #00ff00; text-decoration-color: #00ff00; font-style: italic\">True</span>\n",
       "            <span style=\"font-weight: bold\">}</span>,\n",
       "            <span style=\"font-weight: bold\">{</span>\n",
       "                <span style=\"color: #008000; text-decoration-color: #008000\">'doc_hash'</span>: <span style=\"color: #008000; text-decoration-color: #008000\">'b30bc667a324ae111d025526563b674a8d3fd869bc07c8fd204aa95b05d41f0c'</span>,\n",
       "                <span style=\"color: #008000; text-decoration-color: #008000\">'pos_in_doc'</span>: <span style=\"color: #008080; text-decoration-color: #008080; font-weight: bold\">22</span>,\n",
       "                <span style=\"color: #008000; text-decoration-color: #008000\">'passage'</span>: <span style=\"color: #008000; text-decoration-color: #008000\">'Cambridge-IBM Research and MIT-IBM Watson AI Lab (Cambridge, US)'</span>,\n",
       "                <span style=\"color: #008000; text-decoration-color: #008000\">'source_is_text'</span>: <span style=\"color: #00ff00; text-decoration-color: #00ff00; font-style: italic\">True</span>\n",
       "            <span style=\"font-weight: bold\">}</span>,\n",
       "            <span style=\"font-weight: bold\">{</span>\n",
       "                <span style=\"color: #008000; text-decoration-color: #008000\">'doc_hash'</span>: <span style=\"color: #008000; text-decoration-color: #008000\">'b30bc667a324ae111d025526563b674a8d3fd869bc07c8fd204aa95b05d41f0c'</span>,\n",
       "                <span style=\"color: #008000; text-decoration-color: #008000\">'pos_in_doc'</span>: <span style=\"color: #008080; text-decoration-color: #008080; font-weight: bold\">79</span>,\n",
       "                <span style=\"color: #008000; text-decoration-color: #008000\">'passage'</span>: <span style=\"color: #008000; text-decoration-color: #008000\">\"1. 'Labs and locations ' (https://research.ibm.com/labs/). IBM Research. Archived </span>\n",
       "<span style=\"color: #008000; text-decoration-color: #008000\">(https://web.archiv e.org/web/20221221032216/https://research.ibm.com/labs/) from the original on 21 December\"</span>,\n",
       "                <span style=\"color: #008000; text-decoration-color: #008000\">'source_is_text'</span>: <span style=\"color: #00ff00; text-decoration-color: #00ff00; font-style: italic\">True</span>\n",
       "            <span style=\"font-weight: bold\">}</span>,\n",
       "            <span style=\"font-weight: bold\">{</span>\n",
       "                <span style=\"color: #008000; text-decoration-color: #008000\">'doc_hash'</span>: <span style=\"color: #008000; text-decoration-color: #008000\">'b30bc667a324ae111d025526563b674a8d3fd869bc07c8fd204aa95b05d41f0c'</span>,\n",
       "                <span style=\"color: #008000; text-decoration-color: #008000\">'pos_in_doc'</span>: <span style=\"color: #008080; text-decoration-color: #008080; font-weight: bold\">30</span>,\n",
       "                <span style=\"color: #008000; text-decoration-color: #008000\">'passage'</span>: <span style=\"color: #008000; text-decoration-color: #008000\">'Historic research centers for IBM also include IBM La Gaude (Nice), the Cambridge </span>\n",
       "<span style=\"color: #008000; text-decoration-color: #008000\">Scientific Center, the IBM New York Scientific Center, 330 North Wabash (Chicago), IBM Austin Research Laboratory, </span>\n",
       "<span style=\"color: #008000; text-decoration-color: #008000\">and IBM Laboratory Vienna. [33]'</span>,\n",
       "                <span style=\"color: #008000; text-decoration-color: #008000\">'source_is_text'</span>: <span style=\"color: #00ff00; text-decoration-color: #00ff00; font-style: italic\">True</span>\n",
       "            <span style=\"font-weight: bold\">}</span>,\n",
       "            <span style=\"font-weight: bold\">{</span>\n",
       "                <span style=\"color: #008000; text-decoration-color: #008000\">'doc_hash'</span>: <span style=\"color: #008000; text-decoration-color: #008000\">'b30bc667a324ae111d025526563b674a8d3fd869bc07c8fd204aa95b05d41f0c'</span>,\n",
       "                <span style=\"color: #008000; text-decoration-color: #008000\">'pos_in_doc'</span>: <span style=\"color: #008080; text-decoration-color: #008080; font-weight: bold\">62</span>,\n",
       "                <span style=\"color: #008000; text-decoration-color: #008000\">'passage'</span>: <span style=\"color: #008000; text-decoration-color: #008000\">\"IBM Research-Haifa, previously known as the Haifa Research Lab (HRL) was founded as a </span>\n",
       "<span style=\"color: #008000; text-decoration-color: #008000\">small scientific center in 1972. $^{[55]}$ Since then, it has grown into a major lab that leads the development of </span>\n",
       "<span style=\"color: #008000; text-decoration-color: #008000\">innovative technologies and solutions for the IBM corporation. The lab's offices are situated in three locations </span>\n",
       "<span style=\"color: #008000; text-decoration-color: #008000\">across Israel: Haifa, Tel Aviv, and Beer Sheva.\"</span>,\n",
       "                <span style=\"color: #008000; text-decoration-color: #008000\">'source_is_text'</span>: <span style=\"color: #00ff00; text-decoration-color: #00ff00; font-style: italic\">True</span>\n",
       "            <span style=\"font-weight: bold\">}</span>,\n",
       "            <span style=\"font-weight: bold\">{</span>\n",
       "                <span style=\"color: #008000; text-decoration-color: #008000\">'doc_hash'</span>: <span style=\"color: #008000; text-decoration-color: #008000\">'b30bc667a324ae111d025526563b674a8d3fd869bc07c8fd204aa95b05d41f0c'</span>,\n",
       "                <span style=\"color: #008000; text-decoration-color: #008000\">'pos_in_doc'</span>: <span style=\"color: #008080; text-decoration-color: #008080; font-weight: bold\">29</span>,\n",
       "                <span style=\"color: #008000; text-decoration-color: #008000\">'passage'</span>: <span style=\"color: #008000; text-decoration-color: #008000\">'IBM Thomas J. Watson Research Center (Yorktown Heights and Albany)'</span>,\n",
       "                <span style=\"color: #008000; text-decoration-color: #008000\">'source_is_text'</span>: <span style=\"color: #00ff00; text-decoration-color: #00ff00; font-style: italic\">True</span>\n",
       "            <span style=\"font-weight: bold\">}</span>,\n",
       "            <span style=\"font-weight: bold\">{</span>\n",
       "                <span style=\"color: #008000; text-decoration-color: #008000\">'doc_hash'</span>: <span style=\"color: #008000; text-decoration-color: #008000\">'b30bc667a324ae111d025526563b674a8d3fd869bc07c8fd204aa95b05d41f0c'</span>,\n",
       "                <span style=\"color: #008000; text-decoration-color: #008000\">'pos_in_doc'</span>: <span style=\"color: #008080; text-decoration-color: #008080; font-weight: bold\">17</span>,\n",
       "                <span style=\"color: #008000; text-decoration-color: #008000\">'passage'</span>: <span style=\"color: #008000; text-decoration-color: #008000\">'IBM currently has 19 research facilities spread across 12 laboratories on six </span>\n",
       "<span style=\"color: #008000; text-decoration-color: #008000\">continents: [32]'</span>,\n",
       "                <span style=\"color: #008000; text-decoration-color: #008000\">'source_is_text'</span>: <span style=\"color: #00ff00; text-decoration-color: #00ff00; font-style: italic\">True</span>\n",
       "            <span style=\"font-weight: bold\">}</span>,\n",
       "            <span style=\"font-weight: bold\">{</span>\n",
       "                <span style=\"color: #008000; text-decoration-color: #008000\">'doc_hash'</span>: <span style=\"color: #008000; text-decoration-color: #008000\">'b30bc667a324ae111d025526563b674a8d3fd869bc07c8fd204aa95b05d41f0c'</span>,\n",
       "                <span style=\"color: #008000; text-decoration-color: #008000\">'pos_in_doc'</span>: <span style=\"color: #008080; text-decoration-color: #008080; font-weight: bold\">104</span>,\n",
       "                <span style=\"color: #008000; text-decoration-color: #008000\">'passage'</span>: <span style=\"color: #008000; text-decoration-color: #008000\">'Brennan, Jean Ford (1971). The IBM Watson Laboratory at Columbia University: A History </span>\n",
       "<span style=\"color: #008000; text-decoration-color: #008000\">(http:// www.columbia.edu/acis/history/brennan/index.html). IBM.'</span>,\n",
       "                <span style=\"color: #008000; text-decoration-color: #008000\">'source_is_text'</span>: <span style=\"color: #00ff00; text-decoration-color: #00ff00; font-style: italic\">True</span>\n",
       "            <span style=\"font-weight: bold\">}</span>\n",
       "        <span style=\"font-weight: bold\">]</span>\n",
       "    <span style=\"font-weight: bold\">}</span>,\n",
       "    <span style=\"color: #808000; text-decoration-color: #808000\">next_pages</span>=<span style=\"font-weight: bold\">{}</span>,\n",
       "    <span style=\"color: #808000; text-decoration-color: #808000\">timings</span>=<span style=\"color: #800080; text-decoration-color: #800080; font-weight: bold\">QueryTimings</span><span style=\"font-weight: bold\">(</span>\n",
       "        <span style=\"color: #808000; text-decoration-color: #808000\">overall</span>=<span style=\"color: #008080; text-decoration-color: #008080; font-weight: bold\">0.45678710704669356</span>,\n",
       "        <span style=\"color: #808000; text-decoration-color: #808000\">tasks</span>=<span style=\"font-weight: bold\">{</span><span style=\"color: #008000; text-decoration-color: #008000\">'QA'</span>: <span style=\"color: #800080; text-decoration-color: #800080; font-weight: bold\">TaskTimings</span><span style=\"font-weight: bold\">(</span><span style=\"color: #808000; text-decoration-color: #808000\">overall</span>=<span style=\"color: #008080; text-decoration-color: #008080; font-weight: bold\">0.4564164178445935</span>, <span style=\"color: #808000; text-decoration-color: #808000\">details</span>=<span style=\"font-weight: bold\">{})}</span>\n",
       "    <span style=\"font-weight: bold\">)</span>\n",
       "<span style=\"font-weight: bold\">)</span>\n",
       "</pre>\n"
      ],
      "text/plain": [
       "\u001b[1;35mRunQueryResult\u001b[0m\u001b[1m(\u001b[0m\n",
       "    \u001b[33moutputs\u001b[0m=\u001b[1m{\u001b[0m\n",
       "        \u001b[32m'contexts'\u001b[0m: \u001b[1m[\u001b[0m\n",
       "            \u001b[1m{\u001b[0m\n",
       "                \u001b[32m'doc_hash'\u001b[0m: \u001b[32m'b30bc667a324ae111d025526563b674a8d3fd869bc07c8fd204aa95b05d41f0c'\u001b[0m,\n",
       "                \u001b[32m'pos_in_doc'\u001b[0m: \u001b[1;36m71\u001b[0m,\n",
       "                \u001b[32m'passage'\u001b[0m: \u001b[32m'In 1956, IBM opened their first European research laboratory in Adliswil, Switzerland, \u001b[0m\n",
       "\u001b[32mnear Zurich. The lab moved to its own campus in neighboring Rüschlikon in 1962. The Zurich lab is staffed by a \u001b[0m\n",
       "\u001b[32mmulticultural and interdisciplinary team of a few hundred permanent research staff members, graduate students and \u001b[0m\n",
       "\u001b[32mpost-doctoral fellows, representing about 45 nationalities. Collocated with the lab is a Client Center \u001b[0m\u001b[32m(\u001b[0m\u001b[32mformerly \u001b[0m\n",
       "\u001b[32mthe Industry Solutions Lab\u001b[0m\u001b[32m)\u001b[0m\u001b[32m, an executive briefing facility demonstrating technology prototypes and solutions.'\u001b[0m,\n",
       "                \u001b[32m'source_is_text'\u001b[0m: \u001b[3;92mTrue\u001b[0m\n",
       "            \u001b[1m}\u001b[0m,\n",
       "            \u001b[1m{\u001b[0m\n",
       "                \u001b[32m'doc_hash'\u001b[0m: \u001b[32m'b30bc667a324ae111d025526563b674a8d3fd869bc07c8fd204aa95b05d41f0c'\u001b[0m,\n",
       "                \u001b[32m'pos_in_doc'\u001b[0m: \u001b[1;36m8\u001b[0m,\n",
       "                \u001b[32m'passage'\u001b[0m: \u001b[32m\"The roots of today's IBM Research began with the 1945 opening of the Watson Scientific \u001b[0m\n",
       "\u001b[32mComputing Laboratory at Columbia University. $^\u001b[0m\u001b[32m{\u001b[0m\u001b[32m[\u001b[0m\u001b[32m4\u001b[0m\u001b[32m]\u001b[0m\u001b[32m}\u001b[0m\u001b[32m$ This was the first IBM laboratory devoted to pure science and\u001b[0m\n",
       "\u001b[32mlater expanded into additional IBM Research locations in Westchester County, New York, starting in the 1950s, \u001b[0m\n",
       "\u001b[32m$^\u001b[0m\u001b[32m{\u001b[0m\u001b[32m[\u001b[0m\u001b[32m5\u001b[0m\u001b[32m]\u001b[0m\u001b[32m[\u001b[0m\u001b[32m6\u001b[0m\u001b[32m]\u001b[0m\u001b[32m}\u001b[0m\u001b[32m$ including the Thomas J. Watson Research Center in 1961. \u001b[0m\u001b[32m[\u001b[0m\u001b[32m5\u001b[0m\u001b[32m]\u001b[0m\u001b[32m[\u001b[0m\u001b[32m6\u001b[0m\u001b[32m]\u001b[0m\u001b[32m\"\u001b[0m,\n",
       "                \u001b[32m'source_is_text'\u001b[0m: \u001b[3;92mTrue\u001b[0m\n",
       "            \u001b[1m}\u001b[0m,\n",
       "            \u001b[1m{\u001b[0m\n",
       "                \u001b[32m'doc_hash'\u001b[0m: \u001b[32m'b30bc667a324ae111d025526563b674a8d3fd869bc07c8fd204aa95b05d41f0c'\u001b[0m,\n",
       "                \u001b[32m'pos_in_doc'\u001b[0m: \u001b[1;36m70\u001b[0m,\n",
       "                \u001b[32m'passage'\u001b[0m: \u001b[32m'IBM Research-Zurich \u001b[0m\u001b[32m(\u001b[0m\u001b[32mpreviously called IBM Zurich Research Laboratory, ZRL\u001b[0m\u001b[32m)\u001b[0m\u001b[32m is the \u001b[0m\n",
       "\u001b[32mEuropean branch of IBM Research. It was opened in 1956 and is located in Rüschlikon, near Zurich, Switzerland.'\u001b[0m,\n",
       "                \u001b[32m'source_is_text'\u001b[0m: \u001b[3;92mTrue\u001b[0m\n",
       "            \u001b[1m}\u001b[0m,\n",
       "            \u001b[1m{\u001b[0m\n",
       "                \u001b[32m'doc_hash'\u001b[0m: \u001b[32m'b30bc667a324ae111d025526563b674a8d3fd869bc07c8fd204aa95b05d41f0c'\u001b[0m,\n",
       "                \u001b[32m'pos_in_doc'\u001b[0m: \u001b[1;36m22\u001b[0m,\n",
       "                \u001b[32m'passage'\u001b[0m: \u001b[32m'Cambridge-IBM Research and MIT-IBM Watson AI Lab \u001b[0m\u001b[32m(\u001b[0m\u001b[32mCambridge, US\u001b[0m\u001b[32m)\u001b[0m\u001b[32m'\u001b[0m,\n",
       "                \u001b[32m'source_is_text'\u001b[0m: \u001b[3;92mTrue\u001b[0m\n",
       "            \u001b[1m}\u001b[0m,\n",
       "            \u001b[1m{\u001b[0m\n",
       "                \u001b[32m'doc_hash'\u001b[0m: \u001b[32m'b30bc667a324ae111d025526563b674a8d3fd869bc07c8fd204aa95b05d41f0c'\u001b[0m,\n",
       "                \u001b[32m'pos_in_doc'\u001b[0m: \u001b[1;36m79\u001b[0m,\n",
       "                \u001b[32m'passage'\u001b[0m: \u001b[32m\"1. 'Labs and locations ' \u001b[0m\u001b[32m(\u001b[0m\u001b[32mhttps://research.ibm.com/labs/\u001b[0m\u001b[32m)\u001b[0m\u001b[32m. IBM Research. Archived \u001b[0m\n",
       "\u001b[32m(\u001b[0m\u001b[32mhttps://web.archiv e.org/web/20221221032216/https://research.ibm.com/labs/\u001b[0m\u001b[32m)\u001b[0m\u001b[32m from the original on 21 December\"\u001b[0m,\n",
       "                \u001b[32m'source_is_text'\u001b[0m: \u001b[3;92mTrue\u001b[0m\n",
       "            \u001b[1m}\u001b[0m,\n",
       "            \u001b[1m{\u001b[0m\n",
       "                \u001b[32m'doc_hash'\u001b[0m: \u001b[32m'b30bc667a324ae111d025526563b674a8d3fd869bc07c8fd204aa95b05d41f0c'\u001b[0m,\n",
       "                \u001b[32m'pos_in_doc'\u001b[0m: \u001b[1;36m30\u001b[0m,\n",
       "                \u001b[32m'passage'\u001b[0m: \u001b[32m'Historic research centers for IBM also include IBM La Gaude \u001b[0m\u001b[32m(\u001b[0m\u001b[32mNice\u001b[0m\u001b[32m)\u001b[0m\u001b[32m, the Cambridge \u001b[0m\n",
       "\u001b[32mScientific Center, the IBM New York Scientific Center, 330 North Wabash \u001b[0m\u001b[32m(\u001b[0m\u001b[32mChicago\u001b[0m\u001b[32m)\u001b[0m\u001b[32m, IBM Austin Research Laboratory, \u001b[0m\n",
       "\u001b[32mand IBM Laboratory Vienna. \u001b[0m\u001b[32m[\u001b[0m\u001b[32m33\u001b[0m\u001b[32m]\u001b[0m\u001b[32m'\u001b[0m,\n",
       "                \u001b[32m'source_is_text'\u001b[0m: \u001b[3;92mTrue\u001b[0m\n",
       "            \u001b[1m}\u001b[0m,\n",
       "            \u001b[1m{\u001b[0m\n",
       "                \u001b[32m'doc_hash'\u001b[0m: \u001b[32m'b30bc667a324ae111d025526563b674a8d3fd869bc07c8fd204aa95b05d41f0c'\u001b[0m,\n",
       "                \u001b[32m'pos_in_doc'\u001b[0m: \u001b[1;36m62\u001b[0m,\n",
       "                \u001b[32m'passage'\u001b[0m: \u001b[32m\"IBM Research-Haifa, previously known as the Haifa Research Lab \u001b[0m\u001b[32m(\u001b[0m\u001b[32mHRL\u001b[0m\u001b[32m)\u001b[0m\u001b[32m was founded as a \u001b[0m\n",
       "\u001b[32msmall scientific center in 1972. $^\u001b[0m\u001b[32m{\u001b[0m\u001b[32m[\u001b[0m\u001b[32m55\u001b[0m\u001b[32m]\u001b[0m\u001b[32m}\u001b[0m\u001b[32m$ Since then, it has grown into a major lab that leads the development of \u001b[0m\n",
       "\u001b[32minnovative technologies and solutions for the IBM corporation. The lab's offices are situated in three locations \u001b[0m\n",
       "\u001b[32macross Israel: Haifa, Tel Aviv, and Beer Sheva.\"\u001b[0m,\n",
       "                \u001b[32m'source_is_text'\u001b[0m: \u001b[3;92mTrue\u001b[0m\n",
       "            \u001b[1m}\u001b[0m,\n",
       "            \u001b[1m{\u001b[0m\n",
       "                \u001b[32m'doc_hash'\u001b[0m: \u001b[32m'b30bc667a324ae111d025526563b674a8d3fd869bc07c8fd204aa95b05d41f0c'\u001b[0m,\n",
       "                \u001b[32m'pos_in_doc'\u001b[0m: \u001b[1;36m29\u001b[0m,\n",
       "                \u001b[32m'passage'\u001b[0m: \u001b[32m'IBM Thomas J. Watson Research Center \u001b[0m\u001b[32m(\u001b[0m\u001b[32mYorktown Heights and Albany\u001b[0m\u001b[32m)\u001b[0m\u001b[32m'\u001b[0m,\n",
       "                \u001b[32m'source_is_text'\u001b[0m: \u001b[3;92mTrue\u001b[0m\n",
       "            \u001b[1m}\u001b[0m,\n",
       "            \u001b[1m{\u001b[0m\n",
       "                \u001b[32m'doc_hash'\u001b[0m: \u001b[32m'b30bc667a324ae111d025526563b674a8d3fd869bc07c8fd204aa95b05d41f0c'\u001b[0m,\n",
       "                \u001b[32m'pos_in_doc'\u001b[0m: \u001b[1;36m17\u001b[0m,\n",
       "                \u001b[32m'passage'\u001b[0m: \u001b[32m'IBM currently has 19 research facilities spread across 12 laboratories on six \u001b[0m\n",
       "\u001b[32mcontinents: \u001b[0m\u001b[32m[\u001b[0m\u001b[32m32\u001b[0m\u001b[32m]\u001b[0m\u001b[32m'\u001b[0m,\n",
       "                \u001b[32m'source_is_text'\u001b[0m: \u001b[3;92mTrue\u001b[0m\n",
       "            \u001b[1m}\u001b[0m,\n",
       "            \u001b[1m{\u001b[0m\n",
       "                \u001b[32m'doc_hash'\u001b[0m: \u001b[32m'b30bc667a324ae111d025526563b674a8d3fd869bc07c8fd204aa95b05d41f0c'\u001b[0m,\n",
       "                \u001b[32m'pos_in_doc'\u001b[0m: \u001b[1;36m104\u001b[0m,\n",
       "                \u001b[32m'passage'\u001b[0m: \u001b[32m'Brennan, Jean Ford \u001b[0m\u001b[32m(\u001b[0m\u001b[32m1971\u001b[0m\u001b[32m)\u001b[0m\u001b[32m. The IBM Watson Laboratory at Columbia University: A History \u001b[0m\n",
       "\u001b[32m(\u001b[0m\u001b[32mhttp:// www.columbia.edu/acis/history/brennan/index.html\u001b[0m\u001b[32m)\u001b[0m\u001b[32m. IBM.'\u001b[0m,\n",
       "                \u001b[32m'source_is_text'\u001b[0m: \u001b[3;92mTrue\u001b[0m\n",
       "            \u001b[1m}\u001b[0m\n",
       "        \u001b[1m]\u001b[0m\n",
       "    \u001b[1m}\u001b[0m,\n",
       "    \u001b[33mnext_pages\u001b[0m=\u001b[1m{\u001b[0m\u001b[1m}\u001b[0m,\n",
       "    \u001b[33mtimings\u001b[0m=\u001b[1;35mQueryTimings\u001b[0m\u001b[1m(\u001b[0m\n",
       "        \u001b[33moverall\u001b[0m=\u001b[1;36m0\u001b[0m\u001b[1;36m.45678710704669356\u001b[0m,\n",
       "        \u001b[33mtasks\u001b[0m=\u001b[1m{\u001b[0m\u001b[32m'QA'\u001b[0m: \u001b[1;35mTaskTimings\u001b[0m\u001b[1m(\u001b[0m\u001b[33moverall\u001b[0m=\u001b[1;36m0\u001b[0m\u001b[1;36m.4564164178445935\u001b[0m, \u001b[33mdetails\u001b[0m=\u001b[1m{\u001b[0m\u001b[1m}\u001b[0m\u001b[1m)\u001b[0m\u001b[1m}\u001b[0m\n",
       "    \u001b[1m)\u001b[0m\n",
       "\u001b[1m)\u001b[0m\n"
      ]
     },
     "metadata": {},
     "output_type": "display_data"
    }
   ],
   "source": [
    "question = \"Where was the first European IBM lab located?\"\n",
    "\n",
    "# submit natural-language query on document\n",
    "question_query = DocumentSemanticQuery(\n",
    "    question=question,\n",
    "    project=PROJ_KEY,\n",
    "    index_key=SEM_ON_IDX_KEY,\n",
    "    document_hash=SEM_ON_IDX_DOC_HASH,\n",
    ")\n",
    "question_results = api.queries.run(question_query)\n",
    "\n",
    "rich.print(question_results)"
   ]
  },
  {
   "cell_type": "markdown",
   "metadata": {},
   "source": [
    "## RAG on document not in semantically indexed collection"
   ]
  },
  {
   "cell_type": "markdown",
   "metadata": {},
   "source": [
    "### Ingestion"
   ]
  },
  {
   "cell_type": "markdown",
   "metadata": {},
   "source": [
    "In the cell below we show how to semantically index a single document:"
   ]
  },
  {
   "cell_type": "code",
   "execution_count": 8,
   "metadata": {},
   "outputs": [
    {
     "data": {
      "text/plain": [
       "{'ing_out': {}}"
      ]
     },
     "execution_count": 8,
     "metadata": {},
     "output_type": "execute_result"
    }
   ],
   "source": [
    "from deepsearch.cps.client.components.documents import SemIngestPrivateDataDocumentSource\n",
    "\n",
    "# prepare collection coordinates\n",
    "coords = ElasticProjectDataCollectionSource(\n",
    "    proj_key=PROJ_KEY,\n",
    "    index_key=SEM_OFF_IDX_KEY,\n",
    ")\n",
    "\n",
    "# launch the ingestion of the document for DocumentQA\n",
    "task = api.documents.semantic_ingest(\n",
    "    project=PROJ_KEY,\n",
    "    data_source=SemIngestPrivateDataDocumentSource(\n",
    "        source=coords,\n",
    "        document_hash=SEM_OFF_IDX_DOC_HASH,\n",
    "    ),\n",
    ")\n",
    "\n",
    "# wait for the ingestion task to finish\n",
    "api.tasks.wait_for(task.proj_key, task.task_id)"
   ]
  },
  {
   "cell_type": "markdown",
   "metadata": {},
   "source": [
    "Once the document has been semantically ingested, we can run both RAG and semantic retrieval queries against it, as shown below."
   ]
  },
  {
   "cell_type": "markdown",
   "metadata": {},
   "source": [
    "### RAG"
   ]
  },
  {
   "cell_type": "code",
   "execution_count": 9,
   "metadata": {},
   "outputs": [
    {
     "data": {
      "text/html": [
       "<pre style=\"white-space:pre;overflow-x:auto;line-height:normal;font-family:Menlo,'DejaVu Sans Mono',consolas,'Courier New',monospace\"><span style=\"color: #800080; text-decoration-color: #800080; font-weight: bold\">RunQueryResult</span><span style=\"font-weight: bold\">(</span>\n",
       "    <span style=\"color: #808000; text-decoration-color: #808000\">outputs</span>=<span style=\"font-weight: bold\">{</span>\n",
       "        <span style=\"color: #008000; text-decoration-color: #008000\">'answer'</span>: <span style=\"color: #008000; text-decoration-color: #008000\">'Magnavox'</span>,\n",
       "        <span style=\"color: #008000; text-decoration-color: #008000\">'provenance'</span>: <span style=\"font-weight: bold\">[</span>\n",
       "            <span style=\"font-weight: bold\">{</span>\n",
       "                <span style=\"color: #008000; text-decoration-color: #008000\">'doc_hash'</span>: <span style=\"color: #008000; text-decoration-color: #008000\">'029210df929c78e70d74e6f141a46d8326905ce58562f2081819c80c3921d5a3'</span>,\n",
       "                <span style=\"color: #008000; text-decoration-color: #008000\">'pos_in_doc'</span>: <span style=\"color: #008080; text-decoration-color: #008080; font-weight: bold\">9</span>,\n",
       "                <span style=\"color: #008000; text-decoration-color: #008000\">'passage'</span>: <span style=\"color: #008000; text-decoration-color: #008000\">'In 1972 Magnavox introduced the Odyssey, the first video game console. $^{[10]}$ In </span>\n",
       "<span style=\"color: #008000; text-decoration-color: #008000\">1975, the Magnavox Company was acquired by Philips of the Netherlands to ensure nationwide distribution for their </span>\n",
       "<span style=\"color: #008000; text-decoration-color: #008000\">VLP (later renamed LaserVision) Videodisc technology, and all Philips consumer electronics in the US under the </span>\n",
       "<span style=\"color: #008000; text-decoration-color: #008000\">Norelco name began rebranding them under the Magnavox name; $^{[11]}$ Philips acquired the similar-sounding company</span>\n",
       "<span style=\"color: #008000; text-decoration-color: #008000\">Philco in 1981, and Philips was able to freely use the Philips name, alternating with the Magnavox name for some </span>\n",
       "<span style=\"color: #008000; text-decoration-color: #008000\">electronics, with the personal care business continuing to use the Norelco name.'</span>,\n",
       "                <span style=\"color: #008000; text-decoration-color: #008000\">'source_is_text'</span>: <span style=\"color: #00ff00; text-decoration-color: #00ff00; font-style: italic\">True</span>\n",
       "            <span style=\"font-weight: bold\">}</span>\n",
       "        <span style=\"font-weight: bold\">]</span>\n",
       "    <span style=\"font-weight: bold\">}</span>,\n",
       "    <span style=\"color: #808000; text-decoration-color: #808000\">next_pages</span>=<span style=\"font-weight: bold\">{}</span>,\n",
       "    <span style=\"color: #808000; text-decoration-color: #808000\">timings</span>=<span style=\"color: #800080; text-decoration-color: #800080; font-weight: bold\">QueryTimings</span><span style=\"font-weight: bold\">(</span>\n",
       "        <span style=\"color: #808000; text-decoration-color: #808000\">overall</span>=<span style=\"color: #008080; text-decoration-color: #008080; font-weight: bold\">0.3650927762500942</span>,\n",
       "        <span style=\"color: #808000; text-decoration-color: #808000\">tasks</span>=<span style=\"font-weight: bold\">{</span><span style=\"color: #008000; text-decoration-color: #008000\">'QA'</span>: <span style=\"color: #800080; text-decoration-color: #800080; font-weight: bold\">TaskTimings</span><span style=\"font-weight: bold\">(</span><span style=\"color: #808000; text-decoration-color: #808000\">overall</span>=<span style=\"color: #008080; text-decoration-color: #008080; font-weight: bold\">0.3646521312184632</span>, <span style=\"color: #808000; text-decoration-color: #808000\">details</span>=<span style=\"font-weight: bold\">{})}</span>\n",
       "    <span style=\"font-weight: bold\">)</span>\n",
       "<span style=\"font-weight: bold\">)</span>\n",
       "</pre>\n"
      ],
      "text/plain": [
       "\u001b[1;35mRunQueryResult\u001b[0m\u001b[1m(\u001b[0m\n",
       "    \u001b[33moutputs\u001b[0m=\u001b[1m{\u001b[0m\n",
       "        \u001b[32m'answer'\u001b[0m: \u001b[32m'Magnavox'\u001b[0m,\n",
       "        \u001b[32m'provenance'\u001b[0m: \u001b[1m[\u001b[0m\n",
       "            \u001b[1m{\u001b[0m\n",
       "                \u001b[32m'doc_hash'\u001b[0m: \u001b[32m'029210df929c78e70d74e6f141a46d8326905ce58562f2081819c80c3921d5a3'\u001b[0m,\n",
       "                \u001b[32m'pos_in_doc'\u001b[0m: \u001b[1;36m9\u001b[0m,\n",
       "                \u001b[32m'passage'\u001b[0m: \u001b[32m'In 1972 Magnavox introduced the Odyssey, the first video game console. $^\u001b[0m\u001b[32m{\u001b[0m\u001b[32m[\u001b[0m\u001b[32m10\u001b[0m\u001b[32m]\u001b[0m\u001b[32m}\u001b[0m\u001b[32m$ In \u001b[0m\n",
       "\u001b[32m1975, the Magnavox Company was acquired by Philips of the Netherlands to ensure nationwide distribution for their \u001b[0m\n",
       "\u001b[32mVLP \u001b[0m\u001b[32m(\u001b[0m\u001b[32mlater renamed LaserVision\u001b[0m\u001b[32m)\u001b[0m\u001b[32m Videodisc technology, and all Philips consumer electronics in the US under the \u001b[0m\n",
       "\u001b[32mNorelco name began rebranding them under the Magnavox name; $^\u001b[0m\u001b[32m{\u001b[0m\u001b[32m[\u001b[0m\u001b[32m11\u001b[0m\u001b[32m]\u001b[0m\u001b[32m}\u001b[0m\u001b[32m$ Philips acquired the similar-sounding company\u001b[0m\n",
       "\u001b[32mPhilco in 1981, and Philips was able to freely use the Philips name, alternating with the Magnavox name for some \u001b[0m\n",
       "\u001b[32melectronics, with the personal care business continuing to use the Norelco name.'\u001b[0m,\n",
       "                \u001b[32m'source_is_text'\u001b[0m: \u001b[3;92mTrue\u001b[0m\n",
       "            \u001b[1m}\u001b[0m\n",
       "        \u001b[1m]\u001b[0m\n",
       "    \u001b[1m}\u001b[0m,\n",
       "    \u001b[33mnext_pages\u001b[0m=\u001b[1m{\u001b[0m\u001b[1m}\u001b[0m,\n",
       "    \u001b[33mtimings\u001b[0m=\u001b[1;35mQueryTimings\u001b[0m\u001b[1m(\u001b[0m\n",
       "        \u001b[33moverall\u001b[0m=\u001b[1;36m0\u001b[0m\u001b[1;36m.3650927762500942\u001b[0m,\n",
       "        \u001b[33mtasks\u001b[0m=\u001b[1m{\u001b[0m\u001b[32m'QA'\u001b[0m: \u001b[1;35mTaskTimings\u001b[0m\u001b[1m(\u001b[0m\u001b[33moverall\u001b[0m=\u001b[1;36m0\u001b[0m\u001b[1;36m.3646521312184632\u001b[0m, \u001b[33mdetails\u001b[0m=\u001b[1m{\u001b[0m\u001b[1m}\u001b[0m\u001b[1m)\u001b[0m\u001b[1m}\u001b[0m\n",
       "    \u001b[1m)\u001b[0m\n",
       "\u001b[1m)\u001b[0m\n"
      ]
     },
     "metadata": {},
     "output_type": "display_data"
    }
   ],
   "source": [
    "question = \"Which company created the first game console?\"\n",
    "\n",
    "# submit natural-language query on document\n",
    "question_query = DocumentRAGQuery(\n",
    "    question=question,\n",
    "    project=PROJ_KEY,\n",
    "    document_hash=SEM_OFF_IDX_DOC_HASH,\n",
    ")\n",
    "question_results = api.queries.run(question_query)\n",
    "\n",
    "rich.print(question_results)\n"
   ]
  },
  {
   "cell_type": "code",
   "execution_count": 10,
   "metadata": {},
   "outputs": [
    {
     "data": {
      "text/markdown": [
       "The provenance of the answer can be inspected on the [source document](https://sds.app.accelerate.science/projects/b09ae7561a01dc7c4b0fd21a43bfd93d140766d1/library/private/b4edbe66a8b8fe2ebed7e20d4d7b9335c48b45b0?search=JTdCJTIycHJpdmF0ZUNvbGxlY3Rpb24lMjIlM0ElMjJiNGVkYmU2NmE4YjhmZTJlYmVkN2UyMGQ0ZDdiOTMzNWM0OGI0NWIwJTIyJTJDJTIydHlwZSUyMiUzQSUyMkRvY3VtZW50JTIyJTJDJTIyZXhwcmVzc2lvbiUyMiUzQSUyMmZpbGUtaW5mby5kb2N1bWVudC1oYXNoJTNBJTIwJTVDJTIyMDI5MjEwZGY5MjljNzhlNzBkNzRlNmYxNDFhNDZkODMyNjkwNWNlNTg1NjJmMjA4MTgxOWM4MGMzOTIxZDVhMyU1QyUyMiUyMiUyQyUyMmZpbHRlcnMlMjIlM0ElNUIlNUQlMkMlMjJzZWxlY3QlMjIlM0ElNUIlMjJfbmFtZSUyMiUyQyUyMmRlc2NyaXB0aW9uLmNvbGxlY3Rpb24lMjIlMkMlMjJwcm92JTIyJTJDJTIyZGVzY3JpcHRpb24udGl0bGUlMjIlMkMlMjJkZXNjcmlwdGlvbi5wdWJsaWNhdGlvbl9kYXRlJTIyJTJDJTIyZGVzY3JpcHRpb24udXJsX3JlZnMlMjIlNUQlMkMlMjJpdGVtSW5kZXglMjIlM0EwJTJDJTIycGFnZVNpemUlMjIlM0ExMCUyQyUyMnNlYXJjaEFmdGVySGlzdG9yeSUyMiUzQSU1QiU1RCUyQyUyMnZpZXdUeXBlJTIyJTNBJTIyc25pcHBldHMlMjIlMkMlMjJyZWNvcmRTZWxlY3Rpb24lMjIlM0ElN0IlMjJyZWNvcmQlMjIlM0ElN0IlMjJpZCUyMiUzQSUyMjAyOTIxMGRmOTI5Yzc4ZTcwZDc0ZTZmMTQxYTQ2ZDgzMjY5MDVjZTU4NTYyZjIwODE4MTljODBjMzkyMWQ1YTMlMjIlN0QlMkMlMjJpdGVtSW5kZXglMjIlM0E5JTdEJTdE)."
      ],
      "text/plain": [
       "<IPython.core.display.Markdown object>"
      ]
     },
     "metadata": {},
     "output_type": "display_data"
    }
   ],
   "source": [
    "render_provenance_url(api=api, coords=coords, qa_res=question_results)"
   ]
  },
  {
   "cell_type": "markdown",
   "metadata": {},
   "source": [
    "### Semantic retrieval"
   ]
  },
  {
   "cell_type": "code",
   "execution_count": 11,
   "metadata": {},
   "outputs": [
    {
     "data": {
      "text/html": [
       "<pre style=\"white-space:pre;overflow-x:auto;line-height:normal;font-family:Menlo,'DejaVu Sans Mono',consolas,'Courier New',monospace\"><span style=\"color: #800080; text-decoration-color: #800080; font-weight: bold\">RunQueryResult</span><span style=\"font-weight: bold\">(</span>\n",
       "    <span style=\"color: #808000; text-decoration-color: #808000\">outputs</span>=<span style=\"font-weight: bold\">{</span>\n",
       "        <span style=\"color: #008000; text-decoration-color: #008000\">'contexts'</span>: <span style=\"font-weight: bold\">[</span>\n",
       "            <span style=\"font-weight: bold\">{</span>\n",
       "                <span style=\"color: #008000; text-decoration-color: #008000\">'doc_hash'</span>: <span style=\"color: #008000; text-decoration-color: #008000\">'029210df929c78e70d74e6f141a46d8326905ce58562f2081819c80c3921d5a3'</span>,\n",
       "                <span style=\"color: #008000; text-decoration-color: #008000\">'pos_in_doc'</span>: <span style=\"color: #008080; text-decoration-color: #008080; font-weight: bold\">9</span>,\n",
       "                <span style=\"color: #008000; text-decoration-color: #008000\">'passage'</span>: <span style=\"color: #008000; text-decoration-color: #008000\">'In 1972 Magnavox introduced the Odyssey, the first video game console. $^{[10]}$ In </span>\n",
       "<span style=\"color: #008000; text-decoration-color: #008000\">1975, the Magnavox Company was acquired by Philips of the Netherlands to ensure nationwide distribution for their </span>\n",
       "<span style=\"color: #008000; text-decoration-color: #008000\">VLP (later renamed LaserVision) Videodisc technology, and all Philips consumer electronics in the US under the </span>\n",
       "<span style=\"color: #008000; text-decoration-color: #008000\">Norelco name began rebranding them under the Magnavox name; $^{[11]}$ Philips acquired the similar-sounding company</span>\n",
       "<span style=\"color: #008000; text-decoration-color: #008000\">Philco in 1981, and Philips was able to freely use the Philips name, alternating with the Magnavox name for some </span>\n",
       "<span style=\"color: #008000; text-decoration-color: #008000\">electronics, with the personal care business continuing to use the Norelco name.'</span>,\n",
       "                <span style=\"color: #008000; text-decoration-color: #008000\">'source_is_text'</span>: <span style=\"color: #00ff00; text-decoration-color: #00ff00; font-style: italic\">True</span>\n",
       "            <span style=\"font-weight: bold\">}</span>,\n",
       "            <span style=\"font-weight: bold\">{</span>\n",
       "                <span style=\"color: #008000; text-decoration-color: #008000\">'doc_hash'</span>: <span style=\"color: #008000; text-decoration-color: #008000\">'029210df929c78e70d74e6f141a46d8326905ce58562f2081819c80c3921d5a3'</span>,\n",
       "                <span style=\"color: #008000; text-decoration-color: #008000\">'pos_in_doc'</span>: <span style=\"color: #008080; text-decoration-color: #008080; font-weight: bold\">6</span>,\n",
       "                <span style=\"color: #008000; text-decoration-color: #008000\">'passage'</span>: <span style=\"color: #008000; text-decoration-color: #008000\">'Industry, Subsidiary = Consumer electronics. Founded, Subsidiary = 1917 Napa, </span>\n",
       "<span style=\"color: #008000; text-decoration-color: #008000\">California, U.S.. Founder, Subsidiary = Edwin Pridham Peter L. Jensen. Headquarters, Subsidiary = Knoxville, </span>\n",
       "<span style=\"color: #008000; text-decoration-color: #008000\">Tennessee, U.S.. Products, Subsidiary = Odyssey and its successors TVs Speakers Blu-ray and DVD. Parent, Subsidiary</span>\n",
       "<span style=\"color: #008000; text-decoration-color: #008000\">= Batteries Philips'</span>,\n",
       "                <span style=\"color: #008000; text-decoration-color: #008000\">'source_is_text'</span>: <span style=\"color: #ff0000; text-decoration-color: #ff0000; font-style: italic\">False</span>\n",
       "            <span style=\"font-weight: bold\">}</span>,\n",
       "            <span style=\"font-weight: bold\">{</span>\n",
       "                <span style=\"color: #008000; text-decoration-color: #008000\">'doc_hash'</span>: <span style=\"color: #008000; text-decoration-color: #008000\">'029210df929c78e70d74e6f141a46d8326905ce58562f2081819c80c3921d5a3'</span>,\n",
       "                <span style=\"color: #008000; text-decoration-color: #008000\">'pos_in_doc'</span>: <span style=\"color: #008080; text-decoration-color: #008080; font-weight: bold\">1</span>,\n",
       "                <span style=\"color: #008000; text-decoration-color: #008000\">'passage'</span>: <span style=\"color: #008000; text-decoration-color: #008000\">\"Magnavox (Latin for 'great voice ', stylized as MAGNAVOX) is an American electronics </span>\n",
       "<span style=\"color: #008000; text-decoration-color: #008000\">company that since 1975 has been a subsidiary of the Dutch electronics corporation Philips. [1] The predecessor to </span>\n",
       "<span style=\"color: #008000; text-decoration-color: #008000\">Magnavox was founded in 1911 by Edwin Pridham and Peter L. Jensen, coinventors of the moving-coil loudspeaker at </span>\n",
       "<span style=\"color: #008000; text-decoration-color: #008000\">their lab in Napa, California, under United States Patent number 1,105,924 for telephone receivers. $^{[2]}$ Six </span>\n",
       "<span style=\"color: #008000; text-decoration-color: #008000\">decades later, Magnavox produced the Odyssey, the world's first home video game console.\"</span>,\n",
       "                <span style=\"color: #008000; text-decoration-color: #008000\">'source_is_text'</span>: <span style=\"color: #00ff00; text-decoration-color: #00ff00; font-style: italic\">True</span>\n",
       "            <span style=\"font-weight: bold\">}</span>,\n",
       "            <span style=\"font-weight: bold\">{</span>\n",
       "                <span style=\"color: #008000; text-decoration-color: #008000\">'doc_hash'</span>: <span style=\"color: #008000; text-decoration-color: #008000\">'029210df929c78e70d74e6f141a46d8326905ce58562f2081819c80c3921d5a3'</span>,\n",
       "                <span style=\"color: #008000; text-decoration-color: #008000\">'pos_in_doc'</span>: <span style=\"color: #008080; text-decoration-color: #008080; font-weight: bold\">10</span>,\n",
       "                <span style=\"color: #008000; text-decoration-color: #008000\">'passage'</span>: <span style=\"color: #008000; text-decoration-color: #008000\">'In the late 1970s, Philips developed LaserDisc technology, producing an optically read,</span>\n",
       "<span style=\"color: #008000; text-decoration-color: #008000\">12 inch disc that would contain recorded video material. In the early 1980s, Philips worked with Sony to create a </span>\n",
       "<span style=\"color: #008000; text-decoration-color: #008000\">standard for optical audio discs (CDs), using the technology developed for the LaserDisc.'</span>,\n",
       "                <span style=\"color: #008000; text-decoration-color: #008000\">'source_is_text'</span>: <span style=\"color: #00ff00; text-decoration-color: #00ff00; font-style: italic\">True</span>\n",
       "            <span style=\"font-weight: bold\">}</span>,\n",
       "            <span style=\"font-weight: bold\">{</span>\n",
       "                <span style=\"color: #008000; text-decoration-color: #008000\">'doc_hash'</span>: <span style=\"color: #008000; text-decoration-color: #008000\">'029210df929c78e70d74e6f141a46d8326905ce58562f2081819c80c3921d5a3'</span>,\n",
       "                <span style=\"color: #008000; text-decoration-color: #008000\">'pos_in_doc'</span>: <span style=\"color: #008080; text-decoration-color: #008080; font-weight: bold\">38</span>,\n",
       "                <span style=\"color: #008000; text-decoration-color: #008000\">'passage'</span>: <span style=\"color: #008000; text-decoration-color: #008000\">\"10. Willaert, Kate (2018-01-10). 'In Search of the First Video Game Commercial ' </span>\n",
       "<span style=\"color: #008000; text-decoration-color: #008000\">(https://gamehistory. org/first-video-game-commercial/). Video Game History Foundation. Retrieved 2018-01-12.\"</span>,\n",
       "                <span style=\"color: #008000; text-decoration-color: #008000\">'source_is_text'</span>: <span style=\"color: #00ff00; text-decoration-color: #00ff00; font-style: italic\">True</span>\n",
       "            <span style=\"font-weight: bold\">}</span>,\n",
       "            <span style=\"font-weight: bold\">{</span>\n",
       "                <span style=\"color: #008000; text-decoration-color: #008000\">'doc_hash'</span>: <span style=\"color: #008000; text-decoration-color: #008000\">'029210df929c78e70d74e6f141a46d8326905ce58562f2081819c80c3921d5a3'</span>,\n",
       "                <span style=\"color: #008000; text-decoration-color: #008000\">'pos_in_doc'</span>: <span style=\"color: #008080; text-decoration-color: #008080; font-weight: bold\">12</span>,\n",
       "                <span style=\"color: #008000; text-decoration-color: #008000\">'passage'</span>: <span style=\"color: #008000; text-decoration-color: #008000\">'During the late 1970s the company released the Odyssey², in Europe also known as </span>\n",
       "<span style=\"color: #008000; text-decoration-color: #008000\">Philips Videopac G7000.'</span>,\n",
       "                <span style=\"color: #008000; text-decoration-color: #008000\">'source_is_text'</span>: <span style=\"color: #00ff00; text-decoration-color: #00ff00; font-style: italic\">True</span>\n",
       "            <span style=\"font-weight: bold\">}</span>,\n",
       "            <span style=\"font-weight: bold\">{</span>\n",
       "                <span style=\"color: #008000; text-decoration-color: #008000\">'doc_hash'</span>: <span style=\"color: #008000; text-decoration-color: #008000\">'029210df929c78e70d74e6f141a46d8326905ce58562f2081819c80c3921d5a3'</span>,\n",
       "                <span style=\"color: #008000; text-decoration-color: #008000\">'pos_in_doc'</span>: <span style=\"color: #008080; text-decoration-color: #008080; font-weight: bold\">4</span>,\n",
       "                <span style=\"color: #008000; text-decoration-color: #008000\">'passage'</span>: <span style=\"color: #008000; text-decoration-color: #008000\">\"Jensen and Pridham founded the Commercial Wireless and Development Company in Napa, CA </span>\n",
       "<span style=\"color: #008000; text-decoration-color: #008000\">in 1911, moving to San Francisco, and then Oakland in 1916. In July 1917, a merger with The Sonora Phonograph </span>\n",
       "<span style=\"color: #008000; text-decoration-color: #008000\">Distributor Company was finalized and the Magnavox Company was born. Frank Morgan Steers was chosen as the </span>\n",
       "<span style=\"color: #008000; text-decoration-color: #008000\">company's first President. Jensen moved on to found the Jensen Radio Manufacturing Company in Chicago, in the late </span>\n",
       "<span style=\"color: #008000; text-decoration-color: #008000\">1920s. Pridham stayed on with Magnavox, which moved manufacturing to Fort Wayne, Indiana by the 1930s. The term </span>\n",
       "<span style=\"color: #008000; text-decoration-color: #008000\">'Commercial Wireless ' had a different meaning in the early days of radio and telephone. Magnavox manufactured </span>\n",
       "<span style=\"color: #008000; text-decoration-color: #008000\">radios, TVs, and phonographs. In the 1960s, Magnavox manufactured the first plasma displays for the military and </span>\n",
       "<span style=\"color: #008000; text-decoration-color: #008000\">for computer applications.\"</span>,\n",
       "                <span style=\"color: #008000; text-decoration-color: #008000\">'source_is_text'</span>: <span style=\"color: #00ff00; text-decoration-color: #00ff00; font-style: italic\">True</span>\n",
       "            <span style=\"font-weight: bold\">}</span>,\n",
       "            <span style=\"font-weight: bold\">{</span>\n",
       "                <span style=\"color: #008000; text-decoration-color: #008000\">'doc_hash'</span>: <span style=\"color: #008000; text-decoration-color: #008000\">'029210df929c78e70d74e6f141a46d8326905ce58562f2081819c80c3921d5a3'</span>,\n",
       "                <span style=\"color: #008000; text-decoration-color: #008000\">'pos_in_doc'</span>: <span style=\"color: #008080; text-decoration-color: #008080; font-weight: bold\">15</span>,\n",
       "                <span style=\"color: #008000; text-decoration-color: #008000\">'passage'</span>: <span style=\"color: #008000; text-decoration-color: #008000\">'Philips Computers, primarily based in Canada, sold its products in North America under </span>\n",
       "<span style=\"color: #008000; text-decoration-color: #008000\">the Magnavox brand with minor rebadging in logo and color scheme of computers, monitors, peripherals and manuals. </span>\n",
       "<span style=\"color: #008000; text-decoration-color: #008000\">Philips exited the proprietary personal computer business in 1992. Philips sold the Greenville plant in 1997. </span>\n",
       "<span style=\"color: #008000; text-decoration-color: #008000\">[12]'</span>,\n",
       "                <span style=\"color: #008000; text-decoration-color: #008000\">'source_is_text'</span>: <span style=\"color: #00ff00; text-decoration-color: #00ff00; font-style: italic\">True</span>\n",
       "            <span style=\"font-weight: bold\">}</span>,\n",
       "            <span style=\"font-weight: bold\">{</span>\n",
       "                <span style=\"color: #008000; text-decoration-color: #008000\">'doc_hash'</span>: <span style=\"color: #008000; text-decoration-color: #008000\">'029210df929c78e70d74e6f141a46d8326905ce58562f2081819c80c3921d5a3'</span>,\n",
       "                <span style=\"color: #008000; text-decoration-color: #008000\">'pos_in_doc'</span>: <span style=\"color: #008080; text-decoration-color: #008080; font-weight: bold\">25</span>,\n",
       "                <span style=\"color: #008000; text-decoration-color: #008000\">'passage'</span>: <span style=\"color: #008000; text-decoration-color: #008000\">'The brand also has worked with Funai with their televisions after the Philips Magnavox </span>\n",
       "<span style=\"color: #008000; text-decoration-color: #008000\">name was popular. Magnavox also has a brand licensing deal where several of their consumer electronics are </span>\n",
       "<span style=\"color: #008000; text-decoration-color: #008000\">manufactured by Craig Electronics and sold under the Magnavox brand. [18]'</span>,\n",
       "                <span style=\"color: #008000; text-decoration-color: #008000\">'source_is_text'</span>: <span style=\"color: #00ff00; text-decoration-color: #00ff00; font-style: italic\">True</span>\n",
       "            <span style=\"font-weight: bold\">}</span>,\n",
       "            <span style=\"font-weight: bold\">{</span>\n",
       "                <span style=\"color: #008000; text-decoration-color: #008000\">'doc_hash'</span>: <span style=\"color: #008000; text-decoration-color: #008000\">'029210df929c78e70d74e6f141a46d8326905ce58562f2081819c80c3921d5a3'</span>,\n",
       "                <span style=\"color: #008000; text-decoration-color: #008000\">'pos_in_doc'</span>: <span style=\"color: #008080; text-decoration-color: #008080; font-weight: bold\">26</span>,\n",
       "                <span style=\"color: #008000; text-decoration-color: #008000\">'passage'</span>: <span style=\"color: #008000; text-decoration-color: #008000\">'In Australia, the rights to the Magnavox brand are not owned by Philips but by Mistral </span>\n",
       "<span style=\"color: #008000; text-decoration-color: #008000\">Ltd, a Hong Kong trading company that uses it to sell audio/video equipment of a different make. [19]'</span>,\n",
       "                <span style=\"color: #008000; text-decoration-color: #008000\">'source_is_text'</span>: <span style=\"color: #00ff00; text-decoration-color: #00ff00; font-style: italic\">True</span>\n",
       "            <span style=\"font-weight: bold\">}</span>\n",
       "        <span style=\"font-weight: bold\">]</span>\n",
       "    <span style=\"font-weight: bold\">}</span>,\n",
       "    <span style=\"color: #808000; text-decoration-color: #808000\">next_pages</span>=<span style=\"font-weight: bold\">{}</span>,\n",
       "    <span style=\"color: #808000; text-decoration-color: #808000\">timings</span>=<span style=\"color: #800080; text-decoration-color: #800080; font-weight: bold\">QueryTimings</span><span style=\"font-weight: bold\">(</span>\n",
       "        <span style=\"color: #808000; text-decoration-color: #808000\">overall</span>=<span style=\"color: #008080; text-decoration-color: #008080; font-weight: bold\">0.06964656198397279</span>,\n",
       "        <span style=\"color: #808000; text-decoration-color: #808000\">tasks</span>=<span style=\"font-weight: bold\">{</span><span style=\"color: #008000; text-decoration-color: #008000\">'QA'</span>: <span style=\"color: #800080; text-decoration-color: #800080; font-weight: bold\">TaskTimings</span><span style=\"font-weight: bold\">(</span><span style=\"color: #808000; text-decoration-color: #808000\">overall</span>=<span style=\"color: #008080; text-decoration-color: #008080; font-weight: bold\">0.06922815879806876</span>, <span style=\"color: #808000; text-decoration-color: #808000\">details</span>=<span style=\"font-weight: bold\">{})}</span>\n",
       "    <span style=\"font-weight: bold\">)</span>\n",
       "<span style=\"font-weight: bold\">)</span>\n",
       "</pre>\n"
      ],
      "text/plain": [
       "\u001b[1;35mRunQueryResult\u001b[0m\u001b[1m(\u001b[0m\n",
       "    \u001b[33moutputs\u001b[0m=\u001b[1m{\u001b[0m\n",
       "        \u001b[32m'contexts'\u001b[0m: \u001b[1m[\u001b[0m\n",
       "            \u001b[1m{\u001b[0m\n",
       "                \u001b[32m'doc_hash'\u001b[0m: \u001b[32m'029210df929c78e70d74e6f141a46d8326905ce58562f2081819c80c3921d5a3'\u001b[0m,\n",
       "                \u001b[32m'pos_in_doc'\u001b[0m: \u001b[1;36m9\u001b[0m,\n",
       "                \u001b[32m'passage'\u001b[0m: \u001b[32m'In 1972 Magnavox introduced the Odyssey, the first video game console. $^\u001b[0m\u001b[32m{\u001b[0m\u001b[32m[\u001b[0m\u001b[32m10\u001b[0m\u001b[32m]\u001b[0m\u001b[32m}\u001b[0m\u001b[32m$ In \u001b[0m\n",
       "\u001b[32m1975, the Magnavox Company was acquired by Philips of the Netherlands to ensure nationwide distribution for their \u001b[0m\n",
       "\u001b[32mVLP \u001b[0m\u001b[32m(\u001b[0m\u001b[32mlater renamed LaserVision\u001b[0m\u001b[32m)\u001b[0m\u001b[32m Videodisc technology, and all Philips consumer electronics in the US under the \u001b[0m\n",
       "\u001b[32mNorelco name began rebranding them under the Magnavox name; $^\u001b[0m\u001b[32m{\u001b[0m\u001b[32m[\u001b[0m\u001b[32m11\u001b[0m\u001b[32m]\u001b[0m\u001b[32m}\u001b[0m\u001b[32m$ Philips acquired the similar-sounding company\u001b[0m\n",
       "\u001b[32mPhilco in 1981, and Philips was able to freely use the Philips name, alternating with the Magnavox name for some \u001b[0m\n",
       "\u001b[32melectronics, with the personal care business continuing to use the Norelco name.'\u001b[0m,\n",
       "                \u001b[32m'source_is_text'\u001b[0m: \u001b[3;92mTrue\u001b[0m\n",
       "            \u001b[1m}\u001b[0m,\n",
       "            \u001b[1m{\u001b[0m\n",
       "                \u001b[32m'doc_hash'\u001b[0m: \u001b[32m'029210df929c78e70d74e6f141a46d8326905ce58562f2081819c80c3921d5a3'\u001b[0m,\n",
       "                \u001b[32m'pos_in_doc'\u001b[0m: \u001b[1;36m6\u001b[0m,\n",
       "                \u001b[32m'passage'\u001b[0m: \u001b[32m'Industry, Subsidiary = Consumer electronics. Founded, Subsidiary = 1917 Napa, \u001b[0m\n",
       "\u001b[32mCalifornia, U.S.. Founder, Subsidiary = Edwin Pridham Peter L. Jensen. Headquarters, Subsidiary = Knoxville, \u001b[0m\n",
       "\u001b[32mTennessee, U.S.. Products, Subsidiary = Odyssey and its successors TVs Speakers Blu-ray and DVD. Parent, Subsidiary\u001b[0m\n",
       "\u001b[32m= Batteries Philips'\u001b[0m,\n",
       "                \u001b[32m'source_is_text'\u001b[0m: \u001b[3;91mFalse\u001b[0m\n",
       "            \u001b[1m}\u001b[0m,\n",
       "            \u001b[1m{\u001b[0m\n",
       "                \u001b[32m'doc_hash'\u001b[0m: \u001b[32m'029210df929c78e70d74e6f141a46d8326905ce58562f2081819c80c3921d5a3'\u001b[0m,\n",
       "                \u001b[32m'pos_in_doc'\u001b[0m: \u001b[1;36m1\u001b[0m,\n",
       "                \u001b[32m'passage'\u001b[0m: \u001b[32m\"Magnavox \u001b[0m\u001b[32m(\u001b[0m\u001b[32mLatin for 'great voice ', stylized as MAGNAVOX\u001b[0m\u001b[32m)\u001b[0m\u001b[32m is an American electronics \u001b[0m\n",
       "\u001b[32mcompany that since 1975 has been a subsidiary of the Dutch electronics corporation Philips. \u001b[0m\u001b[32m[\u001b[0m\u001b[32m1\u001b[0m\u001b[32m]\u001b[0m\u001b[32m The predecessor to \u001b[0m\n",
       "\u001b[32mMagnavox was founded in 1911 by Edwin Pridham and Peter L. Jensen, coinventors of the moving-coil loudspeaker at \u001b[0m\n",
       "\u001b[32mtheir lab in Napa, California, under United States Patent number 1,105,924 for telephone receivers. $^\u001b[0m\u001b[32m{\u001b[0m\u001b[32m[\u001b[0m\u001b[32m2\u001b[0m\u001b[32m]\u001b[0m\u001b[32m}\u001b[0m\u001b[32m$ Six \u001b[0m\n",
       "\u001b[32mdecades later, Magnavox produced the Odyssey, the world's first home video game console.\"\u001b[0m,\n",
       "                \u001b[32m'source_is_text'\u001b[0m: \u001b[3;92mTrue\u001b[0m\n",
       "            \u001b[1m}\u001b[0m,\n",
       "            \u001b[1m{\u001b[0m\n",
       "                \u001b[32m'doc_hash'\u001b[0m: \u001b[32m'029210df929c78e70d74e6f141a46d8326905ce58562f2081819c80c3921d5a3'\u001b[0m,\n",
       "                \u001b[32m'pos_in_doc'\u001b[0m: \u001b[1;36m10\u001b[0m,\n",
       "                \u001b[32m'passage'\u001b[0m: \u001b[32m'In the late 1970s, Philips developed LaserDisc technology, producing an optically read,\u001b[0m\n",
       "\u001b[32m12 inch disc that would contain recorded video material. In the early 1980s, Philips worked with Sony to create a \u001b[0m\n",
       "\u001b[32mstandard for optical audio discs \u001b[0m\u001b[32m(\u001b[0m\u001b[32mCDs\u001b[0m\u001b[32m)\u001b[0m\u001b[32m, using the technology developed for the LaserDisc.'\u001b[0m,\n",
       "                \u001b[32m'source_is_text'\u001b[0m: \u001b[3;92mTrue\u001b[0m\n",
       "            \u001b[1m}\u001b[0m,\n",
       "            \u001b[1m{\u001b[0m\n",
       "                \u001b[32m'doc_hash'\u001b[0m: \u001b[32m'029210df929c78e70d74e6f141a46d8326905ce58562f2081819c80c3921d5a3'\u001b[0m,\n",
       "                \u001b[32m'pos_in_doc'\u001b[0m: \u001b[1;36m38\u001b[0m,\n",
       "                \u001b[32m'passage'\u001b[0m: \u001b[32m\"10. Willaert, Kate \u001b[0m\u001b[32m(\u001b[0m\u001b[32m2018-01-10\u001b[0m\u001b[32m)\u001b[0m\u001b[32m. 'In Search of the First Video Game Commercial ' \u001b[0m\n",
       "\u001b[32m(\u001b[0m\u001b[32mhttps://gamehistory. org/first-video-game-commercial/\u001b[0m\u001b[32m)\u001b[0m\u001b[32m. Video Game History Foundation. Retrieved 2018-01-12.\"\u001b[0m,\n",
       "                \u001b[32m'source_is_text'\u001b[0m: \u001b[3;92mTrue\u001b[0m\n",
       "            \u001b[1m}\u001b[0m,\n",
       "            \u001b[1m{\u001b[0m\n",
       "                \u001b[32m'doc_hash'\u001b[0m: \u001b[32m'029210df929c78e70d74e6f141a46d8326905ce58562f2081819c80c3921d5a3'\u001b[0m,\n",
       "                \u001b[32m'pos_in_doc'\u001b[0m: \u001b[1;36m12\u001b[0m,\n",
       "                \u001b[32m'passage'\u001b[0m: \u001b[32m'During the late 1970s the company released the Odyssey², in Europe also known as \u001b[0m\n",
       "\u001b[32mPhilips Videopac G7000.'\u001b[0m,\n",
       "                \u001b[32m'source_is_text'\u001b[0m: \u001b[3;92mTrue\u001b[0m\n",
       "            \u001b[1m}\u001b[0m,\n",
       "            \u001b[1m{\u001b[0m\n",
       "                \u001b[32m'doc_hash'\u001b[0m: \u001b[32m'029210df929c78e70d74e6f141a46d8326905ce58562f2081819c80c3921d5a3'\u001b[0m,\n",
       "                \u001b[32m'pos_in_doc'\u001b[0m: \u001b[1;36m4\u001b[0m,\n",
       "                \u001b[32m'passage'\u001b[0m: \u001b[32m\"Jensen and Pridham founded the Commercial Wireless and Development Company in Napa, CA \u001b[0m\n",
       "\u001b[32min 1911, moving to San Francisco, and then Oakland in 1916. In July 1917, a merger with The Sonora Phonograph \u001b[0m\n",
       "\u001b[32mDistributor Company was finalized and the Magnavox Company was born. Frank Morgan Steers was chosen as the \u001b[0m\n",
       "\u001b[32mcompany's first President. Jensen moved on to found the Jensen Radio Manufacturing Company in Chicago, in the late \u001b[0m\n",
       "\u001b[32m1920s. Pridham stayed on with Magnavox, which moved manufacturing to Fort Wayne, Indiana by the 1930s. The term \u001b[0m\n",
       "\u001b[32m'Commercial Wireless ' had a different meaning in the early days of radio and telephone. Magnavox manufactured \u001b[0m\n",
       "\u001b[32mradios, TVs, and phonographs. In the 1960s, Magnavox manufactured the first plasma displays for the military and \u001b[0m\n",
       "\u001b[32mfor computer applications.\"\u001b[0m,\n",
       "                \u001b[32m'source_is_text'\u001b[0m: \u001b[3;92mTrue\u001b[0m\n",
       "            \u001b[1m}\u001b[0m,\n",
       "            \u001b[1m{\u001b[0m\n",
       "                \u001b[32m'doc_hash'\u001b[0m: \u001b[32m'029210df929c78e70d74e6f141a46d8326905ce58562f2081819c80c3921d5a3'\u001b[0m,\n",
       "                \u001b[32m'pos_in_doc'\u001b[0m: \u001b[1;36m15\u001b[0m,\n",
       "                \u001b[32m'passage'\u001b[0m: \u001b[32m'Philips Computers, primarily based in Canada, sold its products in North America under \u001b[0m\n",
       "\u001b[32mthe Magnavox brand with minor rebadging in logo and color scheme of computers, monitors, peripherals and manuals. \u001b[0m\n",
       "\u001b[32mPhilips exited the proprietary personal computer business in 1992. Philips sold the Greenville plant in 1997. \u001b[0m\n",
       "\u001b[32m[\u001b[0m\u001b[32m12\u001b[0m\u001b[32m]\u001b[0m\u001b[32m'\u001b[0m,\n",
       "                \u001b[32m'source_is_text'\u001b[0m: \u001b[3;92mTrue\u001b[0m\n",
       "            \u001b[1m}\u001b[0m,\n",
       "            \u001b[1m{\u001b[0m\n",
       "                \u001b[32m'doc_hash'\u001b[0m: \u001b[32m'029210df929c78e70d74e6f141a46d8326905ce58562f2081819c80c3921d5a3'\u001b[0m,\n",
       "                \u001b[32m'pos_in_doc'\u001b[0m: \u001b[1;36m25\u001b[0m,\n",
       "                \u001b[32m'passage'\u001b[0m: \u001b[32m'The brand also has worked with Funai with their televisions after the Philips Magnavox \u001b[0m\n",
       "\u001b[32mname was popular. Magnavox also has a brand licensing deal where several of their consumer electronics are \u001b[0m\n",
       "\u001b[32mmanufactured by Craig Electronics and sold under the Magnavox brand. \u001b[0m\u001b[32m[\u001b[0m\u001b[32m18\u001b[0m\u001b[32m]\u001b[0m\u001b[32m'\u001b[0m,\n",
       "                \u001b[32m'source_is_text'\u001b[0m: \u001b[3;92mTrue\u001b[0m\n",
       "            \u001b[1m}\u001b[0m,\n",
       "            \u001b[1m{\u001b[0m\n",
       "                \u001b[32m'doc_hash'\u001b[0m: \u001b[32m'029210df929c78e70d74e6f141a46d8326905ce58562f2081819c80c3921d5a3'\u001b[0m,\n",
       "                \u001b[32m'pos_in_doc'\u001b[0m: \u001b[1;36m26\u001b[0m,\n",
       "                \u001b[32m'passage'\u001b[0m: \u001b[32m'In Australia, the rights to the Magnavox brand are not owned by Philips but by Mistral \u001b[0m\n",
       "\u001b[32mLtd, a Hong Kong trading company that uses it to sell audio/video equipment of a different make. \u001b[0m\u001b[32m[\u001b[0m\u001b[32m19\u001b[0m\u001b[32m]\u001b[0m\u001b[32m'\u001b[0m,\n",
       "                \u001b[32m'source_is_text'\u001b[0m: \u001b[3;92mTrue\u001b[0m\n",
       "            \u001b[1m}\u001b[0m\n",
       "        \u001b[1m]\u001b[0m\n",
       "    \u001b[1m}\u001b[0m,\n",
       "    \u001b[33mnext_pages\u001b[0m=\u001b[1m{\u001b[0m\u001b[1m}\u001b[0m,\n",
       "    \u001b[33mtimings\u001b[0m=\u001b[1;35mQueryTimings\u001b[0m\u001b[1m(\u001b[0m\n",
       "        \u001b[33moverall\u001b[0m=\u001b[1;36m0\u001b[0m\u001b[1;36m.06964656198397279\u001b[0m,\n",
       "        \u001b[33mtasks\u001b[0m=\u001b[1m{\u001b[0m\u001b[32m'QA'\u001b[0m: \u001b[1;35mTaskTimings\u001b[0m\u001b[1m(\u001b[0m\u001b[33moverall\u001b[0m=\u001b[1;36m0\u001b[0m\u001b[1;36m.06922815879806876\u001b[0m, \u001b[33mdetails\u001b[0m=\u001b[1m{\u001b[0m\u001b[1m}\u001b[0m\u001b[1m)\u001b[0m\u001b[1m}\u001b[0m\n",
       "    \u001b[1m)\u001b[0m\n",
       "\u001b[1m)\u001b[0m\n"
      ]
     },
     "metadata": {},
     "output_type": "display_data"
    }
   ],
   "source": [
    "question = \"Which company created the first game console?\"\n",
    "\n",
    "# submit natural-language query on document\n",
    "question_query = DocumentSemanticQuery(\n",
    "    question=question,\n",
    "    project=PROJ_KEY,\n",
    "    document_hash=SEM_OFF_IDX_DOC_HASH,\n",
    ")\n",
    "question_results = api.queries.run(question_query)\n",
    "\n",
    "rich.print(question_results)"
   ]
  }
 ],
 "metadata": {
  "kernelspec": {
   "display_name": "Python 3 (ipykernel)",
   "language": "python",
   "name": "python3"
  },
  "language_info": {
   "codemirror_mode": {
    "name": "ipython",
    "version": 3
   },
   "file_extension": ".py",
   "mimetype": "text/x-python",
   "name": "python",
   "nbconvert_exporter": "python",
   "pygments_lexer": "ipython3",
   "version": "3.10.4"
  }
 },
 "nbformat": 4,
 "nbformat_minor": 5
}
