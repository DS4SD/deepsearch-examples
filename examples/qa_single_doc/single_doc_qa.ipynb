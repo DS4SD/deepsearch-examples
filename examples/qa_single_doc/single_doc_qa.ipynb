{
 "cells": [
  {
   "cell_type": "markdown",
   "id": "99f717ef-4cba-4300-b258-0b1c248cb873",
   "metadata": {},
   "source": [
    "# RAG: QA on a Single Document\n",
    "\n",
    "Deep Search allows users to interact with the documents using conversational AI, i.e. you interact with a virtual assistant which answer your questions using the information in the document.\n",
    "\n",
    "In this example we demonstrate how achive the same interaction programmatically.\n",
    "\n",
    "### Access required\n",
    "\n",
    "The content of this notebook requires access to Deep Search capabilities which are not\n",
    "available on the public access system.\n",
    "\n",
    "[Contact us](https://ds4sd.github.io) if you are interested in exploring\n",
    "these Deep Search capabilities.\n",
    "\n",
    "\n",
    "### GenAI Integration required\n",
    "\n",
    "When interacting with the virtual assistant, Deep Search requires a connection to a Generative AI API. Currently, we support connections to [watsonx.ai](https://www.ibm.com/products/watsonx-ai) or the IBM-internal GenAI platform BAM.\n",
    "\n",
    "Deep Search allows custom GenAI configurations for each project.\n",
    "In the following example you will require to work in a project which has such GenAI capabilities activated."
   ]
  },
  {
   "cell_type": "markdown",
   "id": "256aef50-71a1-4278-9b22-17cb99a6566e",
   "metadata": {},
   "source": [
    "### Set notebook parameters\n"
   ]
  },
  {
   "cell_type": "code",
   "execution_count": 1,
   "id": "5b244bdd-1b52-41ff-b63e-9a203570d210",
   "metadata": {},
   "outputs": [],
   "source": [
    "from dsnotebooks.settings import DocQANotebookSettings\n",
    "\n",
    "# notebooks settings auto-loaded from .env / env vars\n",
    "notebook_settings = DocQANotebookSettings()\n",
    "\n",
    "PROFILE_NAME = notebook_settings.profile            # the profile to use\n",
    "PROJ_KEY = notebook_settings.proj_key               # the project to use\n",
    "\n",
    "# index and doc for doc QA from semantically indexed collection\n",
    "SEM_ON_IDX_KEY = notebook_settings.sem_on_idx_key\n",
    "SEM_ON_IDX_DOC_HASH = notebook_settings.sem_on_idx_doc_hash\n",
    "\n",
    "# index and doc for doc QA from not semantically indexed collection\n",
    "SEM_OFF_IDX_KEY = notebook_settings.sem_off_idx_key\n",
    "SEM_OFF_IDX_DOC_HASH = notebook_settings.sem_off_idx_doc_hash"
   ]
  },
  {
   "cell_type": "markdown",
   "id": "a5269060-bb5f-4fe3-9b64-547202db6714",
   "metadata": {},
   "source": [
    "### Import example dependencies"
   ]
  },
  {
   "cell_type": "code",
   "execution_count": 2,
   "id": "5d236ea0-db1c-4171-8e11-cdd0bad69d66",
   "metadata": {},
   "outputs": [],
   "source": [
    "# Import standard dependenices\n",
    "import rich\n",
    "\n",
    "# IPython utilities\n",
    "from IPython.display import display, Markdown\n",
    "\n",
    "# Import the deepsearch-toolkit\n",
    "from deepsearch.cps.client.api import CpsApi\n",
    "from deepsearch.cps.client.components.elastic import ElasticProjectDataCollectionSource\n",
    "from deepsearch.cps.queries import DocumentQuestionQuery\n"
   ]
  },
  {
   "cell_type": "markdown",
   "id": "293c249b-6018-46f2-b4d8-795f994d4729",
   "metadata": {},
   "source": [
    "### Connect to Deep Search"
   ]
  },
  {
   "cell_type": "code",
   "execution_count": 3,
   "id": "9c108432-a285-4c7b-a996-008ac3ff3d7a",
   "metadata": {},
   "outputs": [],
   "source": [
    "api = CpsApi.from_env(profile_name=PROFILE_NAME)\n"
   ]
  },
  {
   "cell_type": "markdown",
   "metadata": {},
   "source": [
    "### Utils"
   ]
  },
  {
   "cell_type": "code",
   "execution_count": 4,
   "metadata": {},
   "outputs": [],
   "source": [
    "from deepsearch.cps.client.components.queries import RunQueryResult\n",
    "\n",
    "def display_qa_result(\n",
    "        api: CpsApi,\n",
    "        coords: ElasticProjectDataCollectionSource,\n",
    "        question: str,\n",
    "        qa_res: RunQueryResult,\n",
    "):\n",
    "    ## compute URL to the document in the Deep Search UI\n",
    "    doc_url = api.documents.generate_url(\n",
    "        document_hash=qa_res.outputs[\"provenance\"][0][\"doc_hash\"],\n",
    "        data_source=coords,\n",
    "        item_index=qa_res.outputs[\"provenance\"][0][\"pos_in_doc\"],\n",
    "    )\n",
    "    display(Markdown(f\"Question: {question}\"))\n",
    "    display(Markdown(f'Answer: {qa_res.outputs[\"answer\"]}'))\n",
    "    display(Markdown(f\"The provenance of the answer can be inspected on the [source document]({doc_url}).\"))\n",
    "    display(Markdown(f\"Details:\"))\n",
    "    rich.print(qa_res.outputs)\n"
   ]
  },
  {
   "cell_type": "markdown",
   "id": "38cde869-46d1-4833-8eb3-2381b5e5fb68",
   "metadata": {},
   "source": [
    "---"
   ]
  },
  {
   "cell_type": "markdown",
   "metadata": {},
   "source": [
    "## QA on document within semantically indexed collection"
   ]
  },
  {
   "cell_type": "markdown",
   "metadata": {},
   "source": [
    "If the document is part of a semantically indexed collection (see doc_collection_qa.ipynb), we can directly do QA on it as shown below:"
   ]
  },
  {
   "cell_type": "code",
   "execution_count": 5,
   "metadata": {},
   "outputs": [
    {
     "data": {
      "text/markdown": [
       "Question: Where was the first European IBM lab located?"
      ],
      "text/plain": [
       "<IPython.core.display.Markdown object>"
      ]
     },
     "metadata": {},
     "output_type": "display_data"
    },
    {
     "data": {
      "text/markdown": [
       "Answer: Adliswil, Switzerland"
      ],
      "text/plain": [
       "<IPython.core.display.Markdown object>"
      ]
     },
     "metadata": {},
     "output_type": "display_data"
    },
    {
     "data": {
      "text/markdown": [
       "The provenance of the answer can be inspected on the [source document](https://sds.app.accelerate.science/projects/b09ae7561a01dc7c4b0fd21a43bfd93d140766d1/library/private/6b70072911ad2794a3844dd44d1705a5ba37ca0b?search=JTdCJTIycHJpdmF0ZUNvbGxlY3Rpb24lMjIlM0ElMjI2YjcwMDcyOTExYWQyNzk0YTM4NDRkZDQ0ZDE3MDVhNWJhMzdjYTBiJTIyJTJDJTIydHlwZSUyMiUzQSUyMkRvY3VtZW50JTIyJTJDJTIyZXhwcmVzc2lvbiUyMiUzQSUyMmZpbGUtaW5mby5kb2N1bWVudC1oYXNoJTNBJTIwJTVDJTIyYjMwYmM2NjdhMzI0YWUxMTFkMDI1NTI2NTYzYjY3NGE4ZDNmZDg2OWJjMDdjOGZkMjA0YWE5NWIwNWQ0MWYwYyU1QyUyMiUyMiUyQyUyMmZpbHRlcnMlMjIlM0ElNUIlNUQlMkMlMjJzZWxlY3QlMjIlM0ElNUIlMjJfbmFtZSUyMiUyQyUyMmRlc2NyaXB0aW9uLmNvbGxlY3Rpb24lMjIlMkMlMjJwcm92JTIyJTJDJTIyZGVzY3JpcHRpb24udGl0bGUlMjIlMkMlMjJkZXNjcmlwdGlvbi5wdWJsaWNhdGlvbl9kYXRlJTIyJTJDJTIyZGVzY3JpcHRpb24udXJsX3JlZnMlMjIlNUQlMkMlMjJpdGVtSW5kZXglMjIlM0EwJTJDJTIycGFnZVNpemUlMjIlM0ExMCUyQyUyMnNlYXJjaEFmdGVySGlzdG9yeSUyMiUzQSU1QiU1RCUyQyUyMnZpZXdUeXBlJTIyJTNBJTIyc25pcHBldHMlMjIlMkMlMjJyZWNvcmRTZWxlY3Rpb24lMjIlM0ElN0IlMjJyZWNvcmQlMjIlM0ElN0IlMjJpZCUyMiUzQSUyMmIzMGJjNjY3YTMyNGFlMTExZDAyNTUyNjU2M2I2NzRhOGQzZmQ4NjliYzA3YzhmZDIwNGFhOTViMDVkNDFmMGMlMjIlN0QlMkMlMjJpdGVtSW5kZXglMjIlM0E3MSU3RCU3RA%3D%3D)."
      ],
      "text/plain": [
       "<IPython.core.display.Markdown object>"
      ]
     },
     "metadata": {},
     "output_type": "display_data"
    },
    {
     "data": {
      "text/markdown": [
       "Details:"
      ],
      "text/plain": [
       "<IPython.core.display.Markdown object>"
      ]
     },
     "metadata": {},
     "output_type": "display_data"
    },
    {
     "data": {
      "text/html": [
       "<pre style=\"white-space:pre;overflow-x:auto;line-height:normal;font-family:Menlo,'DejaVu Sans Mono',consolas,'Courier New',monospace\"><span style=\"font-weight: bold\">{</span>\n",
       "    <span style=\"color: #008000; text-decoration-color: #008000\">'answer'</span>: <span style=\"color: #008000; text-decoration-color: #008000\">'Adliswil, Switzerland'</span>,\n",
       "    <span style=\"color: #008000; text-decoration-color: #008000\">'provenance'</span>: <span style=\"font-weight: bold\">[</span>\n",
       "        <span style=\"font-weight: bold\">{</span>\n",
       "            <span style=\"color: #008000; text-decoration-color: #008000\">'doc_hash'</span>: <span style=\"color: #008000; text-decoration-color: #008000\">'b30bc667a324ae111d025526563b674a8d3fd869bc07c8fd204aa95b05d41f0c'</span>,\n",
       "            <span style=\"color: #008000; text-decoration-color: #008000\">'pos_in_doc'</span>: <span style=\"color: #008080; text-decoration-color: #008080; font-weight: bold\">71</span>,\n",
       "            <span style=\"color: #008000; text-decoration-color: #008000\">'passage'</span>: <span style=\"color: #008000; text-decoration-color: #008000\">'In 1956, IBM opened their first European research laboratory in Adliswil, Switzerland, near</span>\n",
       "<span style=\"color: #008000; text-decoration-color: #008000\">Zurich. The lab moved to its own campus in neighboring Rüschlikon in 1962. The Zurich lab is staffed by a </span>\n",
       "<span style=\"color: #008000; text-decoration-color: #008000\">multicultural and interdisciplinary team of a few hundred permanent research staff members, graduate students and </span>\n",
       "<span style=\"color: #008000; text-decoration-color: #008000\">post-doctoral fellows, representing about 45 nationalities. Collocated with the lab is a Client Center (formerly </span>\n",
       "<span style=\"color: #008000; text-decoration-color: #008000\">the Industry Solutions Lab), an executive briefing facility demonstrating technology prototypes and solutions.'</span>,\n",
       "            <span style=\"color: #008000; text-decoration-color: #008000\">'source_is_text'</span>: <span style=\"color: #00ff00; text-decoration-color: #00ff00; font-style: italic\">True</span>\n",
       "        <span style=\"font-weight: bold\">}</span>\n",
       "    <span style=\"font-weight: bold\">]</span>\n",
       "<span style=\"font-weight: bold\">}</span>\n",
       "</pre>\n"
      ],
      "text/plain": [
       "\u001b[1m{\u001b[0m\n",
       "    \u001b[32m'answer'\u001b[0m: \u001b[32m'Adliswil, Switzerland'\u001b[0m,\n",
       "    \u001b[32m'provenance'\u001b[0m: \u001b[1m[\u001b[0m\n",
       "        \u001b[1m{\u001b[0m\n",
       "            \u001b[32m'doc_hash'\u001b[0m: \u001b[32m'b30bc667a324ae111d025526563b674a8d3fd869bc07c8fd204aa95b05d41f0c'\u001b[0m,\n",
       "            \u001b[32m'pos_in_doc'\u001b[0m: \u001b[1;36m71\u001b[0m,\n",
       "            \u001b[32m'passage'\u001b[0m: \u001b[32m'In 1956, IBM opened their first European research laboratory in Adliswil, Switzerland, near\u001b[0m\n",
       "\u001b[32mZurich. The lab moved to its own campus in neighboring Rüschlikon in 1962. The Zurich lab is staffed by a \u001b[0m\n",
       "\u001b[32mmulticultural and interdisciplinary team of a few hundred permanent research staff members, graduate students and \u001b[0m\n",
       "\u001b[32mpost-doctoral fellows, representing about 45 nationalities. Collocated with the lab is a Client Center \u001b[0m\u001b[32m(\u001b[0m\u001b[32mformerly \u001b[0m\n",
       "\u001b[32mthe Industry Solutions Lab\u001b[0m\u001b[32m)\u001b[0m\u001b[32m, an executive briefing facility demonstrating technology prototypes and solutions.'\u001b[0m,\n",
       "            \u001b[32m'source_is_text'\u001b[0m: \u001b[3;92mTrue\u001b[0m\n",
       "        \u001b[1m}\u001b[0m\n",
       "    \u001b[1m]\u001b[0m\n",
       "\u001b[1m}\u001b[0m\n"
      ]
     },
     "metadata": {},
     "output_type": "display_data"
    }
   ],
   "source": [
    "# prepare collection coordinates\n",
    "coll_coords = ElasticProjectDataCollectionSource(\n",
    "    proj_key=PROJ_KEY,\n",
    "    index_key=SEM_ON_IDX_KEY,\n",
    ")\n",
    "\n",
    "question = \"Where was the first European IBM lab located?\"\n",
    "\n",
    "# submit natural-language query on document\n",
    "question_query = DocumentQuestionQuery(\n",
    "    question=question,\n",
    "    project=PROJ_KEY,\n",
    "    index_key=SEM_ON_IDX_KEY,\n",
    "    document_hash=SEM_ON_IDX_DOC_HASH,\n",
    ")\n",
    "question_results = api.queries.run(question_query)\n",
    "\n",
    "display_qa_result(api=api, coords=coll_coords, question=question, qa_res=question_results)\n"
   ]
  },
  {
   "cell_type": "markdown",
   "metadata": {},
   "source": [
    "## QA on document not in semantically indexed collection"
   ]
  },
  {
   "cell_type": "markdown",
   "metadata": {},
   "source": [
    "### Ingestion"
   ]
  },
  {
   "cell_type": "markdown",
   "metadata": {},
   "source": [
    "In the cell below we show how to semantically index a single document:"
   ]
  },
  {
   "cell_type": "code",
   "execution_count": 6,
   "metadata": {},
   "outputs": [
    {
     "data": {
      "text/plain": [
       "{'ing_out': {}}"
      ]
     },
     "execution_count": 6,
     "metadata": {},
     "output_type": "execute_result"
    }
   ],
   "source": [
    "from deepsearch.cps.client.components.documents import SemIngestPrivateDataDocumentSource\n",
    "\n",
    "# prepare collection coordinates\n",
    "coords = ElasticProjectDataCollectionSource(\n",
    "    proj_key=PROJ_KEY,\n",
    "    index_key=SEM_OFF_IDX_KEY,\n",
    ")\n",
    "\n",
    "# launch the ingestion of the document for DocumentQA\n",
    "task = api.documents.semantic_ingest(\n",
    "    project=PROJ_KEY,\n",
    "    data_source=SemIngestPrivateDataDocumentSource(\n",
    "        source=coords,\n",
    "        document_hash=SEM_OFF_IDX_DOC_HASH,\n",
    "    ),\n",
    ")\n",
    "\n",
    "# wait for the ingestion task to finish\n",
    "api.tasks.wait_for(task.proj_key, task.task_id)"
   ]
  },
  {
   "cell_type": "markdown",
   "metadata": {},
   "source": [
    "### RAG"
   ]
  },
  {
   "cell_type": "code",
   "execution_count": 7,
   "metadata": {},
   "outputs": [
    {
     "data": {
      "text/markdown": [
       "Question: Which company created the first game console?"
      ],
      "text/plain": [
       "<IPython.core.display.Markdown object>"
      ]
     },
     "metadata": {},
     "output_type": "display_data"
    },
    {
     "data": {
      "text/markdown": [
       "Answer: Magnavox"
      ],
      "text/plain": [
       "<IPython.core.display.Markdown object>"
      ]
     },
     "metadata": {},
     "output_type": "display_data"
    },
    {
     "data": {
      "text/markdown": [
       "The provenance of the answer can be inspected on the [source document](https://sds.app.accelerate.science/projects/b09ae7561a01dc7c4b0fd21a43bfd93d140766d1/library/private/b4edbe66a8b8fe2ebed7e20d4d7b9335c48b45b0?search=JTdCJTIycHJpdmF0ZUNvbGxlY3Rpb24lMjIlM0ElMjJiNGVkYmU2NmE4YjhmZTJlYmVkN2UyMGQ0ZDdiOTMzNWM0OGI0NWIwJTIyJTJDJTIydHlwZSUyMiUzQSUyMkRvY3VtZW50JTIyJTJDJTIyZXhwcmVzc2lvbiUyMiUzQSUyMmZpbGUtaW5mby5kb2N1bWVudC1oYXNoJTNBJTIwJTVDJTIyMDI5MjEwZGY5MjljNzhlNzBkNzRlNmYxNDFhNDZkODMyNjkwNWNlNTg1NjJmMjA4MTgxOWM4MGMzOTIxZDVhMyU1QyUyMiUyMiUyQyUyMmZpbHRlcnMlMjIlM0ElNUIlNUQlMkMlMjJzZWxlY3QlMjIlM0ElNUIlMjJfbmFtZSUyMiUyQyUyMmRlc2NyaXB0aW9uLmNvbGxlY3Rpb24lMjIlMkMlMjJwcm92JTIyJTJDJTIyZGVzY3JpcHRpb24udGl0bGUlMjIlMkMlMjJkZXNjcmlwdGlvbi5wdWJsaWNhdGlvbl9kYXRlJTIyJTJDJTIyZGVzY3JpcHRpb24udXJsX3JlZnMlMjIlNUQlMkMlMjJpdGVtSW5kZXglMjIlM0EwJTJDJTIycGFnZVNpemUlMjIlM0ExMCUyQyUyMnNlYXJjaEFmdGVySGlzdG9yeSUyMiUzQSU1QiU1RCUyQyUyMnZpZXdUeXBlJTIyJTNBJTIyc25pcHBldHMlMjIlMkMlMjJyZWNvcmRTZWxlY3Rpb24lMjIlM0ElN0IlMjJyZWNvcmQlMjIlM0ElN0IlMjJpZCUyMiUzQSUyMjAyOTIxMGRmOTI5Yzc4ZTcwZDc0ZTZmMTQxYTQ2ZDgzMjY5MDVjZTU4NTYyZjIwODE4MTljODBjMzkyMWQ1YTMlMjIlN0QlMkMlMjJpdGVtSW5kZXglMjIlM0E5JTdEJTdE)."
      ],
      "text/plain": [
       "<IPython.core.display.Markdown object>"
      ]
     },
     "metadata": {},
     "output_type": "display_data"
    },
    {
     "data": {
      "text/markdown": [
       "Details:"
      ],
      "text/plain": [
       "<IPython.core.display.Markdown object>"
      ]
     },
     "metadata": {},
     "output_type": "display_data"
    },
    {
     "data": {
      "text/html": [
       "<pre style=\"white-space:pre;overflow-x:auto;line-height:normal;font-family:Menlo,'DejaVu Sans Mono',consolas,'Courier New',monospace\"><span style=\"font-weight: bold\">{</span>\n",
       "    <span style=\"color: #008000; text-decoration-color: #008000\">'answer'</span>: <span style=\"color: #008000; text-decoration-color: #008000\">'Magnavox'</span>,\n",
       "    <span style=\"color: #008000; text-decoration-color: #008000\">'provenance'</span>: <span style=\"font-weight: bold\">[</span>\n",
       "        <span style=\"font-weight: bold\">{</span>\n",
       "            <span style=\"color: #008000; text-decoration-color: #008000\">'doc_hash'</span>: <span style=\"color: #008000; text-decoration-color: #008000\">'029210df929c78e70d74e6f141a46d8326905ce58562f2081819c80c3921d5a3'</span>,\n",
       "            <span style=\"color: #008000; text-decoration-color: #008000\">'pos_in_doc'</span>: <span style=\"color: #008080; text-decoration-color: #008080; font-weight: bold\">9</span>,\n",
       "            <span style=\"color: #008000; text-decoration-color: #008000\">'passage'</span>: <span style=\"color: #008000; text-decoration-color: #008000\">'In 1972 Magnavox introduced the Odyssey, the first video game console. $^{[10]}$ In 1975, </span>\n",
       "<span style=\"color: #008000; text-decoration-color: #008000\">the Magnavox Company was acquired by Philips of the Netherlands to ensure nationwide distribution for their VLP </span>\n",
       "<span style=\"color: #008000; text-decoration-color: #008000\">(later renamed LaserVision) Videodisc technology, and all Philips consumer electronics in the US under the Norelco </span>\n",
       "<span style=\"color: #008000; text-decoration-color: #008000\">name began rebranding them under the Magnavox name; $^{[11]}$ Philips acquired the similar-sounding company Philco </span>\n",
       "<span style=\"color: #008000; text-decoration-color: #008000\">in 1981, and Philips was able to freely use the Philips name, alternating with the Magnavox name for some </span>\n",
       "<span style=\"color: #008000; text-decoration-color: #008000\">electronics, with the personal care business continuing to use the Norelco name.'</span>,\n",
       "            <span style=\"color: #008000; text-decoration-color: #008000\">'source_is_text'</span>: <span style=\"color: #00ff00; text-decoration-color: #00ff00; font-style: italic\">True</span>\n",
       "        <span style=\"font-weight: bold\">}</span>\n",
       "    <span style=\"font-weight: bold\">]</span>\n",
       "<span style=\"font-weight: bold\">}</span>\n",
       "</pre>\n"
      ],
      "text/plain": [
       "\u001b[1m{\u001b[0m\n",
       "    \u001b[32m'answer'\u001b[0m: \u001b[32m'Magnavox'\u001b[0m,\n",
       "    \u001b[32m'provenance'\u001b[0m: \u001b[1m[\u001b[0m\n",
       "        \u001b[1m{\u001b[0m\n",
       "            \u001b[32m'doc_hash'\u001b[0m: \u001b[32m'029210df929c78e70d74e6f141a46d8326905ce58562f2081819c80c3921d5a3'\u001b[0m,\n",
       "            \u001b[32m'pos_in_doc'\u001b[0m: \u001b[1;36m9\u001b[0m,\n",
       "            \u001b[32m'passage'\u001b[0m: \u001b[32m'In 1972 Magnavox introduced the Odyssey, the first video game console. $^\u001b[0m\u001b[32m{\u001b[0m\u001b[32m[\u001b[0m\u001b[32m10\u001b[0m\u001b[32m]\u001b[0m\u001b[32m}\u001b[0m\u001b[32m$ In 1975, \u001b[0m\n",
       "\u001b[32mthe Magnavox Company was acquired by Philips of the Netherlands to ensure nationwide distribution for their VLP \u001b[0m\n",
       "\u001b[32m(\u001b[0m\u001b[32mlater renamed LaserVision\u001b[0m\u001b[32m)\u001b[0m\u001b[32m Videodisc technology, and all Philips consumer electronics in the US under the Norelco \u001b[0m\n",
       "\u001b[32mname began rebranding them under the Magnavox name; $^\u001b[0m\u001b[32m{\u001b[0m\u001b[32m[\u001b[0m\u001b[32m11\u001b[0m\u001b[32m]\u001b[0m\u001b[32m}\u001b[0m\u001b[32m$ Philips acquired the similar-sounding company Philco \u001b[0m\n",
       "\u001b[32min 1981, and Philips was able to freely use the Philips name, alternating with the Magnavox name for some \u001b[0m\n",
       "\u001b[32melectronics, with the personal care business continuing to use the Norelco name.'\u001b[0m,\n",
       "            \u001b[32m'source_is_text'\u001b[0m: \u001b[3;92mTrue\u001b[0m\n",
       "        \u001b[1m}\u001b[0m\n",
       "    \u001b[1m]\u001b[0m\n",
       "\u001b[1m}\u001b[0m\n"
      ]
     },
     "metadata": {},
     "output_type": "display_data"
    }
   ],
   "source": [
    "question = \"Which company created the first game console?\"\n",
    "\n",
    "# submit natural-language query on document\n",
    "question_query = DocumentQuestionQuery(\n",
    "    question=question,\n",
    "    project=PROJ_KEY,\n",
    "    document_hash=SEM_OFF_IDX_DOC_HASH,\n",
    ")\n",
    "question_results = api.queries.run(question_query)\n",
    "\n",
    "display_qa_result(api=api, coords=coords, question=question, qa_res=question_results)"
   ]
  },
  {
   "cell_type": "markdown",
   "metadata": {},
   "source": [
    "Asking an additional question on the same document:"
   ]
  },
  {
   "cell_type": "code",
   "execution_count": 8,
   "metadata": {},
   "outputs": [
    {
     "data": {
      "text/markdown": [
       "Question: Which company bought Magnavox and when?"
      ],
      "text/plain": [
       "<IPython.core.display.Markdown object>"
      ]
     },
     "metadata": {},
     "output_type": "display_data"
    },
    {
     "data": {
      "text/markdown": [
       "Answer: Since 1975, Magnavox has been a subsidiary of the Dutch electronics corporation Phillips."
      ],
      "text/plain": [
       "<IPython.core.display.Markdown object>"
      ]
     },
     "metadata": {},
     "output_type": "display_data"
    },
    {
     "data": {
      "text/markdown": [
       "The provenance of the answer can be inspected on the [source document](https://sds.app.accelerate.science/projects/b09ae7561a01dc7c4b0fd21a43bfd93d140766d1/library/private/b4edbe66a8b8fe2ebed7e20d4d7b9335c48b45b0?search=JTdCJTIycHJpdmF0ZUNvbGxlY3Rpb24lMjIlM0ElMjJiNGVkYmU2NmE4YjhmZTJlYmVkN2UyMGQ0ZDdiOTMzNWM0OGI0NWIwJTIyJTJDJTIydHlwZSUyMiUzQSUyMkRvY3VtZW50JTIyJTJDJTIyZXhwcmVzc2lvbiUyMiUzQSUyMmZpbGUtaW5mby5kb2N1bWVudC1oYXNoJTNBJTIwJTVDJTIyMDI5MjEwZGY5MjljNzhlNzBkNzRlNmYxNDFhNDZkODMyNjkwNWNlNTg1NjJmMjA4MTgxOWM4MGMzOTIxZDVhMyU1QyUyMiUyMiUyQyUyMmZpbHRlcnMlMjIlM0ElNUIlNUQlMkMlMjJzZWxlY3QlMjIlM0ElNUIlMjJfbmFtZSUyMiUyQyUyMmRlc2NyaXB0aW9uLmNvbGxlY3Rpb24lMjIlMkMlMjJwcm92JTIyJTJDJTIyZGVzY3JpcHRpb24udGl0bGUlMjIlMkMlMjJkZXNjcmlwdGlvbi5wdWJsaWNhdGlvbl9kYXRlJTIyJTJDJTIyZGVzY3JpcHRpb24udXJsX3JlZnMlMjIlNUQlMkMlMjJpdGVtSW5kZXglMjIlM0EwJTJDJTIycGFnZVNpemUlMjIlM0ExMCUyQyUyMnNlYXJjaEFmdGVySGlzdG9yeSUyMiUzQSU1QiU1RCUyQyUyMnZpZXdUeXBlJTIyJTNBJTIyc25pcHBldHMlMjIlMkMlMjJyZWNvcmRTZWxlY3Rpb24lMjIlM0ElN0IlMjJyZWNvcmQlMjIlM0ElN0IlMjJpZCUyMiUzQSUyMjAyOTIxMGRmOTI5Yzc4ZTcwZDc0ZTZmMTQxYTQ2ZDgzMjY5MDVjZTU4NTYyZjIwODE4MTljODBjMzkyMWQ1YTMlMjIlN0QlMkMlMjJpdGVtSW5kZXglMjIlM0ExJTdEJTdE)."
      ],
      "text/plain": [
       "<IPython.core.display.Markdown object>"
      ]
     },
     "metadata": {},
     "output_type": "display_data"
    },
    {
     "data": {
      "text/markdown": [
       "Details:"
      ],
      "text/plain": [
       "<IPython.core.display.Markdown object>"
      ]
     },
     "metadata": {},
     "output_type": "display_data"
    },
    {
     "data": {
      "text/html": [
       "<pre style=\"white-space:pre;overflow-x:auto;line-height:normal;font-family:Menlo,'DejaVu Sans Mono',consolas,'Courier New',monospace\"><span style=\"font-weight: bold\">{</span>\n",
       "    <span style=\"color: #008000; text-decoration-color: #008000\">'answer'</span>: <span style=\"color: #008000; text-decoration-color: #008000\">'Since 1975, Magnavox has been a subsidiary of the Dutch electronics corporation Phillips.'</span>,\n",
       "    <span style=\"color: #008000; text-decoration-color: #008000\">'provenance'</span>: <span style=\"font-weight: bold\">[</span>\n",
       "        <span style=\"font-weight: bold\">{</span>\n",
       "            <span style=\"color: #008000; text-decoration-color: #008000\">'doc_hash'</span>: <span style=\"color: #008000; text-decoration-color: #008000\">'029210df929c78e70d74e6f141a46d8326905ce58562f2081819c80c3921d5a3'</span>,\n",
       "            <span style=\"color: #008000; text-decoration-color: #008000\">'pos_in_doc'</span>: <span style=\"color: #008080; text-decoration-color: #008080; font-weight: bold\">1</span>,\n",
       "            <span style=\"color: #008000; text-decoration-color: #008000\">'passage'</span>: <span style=\"color: #008000; text-decoration-color: #008000\">\"Magnavox (Latin for 'great voice ', stylized as MAGNAVOX) is an American electronics </span>\n",
       "<span style=\"color: #008000; text-decoration-color: #008000\">company that since 1975 has been a subsidiary of the Dutch electronics corporation Philips. [1] The predecessor to </span>\n",
       "<span style=\"color: #008000; text-decoration-color: #008000\">Magnavox was founded in 1911 by Edwin Pridham and Peter L. Jensen, coinventors of the moving-coil loudspeaker at </span>\n",
       "<span style=\"color: #008000; text-decoration-color: #008000\">their lab in Napa, California, under United States Patent number 1,105,924 for telephone receivers. $^{[2]}$ Six </span>\n",
       "<span style=\"color: #008000; text-decoration-color: #008000\">decades later, Magnavox produced the Odyssey, the world's first home video game console.\"</span>,\n",
       "            <span style=\"color: #008000; text-decoration-color: #008000\">'source_is_text'</span>: <span style=\"color: #00ff00; text-decoration-color: #00ff00; font-style: italic\">True</span>\n",
       "        <span style=\"font-weight: bold\">}</span>\n",
       "    <span style=\"font-weight: bold\">]</span>\n",
       "<span style=\"font-weight: bold\">}</span>\n",
       "</pre>\n"
      ],
      "text/plain": [
       "\u001b[1m{\u001b[0m\n",
       "    \u001b[32m'answer'\u001b[0m: \u001b[32m'Since 1975, Magnavox has been a subsidiary of the Dutch electronics corporation Phillips.'\u001b[0m,\n",
       "    \u001b[32m'provenance'\u001b[0m: \u001b[1m[\u001b[0m\n",
       "        \u001b[1m{\u001b[0m\n",
       "            \u001b[32m'doc_hash'\u001b[0m: \u001b[32m'029210df929c78e70d74e6f141a46d8326905ce58562f2081819c80c3921d5a3'\u001b[0m,\n",
       "            \u001b[32m'pos_in_doc'\u001b[0m: \u001b[1;36m1\u001b[0m,\n",
       "            \u001b[32m'passage'\u001b[0m: \u001b[32m\"Magnavox \u001b[0m\u001b[32m(\u001b[0m\u001b[32mLatin for 'great voice ', stylized as MAGNAVOX\u001b[0m\u001b[32m)\u001b[0m\u001b[32m is an American electronics \u001b[0m\n",
       "\u001b[32mcompany that since 1975 has been a subsidiary of the Dutch electronics corporation Philips. \u001b[0m\u001b[32m[\u001b[0m\u001b[32m1\u001b[0m\u001b[32m]\u001b[0m\u001b[32m The predecessor to \u001b[0m\n",
       "\u001b[32mMagnavox was founded in 1911 by Edwin Pridham and Peter L. Jensen, coinventors of the moving-coil loudspeaker at \u001b[0m\n",
       "\u001b[32mtheir lab in Napa, California, under United States Patent number 1,105,924 for telephone receivers. $^\u001b[0m\u001b[32m{\u001b[0m\u001b[32m[\u001b[0m\u001b[32m2\u001b[0m\u001b[32m]\u001b[0m\u001b[32m}\u001b[0m\u001b[32m$ Six \u001b[0m\n",
       "\u001b[32mdecades later, Magnavox produced the Odyssey, the world's first home video game console.\"\u001b[0m,\n",
       "            \u001b[32m'source_is_text'\u001b[0m: \u001b[3;92mTrue\u001b[0m\n",
       "        \u001b[1m}\u001b[0m\n",
       "    \u001b[1m]\u001b[0m\n",
       "\u001b[1m}\u001b[0m\n"
      ]
     },
     "metadata": {},
     "output_type": "display_data"
    }
   ],
   "source": [
    "question = \"Which company bought Magnavox and when?\"\n",
    "\n",
    "# submit natural-language query on document\n",
    "question_query = DocumentQuestionQuery(\n",
    "    question=question,\n",
    "    project=PROJ_KEY,\n",
    "    document_hash=SEM_OFF_IDX_DOC_HASH,\n",
    ")\n",
    "question_results = api.queries.run(question_query)\n",
    "\n",
    "display_qa_result(api=api, coords=coords, question=question, qa_res=question_results)"
   ]
  },
  {
   "cell_type": "code",
   "execution_count": null,
   "metadata": {},
   "outputs": [],
   "source": []
  }
 ],
 "metadata": {
  "kernelspec": {
   "display_name": "Python 3 (ipykernel)",
   "language": "python",
   "name": "python3"
  },
  "language_info": {
   "codemirror_mode": {
    "name": "ipython",
    "version": 3
   },
   "file_extension": ".py",
   "mimetype": "text/x-python",
   "name": "python",
   "nbconvert_exporter": "python",
   "pygments_lexer": "ipython3",
   "version": "3.10.4"
  }
 },
 "nbformat": 4,
 "nbformat_minor": 5
}
