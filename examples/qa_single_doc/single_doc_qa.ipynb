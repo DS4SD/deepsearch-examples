{
 "cells": [
  {
   "cell_type": "markdown",
   "id": "99f717ef-4cba-4300-b258-0b1c248cb873",
   "metadata": {},
   "source": [
    "# RAG and Semantic Retrieval on a Single Document\n",
    "\n",
    "Deep Search allows users to interact with the documents using conversational AI, i.e. you interact with a virtual assistant which answer your questions using the information in the document.\n",
    "\n",
    "In this example we demonstrate how achive the same interaction programmatically.\n",
    "\n",
    "### Access required\n",
    "\n",
    "The content of this notebook requires access to Deep Search capabilities which are not\n",
    "available on the public access system.\n",
    "\n",
    "[Contact us](https://ds4sd.github.io) if you are interested in exploring\n",
    "these Deep Search capabilities.\n",
    "\n",
    "\n",
    "### GenAI Integration required\n",
    "\n",
    "When interacting with the virtual assistant, Deep Search requires a connection to a Generative AI API. Currently, we support connections to [watsonx.ai](https://www.ibm.com/products/watsonx-ai) or the IBM-internal GenAI platform BAM.\n",
    "\n",
    "Deep Search allows custom GenAI configurations for each project.\n",
    "In the following example you will require to work in a project which has such GenAI capabilities activated."
   ]
  },
  {
   "cell_type": "markdown",
   "id": "256aef50-71a1-4278-9b22-17cb99a6566e",
   "metadata": {},
   "source": [
    "### Set notebook parameters\n"
   ]
  },
  {
   "cell_type": "code",
   "execution_count": 1,
   "id": "5b244bdd-1b52-41ff-b63e-9a203570d210",
   "metadata": {},
   "outputs": [],
   "source": [
    "from dsnotebooks.settings import DocQANotebookSettings\n",
    "\n",
    "# notebooks settings auto-loaded from .env / env vars\n",
    "notebook_settings = DocQANotebookSettings()\n",
    "\n",
    "PROFILE_NAME = notebook_settings.profile     # the profile to use\n",
    "PROJ_KEY = notebook_settings.proj_key        # the project to use\n",
    "\n",
    "# index and doc for doc QA from semantically indexed collection\n",
    "SEM_ON_IDX_KEY = notebook_settings.sem_on_idx_key\n",
    "SEM_ON_IDX_DOC_HASH = notebook_settings.sem_on_idx_doc_hash\n",
    "\n",
    "# index and doc for doc QA from not semantically indexed collection\n",
    "SEM_OFF_IDX_KEY = notebook_settings.sem_off_idx_key\n",
    "SEM_OFF_IDX_DOC_HASH = notebook_settings.sem_off_idx_doc_hash\n",
    "\n",
    "SKIP_INGESTED_DOCS = notebook_settings.skip_ingested_docs  # whether to skip any already semantically ingested docs\n",
    "\n",
    "RETR_K = notebook_settings.retr_k            # the number of search results to retrieve\n",
    "TEXT_WEIGHT = notebook_settings.text_weight  # the weight of lexical search (0.0: semantic-only, 1.0: lexical-only, anything in between: hybrid search)\n",
    "RERANK = notebook_settings.rerank            # whether to rerank the search results\n",
    "RAISE = notebook_settings.raise_on_sem_err   # whether semantic operation errors should raise an exception or be reflected in response fields"
   ]
  },
  {
   "cell_type": "markdown",
   "id": "a5269060-bb5f-4fe3-9b64-547202db6714",
   "metadata": {},
   "source": [
    "### Import example dependencies"
   ]
  },
  {
   "cell_type": "code",
   "execution_count": 2,
   "id": "5d236ea0-db1c-4171-8e11-cdd0bad69d66",
   "metadata": {},
   "outputs": [],
   "source": [
    "# Import standard dependenices\n",
    "import rich\n",
    "\n",
    "# IPython utilities\n",
    "from IPython.display import display, Markdown\n",
    "\n",
    "# Import the deepsearch-toolkit\n",
    "from deepsearch.cps.client.api import CpsApi\n",
    "from deepsearch.cps.client.components.elastic import ElasticProjectDataCollectionSource\n",
    "from deepsearch.cps.queries import DocumentRAGQuery, DocumentSemanticQuery\n",
    "from deepsearch.cps.queries.results import RAGResult, SearchResult, SearchResultItem\n"
   ]
  },
  {
   "cell_type": "markdown",
   "id": "293c249b-6018-46f2-b4d8-795f994d4729",
   "metadata": {},
   "source": [
    "### Connect to Deep Search"
   ]
  },
  {
   "cell_type": "code",
   "execution_count": 3,
   "id": "9c108432-a285-4c7b-a996-008ac3ff3d7a",
   "metadata": {},
   "outputs": [],
   "source": [
    "api = CpsApi.from_env(profile_name=PROFILE_NAME)\n"
   ]
  },
  {
   "cell_type": "markdown",
   "metadata": {},
   "source": [
    "### Utils"
   ]
  },
  {
   "cell_type": "code",
   "execution_count": 4,
   "metadata": {},
   "outputs": [],
   "source": [
    "def render_provenance_url(\n",
    "        api: CpsApi,\n",
    "        coords: ElasticProjectDataCollectionSource,\n",
    "        retr_item: SearchResultItem,\n",
    "):\n",
    "    ## compute URL to the document in the Deep Search UI\n",
    "    item_index = int(retr_item.path_in_doc[retr_item.path_in_doc.rfind(\".\")+1:])\n",
    "    doc_url = api.documents.generate_url(\n",
    "        document_hash=retr_item.doc_hash,\n",
    "        data_source=coords,\n",
    "        item_index=item_index,\n",
    "    )\n",
    "    display(Markdown(f\"The provenance of the answer can be inspected on the [source document]({doc_url}).\"))"
   ]
  },
  {
   "cell_type": "markdown",
   "id": "38cde869-46d1-4833-8eb3-2381b5e5fb68",
   "metadata": {},
   "source": [
    "---"
   ]
  },
  {
   "cell_type": "markdown",
   "metadata": {},
   "source": [
    "## QA on document within semantically indexed collection"
   ]
  },
  {
   "cell_type": "markdown",
   "metadata": {},
   "source": [
    "### RAG"
   ]
  },
  {
   "cell_type": "markdown",
   "metadata": {},
   "source": [
    "If the document is part of a semantically indexed collection (see [Document Collection QA](https://github.com/DS4SD/deepsearch-examples/tree/main/examples/qa_doc_collection) for details),\n",
    "we can directly do RAG on it as shown below:"
   ]
  },
  {
   "cell_type": "code",
   "execution_count": 5,
   "metadata": {},
   "outputs": [
    {
     "data": {
      "text/html": [
       "<pre style=\"white-space:pre;overflow-x:auto;line-height:normal;font-family:Menlo,'DejaVu Sans Mono',consolas,'Courier New',monospace\"><span style=\"color: #800080; text-decoration-color: #800080; font-weight: bold\">RAGResult</span><span style=\"font-weight: bold\">(</span>\n",
       "    <span style=\"color: #808000; text-decoration-color: #808000\">answers</span>=<span style=\"font-weight: bold\">[</span>\n",
       "        <span style=\"color: #800080; text-decoration-color: #800080; font-weight: bold\">RAGAnswerItem</span><span style=\"font-weight: bold\">(</span>\n",
       "            <span style=\"color: #808000; text-decoration-color: #808000\">answer</span>=<span style=\"color: #008000; text-decoration-color: #008000\">'The first European IBM research lab was located in Adliswil, Switzerland, near Zurich.'</span>,\n",
       "            <span style=\"color: #808000; text-decoration-color: #808000\">grounding</span>=<span style=\"color: #800080; text-decoration-color: #800080; font-weight: bold\">RAGGroundingInfo</span><span style=\"font-weight: bold\">(</span>\n",
       "                <span style=\"color: #808000; text-decoration-color: #808000\">items</span>=<span style=\"font-weight: bold\">[</span>\n",
       "                    <span style=\"color: #800080; text-decoration-color: #800080; font-weight: bold\">SearchResultItem</span><span style=\"font-weight: bold\">(</span>\n",
       "                        <span style=\"color: #808000; text-decoration-color: #808000\">doc_hash</span>=<span style=\"color: #008000; text-decoration-color: #008000\">'b30bc667a324ae111d025526563b674a8d3fd869bc07c8fd204aa95b05d41f0c'</span>,\n",
       "                        <span style=\"color: #808000; text-decoration-color: #808000\">path_in_doc</span>=<span style=\"color: #008000; text-decoration-color: #008000\">'main-text.71'</span>,\n",
       "                        <span style=\"color: #808000; text-decoration-color: #808000\">passage</span>=<span style=\"color: #008000; text-decoration-color: #008000\">'Switzerland\\nIn 1956, IBM opened their first European research laboratory in </span>\n",
       "<span style=\"color: #008000; text-decoration-color: #008000\">Adliswil, Switzerland, near Zurich. The lab moved to its own campus in neighboring Rüschlikon in 1962. The Zurich </span>\n",
       "<span style=\"color: #008000; text-decoration-color: #008000\">lab is staffed by a multicultural and interdisciplinary team of a few hundred permanent research staff members, </span>\n",
       "<span style=\"color: #008000; text-decoration-color: #008000\">graduate students and post-doctoral fellows, representing about 45 nationalities. Collocated with the lab is a </span>\n",
       "<span style=\"color: #008000; text-decoration-color: #008000\">Client Center (formerly the Industry Solutions Lab), an executive briefing facility demonstrating technology </span>\n",
       "<span style=\"color: #008000; text-decoration-color: #008000\">prototypes and solutions.'</span>,\n",
       "                        <span style=\"color: #808000; text-decoration-color: #808000\">source_is_text</span>=<span style=\"color: #00ff00; text-decoration-color: #00ff00; font-style: italic\">True</span>\n",
       "                    <span style=\"font-weight: bold\">)</span>\n",
       "                <span style=\"font-weight: bold\">]</span>\n",
       "            <span style=\"font-weight: bold\">)</span>\n",
       "        <span style=\"font-weight: bold\">)</span>\n",
       "    <span style=\"font-weight: bold\">]</span>,\n",
       "    <span style=\"color: #808000; text-decoration-color: #808000\">search_result_items</span>=<span style=\"font-weight: bold\">[</span>\n",
       "        <span style=\"color: #800080; text-decoration-color: #800080; font-weight: bold\">SearchResultItem</span><span style=\"font-weight: bold\">(</span>\n",
       "            <span style=\"color: #808000; text-decoration-color: #808000\">doc_hash</span>=<span style=\"color: #008000; text-decoration-color: #008000\">'b30bc667a324ae111d025526563b674a8d3fd869bc07c8fd204aa95b05d41f0c'</span>,\n",
       "            <span style=\"color: #808000; text-decoration-color: #808000\">path_in_doc</span>=<span style=\"color: #008000; text-decoration-color: #008000\">'main-text.71'</span>,\n",
       "            <span style=\"color: #808000; text-decoration-color: #808000\">passage</span>=<span style=\"color: #008000; text-decoration-color: #008000\">'Switzerland\\nIn 1956, IBM opened their first European research laboratory in Adliswil, </span>\n",
       "<span style=\"color: #008000; text-decoration-color: #008000\">Switzerland, near Zurich. The lab moved to its own campus in neighboring Rüschlikon in 1962. The Zurich lab is </span>\n",
       "<span style=\"color: #008000; text-decoration-color: #008000\">staffed by a multicultural and interdisciplinary team of a few hundred permanent research staff members, graduate </span>\n",
       "<span style=\"color: #008000; text-decoration-color: #008000\">students and post-doctoral fellows, representing about 45 nationalities. Collocated with the lab is a Client Center</span>\n",
       "<span style=\"color: #008000; text-decoration-color: #008000\">(formerly the Industry Solutions Lab), an executive briefing facility demonstrating technology prototypes and </span>\n",
       "<span style=\"color: #008000; text-decoration-color: #008000\">solutions.'</span>,\n",
       "            <span style=\"color: #808000; text-decoration-color: #808000\">source_is_text</span>=<span style=\"color: #00ff00; text-decoration-color: #00ff00; font-style: italic\">True</span>\n",
       "        <span style=\"font-weight: bold\">)</span>,\n",
       "        <span style=\"color: #800080; text-decoration-color: #800080; font-weight: bold\">SearchResultItem</span><span style=\"font-weight: bold\">(</span>\n",
       "            <span style=\"color: #808000; text-decoration-color: #808000\">doc_hash</span>=<span style=\"color: #008000; text-decoration-color: #008000\">'b30bc667a324ae111d025526563b674a8d3fd869bc07c8fd204aa95b05d41f0c'</span>,\n",
       "            <span style=\"color: #808000; text-decoration-color: #808000\">path_in_doc</span>=<span style=\"color: #008000; text-decoration-color: #008000\">'main-text.70'</span>,\n",
       "            <span style=\"color: #808000; text-decoration-color: #808000\">passage</span>=<span style=\"color: #008000; text-decoration-color: #008000\">'Switzerland\\nIBM Research-Zurich (previously called IBM Zurich Research Laboratory, ZRL) is </span>\n",
       "<span style=\"color: #008000; text-decoration-color: #008000\">the European branch of IBM Research. It was opened in 1956 and is located in Rüschlikon, near Zurich, </span>\n",
       "<span style=\"color: #008000; text-decoration-color: #008000\">Switzerland.'</span>,\n",
       "            <span style=\"color: #808000; text-decoration-color: #808000\">source_is_text</span>=<span style=\"color: #00ff00; text-decoration-color: #00ff00; font-style: italic\">True</span>\n",
       "        <span style=\"font-weight: bold\">)</span>,\n",
       "        <span style=\"color: #800080; text-decoration-color: #800080; font-weight: bold\">SearchResultItem</span><span style=\"font-weight: bold\">(</span>\n",
       "            <span style=\"color: #808000; text-decoration-color: #808000\">doc_hash</span>=<span style=\"color: #008000; text-decoration-color: #008000\">'b30bc667a324ae111d025526563b674a8d3fd869bc07c8fd204aa95b05d41f0c'</span>,\n",
       "            <span style=\"color: #808000; text-decoration-color: #808000\">path_in_doc</span>=<span style=\"color: #008000; text-decoration-color: #008000\">'main-text.8'</span>,\n",
       "            <span style=\"color: #808000; text-decoration-color: #808000\">passage</span>=<span style=\"color: #008000; text-decoration-color: #008000\">\"History\\nThe roots of today's IBM Research began with the 1945 opening of the Watson </span>\n",
       "<span style=\"color: #008000; text-decoration-color: #008000\">Scientific Computing Laboratory at Columbia University. $^{[4]}$ This was the first IBM laboratory devoted to pure </span>\n",
       "<span style=\"color: #008000; text-decoration-color: #008000\">science and later expanded into additional IBM Research locations in Westchester County, New York, starting in the </span>\n",
       "<span style=\"color: #008000; text-decoration-color: #008000\">1950s, $^{[5][6]}$ including the Thomas J. Watson Research Center in 1961. [5][6]\"</span>,\n",
       "            <span style=\"color: #808000; text-decoration-color: #808000\">source_is_text</span>=<span style=\"color: #00ff00; text-decoration-color: #00ff00; font-style: italic\">True</span>\n",
       "        <span style=\"font-weight: bold\">)</span>\n",
       "    <span style=\"font-weight: bold\">]</span>\n",
       "<span style=\"font-weight: bold\">)</span>\n",
       "</pre>\n"
      ],
      "text/plain": [
       "\u001b[1;35mRAGResult\u001b[0m\u001b[1m(\u001b[0m\n",
       "    \u001b[33manswers\u001b[0m=\u001b[1m[\u001b[0m\n",
       "        \u001b[1;35mRAGAnswerItem\u001b[0m\u001b[1m(\u001b[0m\n",
       "            \u001b[33manswer\u001b[0m=\u001b[32m'The first European IBM research lab was located in Adliswil, Switzerland, near Zurich.'\u001b[0m,\n",
       "            \u001b[33mgrounding\u001b[0m=\u001b[1;35mRAGGroundingInfo\u001b[0m\u001b[1m(\u001b[0m\n",
       "                \u001b[33mitems\u001b[0m=\u001b[1m[\u001b[0m\n",
       "                    \u001b[1;35mSearchResultItem\u001b[0m\u001b[1m(\u001b[0m\n",
       "                        \u001b[33mdoc_hash\u001b[0m=\u001b[32m'b30bc667a324ae111d025526563b674a8d3fd869bc07c8fd204aa95b05d41f0c'\u001b[0m,\n",
       "                        \u001b[33mpath_in_doc\u001b[0m=\u001b[32m'main-text.71'\u001b[0m,\n",
       "                        \u001b[33mpassage\u001b[0m=\u001b[32m'Switzerland\\nIn 1956, IBM opened their first European research laboratory in \u001b[0m\n",
       "\u001b[32mAdliswil, Switzerland, near Zurich. The lab moved to its own campus in neighboring Rüschlikon in 1962. The Zurich \u001b[0m\n",
       "\u001b[32mlab is staffed by a multicultural and interdisciplinary team of a few hundred permanent research staff members, \u001b[0m\n",
       "\u001b[32mgraduate students and post-doctoral fellows, representing about 45 nationalities. Collocated with the lab is a \u001b[0m\n",
       "\u001b[32mClient Center \u001b[0m\u001b[32m(\u001b[0m\u001b[32mformerly the Industry Solutions Lab\u001b[0m\u001b[32m)\u001b[0m\u001b[32m, an executive briefing facility demonstrating technology \u001b[0m\n",
       "\u001b[32mprototypes and solutions.'\u001b[0m,\n",
       "                        \u001b[33msource_is_text\u001b[0m=\u001b[3;92mTrue\u001b[0m\n",
       "                    \u001b[1m)\u001b[0m\n",
       "                \u001b[1m]\u001b[0m\n",
       "            \u001b[1m)\u001b[0m\n",
       "        \u001b[1m)\u001b[0m\n",
       "    \u001b[1m]\u001b[0m,\n",
       "    \u001b[33msearch_result_items\u001b[0m=\u001b[1m[\u001b[0m\n",
       "        \u001b[1;35mSearchResultItem\u001b[0m\u001b[1m(\u001b[0m\n",
       "            \u001b[33mdoc_hash\u001b[0m=\u001b[32m'b30bc667a324ae111d025526563b674a8d3fd869bc07c8fd204aa95b05d41f0c'\u001b[0m,\n",
       "            \u001b[33mpath_in_doc\u001b[0m=\u001b[32m'main-text.71'\u001b[0m,\n",
       "            \u001b[33mpassage\u001b[0m=\u001b[32m'Switzerland\\nIn 1956, IBM opened their first European research laboratory in Adliswil, \u001b[0m\n",
       "\u001b[32mSwitzerland, near Zurich. The lab moved to its own campus in neighboring Rüschlikon in 1962. The Zurich lab is \u001b[0m\n",
       "\u001b[32mstaffed by a multicultural and interdisciplinary team of a few hundred permanent research staff members, graduate \u001b[0m\n",
       "\u001b[32mstudents and post-doctoral fellows, representing about 45 nationalities. Collocated with the lab is a Client Center\u001b[0m\n",
       "\u001b[32m(\u001b[0m\u001b[32mformerly the Industry Solutions Lab\u001b[0m\u001b[32m)\u001b[0m\u001b[32m, an executive briefing facility demonstrating technology prototypes and \u001b[0m\n",
       "\u001b[32msolutions.'\u001b[0m,\n",
       "            \u001b[33msource_is_text\u001b[0m=\u001b[3;92mTrue\u001b[0m\n",
       "        \u001b[1m)\u001b[0m,\n",
       "        \u001b[1;35mSearchResultItem\u001b[0m\u001b[1m(\u001b[0m\n",
       "            \u001b[33mdoc_hash\u001b[0m=\u001b[32m'b30bc667a324ae111d025526563b674a8d3fd869bc07c8fd204aa95b05d41f0c'\u001b[0m,\n",
       "            \u001b[33mpath_in_doc\u001b[0m=\u001b[32m'main-text.70'\u001b[0m,\n",
       "            \u001b[33mpassage\u001b[0m=\u001b[32m'Switzerland\\nIBM Research-Zurich \u001b[0m\u001b[32m(\u001b[0m\u001b[32mpreviously called IBM Zurich Research Laboratory, ZRL\u001b[0m\u001b[32m)\u001b[0m\u001b[32m is \u001b[0m\n",
       "\u001b[32mthe European branch of IBM Research. It was opened in 1956 and is located in Rüschlikon, near Zurich, \u001b[0m\n",
       "\u001b[32mSwitzerland.'\u001b[0m,\n",
       "            \u001b[33msource_is_text\u001b[0m=\u001b[3;92mTrue\u001b[0m\n",
       "        \u001b[1m)\u001b[0m,\n",
       "        \u001b[1;35mSearchResultItem\u001b[0m\u001b[1m(\u001b[0m\n",
       "            \u001b[33mdoc_hash\u001b[0m=\u001b[32m'b30bc667a324ae111d025526563b674a8d3fd869bc07c8fd204aa95b05d41f0c'\u001b[0m,\n",
       "            \u001b[33mpath_in_doc\u001b[0m=\u001b[32m'main-text.8'\u001b[0m,\n",
       "            \u001b[33mpassage\u001b[0m=\u001b[32m\"History\u001b[0m\u001b[32m\\nThe roots of today's IBM Research began with the 1945 opening of the Watson \u001b[0m\n",
       "\u001b[32mScientific Computing Laboratory at Columbia University. $^\u001b[0m\u001b[32m{\u001b[0m\u001b[32m[\u001b[0m\u001b[32m4\u001b[0m\u001b[32m]\u001b[0m\u001b[32m}\u001b[0m\u001b[32m$ This was the first IBM laboratory devoted to pure \u001b[0m\n",
       "\u001b[32mscience and later expanded into additional IBM Research locations in Westchester County, New York, starting in the \u001b[0m\n",
       "\u001b[32m1950s, $^\u001b[0m\u001b[32m{\u001b[0m\u001b[32m[\u001b[0m\u001b[32m5\u001b[0m\u001b[32m]\u001b[0m\u001b[32m[\u001b[0m\u001b[32m6\u001b[0m\u001b[32m]\u001b[0m\u001b[32m}\u001b[0m\u001b[32m$ including the Thomas J. Watson Research Center in 1961. \u001b[0m\u001b[32m[\u001b[0m\u001b[32m5\u001b[0m\u001b[32m]\u001b[0m\u001b[32m[\u001b[0m\u001b[32m6\u001b[0m\u001b[32m]\u001b[0m\u001b[32m\"\u001b[0m,\n",
       "            \u001b[33msource_is_text\u001b[0m=\u001b[3;92mTrue\u001b[0m\n",
       "        \u001b[1m)\u001b[0m\n",
       "    \u001b[1m]\u001b[0m\n",
       "\u001b[1m)\u001b[0m\n"
      ]
     },
     "metadata": {},
     "output_type": "display_data"
    }
   ],
   "source": [
    "question = \"Where was the first European IBM research lab located?\"\n",
    "\n",
    "# submit natural-language query on document\n",
    "question_query = DocumentRAGQuery(\n",
    "    question=question,\n",
    "    project=PROJ_KEY,\n",
    "    index_key=SEM_ON_IDX_KEY,\n",
    "    document_hash=SEM_ON_IDX_DOC_HASH,\n",
    "\n",
    "    ## optional retrieval params\n",
    "    retr_k=RETR_K,\n",
    "    # text_weight=TEXT_WEIGHT,\n",
    "    # rerank=RERANK,\n",
    "\n",
    "    ## optional generation params\n",
    "    # model_id=\"ibm-mistralai/mixtral-8x7b-instruct-v01-q\",\n",
    "    # gen_params={\"random_seed\": 42, \"max_new_tokens\": 1024},\n",
    "    # prompt_template=\"Answer the query based on the context.\\n\\nContext: {{ context }}\\n\\nQuery: {{ query }}\",\n",
    "\n",
    ")\n",
    "api_output = api.queries.run(question_query)\n",
    "rag_result = RAGResult.from_api_output(api_output, raise_on_error=RAISE)\n",
    "\n",
    "rich.print(rag_result)\n"
   ]
  },
  {
   "cell_type": "markdown",
   "metadata": {},
   "source": [
    "Additionally, we can generate a provenance URL to the document in the Deep Search UI:"
   ]
  },
  {
   "cell_type": "code",
   "execution_count": 6,
   "metadata": {},
   "outputs": [
    {
     "data": {
      "text/markdown": [
       "The provenance of the answer can be inspected on the [source document](https://sds.app.accelerate.science/projects/b09ae7561a01dc7c4b0fd21a43bfd93d140766d1/library/private/6b70072911ad2794a3844dd44d1705a5ba37ca0b?search=JTdCJTIycHJpdmF0ZUNvbGxlY3Rpb24lMjIlM0ElMjI2YjcwMDcyOTExYWQyNzk0YTM4NDRkZDQ0ZDE3MDVhNWJhMzdjYTBiJTIyJTJDJTIydHlwZSUyMiUzQSUyMkRvY3VtZW50JTIyJTJDJTIyZXhwcmVzc2lvbiUyMiUzQSUyMmZpbGUtaW5mby5kb2N1bWVudC1oYXNoJTNBJTIwJTVDJTIyYjMwYmM2NjdhMzI0YWUxMTFkMDI1NTI2NTYzYjY3NGE4ZDNmZDg2OWJjMDdjOGZkMjA0YWE5NWIwNWQ0MWYwYyU1QyUyMiUyMiUyQyUyMmZpbHRlcnMlMjIlM0ElNUIlNUQlMkMlMjJzZWxlY3QlMjIlM0ElNUIlMjJfbmFtZSUyMiUyQyUyMmRlc2NyaXB0aW9uLmNvbGxlY3Rpb24lMjIlMkMlMjJwcm92JTIyJTJDJTIyZGVzY3JpcHRpb24udGl0bGUlMjIlMkMlMjJkZXNjcmlwdGlvbi5wdWJsaWNhdGlvbl9kYXRlJTIyJTJDJTIyZGVzY3JpcHRpb24udXJsX3JlZnMlMjIlNUQlMkMlMjJpdGVtSW5kZXglMjIlM0EwJTJDJTIycGFnZVNpemUlMjIlM0ExMCUyQyUyMnNlYXJjaEFmdGVySGlzdG9yeSUyMiUzQSU1QiU1RCUyQyUyMnZpZXdUeXBlJTIyJTNBJTIyc25pcHBldHMlMjIlMkMlMjJyZWNvcmRTZWxlY3Rpb24lMjIlM0ElN0IlMjJyZWNvcmQlMjIlM0ElN0IlMjJpZCUyMiUzQSUyMmIzMGJjNjY3YTMyNGFlMTExZDAyNTUyNjU2M2I2NzRhOGQzZmQ4NjliYzA3YzhmZDIwNGFhOTViMDVkNDFmMGMlMjIlN0QlMkMlMjJpdGVtSW5kZXglMjIlM0E3MSU3RCU3RA%3D%3D)."
      ],
      "text/plain": [
       "<IPython.core.display.Markdown object>"
      ]
     },
     "metadata": {},
     "output_type": "display_data"
    }
   ],
   "source": [
    "coords = ElasticProjectDataCollectionSource(\n",
    "    proj_key=PROJ_KEY,\n",
    "    index_key=SEM_ON_IDX_KEY,\n",
    ")\n",
    "render_provenance_url(api=api, coords=coords, retr_item=rag_result.answers[0].grounding.items[0])"
   ]
  },
  {
   "cell_type": "markdown",
   "metadata": {},
   "source": [
    "Let us try out a different question on our document.\n",
    "Here we also illustrate some further parameters the user can optionally set:\n",
    "- `retr_k`: number of items to retrieve\n",
    "- `text_weight`: weight of lexical search (`0.0`: fully semantic search, `1.0`: fully lexical search, anything in-between: hybrid search)\n",
    "- `rerank`: whether to rerank the retrieval results"
   ]
  },
  {
   "cell_type": "code",
   "execution_count": 18,
   "metadata": {},
   "outputs": [
    {
     "data": {
      "text/html": [
       "<pre style=\"white-space:pre;overflow-x:auto;line-height:normal;font-family:Menlo,'DejaVu Sans Mono',consolas,'Courier New',monospace\"><span style=\"color: #800080; text-decoration-color: #800080; font-weight: bold\">RAGResult</span><span style=\"font-weight: bold\">(</span>\n",
       "    <span style=\"color: #808000; text-decoration-color: #808000\">answers</span>=<span style=\"font-weight: bold\">[</span>\n",
       "        <span style=\"color: #800080; text-decoration-color: #800080; font-weight: bold\">RAGAnswerItem</span><span style=\"font-weight: bold\">(</span>\n",
       "            <span style=\"color: #808000; text-decoration-color: #808000\">answer</span>=<span style=\"color: #008000; text-decoration-color: #008000\">'IBM has 19 research facilities and 12 research laboratories.'</span>,\n",
       "            <span style=\"color: #808000; text-decoration-color: #808000\">grounding</span>=<span style=\"color: #800080; text-decoration-color: #800080; font-weight: bold\">RAGGroundingInfo</span><span style=\"font-weight: bold\">(</span>\n",
       "                <span style=\"color: #808000; text-decoration-color: #808000\">items</span>=<span style=\"font-weight: bold\">[</span>\n",
       "                    <span style=\"color: #800080; text-decoration-color: #800080; font-weight: bold\">SearchResultItem</span><span style=\"font-weight: bold\">(</span>\n",
       "                        <span style=\"color: #808000; text-decoration-color: #808000\">doc_hash</span>=<span style=\"color: #008000; text-decoration-color: #008000\">'b30bc667a324ae111d025526563b674a8d3fd869bc07c8fd204aa95b05d41f0c'</span>,\n",
       "                        <span style=\"color: #808000; text-decoration-color: #808000\">path_in_doc</span>=<span style=\"color: #008000; text-decoration-color: #008000\">'main-text.17'</span>,\n",
       "                        <span style=\"color: #808000; text-decoration-color: #808000\">passage</span>=<span style=\"color: #008000; text-decoration-color: #008000\">'Laboratories\\nIBM currently has 19 research facilities spread across 12 </span>\n",
       "<span style=\"color: #008000; text-decoration-color: #008000\">laboratories on six continents: [32]\\nAfrica (Nairobi, Kenya, and Johannesburg, South Africa)\\nAlmaden (San </span>\n",
       "<span style=\"color: #008000; text-decoration-color: #008000\">Jose)\\nAustralia (Melbourne)\\nBrazil (Sao Paulo and Rio de Janeiro)\\nCambridge-IBM Research and MIT-IBM Watson AI </span>\n",
       "<span style=\"color: #008000; text-decoration-color: #008000\">Lab (Cambridge, US)\\nChina (Beijing)\\nIsrael (Haifa)\\nIreland (Dublin)\\nIndia (Delhi and Bengaluru)\\nJapan (Tokyo </span>\n",
       "<span style=\"color: #008000; text-decoration-color: #008000\">and Shin-kawasaki)\\nSwitzerland (Zurich)\\nIBM Thomas J. Watson Research Center (Yorktown Heights and Albany)'</span>,\n",
       "                        <span style=\"color: #808000; text-decoration-color: #808000\">source_is_text</span>=<span style=\"color: #00ff00; text-decoration-color: #00ff00; font-style: italic\">True</span>\n",
       "                    <span style=\"font-weight: bold\">)</span>\n",
       "                <span style=\"font-weight: bold\">]</span>\n",
       "            <span style=\"font-weight: bold\">)</span>\n",
       "        <span style=\"font-weight: bold\">)</span>\n",
       "    <span style=\"font-weight: bold\">]</span>,\n",
       "    <span style=\"color: #808000; text-decoration-color: #808000\">search_result_items</span>=<span style=\"font-weight: bold\">[</span>\n",
       "        <span style=\"color: #800080; text-decoration-color: #800080; font-weight: bold\">SearchResultItem</span><span style=\"font-weight: bold\">(</span>\n",
       "            <span style=\"color: #808000; text-decoration-color: #808000\">doc_hash</span>=<span style=\"color: #008000; text-decoration-color: #008000\">'b30bc667a324ae111d025526563b674a8d3fd869bc07c8fd204aa95b05d41f0c'</span>,\n",
       "            <span style=\"color: #808000; text-decoration-color: #808000\">path_in_doc</span>=<span style=\"color: #008000; text-decoration-color: #008000\">'main-text.17'</span>,\n",
       "            <span style=\"color: #808000; text-decoration-color: #808000\">passage</span>=<span style=\"color: #008000; text-decoration-color: #008000\">'Laboratories\\nIBM currently has 19 research facilities spread across 12 laboratories on six </span>\n",
       "<span style=\"color: #008000; text-decoration-color: #008000\">continents: [32]\\nAfrica (Nairobi, Kenya, and Johannesburg, South Africa)\\nAlmaden (San Jose)\\nAustralia </span>\n",
       "<span style=\"color: #008000; text-decoration-color: #008000\">(Melbourne)\\nBrazil (Sao Paulo and Rio de Janeiro)\\nCambridge-IBM Research and MIT-IBM Watson AI Lab (Cambridge, </span>\n",
       "<span style=\"color: #008000; text-decoration-color: #008000\">US)\\nChina (Beijing)\\nIsrael (Haifa)\\nIreland (Dublin)\\nIndia (Delhi and Bengaluru)\\nJapan (Tokyo and </span>\n",
       "<span style=\"color: #008000; text-decoration-color: #008000\">Shin-kawasaki)\\nSwitzerland (Zurich)\\nIBM Thomas J. Watson Research Center (Yorktown Heights and Albany)'</span>,\n",
       "            <span style=\"color: #808000; text-decoration-color: #808000\">source_is_text</span>=<span style=\"color: #00ff00; text-decoration-color: #00ff00; font-style: italic\">True</span>\n",
       "        <span style=\"font-weight: bold\">)</span>,\n",
       "        <span style=\"color: #800080; text-decoration-color: #800080; font-weight: bold\">SearchResultItem</span><span style=\"font-weight: bold\">(</span>\n",
       "            <span style=\"color: #808000; text-decoration-color: #808000\">doc_hash</span>=<span style=\"color: #008000; text-decoration-color: #008000\">'b30bc667a324ae111d025526563b674a8d3fd869bc07c8fd204aa95b05d41f0c'</span>,\n",
       "            <span style=\"color: #808000; text-decoration-color: #808000\">path_in_doc</span>=<span style=\"color: #008000; text-decoration-color: #008000\">'main-text.74'</span>,\n",
       "            <span style=\"color: #808000; text-decoration-color: #808000\">passage</span>=<span style=\"color: #008000; text-decoration-color: #008000\">'Switzerland\\nThe research projects pursued at the IBM Zurich lab are organized into four </span>\n",
       "<span style=\"color: #008000; text-decoration-color: #008000\">scientific and technical departments: Science &amp; Technology, Cloud and AI Systems Research, Cognitive Computing &amp; </span>\n",
       "<span style=\"color: #008000; text-decoration-color: #008000\">Industry Solutions and Security Research. The lab is currently managed by Alessandro Curioni.'</span>,\n",
       "            <span style=\"color: #808000; text-decoration-color: #808000\">source_is_text</span>=<span style=\"color: #00ff00; text-decoration-color: #00ff00; font-style: italic\">True</span>\n",
       "        <span style=\"font-weight: bold\">)</span>,\n",
       "        <span style=\"color: #800080; text-decoration-color: #800080; font-weight: bold\">SearchResultItem</span><span style=\"font-weight: bold\">(</span>\n",
       "            <span style=\"color: #808000; text-decoration-color: #808000\">doc_hash</span>=<span style=\"color: #008000; text-decoration-color: #008000\">'b30bc667a324ae111d025526563b674a8d3fd869bc07c8fd204aa95b05d41f0c'</span>,\n",
       "            <span style=\"color: #808000; text-decoration-color: #808000\">path_in_doc</span>=<span style=\"color: #008000; text-decoration-color: #008000\">'main-text.30'</span>,\n",
       "            <span style=\"color: #808000; text-decoration-color: #808000\">passage</span>=<span style=\"color: #008000; text-decoration-color: #008000\">'Laboratories\\nHistoric research centers for IBM also include IBM La Gaude (Nice), the </span>\n",
       "<span style=\"color: #008000; text-decoration-color: #008000\">Cambridge Scientific Center, the IBM New York Scientific Center, 330 North Wabash (Chicago), IBM Austin Research </span>\n",
       "<span style=\"color: #008000; text-decoration-color: #008000\">Laboratory, and IBM Laboratory Vienna. [33]'</span>,\n",
       "            <span style=\"color: #808000; text-decoration-color: #808000\">source_is_text</span>=<span style=\"color: #00ff00; text-decoration-color: #00ff00; font-style: italic\">True</span>\n",
       "        <span style=\"font-weight: bold\">)</span>\n",
       "    <span style=\"font-weight: bold\">]</span>\n",
       "<span style=\"font-weight: bold\">)</span>\n",
       "</pre>\n"
      ],
      "text/plain": [
       "\u001b[1;35mRAGResult\u001b[0m\u001b[1m(\u001b[0m\n",
       "    \u001b[33manswers\u001b[0m=\u001b[1m[\u001b[0m\n",
       "        \u001b[1;35mRAGAnswerItem\u001b[0m\u001b[1m(\u001b[0m\n",
       "            \u001b[33manswer\u001b[0m=\u001b[32m'IBM has 19 research facilities and 12 research laboratories.'\u001b[0m,\n",
       "            \u001b[33mgrounding\u001b[0m=\u001b[1;35mRAGGroundingInfo\u001b[0m\u001b[1m(\u001b[0m\n",
       "                \u001b[33mitems\u001b[0m=\u001b[1m[\u001b[0m\n",
       "                    \u001b[1;35mSearchResultItem\u001b[0m\u001b[1m(\u001b[0m\n",
       "                        \u001b[33mdoc_hash\u001b[0m=\u001b[32m'b30bc667a324ae111d025526563b674a8d3fd869bc07c8fd204aa95b05d41f0c'\u001b[0m,\n",
       "                        \u001b[33mpath_in_doc\u001b[0m=\u001b[32m'main-text.17'\u001b[0m,\n",
       "                        \u001b[33mpassage\u001b[0m=\u001b[32m'Laboratories\\nIBM currently has 19 research facilities spread across 12 \u001b[0m\n",
       "\u001b[32mlaboratories on six continents: \u001b[0m\u001b[32m[\u001b[0m\u001b[32m32\u001b[0m\u001b[32m]\u001b[0m\u001b[32m\\nAfrica \u001b[0m\u001b[32m(\u001b[0m\u001b[32mNairobi, Kenya, and Johannesburg, South Africa\u001b[0m\u001b[32m)\u001b[0m\u001b[32m\\nAlmaden \u001b[0m\u001b[32m(\u001b[0m\u001b[32mSan \u001b[0m\n",
       "\u001b[32mJose\u001b[0m\u001b[32m)\u001b[0m\u001b[32m\\nAustralia \u001b[0m\u001b[32m(\u001b[0m\u001b[32mMelbourne\u001b[0m\u001b[32m)\u001b[0m\u001b[32m\\nBrazil \u001b[0m\u001b[32m(\u001b[0m\u001b[32mSao Paulo and Rio de Janeiro\u001b[0m\u001b[32m)\u001b[0m\u001b[32m\\nCambridge-IBM Research and MIT-IBM Watson AI \u001b[0m\n",
       "\u001b[32mLab \u001b[0m\u001b[32m(\u001b[0m\u001b[32mCambridge, US\u001b[0m\u001b[32m)\u001b[0m\u001b[32m\\nChina \u001b[0m\u001b[32m(\u001b[0m\u001b[32mBeijing\u001b[0m\u001b[32m)\u001b[0m\u001b[32m\\nIsrael \u001b[0m\u001b[32m(\u001b[0m\u001b[32mHaifa\u001b[0m\u001b[32m)\u001b[0m\u001b[32m\\nIreland \u001b[0m\u001b[32m(\u001b[0m\u001b[32mDublin\u001b[0m\u001b[32m)\u001b[0m\u001b[32m\\nIndia \u001b[0m\u001b[32m(\u001b[0m\u001b[32mDelhi and Bengaluru\u001b[0m\u001b[32m)\u001b[0m\u001b[32m\\nJapan \u001b[0m\u001b[32m(\u001b[0m\u001b[32mTokyo \u001b[0m\n",
       "\u001b[32mand Shin-kawasaki\u001b[0m\u001b[32m)\u001b[0m\u001b[32m\\nSwitzerland \u001b[0m\u001b[32m(\u001b[0m\u001b[32mZurich\u001b[0m\u001b[32m)\u001b[0m\u001b[32m\\nIBM Thomas J. Watson Research Center \u001b[0m\u001b[32m(\u001b[0m\u001b[32mYorktown Heights and Albany\u001b[0m\u001b[32m)\u001b[0m\u001b[32m'\u001b[0m,\n",
       "                        \u001b[33msource_is_text\u001b[0m=\u001b[3;92mTrue\u001b[0m\n",
       "                    \u001b[1m)\u001b[0m\n",
       "                \u001b[1m]\u001b[0m\n",
       "            \u001b[1m)\u001b[0m\n",
       "        \u001b[1m)\u001b[0m\n",
       "    \u001b[1m]\u001b[0m,\n",
       "    \u001b[33msearch_result_items\u001b[0m=\u001b[1m[\u001b[0m\n",
       "        \u001b[1;35mSearchResultItem\u001b[0m\u001b[1m(\u001b[0m\n",
       "            \u001b[33mdoc_hash\u001b[0m=\u001b[32m'b30bc667a324ae111d025526563b674a8d3fd869bc07c8fd204aa95b05d41f0c'\u001b[0m,\n",
       "            \u001b[33mpath_in_doc\u001b[0m=\u001b[32m'main-text.17'\u001b[0m,\n",
       "            \u001b[33mpassage\u001b[0m=\u001b[32m'Laboratories\\nIBM currently has 19 research facilities spread across 12 laboratories on six \u001b[0m\n",
       "\u001b[32mcontinents: \u001b[0m\u001b[32m[\u001b[0m\u001b[32m32\u001b[0m\u001b[32m]\u001b[0m\u001b[32m\\nAfrica \u001b[0m\u001b[32m(\u001b[0m\u001b[32mNairobi, Kenya, and Johannesburg, South Africa\u001b[0m\u001b[32m)\u001b[0m\u001b[32m\\nAlmaden \u001b[0m\u001b[32m(\u001b[0m\u001b[32mSan Jose\u001b[0m\u001b[32m)\u001b[0m\u001b[32m\\nAustralia \u001b[0m\n",
       "\u001b[32m(\u001b[0m\u001b[32mMelbourne\u001b[0m\u001b[32m)\u001b[0m\u001b[32m\\nBrazil \u001b[0m\u001b[32m(\u001b[0m\u001b[32mSao Paulo and Rio de Janeiro\u001b[0m\u001b[32m)\u001b[0m\u001b[32m\\nCambridge-IBM Research and MIT-IBM Watson AI Lab \u001b[0m\u001b[32m(\u001b[0m\u001b[32mCambridge, \u001b[0m\n",
       "\u001b[32mUS\u001b[0m\u001b[32m)\u001b[0m\u001b[32m\\nChina \u001b[0m\u001b[32m(\u001b[0m\u001b[32mBeijing\u001b[0m\u001b[32m)\u001b[0m\u001b[32m\\nIsrael \u001b[0m\u001b[32m(\u001b[0m\u001b[32mHaifa\u001b[0m\u001b[32m)\u001b[0m\u001b[32m\\nIreland \u001b[0m\u001b[32m(\u001b[0m\u001b[32mDublin\u001b[0m\u001b[32m)\u001b[0m\u001b[32m\\nIndia \u001b[0m\u001b[32m(\u001b[0m\u001b[32mDelhi and Bengaluru\u001b[0m\u001b[32m)\u001b[0m\u001b[32m\\nJapan \u001b[0m\u001b[32m(\u001b[0m\u001b[32mTokyo and \u001b[0m\n",
       "\u001b[32mShin-kawasaki\u001b[0m\u001b[32m)\u001b[0m\u001b[32m\\nSwitzerland \u001b[0m\u001b[32m(\u001b[0m\u001b[32mZurich\u001b[0m\u001b[32m)\u001b[0m\u001b[32m\\nIBM Thomas J. Watson Research Center \u001b[0m\u001b[32m(\u001b[0m\u001b[32mYorktown Heights and Albany\u001b[0m\u001b[32m)\u001b[0m\u001b[32m'\u001b[0m,\n",
       "            \u001b[33msource_is_text\u001b[0m=\u001b[3;92mTrue\u001b[0m\n",
       "        \u001b[1m)\u001b[0m,\n",
       "        \u001b[1;35mSearchResultItem\u001b[0m\u001b[1m(\u001b[0m\n",
       "            \u001b[33mdoc_hash\u001b[0m=\u001b[32m'b30bc667a324ae111d025526563b674a8d3fd869bc07c8fd204aa95b05d41f0c'\u001b[0m,\n",
       "            \u001b[33mpath_in_doc\u001b[0m=\u001b[32m'main-text.74'\u001b[0m,\n",
       "            \u001b[33mpassage\u001b[0m=\u001b[32m'Switzerland\\nThe research projects pursued at the IBM Zurich lab are organized into four \u001b[0m\n",
       "\u001b[32mscientific and technical departments: Science & Technology, Cloud and AI Systems Research, Cognitive Computing & \u001b[0m\n",
       "\u001b[32mIndustry Solutions and Security Research. The lab is currently managed by Alessandro Curioni.'\u001b[0m,\n",
       "            \u001b[33msource_is_text\u001b[0m=\u001b[3;92mTrue\u001b[0m\n",
       "        \u001b[1m)\u001b[0m,\n",
       "        \u001b[1;35mSearchResultItem\u001b[0m\u001b[1m(\u001b[0m\n",
       "            \u001b[33mdoc_hash\u001b[0m=\u001b[32m'b30bc667a324ae111d025526563b674a8d3fd869bc07c8fd204aa95b05d41f0c'\u001b[0m,\n",
       "            \u001b[33mpath_in_doc\u001b[0m=\u001b[32m'main-text.30'\u001b[0m,\n",
       "            \u001b[33mpassage\u001b[0m=\u001b[32m'Laboratories\\nHistoric research centers for IBM also include IBM La Gaude \u001b[0m\u001b[32m(\u001b[0m\u001b[32mNice\u001b[0m\u001b[32m)\u001b[0m\u001b[32m, the \u001b[0m\n",
       "\u001b[32mCambridge Scientific Center, the IBM New York Scientific Center, 330 North Wabash \u001b[0m\u001b[32m(\u001b[0m\u001b[32mChicago\u001b[0m\u001b[32m)\u001b[0m\u001b[32m, IBM Austin Research \u001b[0m\n",
       "\u001b[32mLaboratory, and IBM Laboratory Vienna. \u001b[0m\u001b[32m[\u001b[0m\u001b[32m33\u001b[0m\u001b[32m]\u001b[0m\u001b[32m'\u001b[0m,\n",
       "            \u001b[33msource_is_text\u001b[0m=\u001b[3;92mTrue\u001b[0m\n",
       "        \u001b[1m)\u001b[0m\n",
       "    \u001b[1m]\u001b[0m\n",
       "\u001b[1m)\u001b[0m\n"
      ]
     },
     "metadata": {},
     "output_type": "display_data"
    }
   ],
   "source": [
    "question = \"How many research labs does IBM have?\"\n",
    "\n",
    "# submit natural-language query on document\n",
    "question_query = DocumentRAGQuery(\n",
    "    question=question,\n",
    "    project=PROJ_KEY,\n",
    "    index_key=SEM_ON_IDX_KEY,\n",
    "    document_hash=SEM_ON_IDX_DOC_HASH,\n",
    "\n",
    "    ## optional retrieval params\n",
    "    retr_k=RETR_K,\n",
    "    # text_weight=TEXT_WEIGHT,\n",
    "    rerank=RERANK,\n",
    "\n",
    "    ## optional generation params\n",
    "    # model_id=\"ibm-mistralai/mixtral-8x7b-instruct-v01-q\",\n",
    "    # gen_params={\"random_seed\": 42, \"max_new_tokens\": 1024},\n",
    "    # prompt_template=\"Answer the query based on the context.\\n\\nContext: {{ context }}\\n\\nQuery: {{ query }}\",\n",
    ")\n",
    "api_output = api.queries.run(question_query)\n",
    "rag_result = RAGResult.from_api_output(api_output, raise_on_error=RAISE)\n",
    "\n",
    "rich.print(rag_result)"
   ]
  },
  {
   "cell_type": "code",
   "execution_count": 19,
   "metadata": {},
   "outputs": [
    {
     "data": {
      "text/markdown": [
       "The provenance of the answer can be inspected on the [source document](https://sds.app.accelerate.science/projects/b09ae7561a01dc7c4b0fd21a43bfd93d140766d1/library/private/b4edbe66a8b8fe2ebed7e20d4d7b9335c48b45b0?search=JTdCJTIycHJpdmF0ZUNvbGxlY3Rpb24lMjIlM0ElMjJiNGVkYmU2NmE4YjhmZTJlYmVkN2UyMGQ0ZDdiOTMzNWM0OGI0NWIwJTIyJTJDJTIydHlwZSUyMiUzQSUyMkRvY3VtZW50JTIyJTJDJTIyZXhwcmVzc2lvbiUyMiUzQSUyMmZpbGUtaW5mby5kb2N1bWVudC1oYXNoJTNBJTIwJTVDJTIyYjMwYmM2NjdhMzI0YWUxMTFkMDI1NTI2NTYzYjY3NGE4ZDNmZDg2OWJjMDdjOGZkMjA0YWE5NWIwNWQ0MWYwYyU1QyUyMiUyMiUyQyUyMmZpbHRlcnMlMjIlM0ElNUIlNUQlMkMlMjJzZWxlY3QlMjIlM0ElNUIlMjJfbmFtZSUyMiUyQyUyMmRlc2NyaXB0aW9uLmNvbGxlY3Rpb24lMjIlMkMlMjJwcm92JTIyJTJDJTIyZGVzY3JpcHRpb24udGl0bGUlMjIlMkMlMjJkZXNjcmlwdGlvbi5wdWJsaWNhdGlvbl9kYXRlJTIyJTJDJTIyZGVzY3JpcHRpb24udXJsX3JlZnMlMjIlNUQlMkMlMjJpdGVtSW5kZXglMjIlM0EwJTJDJTIycGFnZVNpemUlMjIlM0ExMCUyQyUyMnNlYXJjaEFmdGVySGlzdG9yeSUyMiUzQSU1QiU1RCUyQyUyMnZpZXdUeXBlJTIyJTNBJTIyc25pcHBldHMlMjIlMkMlMjJyZWNvcmRTZWxlY3Rpb24lMjIlM0ElN0IlMjJyZWNvcmQlMjIlM0ElN0IlMjJpZCUyMiUzQSUyMmIzMGJjNjY3YTMyNGFlMTExZDAyNTUyNjU2M2I2NzRhOGQzZmQ4NjliYzA3YzhmZDIwNGFhOTViMDVkNDFmMGMlMjIlN0QlMkMlMjJpdGVtSW5kZXglMjIlM0ExNyU3RCU3RA%3D%3D)."
      ],
      "text/plain": [
       "<IPython.core.display.Markdown object>"
      ]
     },
     "metadata": {},
     "output_type": "display_data"
    }
   ],
   "source": [
    "render_provenance_url(api=api, coords=coords, retr_item=rag_result.answers[0].grounding.items[0])"
   ]
  },
  {
   "cell_type": "markdown",
   "metadata": {},
   "source": [
    "### Semantic retrieval\n",
    "\n",
    "Besides RAG, which includes natural language generation, a user may only be interested in\n",
    "the semantic retrieval part.\n",
    "\n",
    "This can be obtained very similarly to RAG, as shown below:"
   ]
  },
  {
   "cell_type": "code",
   "execution_count": 11,
   "metadata": {},
   "outputs": [
    {
     "data": {
      "text/html": [
       "<pre style=\"white-space:pre;overflow-x:auto;line-height:normal;font-family:Menlo,'DejaVu Sans Mono',consolas,'Courier New',monospace\"><span style=\"color: #800080; text-decoration-color: #800080; font-weight: bold\">SearchResult</span><span style=\"font-weight: bold\">(</span>\n",
       "    <span style=\"color: #808000; text-decoration-color: #808000\">search_result_items</span>=<span style=\"font-weight: bold\">[</span>\n",
       "        <span style=\"color: #800080; text-decoration-color: #800080; font-weight: bold\">SearchResultItem</span><span style=\"font-weight: bold\">(</span>\n",
       "            <span style=\"color: #808000; text-decoration-color: #808000\">doc_hash</span>=<span style=\"color: #008000; text-decoration-color: #008000\">'b30bc667a324ae111d025526563b674a8d3fd869bc07c8fd204aa95b05d41f0c'</span>,\n",
       "            <span style=\"color: #808000; text-decoration-color: #808000\">path_in_doc</span>=<span style=\"color: #008000; text-decoration-color: #008000\">'main-text.71'</span>,\n",
       "            <span style=\"color: #808000; text-decoration-color: #808000\">passage</span>=<span style=\"color: #008000; text-decoration-color: #008000\">'Switzerland\\nIn 1956, IBM opened their first European research laboratory in Adliswil, </span>\n",
       "<span style=\"color: #008000; text-decoration-color: #008000\">Switzerland, near Zurich. The lab moved to its own campus in neighboring Rüschlikon in 1962. The Zurich lab is </span>\n",
       "<span style=\"color: #008000; text-decoration-color: #008000\">staffed by a multicultural and interdisciplinary team of a few hundred permanent research staff members, graduate </span>\n",
       "<span style=\"color: #008000; text-decoration-color: #008000\">students and post-doctoral fellows, representing about 45 nationalities. Collocated with the lab is a Client Center</span>\n",
       "<span style=\"color: #008000; text-decoration-color: #008000\">(formerly the Industry Solutions Lab), an executive briefing facility demonstrating technology prototypes and </span>\n",
       "<span style=\"color: #008000; text-decoration-color: #008000\">solutions.'</span>,\n",
       "            <span style=\"color: #808000; text-decoration-color: #808000\">source_is_text</span>=<span style=\"color: #00ff00; text-decoration-color: #00ff00; font-style: italic\">True</span>\n",
       "        <span style=\"font-weight: bold\">)</span>,\n",
       "        <span style=\"color: #800080; text-decoration-color: #800080; font-weight: bold\">SearchResultItem</span><span style=\"font-weight: bold\">(</span>\n",
       "            <span style=\"color: #808000; text-decoration-color: #808000\">doc_hash</span>=<span style=\"color: #008000; text-decoration-color: #008000\">'b30bc667a324ae111d025526563b674a8d3fd869bc07c8fd204aa95b05d41f0c'</span>,\n",
       "            <span style=\"color: #808000; text-decoration-color: #808000\">path_in_doc</span>=<span style=\"color: #008000; text-decoration-color: #008000\">'main-text.70'</span>,\n",
       "            <span style=\"color: #808000; text-decoration-color: #808000\">passage</span>=<span style=\"color: #008000; text-decoration-color: #008000\">'Switzerland\\nIBM Research-Zurich (previously called IBM Zurich Research Laboratory, ZRL) is </span>\n",
       "<span style=\"color: #008000; text-decoration-color: #008000\">the European branch of IBM Research. It was opened in 1956 and is located in Rüschlikon, near Zurich, </span>\n",
       "<span style=\"color: #008000; text-decoration-color: #008000\">Switzerland.'</span>,\n",
       "            <span style=\"color: #808000; text-decoration-color: #808000\">source_is_text</span>=<span style=\"color: #00ff00; text-decoration-color: #00ff00; font-style: italic\">True</span>\n",
       "        <span style=\"font-weight: bold\">)</span>,\n",
       "        <span style=\"color: #800080; text-decoration-color: #800080; font-weight: bold\">SearchResultItem</span><span style=\"font-weight: bold\">(</span>\n",
       "            <span style=\"color: #808000; text-decoration-color: #808000\">doc_hash</span>=<span style=\"color: #008000; text-decoration-color: #008000\">'b30bc667a324ae111d025526563b674a8d3fd869bc07c8fd204aa95b05d41f0c'</span>,\n",
       "            <span style=\"color: #808000; text-decoration-color: #808000\">path_in_doc</span>=<span style=\"color: #008000; text-decoration-color: #008000\">'main-text.8'</span>,\n",
       "            <span style=\"color: #808000; text-decoration-color: #808000\">passage</span>=<span style=\"color: #008000; text-decoration-color: #008000\">\"History\\nThe roots of today's IBM Research began with the 1945 opening of the Watson </span>\n",
       "<span style=\"color: #008000; text-decoration-color: #008000\">Scientific Computing Laboratory at Columbia University. $^{[4]}$ This was the first IBM laboratory devoted to pure </span>\n",
       "<span style=\"color: #008000; text-decoration-color: #008000\">science and later expanded into additional IBM Research locations in Westchester County, New York, starting in the </span>\n",
       "<span style=\"color: #008000; text-decoration-color: #008000\">1950s, $^{[5][6]}$ including the Thomas J. Watson Research Center in 1961. [5][6]\"</span>,\n",
       "            <span style=\"color: #808000; text-decoration-color: #808000\">source_is_text</span>=<span style=\"color: #00ff00; text-decoration-color: #00ff00; font-style: italic\">True</span>\n",
       "        <span style=\"font-weight: bold\">)</span>\n",
       "    <span style=\"font-weight: bold\">]</span>\n",
       "<span style=\"font-weight: bold\">)</span>\n",
       "</pre>\n"
      ],
      "text/plain": [
       "\u001b[1;35mSearchResult\u001b[0m\u001b[1m(\u001b[0m\n",
       "    \u001b[33msearch_result_items\u001b[0m=\u001b[1m[\u001b[0m\n",
       "        \u001b[1;35mSearchResultItem\u001b[0m\u001b[1m(\u001b[0m\n",
       "            \u001b[33mdoc_hash\u001b[0m=\u001b[32m'b30bc667a324ae111d025526563b674a8d3fd869bc07c8fd204aa95b05d41f0c'\u001b[0m,\n",
       "            \u001b[33mpath_in_doc\u001b[0m=\u001b[32m'main-text.71'\u001b[0m,\n",
       "            \u001b[33mpassage\u001b[0m=\u001b[32m'Switzerland\\nIn 1956, IBM opened their first European research laboratory in Adliswil, \u001b[0m\n",
       "\u001b[32mSwitzerland, near Zurich. The lab moved to its own campus in neighboring Rüschlikon in 1962. The Zurich lab is \u001b[0m\n",
       "\u001b[32mstaffed by a multicultural and interdisciplinary team of a few hundred permanent research staff members, graduate \u001b[0m\n",
       "\u001b[32mstudents and post-doctoral fellows, representing about 45 nationalities. Collocated with the lab is a Client Center\u001b[0m\n",
       "\u001b[32m(\u001b[0m\u001b[32mformerly the Industry Solutions Lab\u001b[0m\u001b[32m)\u001b[0m\u001b[32m, an executive briefing facility demonstrating technology prototypes and \u001b[0m\n",
       "\u001b[32msolutions.'\u001b[0m,\n",
       "            \u001b[33msource_is_text\u001b[0m=\u001b[3;92mTrue\u001b[0m\n",
       "        \u001b[1m)\u001b[0m,\n",
       "        \u001b[1;35mSearchResultItem\u001b[0m\u001b[1m(\u001b[0m\n",
       "            \u001b[33mdoc_hash\u001b[0m=\u001b[32m'b30bc667a324ae111d025526563b674a8d3fd869bc07c8fd204aa95b05d41f0c'\u001b[0m,\n",
       "            \u001b[33mpath_in_doc\u001b[0m=\u001b[32m'main-text.70'\u001b[0m,\n",
       "            \u001b[33mpassage\u001b[0m=\u001b[32m'Switzerland\\nIBM Research-Zurich \u001b[0m\u001b[32m(\u001b[0m\u001b[32mpreviously called IBM Zurich Research Laboratory, ZRL\u001b[0m\u001b[32m)\u001b[0m\u001b[32m is \u001b[0m\n",
       "\u001b[32mthe European branch of IBM Research. It was opened in 1956 and is located in Rüschlikon, near Zurich, \u001b[0m\n",
       "\u001b[32mSwitzerland.'\u001b[0m,\n",
       "            \u001b[33msource_is_text\u001b[0m=\u001b[3;92mTrue\u001b[0m\n",
       "        \u001b[1m)\u001b[0m,\n",
       "        \u001b[1;35mSearchResultItem\u001b[0m\u001b[1m(\u001b[0m\n",
       "            \u001b[33mdoc_hash\u001b[0m=\u001b[32m'b30bc667a324ae111d025526563b674a8d3fd869bc07c8fd204aa95b05d41f0c'\u001b[0m,\n",
       "            \u001b[33mpath_in_doc\u001b[0m=\u001b[32m'main-text.8'\u001b[0m,\n",
       "            \u001b[33mpassage\u001b[0m=\u001b[32m\"History\u001b[0m\u001b[32m\\nThe roots of today's IBM Research began with the 1945 opening of the Watson \u001b[0m\n",
       "\u001b[32mScientific Computing Laboratory at Columbia University. $^\u001b[0m\u001b[32m{\u001b[0m\u001b[32m[\u001b[0m\u001b[32m4\u001b[0m\u001b[32m]\u001b[0m\u001b[32m}\u001b[0m\u001b[32m$ This was the first IBM laboratory devoted to pure \u001b[0m\n",
       "\u001b[32mscience and later expanded into additional IBM Research locations in Westchester County, New York, starting in the \u001b[0m\n",
       "\u001b[32m1950s, $^\u001b[0m\u001b[32m{\u001b[0m\u001b[32m[\u001b[0m\u001b[32m5\u001b[0m\u001b[32m]\u001b[0m\u001b[32m[\u001b[0m\u001b[32m6\u001b[0m\u001b[32m]\u001b[0m\u001b[32m}\u001b[0m\u001b[32m$ including the Thomas J. Watson Research Center in 1961. \u001b[0m\u001b[32m[\u001b[0m\u001b[32m5\u001b[0m\u001b[32m]\u001b[0m\u001b[32m[\u001b[0m\u001b[32m6\u001b[0m\u001b[32m]\u001b[0m\u001b[32m\"\u001b[0m,\n",
       "            \u001b[33msource_is_text\u001b[0m=\u001b[3;92mTrue\u001b[0m\n",
       "        \u001b[1m)\u001b[0m\n",
       "    \u001b[1m]\u001b[0m\n",
       "\u001b[1m)\u001b[0m\n"
      ]
     },
     "metadata": {},
     "output_type": "display_data"
    }
   ],
   "source": [
    "question = \"Where was the first European IBM lab located?\"\n",
    "\n",
    "# submit natural-language query on document\n",
    "question_query = DocumentSemanticQuery(\n",
    "    question=question,\n",
    "    project=PROJ_KEY,\n",
    "    index_key=SEM_ON_IDX_KEY,\n",
    "    document_hash=SEM_ON_IDX_DOC_HASH,\n",
    "\n",
    "    ## optional params\n",
    "    retr_k=RETR_K,\n",
    "    # text_weight=TEXT_WEIGHT,\n",
    "    # rerank=RERANK,\n",
    ")\n",
    "api_output = api.queries.run(question_query)\n",
    "rag_result = SearchResult.from_api_output(api_output, raise_on_error=RAISE)\n",
    "\n",
    "rich.print(rag_result)"
   ]
  },
  {
   "cell_type": "markdown",
   "metadata": {},
   "source": [
    "## RAG on document not in semantically indexed collection"
   ]
  },
  {
   "cell_type": "markdown",
   "metadata": {},
   "source": [
    "### Ingestion"
   ]
  },
  {
   "cell_type": "markdown",
   "metadata": {},
   "source": [
    "In the cell below we show how to semantically index a single document:"
   ]
  },
  {
   "cell_type": "code",
   "execution_count": 12,
   "metadata": {},
   "outputs": [
    {
     "data": {
      "text/plain": [
       "{'ing_out': {}}"
      ]
     },
     "execution_count": 12,
     "metadata": {},
     "output_type": "execute_result"
    }
   ],
   "source": [
    "from deepsearch.cps.client.components.documents import SemIngestPrivateDataDocumentSource\n",
    "\n",
    "# prepare collection coordinates\n",
    "coords = ElasticProjectDataCollectionSource(\n",
    "    proj_key=PROJ_KEY,\n",
    "    index_key=SEM_OFF_IDX_KEY,\n",
    ")\n",
    "\n",
    "# launch the ingestion of the document for DocumentQA\n",
    "task = api.documents.semantic_ingest(\n",
    "    project=PROJ_KEY,\n",
    "    data_source=SemIngestPrivateDataDocumentSource(\n",
    "        source=coords,\n",
    "        document_hash=SEM_OFF_IDX_DOC_HASH,\n",
    "    ),\n",
    "    skip_ingested_docs=False,  # forcing re-indexing for the purpose of this example\n",
    ")\n",
    "\n",
    "# wait for the ingestion task to finish\n",
    "api.tasks.wait_for(task.proj_key, task.task_id)"
   ]
  },
  {
   "cell_type": "markdown",
   "metadata": {},
   "source": [
    "Once the document has been semantically ingested, we can run both RAG and semantic retrieval queries against it, as shown below."
   ]
  },
  {
   "cell_type": "markdown",
   "metadata": {},
   "source": [
    "### RAG"
   ]
  },
  {
   "cell_type": "code",
   "execution_count": 14,
   "metadata": {},
   "outputs": [
    {
     "data": {
      "text/html": [
       "<pre style=\"white-space:pre;overflow-x:auto;line-height:normal;font-family:Menlo,'DejaVu Sans Mono',consolas,'Courier New',monospace\"><span style=\"color: #800080; text-decoration-color: #800080; font-weight: bold\">RAGResult</span><span style=\"font-weight: bold\">(</span>\n",
       "    <span style=\"color: #808000; text-decoration-color: #808000\">answers</span>=<span style=\"font-weight: bold\">[</span>\n",
       "        <span style=\"color: #800080; text-decoration-color: #800080; font-weight: bold\">RAGAnswerItem</span><span style=\"font-weight: bold\">(</span>\n",
       "            <span style=\"color: #808000; text-decoration-color: #808000\">answer</span>=<span style=\"color: #008000; text-decoration-color: #008000\">'Magnavox created the first game console, the Odyssey.'</span>,\n",
       "            <span style=\"color: #808000; text-decoration-color: #808000\">grounding</span>=<span style=\"color: #800080; text-decoration-color: #800080; font-weight: bold\">RAGGroundingInfo</span><span style=\"font-weight: bold\">(</span>\n",
       "                <span style=\"color: #808000; text-decoration-color: #808000\">items</span>=<span style=\"font-weight: bold\">[</span>\n",
       "                    <span style=\"color: #800080; text-decoration-color: #800080; font-weight: bold\">SearchResultItem</span><span style=\"font-weight: bold\">(</span>\n",
       "                        <span style=\"color: #808000; text-decoration-color: #808000\">doc_hash</span>=<span style=\"color: #008000; text-decoration-color: #008000\">'029210df929c78e70d74e6f141a46d8326905ce58562f2081819c80c3921d5a3'</span>,\n",
       "                        <span style=\"color: #808000; text-decoration-color: #808000\">path_in_doc</span>=<span style=\"color: #008000; text-decoration-color: #008000\">'main-text.9'</span>,\n",
       "                        <span style=\"color: #808000; text-decoration-color: #808000\">passage</span>=<span style=\"color: #008000; text-decoration-color: #008000\">'Magnavox\\nIn 1972 Magnavox introduced the Odyssey, the first video game console. </span>\n",
       "<span style=\"color: #008000; text-decoration-color: #008000\">$^{[10]}$ In 1975, the Magnavox Company was acquired by Philips of the Netherlands to ensure nationwide </span>\n",
       "<span style=\"color: #008000; text-decoration-color: #008000\">distribution for their VLP (later renamed LaserVision) Videodisc technology, and all Philips consumer electronics </span>\n",
       "<span style=\"color: #008000; text-decoration-color: #008000\">in the US under the Norelco name began rebranding them under the Magnavox name; $^{[11]}$ Philips acquired the </span>\n",
       "<span style=\"color: #008000; text-decoration-color: #008000\">similar-sounding company Philco in 1981, and Philips was able to freely use the Philips name, alternating with the </span>\n",
       "<span style=\"color: #008000; text-decoration-color: #008000\">Magnavox name for some electronics, with the personal care business continuing to use the Norelco name.'</span>,\n",
       "                        <span style=\"color: #808000; text-decoration-color: #808000\">source_is_text</span>=<span style=\"color: #00ff00; text-decoration-color: #00ff00; font-style: italic\">True</span>\n",
       "                    <span style=\"font-weight: bold\">)</span>\n",
       "                <span style=\"font-weight: bold\">]</span>\n",
       "            <span style=\"font-weight: bold\">)</span>\n",
       "        <span style=\"font-weight: bold\">)</span>\n",
       "    <span style=\"font-weight: bold\">]</span>,\n",
       "    <span style=\"color: #808000; text-decoration-color: #808000\">search_result_items</span>=<span style=\"font-weight: bold\">[</span>\n",
       "        <span style=\"color: #800080; text-decoration-color: #800080; font-weight: bold\">SearchResultItem</span><span style=\"font-weight: bold\">(</span>\n",
       "            <span style=\"color: #808000; text-decoration-color: #808000\">doc_hash</span>=<span style=\"color: #008000; text-decoration-color: #008000\">'029210df929c78e70d74e6f141a46d8326905ce58562f2081819c80c3921d5a3'</span>,\n",
       "            <span style=\"color: #808000; text-decoration-color: #808000\">path_in_doc</span>=<span style=\"color: #008000; text-decoration-color: #008000\">'main-text.9'</span>,\n",
       "            <span style=\"color: #808000; text-decoration-color: #808000\">passage</span>=<span style=\"color: #008000; text-decoration-color: #008000\">'Magnavox\\nIn 1972 Magnavox introduced the Odyssey, the first video game console. $^{[10]}$ In </span>\n",
       "<span style=\"color: #008000; text-decoration-color: #008000\">1975, the Magnavox Company was acquired by Philips of the Netherlands to ensure nationwide distribution for their </span>\n",
       "<span style=\"color: #008000; text-decoration-color: #008000\">VLP (later renamed LaserVision) Videodisc technology, and all Philips consumer electronics in the US under the </span>\n",
       "<span style=\"color: #008000; text-decoration-color: #008000\">Norelco name began rebranding them under the Magnavox name; $^{[11]}$ Philips acquired the similar-sounding company</span>\n",
       "<span style=\"color: #008000; text-decoration-color: #008000\">Philco in 1981, and Philips was able to freely use the Philips name, alternating with the Magnavox name for some </span>\n",
       "<span style=\"color: #008000; text-decoration-color: #008000\">electronics, with the personal care business continuing to use the Norelco name.'</span>,\n",
       "            <span style=\"color: #808000; text-decoration-color: #808000\">source_is_text</span>=<span style=\"color: #00ff00; text-decoration-color: #00ff00; font-style: italic\">True</span>\n",
       "        <span style=\"font-weight: bold\">)</span>,\n",
       "        <span style=\"color: #800080; text-decoration-color: #800080; font-weight: bold\">SearchResultItem</span><span style=\"font-weight: bold\">(</span>\n",
       "            <span style=\"color: #808000; text-decoration-color: #808000\">doc_hash</span>=<span style=\"color: #008000; text-decoration-color: #008000\">'029210df929c78e70d74e6f141a46d8326905ce58562f2081819c80c3921d5a3'</span>,\n",
       "            <span style=\"color: #808000; text-decoration-color: #808000\">path_in_doc</span>=<span style=\"color: #008000; text-decoration-color: #008000\">'main-text.1'</span>,\n",
       "            <span style=\"color: #808000; text-decoration-color: #808000\">passage</span>=<span style=\"color: #008000; text-decoration-color: #008000\">\"Magnavox\\nMagnavox (Latin for 'great voice ', stylized as MAGNAVOX) is an American electronics</span>\n",
       "<span style=\"color: #008000; text-decoration-color: #008000\">company that since 1975 has been a subsidiary of the Dutch electronics corporation Philips. [1] The predecessor to </span>\n",
       "<span style=\"color: #008000; text-decoration-color: #008000\">Magnavox was founded in 1911 by Edwin Pridham and Peter L. Jensen, coinventors of the moving-coil loudspeaker at </span>\n",
       "<span style=\"color: #008000; text-decoration-color: #008000\">their lab in Napa, California, under United States Patent number 1,105,924 for telephone receivers. $^{[2]}$ Six </span>\n",
       "<span style=\"color: #008000; text-decoration-color: #008000\">decades later, Magnavox produced the Odyssey, the world's first home video game console.\"</span>,\n",
       "            <span style=\"color: #808000; text-decoration-color: #808000\">source_is_text</span>=<span style=\"color: #00ff00; text-decoration-color: #00ff00; font-style: italic\">True</span>\n",
       "        <span style=\"font-weight: bold\">)</span>,\n",
       "        <span style=\"color: #800080; text-decoration-color: #800080; font-weight: bold\">SearchResultItem</span><span style=\"font-weight: bold\">(</span>\n",
       "            <span style=\"color: #808000; text-decoration-color: #808000\">doc_hash</span>=<span style=\"color: #008000; text-decoration-color: #008000\">'029210df929c78e70d74e6f141a46d8326905ce58562f2081819c80c3921d5a3'</span>,\n",
       "            <span style=\"color: #808000; text-decoration-color: #808000\">path_in_doc</span>=<span style=\"color: #008000; text-decoration-color: #008000\">'main-text.6'</span>,\n",
       "            <span style=\"color: #808000; text-decoration-color: #808000\">passage</span>=<span style=\"color: #008000; text-decoration-color: #008000\">'Magnavox\\nIndustry, Subsidiary = Consumer electronics. Founded, Subsidiary = 1917 Napa, </span>\n",
       "<span style=\"color: #008000; text-decoration-color: #008000\">California, U.S.. Founder, Subsidiary = Edwin Pridham Peter L. Jensen. Headquarters, Subsidiary = Knoxville, </span>\n",
       "<span style=\"color: #008000; text-decoration-color: #008000\">Tennessee, U.S.. Products, Subsidiary = Odyssey and its successors TVs Speakers Blu-ray and DVD. Parent, Subsidiary</span>\n",
       "<span style=\"color: #008000; text-decoration-color: #008000\">= Batteries Philips'</span>,\n",
       "            <span style=\"color: #808000; text-decoration-color: #808000\">source_is_text</span>=<span style=\"color: #ff0000; text-decoration-color: #ff0000; font-style: italic\">False</span>\n",
       "        <span style=\"font-weight: bold\">)</span>,\n",
       "        <span style=\"color: #800080; text-decoration-color: #800080; font-weight: bold\">SearchResultItem</span><span style=\"font-weight: bold\">(</span>\n",
       "            <span style=\"color: #808000; text-decoration-color: #808000\">doc_hash</span>=<span style=\"color: #008000; text-decoration-color: #008000\">'029210df929c78e70d74e6f141a46d8326905ce58562f2081819c80c3921d5a3'</span>,\n",
       "            <span style=\"color: #808000; text-decoration-color: #808000\">path_in_doc</span>=<span style=\"color: #008000; text-decoration-color: #008000\">'main-text.12'</span>,\n",
       "            <span style=\"color: #808000; text-decoration-color: #808000\">passage</span>=<span style=\"color: #008000; text-decoration-color: #008000\">'Magnavox\\nDuring the late 1970s the company released the Odyssey², in Europe also known as </span>\n",
       "<span style=\"color: #008000; text-decoration-color: #008000\">Philips Videopac G7000.'</span>,\n",
       "            <span style=\"color: #808000; text-decoration-color: #808000\">source_is_text</span>=<span style=\"color: #00ff00; text-decoration-color: #00ff00; font-style: italic\">True</span>\n",
       "        <span style=\"font-weight: bold\">)</span>\n",
       "    <span style=\"font-weight: bold\">]</span>\n",
       "<span style=\"font-weight: bold\">)</span>\n",
       "</pre>\n"
      ],
      "text/plain": [
       "\u001b[1;35mRAGResult\u001b[0m\u001b[1m(\u001b[0m\n",
       "    \u001b[33manswers\u001b[0m=\u001b[1m[\u001b[0m\n",
       "        \u001b[1;35mRAGAnswerItem\u001b[0m\u001b[1m(\u001b[0m\n",
       "            \u001b[33manswer\u001b[0m=\u001b[32m'Magnavox created the first game console, the Odyssey.'\u001b[0m,\n",
       "            \u001b[33mgrounding\u001b[0m=\u001b[1;35mRAGGroundingInfo\u001b[0m\u001b[1m(\u001b[0m\n",
       "                \u001b[33mitems\u001b[0m=\u001b[1m[\u001b[0m\n",
       "                    \u001b[1;35mSearchResultItem\u001b[0m\u001b[1m(\u001b[0m\n",
       "                        \u001b[33mdoc_hash\u001b[0m=\u001b[32m'029210df929c78e70d74e6f141a46d8326905ce58562f2081819c80c3921d5a3'\u001b[0m,\n",
       "                        \u001b[33mpath_in_doc\u001b[0m=\u001b[32m'main-text.9'\u001b[0m,\n",
       "                        \u001b[33mpassage\u001b[0m=\u001b[32m'Magnavox\\nIn 1972 Magnavox introduced the Odyssey, the first video game console. \u001b[0m\n",
       "\u001b[32m$^\u001b[0m\u001b[32m{\u001b[0m\u001b[32m[\u001b[0m\u001b[32m10\u001b[0m\u001b[32m]\u001b[0m\u001b[32m}\u001b[0m\u001b[32m$ In 1975, the Magnavox Company was acquired by Philips of the Netherlands to ensure nationwide \u001b[0m\n",
       "\u001b[32mdistribution for their VLP \u001b[0m\u001b[32m(\u001b[0m\u001b[32mlater renamed LaserVision\u001b[0m\u001b[32m)\u001b[0m\u001b[32m Videodisc technology, and all Philips consumer electronics \u001b[0m\n",
       "\u001b[32min the US under the Norelco name began rebranding them under the Magnavox name; $^\u001b[0m\u001b[32m{\u001b[0m\u001b[32m[\u001b[0m\u001b[32m11\u001b[0m\u001b[32m]\u001b[0m\u001b[32m}\u001b[0m\u001b[32m$ Philips acquired the \u001b[0m\n",
       "\u001b[32msimilar-sounding company Philco in 1981, and Philips was able to freely use the Philips name, alternating with the \u001b[0m\n",
       "\u001b[32mMagnavox name for some electronics, with the personal care business continuing to use the Norelco name.'\u001b[0m,\n",
       "                        \u001b[33msource_is_text\u001b[0m=\u001b[3;92mTrue\u001b[0m\n",
       "                    \u001b[1m)\u001b[0m\n",
       "                \u001b[1m]\u001b[0m\n",
       "            \u001b[1m)\u001b[0m\n",
       "        \u001b[1m)\u001b[0m\n",
       "    \u001b[1m]\u001b[0m,\n",
       "    \u001b[33msearch_result_items\u001b[0m=\u001b[1m[\u001b[0m\n",
       "        \u001b[1;35mSearchResultItem\u001b[0m\u001b[1m(\u001b[0m\n",
       "            \u001b[33mdoc_hash\u001b[0m=\u001b[32m'029210df929c78e70d74e6f141a46d8326905ce58562f2081819c80c3921d5a3'\u001b[0m,\n",
       "            \u001b[33mpath_in_doc\u001b[0m=\u001b[32m'main-text.9'\u001b[0m,\n",
       "            \u001b[33mpassage\u001b[0m=\u001b[32m'Magnavox\\nIn 1972 Magnavox introduced the Odyssey, the first video game console. $^\u001b[0m\u001b[32m{\u001b[0m\u001b[32m[\u001b[0m\u001b[32m10\u001b[0m\u001b[32m]\u001b[0m\u001b[32m}\u001b[0m\u001b[32m$ In \u001b[0m\n",
       "\u001b[32m1975, the Magnavox Company was acquired by Philips of the Netherlands to ensure nationwide distribution for their \u001b[0m\n",
       "\u001b[32mVLP \u001b[0m\u001b[32m(\u001b[0m\u001b[32mlater renamed LaserVision\u001b[0m\u001b[32m)\u001b[0m\u001b[32m Videodisc technology, and all Philips consumer electronics in the US under the \u001b[0m\n",
       "\u001b[32mNorelco name began rebranding them under the Magnavox name; $^\u001b[0m\u001b[32m{\u001b[0m\u001b[32m[\u001b[0m\u001b[32m11\u001b[0m\u001b[32m]\u001b[0m\u001b[32m}\u001b[0m\u001b[32m$ Philips acquired the similar-sounding company\u001b[0m\n",
       "\u001b[32mPhilco in 1981, and Philips was able to freely use the Philips name, alternating with the Magnavox name for some \u001b[0m\n",
       "\u001b[32melectronics, with the personal care business continuing to use the Norelco name.'\u001b[0m,\n",
       "            \u001b[33msource_is_text\u001b[0m=\u001b[3;92mTrue\u001b[0m\n",
       "        \u001b[1m)\u001b[0m,\n",
       "        \u001b[1;35mSearchResultItem\u001b[0m\u001b[1m(\u001b[0m\n",
       "            \u001b[33mdoc_hash\u001b[0m=\u001b[32m'029210df929c78e70d74e6f141a46d8326905ce58562f2081819c80c3921d5a3'\u001b[0m,\n",
       "            \u001b[33mpath_in_doc\u001b[0m=\u001b[32m'main-text.1'\u001b[0m,\n",
       "            \u001b[33mpassage\u001b[0m=\u001b[32m\"Magnavox\u001b[0m\u001b[32m\\nMagnavox \u001b[0m\u001b[32m(\u001b[0m\u001b[32mLatin for 'great voice ', stylized as MAGNAVOX\u001b[0m\u001b[32m)\u001b[0m\u001b[32m is an American electronics\u001b[0m\n",
       "\u001b[32mcompany that since 1975 has been a subsidiary of the Dutch electronics corporation Philips. \u001b[0m\u001b[32m[\u001b[0m\u001b[32m1\u001b[0m\u001b[32m]\u001b[0m\u001b[32m The predecessor to \u001b[0m\n",
       "\u001b[32mMagnavox was founded in 1911 by Edwin Pridham and Peter L. Jensen, coinventors of the moving-coil loudspeaker at \u001b[0m\n",
       "\u001b[32mtheir lab in Napa, California, under United States Patent number 1,105,924 for telephone receivers. $^\u001b[0m\u001b[32m{\u001b[0m\u001b[32m[\u001b[0m\u001b[32m2\u001b[0m\u001b[32m]\u001b[0m\u001b[32m}\u001b[0m\u001b[32m$ Six \u001b[0m\n",
       "\u001b[32mdecades later, Magnavox produced the Odyssey, the world's first home video game console.\"\u001b[0m,\n",
       "            \u001b[33msource_is_text\u001b[0m=\u001b[3;92mTrue\u001b[0m\n",
       "        \u001b[1m)\u001b[0m,\n",
       "        \u001b[1;35mSearchResultItem\u001b[0m\u001b[1m(\u001b[0m\n",
       "            \u001b[33mdoc_hash\u001b[0m=\u001b[32m'029210df929c78e70d74e6f141a46d8326905ce58562f2081819c80c3921d5a3'\u001b[0m,\n",
       "            \u001b[33mpath_in_doc\u001b[0m=\u001b[32m'main-text.6'\u001b[0m,\n",
       "            \u001b[33mpassage\u001b[0m=\u001b[32m'Magnavox\\nIndustry, Subsidiary = Consumer electronics. Founded, Subsidiary = 1917 Napa, \u001b[0m\n",
       "\u001b[32mCalifornia, U.S.. Founder, Subsidiary = Edwin Pridham Peter L. Jensen. Headquarters, Subsidiary = Knoxville, \u001b[0m\n",
       "\u001b[32mTennessee, U.S.. Products, Subsidiary = Odyssey and its successors TVs Speakers Blu-ray and DVD. Parent, Subsidiary\u001b[0m\n",
       "\u001b[32m= Batteries Philips'\u001b[0m,\n",
       "            \u001b[33msource_is_text\u001b[0m=\u001b[3;91mFalse\u001b[0m\n",
       "        \u001b[1m)\u001b[0m,\n",
       "        \u001b[1;35mSearchResultItem\u001b[0m\u001b[1m(\u001b[0m\n",
       "            \u001b[33mdoc_hash\u001b[0m=\u001b[32m'029210df929c78e70d74e6f141a46d8326905ce58562f2081819c80c3921d5a3'\u001b[0m,\n",
       "            \u001b[33mpath_in_doc\u001b[0m=\u001b[32m'main-text.12'\u001b[0m,\n",
       "            \u001b[33mpassage\u001b[0m=\u001b[32m'Magnavox\\nDuring the late 1970s the company released the Odyssey², in Europe also known as \u001b[0m\n",
       "\u001b[32mPhilips Videopac G7000.'\u001b[0m,\n",
       "            \u001b[33msource_is_text\u001b[0m=\u001b[3;92mTrue\u001b[0m\n",
       "        \u001b[1m)\u001b[0m\n",
       "    \u001b[1m]\u001b[0m\n",
       "\u001b[1m)\u001b[0m\n"
      ]
     },
     "metadata": {},
     "output_type": "display_data"
    }
   ],
   "source": [
    "question = \"Which company created the first game console?\"\n",
    "\n",
    "# submit natural-language query on document\n",
    "question_query = DocumentRAGQuery(\n",
    "    question=question,\n",
    "    project=PROJ_KEY,\n",
    "    document_hash=SEM_OFF_IDX_DOC_HASH,\n",
    "\n",
    "    ## optional retrieval params\n",
    "    retr_k=4,\n",
    "    # text_weight=TEXT_WEIGHT,\n",
    "    rerank=RERANK,\n",
    "\n",
    "    ## optional generation params\n",
    "    # model_id=\"ibm-mistralai/mixtral-8x7b-instruct-v01-q\",\n",
    "    # gen_params={\"random_seed\": 42, \"max_new_tokens\": 1024},\n",
    "    # prompt_template=\"Answer the query based on the context.\\n\\nContext: {{ context }}\\n\\nQuery: {{ query }}\",\n",
    ")\n",
    "api_output = api.queries.run(question_query)\n",
    "rag_result = RAGResult.from_api_output(api_output, raise_on_error=RAISE)\n",
    "\n",
    "rich.print(rag_result)\n"
   ]
  },
  {
   "cell_type": "code",
   "execution_count": 15,
   "metadata": {},
   "outputs": [
    {
     "data": {
      "text/markdown": [
       "The provenance of the answer can be inspected on the [source document](https://sds.app.accelerate.science/projects/b09ae7561a01dc7c4b0fd21a43bfd93d140766d1/library/private/b4edbe66a8b8fe2ebed7e20d4d7b9335c48b45b0?search=JTdCJTIycHJpdmF0ZUNvbGxlY3Rpb24lMjIlM0ElMjJiNGVkYmU2NmE4YjhmZTJlYmVkN2UyMGQ0ZDdiOTMzNWM0OGI0NWIwJTIyJTJDJTIydHlwZSUyMiUzQSUyMkRvY3VtZW50JTIyJTJDJTIyZXhwcmVzc2lvbiUyMiUzQSUyMmZpbGUtaW5mby5kb2N1bWVudC1oYXNoJTNBJTIwJTVDJTIyMDI5MjEwZGY5MjljNzhlNzBkNzRlNmYxNDFhNDZkODMyNjkwNWNlNTg1NjJmMjA4MTgxOWM4MGMzOTIxZDVhMyU1QyUyMiUyMiUyQyUyMmZpbHRlcnMlMjIlM0ElNUIlNUQlMkMlMjJzZWxlY3QlMjIlM0ElNUIlMjJfbmFtZSUyMiUyQyUyMmRlc2NyaXB0aW9uLmNvbGxlY3Rpb24lMjIlMkMlMjJwcm92JTIyJTJDJTIyZGVzY3JpcHRpb24udGl0bGUlMjIlMkMlMjJkZXNjcmlwdGlvbi5wdWJsaWNhdGlvbl9kYXRlJTIyJTJDJTIyZGVzY3JpcHRpb24udXJsX3JlZnMlMjIlNUQlMkMlMjJpdGVtSW5kZXglMjIlM0EwJTJDJTIycGFnZVNpemUlMjIlM0ExMCUyQyUyMnNlYXJjaEFmdGVySGlzdG9yeSUyMiUzQSU1QiU1RCUyQyUyMnZpZXdUeXBlJTIyJTNBJTIyc25pcHBldHMlMjIlMkMlMjJyZWNvcmRTZWxlY3Rpb24lMjIlM0ElN0IlMjJyZWNvcmQlMjIlM0ElN0IlMjJpZCUyMiUzQSUyMjAyOTIxMGRmOTI5Yzc4ZTcwZDc0ZTZmMTQxYTQ2ZDgzMjY5MDVjZTU4NTYyZjIwODE4MTljODBjMzkyMWQ1YTMlMjIlN0QlMkMlMjJpdGVtSW5kZXglMjIlM0E5JTdEJTdE)."
      ],
      "text/plain": [
       "<IPython.core.display.Markdown object>"
      ]
     },
     "metadata": {},
     "output_type": "display_data"
    }
   ],
   "source": [
    "render_provenance_url(api=api, coords=coords, retr_item=rag_result.answers[0].grounding.items[0])"
   ]
  },
  {
   "cell_type": "markdown",
   "metadata": {},
   "source": [
    "### Semantic retrieval"
   ]
  },
  {
   "cell_type": "code",
   "execution_count": 16,
   "metadata": {},
   "outputs": [
    {
     "data": {
      "text/html": [
       "<pre style=\"white-space:pre;overflow-x:auto;line-height:normal;font-family:Menlo,'DejaVu Sans Mono',consolas,'Courier New',monospace\"><span style=\"color: #800080; text-decoration-color: #800080; font-weight: bold\">SearchResult</span><span style=\"font-weight: bold\">(</span>\n",
       "    <span style=\"color: #808000; text-decoration-color: #808000\">search_result_items</span>=<span style=\"font-weight: bold\">[</span>\n",
       "        <span style=\"color: #800080; text-decoration-color: #800080; font-weight: bold\">SearchResultItem</span><span style=\"font-weight: bold\">(</span>\n",
       "            <span style=\"color: #808000; text-decoration-color: #808000\">doc_hash</span>=<span style=\"color: #008000; text-decoration-color: #008000\">'029210df929c78e70d74e6f141a46d8326905ce58562f2081819c80c3921d5a3'</span>,\n",
       "            <span style=\"color: #808000; text-decoration-color: #808000\">path_in_doc</span>=<span style=\"color: #008000; text-decoration-color: #008000\">'main-text.9'</span>,\n",
       "            <span style=\"color: #808000; text-decoration-color: #808000\">passage</span>=<span style=\"color: #008000; text-decoration-color: #008000\">'Magnavox\\nIn 1972 Magnavox introduced the Odyssey, the first video game console. $^{[10]}$ In </span>\n",
       "<span style=\"color: #008000; text-decoration-color: #008000\">1975, the Magnavox Company was acquired by Philips of the Netherlands to ensure nationwide distribution for their </span>\n",
       "<span style=\"color: #008000; text-decoration-color: #008000\">VLP (later renamed LaserVision) Videodisc technology, and all Philips consumer electronics in the US under the </span>\n",
       "<span style=\"color: #008000; text-decoration-color: #008000\">Norelco name began rebranding them under the Magnavox name; $^{[11]}$ Philips acquired the similar-sounding company</span>\n",
       "<span style=\"color: #008000; text-decoration-color: #008000\">Philco in 1981, and Philips was able to freely use the Philips name, alternating with the Magnavox name for some </span>\n",
       "<span style=\"color: #008000; text-decoration-color: #008000\">electronics, with the personal care business continuing to use the Norelco name.'</span>,\n",
       "            <span style=\"color: #808000; text-decoration-color: #808000\">source_is_text</span>=<span style=\"color: #00ff00; text-decoration-color: #00ff00; font-style: italic\">True</span>\n",
       "        <span style=\"font-weight: bold\">)</span>,\n",
       "        <span style=\"color: #800080; text-decoration-color: #800080; font-weight: bold\">SearchResultItem</span><span style=\"font-weight: bold\">(</span>\n",
       "            <span style=\"color: #808000; text-decoration-color: #808000\">doc_hash</span>=<span style=\"color: #008000; text-decoration-color: #008000\">'029210df929c78e70d74e6f141a46d8326905ce58562f2081819c80c3921d5a3'</span>,\n",
       "            <span style=\"color: #808000; text-decoration-color: #808000\">path_in_doc</span>=<span style=\"color: #008000; text-decoration-color: #008000\">'main-text.1'</span>,\n",
       "            <span style=\"color: #808000; text-decoration-color: #808000\">passage</span>=<span style=\"color: #008000; text-decoration-color: #008000\">\"Magnavox\\nMagnavox (Latin for 'great voice ', stylized as MAGNAVOX) is an American electronics</span>\n",
       "<span style=\"color: #008000; text-decoration-color: #008000\">company that since 1975 has been a subsidiary of the Dutch electronics corporation Philips. [1] The predecessor to </span>\n",
       "<span style=\"color: #008000; text-decoration-color: #008000\">Magnavox was founded in 1911 by Edwin Pridham and Peter L. Jensen, coinventors of the moving-coil loudspeaker at </span>\n",
       "<span style=\"color: #008000; text-decoration-color: #008000\">their lab in Napa, California, under United States Patent number 1,105,924 for telephone receivers. $^{[2]}$ Six </span>\n",
       "<span style=\"color: #008000; text-decoration-color: #008000\">decades later, Magnavox produced the Odyssey, the world's first home video game console.\"</span>,\n",
       "            <span style=\"color: #808000; text-decoration-color: #808000\">source_is_text</span>=<span style=\"color: #00ff00; text-decoration-color: #00ff00; font-style: italic\">True</span>\n",
       "        <span style=\"font-weight: bold\">)</span>,\n",
       "        <span style=\"color: #800080; text-decoration-color: #800080; font-weight: bold\">SearchResultItem</span><span style=\"font-weight: bold\">(</span>\n",
       "            <span style=\"color: #808000; text-decoration-color: #808000\">doc_hash</span>=<span style=\"color: #008000; text-decoration-color: #008000\">'029210df929c78e70d74e6f141a46d8326905ce58562f2081819c80c3921d5a3'</span>,\n",
       "            <span style=\"color: #808000; text-decoration-color: #808000\">path_in_doc</span>=<span style=\"color: #008000; text-decoration-color: #008000\">'main-text.6'</span>,\n",
       "            <span style=\"color: #808000; text-decoration-color: #808000\">passage</span>=<span style=\"color: #008000; text-decoration-color: #008000\">'Magnavox\\nIndustry, Subsidiary = Consumer electronics. Founded, Subsidiary = 1917 Napa, </span>\n",
       "<span style=\"color: #008000; text-decoration-color: #008000\">California, U.S.. Founder, Subsidiary = Edwin Pridham Peter L. Jensen. Headquarters, Subsidiary = Knoxville, </span>\n",
       "<span style=\"color: #008000; text-decoration-color: #008000\">Tennessee, U.S.. Products, Subsidiary = Odyssey and its successors TVs Speakers Blu-ray and DVD. Parent, Subsidiary</span>\n",
       "<span style=\"color: #008000; text-decoration-color: #008000\">= Batteries Philips'</span>,\n",
       "            <span style=\"color: #808000; text-decoration-color: #808000\">source_is_text</span>=<span style=\"color: #ff0000; text-decoration-color: #ff0000; font-style: italic\">False</span>\n",
       "        <span style=\"font-weight: bold\">)</span>,\n",
       "        <span style=\"color: #800080; text-decoration-color: #800080; font-weight: bold\">SearchResultItem</span><span style=\"font-weight: bold\">(</span>\n",
       "            <span style=\"color: #808000; text-decoration-color: #808000\">doc_hash</span>=<span style=\"color: #008000; text-decoration-color: #008000\">'029210df929c78e70d74e6f141a46d8326905ce58562f2081819c80c3921d5a3'</span>,\n",
       "            <span style=\"color: #808000; text-decoration-color: #808000\">path_in_doc</span>=<span style=\"color: #008000; text-decoration-color: #008000\">'main-text.12'</span>,\n",
       "            <span style=\"color: #808000; text-decoration-color: #808000\">passage</span>=<span style=\"color: #008000; text-decoration-color: #008000\">'Magnavox\\nDuring the late 1970s the company released the Odyssey², in Europe also known as </span>\n",
       "<span style=\"color: #008000; text-decoration-color: #008000\">Philips Videopac G7000.'</span>,\n",
       "            <span style=\"color: #808000; text-decoration-color: #808000\">source_is_text</span>=<span style=\"color: #00ff00; text-decoration-color: #00ff00; font-style: italic\">True</span>\n",
       "        <span style=\"font-weight: bold\">)</span>\n",
       "    <span style=\"font-weight: bold\">]</span>\n",
       "<span style=\"font-weight: bold\">)</span>\n",
       "</pre>\n"
      ],
      "text/plain": [
       "\u001b[1;35mSearchResult\u001b[0m\u001b[1m(\u001b[0m\n",
       "    \u001b[33msearch_result_items\u001b[0m=\u001b[1m[\u001b[0m\n",
       "        \u001b[1;35mSearchResultItem\u001b[0m\u001b[1m(\u001b[0m\n",
       "            \u001b[33mdoc_hash\u001b[0m=\u001b[32m'029210df929c78e70d74e6f141a46d8326905ce58562f2081819c80c3921d5a3'\u001b[0m,\n",
       "            \u001b[33mpath_in_doc\u001b[0m=\u001b[32m'main-text.9'\u001b[0m,\n",
       "            \u001b[33mpassage\u001b[0m=\u001b[32m'Magnavox\\nIn 1972 Magnavox introduced the Odyssey, the first video game console. $^\u001b[0m\u001b[32m{\u001b[0m\u001b[32m[\u001b[0m\u001b[32m10\u001b[0m\u001b[32m]\u001b[0m\u001b[32m}\u001b[0m\u001b[32m$ In \u001b[0m\n",
       "\u001b[32m1975, the Magnavox Company was acquired by Philips of the Netherlands to ensure nationwide distribution for their \u001b[0m\n",
       "\u001b[32mVLP \u001b[0m\u001b[32m(\u001b[0m\u001b[32mlater renamed LaserVision\u001b[0m\u001b[32m)\u001b[0m\u001b[32m Videodisc technology, and all Philips consumer electronics in the US under the \u001b[0m\n",
       "\u001b[32mNorelco name began rebranding them under the Magnavox name; $^\u001b[0m\u001b[32m{\u001b[0m\u001b[32m[\u001b[0m\u001b[32m11\u001b[0m\u001b[32m]\u001b[0m\u001b[32m}\u001b[0m\u001b[32m$ Philips acquired the similar-sounding company\u001b[0m\n",
       "\u001b[32mPhilco in 1981, and Philips was able to freely use the Philips name, alternating with the Magnavox name for some \u001b[0m\n",
       "\u001b[32melectronics, with the personal care business continuing to use the Norelco name.'\u001b[0m,\n",
       "            \u001b[33msource_is_text\u001b[0m=\u001b[3;92mTrue\u001b[0m\n",
       "        \u001b[1m)\u001b[0m,\n",
       "        \u001b[1;35mSearchResultItem\u001b[0m\u001b[1m(\u001b[0m\n",
       "            \u001b[33mdoc_hash\u001b[0m=\u001b[32m'029210df929c78e70d74e6f141a46d8326905ce58562f2081819c80c3921d5a3'\u001b[0m,\n",
       "            \u001b[33mpath_in_doc\u001b[0m=\u001b[32m'main-text.1'\u001b[0m,\n",
       "            \u001b[33mpassage\u001b[0m=\u001b[32m\"Magnavox\u001b[0m\u001b[32m\\nMagnavox \u001b[0m\u001b[32m(\u001b[0m\u001b[32mLatin for 'great voice ', stylized as MAGNAVOX\u001b[0m\u001b[32m)\u001b[0m\u001b[32m is an American electronics\u001b[0m\n",
       "\u001b[32mcompany that since 1975 has been a subsidiary of the Dutch electronics corporation Philips. \u001b[0m\u001b[32m[\u001b[0m\u001b[32m1\u001b[0m\u001b[32m]\u001b[0m\u001b[32m The predecessor to \u001b[0m\n",
       "\u001b[32mMagnavox was founded in 1911 by Edwin Pridham and Peter L. Jensen, coinventors of the moving-coil loudspeaker at \u001b[0m\n",
       "\u001b[32mtheir lab in Napa, California, under United States Patent number 1,105,924 for telephone receivers. $^\u001b[0m\u001b[32m{\u001b[0m\u001b[32m[\u001b[0m\u001b[32m2\u001b[0m\u001b[32m]\u001b[0m\u001b[32m}\u001b[0m\u001b[32m$ Six \u001b[0m\n",
       "\u001b[32mdecades later, Magnavox produced the Odyssey, the world's first home video game console.\"\u001b[0m,\n",
       "            \u001b[33msource_is_text\u001b[0m=\u001b[3;92mTrue\u001b[0m\n",
       "        \u001b[1m)\u001b[0m,\n",
       "        \u001b[1;35mSearchResultItem\u001b[0m\u001b[1m(\u001b[0m\n",
       "            \u001b[33mdoc_hash\u001b[0m=\u001b[32m'029210df929c78e70d74e6f141a46d8326905ce58562f2081819c80c3921d5a3'\u001b[0m,\n",
       "            \u001b[33mpath_in_doc\u001b[0m=\u001b[32m'main-text.6'\u001b[0m,\n",
       "            \u001b[33mpassage\u001b[0m=\u001b[32m'Magnavox\\nIndustry, Subsidiary = Consumer electronics. Founded, Subsidiary = 1917 Napa, \u001b[0m\n",
       "\u001b[32mCalifornia, U.S.. Founder, Subsidiary = Edwin Pridham Peter L. Jensen. Headquarters, Subsidiary = Knoxville, \u001b[0m\n",
       "\u001b[32mTennessee, U.S.. Products, Subsidiary = Odyssey and its successors TVs Speakers Blu-ray and DVD. Parent, Subsidiary\u001b[0m\n",
       "\u001b[32m= Batteries Philips'\u001b[0m,\n",
       "            \u001b[33msource_is_text\u001b[0m=\u001b[3;91mFalse\u001b[0m\n",
       "        \u001b[1m)\u001b[0m,\n",
       "        \u001b[1;35mSearchResultItem\u001b[0m\u001b[1m(\u001b[0m\n",
       "            \u001b[33mdoc_hash\u001b[0m=\u001b[32m'029210df929c78e70d74e6f141a46d8326905ce58562f2081819c80c3921d5a3'\u001b[0m,\n",
       "            \u001b[33mpath_in_doc\u001b[0m=\u001b[32m'main-text.12'\u001b[0m,\n",
       "            \u001b[33mpassage\u001b[0m=\u001b[32m'Magnavox\\nDuring the late 1970s the company released the Odyssey², in Europe also known as \u001b[0m\n",
       "\u001b[32mPhilips Videopac G7000.'\u001b[0m,\n",
       "            \u001b[33msource_is_text\u001b[0m=\u001b[3;92mTrue\u001b[0m\n",
       "        \u001b[1m)\u001b[0m\n",
       "    \u001b[1m]\u001b[0m\n",
       "\u001b[1m)\u001b[0m\n"
      ]
     },
     "metadata": {},
     "output_type": "display_data"
    }
   ],
   "source": [
    "question = \"Which company created the first game console?\"\n",
    "\n",
    "# submit natural-language query on document\n",
    "question_query = DocumentSemanticQuery(\n",
    "    question=question,\n",
    "    project=PROJ_KEY,\n",
    "    document_hash=SEM_OFF_IDX_DOC_HASH,\n",
    "\n",
    "    ## optional params\n",
    "    retr_k=4,\n",
    "    # text_weight=TEXT_WEIGHT,\n",
    "    rerank=RERANK,\n",
    ")\n",
    "api_output = api.queries.run(question_query)\n",
    "rag_result = SearchResult.from_api_output(api_output, raise_on_error=RAISE)\n",
    "\n",
    "rich.print(rag_result)"
   ]
  },
  {
   "cell_type": "code",
   "execution_count": null,
   "metadata": {},
   "outputs": [],
   "source": []
  }
 ],
 "metadata": {
  "kernelspec": {
   "display_name": "Python 3 (ipykernel)",
   "language": "python",
   "name": "python3"
  },
  "language_info": {
   "codemirror_mode": {
    "name": "ipython",
    "version": 3
   },
   "file_extension": ".py",
   "mimetype": "text/x-python",
   "name": "python",
   "nbconvert_exporter": "python",
   "pygments_lexer": "ipython3",
   "version": "3.10.4"
  }
 },
 "nbformat": 4,
 "nbformat_minor": 5
}
