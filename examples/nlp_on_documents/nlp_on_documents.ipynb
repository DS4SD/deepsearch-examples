{
 "cells": [
  {
   "cell_type": "markdown",
   "id": "37d96e78",
   "metadata": {},
   "source": [
    "# Document Conversion - Quick start"
   ]
  },
  {
   "cell_type": "markdown",
   "id": "4edb626f",
   "metadata": {},
   "source": [
    "## Getting started\n",
    "\n",
    "The [Deep Search Toolkit](https://ds4sd.github.io/deepsearch-toolkit/) allows document conversion with the following few lines of code. It's that simple! For more info or step-by-step guide:\n",
    "- Visit https://ds4sd.github.io/deepsearch-toolkit/guide/convert_doc/\n",
    "- Follow this example notebook"
   ]
  },
  {
   "cell_type": "markdown",
   "id": "a8f9c441",
   "metadata": {},
   "source": [
    "### Set notebook parameters"
   ]
  },
  {
   "cell_type": "code",
   "execution_count": 44,
   "id": "b01a4fd1",
   "metadata": {},
   "outputs": [
    {
     "name": "stdin",
     "output_type": "stream",
     "text": [
      "Project key:  1234567890abcdefghijklmnopqrstvwyz123456\n"
     ]
    }
   ],
   "source": [
    "from dsnotebooks.settings import ProjectNotebookSettings\n",
    "\n",
    "# notebook settings auto-loaded from .env / env vars\n",
    "notebook_settings = ProjectNotebookSettings()\n",
    "\n",
    "PROFILE_NAME = notebook_settings.profile  # the profile to use\n",
    "PROJ_KEY = notebook_settings.proj_key     # the project to use\n",
    "\n",
    "# default project_key = 1234567890abcdefghijklmnopqrstvwyz123456"
   ]
  },
  {
   "cell_type": "markdown",
   "id": "239dc0f1",
   "metadata": {},
   "source": [
    "### Import example dependencies"
   ]
  },
  {
   "cell_type": "code",
   "execution_count": 14,
   "id": "502cdef8",
   "metadata": {
    "ExecuteTime": {
     "end_time": "2022-08-02T12:14:25.377422Z",
     "start_time": "2022-08-02T12:14:25.152485Z"
    }
   },
   "outputs": [],
   "source": [
    "import os\n",
    "import json\n",
    "\n",
    "import pandas as pd\n",
    "\n",
    "import deepsearch as ds\n",
    "\n",
    "from pathlib import Path\n",
    "from zipfile import ZipFile\n",
    "\n",
    "from deepsearch.documents.core.export import export_to_markdown\n",
    "from IPython.display import display, Markdown, HTML, display_html"
   ]
  },
  {
   "cell_type": "markdown",
   "id": "e6e4dcda",
   "metadata": {},
   "source": [
    "### Connect to Deep Search"
   ]
  },
  {
   "cell_type": "code",
   "execution_count": 46,
   "id": "f44fbf08",
   "metadata": {},
   "outputs": [],
   "source": [
    "api = ds.CpsApi.from_env(profile_name=PROFILE_NAME)"
   ]
  },
  {
   "cell_type": "markdown",
   "id": "6f1200c5-1138-4491-bc33-3b2d5aabe949",
   "metadata": {},
   "source": [
    "## Convert Document"
   ]
  },
  {
   "cell_type": "code",
   "execution_count": 47,
   "id": "ec83eb0b",
   "metadata": {
    "ExecuteTime": {
     "end_time": "2022-08-02T12:14:49.216045Z",
     "start_time": "2022-08-02T12:14:25.380757Z"
    }
   },
   "outputs": [
    {
     "name": "stderr",
     "output_type": "stream",
     "text": [
      "Processing input:     : 100%|\u001b[38;2;15;98;254m██████████████████████████████\u001b[0m| 1/1 [00:00<00:00, 126.92it/s]\u001b[38;2;15;98;254m                                                                                                                                                           \u001b[0m\n",
      "Submitting input:     : 100%|\u001b[38;2;15;98;254m██████████████████████████████\u001b[0m| 1/1 [00:03<00:00,  3.65s/it]\u001b[38;2;15;98;254m                                                                                                                                                            \u001b[0m\n",
      "Converting input:     : 100%|\u001b[38;2;15;98;254m██████████████████████████████\u001b[0m| 1/1 [00:14<00:00, 14.24s/it]\u001b[38;2;15;98;254m                                                                                                                                                            \u001b[0m\n"
     ]
    },
    {
     "name": "stdout",
     "output_type": "stream",
     "text": [
      "{'Total documents': 1, 'Successfully converted documents': 1}\n"
     ]
    }
   ],
   "source": [
    "output_dir = Path(\"./converted_docs\")\n",
    "\n",
    "fname = \"20140197356.pdf\"\n",
    "\n",
    "documents = ds.convert_documents(\n",
    "    api=api,\n",
    "    proj_key=PROJ_KEY,\n",
    "    source_path=f\"../../data/samples/{fname}\",\n",
    "    progress_bar=True\n",
    ")           \n",
    "documents.download_all(result_dir=output_dir)\n",
    "info = documents.generate_report(result_dir=output_dir)\n",
    "print(info) "
   ]
  },
  {
   "cell_type": "code",
   "execution_count": 48,
   "id": "382c4869-cca9-43fc-8052-c0ab7e9c175d",
   "metadata": {},
   "outputs": [
    {
     "name": "stdout",
     "output_type": "stream",
     "text": [
      "writing converted_docs/20140197356.json\n",
      "writing converted_docs/20140197356.md\n"
     ]
    }
   ],
   "source": [
    "# Iterare output files and visualize the output\n",
    "for output_file in output_dir.rglob(\"json*.zip\"):\n",
    "    with ZipFile(output_file) as archive:\n",
    "        all_files = archive.namelist()\n",
    "        for name in all_files:\n",
    "            if not name.endswith(\".json\"):\n",
    "                continue\n",
    "            \n",
    "            #basename = name.rstrip('.json')\n",
    "            doc_json = json.loads(archive.read(name))\n",
    "            \n",
    "            ofile = output_dir / name\n",
    "            print(f\"writing {ofile}\")\n",
    "            with ofile.open(\"w\") as fw:\n",
    "                fw.write(json.dumps(doc_json, indent=2))\n",
    "                \n",
    "            doc_md = export_to_markdown(doc_json)\n",
    "\n",
    "            ofile = output_dir / name.replace(\".json\", \".md\")\n",
    "            print(f\"writing {ofile}\")\n",
    "            with ofile.open(\"w\") as fw:\n",
    "                fw.write(doc_md)\n",
    "\n",
    "            "
   ]
  },
  {
   "cell_type": "code",
   "execution_count": 49,
   "id": "b19f7678-b650-484b-a994-150d0c4ec3a2",
   "metadata": {},
   "outputs": [],
   "source": [
    "# display last document\n",
    "# display(Markdown(doc_md))"
   ]
  },
  {
   "cell_type": "markdown",
   "id": "6784c8a9-4b96-4385-a04e-40ddbf6c613f",
   "metadata": {},
   "source": [
    "## Analyse Document with NLP"
   ]
  },
  {
   "cell_type": "markdown",
   "id": "b574c77b-58a5-4259-b8e9-03ce7129c3bf",
   "metadata": {},
   "source": [
    "### term counting"
   ]
  },
  {
   "cell_type": "code",
   "execution_count": 50,
   "id": "1c995060-aee3-4b6c-ba8b-dce6288e44dd",
   "metadata": {},
   "outputs": [
    {
     "name": "stdout",
     "output_type": "stream",
     "text": [
      "                                    key  count\n",
      "0                                 METAL      8\n",
      "1                                COPPER      2\n",
      "2                                COBALT      0\n",
      "3                              TUNGSTEN     10\n",
      "4                            MOLYBDENUM      0\n",
      "5                             RUTHENIUM      0\n",
      "6                Self-assembly material      0\n",
      "7         Self-assembly molecular layer      0\n",
      "8                  surface modification      0\n",
      "9                             inhibitor      2\n",
      "10                  corrosion inhibitor      2\n",
      "11                           adsorption      0\n",
      "12                          selectivity      1\n",
      "13                       Anti-corrosion      0\n",
      "14                        contact angle      0\n",
      "15            Area selective deposition      0\n",
      "16  Advanced interconnect metallization      0\n",
      "17                  Integrated circuits      2\n",
      "18              Atomic layer deposition      0\n"
     ]
    }
   ],
   "source": [
    "ifile = \"./converted_docs/20140197356.json\"\n",
    "\n",
    "with open(ifile) as fr:\n",
    "    doc = json.load(fr)\n",
    "\n",
    "terms = [\"METAL\",\n",
    "         \"COPPER\",\n",
    "         \"COBALT\",\n",
    "         \"TUNGSTEN\",\n",
    "         \"MOLYBDENUM\",\n",
    "         \"RUTHENIUM\",\n",
    "         \"Self-assembly material\", \n",
    "         \"Self-assembly molecular layer\",\n",
    "         \"surface modification\", \n",
    "         \"inhibitor\", \n",
    "         \"corrosion inhibitor\", \n",
    "         \"adsorption\", \"selectivity\", \n",
    "         \"Anti-corrosion\", \n",
    "         \"contact angle\",\n",
    "         \"Area selective deposition\",\n",
    "         \"Advanced interconnect metallization\",\n",
    "         \"Integrated circuits\",\n",
    "         \"Atomic layer deposition\"]\n",
    "\n",
    "term_hist = [ {\"key\":term, \"count\":0} for term in terms]\n",
    "\n",
    "for i,item in enumerate(doc[\"main-text\"]):\n",
    "\n",
    "    if \"text\" not in item:\n",
    "        continue\n",
    "    \n",
    "    for j,term in enumerate(terms):\n",
    "        term_hist[j][\"count\"] += item[\"text\"].count(term.lower())\n",
    "\n",
    "df = pd.DataFrame(term_hist)\n",
    "print(df)"
   ]
  },
  {
   "cell_type": "markdown",
   "id": "996f3ff4-c444-499e-ae40-53f9833bb5ff",
   "metadata": {},
   "source": [
    "### term analysis"
   ]
  },
  {
   "cell_type": "code",
   "execution_count": 15,
   "id": "f0d12955-dced-4320-b625-225bcb6bcdce",
   "metadata": {},
   "outputs": [],
   "source": [
    "from deepsearch_glm.utils.load_pretrained_models import load_pretrained_nlp_models\n",
    "\n",
    "from deepsearch_glm.nlp_utils import (\n",
    "    extract_references_from_doc,\n",
    "    init_nlp_model,\n",
    "    list_nlp_model_configs,\n",
    ")\n",
    "\n",
    "from deepsearch_glm.glm_utils import (\n",
    "    create_glm_config_from_docs,\n",
    "    create_glm_dir,\n",
    "    create_glm_from_docs,\n",
    "    expand_terms,\n",
    "    load_glm,\n",
    "    read_edges_in_dataframe,\n",
    "    read_nodes_in_dataframe,\n",
    "    show_query_result,\n",
    ")\n",
    "\n",
    "from tabulate import tabulate\n",
    "\n",
    "models = load_pretrained_nlp_models()\n",
    "#print(f\"models: {models}\")"
   ]
  },
  {
   "cell_type": "code",
   "execution_count": 23,
   "id": "ed3612b4-bbd2-42d0-ba2d-f8f994565380",
   "metadata": {},
   "outputs": [
    {
     "name": "stdout",
     "output_type": "stream",
     "text": [
      "      type                                        name   subj_path\n",
      "18    term                               United States   #/texts/0\n",
      "21    term  Patent Application Publication MOEGGENBORG   #/texts/1\n",
      "26    term                CMP COMPOSITIONS AND METHODS   #/texts/2\n",
      "27    term                            CMP COMPOSITIONS   #/texts/2\n",
      "28    term                                     METHODS   #/texts/2\n",
      "...    ...                                         ...         ...\n",
      "2760  term                   organic or inorganic salt  #/texts/98\n",
      "2761  term                              inorganic salt  #/texts/98\n",
      "2765  term                                 composition  #/texts/99\n",
      "2766  term                                       claim  #/texts/99\n",
      "2768  term   salt additive comprises potassium sulfate  #/texts/99\n",
      "\n",
      "[1548 rows x 3 columns]\n"
     ]
    }
   ],
   "source": [
    "with open(ifile) as fr:\n",
    "    doc = json.load(fr)\n",
    "\n",
    "model = init_nlp_model(\"language;term\")\n",
    "\n",
    "for i,item in enumerate(doc[\"main-text\"]):\n",
    "\n",
    "    if \"text\" in item:\n",
    "        res = model.apply_on_text(item[\"text\"])\n",
    "        #print(res.keys())\n",
    "\n",
    "        #print(item[\"text\"])\n",
    "        #print(tabulate(res[\"instances\"][\"data\"], \n",
    "        #               headers=res[\"instances\"][\"headers\"]))\n",
    "\n",
    "    if i>10:\n",
    "        break\n",
    "\n",
    "\n",
    "res = model.apply_on_doc(doc)\n",
    "\n",
    "df = pd.DataFrame(res[\"instances\"][\"data\"], columns=res[\"instances\"][\"headers\"])\n",
    "\n",
    "terms = df[df[\"type\"]==\"term\"][[\"type\", \"name\", \"subj_path\"]]\n",
    "print(terms)"
   ]
  },
  {
   "cell_type": "code",
   "execution_count": 31,
   "id": "665335e2-4a10-44ca-af15-0e4b9f8d031e",
   "metadata": {},
   "outputs": [
    {
     "name": "stdout",
     "output_type": "stream",
     "text": [
      "<deepsearch_glm.andromeda_glm.glm_model object at 0x1235a7f30>\n"
     ]
    },
    {
     "name": "stderr",
     "output_type": "stream",
     "text": [
      "2024-02-20 12:55:01.725 (8965.383s) [          6E06DF]                utils.h:270   INFO| initialising models-expression: spm;term\n",
      "2024-02-20 12:55:01.725 (8965.383s) [          6E06DF]                utils.h:77    INFO| initialising model: SPM\n",
      "2024-02-20 12:55:01.749 (8965.407s) [          6E06DF]                utils.h:77    INFO| initialising model: TERM\n",
      "2024-02-20 12:55:01.749 (8965.407s) [          6E06DF]                utils.h:77    INFO| initialising model: LAPOS\n",
      "2024-02-20 12:55:03.354 (8967.012s) [          6E06DF]                utils.h:77    INFO| initialising model: LANGUAGE\n",
      "2024-02-20 12:55:03.453 (8967.111s) [          6E06DF]                utils.h:77    INFO| initialising model: SENTENCE\n",
      "2024-02-20 12:55:03.453 (8967.111s) [          6E06DF]                utils.h:77    INFO| initialising model: NUMVAL\n",
      "2024-02-20 12:55:03.453 (8967.111s) [          6E06DF]                utils.h:77    INFO| initialising model: CITE\n",
      "2024-02-20 12:55:03.453 (8967.111s) [          6E06DF]                utils.h:77    INFO| initialising model: LINK\n",
      "2024-02-20 12:55:03.453 (8967.111s) [          6E06DF]                utils.h:77    INFO| initialising model: NAME\n",
      "2024-02-20 12:55:03.463 (8967.121s) [          6E06DF]                utils.h:77    INFO| initialising model: QUOTE\n",
      "2024-02-20 12:55:03.463 (8967.121s) [          6E06DF]                utils.h:77    INFO| initialising model: PARENTHESIS\n",
      "2024-02-20 12:55:03.463 (8967.121s) [          6E06DF]                utils.h:77    INFO| initialising model: EXPRESSION\n",
      "2024-02-20 12:55:03.463 (8967.122s) [          6E06DF]                utils.h:77    INFO| initialising model: SENTENCE\n",
      "2024-02-20 12:55:03.463 (8967.122s) [          6E06DF]                utils.h:301   INFO|  [0] SPM\n",
      "2024-02-20 12:55:03.463 (8967.122s) [          6E06DF]                utils.h:301   INFO|  [1] LANGUAGE\n",
      "2024-02-20 12:55:03.463 (8967.122s) [          6E06DF]                utils.h:301   INFO|  [2] NUMVAL\n",
      "2024-02-20 12:55:03.463 (8967.122s) [          6E06DF]                utils.h:301   INFO|  [3] CITE\n",
      "2024-02-20 12:55:03.463 (8967.122s) [          6E06DF]                utils.h:301   INFO|  [4] LINK\n",
      "2024-02-20 12:55:03.463 (8967.122s) [          6E06DF]                utils.h:301   INFO|  [5] NAME\n",
      "2024-02-20 12:55:03.463 (8967.122s) [          6E06DF]                utils.h:301   INFO|  [6] QUOTE\n",
      "2024-02-20 12:55:03.463 (8967.122s) [          6E06DF]                utils.h:301   INFO|  [7] PARENTHESIS\n",
      "2024-02-20 12:55:03.463 (8967.122s) [          6E06DF]                utils.h:301   INFO|  [8] EXPRESSION\n",
      "2024-02-20 12:55:03.463 (8967.122s) [          6E06DF]                utils.h:301   INFO|  [9] SENTENCE\n",
      "2024-02-20 12:55:03.463 (8967.122s) [          6E06DF]                utils.h:301   INFO|  [10] LAPOS\n",
      "2024-02-20 12:55:03.463 (8967.122s) [          6E06DF]                utils.h:301   INFO|  [11] TERM\n",
      "2024-02-20 12:55:03.463 (8967.122s) [          6E06DF]                  glm.h:96    INFO| #-models: 12\n",
      "2024-02-20 12:55:03.464 (8967.122s) [          6E06DF]        base_producer.h:263   INFO| item: ./converted_docs/20140197356.json\n",
      "2024-02-20 12:55:03.464 (8967.122s) [          6E06DF]        base_producer.h:300   INFO| found 1 files to ingest!\n",
      "2024-02-20 12:55:03.464 (8967.122s) [          6E06DF]        base_producer.h:263   INFO| item: ./converted_docs/20140197356.json\n",
      "2024-02-20 12:55:03.464 (8967.122s) [          6E06DF]        base_producer.h:300   INFO| found 1 files to ingest!\n",
      "2024-02-20 12:55:03.464 (8967.122s) [          6E06DF]               create.h:150   INFO| initialise glm: \n",
      "2024-02-20 12:55:03.464 (8967.122s) [          6E06DF]               create.h:151   INFO|  -> reserve nodes: 10000000\n",
      "2024-02-20 12:55:03.464 (8967.122s) [          6E06DF]               create.h:154   INFO|  -> reserve edges: 100000000\n",
      "2024-02-20 12:55:03.493 (8967.151s) [          6E06DF]               create.h:175   INFO| start creating glm (#-threads: 4) ...\n",
      "2024-02-20 12:55:03.787 (8967.446s) [          6E06DF]                edges.h:132   INFO| show_bucket_distribution (bucket-size versus count): 32\n",
      "2024-02-20 12:55:03.787 (8967.446s) [          6E06DF]               create.h:219   INFO| launching 4 threads ...\n",
      "2024-02-20 12:55:05.734 (8969.392s) [          701072]             document.h:217   INFO| reading: ./converted_docs/20140197356.json\n",
      "2024-02-20 12:55:05.776 (8969.434s) [          701070]               logger.h:169   INFO| id, tot-text (loc-text), #-nodes, #-edges, #-token, #-terms: [#-nodes %, #-edges %, #-token %, #-terms %]\n",
      "2024-02-20 12:55:05.776 (8969.434s) [          701070]               logger.h:188   INFO|  1, 0.00e+00 (0.00e+00), 1.00e+01, 0.00e+00, 4.00e+00, 0.00e+00: [1.00e+02 %, 1.00e+02 %, 1.00e+02 %, 1.00e+02 %]\n",
      "2024-02-20 12:55:05.806 (8969.464s) [          70106F]               logger.h:188   INFO|  0, 0.00e+00 (0.00e+00), 1.00e+01, 0.00e+00, 4.00e+00, 0.00e+00: [0.00e+00 %, 0.00e+00 %, 0.00e+00 %, 0.00e+00 %]\n",
      "2024-02-20 12:55:05.807 (8969.465s) [          701071]               logger.h:188   INFO|  2, 0.00e+00 (0.00e+00), 1.00e+01, 0.00e+00, 4.00e+00, 0.00e+00: [0.00e+00 %, 0.00e+00 %, 0.00e+00 %, 0.00e+00 %]\n",
      "2024-02-20 12:55:06.192 (8969.850s) [          701072]               logger.h:188   INFO|  3, 1.00e+00 (1.00e+00), 3.76e+03, 3.47e+04, 1.20e+03, 7.69e+02: [3.75e+04 %, 3.47e+12 %, 2.98e+04 %, 7.69e+10 %]\n",
      "2024-02-20 12:55:06.202 (8969.860s) [          6E06DF]               create.h:258   INFO| total text read: 1\n",
      "2024-02-20 12:55:06.202 (8969.860s) [          6E06DF]               create.h:260   INFO|  final GLM:  #-nodes:     3758, #-edges:    34733\n",
      "2024-02-20 12:55:06.203 (8969.861s) [          6E06DF]                nodes.h:143   INFO| show_bucket_distribution (bucket-size versus count): 32\n",
      "2024-02-20 12:55:06.203 (8969.861s) [          6E06DF]                nodes.h:148   INFO| \t1: 3724\n",
      "2024-02-20 12:55:06.203 (8969.861s) [          6E06DF]                nodes.h:148   INFO| \t2: 17\n",
      "2024-02-20 12:55:06.208 (8969.866s) [          6E06DF]                edges.h:132   INFO| show_bucket_distribution (bucket-size versus count): 32\n",
      "2024-02-20 12:55:06.208 (8969.866s) [          6E06DF]                edges.h:137   INFO| \t1: 34373\n",
      "2024-02-20 12:55:06.208 (8969.866s) [          6E06DF]                edges.h:137   INFO| \t2: 177\n",
      "2024-02-20 12:55:06.208 (8969.866s) [          6E06DF]                edges.h:137   INFO| \t3: 2\n",
      "2024-02-20 12:55:06.789 (8970.447s) [          6E06DF]               create.h:165   INFO| finalise glm\n",
      "2024-02-20 12:55:06.789 (8970.447s) [          6E06DF]             singplur.h:50    INFO| keeping terms up to length: 2\n",
      "2024-02-20 12:55:06.790 (8970.448s) [          6E06DF]             singplur.h:131   INFO| add_singplur --> new nodes: 49\n",
      "2024-02-20 12:55:06.790 (8970.448s) [          6E06DF]                edges.h:325   INFO| sorting edge [         to-singular]:          170\n",
      "2024-02-20 12:55:06.790 (8970.448s) [          6E06DF]                edges.h:325   INFO| sorting edge [           to-plural]:          170\n",
      "2024-02-20 12:55:06.790 (8970.448s) [          6E06DF]              taxtree.h:52    INFO| add_taxupdn\n",
      "2024-02-20 12:55:06.793 (8970.452s) [          6E06DF]                nodes.h:329   INFO| sort\n",
      "2024-02-20 12:55:06.794 (8970.452s) [          6E06DF]                edges.h:375   INFO| sort\n",
      "2024-02-20 12:55:06.794 (8970.452s) [          6E06DF]                edges.h:325   INFO| sorting edge [                prev]:        10239\n",
      "2024-02-20 12:55:06.796 (8970.454s) [          6E06DF]                edges.h:325   INFO| sorting edge [                next]:        10304\n",
      "2024-02-20 12:55:06.798 (8970.456s) [          6E06DF]                edges.h:325   INFO| sorting edge [              tax-dn]:          800\n",
      "2024-02-20 12:55:06.798 (8970.456s) [          6E06DF]                edges.h:325   INFO| sorting edge [              tax-up]:         1294\n",
      "2024-02-20 12:55:06.798 (8970.456s) [          6E06DF]                edges.h:325   INFO| sorting edge [            to-token]:          362\n",
      "2024-02-20 12:55:06.798 (8970.456s) [          6E06DF]                edges.h:325   INFO| sorting edge [          from-token]:          362\n",
      "2024-02-20 12:55:06.798 (8970.456s) [          6E06DF]                edges.h:325   INFO| sorting edge [              to-pos]:         1339\n",
      "2024-02-20 12:55:06.798 (8970.456s) [          6E06DF]                edges.h:325   INFO| sorting edge [            from-pos]:         1339\n",
      "2024-02-20 12:55:06.798 (8970.457s) [          6E06DF]                edges.h:325   INFO| sorting edge [            to-label]:         1232\n",
      "2024-02-20 12:55:06.799 (8970.457s) [          6E06DF]                edges.h:325   INFO| sorting edge [          from-label]:         1232\n",
      "2024-02-20 12:55:06.799 (8970.457s) [          6E06DF]                edges.h:325   INFO| sorting edge [             to-root]:          832\n",
      "2024-02-20 12:55:06.799 (8970.457s) [          6E06DF]                edges.h:325   INFO| sorting edge [           from-root]:          849\n",
      "2024-02-20 12:55:06.799 (8970.457s) [          6E06DF]                edges.h:325   INFO| sorting edge [             to-sent]:         1378\n",
      "2024-02-20 12:55:06.799 (8970.457s) [          6E06DF]                edges.h:325   INFO| sorting edge [           from-sent]:         1378\n",
      "2024-02-20 12:55:06.799 (8970.458s) [          6E06DF]                edges.h:325   INFO| sorting edge [             to-text]:         1283\n",
      "2024-02-20 12:55:06.800 (8970.458s) [          6E06DF]                edges.h:325   INFO| sorting edge [           from-text]:         1283\n",
      "2024-02-20 12:55:06.800 (8970.458s) [          6E06DF]                edges.h:325   INFO| sorting edge [              to-doc]:          769\n",
      "2024-02-20 12:55:06.800 (8970.458s) [          6E06DF]                edges.h:325   INFO| sorting edge [            from-doc]:          769\n",
      "2024-02-20 12:55:06.800 (8970.458s) [          6E06DF]                nodes.h:329   INFO| sort\n",
      "2024-02-20 12:55:06.800 (8970.458s) [          6E06DF]                edges.h:375   INFO| sort\n",
      "2024-02-20 12:55:06.800 (8970.458s) [          6E06DF]             topology.h:482   INFO| computing topology ...\n",
      "2024-02-20 12:55:06.800 (8970.459s) [          6E06DF]             topology.h:499   INFO| computing nodes-topology ...\n",
      "2024-02-20 12:55:06.801 (8970.459s) [          6E06DF]             topology.h:531   INFO| computing edges-topology ...\n",
      "2024-02-20 12:55:06.802 (8970.460s) [          6E06DF]             topology.h:124   INFO| \n",
      "2024-02-20 12:55:06.802 (8970.460s) [          6E06DF]             topology.h:195   INFO| node table: \n",
      "| ----------- | ---------- | ------- | ------- | ------- | ------- | ------- | ------- | ------- | ------- | ------- | ------- | ------- | ------- | ------- | ------- | ------- | ------- | ------- | ------- | ------- | \n",
      "|      flavor |  node-name |   count |       0 |       1 |       2 |       4 |       8 |      16 |      32 |      64 |     128 |     256 |     512 |    1024 |    2048 |    4096 |    8192 |   16384 |   32768 |   65536 | \n",
      "| ----------- | ---------- | ------- | ------- | ------- | ------- | ------- | ------- | ------- | ------- | ------- | ------- | ------- | ------- | ------- | ------- | ------- | ------- | ------- | ------- | ------- | \n",
      "|           0 | subw_token |    1353 |       0 |       0 | 6.4e+02 | 3.5e+02 | 1.9e+02 | 9.2e+01 | 5.8e+01 | 2.2e+01 | 4.0e+00 |       0 |       0 |       0 |       0 |       0 |       0 |       0 |       0 |       0 | \n",
      "|           1 | word_token |    1196 | 4.0e+00 |       0 | 6.9e+02 | 2.5e+02 | 1.4e+02 | 6.6e+01 | 2.7e+01 | 1.5e+01 | 4.0e+00 |       0 |       0 |       0 |       0 |       0 |       0 |       0 |       0 |       0 | \n",
      "|           2 |     syntax |      35 |       0 |       0 | 3.0e+00 | 1.0e+00 | 1.0e+00 | 6.0e+00 | 4.0e+00 | 1.2e+01 | 8.0e+00 |       0 |       0 |       0 |       0 |       0 |       0 |       0 |       0 |       0 | \n",
      "|           4 |      label |       6 | 6.0e+00 |       0 |       0 |       0 |       0 |       0 |       0 |       0 |       0 |       0 |       0 |       0 |       0 |       0 |       0 |       0 |       0 |       0 | \n",
      "|           5 |   sublabel |       0 |       0 |       0 |       0 |       0 |       0 |       0 |       0 |       0 |       0 |       0 |       0 |       0 |       0 |       0 |       0 |       0 |       0 |       0 | \n",
      "|           8 |       cont |       0 |       0 |       0 |       0 |       0 |       0 |       0 |       0 |       0 |       0 |       0 |       0 |       0 |       0 |       0 |       0 |       0 |       0 |       0 | \n",
      "|           9 |       conn |       0 |       0 |       0 |       0 |       0 |       0 |       0 |       0 |       0 |       0 |       0 |       0 |       0 |       0 |       0 |       0 |       0 |       0 |       0 | \n",
      "|          10 |       term |     818 | 4.9e+01 |       0 | 5.9e+02 | 1.2e+02 | 4.3e+01 | 1.7e+01 | 3.0e+00 |       0 |       0 |       0 |       0 |       0 |       0 |       0 |       0 |       0 |       0 |       0 | \n",
      "|          11 |       verb |       0 |       0 |       0 |       0 |       0 |       0 |       0 |       0 |       0 |       0 |       0 |       0 |       0 |       0 |       0 |       0 |       0 |       0 |       0 | \n",
      "|          16 |   sentence |     238 |       0 |       0 | 2.3e+02 | 3.0e+00 | 3.0e+00 | 2.0e+00 | 1.0e+00 |       0 |       0 |       0 |       0 |       0 |       0 |       0 |       0 |       0 |       0 |       0 | \n",
      "|          32 |       text |     160 | 1.0e+02 |       0 | 6.0e+01 |       0 |       0 |       0 |       0 |       0 |       0 |       0 |       0 |       0 |       0 |       0 |       0 |       0 |       0 |       0 | \n",
      "|          48 |      table |       0 |       0 |       0 |       0 |       0 |       0 |       0 |       0 |       0 |       0 |       0 |       0 |       0 |       0 |       0 |       0 |       0 |       0 |       0 | \n",
      "|          64 |    section |       0 |       0 |       0 |       0 |       0 |       0 |       0 |       0 |       0 |       0 |       0 |       0 |       0 |       0 |       0 |       0 |       0 |       0 |       0 | \n",
      "|          65 |    chapter |       0 |       0 |       0 |       0 |       0 |       0 |       0 |       0 |       0 |       0 |       0 |       0 |       0 |       0 |       0 |       0 |       0 |       0 |       0 | \n",
      "|          96 |   document |       1 | 1.0e+00 |       0 |       0 |       0 |       0 |       0 |       0 |       0 |       0 |       0 |       0 |       0 |       0 |       0 |       0 |       0 |       0 |       0 | \n",
      "|          97 |       book |       0 |       0 |       0 |       0 |       0 |       0 |       0 |       0 |       0 |       0 |       0 |       0 |       0 |       0 |       0 |       0 |       0 |       0 |       0 | \n",
      "| ----------- | ---------- | ------- | ------- | ------- | ------- | ------- | ------- | ------- | ------- | ------- | ------- | ------- | ------- | ------- | ------- | ------- | ------- | ------- | ------- | ------- | \n",
      "| total (cnt) |            | 3.8e+03 | 1.6e+02 |       0 | 2.2e+03 | 7.2e+02 | 3.7e+02 | 1.8e+02 | 9.3e+01 | 4.9e+01 | 1.6e+01 |       0 |       0 |       0 |       0 |       0 |       0 |       0 |       0 |       0 | \n",
      "|   total (%) |            | 1.0e+00 | 4.2e-02 | 0.0e+00 | 5.8e-01 | 1.9e-01 | 9.8e-02 | 4.8e-02 | 2.4e-02 | 1.3e-02 | 4.2e-03 | 0.0e+00 | 0.0e+00 | 0.0e+00 | 0.0e+00 | 0.0e+00 | 0.0e+00 | 0.0e+00 | 0.0e+00 | 0.0e+00 | \n",
      "|   cumul (%) |            | 1.0e+00 | 4.2e-02 | 4.2e-02 | 6.2e-01 | 8.1e-01 | 9.1e-01 | 9.6e-01 | 9.8e-01 | 1.0e+00 | 1.0e+00 | 1.0e+00 | 1.0e+00 | 1.0e+00 | 1.0e+00 | 1.0e+00 | 1.0e+00 | 1.0e+00 | 1.0e+00 | 1.0e+00 | \n",
      "| ----------- | ---------- | ------- | ------- | ------- | ------- | ------- | ------- | ------- | ------- | ------- | ------- | ------- | ------- | ------- | ------- | ------- | ------- | ------- | ------- | ------- | \n",
      "\n",
      "2024-02-20 12:55:06.803 (8970.461s) [          6E06DF]             topology.h:268   INFO| edge table: \n",
      "| ----------- | ----------- | ------- | ------- | ------- | ------- | ------- | ------- | ------- | ------- | ------- | ------- | ------- | ------- | ------- | ------- | ------- | ------- | ------- | ------- | ------- | \n",
      "|      flavor |   edge-name |   count |       0 |       1 |       2 |       4 |       8 |      16 |      32 |      64 |     128 |     256 |     512 |    1024 |    2048 |    4096 |    8192 |   16384 |   32768 |   65536 | \n",
      "| ----------- | ----------- | ------- | ------- | ------- | ------- | ------- | ------- | ------- | ------- | ------- | ------- | ------- | ------- | ------- | ------- | ------- | ------- | ------- | ------- | ------- | \n",
      "|          -6 |      prev-6 |       0 |       0 |       0 |       0 |       0 |       0 |       0 |       0 |       0 |       0 |       0 |       0 |       0 |       0 |       0 |       0 |       0 |       0 |       0 | \n",
      "|          -5 |      prev-5 |       0 |       0 |       0 |       0 |       0 |       0 |       0 |       0 |       0 |       0 |       0 |       0 |       0 |       0 |       0 |       0 |       0 |       0 |       0 | \n",
      "|          -4 |      prev-4 |       0 |       0 |       0 |       0 |       0 |       0 |       0 |       0 |       0 |       0 |       0 |       0 |       0 |       0 |       0 |       0 |       0 |       0 |       0 | \n",
      "|          -3 |      prev-3 |       0 |       0 |       0 |       0 |       0 |       0 |       0 |       0 |       0 |       0 |       0 |       0 |       0 |       0 |       0 |       0 |       0 |       0 |       0 | \n",
      "|          -2 |      prev-2 |       0 |       0 |       0 |       0 |       0 |       0 |       0 |       0 |       0 |       0 |       0 |       0 |       0 |       0 |       0 |       0 |       0 |       0 |       0 | \n",
      "|          -1 |        prev | 1.0e+04 |       0 | 6.0e+03 | 2.1e+03 | 1.0e+03 | 5.7e+02 | 3.0e+02 | 1.4e+02 | 7.8e+01 | 2.7e+01 | 5.0e+00 | 5.0e+00 |       0 |       0 |       0 |       0 |       0 |       0 |       0 | \n",
      "|           1 |        next | 1.0e+04 |       0 | 6.0e+03 | 2.1e+03 | 1.0e+03 | 5.7e+02 | 3.1e+02 | 1.4e+02 | 8.1e+01 | 2.7e+01 | 5.0e+00 | 5.0e+00 |       0 |       0 |       0 |       0 |       0 |       0 |       0 | \n",
      "|           2 |      next-2 |       0 |       0 |       0 |       0 |       0 |       0 |       0 |       0 |       0 |       0 |       0 |       0 |       0 |       0 |       0 |       0 |       0 |       0 |       0 | \n",
      "|           3 |      next-3 |       0 |       0 |       0 |       0 |       0 |       0 |       0 |       0 |       0 |       0 |       0 |       0 |       0 |       0 |       0 |       0 |       0 |       0 |       0 | \n",
      "|           4 |      next-4 |       0 |       0 |       0 |       0 |       0 |       0 |       0 |       0 |       0 |       0 |       0 |       0 |       0 |       0 |       0 |       0 |       0 |       0 |       0 | \n",
      "|           5 |      next-5 |       0 |       0 |       0 |       0 |       0 |       0 |       0 |       0 |       0 |       0 |       0 |       0 |       0 |       0 |       0 |       0 |       0 |       0 |       0 | \n",
      "|           6 |      next-6 |       0 |       0 |       0 |       0 |       0 |       0 |       0 |       0 |       0 |       0 |       0 |       0 |       0 |       0 |       0 |       0 |       0 |       0 |       0 | \n",
      "|          32 |      tax-dn | 8.0e+02 | 6.7e+01 | 1.8e+02 | 4.1e+02 | 7.4e+01 | 3.7e+01 | 2.2e+01 | 6.0e+00 | 3.0e+00 |       0 |       0 |       0 |       0 |       0 |       0 |       0 |       0 |       0 |       0 | \n",
      "|          33 |      tax-up | 1.3e+03 | 6.7e+01 | 4.6e+02 | 4.9e+02 | 1.3e+02 | 7.7e+01 | 4.7e+01 | 1.6e+01 | 7.0e+00 |       0 |       0 |       0 |       0 |       0 |       0 |       0 |       0 |       0 |       0 | \n",
      "|          64 |    to-lower |       0 |       0 |       0 |       0 |       0 |       0 |       0 |       0 |       0 |       0 |       0 |       0 |       0 |       0 |       0 |       0 |       0 |       0 |       0 | \n",
      "|          65 |    to-upper |       0 |       0 |       0 |       0 |       0 |       0 |       0 |       0 |       0 |       0 |       0 |       0 |       0 |       0 |       0 |       0 |       0 |       0 |       0 | \n",
      "|          66 | to-singular | 1.7e+02 |       0 | 1.7e+02 |       0 |       0 |       0 |       0 |       0 |       0 |       0 |       0 |       0 |       0 |       0 |       0 |       0 |       0 |       0 |       0 | \n",
      "|          67 |   to-plural | 1.7e+02 |       0 | 1.7e+02 |       0 |       0 |       0 |       0 |       0 |       0 |       0 |       0 |       0 |       0 |       0 |       0 |       0 |       0 |       0 |       0 | \n",
      "|          96 |    to-token | 3.6e+02 |       0 | 2.2e+02 | 5.7e+01 | 4.0e+01 | 2.0e+01 | 1.4e+01 | 6.0e+00 |       0 |       0 |       0 |       0 |       0 |       0 |       0 |       0 |       0 |       0 |       0 | \n",
      "|          97 |  from-token | 3.6e+02 |       0 | 2.2e+02 | 5.7e+01 | 4.0e+01 | 2.0e+01 | 1.4e+01 | 6.0e+00 |       0 |       0 |       0 |       0 |       0 |       0 |       0 |       0 |       0 |       0 |       0 | \n",
      "|          98 |      to-pos | 1.3e+03 |       0 | 7.2e+02 | 2.0e+02 | 1.7e+02 | 1.1e+02 | 8.0e+01 | 3.3e+01 | 1.7e+01 | 7.0e+00 | 4.0e+00 | 3.0e+00 |       0 |       0 |       0 |       0 |       0 |       0 |       0 | \n",
      "|          99 |    from-pos | 1.3e+03 |       0 | 7.2e+02 | 2.0e+02 | 1.7e+02 | 1.1e+02 | 8.0e+01 | 3.3e+01 | 1.7e+01 | 7.0e+00 | 4.0e+00 | 3.0e+00 |       0 |       0 |       0 |       0 |       0 |       0 |       0 | \n",
      "|         100 |    to-label | 1.2e+03 |       0 | 7.3e+02 | 2.0e+02 | 1.4e+02 | 8.2e+01 | 5.2e+01 | 2.1e+01 | 1.0e+01 |       0 | 1.0e+00 |       0 |       0 |       0 |       0 |       0 |       0 |       0 |       0 | \n",
      "|         101 |  from-label | 1.2e+03 |       0 | 7.3e+02 | 2.0e+02 | 1.4e+02 | 8.2e+01 | 5.2e+01 | 2.1e+01 | 1.0e+01 |       0 | 1.0e+00 |       0 |       0 |       0 |       0 |       0 |       0 |       0 |       0 | \n",
      "|         102 |     to-root | 8.3e+02 | 7.0e+01 | 5.9e+02 | 9.0e+01 | 4.4e+01 | 2.8e+01 | 1.2e+01 |       0 |       0 |       0 |       0 |       0 |       0 |       0 |       0 |       0 |       0 |       0 |       0 | \n",
      "|         103 |   from-root | 8.5e+02 | 5.3e+01 | 4.1e+02 | 2.5e+02 | 7.2e+01 | 3.5e+01 | 2.1e+01 | 8.0e+00 | 1.0e+00 |       0 |       0 |       0 |       0 |       0 |       0 |       0 |       0 |       0 |       0 | \n",
      "|         128 |     to-sent | 1.4e+03 |       0 | 1.3e+03 | 6.7e+01 | 2.2e+01 | 3.0e+00 |       0 |       0 |       0 |       0 |       0 |       0 |       0 |       0 |       0 |       0 |       0 |       0 |       0 | \n",
      "|         129 |   from-sent | 1.4e+03 |       0 | 1.3e+03 | 6.7e+01 | 2.2e+01 | 3.0e+00 |       0 |       0 |       0 |       0 |       0 |       0 |       0 |       0 |       0 |       0 |       0 |       0 |       0 | \n",
      "|         130 |     to-text | 1.3e+03 |       0 | 1.1e+03 | 1.1e+02 | 2.9e+01 | 9.0e+00 |       0 |       0 |       0 |       0 |       0 |       0 |       0 |       0 |       0 |       0 |       0 |       0 |       0 | \n",
      "|         131 |   from-text | 1.3e+03 |       0 | 1.1e+03 | 1.1e+02 | 2.9e+01 | 9.0e+00 |       0 |       0 |       0 |       0 |       0 |       0 |       0 |       0 |       0 |       0 |       0 |       0 |       0 | \n",
      "|         132 |    to-table |       0 |       0 |       0 |       0 |       0 |       0 |       0 |       0 |       0 |       0 |       0 |       0 |       0 |       0 |       0 |       0 |       0 |       0 |       0 | \n",
      "|         133 |  from-table |       0 |       0 |       0 |       0 |       0 |       0 |       0 |       0 |       0 |       0 |       0 |       0 |       0 |       0 |       0 |       0 |       0 |       0 |       0 | \n",
      "|         134 |      to-doc | 7.7e+02 |       0 | 5.5e+02 | 1.0e+02 | 6.0e+01 | 3.0e+01 | 2.0e+01 | 6.0e+00 |       0 |       0 |       0 |       0 |       0 |       0 |       0 |       0 |       0 |       0 |       0 | \n",
      "|         135 |    from-doc | 7.7e+02 |       0 | 5.5e+02 | 1.0e+02 | 6.0e+01 | 3.0e+01 | 2.0e+01 | 6.0e+00 |       0 |       0 |       0 |       0 |       0 |       0 |       0 |       0 |       0 |       0 |       0 | \n",
      "| ----------- | ----------- | ------- | ------- | ------- | ------- | ------- | ------- | ------- | ------- | ------- | ------- | ------- | ------- | ------- | ------- | ------- | ------- | ------- | ------- | ------- | \n",
      "| total (cnt) |             | 3.7e+04 | 2.6e+02 | 2.3e+04 | 6.9e+03 | 3.3e+03 | 1.8e+03 | 1.0e+03 | 4.3e+02 | 2.2e+02 | 6.8e+01 | 2.0e+01 | 1.6e+01 |       0 |       0 |       0 |       0 |       0 |       0 |       0 | \n",
      "|   total (%) |             | 1.0e+00 | 6.9e-03 | 6.2e-01 | 1.8e-01 | 8.9e-02 | 4.9e-02 | 2.8e-02 | 1.2e-02 | 6.0e-03 | 1.8e-03 | 5.3e-04 | 4.3e-04 | 0.0e+00 | 0.0e+00 | 0.0e+00 | 0.0e+00 | 0.0e+00 | 0.0e+00 | 0.0e+00 | \n",
      "|   cumul (%) |             | 1.0e+00 | 6.9e-03 | 6.3e-01 | 8.1e-01 | 9.0e-01 | 9.5e-01 | 9.8e-01 | 9.9e-01 | 1.0e+00 | 1.0e+00 | 1.0e+00 | 1.0e+00 | 1.0e+00 | 1.0e+00 | 1.0e+00 | 1.0e+00 | 1.0e+00 | 1.0e+00 | 1.0e+00 | \n",
      "| ----------- | ----------- | ------- | ------- | ------- | ------- | ------- | ------- | ------- | ------- | ------- | ------- | ------- | ------- | ------- | ------- | ------- | ------- | ------- | ------- | ------- | \n",
      "\n",
      "2024-02-20 12:55:06.803 (8970.461s) [          6E06DF]               create.h:144   INFO| done creating glm!\n",
      "2024-02-20 12:55:06.803 (8970.461s) [          6E06DF]                 save.h:145   INFO| writing started ...\n",
      "2024-02-20 12:55:06.803 (8970.461s) [          6E06DF]                 save.h:155   INFO| writing ./glm/parameters.json\n",
      "2024-02-20 12:55:06.803 (8970.461s) [          6E06DF]                 save.h:165   INFO| writing ./glm/topology.json\n",
      "2024-02-20 12:55:06.806 (8970.464s) [          6E06DF]                 save.h:171   INFO| writing ./glm/topology.txt\n",
      "2024-02-20 12:55:06.807 (8970.465s) [          6E06DF]                nodes.h:329   INFO| sort\n",
      "2024-02-20 12:55:06.807 (8970.466s) [          6E06DF]                 save.h:182   INFO| writing ./glm/nodes.bin\n",
      "2024-02-20 12:55:06.810 (8970.468s) [          6E06DF]                 save.h:208   INFO| writing ./glm/edges.bin\n",
      "2024-02-20 12:55:06.817 (8970.475s) [          6E06DF]                 save.h:283   INFO| writing CSV started ...\n",
      "2024-02-20 12:55:06.817 (8970.475s) [          6E06DF]                 save.h:292   INFO| writing ./glm/nodes.csv\n",
      "2024-02-20 12:55:06.846 (8970.504s) [          6E06DF]                 save.h:324   INFO| writing ./glm/edges.csv\n",
      "2024-02-20 12:55:06.900 (8970.558s) [          6E06DF]                 save.h:365   INFO| writing done!\n"
     ]
    }
   ],
   "source": [
    "ifile = \"./converted_docs/20140197356.json\"\n",
    "\n",
    "odir = \"./glm\"\n",
    "os.makedirs(odir, exist_ok=True)\n",
    "\n",
    "model_names = \"spm;term\"\n",
    "json_files = [ifile]\n",
    "\n",
    "odir, glm = create_glm_from_docs(odir, json_files, model_names)"
   ]
  },
  {
   "cell_type": "code",
   "execution_count": 45,
   "id": "175550c9-8b1e-4b02-8069-6c36aceafd99",
   "metadata": {},
   "outputs": [
    {
     "name": "stdout",
     "output_type": "stream",
     "text": [
      "      total-count          nodes-text\n",
      "2590           30         composition\n",
      "2591           29           invention\n",
      "2592           27           substrate\n",
      "2593           24                 ppm\n",
      "2594           19        compositions\n",
      "...           ...                 ...\n",
      "3403            0    Suitable polymer\n",
      "3404            0                film\n",
      "3405            0              › tion\n",
      "3406            0  insulator material\n",
      "3407            0                   A\n",
      "\n",
      "[818 rows x 2 columns]\n",
      "   weight    prob   cumul                   text  count\n",
      "0  0.5625  0.5625  0.5625        CMP composition      9\n",
      "1  0.3750  0.3750  0.9375  polishing composition      6\n",
      "2  0.0625  0.0625  1.0000   abrasive composition      1\n"
     ]
    }
   ],
   "source": [
    "nodes = read_nodes_in_dataframe(\"./glm/nodes.csv\")\n",
    "#print(nodes)\n",
    "\n",
    "# Get all terms of the document\n",
    "terms = nodes[nodes[\"name\"]==\"term\"][[\"total-count\", \"nodes-text\"]]\n",
    "print(terms)\n",
    "\n",
    "# Get all terms of the document with `composition`\n",
    "res = expand_terms(glm, \"composition\")\n",
    "#show_query_result(res)\n",
    "\n",
    "last_result = res[\"result\"][-1][\"nodes\"]\n",
    "expanded_terms = pd.DataFrame(last_result[\"data\"], columns=last_result[\"headers\"])\n",
    "\n",
    "expanded_terms = expanded_terms[[\"weight\", \"prob\", \"cumul\", \"text\", \"count\"]]\n",
    "print(expanded_terms)"
   ]
  },
  {
   "cell_type": "code",
   "execution_count": null,
   "id": "01771757-70c3-44cb-824c-1fd9b716a99f",
   "metadata": {},
   "outputs": [],
   "source": []
  }
 ],
 "metadata": {
  "kernelspec": {
   "display_name": "Python 3 (ipykernel)",
   "language": "python",
   "name": "python3"
  },
  "language_info": {
   "codemirror_mode": {
    "name": "ipython",
    "version": 3
   },
   "file_extension": ".py",
   "mimetype": "text/x-python",
   "name": "python",
   "nbconvert_exporter": "python",
   "pygments_lexer": "ipython3",
   "version": "3.9.18"
  },
  "toc": {
   "base_numbering": 1,
   "nav_menu": {},
   "number_sections": true,
   "sideBar": true,
   "skip_h1_title": false,
   "title_cell": "Table of Contents",
   "title_sidebar": "Contents",
   "toc_cell": false,
   "toc_position": {},
   "toc_section_display": true,
   "toc_window_display": false
  },
  "vscode": {
   "interpreter": {
    "hash": "23663f76e1e243f0a6319b8ef58f504b6b45c83666dfefd3138ba8cf69ab01fa"
   }
  }
 },
 "nbformat": 4,
 "nbformat_minor": 5
}
