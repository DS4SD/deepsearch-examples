{
 "cells": [
  {
   "cell_type": "markdown",
   "id": "37d96e78",
   "metadata": {},
   "source": [
    "# Document Conversion - Quick start"
   ]
  },
  {
   "cell_type": "markdown",
   "id": "4edb626f",
   "metadata": {},
   "source": [
    "## Getting started\n",
    "\n",
    "The [Deep Search Toolkit](https://ds4sd.github.io/deepsearch-toolkit/) allows document conversion with the following few lines of code. It's that simple! For more info or step-by-step guide:\n",
    "- Visit https://ds4sd.github.io/deepsearch-toolkit/guide/convert_doc/\n",
    "- Follow this example notebook"
   ]
  },
  {
   "cell_type": "markdown",
   "id": "a8f9c441",
   "metadata": {},
   "source": [
    "### Set notebook parameters"
   ]
  },
  {
   "cell_type": "code",
   "execution_count": 44,
   "id": "b01a4fd1",
   "metadata": {},
   "outputs": [
    {
     "name": "stdin",
     "output_type": "stream",
     "text": [
      "Project key:  1234567890abcdefghijklmnopqrstvwyz123456\n"
     ]
    }
   ],
   "source": [
    "from dsnotebooks.settings import ProjectNotebookSettings\n",
    "\n",
    "# notebook settings auto-loaded from .env / env vars\n",
    "notebook_settings = ProjectNotebookSettings()\n",
    "\n",
    "PROFILE_NAME = notebook_settings.profile  # the profile to use\n",
    "PROJ_KEY = notebook_settings.proj_key     # the project to use\n",
    "\n",
    "# default project_key = 1234567890abcdefghijklmnopqrstvwyz123456"
   ]
  },
  {
   "cell_type": "markdown",
   "id": "239dc0f1",
   "metadata": {},
   "source": [
    "### Import example dependencies"
   ]
  },
  {
   "cell_type": "code",
   "execution_count": 45,
   "id": "502cdef8",
   "metadata": {
    "ExecuteTime": {
     "end_time": "2022-08-02T12:14:25.377422Z",
     "start_time": "2022-08-02T12:14:25.152485Z"
    }
   },
   "outputs": [],
   "source": [
    "import os\n",
    "import json\n",
    "\n",
    "import pandas as pd\n",
    "\n",
    "import deepsearch as ds\n",
    "\n",
    "from pathlib import Path\n",
    "from zipfile import ZipFile\n",
    "\n",
    "from deepsearch.documents.core.export import export_to_markdown\n",
    "from IPython.display import display, Markdown, HTML, display_html"
   ]
  },
  {
   "cell_type": "markdown",
   "id": "e6e4dcda",
   "metadata": {},
   "source": [
    "### Connect to Deep Search"
   ]
  },
  {
   "cell_type": "code",
   "execution_count": 46,
   "id": "f44fbf08",
   "metadata": {},
   "outputs": [],
   "source": [
    "api = ds.CpsApi.from_env(profile_name=PROFILE_NAME)"
   ]
  },
  {
   "cell_type": "markdown",
   "id": "6f1200c5-1138-4491-bc33-3b2d5aabe949",
   "metadata": {},
   "source": [
    "## Convert Document"
   ]
  },
  {
   "cell_type": "code",
   "execution_count": 47,
   "id": "ec83eb0b",
   "metadata": {
    "ExecuteTime": {
     "end_time": "2022-08-02T12:14:49.216045Z",
     "start_time": "2022-08-02T12:14:25.380757Z"
    }
   },
   "outputs": [
    {
     "name": "stderr",
     "output_type": "stream",
     "text": [
      "Processing input:     : 100%|\u001b[38;2;15;98;254m██████████████████████████████\u001b[0m| 1/1 [00:00<00:00, 126.92it/s]\u001b[38;2;15;98;254m                                                                                                                                                           \u001b[0m\n",
      "Submitting input:     : 100%|\u001b[38;2;15;98;254m██████████████████████████████\u001b[0m| 1/1 [00:03<00:00,  3.65s/it]\u001b[38;2;15;98;254m                                                                                                                                                            \u001b[0m\n",
      "Converting input:     : 100%|\u001b[38;2;15;98;254m██████████████████████████████\u001b[0m| 1/1 [00:14<00:00, 14.24s/it]\u001b[38;2;15;98;254m                                                                                                                                                            \u001b[0m\n"
     ]
    },
    {
     "name": "stdout",
     "output_type": "stream",
     "text": [
      "{'Total documents': 1, 'Successfully converted documents': 1}\n"
     ]
    }
   ],
   "source": [
    "output_dir = Path(\"./converted_docs\")\n",
    "\n",
    "fname = \"20140197356.pdf\"\n",
    "\n",
    "documents = ds.convert_documents(\n",
    "    api=api,\n",
    "    proj_key=PROJ_KEY,\n",
    "    source_path=f\"../../data/samples/{fname}\",\n",
    "    progress_bar=True\n",
    ")           \n",
    "documents.download_all(result_dir=output_dir)\n",
    "info = documents.generate_report(result_dir=output_dir)\n",
    "print(info) "
   ]
  },
  {
   "cell_type": "code",
   "execution_count": 48,
   "id": "382c4869-cca9-43fc-8052-c0ab7e9c175d",
   "metadata": {},
   "outputs": [
    {
     "name": "stdout",
     "output_type": "stream",
     "text": [
      "writing converted_docs/20140197356.json\n",
      "writing converted_docs/20140197356.md\n"
     ]
    }
   ],
   "source": [
    "# Iterare output files and visualize the output\n",
    "for output_file in output_dir.rglob(\"json*.zip\"):\n",
    "    with ZipFile(output_file) as archive:\n",
    "        all_files = archive.namelist()\n",
    "        for name in all_files:\n",
    "            if not name.endswith(\".json\"):\n",
    "                continue\n",
    "            \n",
    "            #basename = name.rstrip('.json')\n",
    "            doc_json = json.loads(archive.read(name))\n",
    "            \n",
    "            ofile = output_dir / name\n",
    "            print(f\"writing {ofile}\")\n",
    "            with ofile.open(\"w\") as fw:\n",
    "                fw.write(json.dumps(doc_json, indent=2))\n",
    "                \n",
    "            doc_md = export_to_markdown(doc_json)\n",
    "\n",
    "            ofile = output_dir / name.replace(\".json\", \".md\")\n",
    "            print(f\"writing {ofile}\")\n",
    "            with ofile.open(\"w\") as fw:\n",
    "                fw.write(doc_md)\n",
    "\n",
    "            "
   ]
  },
  {
   "cell_type": "code",
   "execution_count": 49,
   "id": "b19f7678-b650-484b-a994-150d0c4ec3a2",
   "metadata": {},
   "outputs": [],
   "source": [
    "# display last document\n",
    "# display(Markdown(doc_md))"
   ]
  },
  {
   "cell_type": "markdown",
   "id": "6784c8a9-4b96-4385-a04e-40ddbf6c613f",
   "metadata": {},
   "source": [
    "## Analyse Document with NLP"
   ]
  },
  {
   "cell_type": "markdown",
   "id": "b574c77b-58a5-4259-b8e9-03ce7129c3bf",
   "metadata": {},
   "source": [
    "### term counting"
   ]
  },
  {
   "cell_type": "code",
   "execution_count": 50,
   "id": "1c995060-aee3-4b6c-ba8b-dce6288e44dd",
   "metadata": {},
   "outputs": [
    {
     "name": "stdout",
     "output_type": "stream",
     "text": [
      "                                    key  count\n",
      "0                                 METAL      8\n",
      "1                                COPPER      2\n",
      "2                                COBALT      0\n",
      "3                              TUNGSTEN     10\n",
      "4                            MOLYBDENUM      0\n",
      "5                             RUTHENIUM      0\n",
      "6                Self-assembly material      0\n",
      "7         Self-assembly molecular layer      0\n",
      "8                  surface modification      0\n",
      "9                             inhibitor      2\n",
      "10                  corrosion inhibitor      2\n",
      "11                           adsorption      0\n",
      "12                          selectivity      1\n",
      "13                       Anti-corrosion      0\n",
      "14                        contact angle      0\n",
      "15            Area selective deposition      0\n",
      "16  Advanced interconnect metallization      0\n",
      "17                  Integrated circuits      2\n",
      "18              Atomic layer deposition      0\n"
     ]
    }
   ],
   "source": [
    "ifile = \"./converted_docs/20140197356.json\"\n",
    "\n",
    "with open(ifile) as fr:\n",
    "    doc = json.load(fr)\n",
    "\n",
    "terms = [\"METAL\",\n",
    "         \"COPPER\",\n",
    "         \"COBALT\",\n",
    "         \"TUNGSTEN\",\n",
    "         \"MOLYBDENUM\",\n",
    "         \"RUTHENIUM\",\n",
    "         \"Self-assembly material\", \n",
    "         \"Self-assembly molecular layer\",\n",
    "         \"surface modification\", \n",
    "         \"inhibitor\", \n",
    "         \"corrosion inhibitor\", \n",
    "         \"adsorption\", \"selectivity\", \n",
    "         \"Anti-corrosion\", \n",
    "         \"contact angle\",\n",
    "         \"Area selective deposition\",\n",
    "         \"Advanced interconnect metallization\",\n",
    "         \"Integrated circuits\",\n",
    "         \"Atomic layer deposition\"]\n",
    "\n",
    "term_hist = [ {\"key\":term, \"count\":0} for term in terms]\n",
    "\n",
    "for i,item in enumerate(doc[\"main-text\"]):\n",
    "\n",
    "    if \"text\" not in item:\n",
    "        continue\n",
    "    \n",
    "    for j,term in enumerate(terms):\n",
    "        term_hist[j][\"count\"] += item[\"text\"].count(term.lower())\n",
    "\n",
    "df = pd.DataFrame(term_hist)\n",
    "print(df)"
   ]
  },
  {
   "cell_type": "markdown",
   "id": "996f3ff4-c444-499e-ae40-53f9833bb5ff",
   "metadata": {},
   "source": [
    "### term analysis"
   ]
  },
  {
   "cell_type": "code",
   "execution_count": 43,
   "id": "ed3612b4-bbd2-42d0-ba2d-f8f994565380",
   "metadata": {},
   "outputs": [],
   "source": [
    "ifile = \"./converted_docs/20140197356.json\"\n",
    "\n",
    "with open(ifile) as fr:\n",
    "    doc = json.load(fr)\n",
    "\n",
    "\n",
    "\n"
   ]
  },
  {
   "cell_type": "code",
   "execution_count": null,
   "id": "665335e2-4a10-44ca-af15-0e4b9f8d031e",
   "metadata": {},
   "outputs": [],
   "source": []
  },
  {
   "cell_type": "code",
   "execution_count": null,
   "id": "175550c9-8b1e-4b02-8069-6c36aceafd99",
   "metadata": {},
   "outputs": [],
   "source": []
  }
 ],
 "metadata": {
  "kernelspec": {
   "display_name": "Python 3 (ipykernel)",
   "language": "python",
   "name": "python3"
  },
  "language_info": {
   "codemirror_mode": {
    "name": "ipython",
    "version": 3
   },
   "file_extension": ".py",
   "mimetype": "text/x-python",
   "name": "python",
   "nbconvert_exporter": "python",
   "pygments_lexer": "ipython3",
   "version": "3.9.18"
  },
  "toc": {
   "base_numbering": 1,
   "nav_menu": {},
   "number_sections": true,
   "sideBar": true,
   "skip_h1_title": false,
   "title_cell": "Table of Contents",
   "title_sidebar": "Contents",
   "toc_cell": false,
   "toc_position": {},
   "toc_section_display": true,
   "toc_window_display": false
  },
  "vscode": {
   "interpreter": {
    "hash": "23663f76e1e243f0a6319b8ef58f504b6b45c83666dfefd3138ba8cf69ab01fa"
   }
  }
 },
 "nbformat": 4,
 "nbformat_minor": 5
}
