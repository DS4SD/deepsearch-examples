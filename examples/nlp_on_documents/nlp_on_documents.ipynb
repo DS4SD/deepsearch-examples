{
 "cells": [
  {
   "cell_type": "markdown",
   "id": "37d96e78",
   "metadata": {},
   "source": [
    "# Document Conversion - Quick start"
   ]
  },
  {
   "cell_type": "markdown",
   "id": "4edb626f",
   "metadata": {},
   "source": [
    "## Getting started\n",
    "\n",
    "The [Deep Search Toolkit](https://ds4sd.github.io/deepsearch-toolkit/) allows document conversion with the following few lines of code. It's that simple! For more info or step-by-step guide:\n",
    "- Visit https://ds4sd.github.io/deepsearch-toolkit/guide/convert_doc/\n",
    "- Follow this example notebook"
   ]
  },
  {
   "cell_type": "markdown",
   "id": "a8f9c441",
   "metadata": {},
   "source": [
    "### Set notebook parameters"
   ]
  },
  {
   "cell_type": "code",
   "execution_count": 9,
   "id": "b01a4fd1",
   "metadata": {},
   "outputs": [
    {
     "name": "stdin",
     "output_type": "stream",
     "text": [
      "Project key:  1234567890abcdefghijklmnopqrstvwyz123456\n"
     ]
    }
   ],
   "source": [
    "from dsnotebooks.settings import ProjectNotebookSettings\n",
    "\n",
    "# notebook settings auto-loaded from .env / env vars\n",
    "notebook_settings = ProjectNotebookSettings()\n",
    "\n",
    "PROFILE_NAME = notebook_settings.profile  # the profile to use\n",
    "PROJ_KEY = notebook_settings.proj_key     # the project to use\n",
    "\n",
    "# default project_key = 1234567890abcdefghijklmnopqrstvwyz123456"
   ]
  },
  {
   "cell_type": "markdown",
   "id": "239dc0f1",
   "metadata": {},
   "source": [
    "### Import example dependencies"
   ]
  },
  {
   "cell_type": "code",
   "execution_count": 25,
   "id": "502cdef8",
   "metadata": {
    "ExecuteTime": {
     "end_time": "2022-08-02T12:14:25.377422Z",
     "start_time": "2022-08-02T12:14:25.152485Z"
    }
   },
   "outputs": [],
   "source": [
    "import os\n",
    "import json\n",
    "\n",
    "import pandas as pd\n",
    "\n",
    "import deepsearch as ds\n",
    "\n",
    "from pathlib import Path\n",
    "from zipfile import ZipFile\n",
    "\n",
    "from deepsearch.documents.core.export import export_to_markdown\n",
    "from IPython.display import display, Markdown, HTML, display_html"
   ]
  },
  {
   "cell_type": "markdown",
   "id": "e6e4dcda",
   "metadata": {},
   "source": [
    "### Connect to Deep Search"
   ]
  },
  {
   "cell_type": "code",
   "execution_count": 11,
   "id": "f44fbf08",
   "metadata": {},
   "outputs": [],
   "source": [
    "api = ds.CpsApi.from_env(profile_name=PROFILE_NAME)"
   ]
  },
  {
   "cell_type": "markdown",
   "id": "6f1200c5-1138-4491-bc33-3b2d5aabe949",
   "metadata": {},
   "source": [
    "## Convert Document"
   ]
  },
  {
   "cell_type": "code",
   "execution_count": 37,
   "id": "ec83eb0b",
   "metadata": {
    "ExecuteTime": {
     "end_time": "2022-08-02T12:14:49.216045Z",
     "start_time": "2022-08-02T12:14:25.380757Z"
    }
   },
   "outputs": [
    {
     "name": "stderr",
     "output_type": "stream",
     "text": [
      "Processing input:     : 100%|\u001b[38;2;15;98;254m██████████████████████████████\u001b[0m| 1/1 [00:00<00:00, 187.72it/s]\u001b[38;2;15;98;254m                                                                                                                                                           \u001b[0m\n",
      "Submitting input:     : 100%|\u001b[38;2;15;98;254m██████████████████████████████\u001b[0m| 1/1 [00:00<00:00,  1.02it/s]\u001b[38;2;15;98;254m                                                                                                                                                            \u001b[0m\n",
      "Converting input:     : 100%|\u001b[38;2;15;98;254m██████████████████████████████\u001b[0m| 1/1 [00:13<00:00, 13.08s/it]\u001b[38;2;15;98;254m                                                                                                                                                            \u001b[0m\n"
     ]
    },
    {
     "name": "stdout",
     "output_type": "stream",
     "text": [
      "{'Total documents': 1, 'Successfully converted documents': 1}\n"
     ]
    }
   ],
   "source": [
    "output_dir = Path(\"./converted_docs\")\n",
    "\n",
    "fname = \"20140197356.pdf\"\n",
    "\n",
    "documents = ds.convert_documents(\n",
    "    api=api,\n",
    "    proj_key=PROJ_KEY,\n",
    "    source_path=f\"../../data/samples/{fname}\",\n",
    "    progress_bar=True\n",
    ")           \n",
    "documents.download_all(result_dir=output_dir)\n",
    "info = documents.generate_report(result_dir=output_dir)\n",
    "print(info) "
   ]
  },
  {
   "cell_type": "code",
   "execution_count": 38,
   "id": "382c4869-cca9-43fc-8052-c0ab7e9c175d",
   "metadata": {},
   "outputs": [
    {
     "name": "stdout",
     "output_type": "stream",
     "text": [
      "writing converted_docs/20140197356.json\n",
      "writing converted_docs/20140197356.md\n"
     ]
    }
   ],
   "source": [
    "# Iterare output files and visualize the output\n",
    "for output_file in output_dir.rglob(\"json*.zip\"):\n",
    "    with ZipFile(output_file) as archive:\n",
    "        all_files = archive.namelist()\n",
    "        for name in all_files:\n",
    "            if not name.endswith(\".json\"):\n",
    "                continue\n",
    "            \n",
    "            #basename = name.rstrip('.json')\n",
    "            doc_json = json.loads(archive.read(name))\n",
    "            \n",
    "            ofile = output_dir / name\n",
    "            print(f\"writing {ofile}\")\n",
    "            with ofile.open(\"w\") as fw:\n",
    "                fw.write(json.dumps(doc_json, indent=2))\n",
    "                \n",
    "            doc_md = export_to_markdown(doc_json)\n",
    "\n",
    "            ofile = output_dir / name.replace(\".json\", \".md\")\n",
    "            print(f\"writing {ofile}\")\n",
    "            with ofile.open(\"w\") as fw:\n",
    "                fw.write(doc_md)\n",
    "\n",
    "            "
   ]
  },
  {
   "cell_type": "code",
   "execution_count": 40,
   "id": "b19f7678-b650-484b-a994-150d0c4ec3a2",
   "metadata": {},
   "outputs": [
    {
     "data": {
      "text/markdown": [
       "c19) United States\n",
       "\n",
       "c12) Patent Application Publication MOEGGENBORG et al.\n",
       "\n",
       "(54) CMP COMPOSITIONS AND METHODS FOR SUPPRESSING POLYSILICON REMOVAL RATES\n",
       "\n",
       "(71) Applicant: Cabot Microelectronics Corporation, Aurora, IL (US)\n",
       "\n",
       "(72) Inventors: Kevin MOEGGENBORG, Midland, MI (US); William Ward, Glen Ellyn, IL (US); Ming-Shih Tsai, Hsin Chu (TW); Francesco De Rege Thesauro, Acton, MA(US)\n",
       "\n",
       "(21) Appl. No.: 14/217,535\n",
       "\n",
       "(22) Filed: Mar. 18, 2014\n",
       "\n",
       "## Related U.S. Application Data\n",
       "\n",
       "(62) Division of application No. 13/379,911, filed on Dec. 21, 2011, now Pat. No. 8,691,695.\n",
       "\n",
       "US 20140197356Al\n",
       "\n",
       "c10) Pub. No.: US 2014/0197356 Al\n",
       "\n",
       "(43) Pub. Date:\n",
       "\n",
       "Jul. 17, 2014\n",
       "\n",
       "## Publication Classification\n",
       "\n",
       "(51) Int. Cl. C09Gl/02 (2006.01)\n",
       "\n",
       "(52) U.S. Cl. CPC........................................ C09G 1102 (2013.01) USPC......................................................... 252/79.1\n",
       "\n",
       "(57) ABSTRACT\n",
       "\n",
       "The present invention provides a chemical-mechanical pol› ishing (CMP) composition suitable for polishing a silicon nitride-containing substrate while suppressing polysilicon removal from the substrate. The composition comprises abra› sive particles suspended in an acidic aqueous carrier contain› ing a surfactant comprising an alkyne-diol, an alkyne dial ethoxylate, or a combination thereof. Methods of polishing a semiconductor substrate therewith are also disclosed.\n",
       "\n",
       "SURFYNOLfi 104\n",
       "\n",
       "SURFYNOLfi 61\n",
       "\n",
       "SURFYNOLfi 104\n",
       "\n",
       "FIG. 1\n",
       "\n",
       "SURFYNOLfi 61\n",
       "\n",
       "FIG. 2\n",
       "\n",
       "FIG, 3\n",
       "\n",
       "FIG. 4\n",
       "\n",
       "## CMP COMPOSITIONS AND METHODS FOR SUPPRESSING POLYSILICON REMOVAL RATES\n",
       "\n",
       "## FIELD OF THE INVENTION\n",
       "\n",
       "[0001] This invention relates to chemical-mechanical pol› ishing (CMP) compositions and methods. More particularly, this invention relates to methods for polishing semiconductor substrates while suppressing polysilicon removal from the substrates\n",
       "\n",
       "## BACKGROUND OF THE INVENTION\n",
       "\n",
       "[0002] Compositions and methods for chemical-mechani› cal polishing of the surface of a substrate are well known in the art. Polishing compositions (also known as polishing slur› ries, CMP slurries, and CMP compositions) for CMP of sur› faces of semiconductor substrates (e.g., integrated circuits) typically contain an abrasive, various additive compounds, and the like.\n",
       "\n",
       "[0003] In general, CMP involves the concurrent chemical and mechanical abrasion of surface, e.g., abrasion of an over› lying first layer to expose the surface of a non-planar second layer on which the first layer is formed. One such process is described in U.S. Pat. No. 4,789,648 to Beyer et al. Briefly, Beyer et al., discloses a CMP process using a polishing pad and a slurry to remove a first layer at a faster rate than a second layer until the surface of the overlying first layer of material becomes coplanar with the upper surface of the covered sec› ond layer. More detailed explanations of chemical mechani› cal polishing are found in U.S. Pat. No. 4,671,85 No. 4,910, 155 and No. 4,944,836.\n",
       "\n",
       "[0004] In conventional CMP techniques, a substrate carrier or polishing head is mounted on a carrier assembly and posi› tioned in contact with a polishing pad in a CMP apparatus. The carrier assembly provides a controllable pressure to the substrate, urging the substrate against the polishing pad. The pad and carrier, with its attached substrate, are moved relative to one another. The relative movement of the pad and sub› strate serves to abrade the surface of the substrate to remove a portion of the material from the substrate surface, thereby polishing the substrate. The polishing of the substrate surface typically is further aided by the chemical activity of the pol› ishing composition (e.g., by oxidizing agents, acids, bases, or other additives present in the CMP composition) and/or the mechanical activity of an abrasive suspended in the polishing composition. Typical abrasive materials include silicon diox› ide, cerium oxide, aluminum oxide, zirconium oxide, and tin oxide.\n",
       "\n",
       "[0005] U.S. Pat. No. 5,527,423 to Neville, et al., for example, describes a method for chemically-mechanically polishing a metal layer by contacting the surface of the metal layer with a polishing slurry comprising high purity fine metal oxide particles suspended in an aqueous medium. Alternatively, the abrasive material may be incorporated into the polishing pad. U.S. Pat. No. 5,489,233 to Cook et al. discloses the use of polishing pads having a surface texture or pattern, and U.S. Pat. No. 5,958,794 to Bruxvoort et al. dis› closes a fixed abrasive polishing pad.\n",
       "\n",
       "[0006] A semiconductor wafer typically includes a sub› strate, such as silicon or gallium arsenide, on which a plurality of transistors has been formed. Transistors are chemically and physically connected to the substrate by patterning regions in the substrate and layers on the substrate. The transistors and\n",
       "\n",
       "layers are separated by interlevel dielectrics (ILDs), com› prised primarily of some form of silicon oxide (SiO 2). The transistors are interconnected through the use of well-known multilevel interconnects. Typical multilevel interconnects are comprised of stacked thin-films consisting of one or more of the following materials: titanium (Ti), titanium nitride (TiN), tantalum (Ta), aluminum-copper (Al--Cu), aluminum-sili› con (Al-Si), copper (Cu), tungsten (W), doped polysilicon (poly-Si), and various combinations thereof. In addition, tran› sistors or groups of transistors are isolated from one another, often through the use of trenches filled with an insulating material such as silicon dioxide, silicon nitride, and/or poly› silicon.\n",
       "\n",
       "[0007] The traditional technique for forming interconnects has been improved by the method disclosed in U.S. Pat. No. 4,789,648 to Chow et al., which relates to a method for producing coplanar multilevel metal/insulator films on a sub› strate. This technique, which has gained wide interest and produces multilevel interconnects, uses chemical mechanical polishing to planarize the surface of the metal layers or thin› films during the various stages of device fabrication.\n",
       "\n",
       "[0008] Although many of the known CMP slurry composi› tions are suitable for limited purposes, the conventional tend to exhibit unacceptable polishing rates and corresponding selectivity levels to insulator materials used in wafer manu› facture. In addition, known polishing slurries tend to produce poor film removal traits for the underlying films or produce deleterious film-corrosion, which leads to poor manufactur› ing yields.\n",
       "\n",
       "[0009] Co-owned U.S. patent application Ser. No. 11/374, 238 to Chen et al. describes novel polishing compositions having a pH of about 1 to about 6 including an abrasive in combination with certain acidic components (e.g., combina› tions ofmalonic acid and an aminocarboxylic acid; stannate salts; uric acid; phenylacetic acid; or combinations of mal› onic acid, an aminocarboxylic acid, and sulfate) to polish silicon nitride substrates.\n",
       "\n",
       "[0010] Co-owned U.S. patent application Ser. No. 11/448, 205 to Dysard et al. describes novel polishing compositions having an acidic pH and including at least one additive having a pKa in the range of about 1 to 4.5 to polish silicon nitride substrates.\n",
       "\n",
       "[0011] As the technology for integrated circuit devices advances, traditional materials are being used in new and different ways to achieve the level of performance needed for advanced integrated circuits. In particular, silicon nitride, silicon oxide, and polysilicon are being used in various com› binations to achieved new and ever more complex device configurations. In general, the structural complexity and per› formance characteristics vary across different applications. In some cases, conditions suitable for effective removal of one component of a substrate, such as silicon nitride, can unde› sirably lead to over-removal of another component, such as polysilicon.\n",
       "\n",
       "[0012] Accordingly, there is a continuing need for CMP compositions and methods to achieve acceptable removal rates of silicon nitride, silicon oxide or tungsten for many IC device applications, while suppressing polysilicon removal. The present invention provides such improved polishing methods and compositions. These and other advantages of the invention, as well as additional inventive features, will be apparent from the description of the invention provided herein.\n",
       "\n",
       "## BRIEF SUMMARY OF THE INVENTION\n",
       "\n",
       "[0013] The present invention provides CMP compositions useful for selectively polishing a semiconductor substrate to remove a component such as a silicon nitride, silicon oxide or tungsten from the surface of the substrate while suppressing polysilicon removal. A CMP composition of the invention comprises abrasive particles suspended in an acidic aqueous carrier containing a surfactant comprising an alkyne dial and/or an alkyne dial ethoxylate (preferably an alkyne dial). In a preferred embodiment, a CMP composition of the inven› tion comprises about 0.01 to about 15 percent by weight abrasive particles suspended in an acidic aqueous carrier con› taining about 10 to about 10,000 ppm of the surfactant. In some preferred embodiments, the abrasive particles comprise colloidal silica. Preferably, the acidic aqueous carrier has a pH value of not more than about 6 (e.g., about 1 to about 4, or about 2 to about 3). The surfactant preferably is present in an amount in the range of about 20 to about 1,000 ppm. If desired, the compositions of the invention can include other additive materials such as a carboxylic acid material (e.g., malonic acid and/or glycine) and/or an organic or inorganic salt (e.g., potassium sulfate). For example, the composition can comprise about 10 to about 100,000 ppm (0.001 to about 10 percent by weight) of at least one carboxylic acid material. The CMP compositions can also include other common addi› tive materials utilized in CMP compositions, such as bio› cides, viscosity modifiers, corrosion inhibitors, chelating agents, organic polymers, other surfactants, oxidizing agents, electron transfer agents, and the like, many examples of which are well known in the CMP art.\n",
       "\n",
       "[0014] In another aspect, the present invention provides a method for polishing a substrate to remove a component such as silicon nitride, silicon oxide or tungsten in preference to polysilicon. The method comprises abrading a surface of the substrate with a CMP composition of the present invention, preferably in the presence of hydrogen peroxide. The abrad› ing can be accomplished, for example, by contacting a surface of the substrate with a polishing pad and the CMP composi› tion, and causing relative motion between the polishing pad and the substrate while maintaining a portion of the CMP composition in contact with the surface between the pad and the substrate for a time period sufficient to abrade silicon nitride from the surface.\n",
       "\n",
       "[0015] The CMP compositions of the present invention provide effective removal rates of silicon nitride, silicon oxide or tungsten while unexpectedly suppressing polysili› con removal in comparison to the results obtained with sub› stantially the same formulation in the absence of the alkyne dial or alkyne dial ethoxylate surfactant.\n",
       "\n",
       "## BRIEF DESCRIPTION OF THE DRAWINGS\n",
       "\n",
       "[0016] FIG. 1 illustrates the structures of two alkyne dial surfactants useful in the compositions and methods of the present invention along with the structure of a comparative alkyne monoalcohol surfactant.\n",
       "\n",
       "[0017] FIG. 2 shows a plot of polysilicon removal versus surfactant concentration obtained by polishing polysilicon blanket wafers with compositions of the present invention.\n",
       "\n",
       "[0018] FIG. 3 shows a bar graph ofremoval rates forTEOS› SiO$_{2 }$ (TS), silicon nitride (SN), tungsten (W), and polysilicon (PS) versus surfactant concentration obtained by polishing\n",
       "\n",
       "blanket wafers of the indicated material with a composition of the invention (Ex. D) and three comparative compositions (Ex. A, Ex. B, and Ex. C).\n",
       "\n",
       "[0019] FIG. 4 shows a bar graph of the percentage of poly› silicon removal rate suppression obtained by polishing poly› silicon blanket wafers with CMP compositions containing different surfactant materials, compared to results obtained with CMP compositions containing no alkyne dial-type sur› factant.\n",
       "\n",
       "## DETAILED DESCRIPTION OF THE INVENTION\n",
       "\n",
       "[0020] A CMP composition of the invention comprises abrasive particles suspended in an acidic aqueous carrier con› taining a surfactant comprising an alkyne-diol and/or alkyne dial ethoxylate.\n",
       "\n",
       "[0021] Preferred alkyne dial surfactants comprise an alkyne dial compound of Formula (I) or an ethoxylate thereof comprising about 1 to about 40 moles (preferably about 4 to about 30 moles) of ethyleneoxy units per mole of alkyne dial compound.\n",
       "\n",
       "Formula (I):\n",
       "\n",
       "whereineachofR $^{1 }$andR $^{2 }$is independently Hor methyl; and each of R 3 and R 4 is independently a C$_{1 }$ to C$_{22 }$ alkyl group (e.g., a linear or branched alkyl group). In some preferred embodiments R $^{1 }$and R $^{2 }$are both methyl. Preferably, at least one ofR $^{3 }$and R 4 is a branched aliphatic hydrocarbon moiety (e.g., 2-methylpropyl). As used herein, the term 'ethoxylate ' refers to a compound of Formula (I) in which one or both of the OH groups of Formula (I) is replaced by a (CH$_{2}$CH$_{2}$O) n----CH$_{2}$H$_{2}$OH group in which 'n ' is 0 or greater, and the total number of moles ofEO per mole of dial compound is the sum of (n+ 1) for each ethoxylate chain in the compound. In some preferred embodiments, the surfactant comprises an alkyne dial compound rather than an alkyne dial ethoxylate.\n",
       "\n",
       "[0022] FIG. 1 illustrates two examples of commercial SURFYNOLfi brand alkyne dial surfactants of Formula (I) useful in the compositions and method of the present inven› tion, i.e., 2,4,7,9-tetramethyldec-5-yne-4,7-diol (SUR› FYNOLfi 104) and 2,4,7-trimethyloctadec-5-yne-4, 7-diol (SURFYNOLfi DFll0D), available from Air Products and Chemicals, Inc., as well as a comparative alkyne monoalco› hol surfactant, i.e., 3,5-dimethylhex-1-yne-3-ol (SUR› FYNOLfi 61). Another suitable alkyne dial-containing sur› factant is 2,5,8,11-tetramethyldodec-6-yne-5,8-diol (SURFYNOLfi 124). Non-limiting examples of suitable sur› factants containing an ethoxylated alkyne dial compound include SURFYNOLfi 440 (2,4, 7,9-tetratnethyldec-5-yne-4, 7-diol ethoxylated with about 3.5 moles ofEO per mole of dial). SURFYNOLfi 465 (2,4,7,9-tetramehyldec-5-yne-4,7diol ethoxylated with about 10 moles ofEO per mole of dial), SURFYNOLfi 485 (2,4,7,9-tetramethyldec-5-yne4,7-diol ethoxylated with about 30 mole ofEO per mole of dial); and DYNOLfi 604 (2,5,8,11-tetramethyldodec-6-yne-5,8-diol ethoxylated with about 4 mole of EO per mole of dial).\n",
       "\n",
       "[0023] Any suitable abrasive particles can be utilized in the CMP compositions and methods of the present invention. As\n",
       "\n",
       "used herein the terms 'abrasive ' and abrasive particles ' are used interchangeably to refer to particulate materials that are capable of abrading a surface of a substrate wafer comprising a semiconductor material and one or more other materials such as a metal, a dielectric material, and the like, such as are used in the manufacture of IC devices. Non-limiting examples of such abrasives include silicon dioxide (silica), aluminum oxide (alumina), titanium dioxide (titania), cerium oxide (ceria), zirconium oxide (zirconia), and the like. Col› loidal silica is a preferred abrasive. The abrasive preferably is present in the polishing composition at a concentration in the range of about 0.01 to about 15 percent by weight (wt%), e.g., about 0.05 to about 8 wt%, or about 0.1 to about 5 wt%. In some preferred embodiments, the abrasive comprises colloi› dal silica particles having a mean particle size in the range of about 1 nm to about 500 nm, more preferably about 10 nm to about 200 nm, as determined by laser light scattering tech› niques, which are well known in the art.\n",
       "\n",
       "[0024] The abrasive desirably is suspended in the polishing composition, more specifically in the aqueous carrier com› ponent of the polishing composition. When the abrasive is suspended in the polishing composition, it preferably is col› loidally stable. The term 'colloid ' refers to the suspension of abrasive particles in the liquid carrier. 'Colloidal stability ' refers to the maintenance of that suspension over time. In the context of this invention, an abrasive suspension is considered colloidally stable if, when the silica is placed into a 100 mL graduated cylinder and allowed to stand without agitation for a time of 2 hours, the difference between the concentration of particles in the bottom 50 mL of the graduated cylinder ([BJ in terms of g/mL) and the concentration of particles in the top 50 mL of the graduated cylinder ([T] in germs of g/mL) divided by the total concentration of particles in the abrasive composition ([C] in terms ofg/mL) is less than or equal to 0.5 (i.e., ([B]-[T])/[C]s0.5). The value of ([B]-[T])/[C] desir› ably is less than or equal to 0.3, and preferably is less than or equal to 0.1.\n",
       "\n",
       "[0025] As used herein and in the appended claims, the term 'colloidal silica ' refers to silicon dioxide that has been pre› pared by condensation polymerization of Si(OH)$_{4}$. The pre› cursor Si(OH$_{4}$) can be obtained, for example, by hydrolysis of high purity alkoxysilanes, or by acidification of aqueous sili› cate solutions. Such colloidal silica can be prepared in accor› dance with U.S. Pat. No. 5,230,833 or can be obtained as any of various commercially available products, such as the Fuso PL-1, PL-2, and PL-3 products, and the Nalco 1050, 2327, and 2329 products, as well as other similar products available from DuPont, Bayer, Applied Research, Nissan Chemical, and Clariant.\n",
       "\n",
       "[0026] The aqueous carrier preferably comprises, consists essentially of, or consists of water (e.g., deionized water) containing an acidic substance dissolved therein at a concen› tration sufficient to provide an acidic pH, preferably not more than pH 6 (e.g., a pH in the range of about 1 to about 4). The acidic substance can be an acid or a buffering material (e.g., an acid, acidic salt, or a mixture of an acid and a salt). Acids and buffering materials suitable for use in CMP compositions are well known in the art. Optionally, the aqueous carrier can include water soluble or water miscible organic materials such as alcohols, glycols, and the like.\n",
       "\n",
       "[0027] In addition, the aqueous carrier can include other functional materials commonly included in CMP composi› tions, such as carboxylic acid materials, carboxylic acid salts, inorganic salts, corrosion inhibitors, biocides, viscosity\n",
       "\n",
       "modifiers, chelating agents, and the like, many examples of which are well known in the CMP art.\n",
       "\n",
       "[0028] In some preferred embodiments, the CMP compo› sition includes a carboxylic acid material in the aqueous carrier at a concentration in the range of about 0.001 to about 10 wt.% (about 10 ppm to about 100,000 ppm e.g. about 100 to about 5,000 ppm, or about 500 to about 2,000 ppm), based on the total composition weight.\n",
       "\n",
       "[0029] Non-limiting examples of suitable carboxylic acid materials include, monocarboxylic acids (e.g., benzoic acid, phenylacetic acid, 1-naphthoic acid, 2-naphthoic acid, gly› colic acid, formic acid, lactic acid, mandelic acid, and the like), polycarboxylic acids (e.g., oxalic acid, malonic acid, succinic acid, adipic acid, tartaric acid citric acid, maleic acid, fumaric acid, aspartic acid, glutamic acid, phthalic acid, isophthalic acid, terephthalic acid, 1,2,3,4-butanetetracar› boxylic acid, itaconic acid, and the like), and amino acids such as glycine.\n",
       "\n",
       "[0030] The compositions and methods of the invention pro› vide useful silicon nitride removal rates over a wide range of pH, abrasive concentration, and surfactant concentration, while unexpectedly suppressing polysilicon removal. In some particularly preferred embodiments, the silicon nitride removal rate is about 250 Angstroms per minute (A/min) or greater when polishing a silicon nitride blanket wafer with a Epicfi Dl00 polishing pad (Cabot Microelectronics Corpo› ration, Aurora, Ill.) on as table-top CMP polisher at a down force of about 2 pounds per square inch (psi), a platen speed of about 115 revolutions per minute (rpm), a carrier speed of about 60 rpm, and a polishing slurry flow rate of about 125 milliliters per minute (mL/min), in the presence of hydrogen peroxide (about 1 wt %). Surprisingly, the polysilicon removal rate obtained by polishing a polysilicon wafer under the same conditions generally is not more than about 80% of the silicon nitride removal rate, often not more than about 70% or not more than about 60% of the silicon nitride removal rate. Typically, the polysilicon removal rate obtained with a CMP composition of the present invention will be at least about 10% lower (preferably at least about 20%, 30%, 40%, or 50% lower) than the polysilicon rate obtained with a CMP composition substantially identical to the composition of the invention, but lacking the alkyne dial or alkyne dial ethoxy› late surfactant.\n",
       "\n",
       "[0031] The polishing compositions of the invention option› ally can include one or more oxidizing agent (e.g., to oxidize a component of the semiconductor surface, such as a metal component). Oxidizing agents suitable for use in the polish› ing compositions and methods of the present invention include, without limitation hydrogen peroxide, persulfate salts (e.g., ammonium monopersulfate, ammonium dipersul› fate, potassium monopersulfate, and potassium dipersulfate), periodate salts (e.g., potassium periodate), salts thereof, and a combination of two or more of the foregoing. Preferably, the oxidizing agent is added to the composition in an amount sufficient to oxidize one or more selected metallic or semi› conductor material present in the semiconductor wafer, as is well known in the semiconductor CMP art.\n",
       "\n",
       "[0032] The polishing compositions of the invention can be prepared by any suitable technique, many of which are known to those skilled in the art. The polishing composition can be prepared in a batch or continuous process. Generally, the polishing composition can be prepared by combining the components thereof in any order. The term 'component ' as used herein includes individual ingredients (e.g., abrasive,\n",
       "\n",
       "surfactant, acids, bases, buffers, oxidizing agents, and the like), as well as any combination ofingredients. For example, the abrasive can be dispersed in water, and the surfactant and any other additive material can be added, and mixed by any method that is capable of incorporating the components into the polishing composition. Typically, an oxidizing agent, when utilized, is not added to the polishing composition until the composition is ready for use in a CMP process, for example, the oxidizing agent can be added just prior to ini› tiation of polishing. The pH can be further adjusted at any suitable time by addition of an acid or base, as needed.\n",
       "\n",
       "[0033] The polishing compositions of the present invention also can be provided as a concentrate, which is intended to be diluted with an appropriate amount of aqueous solvent (e.g., water) prior to use. In such an embodiment, the polishing composition concentrate can include the various components dispersed or dissolved in aqueous solvent in amounts such that, upon dilution of the concentrate with an appropriate amount of aqueous solvent, each component of the polishing composition will be present in the polishing composition in an amount within the appropriate range for use.\n",
       "\n",
       "[0034] The invention also provides a method of chemi› cally-mechanically polishing a silicon nitride substrate. The method comprises abrading a surface of a silicon nitride-and polysilicon-containing substrate with a polishing composi› tion of the invention as described herein.\n",
       "\n",
       "[0035] The polishing compositions of the present invention can be used to polish any suitable substrate, and is especially useful forpolishing substrates comprising silicon nitride, sili› con oxide, tungsten and polysilicon.\n",
       "\n",
       "[0036] The polishing compositions of the present invention are particularly suited for use in conjunction with a chemical› mechanical polishing apparatus. Typically, the CMP appara› tus comprises a platen, which, when in use, is in motion and has a velocity that results from orbital, linear, and/or circular motion, a polishing pad in contact adhered the platen and moving relative to the carrier when in motion, and a carrier that holds a substrate to he polished by contacting and moving relative to the surface of the polishing pad. The polishing of the substrate takes place by the substrate being placed in contact with the polishing pad and a polishing composition of the invention and then moving the polishing pad relative to the substrate, so as to abrade at least a portion of the substrate to polish the substrate.\n",
       "\n",
       "[0037] A substrate can be planarized or polished with a polishing composition of the invention using any suitable polishing pad (e.g., polishing surface). Suitable polishing pads include, for example, woven and non-woven polishing pads, grooved or non-grooved pads, porous or non-porous pads, and the like. Moreover, suitable polishing pads can comprise any suitable polymer of varying density, hardness, thickness, compressibility, ability to rebound upon compres› sion, and compression modulus. Suitable polymers include, for example, polyvinylchloride, polyvinylfluoride, nylon, fluorocarbon, polycarbonate, polyester, polyacrylate, poly› ether, polyethylene, polyamide, polyurethane, polystyrene, polypropylene, coformed products thereof, and mixtures thereof.\n",
       "\n",
       "[0038] Desirably, the CMP apparatus further comprises an in situ polishing endpoint detection system, many of which are known in the art. Techniques for inspecting and monitor› ing the polishing process by analyzing light or other radiation reflected from a surface of the workpiece are known in the art. Such methods are described, for example, in U.S. Pat. No.\n",
       "\n",
       "5,196,353 to Sandhu et al., U.S. Pat. No. 5,433,651 to Lustig et al., U.S. Pat. No. 5,949,927 to Tang, and U.S. Pat. No. 5,964,643 to Bitting et al. Desirably, the inspection or moni› toring of the progress of the polishing process with respect to a workpiece being polished enables the determination of the polishing end-point, i.e., the determination of when to termi› nate the polishing process with respect to a particular work› piece.\n",
       "\n",
       "[0039] The following examples further illustrate the inven› tion but, of course, should not be construed as in any way limiting its scope. As used herein and in the following Examples and claims, concentrations reported as parts per million (ppm) are based on the weight of the active compo› nent ofinterest divided by the weight of the composition (e.g., as milligrams of component per kilogram of composition).\n",
       "\n",
       "## EXAMPLE 1\n",
       "\n",
       "[0040] This example illustrates the effect of alkyne dial surfactant concentration on polysilicon removal rate.\n",
       "\n",
       "[0041] A number of polishing compositions comprising 0 to about 500 ppm of SURFYNOLfi 104 alkyne dial surfac› tant were used to separately chemically-mechanically polish similar polysilicon blanket wafers (1.6 inch squares). Each of the polishing compositions also contained about 4.8 wt % colloidal silica (having a mean particle size of about 40 nm) in an aqueous carrier having a pH of about 2.3, and including about 1600 ppm of glycine, about 270 ppm of malonic acid, and about 560 ppm of potassium sulfate. The polishing was performed (with about 1 wt % hydrogen peroxide added to each CMP composition) on a bench-top polisher with an Epicfi Dl00 polishing pad under the following polishing conditions: down-force of about 2 psi, platen speed of about 115 rpm, carrier speed of about 60 rpm, and a slurry feed rate of about 125 mL/min. The polysilicon removal rate versus surfactant concentration is plotted in FIG. 2.As can be seen in FIG. 2, the polysilicon removal rate was about 2,500 to about 3,000 A/min in the absence of surfactant, and dropped to a stable rate of about 1,500 A/min at a surfactant concentration in the range of about 100 ppm to 500 ppm.\n",
       "\n",
       "## EXAMPLE2\n",
       "\n",
       "[0042] This example illustrates the effectiveness of a pol› ishing composition of the invention, compared to composi› tions lacking the alkyne dial surfactant, for removal of silicon nitride (SN), TEOS-SiO$_{2 }$ (TS), tungsten (W) and polysilicon (PS).\n",
       "\n",
       "[0043] A composition of the invention comprising about 1,000 ppm ofSURFYNOLfi 104 alkyne dial surfactant about 4.8 wt% colloidal silica (having a mean particle size of about 40 nm) in an aqueous carrier having a pH of about 2.3, and including about 1600 ppm of glycine, about 270 ppm of malonic acid, and about 560 ppm of potassium sulfate, was used to separately chemically-mechanically polish blanket wafers of TEOS, silicon nitride tungsten, and polysilicon. The polishing was performed (with about 2 wt % hydrogen peroxide added to the CMP composition) on a bench-top polisher with an Epicfi D 100 polishing pad under the follow› ing polishing conditions: down-force of about 3.5 psi, platen speed of about 60 rpm, carrier speed of about 65 rpm, and a slurry feed rate of about 150 mL/min. For comparison pur› poses, wafers of the same types were polished with three comparative compositions comprising the same formulation, but lacking the alkyne dial. Ex. A included no surfactant. Ex.\n",
       "\n",
       "B utilized the same CMP composition as Ex. A, but included only 0.5 wt% hydrogen peroxide. Ex. C included about 1,000 ppm of SILWETfi L7280 non-ionic surfactant (an alkoxy› lated heptamethyltrisiloxane surfactant) in place of the alkyne dial.\n",
       "\n",
       "[0044] The observed removal rates versus surfactant con› centration are graphed in FIG. 3 for each type of wafer and each composition evaluated. As can be seen in FIG. 3, Ex. D (the composition of the invention) provided good silicon nitride, W, and TEOS removal rates comparable to Ex. A and Ex. B, but with significantly a reduced polysilicon removal rate compared to Ex A and Ex. B. In contrast, Ex. C (contain› ing SILWETfi L7280) suppressed polysilicon removal, but also significantly and undesirably suppressed silicon nitride, tungsten, and TEOS removal.\n",
       "\n",
       "## EXAMPLE3\n",
       "\n",
       "[0045] This example illustrates the effect of different sur› factants on suppression of polysilicon removal.\n",
       "\n",
       "[0046] A number of polishing compositions comprising about 1,000 ppm of various surfactants were used to sepa› rately chemically-mechanically polish similar polysilicon blanket wafers (1.6 inch squares). Each of the polishing com› positions also contained about 4.8 wt% colloidal silica (hav› ing a mean particle size of about 20 nm) in an aqueous carrier having a pH of about 2.3, and including about 1600 ppm of glycine, about 270 ppm of malonic acid, and about 560 ppm of potassium sulfate. The polishing was performed (with about 1 wt % hydrogen peroxide added to each CMP com› position) on a bench-top polisher with an Epicfi Dl00 pol› ishing pad under the following polishing conditions: down› force of about 2 psi, platen speed of about 115 rpm, carrier speed of about 60 rpm, and a slurry feed rate of about 125 mL/min. The surfactants evaluated were SURFYNOLfi 104, SURFYNOLfi 440, SURFYNOLfi 485, SURFYNOLfi 61 (comparative alkyne monoalcohol), SURFYNOLfi DFl l0D, DYNOLfi 604, and IGEPALfi CO890 (an alky› lphenol ethoxylate comparative surfactant). The percentage of polysilicon removal rate suppression obtained with each surfactant concentration is graphed in FIG. 4. The suppres› sion was determined by comparing the rate obtained with surfactant to the rate obtained in the absence of the surfactant. As can be seen in FIG. 4, polysilicon removal rate suppres› sions in the range of about 10% to about 50% or greater were obtained with the compositions of the invention, while IGEPALfi CO890 provided no suppression and SUR› FYNOLfi 61 provided less than 10% suppression.\n",
       "\n",
       "[0047] All references, including publications, patent appli› cations, and patents, cited herein are hereby incorporated by reference to the same extent as if each reference were indi› vidually and specifically indicated to be incorporated by ref› erence and were set forth in its entirety herein.\n",
       "\n",
       "[0048] The use of the terms 'a ' and 'an ' and 'the ' and similar referents in the context of describing the invention (especially in the context of the following claims) are to be construed to cover both the singular and the plural, unless otherwise indicated herein or clearly contradicted by context. The terms 'comprising, ' 'having, ' 'including, ' and 'con› taining ' are to be construed as open-ended terms (i.e., mean› ing 'including, but not limited to, ') unless otherwise noted. Recitation of ranges of values herein are merely intended to serve as a shorthand method of referring individually to each separate value falling within the range, unless otherwise indi› cated herein, and each separate value is incorporated into the\n",
       "\n",
       "specification as if it were individually recited herein. All methods described herein can be performed in any suitable order unless otherwise indicated herein or otherwise clean contradicted by context. The use of any and all examples, or exemplary language (e.g., 'such as ') provided herein, is intended merely to better illuminate the invention and does not pose a limitation on the scope of the invention unless otherwise claimed.No language in the specification should be construed as indicating any non-claimed element as essential to the practice of the invention.\n",
       "\n",
       "[0049] Preferred embodiments of this invention are described herein, including the best mode known to the inven› tors for carrying out the invention. Variations of those pre› ferred embodiments may become apparent to those of ordi› nary skill in the art upon reading the foregoing description. The inventors expect skilled artisans to employ such varia› tions as appropriate, and the inventors intend for the invention to be practiced otherwise than as specifically described herein. Accordingly, this invention includes all modifications and equivalents of the subject matter recited in the claims appended hereto as permitted by applicable law. Moreover, any combination of the above-described elements in all pos› sible variations thereof is encompassed by the invention unless otherwise indicated herein or otherwise clearly con› tradicted by context.\n",
       "\n",
       "What is claimed is:\n",
       "\n",
       "1. A chemical-mechanical polishing composition suitable for polishing a silicon nitride-containing substrate while sup› pressing polysilicon removal from the substrate, the compo› sition comprising about 0.01 to about 15 percent by weight abrasive particles suspended in an aqueous carrier containing about 10 to about 10,000 ppm of a surfactant comprising an alkyne-diol, an alkyne dial ethoxylate, or a combination thereof.\n",
       "\n",
       "2. The composition of claim 1 wherein the aqueous carrier has a pH up to about 10.\n",
       "\n",
       "3. The composition of claim 1 wherein the aqueous carrier has a pH in the range of about 1 to about 4.\n",
       "\n",
       "4. The composition of claim 1 wherein the abrasive par› ticles comprise colloidal silica.\n",
       "\n",
       "5. The composition of claim 1 further comprising about 10 to about 100,000 ppm of at least one carboxylic acid-contain› ing additive.\n",
       "\n",
       "6. The composition of claim 5 wherein the at least one carboxylic acid-containing additive comprises malonic acid, glycine, or a combination thereof.\n",
       "\n",
       "7. The composition of claim 1 wherein the surfactant is present at a concentration in the range of about 20 to about 1,000ppm.\n",
       "\n",
       "8. The composition of claim 1 wherein the surfactant com› prises an alkyne dial compound of Formula (I) and/or an ethoxylate thereof comprising about 1 to about 40 moles of ethyleneoxy units per mole of alkyne dial compound;\n",
       "\n",
       "Formula (I):\n",
       "\n",
       "wherein\n",
       "\n",
       "each ofR $^{1 }$and R 2 is independently Hor methyl; and each ofR $^{3 }$and R$^{4 }$is independently a C$_{1 }$to C$_{22 }$ alkyl group.\n",
       "\n",
       "9. The composition of claim 1 further comprising an organic or inorganic salt additive.\n",
       "\n",
       "10. The composition of claim 9 wherein the salt additive comprises potassium sulfate.\n",
       "\n",
       "*\n",
       "\n"
      ],
      "text/plain": [
       "<IPython.core.display.Markdown object>"
      ]
     },
     "metadata": {},
     "output_type": "display_data"
    }
   ],
   "source": [
    "# display last document\n",
    "# display(Markdown(doc_md))"
   ]
  },
  {
   "cell_type": "markdown",
   "id": "6784c8a9-4b96-4385-a04e-40ddbf6c613f",
   "metadata": {},
   "source": [
    "## Analyse Document with NLP"
   ]
  },
  {
   "cell_type": "markdown",
   "id": "b574c77b-58a5-4259-b8e9-03ce7129c3bf",
   "metadata": {},
   "source": [
    "### term counting"
   ]
  },
  {
   "cell_type": "code",
   "execution_count": 42,
   "id": "1c995060-aee3-4b6c-ba8b-dce6288e44dd",
   "metadata": {},
   "outputs": [
    {
     "name": "stdout",
     "output_type": "stream",
     "text": [
      "                                    key  count\n",
      "0                                 METAL      8\n",
      "1                                COPPER      2\n",
      "2                                COBALT      0\n",
      "3                              TUNGSTEN     10\n",
      "4                            MOLYBDENUM      0\n",
      "5                             RUTHENIUM      0\n",
      "6                Self-assembly material      0\n",
      "7         Self-assembly molecular layer      0\n",
      "8                  surface modification      0\n",
      "9                             inhibitor      2\n",
      "10                  corrosion inhibitor      2\n",
      "11                           adsorption      0\n",
      "12                          selectivity      1\n",
      "13                       Anti-corrosion      0\n",
      "14                        contact angle      0\n",
      "15            Area selective deposition      0\n",
      "16  Advanced interconnect metallization      0\n",
      "17                  Integrated circuits      2\n",
      "18              Atomic layer deposition      0\n"
     ]
    }
   ],
   "source": [
    "ifile = \"./converted_docs/20140197356.json\"\n",
    "\n",
    "with open(ifile) as fr:\n",
    "    doc = json.load(fr)\n",
    "\n",
    "terms = [\"METAL\",\n",
    "         \"COPPER\",\n",
    "         \"COBALT\",\n",
    "         \"TUNGSTEN\",\n",
    "         \"MOLYBDENUM\",\n",
    "         \"RUTHENIUM\",\n",
    "         \"Self-assembly material\", \n",
    "         \"Self-assembly molecular layer\",\n",
    "         \"surface modification\", \n",
    "         \"inhibitor\", \n",
    "         \"corrosion inhibitor\", \n",
    "         \"adsorption\", \"selectivity\", \n",
    "         \"Anti-corrosion\", \n",
    "         \"contact angle\",\n",
    "         \"Area selective deposition\",\n",
    "         \"Advanced interconnect metallization\",\n",
    "         \"Integrated circuits\",\n",
    "         \"Atomic layer deposition\"]\n",
    "\n",
    "term_hist = [ {\"key\":term, \"count\":0} for term in terms]\n",
    "\n",
    "for i,item in enumerate(doc[\"main-text\"]):\n",
    "\n",
    "    if \"text\" not in item:\n",
    "        continue\n",
    "    \n",
    "    for j,term in enumerate(terms):\n",
    "        term_hist[j][\"count\"] += item[\"text\"].count(term.lower())\n",
    "\n",
    "df = pd.DataFrame(term_hist)\n",
    "print(df)"
   ]
  },
  {
   "cell_type": "markdown",
   "id": "996f3ff4-c444-499e-ae40-53f9833bb5ff",
   "metadata": {},
   "source": [
    "### term analysis"
   ]
  },
  {
   "cell_type": "code",
   "execution_count": 43,
   "id": "ed3612b4-bbd2-42d0-ba2d-f8f994565380",
   "metadata": {},
   "outputs": [],
   "source": [
    "ifile = \"./converted_docs/20140197356.json\"\n",
    "\n",
    "with open(ifile) as fr:\n",
    "    doc = json.load(fr)\n",
    "\n",
    "\n",
    "\n"
   ]
  },
  {
   "cell_type": "code",
   "execution_count": null,
   "id": "665335e2-4a10-44ca-af15-0e4b9f8d031e",
   "metadata": {},
   "outputs": [],
   "source": []
  },
  {
   "cell_type": "code",
   "execution_count": null,
   "id": "175550c9-8b1e-4b02-8069-6c36aceafd99",
   "metadata": {},
   "outputs": [],
   "source": []
  }
 ],
 "metadata": {
  "kernelspec": {
   "display_name": "Python 3 (ipykernel)",
   "language": "python",
   "name": "python3"
  },
  "language_info": {
   "codemirror_mode": {
    "name": "ipython",
    "version": 3
   },
   "file_extension": ".py",
   "mimetype": "text/x-python",
   "name": "python",
   "nbconvert_exporter": "python",
   "pygments_lexer": "ipython3",
   "version": "3.9.18"
  },
  "toc": {
   "base_numbering": 1,
   "nav_menu": {},
   "number_sections": true,
   "sideBar": true,
   "skip_h1_title": false,
   "title_cell": "Table of Contents",
   "title_sidebar": "Contents",
   "toc_cell": false,
   "toc_position": {},
   "toc_section_display": true,
   "toc_window_display": false
  },
  "vscode": {
   "interpreter": {
    "hash": "23663f76e1e243f0a6319b8ef58f504b6b45c83666dfefd3138ba8cf69ab01fa"
   }
  }
 },
 "nbformat": 4,
 "nbformat_minor": 5
}
